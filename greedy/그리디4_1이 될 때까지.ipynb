{
 "cells": [
  {
   "cell_type": "code",
   "execution_count": 2,
   "metadata": {},
   "outputs": [
    {
     "name": "stdout",
     "output_type": "stream",
     "text": [
      "25 5\n",
      "2\n"
     ]
    }
   ],
   "source": [
    "n, k = map(int, input(). split())\n",
    "result = 0\n",
    "\n",
    "while n >= k:\n",
    "    while n % k != 0:\n",
    "        n -= 1\n",
    "        result += 1 \n",
    "    n //= k\n",
    "    result += 1\n",
    "    \n",
    "while n > 1:\n",
    "    n -= 1\n",
    "    result += 1\n",
    "    \n",
    "print(result)"
   ]
  },
  {
   "cell_type": "code",
   "execution_count": 6,
   "metadata": {},
   "outputs": [
    {
     "name": "stdout",
     "output_type": "stream",
     "text": [
      "25 5\n",
      "2\n"
     ]
    }
   ],
   "source": [
    "n, k = map(int, input().split())\n",
    "result = 0 \n",
    "\n",
    "while True:\n",
    "    target = (n // k) * k\n",
    "    result += (n-target)\n",
    "    n = target\n",
    "    \n",
    "    if n < k :\n",
    "        break\n",
    "    result += 1\n",
    "    n //=k\n",
    "\n",
    "result += (n-1)\n",
    "print(result)"
   ]
  }
 ],
 "metadata": {
  "kernelspec": {
   "display_name": "Python 3",
   "language": "python",
   "name": "python3"
  },
  "language_info": {
   "codemirror_mode": {
    "name": "ipython",
    "version": 3
   },
   "file_extension": ".py",
   "mimetype": "text/x-python",
   "name": "python",
   "nbconvert_exporter": "python",
   "pygments_lexer": "ipython3",
   "version": "3.7.7"
  }
 },
 "nbformat": 4,
 "nbformat_minor": 4
}
