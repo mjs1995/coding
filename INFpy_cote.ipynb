{
  "nbformat": 4,
  "nbformat_minor": 0,
  "metadata": {
    "colab": {
      "name": "py_cote.ipynb",
      "provenance": [],
      "authorship_tag": "ABX9TyPNAFuvg69CZ000EzgBARx7",
      "include_colab_link": true
    },
    "kernelspec": {
      "name": "python3",
      "display_name": "Python 3"
    },
    "language_info": {
      "name": "python"
    }
  },
  "cells": [
    {
      "cell_type": "markdown",
      "metadata": {
        "id": "view-in-github",
        "colab_type": "text"
      },
      "source": [
        "<a href=\"https://colab.research.google.com/github/mjs1995/coding/blob/main/INFpy_cote.ipynb\" target=\"_parent\"><img src=\"https://colab.research.google.com/assets/colab-badge.svg\" alt=\"Open In Colab\"/></a>"
      ]
    },
    {
      "cell_type": "markdown",
      "source": [
        "# 큰 수의 법칙 "
      ],
      "metadata": {
        "id": "Y_YVKMAijb8l"
      }
    },
    {
      "cell_type": "code",
      "source": [
        "n,m,k = 5,8,3\n",
        "data = list(map(int, input().split()))\n",
        "\n",
        "data.sort()\n",
        "first = data[-1]\n",
        "second = data[-2]\n",
        "\n",
        "result = 0\n",
        "while True:\n",
        "    for i in range(k):\n",
        "        if m == 0:\n",
        "            break\n",
        "        result += first\n",
        "        m = -1\n",
        "    if m == 0 :\n",
        "        break\n",
        "    result += second\n",
        "    m -= 1\n",
        "\n",
        "#print(result)"
      ],
      "metadata": {
        "id": "AEFpsw5lkB-E"
      },
      "execution_count": null,
      "outputs": []
    },
    {
      "cell_type": "code",
      "source": [
        "n,m,k = 5,8,3\n",
        "data = list(map(int, input().split()))\n",
        "\n",
        "data.sort()\n",
        "first = data[n-1]\n",
        "second = data[n-2]\n",
        "\n",
        "count = int(m / (k+1)) * k # 6\n",
        "count == m % (k+1)\n",
        "\n",
        "result = 0\n",
        "result += (count) * first\n",
        "result += (m - count) * second\n",
        "print(result)"
      ],
      "metadata": {
        "colab": {
          "base_uri": "https://localhost:8080/"
        },
        "id": "qAG-mgNXkw7s",
        "outputId": "d99f9c6b-78a5-4d37-f3dd-5947ab45cbfa"
      },
      "execution_count": 10,
      "outputs": [
        {
          "output_type": "stream",
          "name": "stdout",
          "text": [
            "2 4 5 4 6\n",
            "46\n"
          ]
        }
      ]
    }
  ]
}