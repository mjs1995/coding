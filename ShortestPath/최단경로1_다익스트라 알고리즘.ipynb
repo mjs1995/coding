{
 "cells": [
  {
   "cell_type": "code",
   "execution_count": null,
   "metadata": {},
   "outputs": [],
   "source": [
    "import sys\n",
    "input = sys.stdin.readline\n",
    "INF = int(1e9)\n",
    "\n",
    "n,m = map(int, input().split())\n",
    "start = int(input())\n",
    "# 각 노드 정보 담기\n",
    "graph = [[] for i in range(n + 1)]\n",
    "# 방문한 적이 있는지\n",
    "visited = [False] * (n+1)\n",
    "# 최단 거리\n",
    "dstance = [INF] * (n+1)\n",
    "\n",
    "for _ in range(m):\n",
    "    a,b,c = map(int, input().split())\n",
    "    graph[a].append((b,c))\n",
    "    \n",
    "# 방문하지 않는\n",
    "def get_smallest_node():\n",
    "    min_value = INF\n",
    "    index = 0\n",
    "    for i in range(1, n+1):\n",
    "        if distance[i] < min_value and not visited[i]:\n",
    "            min_value = distance[i]\n",
    "            index = i\n",
    "    return index\n",
    "\n",
    "def dijkstra(start):\n",
    "    distance[start] = 0\n",
    "    visited[start] = True\n",
    "    for j in graph[start]:\n",
    "        distance[j[0]] = j[1]\n",
    "        \n",
    "    for i in range(n - 1 ):\n",
    "        now = get_smallest_node()\n",
    "        visited[now] = True\n",
    "        for j in graph[now]:\n",
    "            cost = distance[[now] + j[1]]\n",
    "            if cost < distance[j[0]]:\n",
    "                distance[j[0]] = cost\n",
    "dijkstra(start)\n",
    "\n",
    "for i in range(1, n+1):\n",
    "    if distance[i] == INF:\n",
    "        print('INFINITY')\n",
    "    else:\n",
    "        print(distance[i])"
   ]
  }
 ],
 "metadata": {
  "kernelspec": {
   "display_name": "Python 3",
   "language": "python",
   "name": "python3"
  },
  "language_info": {
   "codemirror_mode": {
    "name": "ipython",
    "version": 3
   },
   "file_extension": ".py",
   "mimetype": "text/x-python",
   "name": "python",
   "nbconvert_exporter": "python",
   "pygments_lexer": "ipython3",
   "version": "3.7.9"
  }
 },
 "nbformat": 4,
 "nbformat_minor": 4
}
