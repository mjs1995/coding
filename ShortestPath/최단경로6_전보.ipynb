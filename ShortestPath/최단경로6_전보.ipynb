{
 "cells": [
  {
   "cell_type": "code",
   "execution_count": 1,
   "metadata": {},
   "outputs": [
    {
     "name": "stdout",
     "output_type": "stream",
     "text": [
      "3 2 1\n",
      "1 2 4\n",
      "1 3 2\n",
      "2 4\n"
     ]
    }
   ],
   "source": [
    "import heapq\n",
    "import sys\n",
    "\n",
    "#input = sys.stdin.readline\n",
    "INF = int(1e9)\n",
    "\n",
    "n,m,start = map(int, input().split())\n",
    "graph = [[] for i in range(n+1)]\n",
    "distance = [INF] * (n+1)\n",
    "\n",
    "for _ in range(m):\n",
    "    x,y,z = map(int, input().split())\n",
    "    graph[x].append((y,z))\n",
    "    \n",
    "def dijkstra(start):\n",
    "    q = []\n",
    "    heapq.heappush(q, (0, start))\n",
    "    distance[start] = 0\n",
    "    while q:\n",
    "        dist, now = heapq.heappop(q)\n",
    "        if distance[now] < dist:\n",
    "            continue\n",
    "        for i in graph[now]:\n",
    "            cost = dist + i[1]\n",
    "            \n",
    "            if cost < distance[i[0]]:\n",
    "                distance[i[0]] = cost\n",
    "                heapq.heappush(q, (cost, i[0]))\n",
    "\n",
    "dijkstra(start)\n",
    "\n",
    "count = 0\n",
    "max_distance = 0\n",
    "for d in distance:\n",
    "    if d != INF:\n",
    "        count += 1\n",
    "        max_distance = max(max_distance,d)\n",
    "print(count - 1 , max_distance)"
   ]
  },
  {
   "cell_type": "code",
   "execution_count": null,
   "metadata": {},
   "outputs": [],
   "source": []
  }
 ],
 "metadata": {
  "kernelspec": {
   "display_name": "Python 3",
   "language": "python",
   "name": "python3"
  },
  "language_info": {
   "codemirror_mode": {
    "name": "ipython",
    "version": 3
   },
   "file_extension": ".py",
   "mimetype": "text/x-python",
   "name": "python",
   "nbconvert_exporter": "python",
   "pygments_lexer": "ipython3",
   "version": "3.7.9"
  }
 },
 "nbformat": 4,
 "nbformat_minor": 4
}
