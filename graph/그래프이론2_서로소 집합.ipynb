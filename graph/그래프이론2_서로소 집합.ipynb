{
 "cells": [
  {
   "cell_type": "code",
   "execution_count": 2,
   "metadata": {},
   "outputs": [
    {
     "name": "stdout",
     "output_type": "stream",
     "text": [
      "3 3\n",
      "1 2\n",
      "1 3\n",
      "2 3\n",
      "사이클이 발생하였습니다.\n"
     ]
    }
   ],
   "source": [
    "def find_parent(parent, x) :\n",
    "    if parent[x] != x:\n",
    "        parent[x] = finde_parent(parent, parent[x])\n",
    "    return parent[x]\n",
    "\n",
    "def union_parent(parent, a, b):\n",
    "    a = find_parent(parent, a)\n",
    "    b = find_parent(parent, b)\n",
    "    if a < b :\n",
    "        parent[b] =a\n",
    "    else:\n",
    "        parent[a] = b\n",
    "\n",
    "v,e = map(int, input().split())\n",
    "parent = [0] * (v + 1)\n",
    "\n",
    "for i in range(1, v + 1):\n",
    "    parent[i] = i\n",
    "    \n",
    "cycle = False\n",
    "\n",
    "for i in range(e):\n",
    "    a, b = map(int ,input().split())\n",
    "    if finde_parent(parent, a ) == finde_parent(parent, b) :\n",
    "        cycle = True\n",
    "        break\n",
    "    else :\n",
    "        union_parent(parent, a, b )\n",
    "if cycle :\n",
    "    print(\"사이클이 발생하였습니다.\")\n",
    "else:\n",
    "    print(\"사이클이 발생하지 않았씁니다\")"
   ]
  }
 ],
 "metadata": {
  "kernelspec": {
   "display_name": "Python 3",
   "language": "python",
   "name": "python3"
  },
  "language_info": {
   "codemirror_mode": {
    "name": "ipython",
    "version": 3
   },
   "file_extension": ".py",
   "mimetype": "text/x-python",
   "name": "python",
   "nbconvert_exporter": "python",
   "pygments_lexer": "ipython3",
   "version": "3.7.9"
  }
 },
 "nbformat": 4,
 "nbformat_minor": 4
}
