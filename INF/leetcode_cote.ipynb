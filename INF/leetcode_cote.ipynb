{
  "nbformat": 4,
  "nbformat_minor": 0,
  "metadata": {
    "colab": {
      "provenance": [],
      "collapsed_sections": [],
      "toc_visible": true,
      "authorship_tag": "ABX9TyMinipYUQXoMsfYrrGVPufM",
      "include_colab_link": true
    },
    "kernelspec": {
      "name": "python3",
      "display_name": "Python 3"
    },
    "language_info": {
      "name": "python"
    }
  },
  "cells": [
    {
      "cell_type": "markdown",
      "metadata": {
        "id": "view-in-github",
        "colab_type": "text"
      },
      "source": [
        "<a href=\"https://colab.research.google.com/github/mjs1995/coding/blob/main/INF/leetcode_cote.ipynb\" target=\"_parent\"><img src=\"https://colab.research.google.com/assets/colab-badge.svg\" alt=\"Open In Colab\"/></a>"
      ]
    },
    {
      "cell_type": "markdown",
      "source": [
        "# 1.Two_sum"
      ],
      "metadata": {
        "id": "HjrinHo1ENz4"
      }
    },
    {
      "cell_type": "code",
      "execution_count": null,
      "metadata": {
        "id": "liSPcaxPEA_q"
      },
      "outputs": [],
      "source": [
        "class Solution(object):\n",
        "    def twoSum(self, nums, target):\n",
        "        \"\"\"\n",
        "        :type nums: List[int]\n",
        "        :type target: int\n",
        "        :rtype: List[int]\n",
        "        \"\"\"\n",
        "        for i in range(len(nums) - 1): # 0,1\n",
        "            for j in range(i+1,len(nums)): # 1,2,2\n",
        "                if nums[i] + nums[j] == target:\n",
        "                    return [i,j]"
      ]
    },
    {
      "cell_type": "markdown",
      "source": [
        "# 20. Valid Parentheses"
      ],
      "metadata": {
        "id": "qW_8BhSBHCYn"
      }
    },
    {
      "cell_type": "code",
      "source": [
        "s = \"()[]{}\""
      ],
      "metadata": {
        "id": "Qgu7cLEXEPsP"
      },
      "execution_count": null,
      "outputs": []
    },
    {
      "cell_type": "code",
      "source": [
        "array = {}\n",
        "array[\"(\"] = \")\"\n",
        "array[\"[\"] = \"]\"\n",
        "array[\"{\"] = \"}\""
      ],
      "metadata": {
        "id": "gOuE_j8YHD1M"
      },
      "execution_count": null,
      "outputs": []
    },
    {
      "cell_type": "code",
      "source": [
        "for i in range(len(s)): # 0,1,2,3,4,5\n",
        "    if i % 2 == 0:\n",
        "        if s[i+1] in array[s[i]]:\n",
        "            return True\n",
        "        else:\n",
        "            return False"
      ],
      "metadata": {
        "colab": {
          "base_uri": "https://localhost:8080/"
        },
        "id": "28_oMCEpHQ2C",
        "outputId": "cfc0fd18-4ef8-403d-b96f-3d92e5ded03a"
      },
      "execution_count": null,
      "outputs": [
        {
          "output_type": "stream",
          "name": "stdout",
          "text": [
            "0\n",
            "2\n",
            "4\n"
          ]
        }
      ]
    },
    {
      "cell_type": "code",
      "source": [
        "s = \"()[]{}\"\n",
        "array = {}\n",
        "array = {\"(\" : \")\", \"[\":\"]\",\"{\":\"}\"}"
      ],
      "metadata": {
        "id": "iDnlkO0G0voK"
      },
      "execution_count": null,
      "outputs": []
    },
    {
      "cell_type": "code",
      "source": [
        "stack = []\n",
        "for i in s:\n",
        "    if i in array.values():\n",
        "        stack.append(i)\n",
        "    elif i in array.keys():\n",
        "        if stack == [] or array[i] != stack.pop():\n",
        "            print(False)\n",
        "        else:\n",
        "            print(False)\n",
        "    print(stack == [])"
      ],
      "metadata": {
        "colab": {
          "base_uri": "https://localhost:8080/"
        },
        "id": "aZwXMcCG05d0",
        "outputId": "d75b6048-87c2-4342-a5bf-1f3d9b3a622e"
      },
      "execution_count": null,
      "outputs": [
        {
          "output_type": "stream",
          "name": "stdout",
          "text": [
            "False\n",
            "True\n",
            "False\n",
            "False\n",
            "True\n",
            "False\n",
            "False\n",
            "True\n",
            "False\n"
          ]
        }
      ]
    },
    {
      "cell_type": "code",
      "source": [
        "class Solution(object):\n",
        "    def isValid(self, s):\n",
        "        \"\"\"\n",
        "        :type s: str\n",
        "        :rtype: bool\n",
        "        \"\"\"\n",
        "        array = {\"]\":\"[\", \"}\":\"{\", \")\":\"(\"}\n",
        "        stack = []\n",
        "        for i in s:\n",
        "            if i in array.values():\n",
        "                stack.append(i)\n",
        "            elif i in array.keys():\n",
        "                if stack == [] or array[i] != stack.pop():\n",
        "                    return False\n",
        "            else:\n",
        "                return False\n",
        "        return stack == []"
      ],
      "metadata": {
        "id": "rmCQLNDozTCv"
      },
      "execution_count": null,
      "outputs": []
    },
    {
      "cell_type": "markdown",
      "source": [
        "# 21. Merge Two Sorted Lists -> @"
      ],
      "metadata": {
        "id": "SbOL7ith22_Z"
      }
    },
    {
      "cell_type": "code",
      "source": [
        "list1 = [1,2,4]\n",
        "list2 = [1,3,4]"
      ],
      "metadata": {
        "id": "5tMRCYJ31tNi"
      },
      "execution_count": null,
      "outputs": []
    },
    {
      "cell_type": "code",
      "source": [
        "for i in list1:\n",
        "    list2.append(i)\n",
        "list2.sort()"
      ],
      "metadata": {
        "id": "-TqTk3pl2-W8"
      },
      "execution_count": null,
      "outputs": []
    },
    {
      "cell_type": "code",
      "source": [
        "list2"
      ],
      "metadata": {
        "colab": {
          "base_uri": "https://localhost:8080/"
        },
        "id": "f_q_FjQ93Fq4",
        "outputId": "a2879295-5d01-4cef-ecbb-22f19c0c4673"
      },
      "execution_count": null,
      "outputs": [
        {
          "output_type": "execute_result",
          "data": {
            "text/plain": [
              "[1, 1, 2, 3, 4, 4]"
            ]
          },
          "metadata": {},
          "execution_count": 24
        }
      ]
    },
    {
      "cell_type": "markdown",
      "source": [
        "# 35. Search Insert Position"
      ],
      "metadata": {
        "id": "rA_YaP413u2a"
      }
    },
    {
      "cell_type": "code",
      "source": [
        "nums = [1,3,5,6]\n",
        "target = 2\n",
        "\n",
        "for i in range(len(nums)):\n",
        "    if nums[i] == target:\n",
        "        print(i)\n",
        "    else:\n",
        "        nums.append(target)\n",
        "        nums.sort()\n",
        "        if nums[i] == target:\n",
        "            print(i)"
      ],
      "metadata": {
        "colab": {
          "base_uri": "https://localhost:8080/"
        },
        "id": "ebNyUCiU3GQT",
        "outputId": "df7b82dc-0041-45b6-f5a2-7076108c894e"
      },
      "execution_count": null,
      "outputs": [
        {
          "output_type": "stream",
          "name": "stdout",
          "text": [
            "1\n",
            "2\n",
            "3\n"
          ]
        }
      ]
    },
    {
      "cell_type": "code",
      "source": [
        "nums = [1,3,5,6]\n",
        "target = 2\n",
        "left = 0\n",
        "right = len(nums)-1\n",
        "while left <= right:\n",
        "    mid = (left + right) // 2\n",
        "    if nums[mid] > target:\n",
        "        right = mid - 1\n",
        "    elif nums[mid] < target:\n",
        "        left = mid + 1\n",
        "    else:\n",
        "        print(mid)"
      ],
      "metadata": {
        "id": "oZmBsVSV6W-l"
      },
      "execution_count": null,
      "outputs": []
    },
    {
      "cell_type": "code",
      "source": [
        "class Solution(object):\n",
        "    def searchInsert(self, nums, target):\n",
        "        \"\"\"\n",
        "        :type nums: List[int]\n",
        "        :type target: int\n",
        "        :rtype: int\n",
        "        \"\"\"\n",
        "        left = 0\n",
        "        right = len(nums) - 1\n",
        "        while left <= right:\n",
        "            mid = (left + right) // 2\n",
        "            if nums[mid] > target:\n",
        "                right = mid - 1\n",
        "            elif nums[mid] < target:\n",
        "                left = mid + 1\n",
        "            else:\n",
        "                return mid\n",
        "        return left"
      ],
      "metadata": {
        "colab": {
          "base_uri": "https://localhost:8080/"
        },
        "id": "bg8V-U-e9XIe",
        "outputId": "6cdad059-9601-4b89-8e9b-384ae571e174"
      },
      "execution_count": null,
      "outputs": [
        {
          "output_type": "execute_result",
          "data": {
            "text/plain": [
              "0"
            ]
          },
          "metadata": {},
          "execution_count": 34
        }
      ]
    },
    {
      "cell_type": "markdown",
      "source": [
        "# 13. Roman to Integer\n"
      ],
      "metadata": {
        "id": "wB1MV6K6RBuC"
      }
    },
    {
      "cell_type": "code",
      "source": [
        "arra = {}\n",
        "array = {'I':1, 'V':5, 'X':10, 'L':50, 'C':100, 'D':500, 'M':1000}"
      ],
      "metadata": {
        "id": "_lH_TZc06Q82"
      },
      "execution_count": null,
      "outputs": []
    },
    {
      "cell_type": "code",
      "source": [
        "s = \"LVIII\"\n",
        "res = 0\n",
        "for i in s:\n",
        "    res += array[i]\n",
        "res"
      ],
      "metadata": {
        "colab": {
          "base_uri": "https://localhost:8080/"
        },
        "id": "YMuHfFASRTFO",
        "outputId": "83e5cabf-ecf7-4086-b537-343e353e6c16"
      },
      "execution_count": null,
      "outputs": [
        {
          "output_type": "execute_result",
          "data": {
            "text/plain": [
              "58"
            ]
          },
          "metadata": {},
          "execution_count": 5
        }
      ]
    },
    {
      "cell_type": "code",
      "source": [
        "array = {'I':1, 'V':5, 'X':10, 'L':50, 'C':100, 'D':500, 'M':1000}\n",
        "s = \"MCMXCIV\"\n",
        "res = 0\n",
        "for i in range(len(s)-1):\n",
        "    num = array[s[i]]\n",
        "    nextnum = array[s[i+1]]\n",
        "    if num >= nextnum:\n",
        "        res += num\n",
        "    else:\n",
        "        res -= num\n",
        "res += array[s[-1]]\n",
        "res"
      ],
      "metadata": {
        "colab": {
          "base_uri": "https://localhost:8080/"
        },
        "id": "_uhiGn9Z3FsL",
        "outputId": "85c02b42-7a7f-43a7-ed58-438d809ff9ab"
      },
      "execution_count": null,
      "outputs": [
        {
          "output_type": "execute_result",
          "data": {
            "text/plain": [
              "1994"
            ]
          },
          "metadata": {},
          "execution_count": 3
        }
      ]
    },
    {
      "cell_type": "code",
      "source": [
        "class Solution(object):\n",
        "    def romanToInt(self, s):\n",
        "        \"\"\"\n",
        "        :type s: str\n",
        "        :rtype: int\n",
        "        \"\"\"\n",
        "        arra = {}\n",
        "        array = {'I':1, 'V':5, 'X':10, 'L':50, 'C':100, 'D':500, 'M':1000}\n",
        "        res = 0\n",
        "        for i in range(len(s)-1):\n",
        "            num = array[s[i]]\n",
        "            nextnum = array[s[i+1]]\n",
        "            if nextnum > num :\n",
        "                res -= num\n",
        "            else:\n",
        "                res += num\n",
        "        res += array[s[-1]]\n",
        "        return res"
      ],
      "metadata": {
        "id": "gJAcpruh97ta"
      },
      "execution_count": null,
      "outputs": []
    },
    {
      "cell_type": "markdown",
      "source": [
        "# 14. Longest Common Prefix"
      ],
      "metadata": {
        "id": "rUCSKLnHUc5R"
      }
    },
    {
      "cell_type": "code",
      "source": [
        "strs = [\"flower\",\"flow\",\"flight\"]\n",
        "strs.sort(key = lambda x : len(x))\n",
        "for i in range(len(strs[0])): # 0 1 2 3\n",
        "    for j in range(i,len(strs)): # 0 1 2 / 1 2 / 2 \n",
        "        # print(i,j)\n",
        "        if strs[0][i] != strs[j][i]:\n",
        "            print(strs[0][:i])"
      ],
      "metadata": {
        "colab": {
          "base_uri": "https://localhost:8080/"
        },
        "id": "6tNIAKseSeKV",
        "outputId": "c79c48e0-8757-4d11-c70b-1e7cd55be977"
      },
      "execution_count": null,
      "outputs": [
        {
          "output_type": "stream",
          "name": "stdout",
          "text": [
            "0 0\n",
            "0 1\n",
            "0 2\n",
            "1 1\n",
            "1 2\n",
            "2 2\n",
            "fl\n"
          ]
        }
      ]
    },
    {
      "cell_type": "code",
      "source": [
        "class Solution(object):\n",
        "    def longestCommonPrefix(self, strs):\n",
        "        \"\"\"\n",
        "        :type strs: List[str]\n",
        "        :rtype: str\n",
        "        \"\"\"\n",
        "        strs.sort(key = lambda x : len(x))\n",
        "        if len(strs) == 0:\n",
        "            return \"\"\n",
        "        else:\n",
        "            for i in range(len(strs[0])):\n",
        "                for j in range(1, len(strs)):\n",
        "                    if strs[0][i] != strs[j][i]:\n",
        "                        return strs[0][:i]\n",
        "        return strs[0]"
      ],
      "metadata": {
        "id": "Y_nuLHH199Xq"
      },
      "execution_count": null,
      "outputs": []
    },
    {
      "cell_type": "markdown",
      "source": [
        "# 70. Climbing Stairs"
      ],
      "metadata": {
        "id": "ajRqOBHMCVNR"
      }
    },
    {
      "cell_type": "code",
      "source": [
        "class Solution(object):\n",
        "    def climbStairs(self, n):\n",
        "        \"\"\"\n",
        "        :type n: int\n",
        "        :rtype: int\n",
        "        \"\"\"\n",
        "        first = 1\n",
        "        second = 2\n",
        "        if n == 1:\n",
        "            return n\n",
        "        for _ in range(3, n+1):\n",
        "            tmp = first + second\n",
        "            first = second\n",
        "            second = tmp\n",
        "        return second"
      ],
      "metadata": {
        "id": "E-0GSxXuCV4R"
      },
      "execution_count": null,
      "outputs": []
    },
    {
      "cell_type": "markdown",
      "source": [
        "# 1480. Running Sum of 1d Array\n"
      ],
      "metadata": {
        "id": "TCajHiRe15xi"
      }
    },
    {
      "cell_type": "code",
      "source": [
        "class Solution:\n",
        "    def runningSum(self, nums: List[int]) -> List[int]:\n",
        "        res = [0] * len(nums)\n",
        "        for i,k in enumerate(nums):\n",
        "            res[i] = res[i-1] + k\n",
        "        return res"
      ],
      "metadata": {
        "id": "_sIvfIqJ18Im"
      },
      "execution_count": null,
      "outputs": []
    },
    {
      "cell_type": "code",
      "source": [
        "class Solution:\n",
        "    def runningSum(self, nums: List[int]) -> List[int]:\n",
        "        for i in range(1, len(nums)):\n",
        "            nums[i] += nums[i - 1]\n",
        "        return nums\n"
      ],
      "metadata": {
        "id": "uAlvKiJA2EqS"
      },
      "execution_count": null,
      "outputs": []
    },
    {
      "cell_type": "code",
      "source": [
        " class Solution:\n",
        "    def runningSum(self, nums):\n",
        "        return [sum(nums[:i+1]) for i in range(len(nums))]\n"
      ],
      "metadata": {
        "id": "40kRE5gA2ElB"
      },
      "execution_count": null,
      "outputs": []
    },
    {
      "cell_type": "markdown",
      "source": [
        "# 724. Find Pivot Index"
      ],
      "metadata": {
        "id": "WbOJ-hce-qxT"
      }
    },
    {
      "cell_type": "code",
      "source": [
        "class Solution:\n",
        "    def pivotIndex(self, nums: List[int]) -> int:\n",
        "        s = sum(nums)\n",
        "        leftsum = 0\n",
        "        for i,x in enumerate(nums):\n",
        "            if leftsum == (s - leftsum - x):\n",
        "                return i\n",
        "            leftsum += x\n",
        "        return -1\n",
        "    "
      ],
      "metadata": {
        "id": "RhQccFsB-rDH"
      },
      "execution_count": null,
      "outputs": []
    },
    {
      "cell_type": "code",
      "source": [
        "class Solution:\n",
        "    def pivotIndex(self, nums):\n",
        "        \"\"\"\n",
        "        :type nums: List[int]\n",
        "        :rtype: int\n",
        "        \"\"\"\n",
        "        sumL = 0\n",
        "        sumR = sum(nums)\n",
        "        for i in range(len(nums)):\n",
        "            sumR -= nums[i]\n",
        "            if sumL == sumR:\n",
        "                return i\n",
        "            sumL += nums[i]\n",
        "        return -1\n"
      ],
      "metadata": {
        "id": "IpkjYpG7-rys"
      },
      "execution_count": null,
      "outputs": []
    },
    {
      "cell_type": "markdown",
      "source": [],
      "metadata": {
        "id": "zvnvpZUzR338"
      }
    },
    {
      "cell_type": "code",
      "source": [
        "        s = \"paper\"\n",
        "        t = \"title\"\n",
        "        dic = {}\n",
        "        res = []\n",
        "        for i,k in enumerate(s):\n",
        "            if k not in dic:\n",
        "                dic[k] = i\n",
        "            res.append(str(dic[k]))\n",
        "         \n",
        "        new_dic = {}\n",
        "        new_res = []\n",
        "        for i,k in enumerate(t):\n",
        "            if k not in new_dic:\n",
        "                new_dic[k] = i\n",
        "            new_res.append(str(new_dic[k]))\n",
        "        return ''.join(new_res) == ''.join(res)"
      ],
      "metadata": {
        "colab": {
          "base_uri": "https://localhost:8080/"
        },
        "id": "irmIH1U4R4HZ",
        "outputId": "0153bf0d-f55c-4e64-dd2e-2c508f3681a3"
      },
      "execution_count": null,
      "outputs": [
        {
          "output_type": "stream",
          "name": "stdout",
          "text": [
            "['0']\n",
            "['0', '1']\n",
            "['0', '1', '0']\n",
            "['0', '1', '0', '3']\n",
            "['0', '1', '0', '3', '4']\n"
          ]
        }
      ]
    },
    {
      "cell_type": "code",
      "source": [
        "' '.join(new_res)"
      ],
      "metadata": {
        "colab": {
          "base_uri": "https://localhost:8080/",
          "height": 35
        },
        "id": "83uwoIcqR_iB",
        "outputId": "2d5518c8-2164-48f2-8e30-d458962ae46d"
      },
      "execution_count": null,
      "outputs": [
        {
          "output_type": "execute_result",
          "data": {
            "text/plain": [
              "'0 1 0 3 4'"
            ],
            "application/vnd.google.colaboratory.intrinsic+json": {
              "type": "string"
            }
          },
          "metadata": {},
          "execution_count": 18
        }
      ]
    },
    {
      "cell_type": "code",
      "source": [
        "' '.join(res)"
      ],
      "metadata": {
        "colab": {
          "base_uri": "https://localhost:8080/",
          "height": 35
        },
        "id": "HZIo3I52SgDX",
        "outputId": "b7bfed07-223f-40bc-ffae-6d8d73409e92"
      },
      "execution_count": null,
      "outputs": [
        {
          "output_type": "execute_result",
          "data": {
            "text/plain": [
              "'0 1 0 3 4'"
            ],
            "application/vnd.google.colaboratory.intrinsic+json": {
              "type": "string"
            }
          },
          "metadata": {},
          "execution_count": 19
        }
      ]
    },
    {
      "cell_type": "code",
      "source": [
        "new_dic"
      ],
      "metadata": {
        "colab": {
          "base_uri": "https://localhost:8080/"
        },
        "id": "9L-AYsmNSyy0",
        "outputId": "c5742dd7-5233-481d-b3df-dd1d378fd851"
      },
      "execution_count": null,
      "outputs": [
        {
          "output_type": "execute_result",
          "data": {
            "text/plain": [
              "{'e': 4, 'i': 1, 'l': 3, 't': 0}"
            ]
          },
          "metadata": {},
          "execution_count": 16
        }
      ]
    },
    {
      "cell_type": "code",
      "source": [
        "new_res"
      ],
      "metadata": {
        "colab": {
          "base_uri": "https://localhost:8080/"
        },
        "id": "xR0Wtr9rSxLQ",
        "outputId": "26247f19-b290-4d16-b903-5728eadc4aa7"
      },
      "execution_count": null,
      "outputs": [
        {
          "output_type": "execute_result",
          "data": {
            "text/plain": [
              "['0', '1', '0', '3', '4']"
            ]
          },
          "metadata": {},
          "execution_count": 15
        }
      ]
    },
    {
      "cell_type": "code",
      "source": [
        "class Solution:\n",
        "    def isIsomorphic(self, s: str, t: str) -> bool:\n",
        "        dic = {}\n",
        "        res = []\n",
        "        for i,k in enumerate(s):\n",
        "            if k not in dic:\n",
        "                dic[k] = i\n",
        "            res.append(str(dic[k]))\n",
        "         \n",
        "        new_dic = {}\n",
        "        new_res = []\n",
        "        for i,k in enumerate(t):\n",
        "            if k not in new_dic:\n",
        "                new_dic[k] = i\n",
        "            new_res.append(str(new_dic[k]))\n",
        "        return ' '.join(new_res) == ' '.join(res)"
      ],
      "metadata": {
        "id": "7iz_KLYITSZd"
      },
      "execution_count": null,
      "outputs": []
    },
    {
      "cell_type": "markdown",
      "source": [
        "# 392. Is Subsequence\n"
      ],
      "metadata": {
        "id": "fc3O-ut6CkQP"
      }
    },
    {
      "cell_type": "code",
      "source": [
        "s = \"abc\"\n",
        "t = \"ahbgdc\"\n",
        "s = \"axc\"\n",
        "t = \"ahbgdc\""
      ],
      "metadata": {
        "id": "DsueP3_WClNd"
      },
      "execution_count": null,
      "outputs": []
    },
    {
      "cell_type": "code",
      "source": [
        "class Solution:\n",
        "    def isSubsequence(self, s: str, t: str) -> bool:\n",
        "        if not s:\n",
        "            return True\n",
        "        i = 0\n",
        "        for c in t:\n",
        "            if c == s[i]:\n",
        "                i += 1\n",
        "            if i >= len(s):\n",
        "                break\n",
        "        if i == len(s):     \n",
        "            return True        \n",
        "        return False"
      ],
      "metadata": {
        "colab": {
          "base_uri": "https://localhost:8080/"
        },
        "id": "_PaFmY0dEpTI",
        "outputId": "da58d108-8c70-4126-e03a-fd8c40b8ab1d"
      },
      "execution_count": null,
      "outputs": [
        {
          "output_type": "stream",
          "name": "stdout",
          "text": [
            "false\n"
          ]
        },
        {
          "output_type": "execute_result",
          "data": {
            "text/plain": [
              "[0, 1, 0]"
            ]
          },
          "metadata": {},
          "execution_count": 6
        }
      ]
    },
    {
      "cell_type": "markdown",
      "source": [
        "# 121. Best Time to Buy and Sell Stock\n"
      ],
      "metadata": {
        "id": "jIhK7hpDHa8K"
      }
    },
    {
      "cell_type": "code",
      "source": [
        "|def maxProfit(prices):\n",
        "    res = 0\n",
        "    for i in range(len(prices)):\n",
        "        for j in range(i+1,len(prices)):\n",
        "            res = max(res, prices[j] - prices[i])\n",
        "    return res\n",
        "maxProfit([7,1,5,3,6,4])"
      ],
      "metadata": {
        "colab": {
          "base_uri": "https://localhost:8080/"
        },
        "id": "3PvUXVDDIweQ",
        "outputId": "1431d9f3-049e-4f94-8ff4-295977dfe5a8"
      },
      "execution_count": null,
      "outputs": [
        {
          "output_type": "execute_result",
          "data": {
            "text/plain": [
              "5"
            ]
          },
          "metadata": {},
          "execution_count": 44
        }
      ]
    },
    {
      "cell_type": "code",
      "source": [
        "class Solution:\n",
        "    def maxProfit(self, prices: List[int]) -> int:\n",
        "            profit = 0\n",
        "            min_price = 9999\n",
        "            for i in prices:\n",
        "                min_price = min(i, min_price)\n",
        "                profit = max(profit, i - min_price )\n",
        "            return profit\n",
        "\n"
      ],
      "metadata": {
        "id": "1JhKOEhpMswQ"
      },
      "execution_count": null,
      "outputs": []
    },
    {
      "cell_type": "markdown",
      "source": [
        "# 409. Longest Palindrome"
      ],
      "metadata": {
        "id": "gu0z3vS6LwO0"
      }
    },
    {
      "cell_type": "code",
      "source": [
        "s = \"abccccdd\"\n",
        "import collections \n",
        "collections.Counter(s)"
      ],
      "metadata": {
        "colab": {
          "base_uri": "https://localhost:8080/"
        },
        "id": "fMrYVyM9Lz5L",
        "outputId": "85eb478c-be2e-4f72-c0e9-9dae3a5e786b"
      },
      "execution_count": null,
      "outputs": [
        {
          "output_type": "execute_result",
          "data": {
            "text/plain": [
              "Counter({'a': 1, 'b': 1, 'c': 4, 'd': 2})"
            ]
          },
          "metadata": {},
          "execution_count": 21
        }
      ]
    },
    {
      "cell_type": "code",
      "source": [
        "pairs = 0\n",
        "unpaired_chars = set()\n",
        "\n",
        "for char in s:\n",
        "    if char in unpaired_chars:\n",
        "        pairs += 1\n",
        "        unpaired_chars.remove(char)\n",
        "    else:\n",
        "        unpaired_chars.add(char)\n",
        "pairs * 2 + 1 if unpaired_chars else pairs * 2"
      ],
      "metadata": {
        "colab": {
          "base_uri": "https://localhost:8080/"
        },
        "id": "9DOefr3-MqjQ",
        "outputId": "bfcd43ec-e3c0-4d3b-c581-1b1e44fd568f"
      },
      "execution_count": null,
      "outputs": [
        {
          "output_type": "execute_result",
          "data": {
            "text/plain": [
              "7"
            ]
          },
          "metadata": {},
          "execution_count": 23
        }
      ]
    },
    {
      "cell_type": "code",
      "source": [
        "def longestPalindrome(self, s):\n",
        "    ans = 0\n",
        "    for v in collections.Counter(s).values():\n",
        "        ans += v // 2 * 2\n",
        "        if ans % 2 == 0 and v % 2 == 1:\n",
        "            ans += 1\n",
        "    return ans\n"
      ],
      "metadata": {
        "id": "Sxn1tfdaNuXa"
      },
      "execution_count": null,
      "outputs": []
    },
    {
      "cell_type": "markdown",
      "source": [
        "# 589. N-ary Tree Preorder Traversal\n"
      ],
      "metadata": {
        "id": "f8HamAFTmat_"
      }
    },
    {
      "cell_type": "code",
      "source": [
        "root = [1,'null',3,2,4,'null',5,6]\n",
        "class Solution:\n",
        "    def preorder(self, root: 'Node', ans: list = None) -> List[int]:\n",
        "        if not root: \n",
        "            return ans\n",
        "        if ans == None: \n",
        "            ans = []\n",
        "        ans.append(root.val)\n",
        "        for child in root.children:\n",
        "            self.preorder(child, ans)\n",
        "        return ans\n"
      ],
      "metadata": {
        "id": "n75HCREimbH-"
      },
      "execution_count": null,
      "outputs": []
    },
    {
      "cell_type": "code",
      "source": [
        "\"\"\"\n",
        "class Node:\n",
        "    def __init__(self, val=None, children=None):\n",
        "        self.val = val\n",
        "        self.children = children\n",
        "\"\"\"\n",
        "\n",
        "class Solution:\n",
        "    def preorder(self, root: 'Node') -> List[int]:\n",
        "        r = []\n",
        "        def pre(root):\n",
        "            if not root:\n",
        "                return\n",
        "            r.append(root.val)\n",
        "            for child in root.children:\n",
        "                pre(child)\n",
        "        pre(root)\n",
        "        return r"
      ],
      "metadata": {
        "id": "zOwTGukznbEP"
      },
      "execution_count": null,
      "outputs": []
    },
    {
      "cell_type": "markdown",
      "source": [
        "# 102. Binary Tree Level Order Traversal\n"
      ],
      "metadata": {
        "id": "nLMsv3EboFek"
      }
    },
    {
      "cell_type": "code",
      "source": [
        "# Definition for a binary tree node.\n",
        "# class TreeNode:\n",
        "#     def __init__(self, val=0, left=None, right=None):\n",
        "#         self.val = val\n",
        "#         self.left = left\n",
        "#         self.right = right\n",
        "class Solution:\n",
        "    def levelOrder(self, root: Optional[TreeNode]) -> List[List[int]]:\n",
        "        if not root:\n",
        "            return root       \n",
        "        binary_tree_list, queue = [], [root]\n",
        "        while len(queue) != 0:\n",
        "            children, parent_val = [], []\n",
        "            while len(queue) != 0:\n",
        "                parent = queue.pop(0)\n",
        "                parent_val.append(parent.val)\n",
        "                if parent.left:\n",
        "                    children.append(parent.left)\n",
        "                if parent.right:\n",
        "                    children.append(parent.right)\n",
        "            queue = children\n",
        "            binary_tree_list.append(parent_val)\n",
        "        return binary_tree_list             \n"
      ],
      "metadata": {
        "id": "1Y5ucoWDoFom"
      },
      "execution_count": null,
      "outputs": []
    },
    {
      "cell_type": "markdown",
      "source": [
        "# 704. Binary Search"
      ],
      "metadata": {
        "id": "IZp7cvn0rvme"
      }
    },
    {
      "cell_type": "code",
      "source": [
        "        nums = [-1,0,3,5,9,12]\n",
        "        target = 9\n",
        "\n",
        "        start = 0\n",
        "        end = len(nums) -1 \n",
        "        while start <= end:\n",
        "            mid = start + (end - start) // 2 \n",
        "            if nums[mid] == target:\n",
        "                print(mid)\n",
        "            if nums[mid] > target:\n",
        "                end = mid - 1\n",
        "            else:\n",
        "                start = mid + 1\n"
      ],
      "metadata": {
        "colab": {
          "base_uri": "https://localhost:8080/"
        },
        "id": "UgAfC11XrwH1",
        "outputId": "8302b8e3-cef4-4757-bc26-29bab3bd7c24"
      },
      "execution_count": null,
      "outputs": [
        {
          "output_type": "stream",
          "name": "stdout",
          "text": [
            "4\n"
          ]
        }
      ]
    },
    {
      "cell_type": "code",
      "source": [
        "class Solution:\n",
        "    def search(self, nums: List[int], target: int) -> int:\n",
        "        start = 0\n",
        "        end = len(nums) -1 \n",
        "        while start <= end:\n",
        "            mid = start + (end - start) // 2 \n",
        "            if nums[mid] == target:\n",
        "                return mid\n",
        "            if nums[mid] > target:\n",
        "                end = mid - 1\n",
        "            else:\n",
        "                start = mid + 1\n",
        "        return -1            "
      ],
      "metadata": {
        "id": "RCz1QPLythIJ"
      },
      "execution_count": null,
      "outputs": []
    },
    {
      "cell_type": "code",
      "source": [
        "class Solution:\n",
        "    def search(self, nums: List[int], target: int) -> int:\n",
        "        start = 0\n",
        "        end = len(nums)\n",
        "\n",
        "        # Binary Search\n",
        "        while start < end:\n",
        "            mid = ((end-start) // 2) + start\n",
        "            # Mid point is target\n",
        "            if nums[mid] == target:\n",
        "                return mid\n",
        "            # Mid point bigger than target\n",
        "            elif nums[mid] > target:\n",
        "                end = mid\n",
        "            # Mid point smaller than target\n",
        "            elif nums[mid] < target:\n",
        "                start = mid+1\n",
        "        return -1"
      ],
      "metadata": {
        "id": "8owUZ9Hxtuxo"
      },
      "execution_count": null,
      "outputs": []
    },
    {
      "cell_type": "markdown",
      "source": [
        "# 278. First Bad Version\n"
      ],
      "metadata": {
        "id": "rtNagDPp9y7_"
      }
    },
    {
      "cell_type": "code",
      "source": [
        "# The isBadVersion API is already defined for you.\n",
        "# def isBadVersion(version: int) -> bool:\n",
        "\n",
        "class Solution:\n",
        "    def firstBadVersion(self, n: int) -> int:\n",
        "        left = 1\n",
        "        right = n \n",
        "        while left < right:\n",
        "            mid = (left+right) // 2\n",
        "            if isBadVersion(mid):\n",
        "                right = mid \n",
        "            else:\n",
        "                left = mid + 1\n",
        "        return left \n",
        "        "
      ],
      "metadata": {
        "id": "jztLp8ip9zJF"
      },
      "execution_count": null,
      "outputs": []
    },
    {
      "cell_type": "markdown",
      "source": [
        "# 509. Fibonacci Number"
      ],
      "metadata": {
        "id": "wodS28tI_ZUv"
      }
    },
    {
      "cell_type": "code",
      "source": [
        "class Solution:\n",
        "    def fib(self, n: int) -> int:\n",
        "        if n == 0:\n",
        "            return 0\n",
        "        elif n == 1:\n",
        "            return 1\n",
        "        elif n >= 2: \n",
        "            return self.fib(n-1) + self.fib(n-2)"
      ],
      "metadata": {
        "id": "BpzZHUkH_XzS"
      },
      "execution_count": null,
      "outputs": []
    },
    {
      "cell_type": "code",
      "source": [
        "import collections\n",
        "class Solution:\n",
        "    dp = collections.defaultdict(int)\n",
        "    def fib(self, n: int) -> int:\n",
        "        if n <= 1:\n",
        "            return n\n",
        "\n",
        "        if self.dp[n]:\n",
        "            return self.dp[n]\n",
        "        self.dp[n] = self.fib(n-1) + self.fib(n-2)\n",
        "\n",
        "        return self.dp[n]\n"
      ],
      "metadata": {
        "id": "x9iQgINu_cpP"
      },
      "execution_count": null,
      "outputs": []
    },
    {
      "cell_type": "code",
      "source": [
        "import collections\n",
        "class Solution:\n",
        "    dp = collections.defaultdict(int)\n",
        "    def fib(self, n: int) -> int:\n",
        "        self.dp[1] = 1\n",
        "\n",
        "        for i in range(2,n+1):\n",
        "            self.dp[i] = self.dp[i-1] + self.dp[i-2]\n",
        "\n",
        "        return self.dp[n]\n"
      ],
      "metadata": {
        "id": "4MTx7FeU_hY1"
      },
      "execution_count": null,
      "outputs": []
    },
    {
      "cell_type": "code",
      "source": [
        "class Solution:\n",
        "    def fib(self, n: int) -> int:\n",
        "        x,y = 0,1\n",
        "        for _ in range(n):\n",
        "            x,y = y, x+y   \n",
        "        return x"
      ],
      "metadata": {
        "id": "tYPzyfZX_le3"
      },
      "execution_count": null,
      "outputs": []
    },
    {
      "cell_type": "markdown",
      "source": [
        "# 70. Climbing Stairs"
      ],
      "metadata": {
        "id": "VEN-H21nQUen"
      }
    },
    {
      "cell_type": "code",
      "source": [
        "# 메모리 초과 \n",
        "class Solution:\n",
        "    def climbStairs(self, n: int) -> int:\n",
        "        if n <= 2:\n",
        "            return n\n",
        "        else:\n",
        "            return self.climbStairs(n-1) + self.climbStairs(n-2)\n",
        "        "
      ],
      "metadata": {
        "id": "DiZymdOtCEIS"
      },
      "execution_count": null,
      "outputs": []
    },
    {
      "cell_type": "code",
      "source": [
        "import collections\n",
        "class Solution:\n",
        "    dp = collections.defaultdict(int)\n",
        "    def climbStairs(self, n: int) -> int:\n",
        "        if n <= 2:\n",
        "            return n\n",
        "        elif self.dp[n]:\n",
        "            return self.dp[n]\n",
        "        self.dp[n] = self.climbStairs(n-1) + self.climbStairs(n-2)\n",
        "        return self.dp[n]\n"
      ],
      "metadata": {
        "id": "YYUb51qaEEph"
      },
      "execution_count": null,
      "outputs": []
    },
    {
      "cell_type": "markdown",
      "source": [
        "# 746. Min Cost Climbing Stairs"
      ],
      "metadata": {
        "id": "42GkuWu1rYQ-"
      }
    },
    {
      "cell_type": "code",
      "source": [
        "import collections\n",
        "#cost = [1,100,1,1,1,100,1,1,100,1]\n",
        "cost = [10,15,20]\n",
        "\n",
        "dp = collections.defaultdict(int)\n",
        "def minCostClimbingStairs(n):\n",
        "    dp[0] = cost[0]\n",
        "    dp[1] = cost[1]\n",
        "    for i in range(2,len(cost)):\n",
        "        dp[i] = min(dp[i-1],dp[i-2]) + cost[i]\n",
        "    print(dp)\n",
        "    return min(dp[len(cost)-1], dp[len(cost)-2]) \n",
        "minCostClimbingStairs(cost)"
      ],
      "metadata": {
        "colab": {
          "base_uri": "https://localhost:8080/"
        },
        "id": "ih7zuYk1rYmT",
        "outputId": "f97c7a8a-c2d7-4543-ed7c-e2cb62675acd"
      },
      "execution_count": null,
      "outputs": [
        {
          "output_type": "stream",
          "name": "stdout",
          "text": [
            "defaultdict(<class 'int'>, {0: 10, 1: 15, 2: 30})\n"
          ]
        },
        {
          "output_type": "execute_result",
          "data": {
            "text/plain": [
              "15"
            ]
          },
          "metadata": {},
          "execution_count": 12
        }
      ]
    },
    {
      "cell_type": "code",
      "source": [
        "import collections\n",
        "class Solution:\n",
        "    def minCostClimbingStairs(self, cost: List[int]) -> int:\n",
        "        dp = collections.defaultdict(int)\n",
        "        dp[0] = cost[0]\n",
        "        dp[1] = cost[1]\n",
        "        for i in range(2,len(cost)):\n",
        "            dp[i] = min(dp[i-1],dp[i-2]) + cost[i]\n",
        "        return min(dp[len(cost)-1], dp[len(cost)-2]) "
      ],
      "metadata": {
        "id": "p936bIzat0RX"
      },
      "execution_count": null,
      "outputs": []
    },
    {
      "cell_type": "markdown",
      "source": [
        "# 62. Unique Paths"
      ],
      "metadata": {
        "id": "riOPgRj1tjQE"
      }
    },
    {
      "cell_type": "code",
      "source": [
        "class Solution:\n",
        "    def uniquePaths(self, m: int, n: int) -> int:\n",
        "        paths = [[0]*m for _ in range(n)]\n",
        "        paths[0][0] = 1\n",
        "        for i in range(n):\n",
        "            for j in range(m):\n",
        "                if i == 0 and j == 0:\n",
        "                    continue\n",
        "                paths[i][j] += paths[i-1][j] if i >0 else 0\n",
        "                paths[i][j] += paths[i][j-1] if j > 0 else 0\n",
        "        return paths[i][j]"
      ],
      "metadata": {
        "id": "CPdkXMYPthyo"
      },
      "execution_count": null,
      "outputs": []
    },
    {
      "cell_type": "markdown",
      "source": [
        "# 438. Find All Anagrams in a String\n",
        "- set 보단 Counter로 정합성 체크\n",
        "- 시간복잡도 효율성 생각하여 변수 선언하기 "
      ],
      "metadata": {
        "id": "koyiWHJjvtYU"
      }
    },
    {
      "cell_type": "code",
      "source": [
        "s = \"cbaebabacd\"\n",
        "p = \"abc\"\n",
        "#s = \"abab\"\n",
        "#p = \"ab\"\n",
        "\n",
        "for i in range(len(s)- len(p)+1):\n",
        "    print(s[i:i+len(p)])\n",
        "    if set(s[i:i+len(p)]) == set(p):\n",
        "        print(i)"
      ],
      "metadata": {
        "colab": {
          "base_uri": "https://localhost:8080/"
        },
        "id": "yLazj3rotmgN",
        "outputId": "8c215d6a-a6db-4c79-b7d3-01823e14de41"
      },
      "execution_count": null,
      "outputs": [
        {
          "output_type": "stream",
          "name": "stdout",
          "text": [
            "cba\n",
            "0\n",
            "bae\n",
            "aeb\n",
            "eba\n",
            "bab\n",
            "aba\n",
            "bac\n",
            "6\n",
            "acd\n"
          ]
        }
      ]
    },
    {
      "cell_type": "code",
      "source": [
        "from collections import Counter\n",
        "\n",
        "class Solution:\n",
        "    def findAnagrams(self, s: str, p: str) -> List[int]:\n",
        "        # 시간복잡도를 효율적으로 사용하기 위해 여러 변수를 선언\n",
        "        lens = len(s)\n",
        "        lenp = len(p)\n",
        "        res = []\n",
        "        Cp = Counter(p)\n",
        "        for i in range(lens- lenp+1):\n",
        "            if Counter(s[i:i+lenp]) == Cp:\n",
        "                res.append(i)\n",
        "        return res \n",
        "        \n"
      ],
      "metadata": {
        "id": "tLMzZm4WvueJ"
      },
      "execution_count": null,
      "outputs": []
    },
    {
      "cell_type": "markdown",
      "source": [
        "# 424. Longest Repeating Character Replacement"
      ],
      "metadata": {
        "id": "7_gbsXFEv3T5"
      }
    },
    {
      "cell_type": "code",
      "source": [
        "import collections\n",
        "left = 0\n",
        "right = 0\n",
        "max_len = 0\n",
        "count = collections.Counter()"
      ],
      "metadata": {
        "id": "T8CKIcv6v3iD"
      },
      "execution_count": null,
      "outputs": []
    },
    {
      "cell_type": "code",
      "source": [
        "s = \"AABABBA\"\n",
        "k = 1\n",
        "for right in range(1, len(s) + 1):\n",
        "    count[s[right - 1]] += 1\n",
        "    print(count)\n",
        "    most = count.most_common(1)[0][1]\n",
        "    remain = right - left - most\n",
        "    print(right, left, most, remain, max_len)\n",
        "    if remain > k: \n",
        "        count[s[left]] -= 1\n",
        "        left += 1\n",
        "    max_len = max(right - left, max_len)\n",
        "max_len"
      ],
      "metadata": {
        "colab": {
          "base_uri": "https://localhost:8080/"
        },
        "id": "IAABjWk-wrXg",
        "outputId": "3a080109-c6f8-4dfc-f054-6aef30b5995c"
      },
      "execution_count": null,
      "outputs": [
        {
          "output_type": "stream",
          "name": "stdout",
          "text": [
            "Counter({'A': 1})\n",
            "1 0 1 0 0\n",
            "Counter({'A': 2})\n",
            "2 0 2 0 1\n",
            "Counter({'A': 2, 'B': 1})\n",
            "3 0 2 1 2\n",
            "Counter({'A': 3, 'B': 1})\n",
            "4 0 3 1 3\n",
            "Counter({'A': 3, 'B': 2})\n",
            "5 0 3 2 4\n",
            "Counter({'B': 3, 'A': 2})\n",
            "6 1 3 2 4\n",
            "Counter({'B': 3, 'A': 2})\n",
            "7 2 3 2 4\n"
          ]
        },
        {
          "output_type": "execute_result",
          "data": {
            "text/plain": [
              "4"
            ]
          },
          "metadata": {},
          "execution_count": 20
        }
      ]
    },
    {
      "cell_type": "code",
      "source": [
        "import collections\n",
        "\n",
        "class Solution:\n",
        "    def characterReplacement(self, s: str, k: int) -> int:\n",
        "        left = 0\n",
        "        right = 0\n",
        "        max_len = 0\n",
        "        count = collections.Counter()\n",
        "        for right in range(1, len(s) + 1):\n",
        "            count[s[right - 1]] += 1\n",
        "            most = count.most_common(1)[0][1]\n",
        "            remain = right - left - most\n",
        "            if remain > k: \n",
        "                count[s[left]] -= 1\n",
        "                left += 1\n",
        "            max_len = max(right - left, max_len)\n",
        "        return max_len"
      ],
      "metadata": {
        "id": "Tf96D7t7w_jA"
      },
      "execution_count": null,
      "outputs": []
    },
    {
      "cell_type": "markdown",
      "source": [
        "# 1. Two Sum"
      ],
      "metadata": {
        "id": "snXcv3adtS26"
      }
    },
    {
      "cell_type": "code",
      "source": [
        "class Solution:\n",
        "    def twoSum(self, nums: List[int], target: int) -> List[int]:\n",
        "        res = [] \n",
        "        for i in range(len(nums)):\n",
        "            for j in range(i+1,len(nums)):\n",
        "                if nums[i] + nums[j] == target:\n",
        "                    res.append(i)\n",
        "                    res.append(j)\n",
        "        return res "
      ],
      "metadata": {
        "id": "6MOaBEsatTbk"
      },
      "execution_count": null,
      "outputs": []
    },
    {
      "cell_type": "code",
      "source": [
        "class Solution:\n",
        "    def twoSum(self, nums: List[int], target: int) -> List[int]:\n",
        "        \n",
        "        hashMap={nums[idx]:idx for idx in range(len(nums))} # {num : index}\n",
        "        \n",
        "        for idx in range(len(nums)):\n",
        "            complement=target-nums[idx]\n",
        "            if hashMap.get(complement,False) and hashMap.get(complement,False) != idx:\n",
        "                return [idx,hashMap.get(complement)]           "
      ],
      "metadata": {
        "id": "jG0seQjwtcI-"
      },
      "execution_count": null,
      "outputs": []
    },
    {
      "cell_type": "code",
      "source": [
        "class Solution:\n",
        "    def twoSum(self, nums, target):\n",
        "        vals = []\n",
        "        for i in range(len(nums)):\n",
        "            if nums[i] in vals:\n",
        "                return [vals.index(nums[i]), i]\n",
        "            vals.append(target - nums[i])"
      ],
      "metadata": {
        "id": "_JH70fx1tp9K"
      },
      "execution_count": null,
      "outputs": []
    },
    {
      "cell_type": "code",
      "source": [
        "class Solution:\n",
        "    def twoSum(self, nums, target):\n",
        "        vals = {}\n",
        "        for i in range(len(nums)):\n",
        "            if nums[i] in vals:\n",
        "                return [vals[nums[i]], i]\n",
        "            vals[target-nums[i]] = i\n"
      ],
      "metadata": {
        "id": "JsXb5EPYtzZz"
      },
      "execution_count": null,
      "outputs": []
    },
    {
      "cell_type": "markdown",
      "source": [
        "# 299. Bulls and Cows\n"
      ],
      "metadata": {
        "id": "jvPEw5bqBxcM"
      }
    },
    {
      "cell_type": "code",
      "source": [
        "from collections import defaultdict\n",
        "secret = \"1807\"\n",
        "guess = \"7810\"\n",
        "A = 0\n",
        "B = 0\n",
        "s1 = defaultdict(int)\n",
        "s2 = defaultdict(int)"
      ],
      "metadata": {
        "id": "Rmp8Iak9ByZE"
      },
      "execution_count": null,
      "outputs": []
    },
    {
      "cell_type": "code",
      "source": [
        "for s,g in zip(secret, guess):\n",
        "    if s == g:\n",
        "        A += 1\n",
        "    else:\n",
        "        s1[s] += 1\n",
        "        s2[s] += 1\n",
        "s1"
      ],
      "metadata": {
        "colab": {
          "base_uri": "https://localhost:8080/"
        },
        "id": "zxiTOEZBB2uF",
        "outputId": "81ed043e-0a89-4988-8500-e9dca229ede0"
      },
      "execution_count": null,
      "outputs": [
        {
          "output_type": "execute_result",
          "data": {
            "text/plain": [
              "defaultdict(int, {'0': 1, '1': 1, '7': 1})"
            ]
          },
          "metadata": {},
          "execution_count": 13
        }
      ]
    },
    {
      "cell_type": "code",
      "source": [
        "for k in s1.keys():\n",
        "    if k in s2:\n",
        "        B += min(s1[k], s2[k])\n",
        "A"
      ],
      "metadata": {
        "colab": {
          "base_uri": "https://localhost:8080/"
        },
        "id": "SIUH5ahWCKWy",
        "outputId": "e3068507-03b3-49c6-d09e-83f27e7eac4d"
      },
      "execution_count": null,
      "outputs": [
        {
          "output_type": "execute_result",
          "data": {
            "text/plain": [
              "1"
            ]
          },
          "metadata": {},
          "execution_count": 14
        }
      ]
    },
    {
      "cell_type": "code",
      "source": [
        "class Solution:\n",
        "    def getHint(self, secret: str, guess: str) -> str:\n",
        "        A = 0\n",
        "        B = 0\n",
        "        s1 = defaultdict(int)\n",
        "        s2 = defaultdict(int)\n",
        "        for s,g in zip(secret, guess):\n",
        "            if s == g:\n",
        "                A += 1\n",
        "            else:\n",
        "                s1[s] += 1\n",
        "                s2[g] += 1\n",
        "        for k in s1.keys():\n",
        "            if k in s2:\n",
        "                B += min(s1[k], s2[k])\n",
        "        return \"%sA%sB\" % (A, B)\n"
      ],
      "metadata": {
        "colab": {
          "base_uri": "https://localhost:8080/"
        },
        "id": "bPkZ62npChNa",
        "outputId": "087e7d45-dd5b-41dc-abe3-7f5bb1e0c4b4"
      },
      "execution_count": null,
      "outputs": [
        {
          "output_type": "execute_result",
          "data": {
            "text/plain": [
              "3"
            ]
          },
          "metadata": {},
          "execution_count": 15
        }
      ]
    },
    {
      "cell_type": "code",
      "source": [
        "def getHint(self, secret: str, guess: str) -> str:\n",
        "    s, g = Counter(secret), Counter(guess)\n",
        "    a = sum(i == j for i, j in zip(secret, guess))\n",
        "    return '%sA%sB' % (a, sum((s & g).values()) - a)"
      ],
      "metadata": {
        "id": "jQ0OV5WzDOsU"
      },
      "execution_count": null,
      "outputs": []
    },
    {
      "cell_type": "markdown",
      "source": [
        "# 844. Backspace String Compare"
      ],
      "metadata": {
        "id": "1C0Z7K49ZlaQ"
      }
    },
    {
      "cell_type": "code",
      "source": [
        "        s =  \"ab#c\" \n",
        "        t = \"ad#c\"\n",
        "        res = []\n",
        "        for i in range(len(s)):\n",
        "            if s[i] == '#':\n",
        "                res.pop()\n",
        "            else:\n",
        "                res.append(s[i])\n",
        "        res_t = []\n",
        "        for i in range(len(t)):\n",
        "            if t[i] == '#':\n",
        "                res_t.pop()\n",
        "            else:\n",
        "                res_t.append(t[i])"
      ],
      "metadata": {
        "id": "V4gWbKlQZmFC"
      },
      "execution_count": null,
      "outputs": []
    },
    {
      "cell_type": "code",
      "source": [
        "class Solution:\n",
        "    def backspaceCompare(self, s: str, t: str) -> bool:\n",
        "        res = []\n",
        "        res_t = []\n",
        "        for i in s:\n",
        "            if i == '#' and res:\n",
        "                res.pop()\n",
        "                continue\n",
        "            if i != '#': res.append(i)\n",
        "        for j in t:\n",
        "            if j == '#' and res_t:\n",
        "                res_t.pop()\n",
        "                continue\n",
        "            if j != '#':res_t.append(j)\n",
        "        return res == res_t"
      ],
      "metadata": {
        "colab": {
          "base_uri": "https://localhost:8080/"
        },
        "id": "MI5FXOt6aXGl",
        "outputId": "23322474-4ab8-487b-fdd9-fc1c31ec6806"
      },
      "execution_count": null,
      "outputs": [
        {
          "output_type": "execute_result",
          "data": {
            "text/plain": [
              "['a', 'c']"
            ]
          },
          "metadata": {},
          "execution_count": 9
        }
      ]
    },
    {
      "cell_type": "code",
      "source": [
        "class Solution(object):\n",
        "    def backspaceCompare(self, S, T):\n",
        "        def build(S):\n",
        "            ans = []\n",
        "            for c in S:\n",
        "                if c != '#':\n",
        "                    ans.append(c)\n",
        "                elif ans:\n",
        "                    ans.pop()\n",
        "            return \"\".join(ans)\n",
        "        return build(S) == build(T)"
      ],
      "metadata": {
        "id": "86lXxRetdN_i"
      },
      "execution_count": null,
      "outputs": []
    },
    {
      "cell_type": "markdown",
      "source": [
        "# 394. Decode String"
      ],
      "metadata": {
        "id": "S4skm27rtwbw"
      }
    },
    {
      "cell_type": "code",
      "source": [
        "# s = \"3[a]2[bc]\" #aaabcbc\n",
        "s = \"3[a2[c]]\"\n",
        "\n",
        "res = ''\n",
        "a = s.split(']')\n",
        "for b in a:\n",
        "    c = b.split('[')\n",
        "    print(c)\n",
        "    if c[0] != '':\n",
        "        res += int(c[0])* str(c[1])\n",
        "res"
      ],
      "metadata": {
        "colab": {
          "base_uri": "https://localhost:8080/",
          "height": 90
        },
        "id": "f9AhVLPPtwyx",
        "outputId": "8ab74e35-9bfe-492d-be16-88fbdf777467"
      },
      "execution_count": null,
      "outputs": [
        {
          "output_type": "stream",
          "name": "stdout",
          "text": [
            "['3', 'a2', 'c']\n",
            "['']\n",
            "['']\n"
          ]
        },
        {
          "output_type": "execute_result",
          "data": {
            "text/plain": [
              "'a2a2a2'"
            ],
            "application/vnd.google.colaboratory.intrinsic+json": {
              "type": "string"
            }
          },
          "metadata": {},
          "execution_count": 24
        }
      ]
    },
    {
      "cell_type": "code",
      "source": [
        "        num = 0\n",
        "        string = ''\n",
        "        stack = []\n",
        "        for c in s:\n",
        "            if c.isdigit():\n",
        "                num = num*10 + int(c)\n",
        "            elif c == \"[\":\n",
        "                stack.append(string)\n",
        "                stack.append(num)\n",
        "                string = ''\n",
        "                num = 0\n",
        "            elif c.isalpha():\n",
        "                string += c\n",
        "            elif c == ']':\n",
        "                pre_num = stack.pop()\n",
        "                pre_string = stack.pop()\n",
        "                string = pre_string + pre_num * string\n",
        "            print(c,stack, pre_num, pre_string, string)"
      ],
      "metadata": {
        "colab": {
          "base_uri": "https://localhost:8080/"
        },
        "id": "9lMq5zMIu2GH",
        "outputId": "56179486-3628-445f-e5a8-768e0ff7cb86"
      },
      "execution_count": null,
      "outputs": [
        {
          "output_type": "stream",
          "name": "stdout",
          "text": [
            "3 [] 3  \n",
            "[ ['', 3] 3  \n",
            "a ['', 3] 3  a\n",
            "2 ['', 3] 3  a\n",
            "[ ['', 3, 'a', 2] 3  \n",
            "c ['', 3, 'a', 2] 3  c\n",
            "] ['', 3] 2 a acc\n",
            "] [] 3  accaccacc\n"
          ]
        }
      ]
    },
    {
      "cell_type": "code",
      "source": [
        "class Solution:\n",
        "    def decodeString(self, s: str) -> str:\n",
        "        num = 0\n",
        "        string = ''\n",
        "        stack = []\n",
        "        for c in s:\n",
        "            if c.isdigit():\n",
        "                num = num*10 + int(c)\n",
        "            elif c == \"[\":\n",
        "                stack.append(string)\n",
        "                stack.append(num)\n",
        "                string = ''\n",
        "                num = 0\n",
        "            elif c.isalpha():\n",
        "                string += c\n",
        "            elif c == ']':\n",
        "                pre_num = stack.pop()\n",
        "                pre_string = stack.pop()\n",
        "                string = pre_string + pre_num * string\n",
        "        return string"
      ],
      "metadata": {
        "id": "f_EEFnBMxiFl"
      },
      "execution_count": null,
      "outputs": []
    },
    {
      "cell_type": "code",
      "source": [
        "import re\n",
        "\n",
        "class Solution:\n",
        "    def decodeString(self, s: str) -> str:\n",
        "        while \"[\" in s:\n",
        "            s = re.sub(r\"(\\d+)\\[([a-z]*)\\]\", lambda m: m.group(2)*int(m.group(1)),s)\n",
        "        return s\n",
        "\n",
        "\n",
        "if __name__ == \"__main__\":\n",
        "    sol = Solution()\n",
        "    assert(sol.decodeString(\"3[a]2[bc]\") == \"aaabcbc\")\n",
        "    assert(sol.decodeString(\"3[a2[c]]\") == \"accaccacc\")\n",
        "    assert(sol.decodeString(\"2[abc]3[cd]ef\") == \"abcabccdcdcdef\")"
      ],
      "metadata": {
        "id": "WM0MOfddwAG_"
      },
      "execution_count": null,
      "outputs": []
    },
    {
      "cell_type": "markdown",
      "source": [
        "# 1046. Last Stone Weight\n"
      ],
      "metadata": {
        "id": "zGzUnPB46eGs"
      }
    },
    {
      "cell_type": "code",
      "source": [
        "stones = [2,7,4,1,8,1]"
      ],
      "metadata": {
        "id": "zce1J-4j6d4b"
      },
      "execution_count": null,
      "outputs": []
    },
    {
      "cell_type": "code",
      "source": [
        "while len(stones) != 1:\n",
        "    stones = sorted(stones)\n",
        "    a = stones.pop()\n",
        "    b = stones.pop()\n",
        "    if a == b:\n",
        "        continue\n",
        "    else:\n",
        "        stones.append(a-b)\n",
        "    print(stones)"
      ],
      "metadata": {
        "colab": {
          "base_uri": "https://localhost:8080/"
        },
        "id": "XCEyYmZd7Q7Q",
        "outputId": "ed724987-0ae5-4a7d-ba96-4fa5af9704c9"
      },
      "execution_count": null,
      "outputs": [
        {
          "output_type": "stream",
          "name": "stdout",
          "text": [
            "[4, 2, 1, 1, 1]\n",
            "[1, 1, 1, 2]\n",
            "[1, 1, 1]\n"
          ]
        }
      ]
    },
    {
      "cell_type": "code",
      "source": [
        "class Solution:\n",
        "    def lastStoneWeight(self, stones: List[int]) -> int:\n",
        "        if (len(stones) == 1):\n",
        "            return stones[0]\n",
        "        if (stones.count(stones[0]) == len(stones)):\n",
        "            return 0\n",
        "        while len(stones) > 1:\n",
        "            stones = sorted(stones)\n",
        "            a = stones.pop()\n",
        "            b = stones.pop()\n",
        "            if a == b:\n",
        "                continue\n",
        "            else:\n",
        "                stones.append(a-b)\n",
        "        return stones[0] if stones else 0 \n"
      ],
      "metadata": {
        "colab": {
          "base_uri": "https://localhost:8080/"
        },
        "id": "z2auSxIV7WId",
        "outputId": "59fc6313-fda2-4ec8-bd66-9da3217ef349"
      },
      "execution_count": null,
      "outputs": [
        {
          "output_type": "execute_result",
          "data": {
            "text/plain": [
              "1"
            ]
          },
          "metadata": {},
          "execution_count": 32
        }
      ]
    },
    {
      "cell_type": "code",
      "source": [
        "class Solution(object):\n",
        "    def lastStoneWeight(self, stones):\n",
        "        while len(stones)>1:\n",
        "        stones.append(stones.pop(stones.index(max(stones)))-stones.pop(stones.index(max(stones))))\n",
        "        return stones[0]"
      ],
      "metadata": {
        "id": "4OMrOghH-5tZ"
      },
      "execution_count": null,
      "outputs": []
    },
    {
      "cell_type": "code",
      "source": [
        "import heapq\n",
        "def lastStoneWeight(self, stones: List[int]) -> int:\n",
        "        heap=[]\n",
        "        for stone in stones:\n",
        "            heapq.heappush(heap,-stone)\n",
        "        while len(heap)>=2:\n",
        "            x1 = heapq.heappop(heap)\n",
        "            x2 = heapq.heappop(heap)\n",
        "            if x1 != x2:\n",
        "                heapq.heappush(heap,(x1-x2))\n",
        "        return -heap[-1] if heap else 0"
      ],
      "metadata": {
        "id": "N2TZ-6CJ_BOW"
      },
      "execution_count": null,
      "outputs": []
    },
    {
      "cell_type": "markdown",
      "source": [
        "# 692. Top K Frequent Words"
      ],
      "metadata": {
        "id": "BZj4fC8akYaJ"
      }
    },
    {
      "cell_type": "code",
      "source": [
        "from collections import Counter\n",
        "words = [\"i\",\"love\",\"leetcode\",\"i\",\"love\",\"coding\"]\n",
        "cnt = Counter(words)\n",
        "most_list = sorted(list(cnt.items()), key = lambda x : [-x[1],x[0]])"
      ],
      "metadata": {
        "id": "HTJtBhqikYvZ"
      },
      "execution_count": null,
      "outputs": []
    },
    {
      "cell_type": "code",
      "source": [
        "list(cnt.items())"
      ],
      "metadata": {
        "colab": {
          "base_uri": "https://localhost:8080/"
        },
        "id": "xnBhABJOlAmW",
        "outputId": "0e308ca1-2b43-4415-ecf4-e40b77ee2165"
      },
      "execution_count": null,
      "outputs": [
        {
          "output_type": "execute_result",
          "data": {
            "text/plain": [
              "[('i', 2), ('love', 2), ('leetcode', 1), ('coding', 1)]"
            ]
          },
          "metadata": {},
          "execution_count": 4
        }
      ]
    },
    {
      "cell_type": "code",
      "source": [
        "sorted(list(cnt.items()), key = lambda x : [-x[1]])"
      ],
      "metadata": {
        "colab": {
          "base_uri": "https://localhost:8080/"
        },
        "id": "NVUGwkfalg3j",
        "outputId": "18f024e4-eccf-4096-947c-c825e28851b6"
      },
      "execution_count": null,
      "outputs": [
        {
          "output_type": "execute_result",
          "data": {
            "text/plain": [
              "[('i', 2), ('love', 2), ('leetcode', 1), ('coding', 1)]"
            ]
          },
          "metadata": {},
          "execution_count": 8
        }
      ]
    },
    {
      "cell_type": "code",
      "source": [
        "from collections import Counter\n",
        "class Solution:\n",
        "    def topKFrequent(self, words: List[str], k: int) -> List[str]:\n",
        "        cnt = Counter(words)\n",
        "        most_list = sorted(list(cnt.items()), key = lambda x : [-x[1],x[0]])\n",
        "        answer = []\n",
        "        for i in range(k):\n",
        "            answer.append(most_list[i][0])\n",
        "        return answer "
      ],
      "metadata": {
        "id": "ZyxKNyFelvC_"
      },
      "execution_count": null,
      "outputs": []
    },
    {
      "cell_type": "code",
      "source": [
        "class Solution:\n",
        "    def topKFrequent(self, words: List[str], k: int) -> List[str]:\n",
        "        results = []\n",
        "        count = {}\n",
        "        for word in words:\n",
        "            count[word] = count.get(word, 0) + 1\n",
        "        heap = []\n",
        "        for key, value in count.items():\n",
        "            heapq.heappush(heap, (-value, key))        \n",
        "        for i in range(k):\n",
        "            results.append(heapq.heappop(heap)[1])        \n",
        "        return results"
      ],
      "metadata": {
        "id": "8wcCOTlzlzky"
      },
      "execution_count": null,
      "outputs": []
    },
    {
      "cell_type": "markdown",
      "source": [
        "# 202. Happy Number\n"
      ],
      "metadata": {
        "id": "YSVUFw7eJ8xr"
      }
    },
    {
      "cell_type": "code",
      "source": [
        "n = 2\n",
        "res = 0\n",
        "s = set()\n",
        "while n !=1 :\n",
        "    if n in s:\n",
        "        print(False)\n",
        "        break\n",
        "    s.add(n)\n",
        "    n = sum([int(i) * 2 for i in str(n)])\n",
        "    print(s)\n",
        "else:\n",
        "    print(True)"
      ],
      "metadata": {
        "colab": {
          "base_uri": "https://localhost:8080/"
        },
        "id": "PEPx0OrJJ9Nl",
        "outputId": "160a886f-6404-405b-eae7-913f93e9b2d3"
      },
      "execution_count": null,
      "outputs": [
        {
          "output_type": "stream",
          "name": "stdout",
          "text": [
            "{2}\n",
            "{2, 4}\n",
            "{8, 2, 4}\n",
            "{8, 16, 2, 4}\n",
            "{2, 4, 8, 14, 16}\n",
            "{2, 4, 8, 10, 14, 16}\n",
            "False\n"
          ]
        }
      ]
    },
    {
      "cell_type": "code",
      "source": [
        "class Solution:\n",
        "    def isHappy(self, n):\n",
        "        s = set()\n",
        "        while n != 1:\n",
        "            if n in s: return False\n",
        "            s.add(n)\n",
        "            n = sum([int(i) ** 2 for i in str(n)])\n",
        "        else:\n",
        "            return True"
      ],
      "metadata": {
        "colab": {
          "base_uri": "https://localhost:8080/"
        },
        "id": "5hQ3tGVFS_jy",
        "outputId": "635cdb65-cd23-4ad5-fb3a-281656c42023"
      },
      "execution_count": null,
      "outputs": [
        {
          "output_type": "execute_result",
          "data": {
            "text/plain": [
              "0"
            ]
          },
          "metadata": {},
          "execution_count": 9
        }
      ]
    },
    {
      "cell_type": "code",
      "source": [
        "class Solution:\n",
        "    def isHappy(self, n):\n",
        "        \"\"\"\n",
        "        :type n: int\n",
        "        :rtype: bool\n",
        "        \"\"\"\n",
        "        while n != 1 and n != 4:\n",
        "            _sum = 0\n",
        "            while n :\n",
        "                _sum += (n % 10) * (n % 10)\n",
        "                n //= 10\n",
        "            n = _sum\n",
        "\n",
        "        return n == 1"
      ],
      "metadata": {
        "id": "BpuFSOutTRH7"
      },
      "execution_count": null,
      "outputs": []
    },
    {
      "cell_type": "markdown",
      "source": [
        "# 54. Spiral Matrix\n"
      ],
      "metadata": {
        "id": "XMxjhoBTsJgm"
      }
    },
    {
      "cell_type": "code",
      "source": [
        "matrix = [[1, 2, 3, 4],[5, 6, 7, 8],[9, 10, 11, 12]]\n",
        "result= []"
      ],
      "metadata": {
        "id": "T2XInmcxsJ-6"
      },
      "execution_count": null,
      "outputs": []
    },
    {
      "cell_type": "code",
      "source": [
        "while matrix:\n",
        "    result += matrix.pop(0)\n",
        "\n",
        "    if matrix and matrix[0]:\n",
        "        for r in matrix:\n",
        "            result.append(r.pop())\n",
        "    if matrix:\n",
        "        result += matrix.pop()[::-1]\n",
        "\n",
        "    if matrix and matrix[0]:\n",
        "        for r in matrix[::-1]:\n",
        "            result.append(r.pop(0))\n",
        "result    "
      ],
      "metadata": {
        "colab": {
          "base_uri": "https://localhost:8080/"
        },
        "id": "d1INohb_sOWh",
        "outputId": "5b6d24d7-95b7-4577-b8d6-064e766f97ae"
      },
      "execution_count": null,
      "outputs": [
        {
          "output_type": "execute_result",
          "data": {
            "text/plain": [
              "[1, 2, 3, 4, 5, 6, 7, 8, 9, 10, 11, 12]"
            ]
          },
          "metadata": {},
          "execution_count": 37
        }
      ]
    },
    {
      "cell_type": "code",
      "source": [
        "class Solution:\n",
        "    def spiralOrder(self, matrix: List[List[int]]) -> List[int]:\n",
        "        result = []\n",
        "        while matrix:\n",
        "            result += matrix.pop(0)\n",
        "\n",
        "            if matrix and matrix[0]:\n",
        "                for r in matrix:\n",
        "                    result.append(r.pop())\n",
        "            if matrix:\n",
        "                result += matrix.pop()[::-1]\n",
        "\n",
        "            if matrix and matrix[0]:\n",
        "                for r in matrix[::-1]:\n",
        "                    result.append(r.pop(0))\n",
        "        return result    \n"
      ],
      "metadata": {
        "colab": {
          "base_uri": "https://localhost:8080/"
        },
        "id": "pyUEAHQHsZB7",
        "outputId": "b0b9adeb-1978-4a77-e9cc-f169cf45c732"
      },
      "execution_count": null,
      "outputs": [
        {
          "output_type": "execute_result",
          "data": {
            "text/plain": [
              "[1, 2, 3, 4]"
            ]
          },
          "metadata": {},
          "execution_count": 35
        }
      ]
    },
    {
      "cell_type": "code",
      "source": [
        "class Solution:\n",
        "    def spiralOrder(self, matrix):\n",
        "        m = len(matrix)\n",
        "        n = len(matrix[0])\n",
        "        \n",
        "        row_start = 0\n",
        "        row_end = m-1\n",
        "        col_start = 0\n",
        "        col_end = n-1\n",
        "        \n",
        "        ret = []\n",
        "        \n",
        "        while row_start<=row_end and col_start<=col_end:\n",
        "            \n",
        "            for i in range(col_start, col_end+1):\n",
        "                ret.append(matrix[row_start][i])\n",
        "            row_start += 1\n",
        "            if row_start > row_end:\n",
        "                break\n",
        "            \n",
        "            for j in range(row_start, row_end+1):\n",
        "                ret.append(matrix[j][col_end])\n",
        "            col_end -= 1\n",
        "            if col_start > col_end:\n",
        "                break\n",
        "            \n",
        "            for i in range(col_end, col_start-1, -1):\n",
        "                ret.append(matrix[row_end][i])\n",
        "            row_end -= 1\n",
        "            if row_start > row_end:\n",
        "                break\n",
        "                \n",
        "            for j in range(row_end, row_start-1, -1):\n",
        "                ret.append(matrix[j][col_start])\n",
        "            col_start += 1\n",
        "            if col_start > col_end:\n",
        "                break\n",
        "        \n",
        "        return ret\n"
      ],
      "metadata": {
        "id": "E3IxkMMFt0Iv"
      },
      "execution_count": null,
      "outputs": []
    },
    {
      "cell_type": "markdown",
      "source": [
        "# 43. Multiply Strings\n"
      ],
      "metadata": {
        "id": "M8xDWkTFx3eN"
      }
    },
    {
      "cell_type": "code",
      "source": [
        "class Solution:\n",
        "    def multiply(self, num1: str, num2: str) -> str:\n",
        "        return str(int(num1) * int(num2))"
      ],
      "metadata": {
        "id": "Hfw_V0W-x32V"
      },
      "execution_count": null,
      "outputs": []
    },
    {
      "cell_type": "code",
      "source": [
        "class Solution:\n",
        "    def make_num_from_chracter(self, string_num: str):\n",
        "        character_num_dict = {'0':0, '1':1, '2':2, '3':3, '4':4, '5':5, \n",
        "                              '6':6, '7':7, '8':8, '9':9}\n",
        "        \n",
        "        string_num_list = list(string_num)\n",
        "        \n",
        "        return_num = 0\n",
        "        \n",
        "        string_num_len = len(string_num)\n",
        "        print(string_num_len)\n",
        "        for i in range(string_num_len):\n",
        "            add_num = character_num_dict[string_num_list[string_num_len - 1 - i]] * pow(10, i)\n",
        "            \n",
        "            return_num = return_num + add_num\n",
        "            \n",
        "        return return_num\n",
        "        \n",
        "        \n",
        "    \n",
        "    def multiply(self, num1: str, num2: str) -> str:\n",
        "        number1 = self.make_num_from_chracter(num1)\n",
        "        number2 = self.make_num_from_chracter(num2)\n",
        "        \n",
        "        return str(number1 * number2)"
      ],
      "metadata": {
        "id": "1EQQQraWygLX"
      },
      "execution_count": null,
      "outputs": []
    },
    {
      "cell_type": "markdown",
      "source": [
        "# 2131. Longest Palindrome by Concatenating Two Letter Words\n"
      ],
      "metadata": {
        "id": "lHurVZcM_jGW"
      }
    },
    {
      "cell_type": "code",
      "source": [
        "from itertools import permutations\n",
        "re = 0 \n",
        "# words = [\"lc\",\"cl\",\"gg\"]\n",
        "words = [\"ab\",\"ty\",\"yt\",\"lc\",\"cl\",\"ab\"]\n",
        "\n",
        "for i in permutations(words, len(words)):\n",
        "    res = ''\n",
        "    res += ''.join(i)\n",
        "    # print(res, len(res), res[:len(res) // 2], res[len(res) // 2:][::-1])\n",
        "    if res[:len(res) // 2] == res[len(res) // 2:][::-1]:\n",
        "        re = max(re,len(res))\n",
        "re"
      ],
      "metadata": {
        "colab": {
          "base_uri": "https://localhost:8080/"
        },
        "id": "Xa9Zjl_HBoZM",
        "outputId": "e36b8137-1172-4dcc-a050-9c5985d4effa"
      },
      "execution_count": null,
      "outputs": [
        {
          "output_type": "execute_result",
          "data": {
            "text/plain": [
              "0"
            ]
          },
          "metadata": {},
          "execution_count": 35
        }
      ]
    },
    {
      "cell_type": "code",
      "source": [
        "words = [\"ab\",\"ty\",\"yt\",\"lc\",\"cl\",\"ab\"]\n",
        "counter, ans = [[0] * 26 for _ in range(26)], 0\n",
        "for w in words:\n",
        "        a, b = ord(w[0]) - ord('a'), ord(w[1]) - ord('a')\n",
        "        print(w,a,b)\n",
        "        if counter[b][a]:\n",
        "            ans += 4\n",
        "            counter[b][a] -= 1\n",
        "        else: \n",
        "            counter[a][b] += 1\n",
        "ans\n",
        "\n",
        "#lc 11 2\n",
        "#cl 2 11\n",
        "#gg 6 6"
      ],
      "metadata": {
        "colab": {
          "base_uri": "https://localhost:8080/"
        },
        "id": "mOtCQEYbBwmN",
        "outputId": "79a5fbc1-c315-42e5-bcf1-89fde8525903"
      },
      "execution_count": null,
      "outputs": [
        {
          "output_type": "stream",
          "name": "stdout",
          "text": [
            "ab 0 1\n",
            "ty 19 24\n",
            "yt 24 19\n",
            "lc 11 2\n",
            "cl 2 11\n",
            "ab 0 1\n"
          ]
        },
        {
          "output_type": "execute_result",
          "data": {
            "text/plain": [
              "8"
            ]
          },
          "metadata": {},
          "execution_count": 51
        }
      ]
    },
    {
      "cell_type": "code",
      "source": [
        "class Solution:\n",
        "    def longestPalindrome(self, words: List[str]) -> int:\n",
        "        counter, ans = [[0] * 26 for _ in range(26)], 0\n",
        "        for w in words:\n",
        "                a, b = ord(w[0]) - ord('a'), ord(w[1]) - ord('a')\n",
        "                print(w,a,b)\n",
        "                if counter[b][a]:\n",
        "                    ans += 4\n",
        "                    counter[b][a] -= 1\n",
        "                else: \n",
        "                    counter[a][b] += 1\n",
        "        for i in range(26):\n",
        "                if counter[i][i]:\n",
        "                    ans += 2\n",
        "                    break\n",
        "        return ans"
      ],
      "metadata": {
        "id": "IgkjA7nuGj3l"
      },
      "execution_count": null,
      "outputs": []
    },
    {
      "cell_type": "code",
      "source": [
        "def longestPalindrome(self, words: List[str]) -> int:\n",
        "    m = defaultdict(int)\n",
        "    unpaired = ans = 0\n",
        "    for w in words:\n",
        "        if w[0] == w[1]:\n",
        "            if m[w] > 0:\n",
        "                unpaired -= 1\n",
        "                m[w] -= 1\n",
        "                ans += 4\n",
        "            else: \n",
        "                m[w] += 1\n",
        "                unpaired += 1\n",
        "        else:\n",
        "            if m[w[::-1]] > 0:  # w[::-1] -> reversed w\n",
        "                ans += 4\n",
        "                m[w[::-1]] -= 1\n",
        "            else: m[w] += 1\n",
        "    if unpaired > 0: ans += 2\n",
        "    return ans"
      ],
      "metadata": {
        "id": "SW57XEHvGnmN"
      },
      "execution_count": null,
      "outputs": []
    },
    {
      "cell_type": "markdown",
      "source": [
        "# 621. Task Scheduler\n"
      ],
      "metadata": {
        "id": "vJuJMBbDBI9Y"
      }
    },
    {
      "cell_type": "code",
      "source": [
        "tasks = [\"A\",\"A\",\"A\",\"B\",\"B\",\"B\"]\n",
        "n = 2\n",
        "\n",
        "ans = 0\n",
        "dic = {}\n",
        "for i in tasks:\n",
        "    dic[i] = dic.get(i,0) + 1\n",
        "counts_list = [dic[task] for task in dic]\n",
        "max_count = max(counts_list)\n",
        "max_count_tasks = counts_list.count(max_count)\n",
        "ans =  max_count + (max_count-1)*n +(max_count_tasks) - 1\n",
        "ans"
      ],
      "metadata": {
        "id": "pi32INaMBJXD"
      },
      "execution_count": null,
      "outputs": []
    },
    {
      "cell_type": "code",
      "source": [
        "class Solution:\n",
        "    def leastInterval(self, tasks: List[str], n: int) -> int:\n",
        "        ans = 0\n",
        "        dic = {}\n",
        "        for i in tasks:\n",
        "            dic[i] = dic.get(i,0) + 1\n",
        "        \n",
        "        counts_list = [dic[task] for task in dic]\n",
        "        max_count = max(counts_list)\n",
        "        max_count_tasks = counts_list.count(max_count)\n",
        "        ans =  max_count + (max_count-1)*n +(max_count_tasks) - 1\n",
        "        return max(len(tasks), ans)"
      ],
      "metadata": {
        "colab": {
          "base_uri": "https://localhost:8080/"
        },
        "id": "yGuI8z_7CKD7",
        "outputId": "3e0d2c03-47fd-4d69-ecb9-3ace66a117a6"
      },
      "execution_count": null,
      "outputs": [
        {
          "output_type": "execute_result",
          "data": {
            "text/plain": [
              "8"
            ]
          },
          "metadata": {},
          "execution_count": 6
        }
      ]
    },
    {
      "cell_type": "markdown",
      "source": [
        "226. Invert Binary Tree"
      ],
      "metadata": {
        "id": "tkYctRnfZiMm"
      }
    },
    {
      "cell_type": "code",
      "source": [
        "class Solution:\n",
        "    def invertTree(self, root: Optional[TreeNode]) -> Optional[TreeNode]:\n",
        "        if root:\n",
        "            root.left, root.right = self.invertTree(root.right), self.invertTree(root.left)\n",
        "            return root\n",
        "        return None"
      ],
      "metadata": {
        "id": "8Upv0KE-ZirI"
      },
      "execution_count": null,
      "outputs": []
    },
    {
      "cell_type": "code",
      "source": [
        "class Solution:\n",
        "    def invertTree(self, root: Optional[TreeNode]) -> Optional[TreeNode]:\n",
        "        queue = collections.deque([root])\n",
        "        \n",
        "        while queue:\n",
        "            node = queue.popleft()\n",
        "            # 부모 노드로부터 하향식 스왑\n",
        "            if node:\n",
        "                node.left, node.right = node.right, node.left\n",
        " \n",
        "                queue.append(node.left)\n",
        "                queue.append(node.right)\n",
        "                \n",
        "        return root"
      ],
      "metadata": {
        "id": "AaXXGY0baO-n"
      },
      "execution_count": null,
      "outputs": []
    },
    {
      "cell_type": "code",
      "source": [
        "class Solution:\n",
        "    def invertTree(self, root: Optional[TreeNode]) -> Optional[TreeNode]:\n",
        "        stack = collections.deque([root])\n",
        "        \n",
        "        while stack:\n",
        "            node = stack.pop()\n",
        "            # 부모 노드로부터 하향식 스왑\n",
        "            if node:\n",
        "                node.left, node.right = node.right, node.left\n",
        " \n",
        "                stack.append(node.left)\n",
        "                stack.append(node.right)\n",
        "                \n",
        "        return root"
      ],
      "metadata": {
        "id": "E7mYFQFRaT2B"
      },
      "execution_count": null,
      "outputs": []
    },
    {
      "cell_type": "code",
      "source": [
        "class Solution:\n",
        "    def invertTree(self, root: Optional[TreeNode]) -> Optional[TreeNode]:\n",
        "        stack = collections.deque([root])\n",
        "        \n",
        "        while stack:\n",
        "            node = stack.pop()\n",
        " \n",
        "            if node:\n",
        "                stack.append(node.left)\n",
        "                stack.append(node.right)\n",
        " \n",
        "                node.left, node.right = node.right, node.left # 후위 순회\n",
        "                \n",
        "        return root"
      ],
      "metadata": {
        "id": "FmZ4p-1pacWK"
      },
      "execution_count": null,
      "outputs": []
    },
    {
      "cell_type": "markdown",
      "source": [
        "# 110. Balanced Binary Tree\n"
      ],
      "metadata": {
        "id": "9w56Ur54bjXI"
      }
    },
    {
      "cell_type": "code",
      "source": [
        "# Definition for a binary tree node.\n",
        "# class TreeNode:\n",
        "#     def __init__(self, val=0, left=None, right=None):\n",
        "#         self.val = val\n",
        "#         self.left = left\n",
        "#         self.right = right\n",
        "class Solution:\n",
        "    def isBalanced(self, root: Optional[TreeNode]) -> bool:\n",
        "        def check(root):\n",
        "            if not root:\n",
        "                return 0\n",
        "            left = check(root.left)\n",
        "            right = check(root.right)\n",
        "            if left == -1 or right == -1 or abs(left - right) > 1:\n",
        "                return -1\n",
        "            return max(left,right) + 1\n",
        "    \n",
        "        return check(root) != -1"
      ],
      "metadata": {
        "id": "z8AtnpHQbj3D"
      },
      "execution_count": null,
      "outputs": []
    },
    {
      "cell_type": "markdown",
      "source": [
        "# 543. Diameter of Binary Tree\n"
      ],
      "metadata": {
        "id": "wnT7o857c7LL"
      }
    },
    {
      "cell_type": "code",
      "source": [
        "# Definition for a binary tree node.\n",
        "# class TreeNode:\n",
        "#     def __init__(self, val=0, left=None, right=None):\n",
        "#         self.val = val\n",
        "#         self.left = left\n",
        "#         self.right = right\n",
        "class Solution:\n",
        "    def diameterOfBinaryTree(self, root: Optional[TreeNode]) -> int:\n",
        "        self.ans = 0\n",
        "        def depth(p):\n",
        "            if not p:\n",
        "                return 0\n",
        "            left,right = depth(p.left), depth(p.right)\n",
        "            self.ans = max(self.ans, left+right)\n",
        "            return 1 + max(left,right)\n",
        "        depth(root)\n",
        "        return self.ans"
      ],
      "metadata": {
        "id": "b9yLJ1dIc7lI"
      },
      "execution_count": null,
      "outputs": []
    },
    {
      "cell_type": "code",
      "source": [
        "class Solution:\n",
        "    def diameterOfBinaryTree(self, root):\n",
        "        \"\"\"\n",
        "        :type root: TreeNode\n",
        "        :rtype: int\n",
        "        \"\"\"\n",
        "        def dfs(node):\n",
        "            if node is None:\n",
        "                return 0\n",
        "            left = dfs(node.left)\n",
        "            right = dfs(node.right)\n",
        "            self.ans = max(self.ans, left+right+1)\n",
        "            return max(left, right)+1\n",
        "        self.ans = 1\n",
        "        dfs(root)\n",
        "        return self.ans-1\n"
      ],
      "metadata": {
        "id": "SQLdOmZ7ud-z"
      },
      "execution_count": null,
      "outputs": []
    },
    {
      "cell_type": "markdown",
      "source": [
        "# 437. Path Sum III"
      ],
      "metadata": {
        "id": "OrGQoS8O507a"
      }
    },
    {
      "cell_type": "code",
      "source": [
        "class Solution:\n",
        "    def pathSum(self, root: Optional[TreeNode], targetSum: int) -> int:\n",
        "        if not root: return 0\n",
        "        def dfs(root,targetSum):\n",
        "            res = 0\n",
        "            if not root: return res\n",
        "            if targetSum == root.val:\n",
        "                res += 1\n",
        "            res += dfs(root.left, targetSum-root.val)\n",
        "            res += dfs(root.right, targetSum-root.val)\n",
        "            return res\n",
        "        return dfs(root, targetSum) + self.pathSum(root.left, targetSum) + self.pathSum(root.right, targetSum)\n"
      ],
      "metadata": {
        "id": "9d4unheBud5U"
      },
      "execution_count": null,
      "outputs": []
    },
    {
      "cell_type": "markdown",
      "source": [
        "# 74. Search a 2D Matrix\n"
      ],
      "metadata": {
        "id": "7K3c56_pGJgp"
      }
    },
    {
      "cell_type": "code",
      "source": [
        "class Solution:\n",
        "    def searchMatrix(self, matrix: List[List[int]], target: int) -> bool:\n",
        "        m = len(matrix)\n",
        "        if m == 0:\n",
        "            return False\n",
        "        n = len(matrix[0])\n",
        "        \n",
        "        left, right = 0, m*n - 1\n",
        "        while left <= right:\n",
        "            pivot_idx = (left + right) // 2\n",
        "            pivot_element = matrix[pivot_idx // n][pivot_idx % n]\n",
        "            if target == pivot_element:\n",
        "                return True\n",
        "            else:\n",
        "                if target < pivot_element:\n",
        "                    right = pivot_idx - 1\n",
        "                else:\n",
        "                    left = pivot_idx + 1 \n",
        "        return False "
      ],
      "metadata": {
        "id": "WfVAx57d51Gf"
      },
      "execution_count": null,
      "outputs": []
    },
    {
      "cell_type": "code",
      "source": [
        "class Solution(object):\n",
        "    def searchMatrix(self, matrix, target):\n",
        "        \"\"\"\n",
        "        :type matrix: List[List[int]]\n",
        "        :type target: int\n",
        "        :rtype: bool\n",
        "        \"\"\"\n",
        "        if not matrix or not matrix[0]:\n",
        "            return False\n",
        "        rows = len(matrix)\n",
        "        cols = len(matrix[0])\n",
        "        row, col = 0, cols - 1\n",
        "        while True:\n",
        "            if row < rows and col >= 0:\n",
        "                if matrix[row][col] == target:\n",
        "                    return True\n",
        "                elif matrix[row][col] < target:\n",
        "                    row += 1\n",
        "                else:\n",
        "                    col -= 1\n",
        "            else:\n",
        "                return False\n"
      ],
      "metadata": {
        "id": "j3VObZcVGfuz"
      },
      "execution_count": null,
      "outputs": []
    },
    {
      "cell_type": "code",
      "source": [
        "import numpy as np\n",
        "class Solution(object):\n",
        "    def searchMatrix(self, matrix, target):\n",
        "        \"\"\"\n",
        "        :type matrix: List[List[int]]\n",
        "        :type target: int\n",
        "        :rtype: bool\n",
        "        \"\"\"\n",
        "        matrix = np.reshape(matrix, [1, -1])\n",
        "        return target in matrix\n"
      ],
      "metadata": {
        "id": "_Mn1VpOYGpPt"
      },
      "execution_count": null,
      "outputs": []
    },
    {
      "cell_type": "markdown",
      "source": [
        "# 33. Search in Rotated Sorted Array\n"
      ],
      "metadata": {
        "id": "yM552MhRSsYI"
      }
    },
    {
      "cell_type": "code",
      "source": [
        "class Solution:\n",
        "    def search(self, nums: List[int], target: int) -> int:\n",
        "        try:\n",
        "            return nums.index(target)\n",
        "        except:\n",
        "            return -1"
      ],
      "metadata": {
        "id": "RuouY6VASs6J"
      },
      "execution_count": null,
      "outputs": []
    },
    {
      "cell_type": "code",
      "source": [
        "def search(nums,target):\n",
        "    length = len(nums)\n",
        "    if length < 1:\n",
        "        return -1\n",
        "    return bst(0,length -1, nums, target)\n",
        "\n",
        "def bst(s_index, e_index, nums, target):\n",
        "    mid_index = (s_index + e_index) // 2\n",
        "    mid_value = nums[mid_index]\n",
        "\n",
        "    if s_index > e_index:\n",
        "        return -1\n",
        "    if target == mid_value:\n",
        "        return mid_index\n",
        "\n",
        "    start_value = nums[s_index]\n",
        "    start_index = s_index\n",
        "    end_index = e_index\n",
        "\n",
        "    if start_value <= mid_value:\n",
        "        if start_value <= target and target < mid_value:\n",
        "            end_index = mid_index - 1\n",
        "        else:\n",
        "            start_index = mid_index + 1\n",
        "    else:\n",
        "        if mid_value < target and target <= nums[e_index]:\n",
        "            start_index = mid_index + 1\n",
        "        else:\n",
        "            end_index = mid_index - 1\n",
        "    return bst(start_index, end_index, nums, target)"
      ],
      "metadata": {
        "id": "b4SLi9M1S2qX"
      },
      "execution_count": null,
      "outputs": []
    },
    {
      "cell_type": "markdown",
      "source": [
        "# 108. Convert Sorted Array to Binary Search Tree\n"
      ],
      "metadata": {
        "id": "24fO_VynbIEa"
      }
    },
    {
      "cell_type": "code",
      "source": [
        "# Definition for a binary tree node.\n",
        "# class TreeNode:\n",
        "#     def __init__(self, val=0, left=None, right=None):\n",
        "#         self.val = val\n",
        "#         self.left = left\n",
        "#         self.right = right\n",
        "class Solution:\n",
        "    def sortedArrayToBST(self, nums: List[int]) -> Optional[TreeNode]:\n",
        "        if len(nums) == 0:\n",
        "            return None\n",
        "        mid = len(nums) // 2\n",
        "        node = TreeNode(nums[mid])\n",
        "        \n",
        "        node.left = self.sortedArrayToBST(nums[:mid])\n",
        "        node.right = self.sortedArrayToBST(nums[mid+1:])\n",
        "        return node\n"
      ],
      "metadata": {
        "id": "7UEGEqMkbH4K"
      },
      "execution_count": null,
      "outputs": []
    },
    {
      "cell_type": "code",
      "source": [
        "class Solution:\n",
        "    def sortedArrayToBST(self, nums: List[int]) -> TreeNode:\n",
        "        if not nums:\n",
        "            return None\n",
        "        def dfs(left, right):\n",
        "            if left>right:\n",
        "                return\n",
        "            mid=(left+right+1)//2\n",
        "            root=TreeNode(nums[mid])\n",
        "            root.left=dfs(left, mid-1)\n",
        "            root.right=dfs(mid+1, right)\n",
        "            return root\n",
        "        return dfs(0, len(nums)-1)"
      ],
      "metadata": {
        "id": "xDVNSJ9ybPAp"
      },
      "execution_count": null,
      "outputs": []
    },
    {
      "cell_type": "markdown",
      "source": [
        "# 230. Kth Smallest Element in a BST"
      ],
      "metadata": {
        "id": "8yR7uw09b6yS"
      }
    },
    {
      "cell_type": "code",
      "source": [
        "# Definition for a binary tree node.\n",
        "# class TreeNode:\n",
        "#     def __init__(self, val=0, left=None, right=None):\n",
        "#         self.val = val\n",
        "#         self.left = left\n",
        "#         self.right = right\n",
        "class Solution:\n",
        "    def kthSmallest(self, root: Optional[TreeNode], k: int) -> int:\n",
        "        def inorder(r):\n",
        "            return inorder(r.left) + [r.val] + inorder(r.right) if r else []\n",
        "        \n",
        "        return inorder(root)[k-1]"
      ],
      "metadata": {
        "id": "hKTyNs0gb7RD"
      },
      "execution_count": null,
      "outputs": []
    },
    {
      "cell_type": "code",
      "source": [
        "class Solution:\n",
        "    def kthSmallest(self, root, k):\n",
        "        \"\"\"\n",
        "        :type root: TreeNode\n",
        "        :type k: int\n",
        "        :rtype: int\n",
        "        \"\"\"\n",
        "        stack = []\n",
        "        while stack or root:\n",
        "            while root:\n",
        "                stack.append(root)\n",
        "                root = root.left\n",
        "            root = stack.pop()\n",
        "            k -= 1\n",
        "            if k == 0:\n",
        "                return root.val\n",
        "            root = root.right"
      ],
      "metadata": {
        "id": "LdLJGqSub-xr"
      },
      "execution_count": null,
      "outputs": []
    },
    {
      "cell_type": "markdown",
      "source": [
        "# 994. Rotting Oranges\n"
      ],
      "metadata": {
        "id": "9J7o4ozUtyCD"
      }
    },
    {
      "cell_type": "code",
      "source": [
        "class Solution:\n",
        "    def orangesRotting(self, grid: List[List[int]]) -> int:\n",
        "        row, col = len(grid), len(grid[0])\n",
        "        dirs = [(-1,0), (0,1), (1,0), (0,-1)]\n",
        "        fresh_set = set()\n",
        "        rotten = collections.deque()\n",
        "        step = 0\n",
        "        for x in range(row):\n",
        "            for y in range(col):\n",
        "                if grid[x][y] == 1:\n",
        "                    fresh_set.add((x,y))\n",
        "                elif grid[x][y] == 2:\n",
        "                    rotten.append([x,y,step])\n",
        "        print(rotten)\n",
        "        while rotten:\n",
        "            x,y,step = rotten.popleft()\n",
        "            print(x,y,step)\n",
        "            for dx,dy in dirs:\n",
        "                if 0 <= x+dx < row and 0 <= y+dy < col and grid[x+dx][y+dy] == 1:\n",
        "                    grid[x+dx][y+dy] = 2\n",
        "                    fresh_set.remove((x+dx, y+dy))\n",
        "                    rotten.append([x+dx, y+dy,step+1])\n",
        "        return step if not fresh_set else -1 \n"
      ],
      "metadata": {
        "id": "RvQyaGg6ty0c"
      },
      "execution_count": null,
      "outputs": []
    },
    {
      "cell_type": "markdown",
      "source": [
        "# 198. House Robber\n"
      ],
      "metadata": {
        "id": "g8E4ppMM0Lc4"
      }
    },
    {
      "cell_type": "code",
      "source": [
        "class Solution:\n",
        "    def rob(self, nums: List[int]) -> int:\n",
        "        if not nums:\n",
        "            return 0\n",
        "        \n",
        "        s = [nums[i] for i in range(len(nums))]\n",
        "        for i in range(1, len(nums)):\n",
        "            if i == 1:\n",
        "                s[1] = max(s[1],s[0])\n",
        "            else:\n",
        "                s[i] = max(s[i-1], s[i] + s[i-2])\n",
        "        return s[len(nums)-1]"
      ],
      "metadata": {
        "id": "tT-W6v6Oviev"
      },
      "execution_count": null,
      "outputs": []
    },
    {
      "cell_type": "code",
      "source": [
        "class Solution:\n",
        "    def rob(self, nums: List[int]) -> int:\n",
        "        former, later = 0,0\n",
        "        for i in nums:\n",
        "            former, later = later, max(former + i, later)\n",
        "        return later "
      ],
      "metadata": {
        "id": "27jt5EI_0NlT"
      },
      "execution_count": null,
      "outputs": []
    },
    {
      "cell_type": "markdown",
      "source": [
        "# 322. Coin Change\n"
      ],
      "metadata": {
        "id": "U4m-qJrc29gM"
      }
    },
    {
      "cell_type": "code",
      "source": [
        "class Solution:\n",
        "    def coinChange(self, coins: List[int], amount: int) -> int:\n",
        "        if amount == 0:\n",
        "            return 0 \n",
        "        nums_list = []\n",
        "        \n",
        "        def recurse(num_coins, left_amount):\n",
        "            \n",
        "            if left_amount < 0 :\n",
        "                return \n",
        "            \n",
        "            if left_amount == 0:\n",
        "                nums_list.append(num_coins)\n",
        "            \n",
        "            for coin in coins:\n",
        "                recurse(num_coins+1, left_amount - coin)\n",
        "        \n",
        "        recurse(0,amount)\n",
        "        if len(nums_list) == 0:\n",
        "            return -1 \n",
        "        return min(nums_list)\n",
        "        "
      ],
      "metadata": {
        "id": "D-6krrTv294v"
      },
      "execution_count": null,
      "outputs": []
    },
    {
      "cell_type": "code",
      "source": [
        "class Solution:\n",
        "    def coinChange(self, coins: List[int], amount: int) -> int:\n",
        "        dp = [-1] * (amount + 1)\n",
        "        dp[0] = 0\n",
        "\n",
        "        for i in range(1,amount+1):\n",
        "            if i in coins:\n",
        "                dp[i] =1\n",
        "                continue\n",
        "            temp_list = []\n",
        "            for coin in coins:\n",
        "                if coin < i and dp[i-coin] != -1:\n",
        "                    temp_list.append(dp[i-coin])\n",
        "            if temp_list:\n",
        "                dp[i] = min(temp_list ) + 1\n",
        "        \n",
        "        return dp[amount]"
      ],
      "metadata": {
        "id": "37kAVWfU3Aeo"
      },
      "execution_count": null,
      "outputs": []
    },
    {
      "cell_type": "markdown",
      "source": [
        "# 416. Partition Equal Subset Sum\n"
      ],
      "metadata": {
        "id": "hPg6qxpAH-zS"
      }
    },
    {
      "cell_type": "code",
      "source": [
        "class Solution:\n",
        "    def canPartition(self, nums: List[int]) -> bool:\n",
        "        if len(nums) < 2:\n",
        "            return False\n",
        "        total = sum(nums)\n",
        "        if total % 2 != 0:\n",
        "            return False\n",
        "        target = total // 2\n",
        "        dp = [True] + [False] * target\n",
        "        for i,n in enumerate(nums):\n",
        "            for j in range(target, n - 1, -1):\n",
        "                print(j)\n",
        "                dp[j] |= dp[j -n]\n",
        "        return dp[target]\n",
        "                    "
      ],
      "metadata": {
        "id": "dWSOc4SnH_ED"
      },
      "execution_count": null,
      "outputs": []
    },
    {
      "cell_type": "code",
      "source": [
        "class Solution:\n",
        "    def canPartition(self, nums: List[int]) -> bool:\n",
        "        if sum(nums) % 2:\n",
        "            return False\n",
        "    \n",
        "        dp = set()\n",
        "        dp.add(0)\n",
        "        target = sum(nums) // 2\n",
        "        \n",
        "        for i in range(len(nums) -1, -1, -1):\n",
        "            nextDP = set()\n",
        "            for t in dp:\n",
        "                if (t + nums[i]) == target:\n",
        "                    return True\n",
        "                nextDP.add(t + nums[i])\n",
        "                nextDP.add(t)\n",
        "            dp = nextDP\n",
        "        return True if target in dp else False\n"
      ],
      "metadata": {
        "id": "M2DIevw9ImNz"
      },
      "execution_count": null,
      "outputs": []
    }
  ]
}