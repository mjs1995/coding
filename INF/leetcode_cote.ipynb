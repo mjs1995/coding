{
  "nbformat": 4,
  "nbformat_minor": 0,
  "metadata": {
    "colab": {
      "name": "leetcode_cote.ipynb",
      "provenance": [],
      "collapsed_sections": [],
      "toc_visible": true,
      "authorship_tag": "ABX9TyP8PFI8Rk217COHAlNO8aUG",
      "include_colab_link": true
    },
    "kernelspec": {
      "name": "python3",
      "display_name": "Python 3"
    },
    "language_info": {
      "name": "python"
    }
  },
  "cells": [
    {
      "cell_type": "markdown",
      "metadata": {
        "id": "view-in-github",
        "colab_type": "text"
      },
      "source": [
        "<a href=\"https://colab.research.google.com/github/mjs1995/coding/blob/main/INF/leetcode_cote.ipynb\" target=\"_parent\"><img src=\"https://colab.research.google.com/assets/colab-badge.svg\" alt=\"Open In Colab\"/></a>"
      ]
    },
    {
      "cell_type": "markdown",
      "source": [
        "# 1.Two_sum"
      ],
      "metadata": {
        "id": "HjrinHo1ENz4"
      }
    },
    {
      "cell_type": "code",
      "execution_count": null,
      "metadata": {
        "id": "liSPcaxPEA_q"
      },
      "outputs": [],
      "source": [
        "class Solution(object):\n",
        "    def twoSum(self, nums, target):\n",
        "        \"\"\"\n",
        "        :type nums: List[int]\n",
        "        :type target: int\n",
        "        :rtype: List[int]\n",
        "        \"\"\"\n",
        "        for i in range(len(nums) - 1): # 0,1\n",
        "            for j in range(i+1,len(nums)): # 1,2,2\n",
        "                if nums[i] + nums[j] == target:\n",
        "                    return [i,j]"
      ]
    },
    {
      "cell_type": "markdown",
      "source": [
        "# 20. Valid Parentheses"
      ],
      "metadata": {
        "id": "qW_8BhSBHCYn"
      }
    },
    {
      "cell_type": "code",
      "source": [
        "s = \"()[]{}\""
      ],
      "metadata": {
        "id": "Qgu7cLEXEPsP"
      },
      "execution_count": null,
      "outputs": []
    },
    {
      "cell_type": "code",
      "source": [
        "array = {}\n",
        "array[\"(\"] = \")\"\n",
        "array[\"[\"] = \"]\"\n",
        "array[\"{\"] = \"}\""
      ],
      "metadata": {
        "id": "gOuE_j8YHD1M"
      },
      "execution_count": null,
      "outputs": []
    },
    {
      "cell_type": "code",
      "source": [
        "for i in range(len(s)): # 0,1,2,3,4,5\n",
        "    if i % 2 == 0:\n",
        "        if s[i+1] in array[s[i]]:\n",
        "            return True\n",
        "        else:\n",
        "            return False"
      ],
      "metadata": {
        "colab": {
          "base_uri": "https://localhost:8080/"
        },
        "id": "28_oMCEpHQ2C",
        "outputId": "cfc0fd18-4ef8-403d-b96f-3d92e5ded03a"
      },
      "execution_count": null,
      "outputs": [
        {
          "output_type": "stream",
          "name": "stdout",
          "text": [
            "0\n",
            "2\n",
            "4\n"
          ]
        }
      ]
    },
    {
      "cell_type": "code",
      "source": [
        "s = \"()[]{}\"\n",
        "array = {}\n",
        "array = {\"(\" : \")\", \"[\":\"]\",\"{\":\"}\"}"
      ],
      "metadata": {
        "id": "iDnlkO0G0voK"
      },
      "execution_count": null,
      "outputs": []
    },
    {
      "cell_type": "code",
      "source": [
        "stack = []\n",
        "for i in s:\n",
        "    if i in array.values():\n",
        "        stack.append(i)\n",
        "    elif i in array.keys():\n",
        "        if stack == [] or array[i] != stack.pop():\n",
        "            print(False)\n",
        "        else:\n",
        "            print(False)\n",
        "    print(stack == [])"
      ],
      "metadata": {
        "colab": {
          "base_uri": "https://localhost:8080/"
        },
        "id": "aZwXMcCG05d0",
        "outputId": "d75b6048-87c2-4342-a5bf-1f3d9b3a622e"
      },
      "execution_count": null,
      "outputs": [
        {
          "output_type": "stream",
          "name": "stdout",
          "text": [
            "False\n",
            "True\n",
            "False\n",
            "False\n",
            "True\n",
            "False\n",
            "False\n",
            "True\n",
            "False\n"
          ]
        }
      ]
    },
    {
      "cell_type": "code",
      "source": [
        "class Solution(object):\n",
        "    def isValid(self, s):\n",
        "        \"\"\"\n",
        "        :type s: str\n",
        "        :rtype: bool\n",
        "        \"\"\"\n",
        "        array = {\"]\":\"[\", \"}\":\"{\", \")\":\"(\"}\n",
        "        stack = []\n",
        "        for i in s:\n",
        "            if i in array.values():\n",
        "                stack.append(i)\n",
        "            elif i in array.keys():\n",
        "                if stack == [] or array[i] != stack.pop():\n",
        "                    return False\n",
        "            else:\n",
        "                return False\n",
        "        return stack == []"
      ],
      "metadata": {
        "id": "rmCQLNDozTCv"
      },
      "execution_count": null,
      "outputs": []
    },
    {
      "cell_type": "markdown",
      "source": [
        "# 21. Merge Two Sorted Lists -> @"
      ],
      "metadata": {
        "id": "SbOL7ith22_Z"
      }
    },
    {
      "cell_type": "code",
      "source": [
        "list1 = [1,2,4]\n",
        "list2 = [1,3,4]"
      ],
      "metadata": {
        "id": "5tMRCYJ31tNi"
      },
      "execution_count": null,
      "outputs": []
    },
    {
      "cell_type": "code",
      "source": [
        "for i in list1:\n",
        "    list2.append(i)\n",
        "list2.sort()"
      ],
      "metadata": {
        "id": "-TqTk3pl2-W8"
      },
      "execution_count": null,
      "outputs": []
    },
    {
      "cell_type": "code",
      "source": [
        "list2"
      ],
      "metadata": {
        "colab": {
          "base_uri": "https://localhost:8080/"
        },
        "id": "f_q_FjQ93Fq4",
        "outputId": "a2879295-5d01-4cef-ecbb-22f19c0c4673"
      },
      "execution_count": null,
      "outputs": [
        {
          "output_type": "execute_result",
          "data": {
            "text/plain": [
              "[1, 1, 2, 3, 4, 4]"
            ]
          },
          "metadata": {},
          "execution_count": 24
        }
      ]
    },
    {
      "cell_type": "markdown",
      "source": [
        "# 35. Search Insert Position"
      ],
      "metadata": {
        "id": "rA_YaP413u2a"
      }
    },
    {
      "cell_type": "code",
      "source": [
        "nums = [1,3,5,6]\n",
        "target = 2\n",
        "\n",
        "for i in range(len(nums)):\n",
        "    if nums[i] == target:\n",
        "        print(i)\n",
        "    else:\n",
        "        nums.append(target)\n",
        "        nums.sort()\n",
        "        if nums[i] == target:\n",
        "            print(i)"
      ],
      "metadata": {
        "colab": {
          "base_uri": "https://localhost:8080/"
        },
        "id": "ebNyUCiU3GQT",
        "outputId": "df7b82dc-0041-45b6-f5a2-7076108c894e"
      },
      "execution_count": null,
      "outputs": [
        {
          "output_type": "stream",
          "name": "stdout",
          "text": [
            "1\n",
            "2\n",
            "3\n"
          ]
        }
      ]
    },
    {
      "cell_type": "code",
      "source": [
        "nums = [1,3,5,6]\n",
        "target = 2\n",
        "left = 0\n",
        "right = len(nums)-1\n",
        "while left <= right:\n",
        "    mid = (left + right) // 2\n",
        "    if nums[mid] > target:\n",
        "        right = mid - 1\n",
        "    elif nums[mid] < target:\n",
        "        left = mid + 1\n",
        "    else:\n",
        "        print(mid)"
      ],
      "metadata": {
        "id": "oZmBsVSV6W-l"
      },
      "execution_count": null,
      "outputs": []
    },
    {
      "cell_type": "code",
      "source": [
        "class Solution(object):\n",
        "    def searchInsert(self, nums, target):\n",
        "        \"\"\"\n",
        "        :type nums: List[int]\n",
        "        :type target: int\n",
        "        :rtype: int\n",
        "        \"\"\"\n",
        "        left = 0\n",
        "        right = len(nums) - 1\n",
        "        while left <= right:\n",
        "            mid = (left + right) // 2\n",
        "            if nums[mid] > target:\n",
        "                right = mid - 1\n",
        "            elif nums[mid] < target:\n",
        "                left = mid + 1\n",
        "            else:\n",
        "                return mid\n",
        "        return left"
      ],
      "metadata": {
        "colab": {
          "base_uri": "https://localhost:8080/"
        },
        "id": "bg8V-U-e9XIe",
        "outputId": "6cdad059-9601-4b89-8e9b-384ae571e174"
      },
      "execution_count": null,
      "outputs": [
        {
          "output_type": "execute_result",
          "data": {
            "text/plain": [
              "0"
            ]
          },
          "metadata": {},
          "execution_count": 34
        }
      ]
    },
    {
      "cell_type": "markdown",
      "source": [
        "# 13. Roman to Integer\n"
      ],
      "metadata": {
        "id": "wB1MV6K6RBuC"
      }
    },
    {
      "cell_type": "code",
      "source": [
        "arra = {}\n",
        "array = {'I':1, 'V':5, 'X':10, 'L':50, 'C':100, 'D':500, 'M':1000}"
      ],
      "metadata": {
        "id": "_lH_TZc06Q82"
      },
      "execution_count": null,
      "outputs": []
    },
    {
      "cell_type": "code",
      "source": [
        "s = \"LVIII\"\n",
        "res = 0\n",
        "for i in s:\n",
        "    res += array[i]\n",
        "res"
      ],
      "metadata": {
        "colab": {
          "base_uri": "https://localhost:8080/"
        },
        "id": "YMuHfFASRTFO",
        "outputId": "83e5cabf-ecf7-4086-b537-343e353e6c16"
      },
      "execution_count": null,
      "outputs": [
        {
          "output_type": "execute_result",
          "data": {
            "text/plain": [
              "58"
            ]
          },
          "metadata": {},
          "execution_count": 5
        }
      ]
    },
    {
      "cell_type": "code",
      "source": [
        "array = {'I':1, 'V':5, 'X':10, 'L':50, 'C':100, 'D':500, 'M':1000}\n",
        "s = \"MCMXCIV\"\n",
        "res = 0\n",
        "for i in range(len(s)-1):\n",
        "    num = array[s[i]]\n",
        "    nextnum = array[s[i+1]]\n",
        "    if num >= nextnum:\n",
        "        res += num\n",
        "    else:\n",
        "        res -= num\n",
        "res += array[s[-1]]\n",
        "res"
      ],
      "metadata": {
        "colab": {
          "base_uri": "https://localhost:8080/"
        },
        "id": "_uhiGn9Z3FsL",
        "outputId": "85c02b42-7a7f-43a7-ed58-438d809ff9ab"
      },
      "execution_count": null,
      "outputs": [
        {
          "output_type": "execute_result",
          "data": {
            "text/plain": [
              "1994"
            ]
          },
          "metadata": {},
          "execution_count": 3
        }
      ]
    },
    {
      "cell_type": "code",
      "source": [
        "class Solution(object):\n",
        "    def romanToInt(self, s):\n",
        "        \"\"\"\n",
        "        :type s: str\n",
        "        :rtype: int\n",
        "        \"\"\"\n",
        "        arra = {}\n",
        "        array = {'I':1, 'V':5, 'X':10, 'L':50, 'C':100, 'D':500, 'M':1000}\n",
        "        res = 0\n",
        "        for i in range(len(s)-1):\n",
        "            num = array[s[i]]\n",
        "            nextnum = array[s[i+1]]\n",
        "            if nextnum > num :\n",
        "                res -= num\n",
        "            else:\n",
        "                res += num\n",
        "        res += array[s[-1]]\n",
        "        return res"
      ],
      "metadata": {
        "id": "gJAcpruh97ta"
      },
      "execution_count": null,
      "outputs": []
    },
    {
      "cell_type": "markdown",
      "source": [
        "# 14. Longest Common Prefix"
      ],
      "metadata": {
        "id": "rUCSKLnHUc5R"
      }
    },
    {
      "cell_type": "code",
      "source": [
        "strs = [\"flower\",\"flow\",\"flight\"]\n",
        "strs.sort(key = lambda x : len(x))\n",
        "for i in range(len(strs[0])): # 0 1 2 3\n",
        "    for j in range(i,len(strs)): # 0 1 2 / 1 2 / 2 \n",
        "        # print(i,j)\n",
        "        if strs[0][i] != strs[j][i]:\n",
        "            print(strs[0][:i])"
      ],
      "metadata": {
        "colab": {
          "base_uri": "https://localhost:8080/"
        },
        "id": "6tNIAKseSeKV",
        "outputId": "c79c48e0-8757-4d11-c70b-1e7cd55be977"
      },
      "execution_count": null,
      "outputs": [
        {
          "output_type": "stream",
          "name": "stdout",
          "text": [
            "0 0\n",
            "0 1\n",
            "0 2\n",
            "1 1\n",
            "1 2\n",
            "2 2\n",
            "fl\n"
          ]
        }
      ]
    },
    {
      "cell_type": "code",
      "source": [
        "class Solution(object):\n",
        "    def longestCommonPrefix(self, strs):\n",
        "        \"\"\"\n",
        "        :type strs: List[str]\n",
        "        :rtype: str\n",
        "        \"\"\"\n",
        "        strs.sort(key = lambda x : len(x))\n",
        "        if len(strs) == 0:\n",
        "            return \"\"\n",
        "        else:\n",
        "            for i in range(len(strs[0])):\n",
        "                for j in range(1, len(strs)):\n",
        "                    if strs[0][i] != strs[j][i]:\n",
        "                        return strs[0][:i]\n",
        "        return strs[0]"
      ],
      "metadata": {
        "id": "Y_nuLHH199Xq"
      },
      "execution_count": null,
      "outputs": []
    },
    {
      "cell_type": "markdown",
      "source": [
        "# 70. Climbing Stairs"
      ],
      "metadata": {
        "id": "ajRqOBHMCVNR"
      }
    },
    {
      "cell_type": "code",
      "source": [
        "class Solution(object):\n",
        "    def climbStairs(self, n):\n",
        "        \"\"\"\n",
        "        :type n: int\n",
        "        :rtype: int\n",
        "        \"\"\"\n",
        "        first = 1\n",
        "        second = 2\n",
        "        if n == 1:\n",
        "            return n\n",
        "        for _ in range(3, n+1):\n",
        "            tmp = first + second\n",
        "            first = second\n",
        "            second = tmp\n",
        "        return second"
      ],
      "metadata": {
        "id": "E-0GSxXuCV4R"
      },
      "execution_count": null,
      "outputs": []
    },
    {
      "cell_type": "markdown",
      "source": [
        "# 1480. Running Sum of 1d Array\n"
      ],
      "metadata": {
        "id": "TCajHiRe15xi"
      }
    },
    {
      "cell_type": "code",
      "source": [
        "class Solution:\n",
        "    def runningSum(self, nums: List[int]) -> List[int]:\n",
        "        res = [0] * len(nums)\n",
        "        for i,k in enumerate(nums):\n",
        "            res[i] = res[i-1] + k\n",
        "        return res"
      ],
      "metadata": {
        "id": "_sIvfIqJ18Im"
      },
      "execution_count": null,
      "outputs": []
    },
    {
      "cell_type": "code",
      "source": [
        "class Solution:\n",
        "    def runningSum(self, nums: List[int]) -> List[int]:\n",
        "        for i in range(1, len(nums)):\n",
        "            nums[i] += nums[i - 1]\n",
        "        return nums\n"
      ],
      "metadata": {
        "id": "uAlvKiJA2EqS"
      },
      "execution_count": null,
      "outputs": []
    },
    {
      "cell_type": "code",
      "source": [
        " class Solution:\n",
        "    def runningSum(self, nums):\n",
        "        return [sum(nums[:i+1]) for i in range(len(nums))]\n"
      ],
      "metadata": {
        "id": "40kRE5gA2ElB"
      },
      "execution_count": null,
      "outputs": []
    },
    {
      "cell_type": "markdown",
      "source": [
        "# 724. Find Pivot Index"
      ],
      "metadata": {
        "id": "WbOJ-hce-qxT"
      }
    },
    {
      "cell_type": "code",
      "source": [
        "class Solution:\n",
        "    def pivotIndex(self, nums: List[int]) -> int:\n",
        "        s = sum(nums)\n",
        "        leftsum = 0\n",
        "        for i,x in enumerate(nums):\n",
        "            if leftsum == (s - leftsum - x):\n",
        "                return i\n",
        "            leftsum += x\n",
        "        return -1\n",
        "    "
      ],
      "metadata": {
        "id": "RhQccFsB-rDH"
      },
      "execution_count": null,
      "outputs": []
    },
    {
      "cell_type": "code",
      "source": [
        "class Solution:\n",
        "    def pivotIndex(self, nums):\n",
        "        \"\"\"\n",
        "        :type nums: List[int]\n",
        "        :rtype: int\n",
        "        \"\"\"\n",
        "        sumL = 0\n",
        "        sumR = sum(nums)\n",
        "        for i in range(len(nums)):\n",
        "            sumR -= nums[i]\n",
        "            if sumL == sumR:\n",
        "                return i\n",
        "            sumL += nums[i]\n",
        "        return -1\n"
      ],
      "metadata": {
        "id": "IpkjYpG7-rys"
      },
      "execution_count": null,
      "outputs": []
    },
    {
      "cell_type": "markdown",
      "source": [
        ""
      ],
      "metadata": {
        "id": "zvnvpZUzR338"
      }
    },
    {
      "cell_type": "code",
      "source": [
        "        s = \"paper\"\n",
        "        t = \"title\"\n",
        "        dic = {}\n",
        "        res = []\n",
        "        for i,k in enumerate(s):\n",
        "            if k not in dic:\n",
        "                dic[k] = i\n",
        "            res.append(str(dic[k]))\n",
        "         \n",
        "        new_dic = {}\n",
        "        new_res = []\n",
        "        for i,k in enumerate(t):\n",
        "            if k not in new_dic:\n",
        "                new_dic[k] = i\n",
        "            new_res.append(str(new_dic[k]))\n",
        "        return ''.join(new_res) == ''.join(res)"
      ],
      "metadata": {
        "colab": {
          "base_uri": "https://localhost:8080/"
        },
        "id": "irmIH1U4R4HZ",
        "outputId": "0153bf0d-f55c-4e64-dd2e-2c508f3681a3"
      },
      "execution_count": null,
      "outputs": [
        {
          "output_type": "stream",
          "name": "stdout",
          "text": [
            "['0']\n",
            "['0', '1']\n",
            "['0', '1', '0']\n",
            "['0', '1', '0', '3']\n",
            "['0', '1', '0', '3', '4']\n"
          ]
        }
      ]
    },
    {
      "cell_type": "code",
      "source": [
        "' '.join(new_res)"
      ],
      "metadata": {
        "colab": {
          "base_uri": "https://localhost:8080/",
          "height": 35
        },
        "id": "83uwoIcqR_iB",
        "outputId": "2d5518c8-2164-48f2-8e30-d458962ae46d"
      },
      "execution_count": null,
      "outputs": [
        {
          "output_type": "execute_result",
          "data": {
            "text/plain": [
              "'0 1 0 3 4'"
            ],
            "application/vnd.google.colaboratory.intrinsic+json": {
              "type": "string"
            }
          },
          "metadata": {},
          "execution_count": 18
        }
      ]
    },
    {
      "cell_type": "code",
      "source": [
        "' '.join(res)"
      ],
      "metadata": {
        "colab": {
          "base_uri": "https://localhost:8080/",
          "height": 35
        },
        "id": "HZIo3I52SgDX",
        "outputId": "b7bfed07-223f-40bc-ffae-6d8d73409e92"
      },
      "execution_count": null,
      "outputs": [
        {
          "output_type": "execute_result",
          "data": {
            "text/plain": [
              "'0 1 0 3 4'"
            ],
            "application/vnd.google.colaboratory.intrinsic+json": {
              "type": "string"
            }
          },
          "metadata": {},
          "execution_count": 19
        }
      ]
    },
    {
      "cell_type": "code",
      "source": [
        "new_dic"
      ],
      "metadata": {
        "colab": {
          "base_uri": "https://localhost:8080/"
        },
        "id": "9L-AYsmNSyy0",
        "outputId": "c5742dd7-5233-481d-b3df-dd1d378fd851"
      },
      "execution_count": null,
      "outputs": [
        {
          "output_type": "execute_result",
          "data": {
            "text/plain": [
              "{'e': 4, 'i': 1, 'l': 3, 't': 0}"
            ]
          },
          "metadata": {},
          "execution_count": 16
        }
      ]
    },
    {
      "cell_type": "code",
      "source": [
        "new_res"
      ],
      "metadata": {
        "colab": {
          "base_uri": "https://localhost:8080/"
        },
        "id": "xR0Wtr9rSxLQ",
        "outputId": "26247f19-b290-4d16-b903-5728eadc4aa7"
      },
      "execution_count": null,
      "outputs": [
        {
          "output_type": "execute_result",
          "data": {
            "text/plain": [
              "['0', '1', '0', '3', '4']"
            ]
          },
          "metadata": {},
          "execution_count": 15
        }
      ]
    },
    {
      "cell_type": "code",
      "source": [
        "class Solution:\n",
        "    def isIsomorphic(self, s: str, t: str) -> bool:\n",
        "        dic = {}\n",
        "        res = []\n",
        "        for i,k in enumerate(s):\n",
        "            if k not in dic:\n",
        "                dic[k] = i\n",
        "            res.append(str(dic[k]))\n",
        "         \n",
        "        new_dic = {}\n",
        "        new_res = []\n",
        "        for i,k in enumerate(t):\n",
        "            if k not in new_dic:\n",
        "                new_dic[k] = i\n",
        "            new_res.append(str(new_dic[k]))\n",
        "        return ' '.join(new_res) == ' '.join(res)"
      ],
      "metadata": {
        "id": "7iz_KLYITSZd"
      },
      "execution_count": null,
      "outputs": []
    },
    {
      "cell_type": "markdown",
      "source": [
        "# 392. Is Subsequence\n"
      ],
      "metadata": {
        "id": "fc3O-ut6CkQP"
      }
    },
    {
      "cell_type": "code",
      "source": [
        "s = \"abc\"\n",
        "t = \"ahbgdc\"\n",
        "s = \"axc\"\n",
        "t = \"ahbgdc\""
      ],
      "metadata": {
        "id": "DsueP3_WClNd"
      },
      "execution_count": null,
      "outputs": []
    },
    {
      "cell_type": "code",
      "source": [
        "class Solution:\n",
        "    def isSubsequence(self, s: str, t: str) -> bool:\n",
        "        if not s:\n",
        "            return True\n",
        "        i = 0\n",
        "        for c in t:\n",
        "            if c == s[i]:\n",
        "                i += 1\n",
        "            if i >= len(s):\n",
        "                break\n",
        "        if i == len(s):     \n",
        "            return True        \n",
        "        return False"
      ],
      "metadata": {
        "colab": {
          "base_uri": "https://localhost:8080/"
        },
        "id": "_PaFmY0dEpTI",
        "outputId": "da58d108-8c70-4126-e03a-fd8c40b8ab1d"
      },
      "execution_count": null,
      "outputs": [
        {
          "output_type": "stream",
          "name": "stdout",
          "text": [
            "false\n"
          ]
        },
        {
          "output_type": "execute_result",
          "data": {
            "text/plain": [
              "[0, 1, 0]"
            ]
          },
          "metadata": {},
          "execution_count": 6
        }
      ]
    },
    {
      "cell_type": "markdown",
      "source": [
        "# 121. Best Time to Buy and Sell Stock\n"
      ],
      "metadata": {
        "id": "jIhK7hpDHa8K"
      }
    },
    {
      "cell_type": "code",
      "source": [
        "|def maxProfit(prices):\n",
        "    res = 0\n",
        "    for i in range(len(prices)):\n",
        "        for j in range(i+1,len(prices)):\n",
        "            res = max(res, prices[j] - prices[i])\n",
        "    return res\n",
        "maxProfit([7,1,5,3,6,4])"
      ],
      "metadata": {
        "colab": {
          "base_uri": "https://localhost:8080/"
        },
        "id": "3PvUXVDDIweQ",
        "outputId": "1431d9f3-049e-4f94-8ff4-295977dfe5a8"
      },
      "execution_count": null,
      "outputs": [
        {
          "output_type": "execute_result",
          "data": {
            "text/plain": [
              "5"
            ]
          },
          "metadata": {},
          "execution_count": 44
        }
      ]
    },
    {
      "cell_type": "code",
      "source": [
        "class Solution:\n",
        "    def maxProfit(self, prices: List[int]) -> int:\n",
        "            profit = 0\n",
        "            min_price = 9999\n",
        "            for i in prices:\n",
        "                min_price = min(i, min_price)\n",
        "                profit = max(profit, i - min_price )\n",
        "            return profit\n",
        "\n"
      ],
      "metadata": {
        "id": "1JhKOEhpMswQ"
      },
      "execution_count": null,
      "outputs": []
    },
    {
      "cell_type": "markdown",
      "source": [
        "# 409. Longest Palindrome"
      ],
      "metadata": {
        "id": "gu0z3vS6LwO0"
      }
    },
    {
      "cell_type": "code",
      "source": [
        "s = \"abccccdd\"\n",
        "import collections \n",
        "collections.Counter(s)"
      ],
      "metadata": {
        "colab": {
          "base_uri": "https://localhost:8080/"
        },
        "id": "fMrYVyM9Lz5L",
        "outputId": "85eb478c-be2e-4f72-c0e9-9dae3a5e786b"
      },
      "execution_count": null,
      "outputs": [
        {
          "output_type": "execute_result",
          "data": {
            "text/plain": [
              "Counter({'a': 1, 'b': 1, 'c': 4, 'd': 2})"
            ]
          },
          "metadata": {},
          "execution_count": 21
        }
      ]
    },
    {
      "cell_type": "code",
      "source": [
        "pairs = 0\n",
        "unpaired_chars = set()\n",
        "\n",
        "for char in s:\n",
        "    if char in unpaired_chars:\n",
        "        pairs += 1\n",
        "        unpaired_chars.remove(char)\n",
        "    else:\n",
        "        unpaired_chars.add(char)\n",
        "pairs * 2 + 1 if unpaired_chars else pairs * 2"
      ],
      "metadata": {
        "colab": {
          "base_uri": "https://localhost:8080/"
        },
        "id": "9DOefr3-MqjQ",
        "outputId": "bfcd43ec-e3c0-4d3b-c581-1b1e44fd568f"
      },
      "execution_count": null,
      "outputs": [
        {
          "output_type": "execute_result",
          "data": {
            "text/plain": [
              "7"
            ]
          },
          "metadata": {},
          "execution_count": 23
        }
      ]
    },
    {
      "cell_type": "code",
      "source": [
        "def longestPalindrome(self, s):\n",
        "    ans = 0\n",
        "    for v in collections.Counter(s).values():\n",
        "        ans += v // 2 * 2\n",
        "        if ans % 2 == 0 and v % 2 == 1:\n",
        "            ans += 1\n",
        "    return ans\n"
      ],
      "metadata": {
        "id": "Sxn1tfdaNuXa"
      },
      "execution_count": null,
      "outputs": []
    },
    {
      "cell_type": "markdown",
      "source": [
        "# 589. N-ary Tree Preorder Traversal\n"
      ],
      "metadata": {
        "id": "f8HamAFTmat_"
      }
    },
    {
      "cell_type": "code",
      "source": [
        "root = [1,'null',3,2,4,'null',5,6]\n",
        "class Solution:\n",
        "    def preorder(self, root: 'Node', ans: list = None) -> List[int]:\n",
        "        if not root: \n",
        "            return ans\n",
        "        if ans == None: \n",
        "            ans = []\n",
        "        ans.append(root.val)\n",
        "        for child in root.children:\n",
        "            self.preorder(child, ans)\n",
        "        return ans\n"
      ],
      "metadata": {
        "id": "n75HCREimbH-"
      },
      "execution_count": null,
      "outputs": []
    },
    {
      "cell_type": "code",
      "source": [
        "\"\"\"\n",
        "class Node:\n",
        "    def __init__(self, val=None, children=None):\n",
        "        self.val = val\n",
        "        self.children = children\n",
        "\"\"\"\n",
        "\n",
        "class Solution:\n",
        "    def preorder(self, root: 'Node') -> List[int]:\n",
        "        r = []\n",
        "        def pre(root):\n",
        "            if not root:\n",
        "                return\n",
        "            r.append(root.val)\n",
        "            for child in root.children:\n",
        "                pre(child)\n",
        "        pre(root)\n",
        "        return r"
      ],
      "metadata": {
        "id": "zOwTGukznbEP"
      },
      "execution_count": null,
      "outputs": []
    },
    {
      "cell_type": "markdown",
      "source": [
        "# 102. Binary Tree Level Order Traversal\n"
      ],
      "metadata": {
        "id": "nLMsv3EboFek"
      }
    },
    {
      "cell_type": "code",
      "source": [
        "# Definition for a binary tree node.\n",
        "# class TreeNode:\n",
        "#     def __init__(self, val=0, left=None, right=None):\n",
        "#         self.val = val\n",
        "#         self.left = left\n",
        "#         self.right = right\n",
        "class Solution:\n",
        "    def levelOrder(self, root: Optional[TreeNode]) -> List[List[int]]:\n",
        "        if not root:\n",
        "            return root       \n",
        "        binary_tree_list, queue = [], [root]\n",
        "        while len(queue) != 0:\n",
        "            children, parent_val = [], []\n",
        "            while len(queue) != 0:\n",
        "                parent = queue.pop(0)\n",
        "                parent_val.append(parent.val)\n",
        "                if parent.left:\n",
        "                    children.append(parent.left)\n",
        "                if parent.right:\n",
        "                    children.append(parent.right)\n",
        "            queue = children\n",
        "            binary_tree_list.append(parent_val)\n",
        "        return binary_tree_list             \n"
      ],
      "metadata": {
        "id": "1Y5ucoWDoFom"
      },
      "execution_count": null,
      "outputs": []
    },
    {
      "cell_type": "markdown",
      "source": [
        "# 704. Binary Search"
      ],
      "metadata": {
        "id": "IZp7cvn0rvme"
      }
    },
    {
      "cell_type": "code",
      "source": [
        "        nums = [-1,0,3,5,9,12]\n",
        "        target = 9\n",
        "\n",
        "        start = 0\n",
        "        end = len(nums) -1 \n",
        "        while start <= end:\n",
        "            mid = start + (end - start) // 2 \n",
        "            if nums[mid] == target:\n",
        "                print(mid)\n",
        "            if nums[mid] > target:\n",
        "                end = mid - 1\n",
        "            else:\n",
        "                start = mid + 1\n"
      ],
      "metadata": {
        "colab": {
          "base_uri": "https://localhost:8080/"
        },
        "id": "UgAfC11XrwH1",
        "outputId": "8302b8e3-cef4-4757-bc26-29bab3bd7c24"
      },
      "execution_count": null,
      "outputs": [
        {
          "output_type": "stream",
          "name": "stdout",
          "text": [
            "4\n"
          ]
        }
      ]
    },
    {
      "cell_type": "code",
      "source": [
        "class Solution:\n",
        "    def search(self, nums: List[int], target: int) -> int:\n",
        "        start = 0\n",
        "        end = len(nums) -1 \n",
        "        while start <= end:\n",
        "            mid = start + (end - start) // 2 \n",
        "            if nums[mid] == target:\n",
        "                return mid\n",
        "            if nums[mid] > target:\n",
        "                end = mid - 1\n",
        "            else:\n",
        "                start = mid + 1\n",
        "        return -1            "
      ],
      "metadata": {
        "id": "RCz1QPLythIJ"
      },
      "execution_count": null,
      "outputs": []
    },
    {
      "cell_type": "code",
      "source": [
        "class Solution:\n",
        "    def search(self, nums: List[int], target: int) -> int:\n",
        "        start = 0\n",
        "        end = len(nums)\n",
        "\n",
        "        # Binary Search\n",
        "        while start < end:\n",
        "            mid = ((end-start) // 2) + start\n",
        "            # Mid point is target\n",
        "            if nums[mid] == target:\n",
        "                return mid\n",
        "            # Mid point bigger than target\n",
        "            elif nums[mid] > target:\n",
        "                end = mid\n",
        "            # Mid point smaller than target\n",
        "            elif nums[mid] < target:\n",
        "                start = mid+1\n",
        "        return -1"
      ],
      "metadata": {
        "id": "8owUZ9Hxtuxo"
      },
      "execution_count": null,
      "outputs": []
    },
    {
      "cell_type": "markdown",
      "source": [
        "# 278. First Bad Version\n"
      ],
      "metadata": {
        "id": "rtNagDPp9y7_"
      }
    },
    {
      "cell_type": "code",
      "source": [
        "# The isBadVersion API is already defined for you.\n",
        "# def isBadVersion(version: int) -> bool:\n",
        "\n",
        "class Solution:\n",
        "    def firstBadVersion(self, n: int) -> int:\n",
        "        left = 1\n",
        "        right = n \n",
        "        while left < right:\n",
        "            mid = (left+right) // 2\n",
        "            if isBadVersion(mid):\n",
        "                right = mid \n",
        "            else:\n",
        "                left = mid + 1\n",
        "        return left \n",
        "        "
      ],
      "metadata": {
        "id": "jztLp8ip9zJF"
      },
      "execution_count": null,
      "outputs": []
    },
    {
      "cell_type": "markdown",
      "source": [
        "# 509. Fibonacci Number"
      ],
      "metadata": {
        "id": "wodS28tI_ZUv"
      }
    },
    {
      "cell_type": "code",
      "source": [
        "class Solution:\n",
        "    def fib(self, n: int) -> int:\n",
        "        if n == 0:\n",
        "            return 0\n",
        "        elif n == 1:\n",
        "            return 1\n",
        "        elif n >= 2: \n",
        "            return self.fib(n-1) + self.fib(n-2)"
      ],
      "metadata": {
        "id": "BpzZHUkH_XzS"
      },
      "execution_count": null,
      "outputs": []
    },
    {
      "cell_type": "code",
      "source": [
        "import collections\n",
        "class Solution:\n",
        "    dp = collections.defaultdict(int)\n",
        "    def fib(self, n: int) -> int:\n",
        "        if n <= 1:\n",
        "            return n\n",
        "\n",
        "        if self.dp[n]:\n",
        "            return self.dp[n]\n",
        "        self.dp[n] = self.fib(n-1) + self.fib(n-2)\n",
        "\n",
        "        return self.dp[n]\n"
      ],
      "metadata": {
        "id": "x9iQgINu_cpP"
      },
      "execution_count": null,
      "outputs": []
    },
    {
      "cell_type": "code",
      "source": [
        "import collections\n",
        "class Solution:\n",
        "    dp = collections.defaultdict(int)\n",
        "    def fib(self, n: int) -> int:\n",
        "        self.dp[1] = 1\n",
        "\n",
        "        for i in range(2,n+1):\n",
        "            self.dp[i] = self.dp[i-1] + self.dp[i-2]\n",
        "\n",
        "        return self.dp[n]\n"
      ],
      "metadata": {
        "id": "4MTx7FeU_hY1"
      },
      "execution_count": null,
      "outputs": []
    },
    {
      "cell_type": "code",
      "source": [
        "class Solution:\n",
        "    def fib(self, n: int) -> int:\n",
        "        x,y = 0,1\n",
        "        for _ in range(n):\n",
        "            x,y = y, x+y   \n",
        "        return x"
      ],
      "metadata": {
        "id": "tYPzyfZX_le3"
      },
      "execution_count": null,
      "outputs": []
    }
  ]
}