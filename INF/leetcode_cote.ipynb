{
  "nbformat": 4,
  "nbformat_minor": 0,
  "metadata": {
    "colab": {
      "name": "leetcode_cote.ipynb",
      "provenance": [],
      "collapsed_sections": [],
      "authorship_tag": "ABX9TyNDhGFdqC1Wkr3AnHvlznFY",
      "include_colab_link": true
    },
    "kernelspec": {
      "name": "python3",
      "display_name": "Python 3"
    },
    "language_info": {
      "name": "python"
    }
  },
  "cells": [
    {
      "cell_type": "markdown",
      "metadata": {
        "id": "view-in-github",
        "colab_type": "text"
      },
      "source": [
        "<a href=\"https://colab.research.google.com/github/mjs1995/coding/blob/main/INF/leetcode_cote.ipynb\" target=\"_parent\"><img src=\"https://colab.research.google.com/assets/colab-badge.svg\" alt=\"Open In Colab\"/></a>"
      ]
    },
    {
      "cell_type": "markdown",
      "source": [
        "# 1.Two_sum"
      ],
      "metadata": {
        "id": "HjrinHo1ENz4"
      }
    },
    {
      "cell_type": "code",
      "execution_count": null,
      "metadata": {
        "id": "liSPcaxPEA_q"
      },
      "outputs": [],
      "source": [
        "class Solution(object):\n",
        "    def twoSum(self, nums, target):\n",
        "        \"\"\"\n",
        "        :type nums: List[int]\n",
        "        :type target: int\n",
        "        :rtype: List[int]\n",
        "        \"\"\"\n",
        "        for i in range(len(nums) - 1): # 0,1\n",
        "            for j in range(i+1,len(nums)): # 1,2,2\n",
        "                if nums[i] + nums[j] == target:\n",
        "                    return [i,j]"
      ]
    },
    {
      "cell_type": "markdown",
      "source": [
        "# 20. Valid Parentheses"
      ],
      "metadata": {
        "id": "qW_8BhSBHCYn"
      }
    },
    {
      "cell_type": "code",
      "source": [
        "s = \"()[]{}\""
      ],
      "metadata": {
        "id": "Qgu7cLEXEPsP"
      },
      "execution_count": null,
      "outputs": []
    },
    {
      "cell_type": "code",
      "source": [
        "array = {}\n",
        "array[\"(\"] = \")\"\n",
        "array[\"[\"] = \"]\"\n",
        "array[\"{\"] = \"}\""
      ],
      "metadata": {
        "id": "gOuE_j8YHD1M"
      },
      "execution_count": null,
      "outputs": []
    },
    {
      "cell_type": "code",
      "source": [
        "for i in range(len(s)): # 0,1,2,3,4,5\n",
        "    if i % 2 == 0:\n",
        "        if s[i+1] in array[s[i]]:\n",
        "            return True\n",
        "        else:\n",
        "            return False"
      ],
      "metadata": {
        "colab": {
          "base_uri": "https://localhost:8080/"
        },
        "id": "28_oMCEpHQ2C",
        "outputId": "cfc0fd18-4ef8-403d-b96f-3d92e5ded03a"
      },
      "execution_count": null,
      "outputs": [
        {
          "output_type": "stream",
          "name": "stdout",
          "text": [
            "0\n",
            "2\n",
            "4\n"
          ]
        }
      ]
    },
    {
      "cell_type": "code",
      "source": [
        "s = \"()[]{}\"\n",
        "array = {}\n",
        "array = {\"(\" : \")\", \"[\":\"]\",\"{\":\"}\"}"
      ],
      "metadata": {
        "id": "iDnlkO0G0voK"
      },
      "execution_count": 10,
      "outputs": []
    },
    {
      "cell_type": "code",
      "source": [
        "stack = []\n",
        "for i in s:\n",
        "    if i in array.values():\n",
        "        stack.append(i)\n",
        "    elif i in array.keys():\n",
        "        if stack == [] or array[i] != stack.pop():\n",
        "            print(False)\n",
        "        else:\n",
        "            print(False)\n",
        "    print(stack == [])"
      ],
      "metadata": {
        "colab": {
          "base_uri": "https://localhost:8080/"
        },
        "id": "aZwXMcCG05d0",
        "outputId": "d75b6048-87c2-4342-a5bf-1f3d9b3a622e"
      },
      "execution_count": 15,
      "outputs": [
        {
          "output_type": "stream",
          "name": "stdout",
          "text": [
            "False\n",
            "True\n",
            "False\n",
            "False\n",
            "True\n",
            "False\n",
            "False\n",
            "True\n",
            "False\n"
          ]
        }
      ]
    },
    {
      "cell_type": "markdown",
      "source": [
        "# 21. Merge Two Sorted Lists"
      ],
      "metadata": {
        "id": "SbOL7ith22_Z"
      }
    },
    {
      "cell_type": "code",
      "source": [
        "list1 = [1,2,4]\n",
        "list2 = [1,3,4]"
      ],
      "metadata": {
        "id": "5tMRCYJ31tNi"
      },
      "execution_count": 22,
      "outputs": []
    },
    {
      "cell_type": "code",
      "source": [
        "for i in list1:\n",
        "    list2.append(i)\n",
        "list2.sort()"
      ],
      "metadata": {
        "id": "-TqTk3pl2-W8"
      },
      "execution_count": 23,
      "outputs": []
    },
    {
      "cell_type": "code",
      "source": [
        "list2"
      ],
      "metadata": {
        "colab": {
          "base_uri": "https://localhost:8080/"
        },
        "id": "f_q_FjQ93Fq4",
        "outputId": "a2879295-5d01-4cef-ecbb-22f19c0c4673"
      },
      "execution_count": 24,
      "outputs": [
        {
          "output_type": "execute_result",
          "data": {
            "text/plain": [
              "[1, 1, 2, 3, 4, 4]"
            ]
          },
          "metadata": {},
          "execution_count": 24
        }
      ]
    },
    {
      "cell_type": "markdown",
      "source": [
        "# 35. Search Insert Position"
      ],
      "metadata": {
        "id": "rA_YaP413u2a"
      }
    },
    {
      "cell_type": "code",
      "source": [
        "nums = [1,3,5,6]\n",
        "target = 2\n",
        "\n",
        "for i in range(len(nums)):\n",
        "    if nums[i] == target:\n",
        "        print(i)\n",
        "    else:\n",
        "        nums.append(target)\n",
        "        nums.sort()\n",
        "        if nums[i] == target:\n",
        "            print(i)"
      ],
      "metadata": {
        "colab": {
          "base_uri": "https://localhost:8080/"
        },
        "id": "ebNyUCiU3GQT",
        "outputId": "df7b82dc-0041-45b6-f5a2-7076108c894e"
      },
      "execution_count": 46,
      "outputs": [
        {
          "output_type": "stream",
          "name": "stdout",
          "text": [
            "1\n",
            "2\n",
            "3\n"
          ]
        }
      ]
    },
    {
      "cell_type": "code",
      "source": [
        "nums = [1,3,5,6]\n"
      ],
      "metadata": {
        "id": "oZmBsVSV6W-l"
      },
      "execution_count": 50,
      "outputs": []
    },
    {
      "cell_type": "code",
      "source": [
        ""
      ],
      "metadata": {
        "id": "_lH_TZc06Q82"
      },
      "execution_count": null,
      "outputs": []
    }
  ]
}