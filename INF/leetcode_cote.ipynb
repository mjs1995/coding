{
  "nbformat": 4,
  "nbformat_minor": 0,
  "metadata": {
    "colab": {
      "name": "leetcode_cote.ipynb",
      "provenance": [],
      "collapsed_sections": [],
      "authorship_tag": "ABX9TyNm5LTM7mc/4RSrKUZnQXqv",
      "include_colab_link": true
    },
    "kernelspec": {
      "name": "python3",
      "display_name": "Python 3"
    },
    "language_info": {
      "name": "python"
    }
  },
  "cells": [
    {
      "cell_type": "markdown",
      "metadata": {
        "id": "view-in-github",
        "colab_type": "text"
      },
      "source": [
        "<a href=\"https://colab.research.google.com/github/mjs1995/coding/blob/main/INF/leetcode_cote.ipynb\" target=\"_parent\"><img src=\"https://colab.research.google.com/assets/colab-badge.svg\" alt=\"Open In Colab\"/></a>"
      ]
    },
    {
      "cell_type": "markdown",
      "source": [
        "# 1.Two_sum"
      ],
      "metadata": {
        "id": "HjrinHo1ENz4"
      }
    },
    {
      "cell_type": "code",
      "execution_count": null,
      "metadata": {
        "id": "liSPcaxPEA_q"
      },
      "outputs": [],
      "source": [
        "class Solution(object):\n",
        "    def twoSum(self, nums, target):\n",
        "        \"\"\"\n",
        "        :type nums: List[int]\n",
        "        :type target: int\n",
        "        :rtype: List[int]\n",
        "        \"\"\"\n",
        "        for i in range(len(nums) - 1): # 0,1\n",
        "            for j in range(i+1,len(nums)): # 1,2,2\n",
        "                if nums[i] + nums[j] == target:\n",
        "                    return [i,j]"
      ]
    },
    {
      "cell_type": "markdown",
      "source": [
        "# 20. Valid Parentheses"
      ],
      "metadata": {
        "id": "qW_8BhSBHCYn"
      }
    },
    {
      "cell_type": "code",
      "source": [
        "s = \"()[]{}\""
      ],
      "metadata": {
        "id": "Qgu7cLEXEPsP"
      },
      "execution_count": null,
      "outputs": []
    },
    {
      "cell_type": "code",
      "source": [
        "array = {}\n",
        "array[\"(\"] = \")\"\n",
        "array[\"[\"] = \"]\"\n",
        "array[\"{\"] = \"}\""
      ],
      "metadata": {
        "id": "gOuE_j8YHD1M"
      },
      "execution_count": null,
      "outputs": []
    },
    {
      "cell_type": "code",
      "source": [
        "for i in range(len(s)): # 0,1,2,3,4,5\n",
        "    if i % 2 == 0:\n",
        "        if s[i+1] in array[s[i]]:\n",
        "            return True\n",
        "        else:\n",
        "            return False"
      ],
      "metadata": {
        "colab": {
          "base_uri": "https://localhost:8080/"
        },
        "id": "28_oMCEpHQ2C",
        "outputId": "cfc0fd18-4ef8-403d-b96f-3d92e5ded03a"
      },
      "execution_count": null,
      "outputs": [
        {
          "output_type": "stream",
          "name": "stdout",
          "text": [
            "0\n",
            "2\n",
            "4\n"
          ]
        }
      ]
    }
  ]
}