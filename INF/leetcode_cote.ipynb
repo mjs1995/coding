{
  "nbformat": 4,
  "nbformat_minor": 0,
  "metadata": {
    "colab": {
      "name": "leetcode_cote.ipynb",
      "provenance": [],
      "collapsed_sections": [],
      "authorship_tag": "ABX9TyPwng7CLNjUvWTS3VYP9Sdm",
      "include_colab_link": true
    },
    "kernelspec": {
      "name": "python3",
      "display_name": "Python 3"
    },
    "language_info": {
      "name": "python"
    }
  },
  "cells": [
    {
      "cell_type": "markdown",
      "metadata": {
        "id": "view-in-github",
        "colab_type": "text"
      },
      "source": [
        "<a href=\"https://colab.research.google.com/github/mjs1995/coding/blob/main/INF/leetcode_cote.ipynb\" target=\"_parent\"><img src=\"https://colab.research.google.com/assets/colab-badge.svg\" alt=\"Open In Colab\"/></a>"
      ]
    },
    {
      "cell_type": "markdown",
      "source": [
        "# 1.Two_sum"
      ],
      "metadata": {
        "id": "HjrinHo1ENz4"
      }
    },
    {
      "cell_type": "code",
      "execution_count": null,
      "metadata": {
        "id": "liSPcaxPEA_q"
      },
      "outputs": [],
      "source": [
        "class Solution(object):\n",
        "    def twoSum(self, nums, target):\n",
        "        \"\"\"\n",
        "        :type nums: List[int]\n",
        "        :type target: int\n",
        "        :rtype: List[int]\n",
        "        \"\"\"\n",
        "        for i in range(len(nums) - 1): # 0,1\n",
        "            for j in range(i+1,len(nums)): # 1,2,2\n",
        "                if nums[i] + nums[j] == target:\n",
        "                    return [i,j]"
      ]
    },
    {
      "cell_type": "markdown",
      "source": [
        "# 20. Valid Parentheses"
      ],
      "metadata": {
        "id": "qW_8BhSBHCYn"
      }
    },
    {
      "cell_type": "code",
      "source": [
        "s = \"()[]{}\""
      ],
      "metadata": {
        "id": "Qgu7cLEXEPsP"
      },
      "execution_count": null,
      "outputs": []
    },
    {
      "cell_type": "code",
      "source": [
        "array = {}\n",
        "array[\"(\"] = \")\"\n",
        "array[\"[\"] = \"]\"\n",
        "array[\"{\"] = \"}\""
      ],
      "metadata": {
        "id": "gOuE_j8YHD1M"
      },
      "execution_count": null,
      "outputs": []
    },
    {
      "cell_type": "code",
      "source": [
        "for i in range(len(s)): # 0,1,2,3,4,5\n",
        "    if i % 2 == 0:\n",
        "        if s[i+1] in array[s[i]]:\n",
        "            return True\n",
        "        else:\n",
        "            return False"
      ],
      "metadata": {
        "colab": {
          "base_uri": "https://localhost:8080/"
        },
        "id": "28_oMCEpHQ2C",
        "outputId": "cfc0fd18-4ef8-403d-b96f-3d92e5ded03a"
      },
      "execution_count": null,
      "outputs": [
        {
          "output_type": "stream",
          "name": "stdout",
          "text": [
            "0\n",
            "2\n",
            "4\n"
          ]
        }
      ]
    },
    {
      "cell_type": "code",
      "source": [
        "s = \"()[]{}\"\n",
        "array = {}\n",
        "array = {\"(\" : \")\", \"[\":\"]\",\"{\":\"}\"}"
      ],
      "metadata": {
        "id": "iDnlkO0G0voK"
      },
      "execution_count": 10,
      "outputs": []
    },
    {
      "cell_type": "code",
      "source": [
        "stack = []\n",
        "for i in s:\n",
        "    if i in array.values():\n",
        "        stack.append(i)\n",
        "    elif i in array.keys():\n",
        "        if stack == [] or array[i] != stack.pop():\n",
        "            print(False)\n",
        "        else:\n",
        "            print(False)\n",
        "    print(stack == [])"
      ],
      "metadata": {
        "colab": {
          "base_uri": "https://localhost:8080/"
        },
        "id": "aZwXMcCG05d0",
        "outputId": "d75b6048-87c2-4342-a5bf-1f3d9b3a622e"
      },
      "execution_count": 15,
      "outputs": [
        {
          "output_type": "stream",
          "name": "stdout",
          "text": [
            "False\n",
            "True\n",
            "False\n",
            "False\n",
            "True\n",
            "False\n",
            "False\n",
            "True\n",
            "False\n"
          ]
        }
      ]
    },
    {
      "cell_type": "code",
      "source": [
        "class Solution(object):\n",
        "    def isValid(self, s):\n",
        "        \"\"\"\n",
        "        :type s: str\n",
        "        :rtype: bool\n",
        "        \"\"\"\n",
        "        array = {\"]\":\"[\", \"}\":\"{\", \")\":\"(\"}\n",
        "        stack = []\n",
        "        for i in s:\n",
        "            if i in array.values():\n",
        "                stack.append(i)\n",
        "            elif i in array.keys():\n",
        "                if stack == [] or array[i] != stack.pop():\n",
        "                    return False\n",
        "            else:\n",
        "                return False\n",
        "        return stack == []"
      ],
      "metadata": {
        "id": "rmCQLNDozTCv"
      },
      "execution_count": null,
      "outputs": []
    },
    {
      "cell_type": "markdown",
      "source": [
        "# 21. Merge Two Sorted Lists -> @"
      ],
      "metadata": {
        "id": "SbOL7ith22_Z"
      }
    },
    {
      "cell_type": "code",
      "source": [
        "list1 = [1,2,4]\n",
        "list2 = [1,3,4]"
      ],
      "metadata": {
        "id": "5tMRCYJ31tNi"
      },
      "execution_count": 22,
      "outputs": []
    },
    {
      "cell_type": "code",
      "source": [
        "for i in list1:\n",
        "    list2.append(i)\n",
        "list2.sort()"
      ],
      "metadata": {
        "id": "-TqTk3pl2-W8"
      },
      "execution_count": 23,
      "outputs": []
    },
    {
      "cell_type": "code",
      "source": [
        "list2"
      ],
      "metadata": {
        "colab": {
          "base_uri": "https://localhost:8080/"
        },
        "id": "f_q_FjQ93Fq4",
        "outputId": "a2879295-5d01-4cef-ecbb-22f19c0c4673"
      },
      "execution_count": 24,
      "outputs": [
        {
          "output_type": "execute_result",
          "data": {
            "text/plain": [
              "[1, 1, 2, 3, 4, 4]"
            ]
          },
          "metadata": {},
          "execution_count": 24
        }
      ]
    },
    {
      "cell_type": "markdown",
      "source": [
        "# 35. Search Insert Position"
      ],
      "metadata": {
        "id": "rA_YaP413u2a"
      }
    },
    {
      "cell_type": "code",
      "source": [
        "nums = [1,3,5,6]\n",
        "target = 2\n",
        "\n",
        "for i in range(len(nums)):\n",
        "    if nums[i] == target:\n",
        "        print(i)\n",
        "    else:\n",
        "        nums.append(target)\n",
        "        nums.sort()\n",
        "        if nums[i] == target:\n",
        "            print(i)"
      ],
      "metadata": {
        "colab": {
          "base_uri": "https://localhost:8080/"
        },
        "id": "ebNyUCiU3GQT",
        "outputId": "df7b82dc-0041-45b6-f5a2-7076108c894e"
      },
      "execution_count": 46,
      "outputs": [
        {
          "output_type": "stream",
          "name": "stdout",
          "text": [
            "1\n",
            "2\n",
            "3\n"
          ]
        }
      ]
    },
    {
      "cell_type": "code",
      "source": [
        "nums = [1,3,5,6]\n",
        "target = 2\n",
        "left = 0\n",
        "right = len(nums)-1\n",
        "while left <= right:\n",
        "    mid = (left + right) // 2\n",
        "    if nums[mid] > target:\n",
        "        right = mid - 1\n",
        "    elif nums[mid] < target:\n",
        "        left = mid + 1\n",
        "    else:\n",
        "        print(mid)"
      ],
      "metadata": {
        "id": "oZmBsVSV6W-l"
      },
      "execution_count": 32,
      "outputs": []
    },
    {
      "cell_type": "code",
      "source": [
        "class Solution(object):\n",
        "    def searchInsert(self, nums, target):\n",
        "        \"\"\"\n",
        "        :type nums: List[int]\n",
        "        :type target: int\n",
        "        :rtype: int\n",
        "        \"\"\"\n",
        "        left = 0\n",
        "        right = len(nums) - 1\n",
        "        while left <= right:\n",
        "            mid = (left + right) // 2\n",
        "            if nums[mid] > target:\n",
        "                right = mid - 1\n",
        "            elif nums[mid] < target:\n",
        "                left = mid + 1\n",
        "            else:\n",
        "                return mid\n",
        "        return left"
      ],
      "metadata": {
        "colab": {
          "base_uri": "https://localhost:8080/"
        },
        "id": "bg8V-U-e9XIe",
        "outputId": "6cdad059-9601-4b89-8e9b-384ae571e174"
      },
      "execution_count": 34,
      "outputs": [
        {
          "output_type": "execute_result",
          "data": {
            "text/plain": [
              "0"
            ]
          },
          "metadata": {},
          "execution_count": 34
        }
      ]
    },
    {
      "cell_type": "markdown",
      "source": [
        "# 13. Roman to Integer\n"
      ],
      "metadata": {
        "id": "wB1MV6K6RBuC"
      }
    },
    {
      "cell_type": "code",
      "source": [
        "arra = {}\n",
        "array = {'I':1, 'V':5, 'X':10, 'L':50, 'C':100, 'D':500, 'M':1000}"
      ],
      "metadata": {
        "id": "_lH_TZc06Q82"
      },
      "execution_count": 2,
      "outputs": []
    },
    {
      "cell_type": "code",
      "source": [
        "s = \"LVIII\"\n",
        "res = 0\n",
        "for i in s:\n",
        "    res += array[i]\n",
        "res"
      ],
      "metadata": {
        "colab": {
          "base_uri": "https://localhost:8080/"
        },
        "id": "YMuHfFASRTFO",
        "outputId": "83e5cabf-ecf7-4086-b537-343e353e6c16"
      },
      "execution_count": 5,
      "outputs": [
        {
          "output_type": "execute_result",
          "data": {
            "text/plain": [
              "58"
            ]
          },
          "metadata": {},
          "execution_count": 5
        }
      ]
    },
    {
      "cell_type": "code",
      "source": [
        "array = {'I':1, 'V':5, 'X':10, 'L':50, 'C':100, 'D':500, 'M':1000}\n",
        "s = \"MCMXCIV\"\n",
        "res = 0\n",
        "for i in range(len(s)-1):\n",
        "    num = array[s[i]]\n",
        "    nextnum = array[s[i+1]]\n",
        "    if num >= nextnum:\n",
        "        res += num\n",
        "    else:\n",
        "        res -= num\n",
        "res += array[s[-1]]\n",
        "res"
      ],
      "metadata": {
        "colab": {
          "base_uri": "https://localhost:8080/"
        },
        "id": "_uhiGn9Z3FsL",
        "outputId": "85c02b42-7a7f-43a7-ed58-438d809ff9ab"
      },
      "execution_count": 3,
      "outputs": [
        {
          "output_type": "execute_result",
          "data": {
            "text/plain": [
              "1994"
            ]
          },
          "metadata": {},
          "execution_count": 3
        }
      ]
    },
    {
      "cell_type": "code",
      "source": [
        "array = {'I':1, 'V':5, 'X':10, 'L':50, 'C':100, 'D':500, 'M':1000}\n",
        "s = \"MCMXCIV\"\n"
      ],
      "metadata": {
        "id": "gJAcpruh97ta"
      },
      "execution_count": null,
      "outputs": []
    },
    {
      "cell_type": "markdown",
      "source": [
        "# 14. Longest Common Prefix"
      ],
      "metadata": {
        "id": "rUCSKLnHUc5R"
      }
    },
    {
      "cell_type": "code",
      "source": [
        "strs = [\"flower\",\"flow\",\"flight\"]\n",
        "strs.sort(key = lambda x : len(x))\n",
        "for i in range(len(strs[0])): # 0 1 2 3\n",
        "    for j in range(i,len(strs)): # 0 1 2 / 1 2 / 2 \n",
        "        # print(i,j)\n",
        "        if strs[0][i] != strs[j][i]:\n",
        "            print(strs[0][:i])"
      ],
      "metadata": {
        "colab": {
          "base_uri": "https://localhost:8080/"
        },
        "id": "6tNIAKseSeKV",
        "outputId": "c79c48e0-8757-4d11-c70b-1e7cd55be977"
      },
      "execution_count": 22,
      "outputs": [
        {
          "output_type": "stream",
          "name": "stdout",
          "text": [
            "0 0\n",
            "0 1\n",
            "0 2\n",
            "1 1\n",
            "1 2\n",
            "2 2\n",
            "fl\n"
          ]
        }
      ]
    },
    {
      "cell_type": "code",
      "source": [
        "class Solution(object):\n",
        "    def longestCommonPrefix(self, strs):\n",
        "        \"\"\"\n",
        "        :type strs: List[str]\n",
        "        :rtype: str\n",
        "        \"\"\"\n",
        "        strs.sort(key = lambda x : len(x))\n",
        "        if len(strs) == 0:\n",
        "            return \"\"\n",
        "        else:\n",
        "            for i in range(len(strs[0])):\n",
        "                for j in range(1, len(strs)):\n",
        "                    if strs[0][i] != strs[j][i]:\n",
        "                        return strs[0][:i]\n",
        "        return strs[0]"
      ],
      "metadata": {
        "id": "Y_nuLHH199Xq"
      },
      "execution_count": null,
      "outputs": []
    }
  ]
}