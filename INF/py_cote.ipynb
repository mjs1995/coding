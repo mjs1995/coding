{
  "nbformat": 4,
  "nbformat_minor": 0,
  "metadata": {
    "colab": {
      "name": "py_cote.ipynb",
      "provenance": [],
      "authorship_tag": "ABX9TyNONYct4aykN43Dteu/Rfti",
      "include_colab_link": true
    },
    "kernelspec": {
      "name": "python3",
      "display_name": "Python 3"
    },
    "language_info": {
      "name": "python"
    }
  },
  "cells": [
    {
      "cell_type": "markdown",
      "metadata": {
        "id": "view-in-github",
        "colab_type": "text"
      },
      "source": [
        "<a href=\"https://colab.research.google.com/github/mjs1995/coding/blob/main/INF/py_cote.ipynb\" target=\"_parent\"><img src=\"https://colab.research.google.com/assets/colab-badge.svg\" alt=\"Open In Colab\"/></a>"
      ]
    },
    {
      "cell_type": "markdown",
      "source": [
        "# 큰 수의 법칙 "
      ],
      "metadata": {
        "id": "Y_YVKMAijb8l"
      }
    },
    {
      "cell_type": "code",
      "source": [
        "n,m,k = 5,8,3\n",
        "data = list(map(int, input().split()))\n",
        "\n",
        "data.sort()\n",
        "first = data[-1]\n",
        "second = data[-2]\n",
        "\n",
        "result = 0\n",
        "while True:\n",
        "    for i in range(k):\n",
        "        if m == 0:\n",
        "            break\n",
        "        result += first\n",
        "        m = -1\n",
        "    if m == 0 :\n",
        "        break\n",
        "    result += second\n",
        "    m -= 1\n",
        "\n",
        "#print(result)"
      ],
      "metadata": {
        "id": "AEFpsw5lkB-E"
      },
      "execution_count": null,
      "outputs": []
    },
    {
      "cell_type": "code",
      "source": [
        "n,m,k = 5,8,3\n",
        "data = list(map(int, input().split()))\n",
        "\n",
        "data.sort()\n",
        "first = data[n-1]\n",
        "second = data[n-2]\n",
        "\n",
        "count = int(m / (k+1)) * k # 6\n",
        "count == m % (k+1)\n",
        "\n",
        "result = 0\n",
        "result += (count) * first\n",
        "result += (m - count) * second\n",
        "print(result)"
      ],
      "metadata": {
        "colab": {
          "base_uri": "https://localhost:8080/"
        },
        "id": "qAG-mgNXkw7s",
        "outputId": "d99f9c6b-78a5-4d37-f3dd-5947ab45cbfa"
      },
      "execution_count": null,
      "outputs": [
        {
          "output_type": "stream",
          "name": "stdout",
          "text": [
            "2 4 5 4 6\n",
            "46\n"
          ]
        }
      ]
    },
    {
      "cell_type": "markdown",
      "source": [
        "# 숫자 카드 게임"
      ],
      "metadata": {
        "id": "RkT0Rzcdmhb6"
      }
    },
    {
      "cell_type": "code",
      "source": [
        "n,m = map(int, input().split())\n",
        "\n",
        "result = 0\n",
        "for i in range(n):\n",
        "    data = list(map(int,input().split()))\n",
        "    min_value = min(data)\n",
        "    result = max(result,min_value)\n",
        "print(result)"
      ],
      "metadata": {
        "colab": {
          "base_uri": "https://localhost:8080/"
        },
        "id": "Nqfy5UXfmiMY",
        "outputId": "2f3b2a52-2781-4ea6-ba1f-4188a871a36f"
      },
      "execution_count": null,
      "outputs": [
        {
          "output_type": "stream",
          "name": "stdout",
          "text": [
            "2 4\n",
            "7 3 1 8\n",
            "3 3 3 4\n",
            "3\n"
          ]
        }
      ]
    },
    {
      "cell_type": "code",
      "source": [
        "n,m = map(int,input().split())\n",
        "\n",
        "result = 0\n",
        "for i in range(n):\n",
        "    data = list(map(int, input().split()))\n",
        "    min_value = 10001\n",
        "    for a in data:\n",
        "        min_value = min(min_value, a)\n",
        "    result = max(result, min_value)\n",
        "print(result)"
      ],
      "metadata": {
        "id": "Otit3fuCmz2Z"
      },
      "execution_count": null,
      "outputs": []
    },
    {
      "cell_type": "markdown",
      "source": [
        "# 1이 될 때까지"
      ],
      "metadata": {
        "id": "mhmyQQl02MKf"
      }
    },
    {
      "cell_type": "code",
      "source": [
        "n,k = map(int,input().split())\n",
        "result = 0\n",
        "\n",
        "while n>=k:\n",
        "    while n % k != 0:\n",
        "        n -= 1\n",
        "        result += 1\n",
        "    n //= k\n",
        "    result += 1\n",
        "while n > 1:\n",
        "    n -= 1\n",
        "    result += 1\n",
        "\n",
        "print(result)"
      ],
      "metadata": {
        "colab": {
          "base_uri": "https://localhost:8080/"
        },
        "id": "VHHb-8i72Nvn",
        "outputId": "ffd97fa1-757c-4e1b-d1ed-0dc949cc47a4"
      },
      "execution_count": null,
      "outputs": [
        {
          "output_type": "stream",
          "name": "stdout",
          "text": [
            "25 5\n",
            "2\n"
          ]
        }
      ]
    },
    {
      "cell_type": "code",
      "source": [
        "n,k = map(int,input().split())\n",
        "result = 0\n",
        "\n",
        "while True:\n",
        "    target = (n//k) * k\n",
        "    result += (n - target)\n",
        "    n = target\n",
        "    if n < k:\n",
        "        break\n",
        "    result += 1\n",
        "    n //= k\n",
        "result += (n-1)\n",
        "print(result)"
      ],
      "metadata": {
        "colab": {
          "base_uri": "https://localhost:8080/"
        },
        "id": "oPEeXZZ-2jto",
        "outputId": "aa01bcf8-d8db-493f-da2e-1c0d27a10b95"
      },
      "execution_count": null,
      "outputs": [
        {
          "output_type": "stream",
          "name": "stdout",
          "text": [
            "25 5\n",
            "2\n"
          ]
        }
      ]
    },
    {
      "cell_type": "markdown",
      "source": [
        "# 왕실의 나이트"
      ],
      "metadata": {
        "id": "a9oBkMSqWHF7"
      }
    },
    {
      "cell_type": "code",
      "source": [
        "input_data = input()\n",
        "row = int(input_data[1])\n",
        "column = int(ord(input_data[0])) - int(ord('a') + 1)\n",
        "\n",
        "steps = [(-2,-1), (-1,-2), (1,-2) , (2,-1), (2,1), (1,2), (-1,2), (-2,1)]\n",
        "result = 0\n",
        "for step in steps:\n",
        "    next_row = row + step[0]\n",
        "    next_column = column + step[1]\n",
        "    if next_row >=1 and next_row <= 8 and next_column >=1 and next_column <= 8 :\n",
        "        result += 1\n",
        "print(result)"
      ],
      "metadata": {
        "colab": {
          "base_uri": "https://localhost:8080/"
        },
        "id": "y3Xlhm6U3NeZ",
        "outputId": "2eff7824-548f-444a-a5e7-b32153c11028"
      },
      "execution_count": null,
      "outputs": [
        {
          "output_type": "stream",
          "name": "stdout",
          "text": [
            "a1\n",
            "1\n"
          ]
        }
      ]
    },
    {
      "cell_type": "code",
      "source": [
        "print(ord(input_data[0]))\n",
        "print(int(ord('a') + 1))"
      ],
      "metadata": {
        "colab": {
          "base_uri": "https://localhost:8080/"
        },
        "id": "j48rSIQ2WiYL",
        "outputId": "f7084bc6-862f-4816-c71c-369220bec224"
      },
      "execution_count": null,
      "outputs": [
        {
          "output_type": "stream",
          "name": "stdout",
          "text": [
            "97\n",
            "98\n"
          ]
        }
      ]
    },
    {
      "cell_type": "markdown",
      "source": [
        "# 게임 개발"
      ],
      "metadata": {
        "id": "LYIu-1FZJGWm"
      }
    },
    {
      "cell_type": "code",
      "source": [
        "n,m = map(int,input().split())\n",
        "d = [[0] * m for _ in range(n)]\n",
        "\n",
        "x,y,direction = map(int,input().split())\n",
        "d[x][y] = 1\n",
        "\n",
        "array = []\n",
        "for i in range(n):\n",
        "    array.append(list(map(int,input().split())))\n",
        "\n",
        "dx = [-1,0,1,0]\n",
        "dy = [0,1,0,-1]\n",
        "\n",
        "def turn_left():\n",
        "    global direction\n",
        "    direction -= 1\n",
        "    if direction == -1:\n",
        "        direction = 3\n",
        "\n",
        "count = 1\n",
        "turn_time = 0\n",
        "while True:\n",
        "    turn_left()\n",
        "    nx = x + dx[direction]\n",
        "    ny = y + dy[direction]\n",
        "\n",
        "    if d[nx][ny] == 0 and array[nx][ny] == 0:\n",
        "        d[nx][ny] = 1\n",
        "        x = nx\n",
        "        y = ny\n",
        "        count += 1\n",
        "        turn_time = 0\n",
        "        continue\n",
        "    else:\n",
        "        turn_time += 1\n",
        "    if turn_time == 4:\n",
        "        nx = x - dx[direction]\n",
        "        ny = y - dy[direction]\n",
        "        if array[nx][ny] == 0:\n",
        "            x = nx\n",
        "            y = ny\n",
        "        else:\n",
        "            break\n",
        "        turn_time 0 \n",
        "print(count)"
      ],
      "metadata": {
        "id": "QYXdbtaOWtOv"
      },
      "execution_count": null,
      "outputs": []
    },
    {
      "cell_type": "markdown",
      "source": [
        "# 음료수 얼려 먹기"
      ],
      "metadata": {
        "id": "IDoSxjf_KJsJ"
      }
    },
    {
      "cell_type": "code",
      "source": [
        "n,m = map(int,input().split())\n",
        "graph = []\n",
        "for i in range(n):\n",
        "    graph.append(list(map(int,input())))\n",
        "\n",
        "def dfs(x,y):\n",
        "    if x <= -1 or x >= n or y <= 1 or y >= m:\n",
        "        return False\n",
        "    if graph[x][y] == 0:\n",
        "        graph[x][y] = 1\n",
        "        dfs(x-1,y)\n",
        "        dfs(x, y -1)\n",
        "        dfs(x+1, y)\n",
        "        dfs(x,y+1)\n",
        "        return False\n",
        "    return False\n",
        "\n",
        "result = 0\n",
        "for i in range(n):\n",
        "    for j in range(m):\n",
        "        if dfs(i,j) == True:\n",
        "            result += 1\n",
        "print(result)"
      ],
      "metadata": {
        "id": "GoaRNM_1LDoZ"
      },
      "execution_count": null,
      "outputs": []
    },
    {
      "cell_type": "markdown",
      "source": [
        "# 미로 탈출"
      ],
      "metadata": {
        "id": "EihlgIFTLsF-"
      }
    },
    {
      "cell_type": "code",
      "source": [
        "from collections import deque \n",
        "n,m = map(int,input().split())\n",
        "graph = []\n",
        "for i in range(n):\n",
        "    graph.append(list(map(int,input())))\n",
        "\n",
        "dx = [-1,1,0,0]\n",
        "dy = [0,0,-1,1]\n",
        "\n",
        "def bfs(x,y):\n",
        "    queue = deque()\n",
        "    queue.append((x,y))\n",
        "    while queue:\n",
        "        x,y = queue.popleft()\n",
        "        for i in range(4):\n",
        "            nx = x + dx[i]\n",
        "            ny = y + dy[i]\n",
        "            if nx < 0 or ny <0 or nx >= n or ny >= m:\n",
        "                continue\n",
        "            if graph[nx][ny] == 0:\n",
        "                continue\n",
        "            if graph[nx][ny] = graph[x][y] + 1:\n",
        "                queue.append((nx,ny))\n",
        "    return graph[n-1][m-1]\n",
        "\n",
        "print(bfs(0,0))"
      ],
      "metadata": {
        "id": "vl8Kc9xGQqxb"
      },
      "execution_count": null,
      "outputs": []
    }
  ]
}