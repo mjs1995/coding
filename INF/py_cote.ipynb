{
  "nbformat": 4,
  "nbformat_minor": 0,
  "metadata": {
    "colab": {
      "name": "py_cote.ipynb",
      "provenance": [],
      "authorship_tag": "ABX9TyM8bh938/X0+ntJrqY75aeb",
      "include_colab_link": true
    },
    "kernelspec": {
      "name": "python3",
      "display_name": "Python 3"
    },
    "language_info": {
      "name": "python"
    }
  },
  "cells": [
    {
      "cell_type": "markdown",
      "metadata": {
        "id": "view-in-github",
        "colab_type": "text"
      },
      "source": [
        "<a href=\"https://colab.research.google.com/github/mjs1995/coding/blob/main/INF/py_cote.ipynb\" target=\"_parent\"><img src=\"https://colab.research.google.com/assets/colab-badge.svg\" alt=\"Open In Colab\"/></a>"
      ]
    },
    {
      "cell_type": "markdown",
      "source": [
        "# 큰 수의 법칙 "
      ],
      "metadata": {
        "id": "Y_YVKMAijb8l"
      }
    },
    {
      "cell_type": "code",
      "source": [
        "n,m,k = 5,8,3\n",
        "data = list(map(int, input().split()))\n",
        "\n",
        "data.sort()\n",
        "first = data[-1]\n",
        "second = data[-2]\n",
        "\n",
        "result = 0\n",
        "while True:\n",
        "    for i in range(k):\n",
        "        if m == 0:\n",
        "            break\n",
        "        result += first\n",
        "        m = -1\n",
        "    if m == 0 :\n",
        "        break\n",
        "    result += second\n",
        "    m -= 1\n",
        "\n",
        "#print(result)"
      ],
      "metadata": {
        "id": "AEFpsw5lkB-E"
      },
      "execution_count": null,
      "outputs": []
    },
    {
      "cell_type": "code",
      "source": [
        "n,m,k = 5,8,3\n",
        "data = list(map(int, input().split()))\n",
        "\n",
        "data.sort()\n",
        "first = data[n-1]\n",
        "second = data[n-2]\n",
        "\n",
        "count = int(m / (k+1)) * k # 6\n",
        "count == m % (k+1)\n",
        "\n",
        "result = 0\n",
        "result += (count) * first\n",
        "result += (m - count) * second\n",
        "print(result)"
      ],
      "metadata": {
        "colab": {
          "base_uri": "https://localhost:8080/"
        },
        "id": "qAG-mgNXkw7s",
        "outputId": "d99f9c6b-78a5-4d37-f3dd-5947ab45cbfa"
      },
      "execution_count": null,
      "outputs": [
        {
          "output_type": "stream",
          "name": "stdout",
          "text": [
            "2 4 5 4 6\n",
            "46\n"
          ]
        }
      ]
    },
    {
      "cell_type": "markdown",
      "source": [
        "# 숫자 카드 게임"
      ],
      "metadata": {
        "id": "RkT0Rzcdmhb6"
      }
    },
    {
      "cell_type": "code",
      "source": [
        "n,m = map(int, input().split())\n",
        "\n",
        "result = 0\n",
        "for i in range(n):\n",
        "    data = list(map(int,input().split()))\n",
        "    min_value = min(data)\n",
        "    result = max(result,min_value)\n",
        "print(result)"
      ],
      "metadata": {
        "colab": {
          "base_uri": "https://localhost:8080/"
        },
        "id": "Nqfy5UXfmiMY",
        "outputId": "2f3b2a52-2781-4ea6-ba1f-4188a871a36f"
      },
      "execution_count": null,
      "outputs": [
        {
          "output_type": "stream",
          "name": "stdout",
          "text": [
            "2 4\n",
            "7 3 1 8\n",
            "3 3 3 4\n",
            "3\n"
          ]
        }
      ]
    },
    {
      "cell_type": "code",
      "source": [
        "n,m = map(int,input().split())\n",
        "\n",
        "result = 0\n",
        "for i in range(n):\n",
        "    data = list(map(int, input().split()))\n",
        "    min_value = 10001\n",
        "    for a in data:\n",
        "        min_value = min(min_value, a)\n",
        "    result = max(result, min_value)\n",
        "print(result)"
      ],
      "metadata": {
        "id": "Otit3fuCmz2Z"
      },
      "execution_count": null,
      "outputs": []
    },
    {
      "cell_type": "markdown",
      "source": [
        "# 1이 될 때까지"
      ],
      "metadata": {
        "id": "mhmyQQl02MKf"
      }
    },
    {
      "cell_type": "code",
      "source": [
        "n,k = map(int,input().split())\n",
        "result = 0\n",
        "\n",
        "while n>=k:\n",
        "    while n % k != 0:\n",
        "        n -= 1\n",
        "        result += 1\n",
        "    n //= k\n",
        "    result += 1\n",
        "while n > 1:\n",
        "    n -= 1\n",
        "    result += 1\n",
        "\n",
        "print(result)"
      ],
      "metadata": {
        "colab": {
          "base_uri": "https://localhost:8080/"
        },
        "id": "VHHb-8i72Nvn",
        "outputId": "ffd97fa1-757c-4e1b-d1ed-0dc949cc47a4"
      },
      "execution_count": null,
      "outputs": [
        {
          "output_type": "stream",
          "name": "stdout",
          "text": [
            "25 5\n",
            "2\n"
          ]
        }
      ]
    },
    {
      "cell_type": "code",
      "source": [
        "n,k = map(int,input().split())\n",
        "result = 0\n",
        "\n",
        "while True:\n",
        "    target = (n//k) * k\n",
        "    result += (n - target)\n",
        "    n = target\n",
        "    if n < k:\n",
        "        break\n",
        "    result += 1\n",
        "    n //= k\n",
        "result += (n-1)\n",
        "print(result)"
      ],
      "metadata": {
        "colab": {
          "base_uri": "https://localhost:8080/"
        },
        "id": "oPEeXZZ-2jto",
        "outputId": "aa01bcf8-d8db-493f-da2e-1c0d27a10b95"
      },
      "execution_count": null,
      "outputs": [
        {
          "output_type": "stream",
          "name": "stdout",
          "text": [
            "25 5\n",
            "2\n"
          ]
        }
      ]
    },
    {
      "cell_type": "markdown",
      "source": [
        "# 왕실의 나이트"
      ],
      "metadata": {
        "id": "a9oBkMSqWHF7"
      }
    },
    {
      "cell_type": "code",
      "source": [
        "input_data = input()\n",
        "row = int(input_data[1])\n",
        "column = int(ord(input_data[0])) - int(ord('a') + 1)\n",
        "\n",
        "steps = [(-2,-1), (-1,-2), (1,-2) , (2,-1), (2,1), (1,2), (-1,2), (-2,1)]\n",
        "result = 0\n",
        "for step in steps:\n",
        "    next_row = row + step[0]\n",
        "    next_column = column + step[1]\n",
        "    if next_row >=1 and next_row <= 8 and next_column >=1 and next_column <= 8 :\n",
        "        result += 1\n",
        "print(result)"
      ],
      "metadata": {
        "colab": {
          "base_uri": "https://localhost:8080/"
        },
        "id": "y3Xlhm6U3NeZ",
        "outputId": "2eff7824-548f-444a-a5e7-b32153c11028"
      },
      "execution_count": null,
      "outputs": [
        {
          "output_type": "stream",
          "name": "stdout",
          "text": [
            "a1\n",
            "1\n"
          ]
        }
      ]
    },
    {
      "cell_type": "code",
      "source": [
        "print(ord(input_data[0]))\n",
        "print(int(ord('a') + 1))"
      ],
      "metadata": {
        "colab": {
          "base_uri": "https://localhost:8080/"
        },
        "id": "j48rSIQ2WiYL",
        "outputId": "f7084bc6-862f-4816-c71c-369220bec224"
      },
      "execution_count": null,
      "outputs": [
        {
          "output_type": "stream",
          "name": "stdout",
          "text": [
            "97\n",
            "98\n"
          ]
        }
      ]
    },
    {
      "cell_type": "markdown",
      "source": [
        "# 게임 개발"
      ],
      "metadata": {
        "id": "LYIu-1FZJGWm"
      }
    },
    {
      "cell_type": "code",
      "source": [
        "n,m = map(int,input().split())\n",
        "d = [[0] * m for _ in range(n)]\n",
        "\n",
        "x,y,direction = map(int,input().split())\n",
        "d[x][y] = 1\n",
        "\n",
        "array = []\n",
        "for i in range(n):\n",
        "    array.append(list(map(int,input().split())))\n",
        "\n",
        "dx = [-1,0,1,0]\n",
        "dy = [0,1,0,-1]\n",
        "\n",
        "def turn_left():\n",
        "    global direction\n",
        "    direction -= 1\n",
        "    if direction == -1:\n",
        "        direction = 3\n",
        "\n",
        "count = 1\n",
        "turn_time = 0\n",
        "while True:\n",
        "    turn_left()\n",
        "    nx = x + dx[direction]\n",
        "    ny = y + dy[direction]\n",
        "\n",
        "    if d[nx][ny] == 0 and array[nx][ny] == 0:\n",
        "        d[nx][ny] = 1\n",
        "        x = nx\n",
        "        y = ny\n",
        "        count += 1\n",
        "        turn_time = 0\n",
        "        continue\n",
        "    else:\n",
        "        turn_time += 1\n",
        "    if turn_time == 4:\n",
        "        nx = x - dx[direction]\n",
        "        ny = y - dy[direction]\n",
        "        if array[nx][ny] == 0:\n",
        "            x = nx\n",
        "            y = ny\n",
        "        else:\n",
        "            break\n",
        "        turn_time 0 \n",
        "print(count)"
      ],
      "metadata": {
        "id": "QYXdbtaOWtOv"
      },
      "execution_count": null,
      "outputs": []
    },
    {
      "cell_type": "markdown",
      "source": [
        "# 음료수 얼려 먹기"
      ],
      "metadata": {
        "id": "IDoSxjf_KJsJ"
      }
    },
    {
      "cell_type": "code",
      "source": [
        "n,m = map(int,input().split())\n",
        "graph = []\n",
        "for i in range(n):\n",
        "    graph.append(list(map(int,input())))\n",
        "\n",
        "def dfs(x,y):\n",
        "    if x <= -1 or x >= n or y <= 1 or y >= m:\n",
        "        return False\n",
        "    if graph[x][y] == 0:\n",
        "        graph[x][y] = 1\n",
        "        dfs(x-1,y)\n",
        "        dfs(x, y -1)\n",
        "        dfs(x+1, y)\n",
        "        dfs(x,y+1)\n",
        "        return False\n",
        "    return False\n",
        "\n",
        "result = 0\n",
        "for i in range(n):\n",
        "    for j in range(m):\n",
        "        if dfs(i,j) == True:\n",
        "            result += 1\n",
        "print(result)"
      ],
      "metadata": {
        "id": "GoaRNM_1LDoZ"
      },
      "execution_count": null,
      "outputs": []
    },
    {
      "cell_type": "markdown",
      "source": [
        "# 미로 탈출"
      ],
      "metadata": {
        "id": "EihlgIFTLsF-"
      }
    },
    {
      "cell_type": "code",
      "source": [
        "from collections import deque \n",
        "n,m = map(int,input().split())\n",
        "graph = []\n",
        "for i in range(n):\n",
        "    graph.append(list(map(int,input())))\n",
        "\n",
        "dx = [-1,1,0,0]\n",
        "dy = [0,0,-1,1]\n",
        "\n",
        "def bfs(x,y):\n",
        "    queue = deque()\n",
        "    queue.append((x,y))\n",
        "    while queue:\n",
        "        x,y = queue.popleft()\n",
        "        for i in range(4):\n",
        "            nx = x + dx[i]\n",
        "            ny = y + dy[i]\n",
        "            if nx < 0 or ny <0 or nx >= n or ny >= m:\n",
        "                continue\n",
        "            if graph[nx][ny] == 0:\n",
        "                continue\n",
        "            if graph[nx][ny] = graph[x][y] + 1:\n",
        "                queue.append((nx,ny))\n",
        "    return graph[n-1][m-1]\n",
        "\n",
        "print(bfs(0,0))"
      ],
      "metadata": {
        "id": "vl8Kc9xGQqxb"
      },
      "execution_count": null,
      "outputs": []
    },
    {
      "cell_type": "markdown",
      "source": [
        "# 위에서 아래로"
      ],
      "metadata": {
        "id": "PoN8KHFztaO2"
      }
    },
    {
      "cell_type": "code",
      "source": [
        "n = int(input())\n",
        "array = []\n",
        "for i in range(n):\n",
        "    array.append(int(input()))\n",
        "array = sorted(array, reverse=True)\n",
        "\n",
        "for i in array:\n",
        "    print(i, end = ' ')"
      ],
      "metadata": {
        "colab": {
          "base_uri": "https://localhost:8080/"
        },
        "id": "jdX8cKatta5_",
        "outputId": "3fea82f0-56f9-4ec7-e5fd-ae785daeeaf6"
      },
      "execution_count": null,
      "outputs": [
        {
          "output_type": "stream",
          "name": "stdout",
          "text": [
            "3\n",
            "27\n",
            "12\n",
            "15\n",
            "27 15 12 "
          ]
        }
      ]
    },
    {
      "cell_type": "markdown",
      "source": [
        "# 성적이 낮은 순서로 학생 출력하기"
      ],
      "metadata": {
        "id": "zjtJg-GVt2jg"
      }
    },
    {
      "cell_type": "code",
      "source": [
        "n = int(input())\n",
        "array = []\n",
        "for i in range(n):\n",
        "    input_data = input().split()\n",
        "    array.append((input_data[0], int(input_data[1])))\n",
        "array = sorted(array, key = lambda x: x[1])\n",
        "for a in array:\n",
        "    print(a[0], end = ' ')"
      ],
      "metadata": {
        "colab": {
          "base_uri": "https://localhost:8080/"
        },
        "id": "ZQ9gIcKitl4f",
        "outputId": "6ca2a617-dfe7-4b4a-b998-36a4aacf8062"
      },
      "execution_count": null,
      "outputs": [
        {
          "output_type": "stream",
          "name": "stdout",
          "text": [
            "2\n",
            "홍 85\n",
            "지 32\n",
            "지 홍 "
          ]
        }
      ]
    },
    {
      "cell_type": "markdown",
      "source": [
        "# 두 배열의 원소 교체"
      ],
      "metadata": {
        "id": "kSqNc4el1oqM"
      }
    },
    {
      "cell_type": "code",
      "source": [
        "n,k = map(int, input().split())\n",
        "a = list(map(int,input().split()))\n",
        "b = list(map(int, input().split()))\n",
        "\n",
        "a.sort()\n",
        "b.sort(reverse=True)\n",
        "\n",
        "for i in range(k):\n",
        "    if a[i] < b[i]:\n",
        "        a[i], b[i] = b[i], a[i]\n",
        "    else:\n",
        "        break\n",
        "print(sum(a))"
      ],
      "metadata": {
        "colab": {
          "base_uri": "https://localhost:8080/"
        },
        "id": "iCxtleJluK-0",
        "outputId": "a1be7b31-58f0-4a5b-d634-582b3d0160f4"
      },
      "execution_count": null,
      "outputs": [
        {
          "output_type": "stream",
          "name": "stdout",
          "text": [
            "5 3\n",
            "1 2 5 4 3\n",
            "5 5 6 6 5 \n",
            "26\n"
          ]
        }
      ]
    },
    {
      "cell_type": "markdown",
      "source": [
        "# 부품 찾기"
      ],
      "metadata": {
        "id": "pGU1q3Hb2LAl"
      }
    },
    {
      "cell_type": "code",
      "source": [
        "def binary_search(array, target, start,end):\n",
        "    while start <= end:\n",
        "        mid = (start+end) // 2\n",
        "        if array[mid] == target:\n",
        "            return mid\n",
        "        elif array[mid] > target:\n",
        "            end = mid - 1\n",
        "        else:\n",
        "            start = mid + 1\n",
        "    return None\n",
        "\n",
        "n = int(input())\n",
        "array = list(map(int,input().split()))\n",
        "array.sort()\n",
        "m = int(input())\n",
        "x = list(map(int,input().split()))\n",
        "\n",
        "for i in x:\n",
        "    result = binary_search(array,i,0,n-1)\n",
        "    if result != None:\n",
        "        print('yes',end = ' ')\n",
        "    else:\n",
        "        print('no', end=' ')"
      ],
      "metadata": {
        "id": "cWKpzekm18vd"
      },
      "execution_count": null,
      "outputs": []
    },
    {
      "cell_type": "code",
      "source": [
        "n = int(input())\n",
        "array = [0] * 1000001\n",
        "\n",
        "for i in input().split():\n",
        "    array[int(i)] = 1\n",
        "\n",
        "m = int(input())\n",
        "x = list(map(int,input().split()))\n",
        "for i in x:\n",
        "    if array[i] == 1:\n",
        "        print('yes', end = ' ')\n",
        "    else:\n",
        "        print('no', end= ' ')"
      ],
      "metadata": {
        "colab": {
          "base_uri": "https://localhost:8080/"
        },
        "id": "0-OMB8a1mbRF",
        "outputId": "883b4fe0-2810-4d90-8958-70a7f6b7feec"
      },
      "execution_count": null,
      "outputs": [
        {
          "output_type": "stream",
          "name": "stdout",
          "text": [
            "5\n",
            "8 3 7 9 2\n",
            "3\n",
            "5 7 9\n",
            "no yes yes "
          ]
        }
      ]
    },
    {
      "cell_type": "code",
      "source": [
        "n = int(input())\n",
        "array = set(map(int,input().split()))\n",
        "m = int(input())\n",
        "x = list(map(int,input().split()))\n",
        "\n",
        "for i in x:\n",
        "    if i in array:\n",
        "        print('yes', end = ' ')\n",
        "    else:\n",
        "        print('no', end = ' ')"
      ],
      "metadata": {
        "colab": {
          "base_uri": "https://localhost:8080/"
        },
        "id": "8yYH-o-xmxL9",
        "outputId": "ec99b5af-9bd1-46bc-bc44-a02ee32159e6"
      },
      "execution_count": null,
      "outputs": [
        {
          "output_type": "stream",
          "name": "stdout",
          "text": [
            "5\n",
            "8 3 7 9 2\n",
            "3\n",
            "5 7 9\n",
            "no yes yes "
          ]
        }
      ]
    },
    {
      "cell_type": "markdown",
      "source": [
        "# 떡볶이 떡 만들기 "
      ],
      "metadata": {
        "id": "-Ss6STZNF6Ga"
      }
    },
    {
      "cell_type": "code",
      "source": [
        "n,m = list(map(int,input().split(' ')))\n",
        "array = list(map(int,input().split()))\n",
        "\n",
        "start = 0\n",
        "end = max(array)\n",
        "\n",
        "result = 0\n",
        "while(start <= end):\n",
        "    total = 0\n",
        "    mid = (start+end) // 2\n",
        "    for x in array:\n",
        "        if x > mid:\n",
        "            total += x - mid\n",
        "    if total < m:\n",
        "        end = mid - 1\n",
        "    else:\n",
        "        result = mid\n",
        "        start = mid + 1\n",
        "print(result)"
      ],
      "metadata": {
        "id": "R9vAgI4tnRUO"
      },
      "execution_count": null,
      "outputs": []
    },
    {
      "cell_type": "markdown",
      "source": [
        "# 1로 만들기"
      ],
      "metadata": {
        "id": "Nt3zAbH-Gp_r"
      }
    },
    {
      "cell_type": "code",
      "source": [
        "x = int(input())\n",
        "d = [0] * 30001\n",
        "\n",
        "for i in range(2, x+1):\n",
        "    d[i] = d[i-1] + 1\n",
        "    if i % 2 == 0:\n",
        "        d[i] = min(d[i], d[ i // 2] + 1)\n",
        "    if i % 3 == 0;\n",
        "        d[i] = min(d[i], d[ i // 3] + 1)\n",
        "    if i % 5 == 0:\n",
        "        d[i] = min(d[i], d[ i // 5] + 1)\n",
        "print(d[x])"
      ],
      "metadata": {
        "id": "tGEpAD-PGqwp"
      },
      "execution_count": null,
      "outputs": []
    },
    {
      "cell_type": "markdown",
      "source": [
        "# 개미 전사"
      ],
      "metadata": {
        "id": "WFLSeXfCLuDd"
      }
    },
    {
      "cell_type": "code",
      "source": [
        "n = int(input())\n",
        "array = list(map(int, input().split()))\n",
        "d = [0] * 100\n",
        "d[0] = array[0]\n",
        "d[1] = max(array[0] , array[1])\n",
        "for i in range(2,n):\n",
        "    d[i] = max(d[i-1], d[i-2] + array[i])\n",
        "print(d[n-1])"
      ],
      "metadata": {
        "id": "mNE_fkCqL8bN"
      },
      "execution_count": null,
      "outputs": []
    },
    {
      "cell_type": "markdown",
      "source": [
        "# 바닥 공사"
      ],
      "metadata": {
        "id": "BkaHcuP7MPvr"
      }
    },
    {
      "cell_type": "code",
      "source": [
        "n = int(input())\n",
        "d = [0] * 1001\n",
        "d[1]= 1\n",
        "d[2] = 3\n",
        "for i in range(3, n+1):\n",
        "    d[i] = (d[i-1] + 2 * d[i-2] ) % 796796\n",
        "print(d[n])"
      ],
      "metadata": {
        "id": "H7SOALsXMQgs"
      },
      "execution_count": null,
      "outputs": []
    },
    {
      "cell_type": "markdown",
      "source": [
        "# 효율적인 화폐 구성"
      ],
      "metadata": {
        "id": "oqvLE55VIvO0"
      }
    },
    {
      "cell_type": "code",
      "source": [
        "n,m = map(int, input().split())\n",
        "array = []\n",
        "for i in range(n):\n",
        "    array.append(int(input()))\n",
        "d = [10001] * (m + 1)\n",
        "d[0] = 0\n",
        "for i in range(n):\n",
        "    for j in range(array[i], m + 1):\n",
        "        if d[j - array[i]] !=10001:\n",
        "            d[j] = min(d[j], d[j - array[i]] + 1)\n",
        "if d[m] == 10001:\n",
        "    print(-1)\n",
        "else:\n",
        "    print(d[m])"
      ],
      "metadata": {
        "id": "rpChcnHbIwlG"
      },
      "execution_count": null,
      "outputs": []
    },
    {
      "cell_type": "markdown",
      "source": [
        "# 미래 도시"
      ],
      "metadata": {
        "id": "NIJ8CFQcJ8RD"
      }
    },
    {
      "cell_type": "code",
      "source": [
        "INF = int(1e9)\n",
        "\n",
        "n,m = map(int, input().split())\n",
        "graph = [[INF] * (n+1) for _ in range(n+1)]\n",
        "\n",
        "for a in range(1,n+1):\n",
        "    for b in range(1, n+1):\n",
        "        if a == b:\n",
        "            graph[a][b] = 0\n",
        "\n",
        "for _ in range(m):\n",
        "    a,b = map(int, input().split())\n",
        "    graph[a][b] = 1\n",
        "    graph[b][a] = 1\n",
        "\n",
        "x,k = map(int, input().split())\n",
        "for k in range(1,n+1):\n",
        "    for a in range(1, n+1):\n",
        "        for b in range(1, n+1):\n",
        "            graph[a][b] = min(graph[a][b], graph[a][k] + graph[k][b])\n",
        "\n",
        "distance = graph[1][k] + graph[k][x]\n",
        "\n",
        "if distance >= INF:\n",
        "    print(\"-1\")\n",
        "else:\n",
        "    print(distance)"
      ],
      "metadata": {
        "id": "B1o50mAHJ_1l"
      },
      "execution_count": null,
      "outputs": []
    },
    {
      "cell_type": "markdown",
      "source": [
        "# 팀 결성"
      ],
      "metadata": {
        "id": "WuVLvN_hgjA7"
      }
    },
    {
      "cell_type": "code",
      "source": [
        "def find_parent(parent,x):\n",
        "    if parent[x] != x:\n",
        "        parent[x] = find_parent(parent,parent[x])\n",
        "    return parent[x]\n",
        "\n",
        "def union_parent(parent,a,b):\n",
        "    a = find_parent(parent,a)\n",
        "    b = find_parent(parent,b)\n",
        "    if a < b:\n",
        "        parent[b] = a\n",
        "    else:\n",
        "        parent[a] = b\n",
        "\n",
        "n,m = map(int, input().split())\n",
        "parent = [0] * (n+1)\n",
        "for i in range(0,n+1):\n",
        "    parent[i] = i\n",
        "\n",
        "for i in range(m):\n",
        "    oper, a,b = map(int,input().split())\n",
        "    if oper == 0:\n",
        "        union_parent(parent,a,b)\n",
        "    elif oper == 1:\n",
        "        if find_parent(parent,a) == find_parent(parent,b):\n",
        "            print('YES')\n",
        "        else:\n",
        "            print('NO')"
      ],
      "metadata": {
        "id": "ljE3Sm03gkMe"
      },
      "execution_count": null,
      "outputs": []
    },
    {
      "cell_type": "markdown",
      "source": [
        "# 도시 분할 계획"
      ],
      "metadata": {
        "id": "x7ivpM4GhJxf"
      }
    },
    {
      "cell_type": "code",
      "source": [
        "def find_parent(parent,x):\n",
        "    if parent[x] != x:\n",
        "        parent[x] = find_parent(parent, parent[x])\n",
        "    return parent[x]\n",
        "\n",
        "def union_parent(parent,a,b):\n",
        "    a = find_parent(parent,a)\n",
        "    b = find_parent(parent,b)\n",
        "    if a < b :\n",
        "        parent[b] = a\n",
        "    else:\n",
        "        parent[a] = b\n",
        "v,e = map(int, input().split())\n",
        "parent = [0] * (v + 1)\n",
        "edges = []\n",
        "result = 0\n",
        "\n",
        "for i in range(1,v+1):\n",
        "    parent[i] = i\n",
        "\n",
        "for _ in range(e):\n",
        "    a,b, cost = map(int,input().split())\n",
        "    edges.append((cost,a,b))\n",
        "\n",
        "edges.sort()\n",
        "last = 0\n",
        "for edge in edges:\n",
        "    cost, a, b = edge\n",
        "    if find_parent(parent,a) != find_parent(parent,b):\n",
        "        union_parent(parent,a,b)\n",
        "        result += cost\n",
        "        last = cost\n",
        "\n",
        "print(result - last)"
      ],
      "metadata": {
        "id": "O9_ZFTn9hTTA"
      },
      "execution_count": null,
      "outputs": []
    },
    {
      "cell_type": "markdown",
      "source": [
        "# 커리큘럼"
      ],
      "metadata": {
        "id": "lc5LmYlPN3cV"
      }
    },
    {
      "cell_type": "code",
      "source": [
        "from collections import deque\n",
        "import copy\n",
        "\n",
        "v = int(input())\n",
        "indegree = [0] * (v+1)\n",
        "graph = [[] for i in range(v+1)]\n",
        "time = [0] * ( v+1)\n",
        "\n",
        "for i in range(1, v+1):\n",
        "    data = list(map(int,input().split()))\n",
        "    for x in data[1:-1]:\n",
        "        indegree[i] += 1\n",
        "        graph[x].append(i)\n",
        "\n",
        "def topology_sort():\n",
        "    result = copy.deepcopy(time)\n",
        "    q = deque()\n",
        "\n",
        "    for i in range(1,v+1):\n",
        "        if indegree[i] == 0:\n",
        "            q.append(i)\n",
        "    while q:\n",
        "        now = q.popleft()\n",
        "        for i in graph[now]:\n",
        "            result[i] = max(result[i], result[now]+time[i])\n",
        "            indegree[i] -= 1\n",
        "            if indegree[i] == 0:\n",
        "                q.append(i)\n",
        "    for i in range(1,v+1):\n",
        "        print(result[i])\n",
        "topology_sort()\n"
      ],
      "metadata": {
        "id": "A03w2FAmN5bM"
      },
      "execution_count": null,
      "outputs": []
    },
    {
      "cell_type": "markdown",
      "source": [
        "# 모험가 길드"
      ],
      "metadata": {
        "id": "Z-AgDly1xkUZ"
      }
    },
    {
      "cell_type": "code",
      "source": [
        "n = int(input())\n",
        "data = list(map(int,input().split()))\n",
        "data.sort()\n",
        "\n",
        "result = 0\n",
        "count = 0\n",
        "for i in data:\n",
        "    count += 1\n",
        "    if count >= i:\n",
        "        result += 1\n",
        "        count = 0"
      ],
      "metadata": {
        "id": "NRzpMRsQxlQ4"
      },
      "execution_count": null,
      "outputs": []
    },
    {
      "cell_type": "code",
      "source": [
        "n = int(input())\n",
        "data = list(map(int,input().split()))\n",
        "data.sort()"
      ],
      "metadata": {
        "colab": {
          "base_uri": "https://localhost:8080/"
        },
        "id": "8Tx2ORYhx57M",
        "outputId": "db0d388c-9d54-4836-8032-0998d0a508f4"
      },
      "execution_count": null,
      "outputs": [
        {
          "name": "stdout",
          "output_type": "stream",
          "text": [
            "5\n",
            "1 2 3 2 2\n"
          ]
        }
      ]
    },
    {
      "cell_type": "code",
      "source": [
        "result = 0\n",
        "count = 0\n",
        "for i in data:\n",
        "    count += 1\n",
        "    if count >= i:\n",
        "        result += 1\n",
        "        count = 0\n",
        "        print(i,count)"
      ],
      "metadata": {
        "colab": {
          "base_uri": "https://localhost:8080/"
        },
        "id": "yun6MLBYx8T3",
        "outputId": "3c079a08-1735-4774-a24f-d56da5dfc276"
      },
      "execution_count": null,
      "outputs": [
        {
          "output_type": "stream",
          "name": "stdout",
          "text": [
            "1 0\n",
            "2 0\n"
          ]
        }
      ]
    },
    {
      "cell_type": "markdown",
      "source": [
        "# 곱하기 혹은 더하기"
      ],
      "metadata": {
        "id": "FjzR89PHyUxR"
      }
    },
    {
      "cell_type": "code",
      "source": [
        "data = input()\n",
        "result = int(data[0])\n",
        "for i in range(1,len(data)):\n",
        "    num = int(data[i])\n",
        "    if num <=1 or result <= 1 :\n",
        "        result += num\n",
        "    else:\n",
        "        result *= num\n",
        "print(result)"
      ],
      "metadata": {
        "id": "0axRmmV-yCcT"
      },
      "execution_count": null,
      "outputs": []
    },
    {
      "cell_type": "markdown",
      "source": [
        "# 문자열 뒤집기"
      ],
      "metadata": {
        "id": "fafaJDmPuxZd"
      }
    },
    {
      "cell_type": "code",
      "source": [
        "data = input()\n",
        "count0 = 0\n",
        "count1 = 0\n",
        "\n",
        "if data[0] == '1':\n",
        "    count0 = += 1\n",
        "else:\n",
        "    count1 += 1\n",
        "\n",
        "for i in range(len(data) - 1):\n",
        "    if data[i] != data[i+1]:\n",
        "        if data[i+1] == '1':\n",
        "            count0 += 1\n",
        "        else:\n",
        "            count1 += 1\n",
        "print(min(count0, count1)"
      ],
      "metadata": {
        "id": "EJHt4md0u6tg"
      },
      "execution_count": null,
      "outputs": []
    },
    {
      "cell_type": "markdown",
      "source": [
        "# 만들 수 없는 금액"
      ],
      "metadata": {
        "id": "Y_oA5FpVvyQG"
      }
    },
    {
      "cell_type": "code",
      "source": [
        "n = int(input())\n",
        "data = list(map(int, input().split()))\n",
        "data.sort()\n",
        "\n",
        "target = 1\n",
        "for x in data:\n",
        "    if target < x:\n",
        "        break\n",
        "    target += x\n",
        "print(target)"
      ],
      "metadata": {
        "id": "vcyZT0V6v-IC"
      },
      "execution_count": null,
      "outputs": []
    },
    {
      "cell_type": "markdown",
      "source": [
        "# 볼링공 고르기"
      ],
      "metadata": {
        "id": "Pbh_UJRWMkhY"
      }
    },
    {
      "cell_type": "code",
      "source": [
        "n,m = map(int,input().spllit())\n",
        "data =list(map(int,input().split()))\n",
        "\n",
        "array = [0] * 11\n",
        "for x in data:\n",
        "    array[x] += 1\n",
        "result = 0\n",
        "\n",
        "for i in range(1,m+1):\n",
        "    n -= array[i]\n",
        "    result += array[i] * n\n",
        "\n",
        "print(result)"
      ],
      "metadata": {
        "id": "9KZkl7z3MlVJ"
      },
      "execution_count": null,
      "outputs": []
    },
    {
      "cell_type": "markdown",
      "source": [
        "# 무지의 먹방 라이브"
      ],
      "metadata": {
        "id": "pUxRqtAoPkyE"
      }
    },
    {
      "cell_type": "code",
      "source": [
        "import heapq\n",
        "\n",
        "def solution(food_times, k):\n",
        "    if sum(food_times) <= k:\n",
        "        return -1\n",
        "    \n",
        "    q = []\n",
        "    for i in range(len(foot_times)):\n",
        "        heapq.heappush(q, (food_times[i], i+1))\n",
        "    sum_values = 0\n",
        "    previous = 0\n",
        "\n",
        "    length = len(food_times)\n",
        "    while sum_value + ((q[0][0] - previous) * length) <= k:\n",
        "        now = heapq.heappop(q)[0]\n",
        "        sum_value += (now - previous)* length\n",
        "        legth -= 1\n",
        "        previous = now\n",
        "\n",
        "    result = sorted(q,key=lambda x : x[1])\n",
        "    return result[(k-sum_values) % length][1]"
      ],
      "metadata": {
        "id": "u8r9Jl9qPmz_"
      },
      "execution_count": null,
      "outputs": []
    },
    {
      "cell_type": "markdown",
      "source": [
        "# 럭키 스트레이트"
      ],
      "metadata": {
        "id": "4Aid3kWWQwcO"
      }
    },
    {
      "cell_type": "code",
      "source": [
        "n = input()\n",
        "length = len(n)\n",
        "summary = 0\n",
        "\n",
        "for i in range(length // 2):\n",
        "    summary += int(n[i])\n",
        "\n",
        "for i in range(length // 2, length):\n",
        "    summary -= int(n[i])\n",
        "\n",
        "if summary == 0:\n",
        "    print(\"LUCKY\")\n",
        "else:\n",
        "    print(\"READY\")"
      ],
      "metadata": {
        "id": "FlE21rm-QxdR"
      },
      "execution_count": null,
      "outputs": []
    },
    {
      "cell_type": "markdown",
      "source": [
        "# 문자열 재정렬"
      ],
      "metadata": {
        "id": "GoQlVVEpWzXL"
      }
    },
    {
      "cell_type": "code",
      "source": [
        "data = input()\n",
        "result = []\n",
        "value = 0\n",
        "\n",
        "for x in data:\n",
        "    if x.isalpha():\n",
        "        result.append(x)\n",
        "    else:\n",
        "        value += int(x)\n",
        "\n",
        "result.sort()\n",
        "\n",
        "if value != 0:\n",
        "    result.append(str(value))\n",
        "print(''.join(result))"
      ],
      "metadata": {
        "id": "6e1HtlzmW5zA"
      },
      "execution_count": null,
      "outputs": []
    },
    {
      "cell_type": "markdown",
      "source": [
        "# 문자열 재정렬"
      ],
      "metadata": {
        "id": "l9eCmKTWXKQX"
      }
    },
    {
      "cell_type": "code",
      "source": [
        "def solution(s):\n",
        "    answer = len(s)\n",
        "    for step in range(1, len(s) // 2 + 1):\n",
        "        compressed = \"\"\n",
        "        prev = s[0:step]\n",
        "        count += 1\n",
        "        for j in range(step,len(s), step):\n",
        "            if prev == s[j : j+step]:\n",
        "                count += 1\n",
        "            else:\n",
        "                compressed += str(count) + prev if count >= 2 else prev\n",
        "                prev = s[j:j+step]\n",
        "                count = 1\n",
        "        compressed += str(count) + prev if count >= 2 else prev\n",
        "        answer = min(answer, len(compressed))\n",
        "    return answer "
      ],
      "metadata": {
        "id": "EHAkzqygXhZ7"
      },
      "execution_count": null,
      "outputs": []
    },
    {
      "cell_type": "markdown",
      "source": [
        "# 자물쇠와 열쇠"
      ],
      "metadata": {
        "id": "nnGWt7Ftzt7v"
      }
    },
    {
      "cell_type": "code",
      "source": [
        "def rotate_a_matrix_by_90_degree(a):\n",
        "    n = len(a)\n",
        "    m = len(a[0])\n",
        "    result = [[0] * n for _ in range(m)]\n",
        "    for i in range(n):\n",
        "        for j in range(m):\n",
        "            result[j][n-i-1] = a[i][j]\n",
        "    return result\n",
        "\n",
        "def check(new_lock):\n",
        "    lock_length = len(new_lock) // 3\n",
        "    for i in range(lock_lenght, lock_length * 2):\n",
        "        for j in range(lock_length, lock_lenght * 2):\n",
        "            if new_lock[i][j] != 1:\n",
        "                return False\n",
        "    return True\n",
        "\n",
        "def solution(key, lock):\n",
        "    n = len(lock)\n",
        "    m = len(key)\n",
        "    new_lock = [[0] * (n * 3) for _ in ragne(n * 3)]\n",
        "    for i in range(n):\n",
        "        for j in range(n):\n",
        "            new_lock[i+n][j+n] = lock[i][j]\n",
        "    for rotation in range(4):\n",
        "        key = rotate_a_matrix_by_90_degree(key)\n",
        "        for x in range(n *2) :\n",
        "            for y in range(n * 2):\n",
        "                for i in range(m):\n",
        "                    for j in range(m):\n",
        "                        new_lock[x+i][y+j] += key[i][j]\n",
        "                if chexk(new_lock) == True:\n",
        "                    return True\n",
        "                for i in range(m):\n",
        "                    for j in range(m):\n",
        "                        new_lock[x+i][y+j] -= key[i][j]\n",
        "    return False\n"
      ],
      "metadata": {
        "id": "km02AGUszvGp"
      },
      "execution_count": null,
      "outputs": []
    },
    {
      "cell_type": "markdown",
      "source": [
        "# 뱀"
      ],
      "metadata": {
        "id": "N2UH_KAI-Kzz"
      }
    },
    {
      "cell_type": "code",
      "source": [
        "n = int(input())\n",
        "m = int(input())\n",
        "data = [[0] * (n+1) for _ in ragne(n+1)]\n",
        "info = []\n",
        "\n",
        "for _ in ragne(k):\n",
        "    a,b = map(int,input().split())\n",
        "    data[a][b] = 1\n",
        "l = int(input())\n",
        "for _ in range(l):\n",
        "    x,c = input().split()\n",
        "    info.append((int(x),c))\n",
        "\n",
        "dx = [0,1,0,-1]\n",
        "dy = [1,0,-1,0]\n",
        "\n",
        "def turn(direction,c):\n",
        "    if c == \"L\":\n",
        "        direction = (direction - 1) % 4\n",
        "    else:\n",
        "        direction = (direction + 1) % 4\n",
        "    return direction\n",
        "\n",
        "def simulate():\n",
        "    x,y = 1,1\n",
        "    data[x][y] = 2\n",
        "    direction = 0\n",
        "    time = 0\n",
        "    index = 0\n",
        "    q = [(x,y)]\n",
        "    while True:\n",
        "        nx = x + dx[direction]\n",
        "        ny = y + dy[direction]\n",
        "        if 1 <= nx and nx <= n and 1 <= ny and ny <= n and data[nx][ny] != 2:\n",
        "            if data[nx][ny] == 0:\n",
        "                data[nx][ny] = 2\n",
        "                q.append((nx,ny))\n",
        "                data[px][py] = 0\n",
        "            if data[nx][ny] == 1:\n",
        "                data[nx][ny] = 2\n",
        "                q.append((nx,ny))\n",
        "        else:\n",
        "            time += 1\n",
        "            break\n",
        "        x,y = nx, ny\n",
        "        time += 1\n",
        "        if index < l and time == info[index][0]:\n",
        "            direction = turn(direction, info[index][1])\n",
        "            index += 1\n",
        "    return time\n",
        "pritn(simulate)"
      ],
      "metadata": {
        "id": "_ko3eY37-lQl"
      },
      "execution_count": null,
      "outputs": []
    },
    {
      "cell_type": "markdown",
      "source": [
        "# 특정 거리의 도시 찾기"
      ],
      "metadata": {
        "id": "WDYDMOqL7NV5"
      }
    },
    {
      "cell_type": "code",
      "source": [
        "from collections import deque\n",
        "\n",
        "n,m,k,x = map(int,input().split())\n",
        "graph = [[] for _ in range(n+1)]\n",
        "\n",
        "for _ in range(m):\n",
        "    a,b = map(int,input().split())\n",
        "    graph[a].append(b)\n",
        "\n",
        "distance = [-1] * (n + 1)\n",
        "distance[x] = 0\n",
        "\n",
        "q = deque([x])\n",
        "while q:\n",
        "    now = q.popleft()\n",
        "    for next_node in graph[now]:\n",
        "        if distance[next_node] == -1:\n",
        "            distance[next_node] = distance[now] + 1\n",
        "            q.append(next_node)\n",
        "check = False\n",
        "for i in range(1, n+1):\n",
        "    if distance[i] == k:\n",
        "        print(i)\n",
        "        check = True\n",
        "if check == False:\n",
        "    print(-1)"
      ],
      "metadata": {
        "id": "VmODY0Tt7O42"
      },
      "execution_count": null,
      "outputs": []
    },
    {
      "cell_type": "markdown",
      "source": [
        "# 연구소"
      ],
      "metadata": {
        "id": "3tz2XhtmLU-3"
      }
    },
    {
      "cell_type": "code",
      "source": [
        "n,m = map(int,input().split())\n",
        "data = []\n",
        "temp = [[0] * m for _ in range(n)]\n",
        "for _ in range(n):\n",
        "    data.append(list(map(int,input().split())))\n",
        "\n",
        "dx = [-1,0,1,0]\n",
        "dy = [0,1,0,-1]\n",
        "result = 0\n",
        "\n",
        "def virus(x,y):\n",
        "    for i in range(4):\n",
        "        nx = x + dx[i]\n",
        "        ny = y + dy[i]\n",
        "        if nx >= 0 and nx < n and ny >= 0 and ny < m:\n",
        "            if temp[nx][ny] == 0 :\n",
        "                temp[nx][ny] = 2\n",
        "                virus(nx,ny)\n",
        "def get_score():\n",
        "    score = 0 \n",
        "    for i in range(n):\n",
        "        for j in range(m):\n",
        "            if temp[i][j] == 0:\n",
        "                score += 1\n",
        "    return score\n",
        "\n",
        "def dfs(count):\n",
        "    global result\n",
        "    if count == 3:\n",
        "        for i in range(n):\n",
        "            for j in range(m):\n",
        "                temp[i][j] = data[i][j]    \n",
        "        for i in range(n):\n",
        "            for j in range(m):\n",
        "                if temp[i][j] == 2:\n",
        "                    virus(i,j)\n",
        "        result = max(result, get_score())\n",
        "        return\n",
        "    for i in range(n):\n",
        "        for j in range(m):\n",
        "            if data[i][j] == 0:\n",
        "                data[i][j] = 1\n",
        "                count += 1\n",
        "                dfs(count)\n",
        "                data[i][j] - 0\n",
        "                count -= 1\n",
        "dfs(0)\n",
        "print(result)\n",
        "            "
      ],
      "metadata": {
        "id": "-_sj9chI8juI"
      },
      "execution_count": null,
      "outputs": []
    }
  ]
}