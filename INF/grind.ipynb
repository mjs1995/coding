{
  "nbformat": 4,
  "nbformat_minor": 0,
  "metadata": {
    "colab": {
      "provenance": [],
      "authorship_tag": "ABX9TyO5tcUGhynozCCBvxWMDnxC",
      "include_colab_link": true
    },
    "kernelspec": {
      "name": "python3",
      "display_name": "Python 3"
    },
    "language_info": {
      "name": "python"
    }
  },
  "cells": [
    {
      "cell_type": "markdown",
      "metadata": {
        "id": "view-in-github",
        "colab_type": "text"
      },
      "source": [
        "<a href=\"https://colab.research.google.com/github/mjs1995/coding/blob/main/INF/grind.ipynb\" target=\"_parent\"><img src=\"https://colab.research.google.com/assets/colab-badge.svg\" alt=\"Open In Colab\"/></a>"
      ]
    },
    {
      "cell_type": "markdown",
      "source": [
        "# Two Sum"
      ],
      "metadata": {
        "id": "ozPgHt4JAPZS"
      }
    },
    {
      "cell_type": "code",
      "execution_count": null,
      "metadata": {
        "id": "au7kJT6BAEO_"
      },
      "outputs": [],
      "source": [
        "class Solution:\n",
        "    def twoSum(self, nums: List[int], target: int) -> List[int]:\n",
        "        for i in range(len(nums)):\n",
        "            for j in range(i+1, len(nums)):\n",
        "                if nums[i] + nums[j] == target:\n",
        "                    return [i, j]"
      ]
    },
    {
      "cell_type": "code",
      "source": [
        "class Solution:\n",
        "    def twoSum(self, nums: List[int], target: int) -> List[int]:\n",
        "        n = len(nums)\n",
        "        for i in range(n - 1):\n",
        "            for j in range(i + 1, n):\n",
        "                if nums[i] + nums[j] == target:\n",
        "                    return [i, j]\n",
        "        return []  # No solution found"
      ],
      "metadata": {
        "id": "7aHgBFc_DBLQ"
      },
      "execution_count": null,
      "outputs": []
    },
    {
      "cell_type": "code",
      "source": [
        "class Solution:\n",
        "    def twoSum(self, nums: List[int], target: int) -> List[int]:\n",
        "        numMap = {}\n",
        "        n = len(nums)\n",
        "\n",
        "        # Build the hash table\n",
        "        for i in range(n):\n",
        "            numMap[nums[i]] = i\n",
        "\n",
        "        # Find the complement\n",
        "        for i in range(n):\n",
        "            complement = target - nums[i]\n",
        "            if complement in numMap and numMap[complement] != i:\n",
        "                return [i, numMap[complement]]\n",
        "\n",
        "        return []  # No solution found"
      ],
      "metadata": {
        "id": "lIDFh3-NDCFu"
      },
      "execution_count": null,
      "outputs": []
    },
    {
      "cell_type": "code",
      "source": [
        "class Solution:\n",
        "    def twoSum(self, nums: List[int], target: int) -> List[int]:\n",
        "        numMap = {}\n",
        "        n = len(nums)\n",
        "\n",
        "        for i in range(n):\n",
        "            complement = target - nums[i]\n",
        "            if complement in numMap:\n",
        "                return [numMap[complement], i]\n",
        "            numMap[nums[i]] = i\n",
        "\n",
        "        return []  # No solution found"
      ],
      "metadata": {
        "id": "BVzEHj4lDM3-"
      },
      "execution_count": null,
      "outputs": []
    },
    {
      "cell_type": "markdown",
      "source": [
        "# 20. Valid Parentheses\n"
      ],
      "metadata": {
        "id": "wTPMr-tXZYjr"
      }
    },
    {
      "cell_type": "code",
      "source": [
        "class Solution:\n",
        "    def isValid(self, s: str) -> bool:\n",
        "        li = {}\n",
        "        li['['] = ']'\n",
        "        li['('] = ')'\n",
        "        li['{'] = '}'\n",
        "        res =[]\n",
        "        for i in s:\n",
        "            if i in li:\n",
        "                res.append(i)\n",
        "            elif not res or li[res.pop()] != i:\n",
        "                return False\n",
        "        return len(res) == 0"
      ],
      "metadata": {
        "id": "K3vey6coZY80"
      },
      "execution_count": null,
      "outputs": []
    },
    {
      "cell_type": "code",
      "source": [
        "class Solution(object):\n",
        "    def isValid(self, s):\n",
        "        \"\"\"\n",
        "        :type s: str\n",
        "        :rtype: bool\n",
        "        \"\"\"\n",
        "        stack = []\n",
        "        table  = {\n",
        "            ')' : '(',\n",
        "            ']' : '[',\n",
        "            '}' : '{'\n",
        "        }\n",
        "        for char in s:\n",
        "            if char not in table:\n",
        "                stack.append(char)\n",
        "            elif not stack or table[char] != stack.pop():\n",
        "                return False\n",
        "        return len(stack) == 0\n"
      ],
      "metadata": {
        "id": "XJDIOgtAZilQ"
      },
      "execution_count": null,
      "outputs": []
    },
    {
      "cell_type": "markdown",
      "source": [
        "#  Merge Two Sorted Lists"
      ],
      "metadata": {
        "id": "i27fGGgmyGA0"
      }
    },
    {
      "cell_type": "code",
      "source": [
        "# Definition for singly-linked list.\n",
        "# class ListNode:\n",
        "#     def __init__(self, val=0, next=None):\n",
        "#         self.val = val\n",
        "#         self.next = next\n",
        "class Solution:\n",
        "    def mergeTwoLists(self, list1: Optional[ListNode], list2: Optional[ListNode]) -> Optional[ListNode]:\n",
        "        head = ListNode()\n",
        "        cur = head\n",
        "\n",
        "        while list1 and list2:\n",
        "            if list1.val < list2.val:\n",
        "                cur.next = list1\n",
        "                list1 = list1.next\n",
        "            else:\n",
        "                cur.next = list2\n",
        "                list2 = list2.next\n",
        "            cur = cur.next\n",
        "\n",
        "        cur.next = list1 or list2\n",
        "\n",
        "        return head.next\n"
      ],
      "metadata": {
        "id": "QZCWXEffyGOl"
      },
      "execution_count": null,
      "outputs": []
    },
    {
      "cell_type": "markdown",
      "source": [
        "# Best Time to Buy and Sell Stock"
      ],
      "metadata": {
        "id": "7OtZG2B7061s"
      }
    },
    {
      "cell_type": "code",
      "source": [
        "class Solution:\n",
        "    def maxProfit(self, prices: List[int]) -> int:\n",
        "        if not prices:\n",
        "            return 0\n",
        "        min_price = prices[0]\n",
        "        max_profit = 0\n",
        "\n",
        "        for price in prices:\n",
        "            min_price = min(min_price, price)\n",
        "            max_profit = max(max_profit, price - min_price)\n",
        "\n",
        "        return max_profit"
      ],
      "metadata": {
        "id": "YyuDZ0n5yYOS"
      },
      "execution_count": null,
      "outputs": []
    },
    {
      "cell_type": "code",
      "source": [
        "class Solution:\n",
        "    def maxProfit(self,prices):\n",
        "        left = 0\n",
        "        right = 1\n",
        "        max_profit = 0\n",
        "        while right < len(prices):\n",
        "            currentProfit = prices[right] - prices[left]\n",
        "            if prices[left] < prices[right]:\n",
        "                max_profit =max(currentProfit,max_profit)\n",
        "            else:\n",
        "                left = right\n",
        "            right += 1\n",
        "        return max_profit"
      ],
      "metadata": {
        "id": "L-OTRLLi3hRJ"
      },
      "execution_count": null,
      "outputs": []
    },
    {
      "cell_type": "code",
      "source": [
        "class Solution(object):\n",
        "    def maxProfit(self, prices):\n",
        "        profit = 0\n",
        "        buy = prices[0]\n",
        "        for sell in prices[1:]:\n",
        "            if sell > buy:\n",
        "                profit = max(profit, sell - buy)\n",
        "            else:\n",
        "                buy = sell\n",
        "\n",
        "        return profit"
      ],
      "metadata": {
        "id": "uIaYcX9O359k"
      },
      "execution_count": null,
      "outputs": []
    },
    {
      "cell_type": "markdown",
      "source": [
        "# Valid Palindrome"
      ],
      "metadata": {
        "id": "EFWPH178Ayom"
      }
    },
    {
      "cell_type": "code",
      "source": [
        "class Solution:\n",
        "    def isPalindrome(self, s: str) -> bool:\n",
        "        res = []\n",
        "        for i in s:\n",
        "            if i.isalnum():\n",
        "                res.append(i.lower())\n",
        "        return res == res[::-1]"
      ],
      "metadata": {
        "id": "KQyKIPlMAtNG"
      },
      "execution_count": null,
      "outputs": []
    },
    {
      "cell_type": "code",
      "source": [
        "class Solution:\n",
        "    def isPalindrome(self, s: str) -> bool:\n",
        "        s = [c.lower() for c in s if c.isalnum()]\n",
        "        return all (s[i] == s[~i] for i in range(len(s)//2))"
      ],
      "metadata": {
        "id": "Ob00lX0nBJPi"
      },
      "execution_count": null,
      "outputs": []
    },
    {
      "cell_type": "markdown",
      "source": [
        "# Invert Binary Tree\n"
      ],
      "metadata": {
        "id": "Q753S8gYTHkh"
      }
    },
    {
      "cell_type": "code",
      "source": [
        "# Definition for a binary tree node.\n",
        "# class TreeNode:\n",
        "#     def __init__(self, val=0, left=None, right=None):\n",
        "#         self.val = val\n",
        "#         self.left = left\n",
        "#         self.right = right\n",
        "class Solution:\n",
        "    def invertTree(self, root: Optional[TreeNode]) -> Optional[TreeNode]:\n",
        "        if root is None:\n",
        "            return None\n",
        "\n",
        "        root.left, root.right = root.right, root.left"
      ],
      "metadata": {
        "id": "t_3vvRWwTI45"
      },
      "execution_count": null,
      "outputs": []
    },
    {
      "cell_type": "markdown",
      "source": [
        "# Valid Anagram"
      ],
      "metadata": {
        "id": "GG2LYCrFnmvX"
      }
    },
    {
      "cell_type": "code",
      "source": [
        "class Solution:\n",
        "    def isAnagram(self, s: str, t: str) -> bool:\n",
        "        return sorted(s) == sorted(t)"
      ],
      "metadata": {
        "id": "ipxieB9YTKjU"
      },
      "execution_count": null,
      "outputs": []
    },
    {
      "cell_type": "code",
      "source": [
        "from collections import Counter\n",
        "class Solution:\n",
        "    def isAnagram(self, s: str, t: str) -> bool:\n",
        "        return Counter(s) == Counter(t)\n"
      ],
      "metadata": {
        "id": "iDnHQtYLnosb"
      },
      "execution_count": null,
      "outputs": []
    },
    {
      "cell_type": "code",
      "source": [
        "class Solution:\n",
        "    def isAnagram(self, s: str, t: str) -> bool:\n",
        "        count = defaultdict(int)\n",
        "\n",
        "        for x in s:\n",
        "            count[x] += 1\n",
        "\n",
        "        for x in t:\n",
        "            count[x] -= 1\n",
        "\n",
        "        for val in count.values():\n",
        "            if val != 0:\n",
        "                return False\n",
        "        return True"
      ],
      "metadata": {
        "id": "eUIIvNsOn1So"
      },
      "execution_count": null,
      "outputs": []
    },
    {
      "cell_type": "code",
      "source": [
        "class Solution:\n",
        "    def isAnagram(self, s: str, t: str) -> bool:\n",
        "        count = [0] * 26\n",
        "\n",
        "        for x in s:\n",
        "            count[ord(x) - ord('a')] += 1\n",
        "\n",
        "        for x in t:\n",
        "            count[ord(x) - ord('a')] -= 1\n",
        "\n",
        "        for val in count:\n",
        "            if val != 0:\n",
        "                return False\n",
        "        return True"
      ],
      "metadata": {
        "id": "T04dxPxGn9lw"
      },
      "execution_count": null,
      "outputs": []
    },
    {
      "cell_type": "markdown",
      "source": [
        "# Binary Search"
      ],
      "metadata": {
        "id": "IHXLiTCcqDjc"
      }
    },
    {
      "cell_type": "code",
      "source": [
        "class Solution:\n",
        "    def search(self, nums: List[int], target: int) -> int:\n",
        "        l, r = 0, len(nums)-1\n",
        "\n",
        "        while l <= r:\n",
        "            m = (l+r) // 2\n",
        "            if nums[m] > target:\n",
        "                r = m -1\n",
        "            elif nums[m] < target:\n",
        "                l = m + 1\n",
        "            else:\n",
        "                return m\n",
        "        return -1"
      ],
      "metadata": {
        "id": "BU0ndfG8n9fc"
      },
      "execution_count": null,
      "outputs": []
    },
    {
      "cell_type": "code",
      "source": [
        "class Solution:\n",
        "    def search(self, nums: List[int], target: int) -> int:\n",
        "        for i in range(len(nums)):\n",
        "            if nums[i] == target:\n",
        "                return i\n",
        "        return -1"
      ],
      "metadata": {
        "id": "7e-Q7ss-qJV9"
      },
      "execution_count": null,
      "outputs": []
    },
    {
      "cell_type": "markdown",
      "source": [
        "# Flood Fill"
      ],
      "metadata": {
        "id": "962QNYqoERdu"
      }
    },
    {
      "cell_type": "code",
      "source": [
        "class Solution:\n",
        "    def floodFill(self, image, sr, sc, newColor):\n",
        "        if image[sr][sc] == newColor:\n",
        "            return image\n",
        "\n",
        "        def dfs(image, row, col, oldColor, newColor):\n",
        "            if row < 0 or row >= len(image) or col < 0 or col >= len(image[0]) or image[row][col] != oldColor:\n",
        "                return\n",
        "            image[row][col] = newColor\n",
        "            dfs(image, row+1, col, oldColor, newColor)\n",
        "            dfs(image, row-1, col, oldColor, newColor)\n",
        "            dfs(image, row, col+1, oldColor, newColor)\n",
        "            dfs(image, row, col-1, oldColor, newColor)\n",
        "\n",
        "        oldColor = image[sr][sc]\n",
        "        dfs(image, sr, sc, oldColor, newColor)\n",
        "        return image\n"
      ],
      "metadata": {
        "id": "VHfJlGZ3ER2Z"
      },
      "execution_count": null,
      "outputs": []
    },
    {
      "cell_type": "code",
      "source": [
        "class Solution(object):\n",
        "    def floodFill(self, image, sr, sc, newColor):\n",
        "        R, C = len(image), len(image[0])\n",
        "        color = image[sr][sc]\n",
        "        if color == newColor: return image\n",
        "        def dfs(r, c):\n",
        "            if image[r][c] == color:\n",
        "                image[r][c] = newColor\n",
        "                if r >= 1: dfs(r-1, c)\n",
        "                if r+1 < R: dfs(r+1, c)\n",
        "                if c >= 1: dfs(r, c-1)\n",
        "                if c+1 < C: dfs(r, c+1)\n",
        "\n",
        "        dfs(sr, sc)\n",
        "        return image"
      ],
      "metadata": {
        "id": "wikGheVsE8lG"
      },
      "execution_count": null,
      "outputs": []
    },
    {
      "cell_type": "markdown",
      "source": [
        "# Lowest Common Ancestor of a Binary Search Tree\n"
      ],
      "metadata": {
        "id": "sF7dFhc2IOjp"
      }
    },
    {
      "cell_type": "code",
      "source": [
        "# Definition for a binary tree node.\n",
        "# class TreeNode(object):\n",
        "#     def __init__(self, x):\n",
        "#         self.val = x\n",
        "#         self.left = None\n",
        "#         self.right = None\n",
        "\n",
        "class Solution(object):\n",
        "    def lowestCommonAncestor(self, root, p, q):\n",
        "        \"\"\"\n",
        "        :type root: TreeNode\n",
        "        :type p: TreeNode\n",
        "        :type q: TreeNode\n",
        "        :rtype: TreeNode\n",
        "        \"\"\"\n",
        "        cur = root\n",
        "\n",
        "        while cur:\n",
        "            if p.val > cur.val and q.val > cur.val:\n",
        "                cur = cur.right\n",
        "            elif p.val < cur.val and q.val < cur.val:\n",
        "                cur = cur.left\n",
        "            else:\n",
        "                return cur"
      ],
      "metadata": {
        "id": "5AKG-_BCIO1Z"
      },
      "execution_count": null,
      "outputs": []
    },
    {
      "cell_type": "code",
      "source": [
        "class Solution(object):\n",
        "    def lowestCommonAncestor(self, root, p, q):\n",
        "        \"\"\"\n",
        "        :type root: TreeNode\n",
        "        :type p: TreeNode\n",
        "        :type q: TreeNode\n",
        "        :rtype: TreeNode\n",
        "        \"\"\"\n",
        "        if not root:\n",
        "            return None\n",
        "        if root.val == p.val:\n",
        "            return p\n",
        "        elif root.val == q.val:\n",
        "            return q\n",
        "        # condition when the root is the shared parent of node p and q\n",
        "        elif root.val < max(p.val, q.val) and root.val > min(p.val, q.val):\n",
        "            return root\n",
        "\n",
        "        return self.lowestCommonAncestor(root.left, p, q) or self.lowestCommonAncestor(root.right, p, q)"
      ],
      "metadata": {
        "id": "r1xPzAlLI77e"
      },
      "execution_count": null,
      "outputs": []
    },
    {
      "cell_type": "code",
      "source": [
        "class Solution:\n",
        "    def lowestCommonAncestor(self, root: 'TreeNode', p: 'TreeNode', q: 'TreeNode') -> 'TreeNode':\n",
        "        # If the value of p and q is less than root, then LCA will be in the left subtree\n",
        "        if p.val < root.val and q.val < root.val:\n",
        "            return self.lowestCommonAncestor(root.left, p, q)\n",
        "        # If the value of p and q is greater than root, then LCA will be in the right subtree\n",
        "        elif p.val > root.val and q.val > root.val:\n",
        "            return self.lowestCommonAncestor(root.right, p, q)\n",
        "        # If one value is less and the other is greater, then root is the LCA\n",
        "        else:\n",
        "            return root"
      ],
      "metadata": {
        "id": "Y0phWI4yJCDs"
      },
      "execution_count": null,
      "outputs": []
    },
    {
      "cell_type": "markdown",
      "source": [
        "# Balanced Binary Tree\n"
      ],
      "metadata": {
        "id": "gqBpZdRlSoBg"
      }
    },
    {
      "cell_type": "code",
      "source": [
        "# Definition for a binary tree node.\n",
        "# class TreeNode(object):\n",
        "#     def __init__(self, val=0, left=None, right=None):\n",
        "#         self.val = val\n",
        "#         self.left = left\n",
        "#         self.right = right\n",
        "class Solution(object):\n",
        "    def isBalanced(self, root):\n",
        "        \"\"\"\n",
        "        :type root: TreeNode\n",
        "        :rtype: bool\n",
        "        \"\"\"\n",
        "        def dfs(root):\n",
        "            if not root: return [True,0]\n",
        "\n",
        "            left, right = dfs(root.left), dfs(root.right)\n",
        "            balanced = (left[0] and right[0] and abs(left[1] - right[1]) <= 1)\n",
        "            return [balanced, 1 + max(left[1], right[1])]\n",
        "        return dfs(root)[0]"
      ],
      "metadata": {
        "id": "bLyaajABSn45"
      },
      "execution_count": null,
      "outputs": []
    },
    {
      "cell_type": "markdown",
      "source": [
        "# Linked List Cycle\n"
      ],
      "metadata": {
        "id": "CA0cDigKfiGt"
      }
    },
    {
      "cell_type": "code",
      "source": [
        "# Definition for singly-linked list.\n",
        "# class ListNode(object):\n",
        "#     def __init__(self, x):\n",
        "#         self.val = x\n",
        "#         self.next = None\n",
        "\n",
        "class Solution(object):\n",
        "    def hasCycle(self, head):\n",
        "        \"\"\"\n",
        "        :type head: ListNode\n",
        "        :rtype: bool\n",
        "        \"\"\"\n",
        "        if head is None or head.next is None:\n",
        "            return False\n",
        "\n",
        "        slow = head\n",
        "        fast = head.next\n",
        "\n",
        "        while slow != fast:\n",
        "            if fast is None or fast.next is None:\n",
        "                return False\n",
        "\n",
        "            slow = slow.next\n",
        "            fast = fast.next.next\n",
        "        return True"
      ],
      "metadata": {
        "id": "9caqzSUiSqx8"
      },
      "execution_count": null,
      "outputs": []
    },
    {
      "cell_type": "code",
      "source": [
        "class Solution:\n",
        "    def hasCycle(self, head: Optional[ListNode]) -> bool:\n",
        "        slow_pointer = head\n",
        "        fast_pointer = head\n",
        "        while fast_pointer and fast_pointer.next:\n",
        "            slow_pointer = slow_pointer.next\n",
        "            fast_pointer = fast_pointer.next.next\n",
        "            if slow_pointer == fast_pointer:\n",
        "                return True\n",
        "        return False\n"
      ],
      "metadata": {
        "id": "CxTQe6ulflIe"
      },
      "execution_count": null,
      "outputs": []
    },
    {
      "cell_type": "code",
      "source": [
        "class Solution:\n",
        "    def hasCycle(self, head: Optional[ListNode]) -> bool:\n",
        "        visited_nodes = set()\n",
        "        current_node = head\n",
        "        while current_node:\n",
        "            if current_node in visited_nodes:\n",
        "                return True\n",
        "            visited_nodes.add(current_node)\n",
        "            current_node = current_node.next\n",
        "        return False\n"
      ],
      "metadata": {
        "id": "TDSg_yFNf1Px"
      },
      "execution_count": null,
      "outputs": []
    },
    {
      "cell_type": "markdown",
      "source": [
        "# Implement Queue using Stacks\n"
      ],
      "metadata": {
        "id": "lIvQ1Dwr_vPJ"
      }
    },
    {
      "cell_type": "code",
      "source": [
        "class MyQueue(object):\n",
        "\n",
        "    def __init__(self):\n",
        "        self.stack1 = []\n",
        "        self.stack2 = []\n",
        "\n",
        "    def push(self, x):\n",
        "        \"\"\"\n",
        "        :type x: int\n",
        "        :rtype: None\n",
        "        \"\"\"\n",
        "        self.stack1.append(x)\n",
        "\n",
        "    def pop(self):\n",
        "        \"\"\"\n",
        "        :rtype: int\n",
        "        \"\"\"\n",
        "        self.move_elements()\n",
        "        return self.stack2.pop()\n",
        "\n",
        "    def peek(self):\n",
        "        \"\"\"\n",
        "        :rtype: int\n",
        "        \"\"\"\n",
        "        self.move_elements()\n",
        "        return self.stack2[-1]\n",
        "\n",
        "    def empty(self):\n",
        "        \"\"\"\n",
        "        :rtype: bool\n",
        "        \"\"\"\n",
        "        return len(self.stack1) == 0 and len(self.stack2) == 0\n",
        "\n",
        "\n",
        "    def move_elements(self):\n",
        "        \"\"\"\n",
        "        스택 1의 요소들을 스택 2로 이동\n",
        "        \"\"\"\n",
        "        if not self.stack2:\n",
        "            while self.stack1:\n",
        "                self.stack2.append(self.stack1.pop())\n",
        "\n",
        "# Your MyQueue object will be instantiated and called as such:\n",
        "# obj = MyQueue()\n",
        "# obj.push(x)\n",
        "# param_2 = obj.pop()\n",
        "# param_3 = obj.peek()\n",
        "# param_4 = obj.empty()"
      ],
      "metadata": {
        "id": "tYGEAAqZ_viQ"
      },
      "execution_count": null,
      "outputs": []
    },
    {
      "cell_type": "markdown",
      "source": [
        "# First Bad Version"
      ],
      "metadata": {
        "id": "2mSxjksrFXI_"
      }
    },
    {
      "cell_type": "code",
      "source": [
        "# The isBadVersion API is already defined for you.\n",
        "# @param version, an integer\n",
        "# @return a bool\n",
        "# def isBadVersion(version):\n",
        "\n",
        "class Solution(object):\n",
        "    def firstBadVersion(self, n):\n",
        "        \"\"\"\n",
        "        :type n: int\n",
        "        :rtype: int\n",
        "        \"\"\"\n",
        "        l,r = 1, n\n",
        "        resutl = 1\n",
        "\n",
        "        while l<=r:\n",
        "            m = (l+r) / 2\n",
        "            if isBadVersion(m) == False:\n",
        "                l = m + 1\n",
        "            else:\n",
        "                r = m - 1\n",
        "                result = m\n",
        "        return result\n"
      ],
      "metadata": {
        "id": "Ks4StY88FaPP"
      },
      "execution_count": null,
      "outputs": []
    },
    {
      "cell_type": "code",
      "source": [
        "class Solution(object):\n",
        "    def firstBadVersion(self, n):\n",
        "        left, right = 1, n\n",
        "\n",
        "        while left < right:\n",
        "            mid = left + (right - left) // 2\n",
        "            if isBadVersion(mid):\n",
        "                right = mid\n",
        "            else:\n",
        "                left = mid + 1\n",
        "\n",
        "        return left\n"
      ],
      "metadata": {
        "id": "tn-6myWjFjVn"
      },
      "execution_count": null,
      "outputs": []
    },
    {
      "cell_type": "markdown",
      "source": [
        "# Ransom Note"
      ],
      "metadata": {
        "id": "yRBQ-NVaXBY5"
      }
    },
    {
      "cell_type": "code",
      "source": [
        "from collections import Counter\n",
        "class Solution(object):\n",
        "    def canConstruct(self, ransomNote, magazine):\n",
        "        \"\"\"\n",
        "        :type ransomNote: str\n",
        "        :type magazine: str\n",
        "        :rtype: bool\n",
        "        \"\"\"\n",
        "        dictionary = {}\n",
        "\n",
        "        for char in magazine:\n",
        "            if char not in dictionary:\n",
        "                dictionary[char] = 1\n",
        "            else:\n",
        "                dictionary[char] += 1\n",
        "\n",
        "        for char in ransomNote:\n",
        "            if char in dictionary and dictionary[char] > 0:\n",
        "                dictionary[char] -= 1\n",
        "            else:\n",
        "                return False\n",
        "\n",
        "        return True\n"
      ],
      "metadata": {
        "id": "rCM15vxQXBsk"
      },
      "execution_count": null,
      "outputs": []
    },
    {
      "cell_type": "code",
      "source": [
        "class Solution(object):\n",
        "    def canConstruct(self, ransomNote, magazine):\n",
        "        st1, st2 = Counter(ransomNote), Counter(magazine)\n",
        "        if st1 & st2 == st1:\n",
        "            return True\n",
        "        return False\n"
      ],
      "metadata": {
        "id": "2g_OjuEVXK9o"
      },
      "execution_count": null,
      "outputs": []
    },
    {
      "cell_type": "markdown",
      "source": [
        "# Climbing Stairs"
      ],
      "metadata": {
        "id": "9EmuVbiPhzRt"
      }
    },
    {
      "cell_type": "code",
      "source": [
        "class Solution(object):\n",
        "    def climbStairs(self, n):\n",
        "        \"\"\"\n",
        "        :type n: int\n",
        "        :rtype: int\n",
        "        \"\"\"\n",
        "        def climb(n):\n",
        "            if n == 1:\n",
        "                return 1\n",
        "            if n == 2:\n",
        "                return 2\n",
        "            return climb(n-2) + climb(n-1)\n",
        "        return climb(n)"
      ],
      "metadata": {
        "id": "viwa-3iuhzjS"
      },
      "execution_count": null,
      "outputs": []
    },
    {
      "cell_type": "code",
      "source": [
        "class Solution:\n",
        "    def climbStairs(self, n: int) -> int:\n",
        "        if n == 0 or n == 1:\n",
        "            return 1\n",
        "\n",
        "        dp = [0] * (n+1)\n",
        "        dp[0] = dp[1] = 1\n",
        "\n",
        "        for i in range(2, n+1):\n",
        "            dp[i] = dp[i-1] + dp[i-2]\n",
        "        return dp[n]\n"
      ],
      "metadata": {
        "id": "DS1-dDiNh2Pr"
      },
      "execution_count": null,
      "outputs": []
    },
    {
      "cell_type": "code",
      "source": [
        "class Solution:\n",
        "    def climbStairs(self, n: int) -> int:\n",
        "        if n == 0 or n == 1:\n",
        "            return 1\n",
        "        prev, curr = 1, 1\n",
        "        for i in range(2, n+1):\n",
        "            temp = curr\n",
        "            curr = prev + curr\n",
        "            prev = temp\n",
        "        return curr\n"
      ],
      "metadata": {
        "id": "2P2BETItilHt"
      },
      "execution_count": null,
      "outputs": []
    },
    {
      "cell_type": "markdown",
      "source": [
        "# Longest Palindrome"
      ],
      "metadata": {
        "id": "OckwedBU7vu4"
      }
    },
    {
      "cell_type": "code",
      "source": [
        "class Solution(object):\n",
        "    def longestPalindrome(self, s):\n",
        "        \"\"\"\n",
        "        :type s: str\n",
        "        :rtype: int\n",
        "        \"\"\"\n",
        "        ans = 0\n",
        "        for v in collections.Counter(s).itervalues():\n",
        "            ans += v / 2 * 2\n",
        "            if ans % 2 == 0 and v % 2 == 1:\n",
        "                ans += 1\n",
        "        return ans"
      ],
      "metadata": {
        "id": "G3ZsH9Hh7v61"
      },
      "execution_count": null,
      "outputs": []
    },
    {
      "cell_type": "code",
      "source": [
        "class Solution(object):\n",
        "    def longestPalindrome(self, s):\n",
        "        \"\"\"\n",
        "        :type s: str\n",
        "        :rtype: int\n",
        "        \"\"\"\n",
        "        res = 0\n",
        "        for i in collections.Counter(s).values():\n",
        "            res += i // 2 * 2\n",
        "        return min(res+1, len(s))"
      ],
      "metadata": {
        "id": "obMRRBNQ8CLF"
      },
      "execution_count": null,
      "outputs": []
    },
    {
      "cell_type": "markdown",
      "source": [
        "# Reverse Linked List"
      ],
      "metadata": {
        "id": "QkKX4PsIB4ls"
      }
    },
    {
      "cell_type": "code",
      "source": [
        "# Definition for singly-linked list.\n",
        "# class ListNode(object):\n",
        "#     def __init__(self, val=0, next=None):\n",
        "#         self.val = val\n",
        "#         self.next = next\n",
        "class Solution(object):\n",
        "    def reverseList(self, head):\n",
        "        \"\"\"\n",
        "        :type head: ListNode\n",
        "        :rtype: ListNode\n",
        "        \"\"\"\n",
        "        prev = None\n",
        "        curr = head\n",
        "        while curr:\n",
        "            next = curr.next\n",
        "            curr.next = prev\n",
        "            prev = curr\n",
        "            curr = next\n",
        "        return prev"
      ],
      "metadata": {
        "id": "qRfqCNYrB5co"
      },
      "execution_count": null,
      "outputs": []
    },
    {
      "cell_type": "code",
      "source": [
        "def reverseList(self, head):\n",
        "    new_list = None\n",
        "    current = head\n",
        "\n",
        "    while current:\n",
        "        next_node = current.next\n",
        "        current.next = new_list\n",
        "        new_list = current\n",
        "        current = next_node\n",
        "\n",
        "    return new_list\n"
      ],
      "metadata": {
        "id": "69LZsTAYC1Yv"
      },
      "execution_count": null,
      "outputs": []
    },
    {
      "cell_type": "markdown",
      "source": [
        "# Majority Element\n"
      ],
      "metadata": {
        "id": "A6XF8ffENQon"
      }
    },
    {
      "cell_type": "code",
      "source": [
        "class Solution(object):\n",
        "    def majorityElement(self, nums):\n",
        "        \"\"\"\n",
        "        :type nums: List[int]\n",
        "        :rtype: int\n",
        "        \"\"\"\n",
        "        count = 0\n",
        "        maj = 0\n",
        "\n",
        "        for i in range(len(nums)):\n",
        "            if count == 0 and maj != nums[i]:\n",
        "                maj = nums[i]\n",
        "                count +=1\n",
        "            elif maj == nums[i]:\n",
        "                count += 1\n",
        "            else:\n",
        "                count -= 1\n",
        "        return maj\n"
      ],
      "metadata": {
        "id": "VairP_yGNQ7D"
      },
      "execution_count": null,
      "outputs": []
    },
    {
      "cell_type": "code",
      "source": [
        "class Solution(object):\n",
        "    def majorityElement(self, nums):\n",
        "        \"\"\"\n",
        "        :type nums: List[int]\n",
        "        :rtype: int\n",
        "        \"\"\"\n",
        "        nums.sort()\n",
        "        n = len(nums)\n",
        "        return nums[n//2]\n"
      ],
      "metadata": {
        "id": "pwxjR_ieNZh3"
      },
      "execution_count": null,
      "outputs": []
    },
    {
      "cell_type": "code",
      "source": [
        "class Solution(object):\n",
        "    def majorityElement(self, nums):\n",
        "        maps = Counter(nums)\n",
        "        sets = set(nums)\n",
        "        for i in sets:\n",
        "            if maps[i]>(len(nums)/2):\n",
        "                return i\n"
      ],
      "metadata": {
        "id": "Tphoq-caNhIR"
      },
      "execution_count": null,
      "outputs": []
    },
    {
      "cell_type": "markdown",
      "source": [
        "#  Add Binary"
      ],
      "metadata": {
        "id": "0KstiHW4gXpa"
      }
    },
    {
      "cell_type": "code",
      "source": [
        "class Solution(object):\n",
        "    def addBinary(self, a, b):\n",
        "        \"\"\"\n",
        "        :type a: str\n",
        "        :type b: str\n",
        "        :rtype: str\n",
        "        \"\"\"\n",
        "        return bin(int(a , 2) + int(b,2))[2:]\n"
      ],
      "metadata": {
        "id": "m2O45REDgX6S"
      },
      "execution_count": null,
      "outputs": []
    },
    {
      "cell_type": "code",
      "source": [
        "class Solution:\n",
        "    def addBinary(self, s1: str, s2: str) -> str:\n",
        "        return \"{0:b}\".format(int(s1, 2) + int(s2, 2))\n"
      ],
      "metadata": {
        "id": "_SKZhFzIgoyF"
      },
      "execution_count": null,
      "outputs": []
    },
    {
      "cell_type": "code",
      "source": [
        "class Solution:\n",
        "    def addBinary(self, s1: str, s2: str) -> str:\n",
        "        return f\"{int(s1, 2)+int(s2, 2):b}\"\n"
      ],
      "metadata": {
        "id": "piQD1wWmgotz"
      },
      "execution_count": null,
      "outputs": []
    },
    {
      "cell_type": "code",
      "source": [
        "class Solution:\n",
        "    def addBinary(self, a: str, b: str) -> str:\n",
        "        a=int(a,2)\n",
        "        b=int(b,2)\n",
        "        ans=a+b\n",
        "\n",
        "        if(a==0 and b==0):\n",
        "            return \"0\"\n",
        "\n",
        "        mod= \"\"\n",
        "        while(ans >= 1):\n",
        "            mod += str(int(ans%2))\n",
        "            ans = ans//2\n",
        "        return mod[::-1]\n"
      ],
      "metadata": {
        "id": "Hwldhopsgzpj"
      },
      "execution_count": null,
      "outputs": []
    },
    {
      "cell_type": "markdown",
      "source": [
        "# Diameter of Binary Tree\n"
      ],
      "metadata": {
        "id": "HwJ3Sk68fcmd"
      }
    },
    {
      "cell_type": "code",
      "source": [
        "# Definition for a binary tree node.\n",
        "# class TreeNode(object):\n",
        "#     def __init__(self, val=0, left=None, right=None):\n",
        "#         self.val = val\n",
        "#         self.left = left\n",
        "#         self.right = right\n",
        "class Solution(object):\n",
        "    def diameterOfBinaryTree(self, root):\n",
        "        \"\"\"\n",
        "        :type root: TreeNode\n",
        "        :rtype: int\n",
        "        \"\"\"\n",
        "        self.ans = 0\n",
        "\n",
        "        def dfs(node):\n",
        "            if not node:\n",
        "                return 0\n",
        "            left = dfs(node.left)\n",
        "            right = dfs(node.right)\n",
        "            self.ans = max(self.ans, left + right)\n",
        "            return max(left, right) + 1\n",
        "\n",
        "        dfs(root)\n",
        "        return self.ans"
      ],
      "metadata": {
        "id": "5HbtAYhjfdA_"
      },
      "execution_count": null,
      "outputs": []
    },
    {
      "cell_type": "markdown",
      "source": [
        "# Middle of the Linked List\n"
      ],
      "metadata": {
        "id": "mVN_vBVr9zcP"
      }
    },
    {
      "cell_type": "code",
      "source": [
        "# Definition for singly-linked list.\n",
        "# class ListNode(object):\n",
        "#     def __init__(self, val=0, next=None):\n",
        "#         self.val = val\n",
        "#         self.next = next\n",
        "class Solution(object):\n",
        "    def middleNode(self, head):\n",
        "        \"\"\"\n",
        "        :type head: ListNode\n",
        "        :rtype: ListNode\n",
        "        \"\"\"\n",
        "        slow = fast = head\n",
        "        while fast and fast.next:\n",
        "            slow = slow.next\n",
        "            fast = fast.next.next\n",
        "        return slow\n"
      ],
      "metadata": {
        "id": "H7BX_1Hn9z_O"
      },
      "execution_count": null,
      "outputs": []
    },
    {
      "cell_type": "markdown",
      "source": [
        "# Maximum Depth of Binary Tree"
      ],
      "metadata": {
        "id": "bKNjVIZ3HOqQ"
      }
    },
    {
      "cell_type": "code",
      "source": [
        "# Definition for a binary tree node.\n",
        "# class TreeNode(object):\n",
        "#     def __init__(self, val=0, left=None, right=None):\n",
        "#         self.val = val\n",
        "#         self.left = left\n",
        "#         self.right = right\n",
        "class Solution(object):\n",
        "    def maxDepth(self, root):\n",
        "        \"\"\"\n",
        "        :type root: TreeNode\n",
        "        :rtype: int\n",
        "        \"\"\"\n",
        "        if not root:\n",
        "            return 0\n",
        "\n",
        "        return 1 + max(self.maxDepth(root.left), self.maxDepth(root.right))"
      ],
      "metadata": {
        "id": "SSY6qqYLHO4e"
      },
      "execution_count": null,
      "outputs": []
    },
    {
      "cell_type": "code",
      "source": [
        "class Solution:\n",
        "    def maxDepth(self, root: Optional[TreeNode]) -> int:\n",
        "        if not root : return 0\n",
        "        queue = deque()\n",
        "        queue.append((root,1))\n",
        "        while queue:\n",
        "            cur_node = queue.popleft()\n",
        "            if cur_node[0].left:queue.append((cur_node[0].left,cur_node[1]+1))\n",
        "            if cur_node[0].right:queue.append((cur_node[0].right,cur_node[1]+1))\n",
        "        return cur_node[1]\n"
      ],
      "metadata": {
        "id": "fWqEgcnGHTju"
      },
      "execution_count": null,
      "outputs": []
    },
    {
      "cell_type": "code",
      "source": [
        "class Solution:\n",
        "    def maxDepth(self, root: Optional[TreeNode]) -> int:\n",
        "        stack = [[root, 1]]\n",
        "        res = 0\n",
        "\n",
        "        while stack:\n",
        "            node, depth = stack.pop()\n",
        "\n",
        "            if node:\n",
        "                res = max(res, depth)\n",
        "                stack.append([node.left, depth + 1])\n",
        "                stack.append([node.right, depth + 1])\n",
        "        return res"
      ],
      "metadata": {
        "id": "cU2zGXb2HmKi"
      },
      "execution_count": null,
      "outputs": []
    },
    {
      "cell_type": "markdown",
      "source": [
        "# Contains Duplicate"
      ],
      "metadata": {
        "id": "IymeK8Y9dSKJ"
      }
    },
    {
      "cell_type": "code",
      "source": [
        "class Solution(object):\n",
        "    def containsDuplicate(self, nums):\n",
        "        \"\"\"\n",
        "        :type nums: List[int]\n",
        "        :rtype: bool\n",
        "        \"\"\"\n",
        "        hset = set()\n",
        "        for idx in nums:\n",
        "            if idx in hset:\n",
        "                return True\n",
        "            else:\n",
        "                hset.add(idx)\n"
      ],
      "metadata": {
        "id": "W5HxrLYDdSaJ"
      },
      "execution_count": null,
      "outputs": []
    },
    {
      "cell_type": "code",
      "source": [
        "def containsDuplicate(nums):\n",
        "\treturn len(set(nums)) != len(nums)\n"
      ],
      "metadata": {
        "id": "XWfX-5QZdU5Q"
      },
      "execution_count": null,
      "outputs": []
    },
    {
      "cell_type": "code",
      "source": [
        "def containsDuplicate(self, nums: List[int]) -> bool:\n",
        "    nums.sort()\n",
        "    for i in range(len(nums)-1):\n",
        "        if nums[i] == nums[i+1]: return True\n",
        "    return False"
      ],
      "metadata": {
        "id": "tWr11wWedU0M"
      },
      "execution_count": null,
      "outputs": []
    },
    {
      "cell_type": "code",
      "source": [
        "def containsDuplicate(self, nums: List[int]) -> bool:\n",
        "    freq = Counter(nums)\n",
        "    for num, freq in freq.items():\n",
        "        if freq > 1:\n",
        "            return True\n",
        "    return False"
      ],
      "metadata": {
        "id": "p7yB5Ub1ddq5"
      },
      "execution_count": null,
      "outputs": []
    },
    {
      "cell_type": "code",
      "source": [
        "def containsDuplicate(self, nums: List[int]) -> bool:\n",
        "    counter = {}\n",
        "    for num in nums:\n",
        "        if num not in counter:\n",
        "            counter[num] = 0\n",
        "        counter[num] += 1\n",
        "    for num, freq in counter.items():\n",
        "        if freq > 1:\n",
        "            return True\n",
        "    return False\n"
      ],
      "metadata": {
        "id": "_YbNecD0dhC6"
      },
      "execution_count": null,
      "outputs": []
    },
    {
      "cell_type": "markdown",
      "source": [
        "# Maximum Subarray\n"
      ],
      "metadata": {
        "id": "0Sjq6BkUu3HL"
      }
    },
    {
      "cell_type": "code",
      "source": [
        "class Solution:\n",
        "    def maxSubArray(self, nums: List[int]) -> int:\n",
        "        maxsub = nums[0]\n",
        "        cursum = 0\n",
        "\n",
        "        for n in nums:\n",
        "            if cursum < 0 :\n",
        "                cursum = 0\n",
        "            cursum += n\n",
        "            maxsub = max(maxsub, cursum)\n",
        "        return maxsub"
      ],
      "metadata": {
        "id": "aLfq5Vt5u3re"
      },
      "execution_count": null,
      "outputs": []
    },
    {
      "cell_type": "code",
      "source": [
        "class Solution(object):\n",
        "    def maxSubArray(self, nums):\n",
        "        \"\"\"\n",
        "        :type nums: List[int]\n",
        "        :rtype: int\n",
        "        \"\"\"\n",
        "        n = len(nums)\n",
        "        maximumSum, currSumSubarray = float('-inf'), 0\n",
        "        for i in range(n):\n",
        "            currSumSubarray += nums[i]\n",
        "            maximumSum = max(maximumSum, currSumSubarray)\n",
        "            currSumSubarray = max(currSumSubarray, 0)\n",
        "        return maximumSum\n"
      ],
      "metadata": {
        "id": "Irf03owVu3Tv"
      },
      "execution_count": null,
      "outputs": []
    },
    {
      "cell_type": "markdown",
      "source": [
        "#  Insert Interval"
      ],
      "metadata": {
        "id": "IpKYBp-AeyhB"
      }
    },
    {
      "cell_type": "code",
      "source": [
        "class Solution:\n",
        "    def insert(self, intervals: List[List[int]], newInterval: List[int]) -> List[List[int]]:\n",
        "        res = []\n",
        "\n",
        "        for i in range(len(intervals)):\n",
        "            if newInterval[1] < intervals[i][0]:\n",
        "                res.append(newInterval)\n",
        "                return res + intervals[i:]\n",
        "            elif newInterval[0] > intervals[i][1]:\n",
        "                res.append(intervals[i])\n",
        "            else:\n",
        "                newInterval = [min(newInterval[0], intervals[i][0]), max(newInterval[1], intervals[i][1])]\n",
        "        res.append(newInterval)\n",
        "        return res"
      ],
      "metadata": {
        "id": "lsHMwakaeyxy"
      },
      "execution_count": null,
      "outputs": []
    },
    {
      "cell_type": "code",
      "source": [
        "class Solution:\n",
        "    def insert(self, intervals: List[List[int]], newInterval: List[int]) -> List[List[int]]:\n",
        "        START, END = 0, 1\n",
        "\n",
        "        s, e = newInterval[START], newInterval[END]\n",
        "\n",
        "        left, right = [], []\n",
        "\n",
        "        for cur_interval in intervals:\n",
        "\n",
        "            if cur_interval[END] < s:\n",
        "                # current interval is on the left-hand side of newInterval\n",
        "                left += [ cur_interval ]\n",
        "\n",
        "            elif cur_interval[START] > e:\n",
        "                # current interval is on the right-hand side of newInterval\n",
        "                right += [ cur_interval ]\n",
        "\n",
        "            else:\n",
        "                # current interval has overlap with newInterval\n",
        "                # merge and update boundary\n",
        "                s = min(s, cur_interval[START])\n",
        "                e = max(e, cur_interval[END])\n",
        "\n",
        "        return left + [ [s, e] ] + right\n"
      ],
      "metadata": {
        "id": "tHRjw6Z3e9bx"
      },
      "execution_count": null,
      "outputs": []
    },
    {
      "cell_type": "markdown",
      "source": [
        "# 01 Matrix\n"
      ],
      "metadata": {
        "id": "dHZVekoZrcBm"
      }
    },
    {
      "cell_type": "code",
      "source": [
        "class Solution:\n",
        "    def updateMatrix(self, mat: List[List[int]]) -> List[List[int]]:\n",
        "        if not mat or not mat[0]:\n",
        "            return []\n",
        "\n",
        "        m, n = len(mat), len(mat[0])\n",
        "        queue = deque()\n",
        "        MAX_VALUE = m * n\n",
        "\n",
        "        for i in range(m):\n",
        "            for j in range(n):\n",
        "                if mat[i][j] == 0:\n",
        "                    queue.append((i, j))\n",
        "                else:\n",
        "                    mat[i][j] = MAX_VALUE\n",
        "\n",
        "        directions = [(1, 0), (-1, 0), (0, 1), (0, -1)]\n",
        "\n",
        "        while queue:\n",
        "            row, col = queue.popleft()\n",
        "            for dr, dc in directions:\n",
        "                r, c = row + dr, col + dc\n",
        "                if 0 <= r < m and 0 <= c < n and mat[r][c] > mat[row][col] + 1:\n",
        "                    queue.append((r, c))\n",
        "                    mat[r][c] = mat[row][col] + 1\n",
        "\n",
        "        return mat\n"
      ],
      "metadata": {
        "id": "WESntQ0UrcTF"
      },
      "execution_count": null,
      "outputs": []
    },
    {
      "cell_type": "code",
      "source": [
        "class Solution:\n",
        "    def updateMatrix(self, matrix: List[List[int]]) -> List[List[int]]:\n",
        "        m, n = len(matrix), len(matrix[0])\n",
        "        for i, row in enumerate(matrix):\n",
        "            for j, cell in enumerate(row):\n",
        "                if cell:\n",
        "                    top = matrix[i-1][j] if i else float('inf')\n",
        "                    left = matrix[i][j-1] if j else float('inf')\n",
        "                    matrix[i][j] = min(top, left) + 1\n",
        "        for i in reversed(range(m)):\n",
        "            for j in reversed(range(n)):\n",
        "                if cell := matrix[i][j]:\n",
        "                    bottom = matrix[i+1][j] if i < m - 1 else float('inf')\n",
        "                    right = matrix[i][j+1] if j < n - 1 else float('inf')\n",
        "                    matrix[i][j] = min(cell, bottom + 1, right + 1)\n",
        "        return matrix\n"
      ],
      "metadata": {
        "id": "KLtaoGxlriqy"
      },
      "execution_count": null,
      "outputs": []
    },
    {
      "cell_type": "markdown",
      "source": [
        "# K Closest Points to Origin"
      ],
      "metadata": {
        "id": "P_zY3Bn-Jsk6"
      }
    },
    {
      "cell_type": "code",
      "source": [
        "import heapq\n",
        "\n",
        "class Solution:\n",
        "    def kClosest(self, points: List[List[int]], K: int) -> List[List[int]]:\n",
        "\n",
        "        heap = []\n",
        "\n",
        "        for (x, y) in points:\n",
        "            dist = -(x*x + y*y)\n",
        "            if len(heap) == K:\n",
        "                heapq.heappushpop(heap, (dist, x, y))\n",
        "            else:\n",
        "                heapq.heappush(heap, (dist, x, y))\n",
        "\n",
        "        return [(x,y) for (dist,x, y) in heap]\n"
      ],
      "metadata": {
        "id": "JVve5OMIJu_W"
      },
      "execution_count": null,
      "outputs": []
    },
    {
      "cell_type": "code",
      "source": [
        "class Solution:\n",
        "    def kClosest(self, points: List[List[int]], k: int) -> List[List[int]]:\n",
        "        maxHeap = []\n",
        "        for id, p in enumerate(points):\n",
        "            d = p[0] * p[0] + p[1] * p[1]\n",
        "            if len(maxHeap) < k:\n",
        "                heappush(maxHeap, (-d, id))\n",
        "            else:\n",
        "                heappushpop(maxHeap, (-d, id))\n",
        "\n",
        "        return [points[id] for _, id in maxHeap]\n"
      ],
      "metadata": {
        "id": "UzEidPTCKAAJ"
      },
      "execution_count": null,
      "outputs": []
    },
    {
      "cell_type": "markdown",
      "source": [
        "# Longest Substring Without Repeating Characters"
      ],
      "metadata": {
        "id": "rdEyIkTTS1u3"
      }
    },
    {
      "cell_type": "code",
      "source": [
        "class Solution:\n",
        "    def lengthOfLongestSubstring(self, s: str) -> int:\n",
        "        charset = set()\n",
        "        l = 0\n",
        "        res = 0\n",
        "        for r in range(len(s)):\n",
        "            while s[r] in charset:\n",
        "                charset.remove(s[l])\n",
        "                l += 1\n",
        "            charset.add(s[r])\n",
        "            res= max(res, r - l + 1)\n",
        "            # print(charset)\n",
        "        return res"
      ],
      "metadata": {
        "id": "fvZwfujpS1mt"
      },
      "execution_count": null,
      "outputs": []
    },
    {
      "cell_type": "code",
      "source": [
        "class Solution:\n",
        "    def lengthOfLongestSubstring(self, s: str) -> int:\n",
        "        n = len(s)\n",
        "        maxLength = 0\n",
        "        charMap = {}\n",
        "        left = 0\n",
        "\n",
        "        for right in range(n):\n",
        "            if s[right] not in charMap or charMap[s[right]] < left:\n",
        "                charMap[s[right]] = right\n",
        "                maxLength = max(maxLength, right - left + 1)\n",
        "            else:\n",
        "                left = charMap[s[right]] + 1\n",
        "                charMap[s[right]] = right\n",
        "\n",
        "        return maxLength\n"
      ],
      "metadata": {
        "id": "sfBF9_1IS5NQ"
      },
      "execution_count": null,
      "outputs": []
    },
    {
      "cell_type": "code",
      "source": [
        "class Solution:\n",
        "    def lengthOfLongestSubstring(self, s: str) -> int:\n",
        "        n = len(s)\n",
        "        maxLength = 0\n",
        "        charIndex = [-1] * 128\n",
        "        left = 0\n",
        "\n",
        "        for right in range(n):\n",
        "            if charIndex[ord(s[right])] >= left:\n",
        "                left = charIndex[ord(s[right])] + 1\n",
        "            charIndex[ord(s[right])] = right\n",
        "            maxLength = max(maxLength, right - left + 1)\n",
        "\n",
        "        return maxLength\n"
      ],
      "metadata": {
        "id": "ZkoYs-GBTF9l"
      },
      "execution_count": null,
      "outputs": []
    },
    {
      "cell_type": "markdown",
      "source": [
        "# 3Sum"
      ],
      "metadata": {
        "id": "xm6nWs1tt7yX"
      }
    },
    {
      "cell_type": "code",
      "source": [
        "class Solution:\n",
        "    def threeSum(self, nums: List[int]) -> List[List[int]]:\n",
        "        nums.sort()\n",
        "        triplets = set()\n",
        "        for i in range(len(nums) - 2):\n",
        "            firstNum = nums[i]\n",
        "            j = i + 1\n",
        "            k = len(nums) - 1\n",
        "            while j < k:\n",
        "                secondNum  = nums[j]\n",
        "                thirdNum = nums[k]\n",
        "\n",
        "                potentialSum = firstNum + secondNum + thirdNum\n",
        "                if potentialSum > 0:\n",
        "                    k -= 1\n",
        "                elif potentialSum < 0:\n",
        "                    j += 1\n",
        "                else:\n",
        "                    triplets.add((firstNum , secondNum ,thirdNum))\n",
        "                    j += 1\n",
        "                    k -= 1\n",
        "        return triplets"
      ],
      "metadata": {
        "id": "bJqupin0t81b"
      },
      "execution_count": null,
      "outputs": []
    },
    {
      "cell_type": "code",
      "source": [
        "class Solution:\n",
        "    def threeSum(self, nums: List[int]) -> List[List[int]]:\n",
        "        nums.sort()\n",
        "        triplets = set()\n",
        "        for i in range(len(nums) - 2):\n",
        "            if i > 0 and nums[i] == nums[i - 1]:\n",
        "                continue  # Skip duplicate values of the first number\n",
        "            firstNum = nums[i]\n",
        "            j, k = i + 1, len(nums) - 1\n",
        "            while j < k:\n",
        "                secondNum, thirdNum = nums[j], nums[k]\n",
        "                potentialSum = firstNum + secondNum + thirdNum\n",
        "                if potentialSum > 0:\n",
        "                    k -= 1\n",
        "                elif potentialSum < 0:\n",
        "                    j += 1\n",
        "                else:\n",
        "                    triplets.add((firstNum, secondNum, thirdNum))\n",
        "                    j, k = j + 1, k - 1\n",
        "                    while j < k and nums[j] == nums[j - 1]:\n",
        "                        j += 1  # Skip duplicate values of the second number\n",
        "                    while j < k and nums[k] == nums[k + 1]:\n",
        "                        k -= 1  # Skip duplicate values of the third number\n",
        "        return triplets\n"
      ],
      "metadata": {
        "id": "T7rjrdOQuAQt"
      },
      "execution_count": null,
      "outputs": []
    },
    {
      "cell_type": "code",
      "source": [
        "class Solution:\n",
        "    def threeSum(self, nums: List[int]) -> List[List[int]]:\n",
        "        arrLength = len(nums)\n",
        "\n",
        "        ans = []\n",
        "\n",
        "\n",
        "        for i_idx in range(0, arrLength - 2):\n",
        "            for j_idx in range(i_idx + 1, arrLength - 1):\n",
        "                for k_idx in range(j_idx + 1, arrLength):\n",
        "                    if nums[i_idx] + nums[j_idx] + nums[k_idx] == 0:\n",
        "                        # Sort the triplet and add it to the result if not already present\n",
        "                        triplet = sorted([nums[i_idx], nums[j_idx], nums[k_idx]])\n",
        "\n",
        "                        if triplet not in ans:\n",
        "                            ans.append(triplet)\n",
        "\n",
        "        return ans"
      ],
      "metadata": {
        "id": "d9izxkxHuCGS"
      },
      "execution_count": null,
      "outputs": []
    },
    {
      "cell_type": "markdown",
      "source": [
        "# Binary Tree Level Order Traversal"
      ],
      "metadata": {
        "id": "94O1ayDMp-Lm"
      }
    },
    {
      "cell_type": "code",
      "source": [
        "# Binary Tree Level Order Traversal\n",
        "# Definition for a binary tree node.\n",
        "# class TreeNode:\n",
        "#     def __init__(self, val=0, left=None, right=None):\n",
        "#         self.val = val\n",
        "#         self.left = left\n",
        "#         self.right = right\n",
        "class Solution:\n",
        "    def levelOrder(self, root: Optional[TreeNode]) -> List[List[int]]:\n",
        "        result = []\n",
        "        count = 0\n",
        "\n",
        "        def level(count , root):\n",
        "            if root == None :\n",
        "                return\n",
        "\n",
        "            if len(result) <= count:\n",
        "                result.append([])\n",
        "\n",
        "            result[count].append(root.val)\n",
        "            count += 1\n",
        "            level(count , root.left)\n",
        "            level(count , root.right)\n",
        "\n",
        "        level(count , root)\n",
        "        return result\n"
      ],
      "metadata": {
        "id": "3x7NC7LYp_ZV"
      },
      "execution_count": null,
      "outputs": []
    },
    {
      "cell_type": "code",
      "source": [
        "# Definition for a binary tree node.\n",
        "# class TreeNode:\n",
        "#     def __init__(self, val=0, left=None, right=None):\n",
        "#         self.val = val\n",
        "#         self.left = left\n",
        "#         self.right = right\n",
        "class Solution:\n",
        "    def levelOrder(self, root: Optional[TreeNode]) -> List[List[int]]:\n",
        "        ret_list=[]\n",
        "        if not root:\n",
        "            return ret_list\n",
        "\n",
        "        stack=[[root]]\n",
        "        while stack:\n",
        "            nodes=stack.pop(0)\n",
        "            if nodes:\n",
        "                ret_list.append([])\n",
        "                stack.append([])\n",
        "                for node in nodes:\n",
        "                    ret_list[-1].append(node.val)\n",
        "                    if node.left:\n",
        "                        stack[-1].append(node.left)\n",
        "                    if node.right:\n",
        "                        stack[-1].append(node.right)\n",
        "        return ret_list"
      ],
      "metadata": {
        "id": "PKKiT8hZqCGf"
      },
      "execution_count": null,
      "outputs": []
    },
    {
      "cell_type": "markdown",
      "source": [
        "# Clone Graph"
      ],
      "metadata": {
        "id": "SmKkmgGlqWdI"
      }
    },
    {
      "cell_type": "code",
      "source": [
        "\"\"\"\n",
        "# Definition for a Node.\n",
        "class Node:\n",
        "    def __init__(self, val = 0, neighbors = None):\n",
        "        self.val = val\n",
        "        self.neighbors = neighbors if neighbors is not None else []\n",
        "\"\"\"\n",
        "\n",
        "from typing import Optional\n",
        "class Solution:\n",
        "    def cloneGraph(self, node: 'Node') -> 'Node':\n",
        "        if not node: return node\n",
        "\n",
        "        q, clones = deque([node]), {node.val: Node(node.val, [])}\n",
        "        while q:\n",
        "            cur = q.popleft()\n",
        "            cur_clone = clones[cur.val]\n",
        "\n",
        "            for ngbr in cur.neighbors:\n",
        "                if ngbr.val not in clones:\n",
        "                    clones[ngbr.val] = Node(ngbr.val, [])\n",
        "                    q.append(ngbr)\n",
        "\n",
        "                cur_clone.neighbors.append(clones[ngbr.val])\n",
        "\n",
        "        return clones[node.val]\n"
      ],
      "metadata": {
        "id": "Hdy20kl9qa8k"
      },
      "execution_count": null,
      "outputs": []
    },
    {
      "cell_type": "code",
      "source": [
        "\"\"\"\n",
        "# Definition for a Node.\n",
        "class Node:\n",
        "    def __init__(self, val = 0, neighbors = None):\n",
        "        self.val = val\n",
        "        self.neighbors = neighbors if neighbors is not None else []\n",
        "\"\"\"\n",
        "\n",
        "class Solution:\n",
        "    def cloneGraph(self, node: 'Node') -> 'Node':\n",
        "        oldToNew={}\n",
        "        def dfs(node):\n",
        "            if node in oldToNew:\n",
        "                return oldToNew[node]\n",
        "\n",
        "            copy=Node(node.val)\n",
        "            oldToNew[node]=copy\n",
        "\n",
        "            for nei in node.neighbors:\n",
        "                copy.neighbors.append(dfs(nei))\n",
        "\n",
        "            return copy\n",
        "\n",
        "        return dfs(node) if node else None"
      ],
      "metadata": {
        "id": "58OI89f4qbpb"
      },
      "execution_count": null,
      "outputs": []
    },
    {
      "cell_type": "markdown",
      "source": [
        "# Evaluate Reverse Polish Notation"
      ],
      "metadata": {
        "id": "7Wg4wqHgx85z"
      }
    },
    {
      "cell_type": "code",
      "source": [
        "class Solution:\n",
        "    def evalRPN(self, tokens: List[str]) -> int:\n",
        "        stack = []\n",
        "        for i in tokens:\n",
        "            if i not in {\"+\", \"-\", \"*\", \"/\"}:\n",
        "                stack.append(int(i))\n",
        "            else: #operand\n",
        "                b, a = stack.pop(), stack.pop()\n",
        "                if i == \"+\":\n",
        "                    stack.append(a + b)\n",
        "                elif i == \"-\":\n",
        "                    stack.append(a - b)\n",
        "                elif i == \"*\":\n",
        "                    stack.append(a*b)\n",
        "                else:\n",
        "                    stack.append(trunc(a/b))\n",
        "        return stack[0]\n"
      ],
      "metadata": {
        "id": "79fgiv0byHUY"
      },
      "execution_count": null,
      "outputs": []
    },
    {
      "cell_type": "code",
      "source": [
        "class Solution:\n",
        "    def evalRPN(self, tokens: List[str]) -> int:\n",
        "        stack = []\n",
        "        op = ['+', '-', '*', '/']\n",
        "        for t in tokens:\n",
        "            if t in op:\n",
        "                x, y = int(stack.pop()), int(stack.pop())\n",
        "                stack.append(x + y if t == '+' else y - x if t == '-' else x * y if t == '*' else int(y / x))\n",
        "            else:\n",
        "                stack.append(t)\n",
        "        return int(stack[-1])\n"
      ],
      "metadata": {
        "id": "QoroHP7Ex9Gk"
      },
      "execution_count": null,
      "outputs": []
    },
    {
      "cell_type": "markdown",
      "source": [
        "# Course Schedule"
      ],
      "metadata": {
        "id": "7ifndUJ4guvQ"
      }
    },
    {
      "cell_type": "code",
      "source": [
        "from collections import defaultdict, deque\n",
        "\n",
        "class Solution:\n",
        "    def canFinish(self, numCourses: int, prerequisites: List[List[int]]) -> bool:\n",
        "        graph = defaultdict(list)\n",
        "        for course, prereq in prerequisites:\n",
        "            graph[prereq].append(course)\n",
        "\n",
        "        indegrees = [0] * numCourses\n",
        "        for prereq, _ in prerequisites:\n",
        "            indegrees[prereq] += 1\n",
        "\n",
        "        queue = deque()\n",
        "        for course in range(numCourses):\n",
        "            if indegrees[course] == 0:\n",
        "                queue.append(course)\n",
        "\n",
        "        while queue:\n",
        "            course = queue.popleft()\n",
        "            for prereq in graph[course]:\n",
        "                indegrees[prereq] -= 1\n",
        "                if indegrees[prereq] == 0:\n",
        "                    queue.append(prereq)\n",
        "\n",
        "        return all(indegree == 0 for indegree in indegrees)"
      ],
      "metadata": {
        "id": "Ht9kbndQgvAd"
      },
      "execution_count": null,
      "outputs": []
    },
    {
      "cell_type": "markdown",
      "source": [
        "# Implement Trie (Prefix Tree)\n"
      ],
      "metadata": {
        "id": "KD8BZ77Rnmqa"
      }
    },
    {
      "cell_type": "code",
      "source": [
        "class Trie:\n",
        "\n",
        "    def __init__(self):\n",
        "        self.root={}\n",
        "\n",
        "    def insert(self, word: str) -> None:\n",
        "\n",
        "        cur=self.root\n",
        "\n",
        "        for letter in word:\n",
        "            if letter not in cur:\n",
        "                cur[letter]={}\n",
        "            cur=cur[letter]\n",
        "\n",
        "        cur['*']=''\n",
        "\n",
        "    def search(self, word: str) -> bool:\n",
        "\n",
        "        cur=self.root\n",
        "        for letter in word:\n",
        "            if letter not in cur:\n",
        "                return False\n",
        "            cur=cur[letter]\n",
        "\n",
        "        return '*' in cur\n",
        "\n",
        "    def startsWith(self, prefix: str) -> bool:\n",
        "\n",
        "        cur=self.root\n",
        "        for letter in prefix:\n",
        "            if letter not in cur:\n",
        "                return False\n",
        "            cur=cur[letter]\n",
        "\n",
        "        return True\n",
        "\n",
        "\n",
        "\n",
        "\n",
        "# Your Trie object will be instantiated and called as such:\n",
        "# obj = Trie()\n",
        "# obj.insert(word)\n",
        "# param_2 = obj.search(word)\n",
        "# param_3 = obj.startsWith(prefix)"
      ],
      "metadata": {
        "id": "qv2FDp9Wnm9a"
      },
      "execution_count": null,
      "outputs": []
    },
    {
      "cell_type": "code",
      "source": [
        "class Trie:\n",
        "    class TrieNode:\n",
        "        def __init__(self):\n",
        "            self.arr = [None] * 26\n",
        "            self.end = False\n",
        "\n",
        "    def __init__(self):\n",
        "        self.root = self.TrieNode()\n",
        "\n",
        "    def insert(self, s: str) -> None:\n",
        "        curr = self.root\n",
        "        for c in s:\n",
        "            idx = ord(c) - ord('a')\n",
        "            if curr.arr[idx] is None:\n",
        "                curr.arr[idx] = self.TrieNode()\n",
        "            curr = curr.arr[idx]\n",
        "        curr.end = True\n",
        "\n",
        "    def search(self, s: str) -> bool:\n",
        "        curr = self.root\n",
        "        for c in s:\n",
        "            idx = ord(c) - ord('a')\n",
        "            if curr.arr[idx] is None:\n",
        "                return False\n",
        "            curr = curr.arr[idx]\n",
        "        return curr.end\n",
        "\n",
        "    def startsWith(self, s: str) -> bool:\n",
        "        curr = self.root\n",
        "        for c in s:\n",
        "            idx = ord(c) - ord('a')\n",
        "            if curr.arr[idx] is None:\n",
        "                return False\n",
        "            curr = curr.arr[idx]\n",
        "        return True\n"
      ],
      "metadata": {
        "id": "akJL0ugkoEmQ"
      },
      "execution_count": null,
      "outputs": []
    },
    {
      "cell_type": "markdown",
      "source": [
        "# Coin Change\n"
      ],
      "metadata": {
        "id": "_uiNtc1b_tu_"
      }
    },
    {
      "cell_type": "code",
      "source": [
        "class Solution:\n",
        "    def coinChange(self, coins: List[int], amount: int) -> int:\n",
        "        numCoins = len(coins)\n",
        "\n",
        "        # Values in this array equal the number of coins needed to achieve the cost of the index\n",
        "        minCoins = [amount + 1] * (amount + 1)\n",
        "        minCoins[0] = 0\n",
        "\n",
        "        # Loop through every needed amount\n",
        "        for i in range(amount + 1):\n",
        "            # Loop through every coin value\n",
        "            for coin in coins:\n",
        "                # Check that the coin is not bigger than the current amount\n",
        "                if coin <= i:\n",
        "                    # minCoins[i]: number of coins needed to make amount i\n",
        "                    # minCoins[i-coin]: number of coins needed to make the amount before adding\n",
        "                    #                   the current coin to it (+1 to add the current coin)\n",
        "                    minCoins[i] = min(minCoins[i], minCoins[i-coin] + 1)\n",
        "\n",
        "        # Check if any combination of coins was found to create the amount\n",
        "        if minCoins[amount] == amount + 1:\n",
        "            return -1\n",
        "\n",
        "        # Return the optimal number of coins to create the amount\n",
        "        return minCoins[amount]\n"
      ],
      "metadata": {
        "id": "TPt3orRL_tOL"
      },
      "execution_count": null,
      "outputs": []
    },
    {
      "cell_type": "code",
      "source": [
        "class Solution:\n",
        "  def coinChange(self, coins: List[int], amount: int) -> int:\n",
        "    # dp[i] := fewest # Of coins to make up i\n",
        "    dp = [0] + [amount + 1] * amount\n",
        "\n",
        "    for coin in coins:\n",
        "      for i in range(coin, amount + 1):\n",
        "        dp[i] = min(dp[i], dp[i - coin] + 1)\n",
        "\n",
        "    return -1 if dp[amount] == amount + 1 else dp[amount]\n"
      ],
      "metadata": {
        "id": "uwSx4dcx_xnv"
      },
      "execution_count": null,
      "outputs": []
    },
    {
      "cell_type": "markdown",
      "source": [
        "# Product of Array Except Self"
      ],
      "metadata": {
        "id": "TXT9EDboJtL8"
      }
    },
    {
      "cell_type": "code",
      "source": [
        "class Solution:\n",
        "    def productExceptSelf(self, nums: List[int]) -> List[int]:\n",
        "        size = len(nums)\n",
        "        leftProduct = [0]*size\n",
        "        rightProduct = [0]*size\n",
        "        leftProduct[0] = 1\n",
        "        rightProduct[size-1] = 1\n",
        "\n",
        "        for i in range(1,size):\n",
        "            leftProduct[i] = leftProduct[i-1] * nums[i-1]\n",
        "            rightProduct[size-i-1] = rightProduct[size-i] * nums[size-i]\n",
        "\n",
        "        ans = []\n",
        "        for i in range(size):\n",
        "            ans.append(leftProduct[i] * rightProduct[i])\n",
        "        return ans\n"
      ],
      "metadata": {
        "id": "BZ1reb8Y_1z0"
      },
      "execution_count": null,
      "outputs": []
    },
    {
      "cell_type": "code",
      "source": [
        "class Solution:\n",
        "  def productExceptSelf(self, nums: List[int]) -> List[int]:\n",
        "    n = len(nums)\n",
        "    left_product = [1] * n # initialize left_product array with 1\n",
        "    right_product = [1] * n # initialize right_product array with 1\n",
        "    # calculate the product of elements to the left of each element\n",
        "    for i in range(1, n):\n",
        "        left_product[i] = left_product[i - 1] * nums[i - 1]\n",
        "\n",
        "    # calculate the product of elements to the right of each element\n",
        "    for i in range(n - 2, -1, -1):\n",
        "        right_product[i] = right_product[i + 1] * nums[i + 1]\n",
        "\n",
        "    # calculate the product of all elements except nums[i]\n",
        "    result = [left_product[i] * right_product[i] for i in range(n)]\n",
        "\n",
        "    return result\n"
      ],
      "metadata": {
        "id": "jOJ8BdsQJvVk"
      },
      "execution_count": null,
      "outputs": []
    },
    {
      "cell_type": "code",
      "source": [
        "class Solution:\n",
        "  def productExceptSelf(self, nums: List[int]) -> List[int]:\n",
        "    n = len(nums)\n",
        "    result = [1] * n\n",
        "    # calculate the product of elements to the left of each element and store in result\n",
        "    for i in range(1, n):\n",
        "        result[i] = result[i - 1] * nums[i - 1]\n",
        "\n",
        "    # calculate the product of elements to the right of each element and update result\n",
        "    right_product = 1\n",
        "    for i in range(n - 1, -1, -1):\n",
        "        result[i] *= right_product\n",
        "        right_product *= nums[i]\n",
        "\n",
        "    return result\n"
      ],
      "metadata": {
        "id": "rBr7T4OsJ6o3"
      },
      "execution_count": null,
      "outputs": []
    },
    {
      "cell_type": "markdown",
      "source": [
        "# MinStack"
      ],
      "metadata": {
        "id": "YdQHiybCWZw7"
      }
    },
    {
      "cell_type": "code",
      "source": [
        "class MinStack:\n",
        "\n",
        "    def __init__(self):\n",
        "        self.stack = []\n",
        "        self.minStack = []\n",
        "\n",
        "    def push(self, val: int) -> None:\n",
        "        self.stack.append(val)\n",
        "        if self.minStack:\n",
        "            val = min(self.minStack[-1],val)\n",
        "        self.minStack.append(val)\n",
        "\n",
        "    def pop(self) -> None:\n",
        "        self.stack.pop()\n",
        "        self.minStack.pop()\n",
        "\n",
        "    def top(self) -> int:\n",
        "        return self.stack[-1]\n",
        "\n",
        "    def getMin(self) -> int:\n",
        "        return self.minStack[-1]\n",
        "\n",
        "\n",
        "# Your MinStack object will be instantiated and called as such:\n",
        "# obj = MinStack()\n",
        "# obj.push(val)\n",
        "# obj.pop()\n",
        "# param_3 = obj.top()\n",
        "# param_4 = obj.getMin()"
      ],
      "metadata": {
        "id": "KhehWbTbWaBv"
      },
      "execution_count": null,
      "outputs": []
    },
    {
      "cell_type": "code",
      "source": [
        "class MinStack:\n",
        "    def __init__(self):\n",
        "        self.A = []\n",
        "        self.M = []\n",
        "    def push(self, x):\n",
        "        self.A.append(x)\n",
        "        self.M.append( x if not self.M else min(x, self.M[-1]) )\n",
        "    def pop(self):\n",
        "        self.A.pop()\n",
        "        self.M.pop()\n",
        "    def top(self):\n",
        "        return self.A[-1]\n",
        "    def getMin(self):\n",
        "        return self.M[-1]\n"
      ],
      "metadata": {
        "id": "gIfP2QuaWheZ"
      },
      "execution_count": null,
      "outputs": []
    },
    {
      "cell_type": "markdown",
      "source": [
        "# Validate Binary Search Tree"
      ],
      "metadata": {
        "id": "do-VBNlyjcqh"
      }
    },
    {
      "cell_type": "code",
      "source": [
        "# Definition for a binary tree node.\n",
        "# class TreeNode:\n",
        "#     def __init__(self, val=0, left=None, right=None):\n",
        "#         self.val = val\n",
        "#         self.left = left\n",
        "#         self.right = right\n",
        "class Solution:\n",
        "    def isValidBST(self, root: Optional[TreeNode]) -> bool:\n",
        "        prev = float('-inf')\n",
        "        def inorder(node):\n",
        "            nonlocal prev\n",
        "            if not node:\n",
        "                return True\n",
        "            if not (inorder(node.left) and prev < node.val):\n",
        "                return False\n",
        "            prev = node.val\n",
        "            return inorder(node.right)\n",
        "        return inorder(root)\n"
      ],
      "metadata": {
        "id": "lLjzLqSTjccT"
      },
      "execution_count": null,
      "outputs": []
    },
    {
      "cell_type": "code",
      "source": [
        "class Solution:\n",
        "    def isValidBST(self, root: TreeNode) -> bool:\n",
        "\n",
        "        # Use maximal system integer to represent infinity\n",
        "        INF = sys.maxsize\n",
        "\n",
        "        def helper(node, lower, upper):\n",
        "\n",
        "            if not node:\n",
        "\t\t\t\t# empty node or empty tree\n",
        "                return True\n",
        "\n",
        "            if lower < node.val < upper:\n",
        "\t\t\t\t# check if all tree nodes follow BST rule\n",
        "                return helper(node.left, lower, node.val) and helper(node.right, node.val, upper)\n",
        "\n",
        "            else:\n",
        "\t\t\t\t# early reject when we find violation\n",
        "                return False\n",
        "\n",
        "        # ----------------------------------\n",
        "\n",
        "        return helper( node=root, lower=-INF, upper=INF )\n"
      ],
      "metadata": {
        "id": "Mti5XXVVjoym"
      },
      "execution_count": null,
      "outputs": []
    },
    {
      "cell_type": "code",
      "source": [
        "class Solution(object):\n",
        "    def isValidBST(self, root, maximum = float('-inf'), minimum = float('inf')):\n",
        "        # Base case: root is null...\n",
        "        if not root: return True\n",
        "        # If the value of root is less thsn minimum Or greater than maximum...\n",
        "        if not maximum < root.val < minimum: return False\n",
        "        # Recursively call the function for the left and right subtree...\n",
        "        return self.isValidBST(root.left, maximum, root.val) and self.isValidBST(root.right, root.val, minimum)\n"
      ],
      "metadata": {
        "id": "TEErXOc2jt0w"
      },
      "execution_count": null,
      "outputs": []
    },
    {
      "cell_type": "markdown",
      "source": [
        "# Number of Islands"
      ],
      "metadata": {
        "id": "dOSp761vjonY"
      }
    },
    {
      "cell_type": "code",
      "source": [
        "from collections import deque\n",
        "class Solution:\n",
        "    def numIslands(self, grid: List[List[str]]) -> int:\n",
        "        \"\"\"\n",
        "        :type grid: List[List[str]]\n",
        "        :rtype: int\n",
        "        \"\"\"\n",
        "        if not grid:\n",
        "            return 0\n",
        "        count = 0\n",
        "        check = [[False for _ in range(len(grid[0]))] for _ in range(len(grid))]\n",
        "        for i in range(len(grid)):\n",
        "            for j in range(len(grid[0])):\n",
        "                if grid[i][j] =='1' and check[i][j]== False:\n",
        "                    count += 1\n",
        "                    self.search(grid,check,i,j)\n",
        "        return count\n",
        "    def search(self,grid,check,i,j):\n",
        "        qu = deque([(i,j)])\n",
        "        while qu:\n",
        "            i, j = qu.popleft()\n",
        "            if 0<=i<len(grid) and 0<=j<len(grid[0]) and grid[i][j]=='1' and check[i][j]==False:\n",
        "                check[i][j] = True\n",
        "                qu.extend([(i-1,j),(i+1,j),(i,j-1),(i,j+1)])"
      ],
      "metadata": {
        "id": "S9jtSolds9vG"
      },
      "execution_count": null,
      "outputs": []
    },
    {
      "cell_type": "code",
      "source": [
        "class Solution:\n",
        "    def numIslands(self, grid: List[List[str]]) -> int:\n",
        "        count = 0\n",
        "        for i in range(len(grid)):\n",
        "            for j in range(len(grid[0])):\n",
        "                if grid[i][j] == '1':\n",
        "                    print(i,j)\n",
        "                    self.dfs(grid,i,j)\n",
        "                    count  += 1\n",
        "        #print(grid)\n",
        "        return count\n",
        "    # use a helper function to flip connected '1's to 0\n",
        "    def dfs(self,grid,i,j):\n",
        "        grid[i][j] = 0\n",
        "        for dr,dc in (1,0), (-1,0), (0,-1), (0,1):\n",
        "            r = i + dr\n",
        "            c = j + dc\n",
        "            if 0 <= r < len(grid) and 0 <= c < len(grid[0]) and grid[r][c]=='1':\n",
        "                self.dfs(grid,r,c)\n"
      ],
      "metadata": {
        "id": "sO-if6DMs_bb"
      },
      "execution_count": null,
      "outputs": []
    },
    {
      "cell_type": "markdown",
      "source": [],
      "metadata": {
        "id": "marRNT_Is_Lj"
      }
    }
  ]
}