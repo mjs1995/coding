{
  "nbformat": 4,
  "nbformat_minor": 0,
  "metadata": {
    "colab": {
      "provenance": [],
      "authorship_tag": "ABX9TyM+Mwx6ZMVjCxpvhig8d8IF",
      "include_colab_link": true
    },
    "kernelspec": {
      "name": "python3",
      "display_name": "Python 3"
    },
    "language_info": {
      "name": "python"
    }
  },
  "cells": [
    {
      "cell_type": "markdown",
      "metadata": {
        "id": "view-in-github",
        "colab_type": "text"
      },
      "source": [
        "<a href=\"https://colab.research.google.com/github/mjs1995/coding/blob/main/INF/grind.ipynb\" target=\"_parent\"><img src=\"https://colab.research.google.com/assets/colab-badge.svg\" alt=\"Open In Colab\"/></a>"
      ]
    },
    {
      "cell_type": "markdown",
      "source": [
        "# Two Sum"
      ],
      "metadata": {
        "id": "ozPgHt4JAPZS"
      }
    },
    {
      "cell_type": "code",
      "execution_count": null,
      "metadata": {
        "id": "au7kJT6BAEO_"
      },
      "outputs": [],
      "source": [
        "class Solution:\n",
        "    def twoSum(self, nums: List[int], target: int) -> List[int]:\n",
        "        for i in range(len(nums)):\n",
        "            for j in range(i+1, len(nums)):\n",
        "                if nums[i] + nums[j] == target:\n",
        "                    return [i, j]"
      ]
    },
    {
      "cell_type": "code",
      "source": [
        "class Solution:\n",
        "    def twoSum(self, nums: List[int], target: int) -> List[int]:\n",
        "        n = len(nums)\n",
        "        for i in range(n - 1):\n",
        "            for j in range(i + 1, n):\n",
        "                if nums[i] + nums[j] == target:\n",
        "                    return [i, j]\n",
        "        return []  # No solution found"
      ],
      "metadata": {
        "id": "7aHgBFc_DBLQ"
      },
      "execution_count": null,
      "outputs": []
    },
    {
      "cell_type": "code",
      "source": [
        "class Solution:\n",
        "    def twoSum(self, nums: List[int], target: int) -> List[int]:\n",
        "        numMap = {}\n",
        "        n = len(nums)\n",
        "\n",
        "        # Build the hash table\n",
        "        for i in range(n):\n",
        "            numMap[nums[i]] = i\n",
        "\n",
        "        # Find the complement\n",
        "        for i in range(n):\n",
        "            complement = target - nums[i]\n",
        "            if complement in numMap and numMap[complement] != i:\n",
        "                return [i, numMap[complement]]\n",
        "\n",
        "        return []  # No solution found"
      ],
      "metadata": {
        "id": "lIDFh3-NDCFu"
      },
      "execution_count": null,
      "outputs": []
    },
    {
      "cell_type": "code",
      "source": [
        "class Solution:\n",
        "    def twoSum(self, nums: List[int], target: int) -> List[int]:\n",
        "        numMap = {}\n",
        "        n = len(nums)\n",
        "\n",
        "        for i in range(n):\n",
        "            complement = target - nums[i]\n",
        "            if complement in numMap:\n",
        "                return [numMap[complement], i]\n",
        "            numMap[nums[i]] = i\n",
        "\n",
        "        return []  # No solution found"
      ],
      "metadata": {
        "id": "BVzEHj4lDM3-"
      },
      "execution_count": null,
      "outputs": []
    },
    {
      "cell_type": "markdown",
      "source": [
        "# 20. Valid Parentheses\n"
      ],
      "metadata": {
        "id": "wTPMr-tXZYjr"
      }
    },
    {
      "cell_type": "code",
      "source": [
        "class Solution:\n",
        "    def isValid(self, s: str) -> bool:\n",
        "        li = {}\n",
        "        li['['] = ']'\n",
        "        li['('] = ')'\n",
        "        li['{'] = '}'\n",
        "        res =[]\n",
        "        for i in s:\n",
        "            if i in li:\n",
        "                res.append(i)\n",
        "            elif not res or li[res.pop()] != i:\n",
        "                return False\n",
        "        return len(res) == 0"
      ],
      "metadata": {
        "id": "K3vey6coZY80"
      },
      "execution_count": null,
      "outputs": []
    },
    {
      "cell_type": "code",
      "source": [
        "class Solution(object):\n",
        "    def isValid(self, s):\n",
        "        \"\"\"\n",
        "        :type s: str\n",
        "        :rtype: bool\n",
        "        \"\"\"\n",
        "        stack = []\n",
        "        table  = {\n",
        "            ')' : '(',\n",
        "            ']' : '[',\n",
        "            '}' : '{'\n",
        "        }\n",
        "        for char in s:\n",
        "            if char not in table:\n",
        "                stack.append(char)\n",
        "            elif not stack or table[char] != stack.pop():\n",
        "                return False\n",
        "        return len(stack) == 0\n"
      ],
      "metadata": {
        "id": "XJDIOgtAZilQ"
      },
      "execution_count": null,
      "outputs": []
    },
    {
      "cell_type": "markdown",
      "source": [
        "#  Merge Two Sorted Lists"
      ],
      "metadata": {
        "id": "i27fGGgmyGA0"
      }
    },
    {
      "cell_type": "code",
      "source": [
        "# Definition for singly-linked list.\n",
        "# class ListNode:\n",
        "#     def __init__(self, val=0, next=None):\n",
        "#         self.val = val\n",
        "#         self.next = next\n",
        "class Solution:\n",
        "    def mergeTwoLists(self, list1: Optional[ListNode], list2: Optional[ListNode]) -> Optional[ListNode]:\n",
        "        head = ListNode()\n",
        "        cur = head\n",
        "\n",
        "        while list1 and list2:\n",
        "            if list1.val < list2.val:\n",
        "                cur.next = list1\n",
        "                list1 = list1.next\n",
        "            else:\n",
        "                cur.next = list2\n",
        "                list2 = list2.next\n",
        "            cur = cur.next\n",
        "\n",
        "        cur.next = list1 or list2\n",
        "\n",
        "        return head.next\n"
      ],
      "metadata": {
        "id": "QZCWXEffyGOl"
      },
      "execution_count": null,
      "outputs": []
    },
    {
      "cell_type": "markdown",
      "source": [
        "# Best Time to Buy and Sell Stock"
      ],
      "metadata": {
        "id": "7OtZG2B7061s"
      }
    },
    {
      "cell_type": "code",
      "source": [
        "class Solution:\n",
        "    def maxProfit(self, prices: List[int]) -> int:\n",
        "        if not prices:\n",
        "            return 0\n",
        "        min_price = prices[0]\n",
        "        max_profit = 0\n",
        "\n",
        "        for price in prices:\n",
        "            min_price = min(min_price, price)\n",
        "            max_profit = max(max_profit, price - min_price)\n",
        "\n",
        "        return max_profit"
      ],
      "metadata": {
        "id": "YyuDZ0n5yYOS"
      },
      "execution_count": null,
      "outputs": []
    },
    {
      "cell_type": "code",
      "source": [
        "class Solution:\n",
        "    def maxProfit(self,prices):\n",
        "        left = 0\n",
        "        right = 1\n",
        "        max_profit = 0\n",
        "        while right < len(prices):\n",
        "            currentProfit = prices[right] - prices[left]\n",
        "            if prices[left] < prices[right]:\n",
        "                max_profit =max(currentProfit,max_profit)\n",
        "            else:\n",
        "                left = right\n",
        "            right += 1\n",
        "        return max_profit"
      ],
      "metadata": {
        "id": "L-OTRLLi3hRJ"
      },
      "execution_count": null,
      "outputs": []
    },
    {
      "cell_type": "code",
      "source": [
        "class Solution(object):\n",
        "    def maxProfit(self, prices):\n",
        "        profit = 0\n",
        "        buy = prices[0]\n",
        "        for sell in prices[1:]:\n",
        "            if sell > buy:\n",
        "                profit = max(profit, sell - buy)\n",
        "            else:\n",
        "                buy = sell\n",
        "\n",
        "        return profit"
      ],
      "metadata": {
        "id": "uIaYcX9O359k"
      },
      "execution_count": null,
      "outputs": []
    },
    {
      "cell_type": "markdown",
      "source": [
        "# Valid Palindrome"
      ],
      "metadata": {
        "id": "EFWPH178Ayom"
      }
    },
    {
      "cell_type": "code",
      "source": [
        "class Solution:\n",
        "    def isPalindrome(self, s: str) -> bool:\n",
        "        res = []\n",
        "        for i in s:\n",
        "            if i.isalnum():\n",
        "                res.append(i.lower())\n",
        "        return res == res[::-1]"
      ],
      "metadata": {
        "id": "KQyKIPlMAtNG"
      },
      "execution_count": null,
      "outputs": []
    },
    {
      "cell_type": "code",
      "source": [
        "class Solution:\n",
        "    def isPalindrome(self, s: str) -> bool:\n",
        "        s = [c.lower() for c in s if c.isalnum()]\n",
        "        return all (s[i] == s[~i] for i in range(len(s)//2))"
      ],
      "metadata": {
        "id": "Ob00lX0nBJPi"
      },
      "execution_count": null,
      "outputs": []
    },
    {
      "cell_type": "markdown",
      "source": [
        "# Invert Binary Tree\n"
      ],
      "metadata": {
        "id": "Q753S8gYTHkh"
      }
    },
    {
      "cell_type": "code",
      "source": [
        "# Definition for a binary tree node.\n",
        "# class TreeNode:\n",
        "#     def __init__(self, val=0, left=None, right=None):\n",
        "#         self.val = val\n",
        "#         self.left = left\n",
        "#         self.right = right\n",
        "class Solution:\n",
        "    def invertTree(self, root: Optional[TreeNode]) -> Optional[TreeNode]:\n",
        "        if root is None:\n",
        "            return None\n",
        "\n",
        "        root.left, root.right = root.right, root.left"
      ],
      "metadata": {
        "id": "t_3vvRWwTI45"
      },
      "execution_count": null,
      "outputs": []
    },
    {
      "cell_type": "markdown",
      "source": [
        "# Valid Anagram"
      ],
      "metadata": {
        "id": "GG2LYCrFnmvX"
      }
    },
    {
      "cell_type": "code",
      "source": [
        "class Solution:\n",
        "    def isAnagram(self, s: str, t: str) -> bool:\n",
        "        return sorted(s) == sorted(t)"
      ],
      "metadata": {
        "id": "ipxieB9YTKjU"
      },
      "execution_count": null,
      "outputs": []
    },
    {
      "cell_type": "code",
      "source": [
        "from collections import Counter\n",
        "class Solution:\n",
        "    def isAnagram(self, s: str, t: str) -> bool:\n",
        "        return Counter(s) == Counter(t)\n"
      ],
      "metadata": {
        "id": "iDnHQtYLnosb"
      },
      "execution_count": null,
      "outputs": []
    },
    {
      "cell_type": "code",
      "source": [
        "class Solution:\n",
        "    def isAnagram(self, s: str, t: str) -> bool:\n",
        "        count = defaultdict(int)\n",
        "\n",
        "        for x in s:\n",
        "            count[x] += 1\n",
        "\n",
        "        for x in t:\n",
        "            count[x] -= 1\n",
        "\n",
        "        for val in count.values():\n",
        "            if val != 0:\n",
        "                return False\n",
        "        return True"
      ],
      "metadata": {
        "id": "eUIIvNsOn1So"
      },
      "execution_count": null,
      "outputs": []
    },
    {
      "cell_type": "code",
      "source": [
        "class Solution:\n",
        "    def isAnagram(self, s: str, t: str) -> bool:\n",
        "        count = [0] * 26\n",
        "\n",
        "        for x in s:\n",
        "            count[ord(x) - ord('a')] += 1\n",
        "\n",
        "        for x in t:\n",
        "            count[ord(x) - ord('a')] -= 1\n",
        "\n",
        "        for val in count:\n",
        "            if val != 0:\n",
        "                return False\n",
        "        return True"
      ],
      "metadata": {
        "id": "T04dxPxGn9lw"
      },
      "execution_count": null,
      "outputs": []
    },
    {
      "cell_type": "markdown",
      "source": [
        "# Binary Search"
      ],
      "metadata": {
        "id": "IHXLiTCcqDjc"
      }
    },
    {
      "cell_type": "code",
      "source": [
        "class Solution:\n",
        "    def search(self, nums: List[int], target: int) -> int:\n",
        "        l, r = 0, len(nums)-1\n",
        "\n",
        "        while l <= r:\n",
        "            m = (l+r) // 2\n",
        "            if nums[m] > target:\n",
        "                r = m -1\n",
        "            elif nums[m] < target:\n",
        "                l = m + 1\n",
        "            else:\n",
        "                return m\n",
        "        return -1"
      ],
      "metadata": {
        "id": "BU0ndfG8n9fc"
      },
      "execution_count": null,
      "outputs": []
    },
    {
      "cell_type": "code",
      "source": [
        "class Solution:\n",
        "    def search(self, nums: List[int], target: int) -> int:\n",
        "        for i in range(len(nums)):\n",
        "            if nums[i] == target:\n",
        "                return i\n",
        "        return -1"
      ],
      "metadata": {
        "id": "7e-Q7ss-qJV9"
      },
      "execution_count": null,
      "outputs": []
    },
    {
      "cell_type": "markdown",
      "source": [
        "# Flood Fill"
      ],
      "metadata": {
        "id": "962QNYqoERdu"
      }
    },
    {
      "cell_type": "code",
      "source": [
        "class Solution:\n",
        "    def floodFill(self, image, sr, sc, newColor):\n",
        "        if image[sr][sc] == newColor:\n",
        "            return image\n",
        "\n",
        "        def dfs(image, row, col, oldColor, newColor):\n",
        "            if row < 0 or row >= len(image) or col < 0 or col >= len(image[0]) or image[row][col] != oldColor:\n",
        "                return\n",
        "            image[row][col] = newColor\n",
        "            dfs(image, row+1, col, oldColor, newColor)\n",
        "            dfs(image, row-1, col, oldColor, newColor)\n",
        "            dfs(image, row, col+1, oldColor, newColor)\n",
        "            dfs(image, row, col-1, oldColor, newColor)\n",
        "\n",
        "        oldColor = image[sr][sc]\n",
        "        dfs(image, sr, sc, oldColor, newColor)\n",
        "        return image\n"
      ],
      "metadata": {
        "id": "VHfJlGZ3ER2Z"
      },
      "execution_count": null,
      "outputs": []
    },
    {
      "cell_type": "code",
      "source": [
        "class Solution(object):\n",
        "    def floodFill(self, image, sr, sc, newColor):\n",
        "        R, C = len(image), len(image[0])\n",
        "        color = image[sr][sc]\n",
        "        if color == newColor: return image\n",
        "        def dfs(r, c):\n",
        "            if image[r][c] == color:\n",
        "                image[r][c] = newColor\n",
        "                if r >= 1: dfs(r-1, c)\n",
        "                if r+1 < R: dfs(r+1, c)\n",
        "                if c >= 1: dfs(r, c-1)\n",
        "                if c+1 < C: dfs(r, c+1)\n",
        "\n",
        "        dfs(sr, sc)\n",
        "        return image"
      ],
      "metadata": {
        "id": "wikGheVsE8lG"
      },
      "execution_count": null,
      "outputs": []
    },
    {
      "cell_type": "markdown",
      "source": [
        "# Lowest Common Ancestor of a Binary Search Tree\n"
      ],
      "metadata": {
        "id": "sF7dFhc2IOjp"
      }
    },
    {
      "cell_type": "code",
      "source": [
        "# Definition for a binary tree node.\n",
        "# class TreeNode(object):\n",
        "#     def __init__(self, x):\n",
        "#         self.val = x\n",
        "#         self.left = None\n",
        "#         self.right = None\n",
        "\n",
        "class Solution(object):\n",
        "    def lowestCommonAncestor(self, root, p, q):\n",
        "        \"\"\"\n",
        "        :type root: TreeNode\n",
        "        :type p: TreeNode\n",
        "        :type q: TreeNode\n",
        "        :rtype: TreeNode\n",
        "        \"\"\"\n",
        "        cur = root\n",
        "\n",
        "        while cur:\n",
        "            if p.val > cur.val and q.val > cur.val:\n",
        "                cur = cur.right\n",
        "            elif p.val < cur.val and q.val < cur.val:\n",
        "                cur = cur.left\n",
        "            else:\n",
        "                return cur"
      ],
      "metadata": {
        "id": "5AKG-_BCIO1Z"
      },
      "execution_count": null,
      "outputs": []
    },
    {
      "cell_type": "code",
      "source": [
        "class Solution(object):\n",
        "    def lowestCommonAncestor(self, root, p, q):\n",
        "        \"\"\"\n",
        "        :type root: TreeNode\n",
        "        :type p: TreeNode\n",
        "        :type q: TreeNode\n",
        "        :rtype: TreeNode\n",
        "        \"\"\"\n",
        "        if not root:\n",
        "            return None\n",
        "        if root.val == p.val:\n",
        "            return p\n",
        "        elif root.val == q.val:\n",
        "            return q\n",
        "        # condition when the root is the shared parent of node p and q\n",
        "        elif root.val < max(p.val, q.val) and root.val > min(p.val, q.val):\n",
        "            return root\n",
        "\n",
        "        return self.lowestCommonAncestor(root.left, p, q) or self.lowestCommonAncestor(root.right, p, q)"
      ],
      "metadata": {
        "id": "r1xPzAlLI77e"
      },
      "execution_count": null,
      "outputs": []
    },
    {
      "cell_type": "code",
      "source": [
        "class Solution:\n",
        "    def lowestCommonAncestor(self, root: 'TreeNode', p: 'TreeNode', q: 'TreeNode') -> 'TreeNode':\n",
        "        # If the value of p and q is less than root, then LCA will be in the left subtree\n",
        "        if p.val < root.val and q.val < root.val:\n",
        "            return self.lowestCommonAncestor(root.left, p, q)\n",
        "        # If the value of p and q is greater than root, then LCA will be in the right subtree\n",
        "        elif p.val > root.val and q.val > root.val:\n",
        "            return self.lowestCommonAncestor(root.right, p, q)\n",
        "        # If one value is less and the other is greater, then root is the LCA\n",
        "        else:\n",
        "            return root"
      ],
      "metadata": {
        "id": "Y0phWI4yJCDs"
      },
      "execution_count": null,
      "outputs": []
    },
    {
      "cell_type": "markdown",
      "source": [
        "# Balanced Binary Tree\n"
      ],
      "metadata": {
        "id": "gqBpZdRlSoBg"
      }
    },
    {
      "cell_type": "code",
      "source": [
        "# Definition for a binary tree node.\n",
        "# class TreeNode(object):\n",
        "#     def __init__(self, val=0, left=None, right=None):\n",
        "#         self.val = val\n",
        "#         self.left = left\n",
        "#         self.right = right\n",
        "class Solution(object):\n",
        "    def isBalanced(self, root):\n",
        "        \"\"\"\n",
        "        :type root: TreeNode\n",
        "        :rtype: bool\n",
        "        \"\"\"\n",
        "        def dfs(root):\n",
        "            if not root: return [True,0]\n",
        "\n",
        "            left, right = dfs(root.left), dfs(root.right)\n",
        "            balanced = (left[0] and right[0] and abs(left[1] - right[1]) <= 1)\n",
        "            return [balanced, 1 + max(left[1], right[1])]\n",
        "        return dfs(root)[0]"
      ],
      "metadata": {
        "id": "bLyaajABSn45"
      },
      "execution_count": null,
      "outputs": []
    },
    {
      "cell_type": "markdown",
      "source": [
        "# Linked List Cycle\n"
      ],
      "metadata": {
        "id": "CA0cDigKfiGt"
      }
    },
    {
      "cell_type": "code",
      "source": [
        "# Definition for singly-linked list.\n",
        "# class ListNode(object):\n",
        "#     def __init__(self, x):\n",
        "#         self.val = x\n",
        "#         self.next = None\n",
        "\n",
        "class Solution(object):\n",
        "    def hasCycle(self, head):\n",
        "        \"\"\"\n",
        "        :type head: ListNode\n",
        "        :rtype: bool\n",
        "        \"\"\"\n",
        "        if head is None or head.next is None:\n",
        "            return False\n",
        "\n",
        "        slow = head\n",
        "        fast = head.next\n",
        "\n",
        "        while slow != fast:\n",
        "            if fast is None or fast.next is None:\n",
        "                return False\n",
        "\n",
        "            slow = slow.next\n",
        "            fast = fast.next.next\n",
        "        return True"
      ],
      "metadata": {
        "id": "9caqzSUiSqx8"
      },
      "execution_count": null,
      "outputs": []
    },
    {
      "cell_type": "code",
      "source": [
        "class Solution:\n",
        "    def hasCycle(self, head: Optional[ListNode]) -> bool:\n",
        "        slow_pointer = head\n",
        "        fast_pointer = head\n",
        "        while fast_pointer and fast_pointer.next:\n",
        "            slow_pointer = slow_pointer.next\n",
        "            fast_pointer = fast_pointer.next.next\n",
        "            if slow_pointer == fast_pointer:\n",
        "                return True\n",
        "        return False\n"
      ],
      "metadata": {
        "id": "CxTQe6ulflIe"
      },
      "execution_count": null,
      "outputs": []
    },
    {
      "cell_type": "code",
      "source": [
        "class Solution:\n",
        "    def hasCycle(self, head: Optional[ListNode]) -> bool:\n",
        "        visited_nodes = set()\n",
        "        current_node = head\n",
        "        while current_node:\n",
        "            if current_node in visited_nodes:\n",
        "                return True\n",
        "            visited_nodes.add(current_node)\n",
        "            current_node = current_node.next\n",
        "        return False\n"
      ],
      "metadata": {
        "id": "TDSg_yFNf1Px"
      },
      "execution_count": null,
      "outputs": []
    },
    {
      "cell_type": "markdown",
      "source": [
        "# Implement Queue using Stacks\n"
      ],
      "metadata": {
        "id": "lIvQ1Dwr_vPJ"
      }
    },
    {
      "cell_type": "code",
      "source": [
        "class MyQueue(object):\n",
        "\n",
        "    def __init__(self):\n",
        "        self.stack1 = []\n",
        "        self.stack2 = []\n",
        "\n",
        "    def push(self, x):\n",
        "        \"\"\"\n",
        "        :type x: int\n",
        "        :rtype: None\n",
        "        \"\"\"\n",
        "        self.stack1.append(x)\n",
        "\n",
        "    def pop(self):\n",
        "        \"\"\"\n",
        "        :rtype: int\n",
        "        \"\"\"\n",
        "        self.move_elements()\n",
        "        return self.stack2.pop()\n",
        "\n",
        "    def peek(self):\n",
        "        \"\"\"\n",
        "        :rtype: int\n",
        "        \"\"\"\n",
        "        self.move_elements()\n",
        "        return self.stack2[-1]\n",
        "\n",
        "    def empty(self):\n",
        "        \"\"\"\n",
        "        :rtype: bool\n",
        "        \"\"\"\n",
        "        return len(self.stack1) == 0 and len(self.stack2) == 0\n",
        "\n",
        "\n",
        "    def move_elements(self):\n",
        "        \"\"\"\n",
        "        스택 1의 요소들을 스택 2로 이동\n",
        "        \"\"\"\n",
        "        if not self.stack2:\n",
        "            while self.stack1:\n",
        "                self.stack2.append(self.stack1.pop())\n",
        "\n",
        "# Your MyQueue object will be instantiated and called as such:\n",
        "# obj = MyQueue()\n",
        "# obj.push(x)\n",
        "# param_2 = obj.pop()\n",
        "# param_3 = obj.peek()\n",
        "# param_4 = obj.empty()"
      ],
      "metadata": {
        "id": "tYGEAAqZ_viQ"
      },
      "execution_count": null,
      "outputs": []
    },
    {
      "cell_type": "markdown",
      "source": [
        "# First Bad Version"
      ],
      "metadata": {
        "id": "2mSxjksrFXI_"
      }
    },
    {
      "cell_type": "code",
      "source": [
        "# The isBadVersion API is already defined for you.\n",
        "# @param version, an integer\n",
        "# @return a bool\n",
        "# def isBadVersion(version):\n",
        "\n",
        "class Solution(object):\n",
        "    def firstBadVersion(self, n):\n",
        "        \"\"\"\n",
        "        :type n: int\n",
        "        :rtype: int\n",
        "        \"\"\"\n",
        "        l,r = 1, n\n",
        "        resutl = 1\n",
        "\n",
        "        while l<=r:\n",
        "            m = (l+r) / 2\n",
        "            if isBadVersion(m) == False:\n",
        "                l = m + 1\n",
        "            else:\n",
        "                r = m - 1\n",
        "                result = m\n",
        "        return result\n"
      ],
      "metadata": {
        "id": "Ks4StY88FaPP"
      },
      "execution_count": null,
      "outputs": []
    },
    {
      "cell_type": "code",
      "source": [
        "class Solution(object):\n",
        "    def firstBadVersion(self, n):\n",
        "        left, right = 1, n\n",
        "\n",
        "        while left < right:\n",
        "            mid = left + (right - left) // 2\n",
        "            if isBadVersion(mid):\n",
        "                right = mid\n",
        "            else:\n",
        "                left = mid + 1\n",
        "\n",
        "        return left\n"
      ],
      "metadata": {
        "id": "tn-6myWjFjVn"
      },
      "execution_count": null,
      "outputs": []
    },
    {
      "cell_type": "markdown",
      "source": [
        "# Ransom Note"
      ],
      "metadata": {
        "id": "yRBQ-NVaXBY5"
      }
    },
    {
      "cell_type": "code",
      "source": [
        "from collections import Counter\n",
        "class Solution(object):\n",
        "    def canConstruct(self, ransomNote, magazine):\n",
        "        \"\"\"\n",
        "        :type ransomNote: str\n",
        "        :type magazine: str\n",
        "        :rtype: bool\n",
        "        \"\"\"\n",
        "        dictionary = {}\n",
        "\n",
        "        for char in magazine:\n",
        "            if char not in dictionary:\n",
        "                dictionary[char] = 1\n",
        "            else:\n",
        "                dictionary[char] += 1\n",
        "\n",
        "        for char in ransomNote:\n",
        "            if char in dictionary and dictionary[char] > 0:\n",
        "                dictionary[char] -= 1\n",
        "            else:\n",
        "                return False\n",
        "\n",
        "        return True\n"
      ],
      "metadata": {
        "id": "rCM15vxQXBsk"
      },
      "execution_count": null,
      "outputs": []
    },
    {
      "cell_type": "code",
      "source": [
        "class Solution(object):\n",
        "    def canConstruct(self, ransomNote, magazine):\n",
        "        st1, st2 = Counter(ransomNote), Counter(magazine)\n",
        "        if st1 & st2 == st1:\n",
        "            return True\n",
        "        return False\n"
      ],
      "metadata": {
        "id": "2g_OjuEVXK9o"
      },
      "execution_count": null,
      "outputs": []
    },
    {
      "cell_type": "markdown",
      "source": [
        "# Climbing Stairs"
      ],
      "metadata": {
        "id": "9EmuVbiPhzRt"
      }
    },
    {
      "cell_type": "code",
      "source": [
        "class Solution(object):\n",
        "    def climbStairs(self, n):\n",
        "        \"\"\"\n",
        "        :type n: int\n",
        "        :rtype: int\n",
        "        \"\"\"\n",
        "        def climb(n):\n",
        "            if n == 1:\n",
        "                return 1\n",
        "            if n == 2:\n",
        "                return 2\n",
        "            return climb(n-2) + climb(n-1)\n",
        "        return climb(n)"
      ],
      "metadata": {
        "id": "viwa-3iuhzjS"
      },
      "execution_count": null,
      "outputs": []
    },
    {
      "cell_type": "code",
      "source": [
        "class Solution:\n",
        "    def climbStairs(self, n: int) -> int:\n",
        "        if n == 0 or n == 1:\n",
        "            return 1\n",
        "\n",
        "        dp = [0] * (n+1)\n",
        "        dp[0] = dp[1] = 1\n",
        "\n",
        "        for i in range(2, n+1):\n",
        "            dp[i] = dp[i-1] + dp[i-2]\n",
        "        return dp[n]\n"
      ],
      "metadata": {
        "id": "DS1-dDiNh2Pr"
      },
      "execution_count": null,
      "outputs": []
    },
    {
      "cell_type": "code",
      "source": [
        "class Solution:\n",
        "    def climbStairs(self, n: int) -> int:\n",
        "        if n == 0 or n == 1:\n",
        "            return 1\n",
        "        prev, curr = 1, 1\n",
        "        for i in range(2, n+1):\n",
        "            temp = curr\n",
        "            curr = prev + curr\n",
        "            prev = temp\n",
        "        return curr\n"
      ],
      "metadata": {
        "id": "2P2BETItilHt"
      },
      "execution_count": null,
      "outputs": []
    },
    {
      "cell_type": "markdown",
      "source": [
        "# Longest Palindrome"
      ],
      "metadata": {
        "id": "OckwedBU7vu4"
      }
    },
    {
      "cell_type": "code",
      "source": [
        "class Solution(object):\n",
        "    def longestPalindrome(self, s):\n",
        "        \"\"\"\n",
        "        :type s: str\n",
        "        :rtype: int\n",
        "        \"\"\"\n",
        "        ans = 0\n",
        "        for v in collections.Counter(s).itervalues():\n",
        "            ans += v / 2 * 2\n",
        "            if ans % 2 == 0 and v % 2 == 1:\n",
        "                ans += 1\n",
        "        return ans"
      ],
      "metadata": {
        "id": "G3ZsH9Hh7v61"
      },
      "execution_count": null,
      "outputs": []
    },
    {
      "cell_type": "code",
      "source": [
        "class Solution(object):\n",
        "    def longestPalindrome(self, s):\n",
        "        \"\"\"\n",
        "        :type s: str\n",
        "        :rtype: int\n",
        "        \"\"\"\n",
        "        res = 0\n",
        "        for i in collections.Counter(s).values():\n",
        "            res += i // 2 * 2\n",
        "        return min(res+1, len(s))"
      ],
      "metadata": {
        "id": "obMRRBNQ8CLF"
      },
      "execution_count": null,
      "outputs": []
    },
    {
      "cell_type": "markdown",
      "source": [
        "# Reverse Linked List"
      ],
      "metadata": {
        "id": "QkKX4PsIB4ls"
      }
    },
    {
      "cell_type": "code",
      "source": [
        "# Definition for singly-linked list.\n",
        "# class ListNode(object):\n",
        "#     def __init__(self, val=0, next=None):\n",
        "#         self.val = val\n",
        "#         self.next = next\n",
        "class Solution(object):\n",
        "    def reverseList(self, head):\n",
        "        \"\"\"\n",
        "        :type head: ListNode\n",
        "        :rtype: ListNode\n",
        "        \"\"\"\n",
        "        prev = None\n",
        "        curr = head\n",
        "        while curr:\n",
        "            next = curr.next\n",
        "            curr.next = prev\n",
        "            prev = curr\n",
        "            curr = next\n",
        "        return prev"
      ],
      "metadata": {
        "id": "qRfqCNYrB5co"
      },
      "execution_count": null,
      "outputs": []
    },
    {
      "cell_type": "code",
      "source": [
        "def reverseList(self, head):\n",
        "    new_list = None\n",
        "    current = head\n",
        "\n",
        "    while current:\n",
        "        next_node = current.next\n",
        "        current.next = new_list\n",
        "        new_list = current\n",
        "        current = next_node\n",
        "\n",
        "    return new_list\n"
      ],
      "metadata": {
        "id": "69LZsTAYC1Yv"
      },
      "execution_count": null,
      "outputs": []
    }
  ]
}