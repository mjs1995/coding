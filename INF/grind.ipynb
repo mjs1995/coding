{
  "nbformat": 4,
  "nbformat_minor": 0,
  "metadata": {
    "colab": {
      "provenance": [],
      "authorship_tag": "ABX9TyMpNMOYPdLbxtpQAX4qrgcU",
      "include_colab_link": true
    },
    "kernelspec": {
      "name": "python3",
      "display_name": "Python 3"
    },
    "language_info": {
      "name": "python"
    }
  },
  "cells": [
    {
      "cell_type": "markdown",
      "metadata": {
        "id": "view-in-github",
        "colab_type": "text"
      },
      "source": [
        "<a href=\"https://colab.research.google.com/github/mjs1995/coding/blob/main/INF/grind.ipynb\" target=\"_parent\"><img src=\"https://colab.research.google.com/assets/colab-badge.svg\" alt=\"Open In Colab\"/></a>"
      ]
    },
    {
      "cell_type": "markdown",
      "source": [
        "# Two Sum"
      ],
      "metadata": {
        "id": "ozPgHt4JAPZS"
      }
    },
    {
      "cell_type": "code",
      "execution_count": null,
      "metadata": {
        "id": "au7kJT6BAEO_"
      },
      "outputs": [],
      "source": [
        "class Solution:\n",
        "    def twoSum(self, nums: List[int], target: int) -> List[int]:\n",
        "        for i in range(len(nums)):\n",
        "            for j in range(i+1, len(nums)):\n",
        "                if nums[i] + nums[j] == target:\n",
        "                    return [i, j]"
      ]
    },
    {
      "cell_type": "code",
      "source": [
        "class Solution:\n",
        "    def twoSum(self, nums: List[int], target: int) -> List[int]:\n",
        "        n = len(nums)\n",
        "        for i in range(n - 1):\n",
        "            for j in range(i + 1, n):\n",
        "                if nums[i] + nums[j] == target:\n",
        "                    return [i, j]\n",
        "        return []  # No solution found"
      ],
      "metadata": {
        "id": "7aHgBFc_DBLQ"
      },
      "execution_count": null,
      "outputs": []
    },
    {
      "cell_type": "code",
      "source": [
        "class Solution:\n",
        "    def twoSum(self, nums: List[int], target: int) -> List[int]:\n",
        "        numMap = {}\n",
        "        n = len(nums)\n",
        "\n",
        "        # Build the hash table\n",
        "        for i in range(n):\n",
        "            numMap[nums[i]] = i\n",
        "\n",
        "        # Find the complement\n",
        "        for i in range(n):\n",
        "            complement = target - nums[i]\n",
        "            if complement in numMap and numMap[complement] != i:\n",
        "                return [i, numMap[complement]]\n",
        "\n",
        "        return []  # No solution found"
      ],
      "metadata": {
        "id": "lIDFh3-NDCFu"
      },
      "execution_count": null,
      "outputs": []
    },
    {
      "cell_type": "code",
      "source": [
        "class Solution:\n",
        "    def twoSum(self, nums: List[int], target: int) -> List[int]:\n",
        "        numMap = {}\n",
        "        n = len(nums)\n",
        "\n",
        "        for i in range(n):\n",
        "            complement = target - nums[i]\n",
        "            if complement in numMap:\n",
        "                return [numMap[complement], i]\n",
        "            numMap[nums[i]] = i\n",
        "\n",
        "        return []  # No solution found"
      ],
      "metadata": {
        "id": "BVzEHj4lDM3-"
      },
      "execution_count": null,
      "outputs": []
    },
    {
      "cell_type": "markdown",
      "source": [
        "# 20. Valid Parentheses\n"
      ],
      "metadata": {
        "id": "wTPMr-tXZYjr"
      }
    },
    {
      "cell_type": "code",
      "source": [
        "class Solution:\n",
        "    def isValid(self, s: str) -> bool:\n",
        "        li = {}\n",
        "        li['['] = ']'\n",
        "        li['('] = ')'\n",
        "        li['{'] = '}'\n",
        "        res =[]\n",
        "        for i in s:\n",
        "            if i in li:\n",
        "                res.append(i)\n",
        "            elif not res or li[res.pop()] != i:\n",
        "                return False\n",
        "        return len(res) == 0"
      ],
      "metadata": {
        "id": "K3vey6coZY80"
      },
      "execution_count": null,
      "outputs": []
    },
    {
      "cell_type": "code",
      "source": [
        "class Solution(object):\n",
        "    def isValid(self, s):\n",
        "        \"\"\"\n",
        "        :type s: str\n",
        "        :rtype: bool\n",
        "        \"\"\"\n",
        "        stack = []\n",
        "        table  = {\n",
        "            ')' : '(',\n",
        "            ']' : '[',\n",
        "            '}' : '{'\n",
        "        }\n",
        "        for char in s:\n",
        "            if char not in table:\n",
        "                stack.append(char)\n",
        "            elif not stack or table[char] != stack.pop():\n",
        "                return False\n",
        "        return len(stack) == 0\n"
      ],
      "metadata": {
        "id": "XJDIOgtAZilQ"
      },
      "execution_count": null,
      "outputs": []
    },
    {
      "cell_type": "markdown",
      "source": [
        "#  Merge Two Sorted Lists"
      ],
      "metadata": {
        "id": "i27fGGgmyGA0"
      }
    },
    {
      "cell_type": "code",
      "source": [
        "# Definition for singly-linked list.\n",
        "# class ListNode:\n",
        "#     def __init__(self, val=0, next=None):\n",
        "#         self.val = val\n",
        "#         self.next = next\n",
        "class Solution:\n",
        "    def mergeTwoLists(self, list1: Optional[ListNode], list2: Optional[ListNode]) -> Optional[ListNode]:\n",
        "        head = ListNode()\n",
        "        cur = head\n",
        "\n",
        "        while list1 and list2:\n",
        "            if list1.val < list2.val:\n",
        "                cur.next = list1\n",
        "                list1 = list1.next\n",
        "            else:\n",
        "                cur.next = list2\n",
        "                list2 = list2.next\n",
        "            cur = cur.next\n",
        "\n",
        "        cur.next = list1 or list2\n",
        "\n",
        "        return head.next\n",
        ""
      ],
      "metadata": {
        "id": "QZCWXEffyGOl"
      },
      "execution_count": null,
      "outputs": []
    },
    {
      "cell_type": "markdown",
      "source": [
        "# Best Time to Buy and Sell Stock"
      ],
      "metadata": {
        "id": "7OtZG2B7061s"
      }
    },
    {
      "cell_type": "code",
      "source": [
        "class Solution:\n",
        "    def maxProfit(self, prices: List[int]) -> int:\n",
        "        if not prices:\n",
        "            return 0\n",
        "        min_price = prices[0]\n",
        "        max_profit = 0\n",
        "\n",
        "        for price in prices:\n",
        "            min_price = min(min_price, price)\n",
        "            max_profit = max(max_profit, price - min_price)\n",
        "\n",
        "        return max_profit"
      ],
      "metadata": {
        "id": "YyuDZ0n5yYOS"
      },
      "execution_count": null,
      "outputs": []
    },
    {
      "cell_type": "code",
      "source": [
        "class Solution:\n",
        "    def maxProfit(self,prices):\n",
        "        left = 0\n",
        "        right = 1\n",
        "        max_profit = 0\n",
        "        while right < len(prices):\n",
        "            currentProfit = prices[right] - prices[left]\n",
        "            if prices[left] < prices[right]:\n",
        "                max_profit =max(currentProfit,max_profit)\n",
        "            else:\n",
        "                left = right\n",
        "            right += 1\n",
        "        return max_profit"
      ],
      "metadata": {
        "id": "L-OTRLLi3hRJ"
      },
      "execution_count": null,
      "outputs": []
    },
    {
      "cell_type": "code",
      "source": [
        "class Solution(object):\n",
        "    def maxProfit(self, prices):\n",
        "        profit = 0\n",
        "        buy = prices[0]\n",
        "        for sell in prices[1:]:\n",
        "            if sell > buy:\n",
        "                profit = max(profit, sell - buy)\n",
        "            else:\n",
        "                buy = sell\n",
        "\n",
        "        return profit"
      ],
      "metadata": {
        "id": "uIaYcX9O359k"
      },
      "execution_count": null,
      "outputs": []
    },
    {
      "cell_type": "markdown",
      "source": [
        "# Valid Palindrome"
      ],
      "metadata": {
        "id": "EFWPH178Ayom"
      }
    },
    {
      "cell_type": "code",
      "source": [
        "class Solution:\n",
        "    def isPalindrome(self, s: str) -> bool:\n",
        "        res = []\n",
        "        for i in s:\n",
        "            if i.isalnum():\n",
        "                res.append(i.lower())\n",
        "        return res == res[::-1]"
      ],
      "metadata": {
        "id": "KQyKIPlMAtNG"
      },
      "execution_count": null,
      "outputs": []
    },
    {
      "cell_type": "code",
      "source": [
        "class Solution:\n",
        "    def isPalindrome(self, s: str) -> bool:\n",
        "        s = [c.lower() for c in s if c.isalnum()]\n",
        "        return all (s[i] == s[~i] for i in range(len(s)//2))"
      ],
      "metadata": {
        "id": "Ob00lX0nBJPi"
      },
      "execution_count": null,
      "outputs": []
    },
    {
      "cell_type": "markdown",
      "source": [
        "# Invert Binary Tree\n"
      ],
      "metadata": {
        "id": "Q753S8gYTHkh"
      }
    },
    {
      "cell_type": "code",
      "source": [
        "# Definition for a binary tree node.\n",
        "# class TreeNode:\n",
        "#     def __init__(self, val=0, left=None, right=None):\n",
        "#         self.val = val\n",
        "#         self.left = left\n",
        "#         self.right = right\n",
        "class Solution:\n",
        "    def invertTree(self, root: Optional[TreeNode]) -> Optional[TreeNode]:\n",
        "        if root is None:\n",
        "            return None\n",
        "\n",
        "        root.left, root.right = root.right, root.left"
      ],
      "metadata": {
        "id": "t_3vvRWwTI45"
      },
      "execution_count": null,
      "outputs": []
    },
    {
      "cell_type": "code",
      "source": [],
      "metadata": {
        "id": "ipxieB9YTKjU"
      },
      "execution_count": null,
      "outputs": []
    }
  ]
}