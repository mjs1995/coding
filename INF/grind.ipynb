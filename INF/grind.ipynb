{
  "nbformat": 4,
  "nbformat_minor": 0,
  "metadata": {
    "colab": {
      "provenance": [],
      "authorship_tag": "ABX9TyOyiQkyLeja48Joq5K8s+r9",
      "include_colab_link": true
    },
    "kernelspec": {
      "name": "python3",
      "display_name": "Python 3"
    },
    "language_info": {
      "name": "python"
    }
  },
  "cells": [
    {
      "cell_type": "markdown",
      "metadata": {
        "id": "view-in-github",
        "colab_type": "text"
      },
      "source": [
        "<a href=\"https://colab.research.google.com/github/mjs1995/coding/blob/main/INF/grind.ipynb\" target=\"_parent\"><img src=\"https://colab.research.google.com/assets/colab-badge.svg\" alt=\"Open In Colab\"/></a>"
      ]
    },
    {
      "cell_type": "markdown",
      "source": [
        "# Two Sum"
      ],
      "metadata": {
        "id": "ozPgHt4JAPZS"
      }
    },
    {
      "cell_type": "code",
      "execution_count": null,
      "metadata": {
        "id": "au7kJT6BAEO_"
      },
      "outputs": [],
      "source": [
        "class Solution:\n",
        "    def twoSum(self, nums: List[int], target: int) -> List[int]:\n",
        "        for i in range(len(nums)):\n",
        "            for j in range(i+1, len(nums)):\n",
        "                if nums[i] + nums[j] == target:\n",
        "                    return [i, j]"
      ]
    },
    {
      "cell_type": "code",
      "source": [
        "class Solution:\n",
        "    def twoSum(self, nums: List[int], target: int) -> List[int]:\n",
        "        n = len(nums)\n",
        "        for i in range(n - 1):\n",
        "            for j in range(i + 1, n):\n",
        "                if nums[i] + nums[j] == target:\n",
        "                    return [i, j]\n",
        "        return []  # No solution found"
      ],
      "metadata": {
        "id": "7aHgBFc_DBLQ"
      },
      "execution_count": null,
      "outputs": []
    },
    {
      "cell_type": "code",
      "source": [
        "class Solution:\n",
        "    def twoSum(self, nums: List[int], target: int) -> List[int]:\n",
        "        numMap = {}\n",
        "        n = len(nums)\n",
        "\n",
        "        # Build the hash table\n",
        "        for i in range(n):\n",
        "            numMap[nums[i]] = i\n",
        "\n",
        "        # Find the complement\n",
        "        for i in range(n):\n",
        "            complement = target - nums[i]\n",
        "            if complement in numMap and numMap[complement] != i:\n",
        "                return [i, numMap[complement]]\n",
        "\n",
        "        return []  # No solution found"
      ],
      "metadata": {
        "id": "lIDFh3-NDCFu"
      },
      "execution_count": null,
      "outputs": []
    },
    {
      "cell_type": "code",
      "source": [
        "class Solution:\n",
        "    def twoSum(self, nums: List[int], target: int) -> List[int]:\n",
        "        numMap = {}\n",
        "        n = len(nums)\n",
        "\n",
        "        for i in range(n):\n",
        "            complement = target - nums[i]\n",
        "            if complement in numMap:\n",
        "                return [numMap[complement], i]\n",
        "            numMap[nums[i]] = i\n",
        "\n",
        "        return []  # No solution found"
      ],
      "metadata": {
        "id": "BVzEHj4lDM3-"
      },
      "execution_count": null,
      "outputs": []
    },
    {
      "cell_type": "markdown",
      "source": [
        "# 20. Valid Parentheses\n"
      ],
      "metadata": {
        "id": "wTPMr-tXZYjr"
      }
    },
    {
      "cell_type": "code",
      "source": [
        "class Solution:\n",
        "    def isValid(self, s: str) -> bool:\n",
        "        li = {}\n",
        "        li['['] = ']'\n",
        "        li['('] = ')'\n",
        "        li['{'] = '}'\n",
        "        res =[]\n",
        "        for i in s:\n",
        "            if i in li:\n",
        "                res.append(i)\n",
        "            elif not res or li[res.pop()] != i:\n",
        "                return False\n",
        "        return len(res) == 0"
      ],
      "metadata": {
        "id": "K3vey6coZY80"
      },
      "execution_count": null,
      "outputs": []
    },
    {
      "cell_type": "code",
      "source": [
        "class Solution(object):\n",
        "    def isValid(self, s):\n",
        "        \"\"\"\n",
        "        :type s: str\n",
        "        :rtype: bool\n",
        "        \"\"\"\n",
        "        stack = []\n",
        "        table  = {\n",
        "            ')' : '(',\n",
        "            ']' : '[',\n",
        "            '}' : '{'\n",
        "        }\n",
        "        for char in s:\n",
        "            if char not in table:\n",
        "                stack.append(char)\n",
        "            elif not stack or table[char] != stack.pop():\n",
        "                return False\n",
        "        return len(stack) == 0\n"
      ],
      "metadata": {
        "id": "XJDIOgtAZilQ"
      },
      "execution_count": null,
      "outputs": []
    }
  ]
}