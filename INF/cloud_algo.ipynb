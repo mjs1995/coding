{
  "nbformat": 4,
  "nbformat_minor": 0,
  "metadata": {
    "colab": {
      "provenance": [],
      "collapsed_sections": [],
      "toc_visible": true,
      "authorship_tag": "ABX9TyNotuKIuZwoSB9Bhi4wTeWE",
      "include_colab_link": true
    },
    "kernelspec": {
      "name": "python3",
      "display_name": "Python 3"
    },
    "language_info": {
      "name": "python"
    }
  },
  "cells": [
    {
      "cell_type": "markdown",
      "metadata": {
        "id": "view-in-github",
        "colab_type": "text"
      },
      "source": [
        "<a href=\"https://colab.research.google.com/github/mjs1995/coding/blob/main/INF/cloud_algo.ipynb\" target=\"_parent\"><img src=\"https://colab.research.google.com/assets/colab-badge.svg\" alt=\"Open In Colab\"/></a>"
      ]
    },
    {
      "cell_type": "markdown",
      "source": [
        "# 단어장 만들기\n"
      ],
      "metadata": {
        "id": "WXhGXuPW7KeD"
      }
    },
    {
      "cell_type": "code",
      "source": [
        "# 단어의 길이로 정렬하기, Sort의 디폴트는 사전순 정렬\n",
        "word.sort(key = lambda x : len(x))\n",
        "print(word[k-1])"
      ],
      "metadata": {
        "id": "P5Tdym28_L-b"
      },
      "execution_count": null,
      "outputs": []
    },
    {
      "cell_type": "code",
      "source": [
        "word = list()\n",
        "n, k = map(int, input().split())\n",
        "for i in range(n):\n",
        "    word.append(input().rstrip())"
      ],
      "metadata": {
        "colab": {
          "base_uri": "https://localhost:8080/"
        },
        "id": "c6FYYrOK-IyK",
        "outputId": "d4525372-74e1-4e96-fccf-71ef94aa5a84"
      },
      "execution_count": null,
      "outputs": [
        {
          "name": "stdout",
          "output_type": "stream",
          "text": [
            "7 3\n",
            "aaaa\n",
            "aaa\n",
            "aa\n",
            "a\n",
            "b\n",
            "bb\n",
            "bbb\n"
          ]
        }
      ]
    },
    {
      "cell_type": "code",
      "source": [
        "word.sort(key = lambda x : len(x))\n",
        "print(word[k-1])"
      ],
      "metadata": {
        "colab": {
          "base_uri": "https://localhost:8080/"
        },
        "id": "8k2ZqOa0-ReN",
        "outputId": "0d4d1ab2-4b75-480b-f655-67e5d0e0bb46"
      },
      "execution_count": null,
      "outputs": [
        {
          "output_type": "stream",
          "name": "stdout",
          "text": [
            "aa\n"
          ]
        }
      ]
    },
    {
      "cell_type": "code",
      "source": [
        "import sys\n",
        "input = sys.stdin.readline\n",
        "word = list()\n",
        "n, k = map(int, input().split())\n",
        "for i in range(n):\n",
        "    word.append(input().rstrip())\n",
        "word.sort()\n",
        "word.sort(key = lambda x : len(x))\n",
        "print(word[k-1])\n"
      ],
      "metadata": {
        "id": "ikT9mZlz-oQ4"
      },
      "execution_count": null,
      "outputs": []
    },
    {
      "cell_type": "code",
      "source": [
        "word = list()\n",
        "n, k = map(int, input().split())\n",
        "for i in range(n):\n",
        "    word.append(input().rstrip())"
      ],
      "metadata": {
        "colab": {
          "base_uri": "https://localhost:8080/"
        },
        "id": "M2MIa8U9-t_N",
        "outputId": "d6f7b471-3389-4705-a078-a71a8db4d82d"
      },
      "execution_count": null,
      "outputs": [
        {
          "name": "stdout",
          "output_type": "stream",
          "text": [
            "7 3\n",
            "aaaa\n",
            "aaa\n",
            "aa\n",
            "a\n",
            "b\n",
            "bb\n",
            "bbb\n"
          ]
        }
      ]
    },
    {
      "cell_type": "code",
      "source": [
        "word.sort()"
      ],
      "metadata": {
        "id": "jp3nDAq--vSK"
      },
      "execution_count": null,
      "outputs": []
    },
    {
      "cell_type": "code",
      "source": [
        "word"
      ],
      "metadata": {
        "colab": {
          "base_uri": "https://localhost:8080/"
        },
        "id": "8MjJZYM7-4D4",
        "outputId": "481e3991-cce3-406f-fdcc-288c26eb6bfd"
      },
      "execution_count": null,
      "outputs": [
        {
          "output_type": "execute_result",
          "data": {
            "text/plain": [
              "['a', 'aa', 'aaa', 'aaaa', 'b', 'bb', 'bbb']"
            ]
          },
          "metadata": {},
          "execution_count": 43
        }
      ]
    },
    {
      "cell_type": "code",
      "source": [
        "word.sort(key = lambda x : len(x))"
      ],
      "metadata": {
        "id": "D3PeXm7a-428"
      },
      "execution_count": null,
      "outputs": []
    },
    {
      "cell_type": "code",
      "source": [
        "word"
      ],
      "metadata": {
        "colab": {
          "base_uri": "https://localhost:8080/"
        },
        "id": "4R3pOx-p-79i",
        "outputId": "8c4dfaa4-34b7-4b25-ef3e-9783e11e46e6"
      },
      "execution_count": null,
      "outputs": [
        {
          "output_type": "execute_result",
          "data": {
            "text/plain": [
              "['a', 'b', 'aa', 'bb', 'aaa', 'bbb', 'aaaa']"
            ]
          },
          "metadata": {},
          "execution_count": 45
        }
      ]
    },
    {
      "cell_type": "markdown",
      "source": [
        "# week_1\n",
        "## sol_1"
      ],
      "metadata": {
        "id": "cIuALCAMzUqR"
      }
    },
    {
      "cell_type": "code",
      "source": [
        "N = int(input())\n",
        "ans = 1\n",
        "B = list(map(int, input().split()))\n",
        "for n in B:\n",
        "    ans = ans * n\n",
        "\n",
        "print(ans)"
      ],
      "metadata": {
        "id": "-IKGXw9RzVzJ"
      },
      "execution_count": null,
      "outputs": []
    },
    {
      "cell_type": "markdown",
      "source": [
        "## sol_2"
      ],
      "metadata": {
        "id": "m4W3qGte70da"
      }
    },
    {
      "cell_type": "code",
      "source": [
        "n, s = map(str, input().split())\n",
        "cnt = 0\n",
        "for i in range(int(n)):\n",
        "    name = input()\n",
        "    if s in name:\n",
        "        cnt += 1\n",
        "print(cnt)\n"
      ],
      "metadata": {
        "colab": {
          "base_uri": "https://localhost:8080/"
        },
        "id": "lnlAF_d57148",
        "outputId": "60bcbf9a-7f73-409e-b9a4-22128c2bc906"
      },
      "execution_count": null,
      "outputs": [
        {
          "output_type": "stream",
          "name": "stdout",
          "text": [
            "4 dalgu\n",
            "dalgu\n",
            "benjamin\n",
            "oscar\n",
            "goormee\n",
            "1\n"
          ]
        }
      ]
    },
    {
      "cell_type": "markdown",
      "source": [
        "## sol_3"
      ],
      "metadata": {
        "id": "JKMW2UQw-XO6"
      }
    },
    {
      "cell_type": "code",
      "source": [
        "# -*- coding: utf-8 -*-\n",
        "# UTF-8 encoding when using korean\n",
        "arr = list(map(int, input().split()))\n",
        "arr.sort()\n",
        "print(abs(arr[3] - arr[0]) + abs(arr[2] - arr[1]))"
      ],
      "metadata": {
        "id": "ktjm-3rP-YFo"
      },
      "execution_count": null,
      "outputs": []
    },
    {
      "cell_type": "code",
      "source": [
        "import sys\n",
        "input = sys.stdin.readline\n",
        "arr = list(map(int, input().split()))\n",
        "arr.sort()\n",
        "x = abs(arr[0] - arr[3])\n",
        "y = abs(arr[1] - arr[2])\n",
        "\n",
        "print(x + y)"
      ],
      "metadata": {
        "id": "4PCj0HVy-Ypu"
      },
      "execution_count": null,
      "outputs": []
    },
    {
      "cell_type": "code",
      "source": [
        "import sys\n",
        "input = sys.stdin.readline\n",
        "arr = list(map(int, input().split()))\n",
        "arr.sort()\n",
        "print(arr[3] + arr[2] - arr[1] - arr[0])\n"
      ],
      "metadata": {
        "id": "Vsa5-0U1-bBB"
      },
      "execution_count": null,
      "outputs": []
    },
    {
      "cell_type": "code",
      "source": [
        "'''\n",
        "1. 4개의 정수를 배치할 수 있는 모든 경우를 파악한다.\n",
        "2. 각각의 경우의 수에 대하여 맨해튼 거리를 구하고, 최대값을 찾는다.\n",
        "'''\n",
        "# 경우의 수를 찾는 방법. a, b, c, d 가 주어졌을 때,\n",
        "for i in range(4):\n",
        "    x1 = arr[i]\n",
        "    for j in range(4):\n",
        "        if i != j:\n",
        "            x2 = arr[j]\n",
        "            for s in range(4):\n",
        "                if s != i and s != j:\n",
        "                    y1 = arr[s]\n",
        "                    for k in range(4):\n",
        "                        if k != i and k != j and k != s:\n",
        "                            y2 = arr[k]\n",
        "                            print(x1, x2, y1, y2)"
      ],
      "metadata": {
        "id": "fFXOQs3A-c6B"
      },
      "execution_count": null,
      "outputs": []
    },
    {
      "cell_type": "markdown",
      "source": [
        "## sol_4"
      ],
      "metadata": {
        "id": "y9BWfbSYUGU5"
      }
    },
    {
      "cell_type": "code",
      "source": [
        "def prime(n):\n",
        "    check = [True] * (n + 1)\n",
        "\n",
        "    m = int(n ** .5)\n",
        "    for i in range(2, m + 1):\n",
        "        if check[i]:\n",
        "            for j in range(i + i, n + 1, i):\n",
        "                check[j] = False\n",
        "    \n",
        "    return [i for i in range(2, n + 1) if check[i]]\n",
        "\n",
        "N = int(input())\n",
        "p = prime(N)\n",
        "\n",
        "A = list(map(int, input().split()))\n"
      ],
      "metadata": {
        "colab": {
          "base_uri": "https://localhost:8080/"
        },
        "id": "G7Fun-OoUTbj",
        "outputId": "e6b96db7-865e-43b6-f7cf-0cef054177de"
      },
      "execution_count": null,
      "outputs": [
        {
          "name": "stdout",
          "output_type": "stream",
          "text": [
            "12\n",
            "-46 65 13 24 -25 60 -39 31 -21 -10 69 9\n"
          ]
        }
      ]
    },
    {
      "cell_type": "code",
      "source": [
        "res = 0\n",
        "\n",
        "for i in p:\n",
        "    res += A[i - 1]\n",
        "    print(A[i-1])"
      ],
      "metadata": {
        "colab": {
          "base_uri": "https://localhost:8080/"
        },
        "id": "I34NQO52Ub_q",
        "outputId": "ecccdccc-ade8-4fa2-f3dc-073d48e94bba"
      },
      "execution_count": null,
      "outputs": [
        {
          "output_type": "stream",
          "name": "stdout",
          "text": [
            "65\n",
            "13\n",
            "-25\n",
            "-39\n",
            "69\n"
          ]
        }
      ]
    },
    {
      "cell_type": "code",
      "source": [
        "res"
      ],
      "metadata": {
        "colab": {
          "base_uri": "https://localhost:8080/"
        },
        "id": "mBl7k8PXU5_w",
        "outputId": "1007fb90-20aa-49b1-8a46-619f00f9eeb3"
      },
      "execution_count": null,
      "outputs": [
        {
          "output_type": "execute_result",
          "data": {
            "text/plain": [
              "83"
            ]
          },
          "metadata": {},
          "execution_count": 10
        }
      ]
    },
    {
      "cell_type": "code",
      "source": [
        "import sys\n",
        "input = sys.stdin.readline\n",
        "\n",
        "def prime(n):\n",
        "    check = [True] * (n + 1)\n",
        "\n",
        "    m = int(n ** .5)\n",
        "    for i in range(2, m + 1):\n",
        "        if check[i]:\n",
        "            for j in range(i + i, n + 1, i):\n",
        "                check[j] = False\n",
        "    \n",
        "    return [i for i in range(2, n + 1) if check[i]]\n",
        "\n",
        "N = int(input())\n",
        "p = prime(N)\n",
        "\n",
        "A = list(map(int, input().split()))\n",
        "res = 0\n",
        "\n",
        "for i in p:\n",
        "    res += A[i - 1]\n",
        "\n",
        "print(res)\n"
      ],
      "metadata": {
        "id": "TU3HMrARVPzc"
      },
      "execution_count": null,
      "outputs": []
    },
    {
      "cell_type": "markdown",
      "source": [
        "# week_2"
      ],
      "metadata": {
        "id": "dBylgZeis3tI"
      }
    },
    {
      "cell_type": "markdown",
      "source": [
        "## sol_1"
      ],
      "metadata": {
        "id": "MahKIMxzs5l1"
      }
    },
    {
      "cell_type": "code",
      "source": [
        "# 2\n",
        "# 3\n",
        "# 1 3 7\n",
        "# 1\n",
        "# 5 \n",
        "t = int(input())\n",
        "for _ in range(t):\n",
        "    n = int(input())\n",
        "    arr = list(map(int,input().split()))\n",
        "    avg = sum(arr) / n\n",
        "    cnt = 0\n",
        "    for s in arr:\n",
        "        if s >= avg:\n",
        "            cnt += 1\n",
        "    print(\"%d/%d\" % (cnt,n))"
      ],
      "metadata": {
        "colab": {
          "base_uri": "https://localhost:8080/"
        },
        "id": "YGFu0C5Cs4_M",
        "outputId": "da177bfb-7b9e-42cc-82ab-9570f419cd56"
      },
      "execution_count": null,
      "outputs": [
        {
          "output_type": "stream",
          "name": "stdout",
          "text": [
            "2\n",
            "3\n",
            "1 3 7\n",
            "1/3\n",
            "1\n",
            "5\n",
            "1/1\n"
          ]
        }
      ]
    },
    {
      "cell_type": "markdown",
      "source": [
        "## sol_2"
      ],
      "metadata": {
        "id": "9-iR_BRG3Fiq"
      }
    },
    {
      "cell_type": "code",
      "source": [
        "import sys\n",
        "input = sys.stdin.readline\n",
        "n = int(input())\n",
        "arr = input()\n",
        "cnt = 0\n",
        "for i in range(n-1):\n",
        "    if arr[i+1] == arr[i]:\n",
        "        continue\n",
        "    else:\n",
        "        cnt += 1\n",
        "\n",
        "print(cnt+1)\n"
      ],
      "metadata": {
        "id": "QXg80kxh3Gef"
      },
      "execution_count": null,
      "outputs": []
    },
    {
      "cell_type": "markdown",
      "source": [
        "## sol_3"
      ],
      "metadata": {
        "id": "yAe8oYfF9Iq8"
      }
    },
    {
      "cell_type": "code",
      "source": [
        "n, s = map(int, input().split())"
      ],
      "metadata": {
        "colab": {
          "base_uri": "https://localhost:8080/"
        },
        "id": "WdbtEvR19PQs",
        "outputId": "c11ac806-e386-4eab-f34f-3915bcc81689"
      },
      "execution_count": null,
      "outputs": [
        {
          "name": "stdout",
          "output_type": "stream",
          "text": [
            "5 5\n"
          ]
        }
      ]
    },
    {
      "cell_type": "code",
      "source": [
        "# 5 1\n",
        "# goorm 110.40\n",
        "# goormee 111.50\n",
        "# goormy 109.50\n",
        "# oscar 100.00\n",
        "# henry 200.00\n",
        "\n",
        "# 5 5\n",
        "# abcabc 120.00\n",
        "# abcabca 120.00\n",
        "# abcabcb 120.00\n",
        "# abcabcc 120.00\n",
        "# abcabcd 120.00\n",
        "arr = [] \n",
        "for _ in range(n):\n",
        "    arr.append(input())"
      ],
      "metadata": {
        "colab": {
          "base_uri": "https://localhost:8080/"
        },
        "id": "cU4A2SPK9Y7d",
        "outputId": "3575e77c-933d-44a4-e8ff-885062afef42"
      },
      "execution_count": null,
      "outputs": [
        {
          "name": "stdout",
          "output_type": "stream",
          "text": [
            "abcabc 120.00\n",
            "abcabca 120.00\n",
            "abcabcb 120.00\n",
            "abcabcc 120.00\n",
            "abcabcd 120.00\n"
          ]
        }
      ]
    },
    {
      "cell_type": "code",
      "source": [
        "from functools import cmp_to_key\n",
        "def cmp(a,b):\n",
        "\tif a[0] == b[0] :\n",
        "\t\treturn a[1] < b[1]\n",
        "\telse:\n",
        "\t\treturn a[0] < b[0]\n",
        "print(sorted(arr,key=cmp_to_key(cmp)))"
      ],
      "metadata": {
        "colab": {
          "base_uri": "https://localhost:8080/"
        },
        "id": "GWgNpob59JOu",
        "outputId": "052704cf-d6e5-42c5-d86a-fd03f9356ebe"
      },
      "execution_count": null,
      "outputs": [
        {
          "output_type": "stream",
          "name": "stdout",
          "text": [
            "['abcabc 120.00', 'abcabca 120.00', 'abcabcb 120.00', 'abcabcc 120.00', 'abcabcd 120.00']\n"
          ]
        }
      ]
    },
    {
      "cell_type": "code",
      "source": [
        "from functools import cmp_to_key\n",
        "n, s = map(int, input().split())\n",
        "arr = [] \n",
        "for _ in range(n):\n",
        "    arr.append(input())\n",
        "\t\t\n",
        "def cmp(a,b):\n",
        "\tif a[0] == b[0] :\n",
        "\t\treturn a[1] < b[1]\n",
        "\telse:\n",
        "\t\treturn a[0] < b[0]\n",
        "print(sorted(arr,key=cmp_to_key(cmp))[s-1])"
      ],
      "metadata": {
        "colab": {
          "base_uri": "https://localhost:8080/",
          "height": 35
        },
        "id": "x5O4qRaZ91Kr",
        "outputId": "28757a2b-bd99-4105-f179-58485a656928"
      },
      "execution_count": null,
      "outputs": [
        {
          "output_type": "execute_result",
          "data": {
            "text/plain": [
              "'abcabcd 120.00'"
            ],
            "application/vnd.google.colaboratory.intrinsic+json": {
              "type": "string"
            }
          },
          "metadata": {},
          "execution_count": 11
        }
      ]
    },
    {
      "cell_type": "markdown",
      "source": [
        "## sol_4"
      ],
      "metadata": {
        "id": "pWsJrDBaPMfw"
      }
    },
    {
      "cell_type": "code",
      "source": [
        "# 3 3\n",
        "# 3 3\n",
        "# 3 3\n",
        "# 1 1\n",
        "n, k = map(int, input().split())\n",
        "mat = [[ 0 for _ in range(n)] for _ in range(n)]\n"
      ],
      "metadata": {
        "colab": {
          "base_uri": "https://localhost:8080/"
        },
        "id": "XIdglBNwPRb2",
        "outputId": "0be5e0b3-8940-4bc5-8805-12dbd9da7fbb"
      },
      "execution_count": null,
      "outputs": [
        {
          "name": "stdout",
          "output_type": "stream",
          "text": [
            "3 3\n"
          ]
        }
      ]
    },
    {
      "cell_type": "code",
      "source": [
        "from collections import deque\n",
        "\n",
        "q = deque()\n",
        "#deque에 대한 설명은 하단에!\n",
        "for _ in range(k):\n",
        "    s, e = map(int ,input().split())\n",
        "    q.append([s-1, e-1])"
      ],
      "metadata": {
        "colab": {
          "base_uri": "https://localhost:8080/"
        },
        "id": "7_EDl5qzPgHM",
        "outputId": "d8888730-2ee5-4d2a-e8d0-c34a81064886"
      },
      "execution_count": null,
      "outputs": [
        {
          "name": "stdout",
          "output_type": "stream",
          "text": [
            "3 3\n",
            "3 3\n",
            "1 1\n"
          ]
        }
      ]
    },
    {
      "cell_type": "code",
      "source": [
        "q"
      ],
      "metadata": {
        "colab": {
          "base_uri": "https://localhost:8080/"
        },
        "id": "cny0TXQMPoOw",
        "outputId": "89535432-2cbf-4b41-e1fe-7720f1b5a21f"
      },
      "execution_count": null,
      "outputs": [
        {
          "output_type": "execute_result",
          "data": {
            "text/plain": [
              "deque([[2, 2], [2, 2], [0, 0]])"
            ]
          },
          "metadata": {},
          "execution_count": 6
        }
      ]
    },
    {
      "cell_type": "code",
      "source": [
        "dx = [0, 0 ,0, 1, -1]\n",
        "dy = [0, 1, -1, 0, 0]\n",
        "while q:\n",
        "    x, y = q.popleft()\n",
        "    for i in range(5):\n",
        "        nx = x + dx[i]\n",
        "        ny = y + dy[i]\n",
        "        if 0  <= nx < n and 0 <= ny < n:\n",
        "\t\t\t\t\t\t#해당 과정 대신에, 조건이 성립하면 구협 대신에 1만 더해도 된다.\n",
        "            mat[nx][ny] += 1\n",
        "    print(mat)        "
      ],
      "metadata": {
        "colab": {
          "base_uri": "https://localhost:8080/"
        },
        "id": "xSVtJwwcPrUg",
        "outputId": "7b52d2f0-5f04-4adb-965c-8ef063440b51"
      },
      "execution_count": null,
      "outputs": [
        {
          "output_type": "stream",
          "name": "stdout",
          "text": [
            "[[0, 0, 0], [0, 0, 1], [0, 1, 1]]\n",
            "[[0, 0, 0], [0, 0, 2], [0, 2, 2]]\n",
            "[[1, 1, 0], [1, 0, 2], [0, 2, 2]]\n"
          ]
        }
      ]
    },
    {
      "cell_type": "code",
      "source": [],
      "metadata": {
        "id": "T8FCYliRQT0v"
      },
      "execution_count": null,
      "outputs": []
    },
    {
      "cell_type": "code",
      "source": [
        "import sys\n",
        "input = sys.stdin.readline\n",
        "from collections import deque\n",
        "dx = [0 ,0, 1, -1]\n",
        "dy = [1, -1, 0, 0]\n",
        "n, k = map(int, input().split())\n",
        "mat = [[ 0 for _ in range(n)] for _ in range(n)]\n",
        "q = deque()\n",
        "for _ in range(k):\n",
        "    s, e = map(int ,input().split())\n",
        "    q.append([s-1, e-1])\n",
        "\n",
        "while q:\n",
        "    x, y = q.popleft()\n",
        "    mat[x][y] += 1\n",
        "    for i in range(4):\n",
        "        nx = x + dx[i]\n",
        "        ny = y + dy[i]\n",
        "        if 0  <= nx < n and 0 <= ny < n:\n",
        "\t\t\t\t\t\t#해당 과정 대신에, 조건이 성립하면 1을 더해도 된다.\n",
        "            mat[nx][ny] += 1\n",
        "ans = 0\n",
        "for i in mat:\n",
        "    ans += sum(i)\n",
        "print(ans)\n"
      ],
      "metadata": {
        "id": "Rk8pDKjH-L60"
      },
      "execution_count": null,
      "outputs": []
    },
    {
      "cell_type": "markdown",
      "source": [
        "# week_3"
      ],
      "metadata": {
        "id": "_c8kQxU2f2kx"
      }
    },
    {
      "cell_type": "markdown",
      "source": [
        "## sol_1"
      ],
      "metadata": {
        "id": "lw85N1EBf4Bn"
      }
    },
    {
      "cell_type": "code",
      "source": [
        "# 8\n",
        "# 1 2 3 4 -1 -2 -3 -5\n",
        "from collections import defaultdict\n",
        "n = int(input())\n",
        "dic = defaultdict()\n",
        "arr = list(map(int, input().split()))"
      ],
      "metadata": {
        "colab": {
          "base_uri": "https://localhost:8080/"
        },
        "id": "kUv2ra64f3Kl",
        "outputId": "401d0efd-8264-4b8d-9f3f-9af59674ae67"
      },
      "execution_count": null,
      "outputs": [
        {
          "name": "stdout",
          "output_type": "stream",
          "text": [
            "8\n",
            "1 2 3 4 -1 -2 -3 -5\n"
          ]
        }
      ]
    },
    {
      "cell_type": "code",
      "source": [
        "dic = defaultdict()"
      ],
      "metadata": {
        "id": "G5RuUEA4hHi_"
      },
      "execution_count": null,
      "outputs": []
    },
    {
      "cell_type": "code",
      "source": [
        "for i in arr:\n",
        "    if abs(i) in dic:\n",
        "        dic.pop(abs(i))\n",
        "    else:\n",
        "        dic[i] = 1\n",
        "    print(dic)"
      ],
      "metadata": {
        "colab": {
          "base_uri": "https://localhost:8080/"
        },
        "id": "qjDHXtPDghyx",
        "outputId": "4b4bf72b-315c-4ba3-fbd0-e97d768bd964"
      },
      "execution_count": null,
      "outputs": [
        {
          "output_type": "stream",
          "name": "stdout",
          "text": [
            "defaultdict(None, {1: 1})\n",
            "defaultdict(None, {1: 1, 2: 1})\n",
            "defaultdict(None, {1: 1, 2: 1, 3: 1})\n",
            "defaultdict(None, {1: 1, 2: 1, 3: 1, 4: 1})\n",
            "defaultdict(None, {2: 1, 3: 1, 4: 1})\n",
            "defaultdict(None, {3: 1, 4: 1})\n",
            "defaultdict(None, {4: 1})\n",
            "defaultdict(None, {4: 1, -5: 1})\n"
          ]
        }
      ]
    },
    {
      "cell_type": "code",
      "source": [
        "print(sum(dic.keys()))"
      ],
      "metadata": {
        "colab": {
          "base_uri": "https://localhost:8080/"
        },
        "id": "0nYeTiUUgviG",
        "outputId": "5e15a4c8-83fb-4c6b-9b4d-829098efd27d"
      },
      "execution_count": null,
      "outputs": [
        {
          "output_type": "stream",
          "name": "stdout",
          "text": [
            "-1\n"
          ]
        }
      ]
    },
    {
      "cell_type": "code",
      "source": [
        "import sys\n",
        "input = sys.stdin.readline\n",
        "from collections import defaultdict\n",
        "n = int(input())\n",
        "dic = defaultdict()\n",
        "arr = list(map(int, input().split()))\n",
        "for i in arr:\n",
        "    if abs(i) in dic:\n",
        "        dic.pop(abs(i))\n",
        "    else:\n",
        "        dic[i] = 1\n",
        "print(sum(dic.keys()))"
      ],
      "metadata": {
        "id": "dXFQtyh7f6u-"
      },
      "execution_count": null,
      "outputs": []
    },
    {
      "cell_type": "markdown",
      "source": [
        "## sol_2"
      ],
      "metadata": {
        "id": "WeZtyULoO0aA"
      }
    },
    {
      "cell_type": "code",
      "source": [
        "import sys\n",
        "input = sys.stdin.readline\n",
        "\n",
        "n = int(input())\n",
        "dic = {\n",
        "    1 : \"1.,?!\",\n",
        "    2 : \"2ABC\",\n",
        "    3 : \"3DEF\",\n",
        "    4 : \"4GHI\",\n",
        "    5 : \"5JKL\",\n",
        "    6 : \"6MNO\",\n",
        "    7 : \"7PQRS\",\n",
        "    8 : \"8TUV\",\n",
        "    9 : \"9WXYZ\",\n",
        "}\n",
        "command = input()\n",
        "ans = ''\n",
        "cnt = 0\n",
        "for i in range(n):\n",
        "    if i == n:\n",
        "        break\n",
        "    else:\n",
        "        if command[i+1] == command[i]:\n",
        "            cnt += 1\n",
        "            continue\n",
        "        else:\n",
        "            cnt %= len(dic[int(command[i])])\n",
        "            ans += dic[int(command[i])][cnt]\n",
        "            cnt = 0\n",
        "print(ans)"
      ],
      "metadata": {
        "id": "XLvv6gaFO1Na"
      },
      "execution_count": null,
      "outputs": []
    },
    {
      "cell_type": "markdown",
      "source": [
        "## sol_3"
      ],
      "metadata": {
        "id": "-FLSS4iiS0oL"
      }
    },
    {
      "cell_type": "code",
      "source": [
        "'''\n",
        "visited = Visited 변수\n",
        "q = Queue 자료형\n",
        "dict = Graph\n",
        "'''\n",
        "import sys\n",
        "input = sys.stdin.readline\n",
        "from collections import deque\n",
        "from collections import defaultdict\n",
        "\n",
        "n, m, k = map(int, input().split())\n",
        "dict = defaultdict(list)\n",
        "for i in range(m):\n",
        "    s, e = map(int, input().split())\n",
        "    dict[s].append(e)\n",
        "    dict[e].append(s)\n",
        "\n",
        "q = deque()\n",
        "#\n",
        "visited = [-1 for _ in range(n+1)]\n",
        "visited[1] = 0\n",
        "\n",
        "q.append(1)\n",
        "while q:\n",
        "    cur = q.popleft()\n",
        "    for next in dict[cur]:\n",
        "        if visited[next] != -1:\n",
        "            continue\n",
        "        q.append(next)\n",
        "        visited[next] = visited[cur] + 1\n",
        "if 1 <= visited[n] <= k:\n",
        "    print(\"YES\")\n",
        "else:\n",
        "    print(\"NO\")"
      ],
      "metadata": {
        "id": "vQmMuT5_S0TV"
      },
      "execution_count": null,
      "outputs": []
    },
    {
      "cell_type": "markdown",
      "source": [
        "## sol_4"
      ],
      "metadata": {
        "id": "9jGcVbFGpEU9"
      }
    },
    {
      "cell_type": "code",
      "source": [
        "import sys\n",
        "input = sys.stdin.readline\n",
        "sys.setrecursionlimit(10**8)\n",
        "from collections import defaultdict\n",
        "\n",
        "n = int(input())\n",
        "graph = defaultdict(list)\n",
        "for i in range(n):\n",
        "    s, e = map(int, input().split())\n",
        "    graph[s].append(e)\n",
        "    graph[e].append(s)\n",
        "visited = [0 for _ in range(n+1)]\n",
        "circle = list()\n",
        "finded = -1\n",
        "def FindCycle(u, tar):\n",
        "    global finded\n",
        "    if visited[u] == 1:\n",
        "        finded = u\n",
        "        if u not in circle:\n",
        "            circle.append(u)\n",
        "        return\n",
        "    visited[u] = 1\n",
        "    for i in graph[u]:\n",
        "        if i == tar:\n",
        "            continue\n",
        "        FindCycle(i, u)\n",
        "\n",
        "        if finded == -2:\n",
        "            return\n",
        "        if finded == u:\n",
        "            finded = -2\n",
        "            return\n",
        "\n",
        "        if finded >= 0:\n",
        "            if u not in circle:\n",
        "                circle.append(u)\n",
        "            return\n",
        "FindCycle(1, 1)\n",
        "circle.sort()\n",
        "print(len(circle))\n",
        "for i in circle:\n",
        "    print(i, end = ' ')\n"
      ],
      "metadata": {
        "id": "5tuM6mtnpFDO"
      },
      "execution_count": null,
      "outputs": []
    },
    {
      "cell_type": "markdown",
      "source": [
        "# week_4"
      ],
      "metadata": {
        "id": "WlbNUf7B6ehT"
      }
    },
    {
      "cell_type": "markdown",
      "source": [
        "## sol_1"
      ],
      "metadata": {
        "id": "P8tlRT2T6gmw"
      }
    },
    {
      "cell_type": "code",
      "source": [
        "from collections import deque\n",
        "\n",
        "N, M = map(int, input().split())\n",
        "Q = deque()\n",
        "\n",
        "for i in range(M):\n",
        "\top, k = input().split()\n",
        "\tk = int(k)\n",
        "\t\n",
        "\tif op == \"deposit\":\n",
        "\t\tN = N + k\n",
        "\n",
        "\t\t# 잔액이 늘어난 뒤에, 현재 대기 목록에 있는 거래가 결제될 수 있는지를 판단합니다.\n",
        "\t\t# 큐가 비어있는데 큐의 맨 앞 원소에 접근을 하면 IndexError가 뜨므로,\n",
        "\t\t# 항상 큐의 원소가 들어있는지를 확인하는 과정이 필요합니다.\n",
        "\t\twhile Q and Q[0] <= N:\n",
        "\t\t\t# 거래가 가능한 경우에는 거래를 하고, 다시 위의 과정을 반복합니다.\n",
        "\t\t\tN = N - Q[0]\n",
        "\t\t\tQ.popleft()\n",
        "\n",
        "\telif op == \"pay\":\n",
        "\t\tif N >= k:\n",
        "\t\t\tN = N - k\n",
        "\n",
        "\telif op == \"reservation\":\n",
        "\t\tif not Q and N >= k:\n",
        "\t\t\tN = N - k\n",
        "\t\telse:\n",
        "\t\t\t# reservation에서 거래가 실패할 경우에는, 큐에 거래 내역을 추가합니다.\n",
        "\t\t\tQ.append(k)\n",
        "\n",
        "print(N)"
      ],
      "metadata": {
        "id": "pQmHrobH6hVM"
      },
      "execution_count": null,
      "outputs": []
    }
  ]
}