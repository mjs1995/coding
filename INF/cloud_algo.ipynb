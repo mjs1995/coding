{
  "nbformat": 4,
  "nbformat_minor": 0,
  "metadata": {
    "colab": {
      "provenance": [],
      "authorship_tag": "ABX9TyM/kA4KslD7GULXAm2etL5h",
      "include_colab_link": true
    },
    "kernelspec": {
      "name": "python3",
      "display_name": "Python 3"
    },
    "language_info": {
      "name": "python"
    }
  },
  "cells": [
    {
      "cell_type": "markdown",
      "metadata": {
        "id": "view-in-github",
        "colab_type": "text"
      },
      "source": [
        "<a href=\"https://colab.research.google.com/github/mjs1995/coding/blob/main/INF/cloud_algo.ipynb\" target=\"_parent\"><img src=\"https://colab.research.google.com/assets/colab-badge.svg\" alt=\"Open In Colab\"/></a>"
      ]
    },
    {
      "cell_type": "markdown",
      "source": [
        "# 단어장 만들기\n"
      ],
      "metadata": {
        "id": "WXhGXuPW7KeD"
      }
    },
    {
      "cell_type": "code",
      "source": [
        "# 단어의 길이로 정렬하기, Sort의 디폴트는 사전순 정렬\n",
        "word.sort(key = lambda x : len(x))\n",
        "print(word[k-1])"
      ],
      "metadata": {
        "id": "P5Tdym28_L-b"
      },
      "execution_count": null,
      "outputs": []
    },
    {
      "cell_type": "code",
      "source": [
        "word = list()\n",
        "n, k = map(int, input().split())\n",
        "for i in range(n):\n",
        "    word.append(input().rstrip())"
      ],
      "metadata": {
        "colab": {
          "base_uri": "https://localhost:8080/"
        },
        "id": "c6FYYrOK-IyK",
        "outputId": "d4525372-74e1-4e96-fccf-71ef94aa5a84"
      },
      "execution_count": null,
      "outputs": [
        {
          "name": "stdout",
          "output_type": "stream",
          "text": [
            "7 3\n",
            "aaaa\n",
            "aaa\n",
            "aa\n",
            "a\n",
            "b\n",
            "bb\n",
            "bbb\n"
          ]
        }
      ]
    },
    {
      "cell_type": "code",
      "source": [
        "word.sort(key = lambda x : len(x))\n",
        "print(word[k-1])"
      ],
      "metadata": {
        "colab": {
          "base_uri": "https://localhost:8080/"
        },
        "id": "8k2ZqOa0-ReN",
        "outputId": "0d4d1ab2-4b75-480b-f655-67e5d0e0bb46"
      },
      "execution_count": null,
      "outputs": [
        {
          "output_type": "stream",
          "name": "stdout",
          "text": [
            "aa\n"
          ]
        }
      ]
    },
    {
      "cell_type": "code",
      "source": [
        "import sys\n",
        "input = sys.stdin.readline\n",
        "word = list()\n",
        "n, k = map(int, input().split())\n",
        "for i in range(n):\n",
        "    word.append(input().rstrip())\n",
        "word.sort()\n",
        "word.sort(key = lambda x : len(x))\n",
        "print(word[k-1])\n"
      ],
      "metadata": {
        "id": "ikT9mZlz-oQ4"
      },
      "execution_count": null,
      "outputs": []
    },
    {
      "cell_type": "code",
      "source": [
        "word = list()\n",
        "n, k = map(int, input().split())\n",
        "for i in range(n):\n",
        "    word.append(input().rstrip())"
      ],
      "metadata": {
        "colab": {
          "base_uri": "https://localhost:8080/"
        },
        "id": "M2MIa8U9-t_N",
        "outputId": "d6f7b471-3389-4705-a078-a71a8db4d82d"
      },
      "execution_count": null,
      "outputs": [
        {
          "name": "stdout",
          "output_type": "stream",
          "text": [
            "7 3\n",
            "aaaa\n",
            "aaa\n",
            "aa\n",
            "a\n",
            "b\n",
            "bb\n",
            "bbb\n"
          ]
        }
      ]
    },
    {
      "cell_type": "code",
      "source": [
        "word.sort()"
      ],
      "metadata": {
        "id": "jp3nDAq--vSK"
      },
      "execution_count": null,
      "outputs": []
    },
    {
      "cell_type": "code",
      "source": [
        "word"
      ],
      "metadata": {
        "colab": {
          "base_uri": "https://localhost:8080/"
        },
        "id": "8MjJZYM7-4D4",
        "outputId": "481e3991-cce3-406f-fdcc-288c26eb6bfd"
      },
      "execution_count": null,
      "outputs": [
        {
          "output_type": "execute_result",
          "data": {
            "text/plain": [
              "['a', 'aa', 'aaa', 'aaaa', 'b', 'bb', 'bbb']"
            ]
          },
          "metadata": {},
          "execution_count": 43
        }
      ]
    },
    {
      "cell_type": "code",
      "source": [
        "word.sort(key = lambda x : len(x))"
      ],
      "metadata": {
        "id": "D3PeXm7a-428"
      },
      "execution_count": null,
      "outputs": []
    },
    {
      "cell_type": "code",
      "source": [
        "word"
      ],
      "metadata": {
        "colab": {
          "base_uri": "https://localhost:8080/"
        },
        "id": "4R3pOx-p-79i",
        "outputId": "8c4dfaa4-34b7-4b25-ef3e-9783e11e46e6"
      },
      "execution_count": null,
      "outputs": [
        {
          "output_type": "execute_result",
          "data": {
            "text/plain": [
              "['a', 'b', 'aa', 'bb', 'aaa', 'bbb', 'aaaa']"
            ]
          },
          "metadata": {},
          "execution_count": 45
        }
      ]
    },
    {
      "cell_type": "markdown",
      "source": [
        "# week_1\n",
        "## sol_1"
      ],
      "metadata": {
        "id": "cIuALCAMzUqR"
      }
    },
    {
      "cell_type": "code",
      "source": [
        "N = int(input())\n",
        "ans = 1\n",
        "B = list(map(int, input().split()))\n",
        "for n in B:\n",
        "    ans = ans * n\n",
        "\n",
        "print(ans)"
      ],
      "metadata": {
        "id": "-IKGXw9RzVzJ"
      },
      "execution_count": null,
      "outputs": []
    },
    {
      "cell_type": "markdown",
      "source": [
        "## sol_2"
      ],
      "metadata": {
        "id": "m4W3qGte70da"
      }
    },
    {
      "cell_type": "code",
      "source": [
        "n, s = map(str, input().split())\n",
        "cnt = 0\n",
        "for i in range(int(n)):\n",
        "    name = input()\n",
        "    if s in name:\n",
        "        cnt += 1\n",
        "print(cnt)\n"
      ],
      "metadata": {
        "colab": {
          "base_uri": "https://localhost:8080/"
        },
        "id": "lnlAF_d57148",
        "outputId": "60bcbf9a-7f73-409e-b9a4-22128c2bc906"
      },
      "execution_count": 3,
      "outputs": [
        {
          "output_type": "stream",
          "name": "stdout",
          "text": [
            "4 dalgu\n",
            "dalgu\n",
            "benjamin\n",
            "oscar\n",
            "goormee\n",
            "1\n"
          ]
        }
      ]
    },
    {
      "cell_type": "markdown",
      "source": [
        "# sol_3"
      ],
      "metadata": {
        "id": "JKMW2UQw-XO6"
      }
    },
    {
      "cell_type": "code",
      "source": [
        "# -*- coding: utf-8 -*-\n",
        "# UTF-8 encoding when using korean\n",
        "arr = list(map(int, input().split()))\n",
        "arr.sort()\n",
        "print(abs(arr[3] - arr[0]) + abs(arr[2] - arr[1]))"
      ],
      "metadata": {
        "id": "ktjm-3rP-YFo"
      },
      "execution_count": null,
      "outputs": []
    },
    {
      "cell_type": "code",
      "source": [
        "import sys\n",
        "input = sys.stdin.readline\n",
        "arr = list(map(int, input().split()))\n",
        "arr.sort()\n",
        "x = abs(arr[0] - arr[3])\n",
        "y = abs(arr[1] - arr[2])\n",
        "\n",
        "print(x + y)"
      ],
      "metadata": {
        "id": "4PCj0HVy-Ypu"
      },
      "execution_count": null,
      "outputs": []
    },
    {
      "cell_type": "code",
      "source": [
        "import sys\n",
        "input = sys.stdin.readline\n",
        "arr = list(map(int, input().split()))\n",
        "arr.sort()\n",
        "print(arr[3] + arr[2] - arr[1] - arr[0])\n"
      ],
      "metadata": {
        "id": "Vsa5-0U1-bBB"
      },
      "execution_count": null,
      "outputs": []
    },
    {
      "cell_type": "code",
      "source": [
        "'''\n",
        "1. 4개의 정수를 배치할 수 있는 모든 경우를 파악한다.\n",
        "2. 각각의 경우의 수에 대하여 맨해튼 거리를 구하고, 최대값을 찾는다.\n",
        "'''\n",
        "# 경우의 수를 찾는 방법. a, b, c, d 가 주어졌을 때,\n",
        "for i in range(4):\n",
        "    x1 = arr[i]\n",
        "    for j in range(4):\n",
        "        if i != j:\n",
        "            x2 = arr[j]\n",
        "            for s in range(4):\n",
        "                if s != i and s != j:\n",
        "                    y1 = arr[s]\n",
        "                    for k in range(4):\n",
        "                        if k != i and k != j and k != s:\n",
        "                            y2 = arr[k]\n",
        "                            print(x1, x2, y1, y2)"
      ],
      "metadata": {
        "id": "fFXOQs3A-c6B"
      },
      "execution_count": null,
      "outputs": []
    }
  ]
}