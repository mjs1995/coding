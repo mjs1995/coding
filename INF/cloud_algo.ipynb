{
  "nbformat": 4,
  "nbformat_minor": 0,
  "metadata": {
    "colab": {
      "provenance": [],
      "authorship_tag": "ABX9TyOLolykk6UJPq6hVVG/xOrJ",
      "include_colab_link": true
    },
    "kernelspec": {
      "name": "python3",
      "display_name": "Python 3"
    },
    "language_info": {
      "name": "python"
    }
  },
  "cells": [
    {
      "cell_type": "markdown",
      "metadata": {
        "id": "view-in-github",
        "colab_type": "text"
      },
      "source": [
        "<a href=\"https://colab.research.google.com/github/mjs1995/coding/blob/main/INF/cloud_algo.ipynb\" target=\"_parent\"><img src=\"https://colab.research.google.com/assets/colab-badge.svg\" alt=\"Open In Colab\"/></a>"
      ]
    },
    {
      "cell_type": "markdown",
      "source": [
        "# 단어장 만들기"
      ],
      "metadata": {
        "id": "WXhGXuPW7KeD"
      }
    },
    {
      "cell_type": "code",
      "source": [
        "word = list()\n",
        "n, k = map(int, input().split())\n",
        "for i in range(n):\n",
        "    word.append(input().rstrip())"
      ],
      "metadata": {
        "colab": {
          "base_uri": "https://localhost:8080/"
        },
        "id": "c6FYYrOK-IyK",
        "outputId": "d4525372-74e1-4e96-fccf-71ef94aa5a84"
      },
      "execution_count": 36,
      "outputs": [
        {
          "name": "stdout",
          "output_type": "stream",
          "text": [
            "7 3\n",
            "aaaa\n",
            "aaa\n",
            "aa\n",
            "a\n",
            "b\n",
            "bb\n",
            "bbb\n"
          ]
        }
      ]
    },
    {
      "cell_type": "code",
      "source": [
        "word.sort(key = lambda x : len(x))\n",
        "print(word[k-1])"
      ],
      "metadata": {
        "colab": {
          "base_uri": "https://localhost:8080/"
        },
        "id": "8k2ZqOa0-ReN",
        "outputId": "0d4d1ab2-4b75-480b-f655-67e5d0e0bb46"
      },
      "execution_count": 39,
      "outputs": [
        {
          "output_type": "stream",
          "name": "stdout",
          "text": [
            "aa\n"
          ]
        }
      ]
    },
    {
      "cell_type": "code",
      "source": [
        "import sys\n",
        "input = sys.stdin.readline\n",
        "word = list()\n",
        "n, k = map(int, input().split())\n",
        "for i in range(n):\n",
        "    word.append(input().rstrip())\n",
        "word.sort()\n",
        "word.sort(key = lambda x : len(x))\n",
        "print(word[k-1])\n"
      ],
      "metadata": {
        "id": "ikT9mZlz-oQ4"
      },
      "execution_count": null,
      "outputs": []
    },
    {
      "cell_type": "code",
      "source": [
        "word = list()\n",
        "n, k = map(int, input().split())\n",
        "for i in range(n):\n",
        "    word.append(input().rstrip())"
      ],
      "metadata": {
        "colab": {
          "base_uri": "https://localhost:8080/"
        },
        "id": "M2MIa8U9-t_N",
        "outputId": "d6f7b471-3389-4705-a078-a71a8db4d82d"
      },
      "execution_count": 40,
      "outputs": [
        {
          "name": "stdout",
          "output_type": "stream",
          "text": [
            "7 3\n",
            "aaaa\n",
            "aaa\n",
            "aa\n",
            "a\n",
            "b\n",
            "bb\n",
            "bbb\n"
          ]
        }
      ]
    },
    {
      "cell_type": "code",
      "source": [
        "word.sort()"
      ],
      "metadata": {
        "id": "jp3nDAq--vSK"
      },
      "execution_count": 42,
      "outputs": []
    },
    {
      "cell_type": "code",
      "source": [
        "word"
      ],
      "metadata": {
        "colab": {
          "base_uri": "https://localhost:8080/"
        },
        "id": "8MjJZYM7-4D4",
        "outputId": "481e3991-cce3-406f-fdcc-288c26eb6bfd"
      },
      "execution_count": 43,
      "outputs": [
        {
          "output_type": "execute_result",
          "data": {
            "text/plain": [
              "['a', 'aa', 'aaa', 'aaaa', 'b', 'bb', 'bbb']"
            ]
          },
          "metadata": {},
          "execution_count": 43
        }
      ]
    },
    {
      "cell_type": "code",
      "source": [
        "word.sort(key = lambda x : len(x))"
      ],
      "metadata": {
        "id": "D3PeXm7a-428"
      },
      "execution_count": 44,
      "outputs": []
    },
    {
      "cell_type": "code",
      "source": [
        "word"
      ],
      "metadata": {
        "colab": {
          "base_uri": "https://localhost:8080/"
        },
        "id": "4R3pOx-p-79i",
        "outputId": "8c4dfaa4-34b7-4b25-ef3e-9783e11e46e6"
      },
      "execution_count": 45,
      "outputs": [
        {
          "output_type": "execute_result",
          "data": {
            "text/plain": [
              "['a', 'b', 'aa', 'bb', 'aaa', 'bbb', 'aaaa']"
            ]
          },
          "metadata": {},
          "execution_count": 45
        }
      ]
    }
  ]
}