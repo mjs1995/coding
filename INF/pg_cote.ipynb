{
  "nbformat": 4,
  "nbformat_minor": 0,
  "metadata": {
    "colab": {
      "name": "pg_cote.ipynb",
      "provenance": [],
      "collapsed_sections": [],
      "authorship_tag": "ABX9TyO3xZh3rEbsdkvpEKCSwIik",
      "include_colab_link": true
    },
    "kernelspec": {
      "name": "python3",
      "display_name": "Python 3"
    },
    "language_info": {
      "name": "python"
    }
  },
  "cells": [
    {
      "cell_type": "markdown",
      "metadata": {
        "id": "view-in-github",
        "colab_type": "text"
      },
      "source": [
        "<a href=\"https://colab.research.google.com/github/mjs1995/coding/blob/main/INF/pg_cote.ipynb\" target=\"_parent\"><img src=\"https://colab.research.google.com/assets/colab-badge.svg\" alt=\"Open In Colab\"/></a>"
      ]
    },
    {
      "cell_type": "markdown",
      "source": [
        "# 완주하지 못한 선수"
      ],
      "metadata": {
        "id": "u7k4Yw-P5ovJ"
      }
    },
    {
      "cell_type": "code",
      "execution_count": 1,
      "metadata": {
        "id": "VqZWyrfr4KjI"
      },
      "outputs": [],
      "source": [
        "participant\t = [\"mislav\", \"stanko\", \"mislav\", \"ana\"]\n",
        "completion\t= [\"stanko\", \"ana\", \"mislav\"]\t"
      ]
    },
    {
      "cell_type": "code",
      "source": [
        "from collections import Counter\n",
        "list(Counter(participant) - Counter(completion))[0]"
      ],
      "metadata": {
        "colab": {
          "base_uri": "https://localhost:8080/",
          "height": 35
        },
        "id": "lZCYBpBq4iMT",
        "outputId": "37a01d3a-9fee-4d7d-cbe5-d5a9b68301af"
      },
      "execution_count": 19,
      "outputs": [
        {
          "output_type": "execute_result",
          "data": {
            "text/plain": [
              "'mislav'"
            ],
            "application/vnd.google.colaboratory.intrinsic+json": {
              "type": "string"
            }
          },
          "metadata": {},
          "execution_count": 19
        }
      ]
    },
    {
      "cell_type": "code",
      "source": [
        "from collections import Counter\n",
        "def solution(participant, completion):       \n",
        "    return list(Counter(participant) - Counter(completion))[0]"
      ],
      "metadata": {
        "id": "Z4pQ0M4H4l2a"
      },
      "execution_count": null,
      "outputs": []
    },
    {
      "cell_type": "code",
      "source": [
        "def solution(participant, completion):\n",
        "    participant.sort()\n",
        "    completion.sort()\n",
        "    for i in range(len(completion)):\n",
        "        if participant[i] != completion[i]:\n",
        "            return participant[i]\n",
        "    return participant[len(participant)-1]"
      ],
      "metadata": {
        "id": "kZiMg1rY5oXa"
      },
      "execution_count": null,
      "outputs": []
    },
    {
      "cell_type": "code",
      "source": [
        "def solution(participant, completion):\n",
        "    participant.sort()\n",
        "    completion.sort()\n",
        "    for p, c in zip(participant, completion):\n",
        "        if p != c:\n",
        "            return p\n",
        "    return participant[-1]"
      ],
      "metadata": {
        "id": "4d2W4ejy6AHX"
      },
      "execution_count": null,
      "outputs": []
    },
    {
      "cell_type": "markdown",
      "source": [
        "# K번째수"
      ],
      "metadata": {
        "id": "DJ7287IqLCML"
      }
    },
    {
      "cell_type": "code",
      "source": [
        "array = [1, 5, 2, 6, 3, 7, 4]\t\n",
        "commands = [[2, 5, 3], [4, 4, 1], [1, 7, 3]]\n",
        "answer = [] \n",
        "for command in commands:\n",
        "        res = array[command[0]-1 : command[1]]\n",
        "        res.sort()\n",
        "        answer.append(res[command[2]-1])\n",
        "answer"
      ],
      "metadata": {
        "colab": {
          "base_uri": "https://localhost:8080/"
        },
        "id": "b1Kir4Bf6Hm-",
        "outputId": "352e5659-91f4-4e59-8d30-a261c2769115"
      },
      "execution_count": 33,
      "outputs": [
        {
          "output_type": "execute_result",
          "data": {
            "text/plain": [
              "[5, 6, 3]"
            ]
          },
          "metadata": {},
          "execution_count": 33
        }
      ]
    },
    {
      "cell_type": "code",
      "source": [
        "def solution(array, commands):\n",
        "    answer = []\n",
        "    for command in commands:\n",
        "        res = array[command[0]-1 : command[1]]\n",
        "        res.sort()\n",
        "        answer.append(res[command[2]-1])\n",
        "    return answer"
      ],
      "metadata": {
        "id": "Vek-Nw7HM7gA"
      },
      "execution_count": null,
      "outputs": []
    },
    {
      "cell_type": "code",
      "source": [
        "def solution(array, commands):\n",
        "    answer = []\n",
        "    for command in commands:\n",
        "        i,j,k = command\n",
        "        answer.append(list(sorted(array[i-1:j]))[k-1])\n",
        "    return answer\n"
      ],
      "metadata": {
        "id": "_ip-XJtmOt8T"
      },
      "execution_count": null,
      "outputs": []
    },
    {
      "cell_type": "code",
      "source": [
        "def solution(array, commands):\n",
        "    return [sorted(array[a[0]-1:a[1]])[a[2]-1] for a in commands]"
      ],
      "metadata": {
        "id": "8sZZd0MmOzjr"
      },
      "execution_count": null,
      "outputs": []
    },
    {
      "cell_type": "markdown",
      "source": [
        "# 모의고사"
      ],
      "metadata": {
        "id": "9jvb6tDoRooU"
      }
    },
    {
      "cell_type": "code",
      "source": [
        "    answers = [1,3,2,4,2]\t\n",
        "    answer = []\n",
        "    dic = {1: [1, 2, 3, 4, 5], 2: [2, 1, 2, 3, 2, 4, 2, 5], 3:[3, 3, 1, 1, 2, 2, 4, 4, 5, 5]}\n",
        "    res = [0,0,0]\n",
        "    for i in range(len(answers)):\n",
        "        if dic[1][i] == answers[i]:\n",
        "            res[0] += 1\n",
        "        if dic[2][i] == answers[i]:\n",
        "            res[1] += 1\n",
        "        if dic[3][i] == answers[i]:\n",
        "            res[2] += 1\n",
        "    for i,k in enumerate(res):\n",
        "        if k == max(res):\n",
        "            answer.append(i+1)\n",
        "    answer\n",
        "    "
      ],
      "metadata": {
        "colab": {
          "base_uri": "https://localhost:8080/"
        },
        "id": "t8ShRehSRo34",
        "outputId": "18a4369d-27bd-44db-ce55-41937d1726f8"
      },
      "execution_count": 79,
      "outputs": [
        {
          "output_type": "execute_result",
          "data": {
            "text/plain": [
              "[1, 2, 3]"
            ]
          },
          "metadata": {},
          "execution_count": 79
        }
      ]
    },
    {
      "cell_type": "markdown",
      "source": [
        "![image.png](data:image/png;base64,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)"
      ],
      "metadata": {
        "id": "MHWBXTMbVeM4"
      }
    },
    {
      "cell_type": "code",
      "source": [
        "a2 = [1, 2, 3, 4, 5]\n",
        "answers = [1,3,2,4,2]\t\n",
        "for i in range(len(answers)):\n",
        "    print(a2[i % 8] )"
      ],
      "metadata": {
        "colab": {
          "base_uri": "https://localhost:8080/"
        },
        "id": "QS4sU7-hUbRL",
        "outputId": "1e404ca4-a4a9-4596-a1cf-ca3de783895f"
      },
      "execution_count": 83,
      "outputs": [
        {
          "output_type": "stream",
          "name": "stdout",
          "text": [
            "1\n",
            "2\n",
            "3\n",
            "4\n",
            "5\n"
          ]
        }
      ]
    },
    {
      "cell_type": "code",
      "source": [
        "def solution(answers):\n",
        "    answer = []\n",
        "    a1 = [1, 2, 3, 4, 5]\n",
        "    a2 = [2, 1, 2, 3, 2, 4, 2, 5]\n",
        "    a3 = [3, 3, 1, 1, 2, 2, 4, 4, 5, 5]\n",
        "    res = [0,0,0]\n",
        "    for i in range(len(answers)):\n",
        "        if a1[i % 5] == answers[i]:\n",
        "            res[0] += 1\n",
        "        if a2[i % 8] == answers[i]:\n",
        "            res[1] += 1\n",
        "        if a3[i % 10] == answers[i]:\n",
        "            res[2] += 1\n",
        "    for i,k in enumerate(res):\n",
        "        if k == max(res):\n",
        "            answer.append(i+1)\n",
        "    return answer"
      ],
      "metadata": {
        "id": "DIU6aMCWYzNI"
      },
      "execution_count": null,
      "outputs": []
    },
    {
      "cell_type": "code",
      "source": [
        "def solution(answers):\n",
        "    pattern1 = [1,2,3,4,5]\n",
        "    pattern2 = [2,1,2,3,2,4,2,5]\n",
        "    pattern3 = [3,3,1,1,2,2,4,4,5,5]\n",
        "    score = [0, 0, 0]\n",
        "    result = []\n",
        "\n",
        "    for idx, answer in enumerate(answers):\n",
        "        if answer == pattern1[idx%len(pattern1)]:\n",
        "            score[0] += 1\n",
        "        if answer == pattern2[idx%len(pattern2)]:\n",
        "            score[1] += 1\n",
        "        if answer == pattern3[idx%len(pattern3)]:\n",
        "            score[2] += 1\n",
        "\n",
        "    for idx, s in enumerate(score):\n",
        "        if s == max(score):\n",
        "            result.append(idx+1)\n",
        "\n",
        "    return result\n"
      ],
      "metadata": {
        "id": "OYLnoTvJZJcq"
      },
      "execution_count": null,
      "outputs": []
    },
    {
      "cell_type": "markdown",
      "source": [
        "# 체육복"
      ],
      "metadata": {
        "id": "1NdO4LmAQzoA"
      }
    },
    {
      "cell_type": "code",
      "source": [
        "n = 3\n",
        "lost = [3]\n",
        "reserve = [1]"
      ],
      "metadata": {
        "id": "0mGJiP0-Q0-Y"
      },
      "execution_count": 1,
      "outputs": []
    },
    {
      "cell_type": "code",
      "source": [
        "n = 5\n",
        "lost = [2,4]\n",
        "reserve = [3]\n",
        "res = 0 \n",
        "for i in range(len(reserve)):\n",
        "    if reserve[i] + 1 in lost:\n",
        "        lost.remove(reserve[i] + 1)\n",
        "        res = n - len(lost)\n",
        "res"
      ],
      "metadata": {
        "colab": {
          "base_uri": "https://localhost:8080/"
        },
        "id": "zTsY1OIRQ88I",
        "outputId": "8f1b7a10-bc21-408c-f8bd-91bb8dfe9471"
      },
      "execution_count": 3,
      "outputs": [
        {
          "output_type": "execute_result",
          "data": {
            "text/plain": [
              "4"
            ]
          },
          "metadata": {},
          "execution_count": 3
        }
      ]
    },
    {
      "cell_type": "code",
      "source": [
        "    res = 0 \n",
        "    lost = set(lost)\n",
        "    reserve = set(reserve)\n",
        "    for i in reserve:\n",
        "        if i + 1 in lost:\n",
        "            lost.remove(i+1)\n",
        "    res = n - len(lost)"
      ],
      "metadata": {
        "id": "8fnugpHwVgWK"
      },
      "execution_count": null,
      "outputs": []
    },
    {
      "cell_type": "markdown",
      "source": [
        "![image.png](data:image/png;base64,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)"
      ],
      "metadata": {
        "id": "HTPdhsazSrwu"
      }
    },
    {
      "cell_type": "code",
      "source": [
        "n = 5\n",
        "lost = [2,4]\n",
        "reserve = [3]\n",
        "res = 0 \n",
        "\n",
        "lost = set(lost)\n",
        "reserve = set(reserve)\n",
        "\n",
        "for i in reserve:\n",
        "    if i + 1 in lost:\n",
        "        lost.remove(i+1)\n",
        "    elif i - 1 in lost:\n",
        "        lost.remove(i-1)\n",
        "print(n-len(lost))"
      ],
      "metadata": {
        "colab": {
          "base_uri": "https://localhost:8080/"
        },
        "id": "fCiAhoDhqfpm",
        "outputId": "1f36806b-3d3e-4da8-ce8e-6b88d5a8c2ee"
      },
      "execution_count": 2,
      "outputs": [
        {
          "output_type": "stream",
          "name": "stdout",
          "text": [
            "4\n"
          ]
        }
      ]
    },
    {
      "cell_type": "markdown",
      "source": [
        "![image.png](data:image/png;base64,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)"
      ],
      "metadata": {
        "id": "h3j57p6GsLID"
      }
    },
    {
      "cell_type": "code",
      "source": [
        "def solution(n, lost, reserve):\n",
        "    s_lost = set(lost) - set(reserve)\n",
        "    s_reserve = set(reserve) - set(lost)\n",
        "\n",
        "    for i in s_reserve:\n",
        "        if i-1 in s_lost:\n",
        "            s_lost.remove(i-1)\n",
        "        elif i+1 in s_lost:\n",
        "            s_lost.remove(i+1)\n",
        "    return n - len(s_lost)"
      ],
      "metadata": {
        "id": "Vr-kHSwUsFZ4"
      },
      "execution_count": null,
      "outputs": []
    },
    {
      "cell_type": "code",
      "source": [
        "def solution(n, lost, reserve):\n",
        "    _reserve = [r for r in reserve if r not in lost]\n",
        "    _lost = [l for l in lost if l not in reserve]\n",
        "    for r in _reserve:\n",
        "        f = r - 1\n",
        "        b = r + 1\n",
        "        if f in _lost:\n",
        "            _lost.remove(f)\n",
        "        elif b in _lost:\n",
        "            _lost.remove(b)\n",
        "    return n - len(_lost)"
      ],
      "metadata": {
        "id": "KLowJbEBtNmF"
      },
      "execution_count": null,
      "outputs": []
    },
    {
      "cell_type": "markdown",
      "source": [
        "# 폰켓몬"
      ],
      "metadata": {
        "id": "Z9D916n1WN3s"
      }
    },
    {
      "cell_type": "code",
      "source": [
        "nums = [3,1,2,3]\n",
        "\n",
        "from collections import Counter\n",
        "res = len(nums) // 2\n",
        "cn = Counter(nums)\n",
        "for i in set(nums):\n",
        "    if cn[i] >= 2:\n",
        "        cn[i] -= 1\n",
        "if len(Counter(nums).values()) >= res:\n",
        "    print(res)"
      ],
      "metadata": {
        "colab": {
          "base_uri": "https://localhost:8080/"
        },
        "id": "6UPdsjdOVUkt",
        "outputId": "2608f034-764f-4682-e0b5-8bcb2bb65683"
      },
      "execution_count": 40,
      "outputs": [
        {
          "output_type": "stream",
          "name": "stdout",
          "text": [
            "2\n"
          ]
        }
      ]
    },
    {
      "cell_type": "code",
      "source": [
        "from collections import Counter\n",
        "\n",
        "def solution(nums):\n",
        "    res = len(nums) // 2\n",
        "    cn = Counter(nums)\n",
        "    for i in set(nums):\n",
        "        if cn[i] >= 2:\n",
        "            cn[i] -= 1\n",
        "    if len(Counter(nums).values()) >= res:\n",
        "        return(res)\n",
        "    return len(Counter(nums).values())"
      ],
      "metadata": {
        "colab": {
          "base_uri": "https://localhost:8080/"
        },
        "id": "nkeQAoGCW8M_",
        "outputId": "97d8f821-a6f4-4d08-dd8a-526641678c0f"
      },
      "execution_count": 39,
      "outputs": [
        {
          "output_type": "execute_result",
          "data": {
            "text/plain": [
              "2"
            ]
          },
          "metadata": {},
          "execution_count": 39
        }
      ]
    },
    {
      "cell_type": "code",
      "source": [
        "def solution(nums):\n",
        "    return min(len(set(nums)), len(nums)//2)\n"
      ],
      "metadata": {
        "id": "rBP1sOqUgv_b"
      },
      "execution_count": null,
      "outputs": []
    },
    {
      "cell_type": "code",
      "source": [
        "def solution(nums):\n",
        "    answer = 0\n",
        "    myList = set(nums)\n",
        "    if len(nums)/2 > len(myList):\n",
        "        answer = len(myList)\n",
        "    else:\n",
        "        answer = len(nums)/2\n",
        "    return answer\n"
      ],
      "metadata": {
        "id": "MLAAXP23g2dD"
      },
      "execution_count": null,
      "outputs": []
    }
  ]
}