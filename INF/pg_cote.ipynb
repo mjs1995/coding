{
  "nbformat": 4,
  "nbformat_minor": 0,
  "metadata": {
    "colab": {
      "name": "pg_cote.ipynb",
      "provenance": [],
      "collapsed_sections": [],
      "authorship_tag": "ABX9TyPydQ/XHfLCo/6MyXUSjI7B",
      "include_colab_link": true
    },
    "kernelspec": {
      "name": "python3",
      "display_name": "Python 3"
    },
    "language_info": {
      "name": "python"
    }
  },
  "cells": [
    {
      "cell_type": "markdown",
      "metadata": {
        "id": "view-in-github",
        "colab_type": "text"
      },
      "source": [
        "<a href=\"https://colab.research.google.com/github/mjs1995/coding/blob/main/INF/pg_cote.ipynb\" target=\"_parent\"><img src=\"https://colab.research.google.com/assets/colab-badge.svg\" alt=\"Open In Colab\"/></a>"
      ]
    },
    {
      "cell_type": "markdown",
      "source": [
        "# 완주하지 못한 선수"
      ],
      "metadata": {
        "id": "u7k4Yw-P5ovJ"
      }
    },
    {
      "cell_type": "code",
      "execution_count": null,
      "metadata": {
        "id": "VqZWyrfr4KjI"
      },
      "outputs": [],
      "source": [
        "participant\t = [\"mislav\", \"stanko\", \"mislav\", \"ana\"]\n",
        "completion\t= [\"stanko\", \"ana\", \"mislav\"]\t"
      ]
    },
    {
      "cell_type": "code",
      "source": [
        "from collections import Counter\n",
        "list(Counter(participant) - Counter(completion))[0]"
      ],
      "metadata": {
        "colab": {
          "base_uri": "https://localhost:8080/",
          "height": 35
        },
        "id": "lZCYBpBq4iMT",
        "outputId": "37a01d3a-9fee-4d7d-cbe5-d5a9b68301af"
      },
      "execution_count": null,
      "outputs": [
        {
          "output_type": "execute_result",
          "data": {
            "text/plain": [
              "'mislav'"
            ],
            "application/vnd.google.colaboratory.intrinsic+json": {
              "type": "string"
            }
          },
          "metadata": {},
          "execution_count": 19
        }
      ]
    },
    {
      "cell_type": "code",
      "source": [
        "from collections import Counter\n",
        "def solution(participant, completion):       \n",
        "    return list(Counter(participant) - Counter(completion))[0]"
      ],
      "metadata": {
        "id": "Z4pQ0M4H4l2a"
      },
      "execution_count": null,
      "outputs": []
    },
    {
      "cell_type": "code",
      "source": [
        "def solution(participant, completion):\n",
        "    participant.sort()\n",
        "    completion.sort()\n",
        "    for i in range(len(completion)):\n",
        "        if participant[i] != completion[i]:\n",
        "            return participant[i]\n",
        "    return participant[len(participant)-1]"
      ],
      "metadata": {
        "id": "kZiMg1rY5oXa"
      },
      "execution_count": null,
      "outputs": []
    },
    {
      "cell_type": "code",
      "source": [
        "def solution(participant, completion):\n",
        "    participant.sort()\n",
        "    completion.sort()\n",
        "    for p, c in zip(participant, completion):\n",
        "        if p != c:\n",
        "            return p\n",
        "    return participant[-1]"
      ],
      "metadata": {
        "id": "4d2W4ejy6AHX"
      },
      "execution_count": null,
      "outputs": []
    },
    {
      "cell_type": "markdown",
      "source": [
        "# K번째수"
      ],
      "metadata": {
        "id": "DJ7287IqLCML"
      }
    },
    {
      "cell_type": "code",
      "source": [
        "array = [1, 5, 2, 6, 3, 7, 4]\t\n",
        "commands = [[2, 5, 3], [4, 4, 1], [1, 7, 3]]\n",
        "answer = [] \n",
        "for command in commands:\n",
        "        res = array[command[0]-1 : command[1]]\n",
        "        res.sort()\n",
        "        answer.append(res[command[2]-1])\n",
        "answer"
      ],
      "metadata": {
        "colab": {
          "base_uri": "https://localhost:8080/"
        },
        "id": "b1Kir4Bf6Hm-",
        "outputId": "352e5659-91f4-4e59-8d30-a261c2769115"
      },
      "execution_count": null,
      "outputs": [
        {
          "output_type": "execute_result",
          "data": {
            "text/plain": [
              "[5, 6, 3]"
            ]
          },
          "metadata": {},
          "execution_count": 33
        }
      ]
    },
    {
      "cell_type": "code",
      "source": [
        "def solution(array, commands):\n",
        "    answer = []\n",
        "    for command in commands:\n",
        "        res = array[command[0]-1 : command[1]]\n",
        "        res.sort()\n",
        "        answer.append(res[command[2]-1])\n",
        "    return answer"
      ],
      "metadata": {
        "id": "Vek-Nw7HM7gA"
      },
      "execution_count": null,
      "outputs": []
    },
    {
      "cell_type": "code",
      "source": [
        "def solution(array, commands):\n",
        "    answer = []\n",
        "    for command in commands:\n",
        "        i,j,k = command\n",
        "        answer.append(list(sorted(array[i-1:j]))[k-1])\n",
        "    return answer\n"
      ],
      "metadata": {
        "id": "_ip-XJtmOt8T"
      },
      "execution_count": null,
      "outputs": []
    },
    {
      "cell_type": "code",
      "source": [
        "def solution(array, commands):\n",
        "    return [sorted(array[a[0]-1:a[1]])[a[2]-1] for a in commands]"
      ],
      "metadata": {
        "id": "8sZZd0MmOzjr"
      },
      "execution_count": null,
      "outputs": []
    },
    {
      "cell_type": "markdown",
      "source": [
        "# 모의고사"
      ],
      "metadata": {
        "id": "9jvb6tDoRooU"
      }
    },
    {
      "cell_type": "code",
      "source": [
        "    answers = [1,3,2,4,2]\t\n",
        "    answer = []\n",
        "    dic = {1: [1, 2, 3, 4, 5], 2: [2, 1, 2, 3, 2, 4, 2, 5], 3:[3, 3, 1, 1, 2, 2, 4, 4, 5, 5]}\n",
        "    res = [0,0,0]\n",
        "    for i in range(len(answers)):\n",
        "        if dic[1][i] == answers[i]:\n",
        "            res[0] += 1\n",
        "        if dic[2][i] == answers[i]:\n",
        "            res[1] += 1\n",
        "        if dic[3][i] == answers[i]:\n",
        "            res[2] += 1\n",
        "    for i,k in enumerate(res):\n",
        "        if k == max(res):\n",
        "            answer.append(i+1)\n",
        "    answer\n",
        "    "
      ],
      "metadata": {
        "colab": {
          "base_uri": "https://localhost:8080/"
        },
        "id": "t8ShRehSRo34",
        "outputId": "18a4369d-27bd-44db-ce55-41937d1726f8"
      },
      "execution_count": null,
      "outputs": [
        {
          "output_type": "execute_result",
          "data": {
            "text/plain": [
              "[1, 2, 3]"
            ]
          },
          "metadata": {},
          "execution_count": 79
        }
      ]
    },
    {
      "cell_type": "markdown",
      "source": [
        "![image.png](data:image/png;base64,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)"
      ],
      "metadata": {
        "id": "MHWBXTMbVeM4"
      }
    },
    {
      "cell_type": "code",
      "source": [
        "a2 = [1, 2, 3, 4, 5]\n",
        "answers = [1,3,2,4,2]\t\n",
        "for i in range(len(answers)):\n",
        "    print(a2[i % 8] )"
      ],
      "metadata": {
        "colab": {
          "base_uri": "https://localhost:8080/"
        },
        "id": "QS4sU7-hUbRL",
        "outputId": "1e404ca4-a4a9-4596-a1cf-ca3de783895f"
      },
      "execution_count": null,
      "outputs": [
        {
          "output_type": "stream",
          "name": "stdout",
          "text": [
            "1\n",
            "2\n",
            "3\n",
            "4\n",
            "5\n"
          ]
        }
      ]
    },
    {
      "cell_type": "code",
      "source": [
        "def solution(answers):\n",
        "    answer = []\n",
        "    a1 = [1, 2, 3, 4, 5]\n",
        "    a2 = [2, 1, 2, 3, 2, 4, 2, 5]\n",
        "    a3 = [3, 3, 1, 1, 2, 2, 4, 4, 5, 5]\n",
        "    res = [0,0,0]\n",
        "    for i in range(len(answers)):\n",
        "        if a1[i % 5] == answers[i]:\n",
        "            res[0] += 1\n",
        "        if a2[i % 8] == answers[i]:\n",
        "            res[1] += 1\n",
        "        if a3[i % 10] == answers[i]:\n",
        "            res[2] += 1\n",
        "    for i,k in enumerate(res):\n",
        "        if k == max(res):\n",
        "            answer.append(i+1)\n",
        "    return answer"
      ],
      "metadata": {
        "id": "DIU6aMCWYzNI"
      },
      "execution_count": null,
      "outputs": []
    },
    {
      "cell_type": "code",
      "source": [
        "def solution(answers):\n",
        "    pattern1 = [1,2,3,4,5]\n",
        "    pattern2 = [2,1,2,3,2,4,2,5]\n",
        "    pattern3 = [3,3,1,1,2,2,4,4,5,5]\n",
        "    score = [0, 0, 0]\n",
        "    result = []\n",
        "\n",
        "    for idx, answer in enumerate(answers):\n",
        "        if answer == pattern1[idx%len(pattern1)]:\n",
        "            score[0] += 1\n",
        "        if answer == pattern2[idx%len(pattern2)]:\n",
        "            score[1] += 1\n",
        "        if answer == pattern3[idx%len(pattern3)]:\n",
        "            score[2] += 1\n",
        "\n",
        "    for idx, s in enumerate(score):\n",
        "        if s == max(score):\n",
        "            result.append(idx+1)\n",
        "\n",
        "    return result\n"
      ],
      "metadata": {
        "id": "OYLnoTvJZJcq"
      },
      "execution_count": null,
      "outputs": []
    },
    {
      "cell_type": "markdown",
      "source": [
        "# 체육복"
      ],
      "metadata": {
        "id": "1NdO4LmAQzoA"
      }
    },
    {
      "cell_type": "code",
      "source": [
        "n = 3\n",
        "lost = [3]\n",
        "reserve = [1]"
      ],
      "metadata": {
        "id": "0mGJiP0-Q0-Y"
      },
      "execution_count": null,
      "outputs": []
    },
    {
      "cell_type": "code",
      "source": [
        "n = 5\n",
        "lost = [2,4]\n",
        "reserve = [3]\n",
        "res = 0 \n",
        "for i in range(len(reserve)):\n",
        "    if reserve[i] + 1 in lost:\n",
        "        lost.remove(reserve[i] + 1)\n",
        "        res = n - len(lost)\n",
        "res"
      ],
      "metadata": {
        "colab": {
          "base_uri": "https://localhost:8080/"
        },
        "id": "zTsY1OIRQ88I",
        "outputId": "8f1b7a10-bc21-408c-f8bd-91bb8dfe9471"
      },
      "execution_count": null,
      "outputs": [
        {
          "output_type": "execute_result",
          "data": {
            "text/plain": [
              "4"
            ]
          },
          "metadata": {},
          "execution_count": 3
        }
      ]
    },
    {
      "cell_type": "code",
      "source": [
        "    res = 0 \n",
        "    lost = set(lost)\n",
        "    reserve = set(reserve)\n",
        "    for i in reserve:\n",
        "        if i + 1 in lost:\n",
        "            lost.remove(i+1)\n",
        "    res = n - len(lost)"
      ],
      "metadata": {
        "id": "8fnugpHwVgWK"
      },
      "execution_count": null,
      "outputs": []
    },
    {
      "cell_type": "markdown",
      "source": [
        "![image.png](data:image/png;base64,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)"
      ],
      "metadata": {
        "id": "HTPdhsazSrwu"
      }
    },
    {
      "cell_type": "code",
      "source": [
        "n = 5\n",
        "lost = [2,4]\n",
        "reserve = [3]\n",
        "res = 0 \n",
        "\n",
        "lost = set(lost)\n",
        "reserve = set(reserve)\n",
        "\n",
        "for i in reserve:\n",
        "    if i + 1 in lost:\n",
        "        lost.remove(i+1)\n",
        "    elif i - 1 in lost:\n",
        "        lost.remove(i-1)\n",
        "print(n-len(lost))"
      ],
      "metadata": {
        "colab": {
          "base_uri": "https://localhost:8080/"
        },
        "id": "fCiAhoDhqfpm",
        "outputId": "1f36806b-3d3e-4da8-ce8e-6b88d5a8c2ee"
      },
      "execution_count": null,
      "outputs": [
        {
          "output_type": "stream",
          "name": "stdout",
          "text": [
            "4\n"
          ]
        }
      ]
    },
    {
      "cell_type": "markdown",
      "source": [
        "![image.png](data:image/png;base64,iVBORw0KGgoAAAANSUhEUgAAASMAAAHlCAYAAAC+kZqEAAAAAXNSR0IArs4c6QAAAARnQU1BAACxjwv8YQUAAAAJcEhZcwAADsMAAA7DAcdvqGQAAGCiSURBVHhe7b0LcBvXneb74Q0QACmS4tOiqIf1tCw5smwrTiw/rmwn1rjKcnajbNXYqXKsrXhdNYm3ksqsk0ruqJLU2MnESao0ye7EqYqdqmvdu4lT5bUntjTxa8bxQ1YsWfJDCiXRlARSfIkEQLyB+z9AN9lsdgMNoAE2xf+v6kjoc053owH0h+9083ywrb3hzhxK0LR6I+J9HyAhLefxb8TKznM40zcpVejQsRGdkQ8wGJWW0YjO1Y0Y7DsnLUt0XI+VeBtnhqTlsqBt3vQZrPRLi9F+HDkZQDdt70JgI7z03Ceo2rP6Fmxd4yv00WDwL/+a37/RfgzDmIchMRLCs+mmXgSlxTzihH9dJVBGIeH59KdapQWJwffx5/dUAsUwzKLBmBgxDMPUGLv0P8MwzLzCYsQwjCVgMWIYxhKwGDEMYwlYjBiGsQQsRgzDWIKSt/YnRkalRwzDMLXDkBj5vPp/jcwwDGMGPExjGMYSsBgxDGMJFv0w7cpNW6RHwF+PH80vK/8vhpE+AuU+lBhZtxr8jU2IToopwuZw9u7XpEezWfHcDulRAa1+ch/Rpu7PMIJFLUZaYmK2GBnpYwhHI5auXIklU2fx1wvGBcYsQapWROT1K9pO8y8wfGUIS9/ZB5tUBWxH8urvYrTbnV9q+GA/mgaezT8uSvBxjG3fioTY0NQpLH3rIbhShSagC+mVtK9NbjS+fBf8Eam6nrgeQfgzuxARh0XP0dhxief9U4yubUWOzuac8riWPI7RT21FkrYnDtkx9Bpaj+6DPfctTNy9C1Hadvd7T1DLg4jcfj9G0kfQ8/KfEb/1YYy7k3BmaXs0fnJdeB6t7z8x8/p7abvXubHk9a/DIVVVCw/TKkQpWqUQfbSKYWxeNPWugN+ekSrmByEkWqW27EJsYy98HyuFiE6QZY9gaMlJtL+0E11/ehOZzV9GzCM16nI/Itdvh+PYQ+h66T60ja/ByPqHpTbaZufjGFkTkJbmgy4kNu9GLPQv9PzouA4+D2w0cFyBb2FsHenOn3aik46rfahLcVyj8L9Nx/uiaPtHBHw7Mb5ip9QWgdO/CUnxwjZfi0Q2WaiWCB6ldQ7S83jpWXg6SbiapQZB/AkEw5swuWyrVFE9LEYVIIREdjtGBEn00SqGsdOncewkLoxOf4UbRrgi4Y7MQDgarVJTArcj7D4Jnyo2K9XWBe/gq/RmHEDEtx/+iy2ItZc4MfxbEfP1wzd0Lyav2wvHJ8fh6NyEdL6xCxnfKJpfPoiG/LLMHkRvfQGjNxzCuTsPYPLaFzD4+UOY6JD2JZzMLYcQuuMQBu88hKGNM+JWPjuQbgQ8EwcKi9n/A894C+JLuwrLegRaMZUIwZn/eITI/YRgb1tTOK5Lj8EbPSUekdoegmsyiYxLju8ZRSAUQJxey2RPLzyhkFSvwtmKtCMJ26yPXwju8/2I9X4JZJ5MYdGLkdKllBIVua9aSMSycjumk5nAxKW4tFA+ZgiSEB0tVySKHnptxdZRk21bgcQlOsGk5QI7kSHFcIefpZO3CykRtEVnRNq3ptCsR0MQqegoHIEuxIMtyIgLFN4ACn6TTuYzX4dHU+/D8L+7E+0XaV9jP0Hn4X5El92eb8msuB3RkWfzTqbzRXJbfe/m6yvjNbjGyXQslQTN818QayHh9ZcQfHp9An4SFI8QLRKh7l7E/K3ScSlwfRfhniT8FySxIxwX+pHq+T7izf3wjkmVEuPXSe/x53Yg9/Ezc4etIyTsLfSaSIvVsujFSOlSSrkVZV81em2iThYqdVloKJ2Q/FheLody1sm53PBEz0pL8wW5ArIZjigNa2KHgFgYTqnFQUKAnl0Y2/g4OYwdsCXflFoqgdzGiQMkLLsQ+vxrGLy+F+6h2UMnTWjI1PKXJKI3H8D5O3+GyWxodhCiwEYO70YS8b7fzBaV+KvwNaxBPPTK9DHJNL8jvcfPPwX3ivsxSQ5qFrkECQi5JpNGtjxMqwOyUKlLvaj2IrbsgOSiV6eHaK9EtKZRXizKcwiOKZKI4G64xsjRxKiKPsnOmDQc0WMqDJdwDJFT8IUjsIvtxiPVXYAd/go5on1oCkXIJX0Z5298vLphS4qGnG/dha5/3YHO1/fD4SYxlodtutCw7Px9WPrSDlzx4l1oGU4iNTk6Iy4kRFOffRhTof1Yekq9refR8OfvoO2vRfaRfQreC0lyT1rvYRiOyk37LFiMLnPMuJtWzAEVa5OpRogcE6NILLka6lu+ruEQ4p03I3d2D4LhhxFtH4Pv4hGplXB+C5O3voBJ+dqOIHoEvhgNYTpeQvCd/cgu34TM4PE5jqAccp5dyOXehGN8H/zvH4c3SE5BahPkOp7ExVufRtwrVZTCuR05WXwb92JSDJ+UM7K0jgtXkYOUhqi2nYhfeRXsoT8XRNa2G/Hr9iI6tB9tJ3UEJ/0abMUUlLaZagnAkVJNDRNDw/gYnMoDrgL+OyPFcEm4FbGs/F+JkaGVcp1y++vi7sCytZ1Qfp4nzh7FsIFbz7W+ta9Vr+eURL+yXZLtEUzesR3uf9sD76wPfYlb+57vY2znDuRO7EPrWRpayRS5tZ+49jWEuguP80Tk29x/A+fL98G59gVEJu9CU+SnuLguhPZ3HyNBO4CLG1rz16xy9iQCf9mH4MWZoZpov7Cli8RvB5oGpcpi+B/H6Ge2IgU3MrkQmt/6DhomFY5P57iSVx/CGI2icg43nOeeRevxJ2AXZ3bn0zi7rRfehGK4N/g8Ot93Y+LuTfA+dx+mb9aJvhtGtW/tD72GlqPiTwKkvkR21R8w7P09Oj54SqqpDp6bpqKYGC00zBIiGS2RKdf1lC1GRIZE4BINX1rPPC/VLCzSV/0B8YF7ECjxQzoLi/sRue1eON64Bz6ThmksRoz1oaFGqiMI5+BTcy8fWZqrkFnx9xhfchyt7z22wJ57CTwPItEQgmfcvC8IFiOGqSXOrWSNFNeyGF34AjbD1BIWIsOwGDEMYwlYjBiGsQQsRgzDWAIWI4ZhLAGLEcMwloDFiGEYS8BixDCMJeC5aYr5Y8ppIEamgxidMqLch5JaTzepx3QQgZG5aXKfSqaDMIuDRS1GWmJithgZ6VMcJ3ydq9C+xJ2fjGnPRTF27hNMxIxF0NZ6oqxR5PUr2s5iysAW2PYgtn0vhrzH0fOyImNa1F+/F5eWiIUIgu/8IwJjJfKTOAP78kcpWqUQfbSKUXLRCxj4+Dj6Tx7HmXNJLFnRPWsGf70QQqJVastiysAWbEdi615MzElHA9Ib9mI8+Xw+z7rr7RCi1+01kLLIGdiXNUJIZLdjRJBEH61ijDTi4Qiysn9NxBB3OAxPuhSuSLgjMxCORqvUlEWVgU3YepENH0THMXUe9W4k29zwX3gCyWsO0GfiFQRSvUgoBUILzsBeOChdSilRkfuqhUQsK7dTS1zNbfCPjaOc1AYzBEmIjpYrEkUPvbZi66hZXBnYRO4AfCe1Zvh30/GRk4nuQao5SMJJVTk3MiXdoALOwLY2SpdSyq0o+6rRaxN1slCpS7nYAyvQ3RpDaGhiTvJhPVA6IfmxvFwO5ayzuDKwawhnYDMCWajUpRzsgeXo6QYu9n0Cg9eup6n2IrbsgOSiV6eHaK9EtKaZYxMu4wxsXS7Q8QWQ9h+AayQMu7i8Y0vCkSi0FoUzsBmzsPu60d1tJyE6W3chEhRzQMXaZKoRokWXga3Ls3APJxHtfgTu9/eQm7kFEVc/PONSM1HY15NIKg+IM7AXDsrhknArYln5vxIjQyvlOuX218aLplXrsNSdRnr6AxPH+Jk+TBoYrNf61r5WvZ5TEv3KdkmLLQMbhVvuCo1Bw8f70S6EpMSt/fy+NnvQevAe+GTHxBnYC5diYrTQMEuIZLREplzXU7YYEZyBbUU4A5tZjHAGtvXgDGyGWWBwBrZh+AI2w9QSFiLDsBgxDGMJWIwYhrEELEYMw1gCFiOGYSwBixHDMJaAxYhhGEvAYsQwjCXguWmK+WPKaSBGpoMYnTKi3IeSWk83MXs6yHPOSdydbpSWCujVaSH6afVnGMGidkaymMilFqj3oSxG8bStQ+/aq/Jl5fp1WBosTA4thRAiIUhmoic0SoTYqEs1+G1JPGVPY720LHOffQq/c0Tz5We2HPxSfTH8SOGfHRFaR5Qkdkv1MrfbYvidcwrfk5bnhyy+YY/gOUcKN0s1BUR94Xh/54jhB2XML5l7XBn8jN7L39kz0uuWxQ8ck9I+c/he/rG8rwi9/hnV65/Cr+Y8v+rgYVqFyCKj53qUiD5axSiJkZPoP3kiX86cGoVz+RUI1Pmdkx2NKEYESe5jpG9xcniIhGgg58RHUo2gxxbHF20u/FPGjy9kPPA74nhIatMni0cdCaSyAVongN/mUvhb+0x2xnra5lcVy/PFA/YYPq0hNLtEPbx4kI75/qwDq+1JfFFqK4b+cTmRsqVxr3hI/3eokp1OZ8VrK0oDBmgb9816Ti68mktgj4kT7liMKkAIiexsjAiS7ITUxTA5xUja6YQznUa66OB6BjPckSxEMkYFyRzS2EYf/JdUx3s7uaXxrJNOojg5BCcOZ1N00kmNumRIxFw4miNXQAJ3OOvOn4yyO+qhk/H5jBfnpOUCwiVM4VfkSJ4jwfuZcGNO4cSkZtrmj/Iuq+AgnqlazLJoIcH5tji2WeSw2ZbBuZwDu+0kDCTOH5I72WJADLSPS2DH0WyWtgsS9jSGaNvaZNEMG5Kq9+DpnAsd9hQ2S8vVsujFSOlSSomK3FctJGJZuZ1a4GpdV9jHqgDCZ88hblCMBNUKktYwS6uuFJUI2GY6Sfw5O16Vlgvk0EIn0DidIOtJlEQmvUjrCdBQrSi2bH5bfXRydVDf/LCD6uRM+4N0cv1aejwbO46RS3g2l6T1feQUnFhGwiC40ZbAqlwD7s87iAB+mK32lLLjx+R6lC6wgBApJ8boi6mHnnNHPgMgAyOJr/rHBRIgJ5rpGK4jQX9D9fKtEkM1es+ecybgznrxc6l+GhKvIXodtkmL1bLoxUjpUkq5FWVfNXptok4WKnUph9Tox4V9nI4guHrFvAzTtEo5olSJgDWTaEQt8DEVsdF9JAZRIQIkaHKu3VGRE0lO5UfkEL5KIqEMRVsYONFHYtRDgqUOAzmdka/5+TBEjvDROS7MRq9DlpyXOSx6MaoHslCpS0UkLiEcb4Rv9u/pFMWMu2qFD+XcIgSp9qgdj40cAgkV1R/OuUkgAHFJP5Kbc7bMhkQkSoKxmj72A7T+kFRXjYBEaf9fSDfgt7TvDlsM/+xImeYUZmPHGA1ZW2w2fCiOI/+aOPIiWR02/DwTxKPZYq+dHa/QPns0nWd1r58SFiPLY4PDrbh+4GiA1xdDwmC6npm399WuSBQhSLXkVRoK+DW+fQ+SCDTb0wjkvPhmLo1tdhc+mnWuiGs5U/jRrHPMQSIkrrM48M2sK38B2EXDFAO/Q6tLD4mCeG5v0Hb+IeumEzOLVYWmPD3kOp5xxPFVablybDhGr4UYHh6kIdMvaPi6AeL6l9RMFPaVwAPSslGE2zstPdYmhy0khJE5WkRDXBKpAWmpWvjvjBTDJeFWxLLyfyVGhlbKdcrtr40TgSvWoS1oQzZL3x50AoXPn8VIePavf+phlhiVIzyirxaykypPwISopNCX8eKXUo2MuLV/j/RtfS7bgEfJnQiXVCCNXzmnaPUgHlQ4JnFr/0d0wnbkl9z4bcY9LUYP2CexW/n1nPPhxxknbqH+A7T/PtrfvbkGfI0E7Rm7HV/KOrDZFsf3SBSFWIhymp7HNxVn1GZySz+g5y+GPF8reqbJiFvu0VmCFs0GaV9i++LWvnynzY6Psj58e86+SMBpWPVjqU6gfVx23OtM4WjaO3M9iY7lObtDOuYwOTxH/lqcEKMoif4vs068kV8usI329w2bh56bOZ6Gkx5VFBOjhYaZrkhQTGRKIYtQ+WIE3EwicB+dQEpRWUjsJgHZRs9fKRwLH/F3SQmMZ2YLXzWwGDELgBy+SA7oGA0J5t5lsjY3k9v4is2FH2reIVvIZPGAzYZfm/gFwWLEMDVE/rODmeEjowdfwGaYGiLuNLEQGYPFiGEYS8BixDCMJWAxYhjGErAYMQxjCViMGIaxBCxGDMNYAhYjhmEsAc9NU8wfU04DMTIdxOiUEeU+lNR6uonZ00HO3v2a9Gg2K57bIT0qoNVP7iPa1P0ZRrCoxUhLTMwWIyN9DOPuwLI1ncDgxzg3amzavlmCVK2IyOtXtJ3mX2D4yhCWvrMvPx21wHYkr/4uRrsLeeANH+xH04CB+ffBxzG2fSsSYkNTp7D0rYfgksOJ0IX0StrXJjcaX74L/urzOSrDtgex7Xsx5D2Onpe/jun8RVF//V5cWiIWIgi+848IjL2Zb9JlyeMY/dRWJOllEofsGHoNrUf3wZ77Fibu3oUovWbd7z1BLQ8icvv9GEkfoX3+GfFbH8a4OwlnFiJlBa4Lz6P1/SdmXn8vbfc6N5a8rnh+VcLDtApRilYpRB+tUhY2L5o6fUiGpeV5QAiJVqktuxDb2Avfx0ohohNk2SMYWnIS7S/tRNef3kRm85cR80iNutyPyPXb4Tj2ELpeug9t42swsv5hqY222fk4RtYYyU6sJduR2LoXE0FpUUF6w16MJ59H14t0zG+HEL1u73TImz6j8L9Nx0vrdL5E4uXbifEVO6W2CJz+TUiKF7b5WiSys5MggkdpnYO0r5eehaeThEuOxBTEn0AwvAmTy7ZKFdXDYlQBQkhkt2NEkEQfrVIOrpbl8E4MICzSKspAuCLhjsxAOBqtUlMCtyPsPgmfKjAg1dYF7+Cr9GYcQMS3H/6LLYi1lzgx/FsR8/XDN3QvJulEdnxyHI7OTSi8pF3I+EbR/PJBzM6t24PorS9g9IZDOHfnAUxe+wIGP38IEx3SvlyPIHzLIYTuOITBOw9haOOMuFWErRfZ8EF0HAtJFTK7kWxzw3/hCSSvOYB4+BUEUr1IKAVCi0uPwRs9VXicOwTXZBIZV2thmYQqEAogTq9lsqcXnpB6nxLOVqQdSdhmKV8I7vP9iPV+CWb9hMGiFyOlSyklKnJftZCIZeV2TIeGZ+3+MYxMFHKXy8UMQRKio+WKRNFDr63YOmqybSuQuBRSDQV2IkOK4Q4/i3RjF1LCRdAZkfatKTTr0RBEKjoKR6AL8WALMuIChTeAwqsagvPM1+HRtBph+N/difaLtK+xn6DzcD+iy27Pt2RW3I7oyLPkHshFvEhuq+/dfH3F5A7Ad/KxWS6wQDcdHzmZ6B6kmoMknFSVcyNT0g0qcH0X4Z4kCdoBqYKGbRf6ker5PuLN/fCOSZUS49dJ7/HndiD38TNzh60jJOwt9JpIi9Wy6MVI6VJKuRVlXzV6baJOFip1MQYNz7qbEBkckU6a+UPphOTH8nI5lLNOzuWGJ3pWWpovyBWQfXJESQxih4BYWCRf53GQUKJnF8Y2Pk4OYwdsyRLXcOYLGzm8G0nE+34zW1Tir8LXsAbx0CvTxyTT/I70Hj//FNwr7sckOahZ5BIkIOSaTBrZ8jCtDshCpS6GcDchGPChbW1BwK5oIXnqWodlrV6pQ2mqvYgtOyC56NXpIdorEa1p5tiEQ3BMkUQEd8M1Ro4mRlX0SXbGpOGIHlNhuPytyEROwReOwC62G49UdwF2+CvkiPahKRQhl/RlnL/xcdOGLbO5QMcXQNp/AK6RMOzi8o4tCUei0FoUEqKpzz6MqdB+LD0144oKPI+GP38HbX9V1yvIPgXvhSS5J633MAyHwQjkUrAYWZ3kEM4pBOw8Wel4qL5304o5oGJtMtUIkWNiFIklV+fj55W4hkOId96M3Nk9CIYfRrR9DL6LR6RWwvktTN76AiblazuC6BH4Yr2IdbyE4Dv7kV2+CZnB43McQTnkPLuQy70Jx/g++N8/Dm+QnILUJsh1PImLtz6NuPHvDh2ehXs4iWj3I3C/v4fczC2IuPrhUaThF/b1JJLKA7LtRvy6vYgO7UfbSR3BSb8mfrFJH9tOpFoCcKRGpQoJfxeS8TE4y7yOqQf/nZFiuCROdrGs/F+JkaGVcp1y+xvB170FrQnr3NrXqtdzSqJf2S7J9ggm79gO97/tgXfWh77ErX3P9zG2cwdyJ/ah9SwNrWSK3NpPXPsaQt2Fx3ki8m3uv4Hz5fvgXPsCIpN3oSnyU1xcF0L7u4+RoB3AxQ2t+WtWObIrgb/sQ/DizFBNtF/Y0kXitwNNg1JlUQq33JW/uNHw8X60CyEpcWs/v6/NHrQevAc+2TF1Po2z23rhTSjulA0+j8733bSfTfA+dx+mLzuJvhtGtW/tD72GlqPiTwKkvkR21R8w7P09Oj54SqqpDk56VFFMjBYaZgmRjJbIlOt6yhYjIkMicCm1H61n1L/stTBIX/UHxAfuQaAev+pUN+5H5LZ74XiDhM+kYRqLEWN9aKiR6gjCOfiUxl0mK3MVMiv+HuNLjqP1Pa07ZAsYz4NINIRomGjeFwSLEcPUEudWskaKa1mMLnwBm2FqCQuRYViMGIaxBCxGDMNYAhYjhmEsAYsRwzCWgMWIYRhLwGLEMIwlYDFiGMYS8Nw0xfwx5TQQI9NBjE4ZUe5DSa2nm9RjOojAyNw0uU8l00GYxcGiFiMtMTFbjIz0KYWrdR2WtzuRlgONJgbQP2RsolOtJ8oaRV6/ou1wBnYBzsBmtFCKVilEH61SDomLfeg/eaJQDAqR2Qgh0Sq1hTOwZTgDm5mDEBLZ7RgRJNFHq9QD4YqEOzID4Wi0Sk3hDGwJzsC+7FG6lFKiIvdVC4lYVm6nFnja12L1VZvRu3IFgh6lRyiNGYIkREfLFYmih15bsXXUcAa2DGdgX/YoXUopt6Lsq0avTdTJQqUuRklf6kPfh8fQd+IYBkaApauWwVueHpmC0gnJj+XlcihnHc7ANgnOwGYEslCpi1FymZmIw2x4HBFHAzwuqcIA1V7Elh2QXPTq9BDtlYjWNHOElzOwOQObmQdssDsUZ6MvAB99IyUNemMz7qYVc0DF2mSqESLOwJbhDGz+OyMFRoZWynXK7a+NG409a9HqzyGbJWHKRjF2/hNMxIz9cFGtb+1r1es5JdGvbJfEGdicgS2z2JIei4nRQsMsIZLREplyXU/ZYkRwBrYV4QxsZjHCGdjWgzOwGWaBwRnYhuEL2AxTS1iIDMNixDCMJWAxYhjGErAYMQxjCViMGIaxBCxGDMNYAhYjhmEsAYsRwzCWgOemKeaPKaeBGJkOYnTKiHIfSmo93aQe00EERuamyX0qmQ7CLA4WtRhpiYnZYmSkT2kc8LavRleLG9ks2dnEID7pH5FCwYpT64myRpHXr2g7nIFdoJIMbM/3Mb5je+F4qdguHUfLka/TMXMG9mWDUrRKIfpoFaM4lqzEFb5xfPLxcfSfPI4zn4waEiKzEUKiVWoLZ2DLVJSBnfwNmg+J/GuRRPkQWqY2YWzN/VIjZ2AveISQyG7HiCCJPlrFGE40NHkxMTxciEkV5Iqa2VkIVyTckRkIR6NVagpnYEtUmIGdO0VFekzbznhFCJ2cS8QZ2JZC6VJKiYrcVy0kYlm5HXPxwOnJwN64Ess3bMHq9WvRTuJUDmYIkhAdLVckih56bcXWUcMZ2DLVZGCLIRm9V3/zXVxKH0SLIoqFM7AthNKllHIryr5q9NpEnSxU6mIMGxwON7zZi/jkw6PoOzVMn8teNBUuldQVpROSH8vL5VDOOpyBbQaPoUm8V/9nH5rtt+PiRnmYRnAG9uJCFip1MUYaqQR9/qeihcXMJGJRL9xliFG1F7FlByQXvTo9RHslojXNHJvAGdhlZWDL5A7Bcz6EGA0xZ645cgY2Y5g4YpNJeDzS0Mzmh9efRMqgNzbjbloxB1SsTaYaIeIMbJkKM7C9u5GZPsvXILW0C+7x/tkCzBnY1kA5XBJuRSwr/1diZGilXKfc/rrYvAguW42l/sLi1GAfhi4Z+zqq9a19rXo9pyT6le2SOAO7ugzsll/g4rY1eSdko2OefWufM7AtTTExWmiYJUQyWiJTruspW4wIzsC2IpyBzSxGOAPbenAGNsMsMDgD2zB8AZthagkLkWFYjBiGsQQsRgzDWAIWI4ZhLAGLEcMwloDFiGEYS8BixDCMJWAxYhjGEvDcNMX8MeU0ECPTQYxOGVHuQ0mtp5uYPR3kOeck7k43SksF9Oq0EP20+jOMYFGLkZaYmC1GRvoUx43GnjVonn4LbHC6kxj5+CQmDMzcN1OQZJFRiolRcZH7VSJGflsSv7DZ8cOsEx9JdYL77FO4x1b4+J7LNuDRnA1S0IoufqTwI0cCHfklN36bcaMwvTaNf56uzyGV8+BA1iW11ZssvkHHdrPNgx9nXHhVqi3Ux/Dp/LwSOz7K+vDtomcvYUvhV/YEmvOTUXKI5rz4Jb2ObyCDnzmjWJb14/6sg163LH7giGAzfLRPJ25xhLENDhSCaMV6Pnr9HYrXn7brAJ6e9fyqg4dpFaIUrVKIPlrFGElMDpxA/0mpnJtALjKOiFnxegaRRUQWlFLIfYz0LU4OD9nTGMjNFqIeWxxftLnwTxk/vpDxwO+I4yGpTZ8sHiXBSWUDtE4Av82l8Ld2OTvDiW/ntyVKAL+n133PdFt9eWBacGazS9TDiwfpOQoBWW1P4otSmz52HKbjKRyXH8cwhQckARfHnLKlca94SP93qJKdTpNQFdZrwAC93vfNek4kQrkE9pg44Y7FqAKEkMhux4ggiT5apRK85HQSE+OGA/mFKxLuqBrUbsaoIJlDmr6hXXhJ5QBuJ7c0Tt/woJPkBzYnDmdTWF/yxMiQiLlwNEeugATucNadPxl3S60zsR05tFCJkNMSj7/nmCJ3EcVzJHg/I8fyO3IUP5veV4acVgS/c0SpRPBM1QKWpX178W1xbLPIYbMtg3M5B3bbSRhInD8kd7Kl1DFT/19KD4Wr7iPBCUyvY8fRbJa2CxL2NIaorzbZvLNKqt6Dp3MudNhT5KbMYdGLkdKllBIVua9aSMSycjs1w96MppYoJibKS7OqVpC0hlVadaWoRMA200niz9lVQwESCzqBxukEWU+iJDLpxXAiMP2Nr4Mtm99WH51cHdR3vVQ3k2kvhi6T9DzDuJ2GKz/Mi5HAjmPkEp7NJWl9HzkFJ5aRMAhutCWwKteA+yVH9cNstaeUHT+eNRySESLlxFguR4JKzz8/7MqgvMTXNIm4DR9mp9WIBMiJZjqG60jQ31C9fKsc4rUQJQF31oufS/XTkHgN0euwTVqslkUvRkqXUsqtKPuq0WsTdbJQqUu5OJraELg0hsg8jB4KH8q5pRxRqkTAmkk0onX7mDrwNXqOd6eDOIgYfqhwOSKLvo/EICpEgARNHiUfFTmR5FR+RA7hqyQSylA0a5ElhxdDgETlx1JNASf6SIx6yOWow0BOZwrD8rvTPgyRI3x0RsMkbPQ6ZNEjLVULD9PqgCxU6lIePgRb3Zi4VP7FaDMuYhc+lHOLEKTao3Y8NnIIJFRUfzjnzl+0FnmPhWFVEUhEoiQYq+ljP0DrD0l1cwXEhl+SY/DTt/7NUo0eUdr/F9IN+C3tu8MWwz87UqY5hdnYMUbOpkU4G3Ec+dfEkRfJ0mTxP2gYuTrnx0P5dZXY8PNMEI8q3NJc7HiF1uvRdJ5ar19lsBgtFLw0RKOP4+SUtGwQs++mqYsQpFryKg0F/BrfvgdJBJrtaQRyXnwzl8Y2uwsfzTpXxLWcKfxo1jnmIBES11kc+GbWlb8A7CLRKdwxy80Snt0kREk6AQ9Ly3r00Hriub1B2/mHrJtOzCxWFZry9JDreMYRx1el5cqx4Ri9FmJ4eJDczS9o+LoB4vqX1EwU9pXAA9JygRz+zh7DBiFENITUutso3N5p6bE2OWwhIYzM0SIa4tJrNCAtVQv/nZFiuCTcilhW/q/EyNBKuU65/Yvh7dyE9nQfPhkRP4VhHLPEqBzhEX21kJ1UeQImRCWFvoxXcSG2QPFb+2n8yknKTd/6Dyock+6tfVsSzwhxohNTnHwzt/bFBewEBmj/fbS/e3MN+BoJ2jN2O76UdWCzLY7vkSgKsRDlND2PbyrOqM3kln5Az18Meb5W9EyTKdxyVwpaNBukfYntF7+1X9gXCTgNq6aHYvT8nqP9C2GdhgT8CzQC/ZkzhaNpL34tVef72h06t/blPwmYYRvt7xs2Dz03czwNJz2qKCZGCw0zXZGgmMiUQhah8sUIuJlE4L6cb5aoLCR2k4Bso+df8m+CFhTi75ISGM8ohK9KWIyYBUAOXyQHdIy+3efeZbI2N5Pb+IrNpfqDwcuBLB6w2fBrE78gWIwYpobIf3ZQ6i/DGb6AzTA1RdxpYiEyBosRwzCWgMWIYRhLwGLEMIwlYDFiGMYSsBgxDGMJWIwYhrEELEYMw1gCnpummD+mnAZiZDqI0Skjyn0oqfV0E7Ong5y9+zXp0WxWPLdDelRAq5/cR7Sp+zOMYFGLkZaYmC1GRvqUxL0UHcs70WCnt4q87NRgH4YuxaXG4pglSNWKiLx+Rdtp/gWGrwxh6Tv78tNRC2xH8urvYrRbhIcADR/sR9OAgcTq4OMY274VCbGhqVNY+tZDcE1H+HYhvZL2tcmNxpfvgt9YPof52PYgtn0vhrzH0fPy1zGdvyjqr9+LS0vEQgTBd/4RgbE3kVn7AgbWJdF+8B400Mci13MA/dd0ofmdHWjC0zi7rRfeRJLWp7bMKJa8/XX4wqH8JsUxJzc/idjQd9A0dESqmx94mFYhStEqheijVYxhQ6DjCtiGP8SZkydw5lQItmXL0eSSmuuIEBKtUlt2IbaxF76PlUJEJ9WyRzC05CTaX9qJrj/RCbn5y4h5pEZd7kfk+u1wHHsIXS/dh7bxNRhZ/7DURtvsfBwja8rLTjSf7Uhs3YuJoLSoIL1hL8aTz6PrRTrmt0OIXrd3OuStIeJGrHsXPSKh7WqFT/ldFT2CtoM70UmvVecpD4Y2PowZBxKC++RxpDbtRXn5oebDYlQBQkhkt2NEkEQfrWKMHFKJDJxOWX3oLculkDEYgi1ckXBHZiAcjVapKYHbEXafhE8VGJBq64J38FV6Mw4g4tsP/8UWxNq3Sq06+Lci5uuHb+heTNKJ7PjkOBydm6STsAsZ3yiaXz6IhvyyzB5Eb30Bozccwrk7D2Dy2hcw+PlDmOiQ9uV6BOFbDiF0xyEM3nkof6JXha0X2fBBdByTnYvMbiTb3PBfeALJaw4gHn4FgVQvEnJm7oXjcLXfjKznS4jiFPyayiKO0Q1HOjxL2BF/Cf74VZhqk5bniUUvRkqXUkpU5L5qIRHLyu2YTWK4DxMNqwv7WNuC+OmzZUXPmiFIQnS0XJEoeui1FVtHTbZtBRKXQjNDlTw7kSHFcIefRbqxCynhIuj1SPvWFJr1aAgiFR2FI9CFeLAFGWEPvAEUdD0E55mvw6P5qyth+N/difaLtK+xn6DzcD+iy27Pt2RW3I7oyLPktMh1vEhuq+/dfH3F5A7Ad/Kx2WKRp5uOLwJndA9SzUESFarKuZGR3WDuXXjjaxFZtxb2C+/OXj+wFQP59+oAhq4IkdA9JjXIHIJrJIJ48x5peX5Y9GKkdCml3Iqyrxq9NlEnC5W6GMMGX9dqNE31FfZxchju5asRVP94RB1QOiH5sbxcDuWsk3O54YmelZbmi6T4JR84oiQGsUNALCySr/M4SCjRswtjGx9HvG0HbMk3pZb6474wisjyMBrOh6UaicgR9OTfqz3oOhnA6PWPC+2ehciomwqukJbmBx6m1QFZqNTFGEEEmlMIh6WLAJlJxGJ+eL2FRSNUexFb6YJkV6NVp4dor0S0ppljEw7BMUUSEdwN1xg5GhF+SZ9kZ+xUoVmPqTBc/lZkIqfgC0dgF9uNR1Suq0yGv0KOaB+aQhFySV/G+RvnnujmcIGOL4C0/wC5mDDsIpfEloQjUWjNc/EfyaE9AY/uLakQ7OdPwNtCDk+qUeKNj0qP5gcWI8szReeLF16f9F3saITPn0RKczgxFzPuphVzQMXaZKoRIsfEKBJLrlZccC3gGg4h3nkzcmf3IBh+GNH2MfguKu4GOb+FyVtfwKR8bUcQPQJfrBexjpcQfGc/sss3ITN4fNrlVELOswu53JtwjO+D//3j8AZbZ10IznU8iYu3Po14GV8e2jwL93AS0e5H4H5/D3wNtyDi6odnVhr+KdKnEnfEWnuRSJHTkxZlMv4A3JPzezeN/85IMVwSbkUsK/9XYmRopVyn3P66WPjWvla9nlMS/cp2SbZHMHnHdrj/bQ+8sy7Klri17/k+xnbuQO7EPrSepaGVTJFb+4lrX0Oou/A4jxjevPxnxG/9Gzhfvg/OtS8gMnkXmiI/xcV1IbS/+xgJ2gFc3NCav2aVI7sS+Ms+BC/ODNVE+4UtXSR+O9A0KFUW5VuYuHvXrF/caPh4P9pPHqDXQv/W/ih+U+iTR1x0fxjpD7Vv7Tf+5Qn4ab1pdF/j+sJJjyqKidFCwywhktESmXJdT9liRIiT7VJqP1rPqH/Za2GQvuoPiA/cg0A9ftWpAnLLDmCo5TV0Htsv1cwPLEaM9bHtRqojCOfgU3MvH1maq5BZ8fcYX3Icre9p3SGzAvQc2+4Axp+AYx5dkYDFiGFqiXMrWaP5vRazUOAL2AxTS1iIDMNixDCMJWAxYhjGErAYMQxjCViMGIaxBCxGDMNYAhYjhmEsAYsRwzCWgOemKeaPKaeBGJkOYnTKiHIfSmo93aQe00EERuamyX0qmQ7CLA4WtRhpiYnZYmSkT0nERNneTjSI0Bl7AuP9Z3ApZizqsdYTZY0ir1/RduqUgZ1rfxIjn+rNh63ZRt5E25HvQMxNrjtlZmCXRivbuzAhN0qvWfd7T9Dyg4jcfj9G0vLk4Icx7k7CmZ8ADLguPI/W95+Yef29j2P0OjeWvK54flXCw7QKUYpWKUQfrWIML5qWdSI3KGVg94XhX96JknHPNUAIiVapLXXKwHZ+F5eub4X/3+9D54vfQZNzB8Z7dxba6kplGdjF0M/2jsDp34SkeGGbr0UiK0KSZgge3YnOg7Svl56Fp5OES464FcSfQDC8CZPLSkT9lgGLUQUIIZHdjhFBEn20ijE8cDekkEhITig1iWimEb6CISiJcEXCHZmBcDRapabUKwO7dQ0i4bP0an8L4xvXwnsuhHDHLcgtlAxsXfSyvQWjCIQCiNNrmezphSek3qeEsxVpRxK2WcoXgvt8P2K9XzItTG7Ri5HSpZQSFbmvWkjEsnI75hJFQhmu5mlCwOuGy6AYCcwQJCE6Wq5IFD302oqto6ZeGdhZastEaD/BVkz4VwAZcgkNAelEWwAZ2LoUy/YGHBf6ker5PuLN/fCOSZUS49dJ7/HndiD38TNzf7pphIRdJzWyEha9GCldSim3ouyrRq9N1MlCpS7GSGPy/CfItKzDqg2b0NOeQ2yecnGUTkh+LC+XQznrcAZ2jYm/Cl/DGsRDr8xJvBS/u5Z/j59/Cu4V92OSHNQscgkSEHJNJv26Ew/T6oAsVOpimNQ4Rs6cwOkPj2NgIIKsN4akMvu4BNVexJYdkFz06vQQ7ZWI1jRzbIL5Gdh2ahOOKTMeQpPIgnaQ9ZyiPvkVi2ClDOyKeB4Nf/4O2v4qp0RqkH0K3gtJck9a7yG9bsZCR0vCYrQAsDlmBin2YBua0xOYMuiNzbibVswBFWuTqUaI6paBPXoKgSANCZ1PoPn9dxFf1oXg0Csaw6XZWCkDu7CvJ5EsN9Q7/RpsxRTUthOplgAcKVVgv78LyfgYnCaFsvHfGSmGS8KtiGXl/0qMDK2U65TbX5eGK9C7bAkpkQOO5ChC/edh8M5+zW/ta9XrOSXRr2yXVMcMbO1b++ICtrUzsGXy+9rsQevBe+BTOCbtbO8QIndvgve5+2buzHY+jbMbRrVv7Q+9hpaj+2b9qUN21R8w7P09Oj54SqqpDk56VFFMjBYaZgmRjJbIlOt6yhYjgjOwrcj9iNx2LxxvkPCZNExjMWKsD2dgWw/Pg0g0hGiYaN4XBIsRw9QSzsA2DF/AZphawkJkGBYjhmEsAYsRwzCWgMWIYRhLwGLEMIwlYDFiGMYSsBgxDGMJWIwYhrEEi+KPHpVzxJRTPYxM+TA6LUS5DyXzOaWkHtNBBEbmpsl9KpkOwiwOLnsx0hITs8XISB9D2LwI9lyJDucw+k8PzYRWifplq7HULxY4A7uA+RnY2lnR84CZGdhLHsfop7YiSS+TOGTH0GtozU945QzsBYVStEoh+mgV4zjg61qNFo2oCXfrSrSlB3DmoxM4c3YKjZyBbX4GNqGfFV1PzM7AHoX/bTpeWqfzJRIv306Mr5CzvTkDe0EghER2O0YESfTRKoaxueBMnMPABfXXsRu+RjfCk5Pwda5AIDmGycwSNBjMxxGuSLgjMxCORqvUlHplYOtmRS/wDOxLj8EblULncofgmkwi42otLHMGdv1RupRSoiL3VQuJWFZux3RycYRHJzTeWDdcnjiSKS/cDT44ndQ168z/bxQzBEmIjpYrEkUPvbZi66ipVwZ28azohZyBrcD1XYR7kiRoM6mOnIFdZ5QupZRbUfZVo9cm6mShUpfLCaUTkh/Ly+VQzjqcgW0SNnJ4N5KI9/1mtqhwBvblhyxU6lI9SaQS5IpccSQiMWToa9xmTyM9K/WwONVexJYdkFz06vQQ7ZWI1jRzbIL5GdgVsxAysEmIpj77MKZC+7H0lDrrmjOwGcMkEaNxfrCxEfGLZxF2taDRcQlTBj8AZtxNK+aAirXJVCNEdcvArhDLZ2DbdiN+3V5Eh/ajTUTXasEZ2PVDOVwSbkUsK/9XYmRopVyn3P76NKFt0wr6d4Z46GOcGyXVsfCtfa16Pack+pXtkuqYga2dFS1ucy/gDGyRa72tF96E4k7Z4PPofN9N++EM7HmnmBhdTpglRDJaIlOu6ylbjAjOwLYinIHNLEY4A9t6cAY2wywwOAPbMHwBm2FqCQuRYViMGIaxBCxGDMNYAhYjhmEsAYsRwzCWgMWIYRhLwGLEMIwlYDFiGMYS8Ny0EtNBjE4ZUe5DyXxONzF7OshzzkncnW6Ulgro1Wkh+mn1ZxjBZe+MZDGRSy1Q70NZykJMiF2+CVeu6oBLqprG0YilV27Bld3GQ9KEEAlBMhM9oVEixEZdqsFvS+IpexrrpWWZ++xT+J0jmi8/s+WQn0dcAj9S+GdHhNYRJYndUr3M7bYYfuecwvek5fkhi2/YI3jOkcLNUk0BUV843t85YviBkfklthR+lT9WsU4k/zremG/I4Gf0Xv7OnpFetyx+4JiU9pnD9/KP5X2J9TKq119sV/38qoOHaUWQRUbP9SgRfbSKcfQzsIVINfWugJ8+EPOF7GhEMSJIch8jfYuTw0N0Ag3knPhIqhH02OL4os2Ff8r48YWMB35HHA9Jbfpk8agjgVQ2QOsE8NtcCn9rn8nOWE/b/Kpieb54wB7DpzWEZpeohxcP0jHfn3VgtT2JL0pt+thxmI71C/nXyY9jmMIDJNwFnEjZ0rhXPKT/O1TJTqezhXW+kGnAAL029816Ti68mktgj4kT7liMdBBCIjsbI4IkOyF1MYxuBjZh9wBjJ3FhtPyATzPckSxEMkYFyRzS2EYf/JdUFxNuJ7c0nnXS6xYnh+DE4WyKxERq1CVDIubC0Ry5AhK4w1l3/mSU3VEPnYzPZ7w4Jy0XEC5hCr8iR/IcCd7PhBtzCicmNdM2f6RwHs9ULWZZtJDgfFsc2yxy2GzL4FzOgd12EgYS5w/JnWwpdczU/5fSQ3qx0EfHGJhex46j2SxtFyTsaQxRX22yaKZ1k6r34OmcCx32FDZLy9WyKMRI6VJKiYrcVy0kYlm5HdPRzcAmMhOYuFR5TkO1gqQ1zNKqK0UlAraZThJ/zo5XpeUCObTQCTROJ8h6EiWRSS/SegLT3/g62LL5bfXRq9xBffPDDqqTM+0P0sn1a+nxbOw4Ri7h2VyS1veRU3BiGQmD4EZbAqtyDbg/7yAC+GG22lPKjh+T61G6wAJCpJwYy+VIUOn55zMAMigv8TVNIm7Dh9kZBRsiUWumY7iOBP0N1cu3SgzV6D17zpmAO+vFz6X6aUi8huh12CYtVsuiECOlSynlVpR91ei1iTpZqNTlcqHwoZxbyhGlSgSsmUQjaoGPqfCrfSQGUSECJGiyRz0qciLJqfyIHMJXSSSUoWjWIksOL4YAicqPpZoCTvSRGPWQEKvDQE5n5Gt+PgyRI3x0RsMkbPQ6ZMlRmgMP00xCFip1sQJm3FUrfCjnFiFItUfteGzkEEioqP5wzk0CIX5DhQQjN+dsmQ2JSJQEYzV97Ado/SGprhoBidL+v5BuwG9p3x22GP7ZkTLNKczGjjFyNi3C2YjjyL8mjrxIliaL/0HDyNU5Px7Kr6vEhp9ngnhU4ZbmYscrtF6PpvOs7vVTwmJ0mWPm7X21KxJFCFIteZWGAn6Nb9+DJALN9jQCOS++mUtjm92Fj2adK+JazhR+NOscc5AIiessDnwz68pfAHbRMMXA79Dq0kOiIJ7bG7Sdf8i66cTMYlWhKU8PuY5nHHF8VVquHBuO0WshhocHyd38goavGyCuf0nNRGFfCTwgLRfI4e/sMWwQQkRDyNlCVEC4vdPSY21y2EJCGJmjRTTEJZEakJaqhf/OSOVejAytlOuU21+fIhnY7g4sW9sJ5Y22ibNHMWzga9EsMSpHeERfLWQnVZ6ACVFJoS/jVVyILSBu7d8jfVufyzbgUXInMydbGr9yTtHqQTyocEzi1v6P6ITtyC+58duMe1qMHrBPYrfy6znnw48zTtxC/Qdo/320v3tzDfgaCdozdju+lHVgsy2O75EoCrEQ5TQ9j28qzqjN5JZ+QM9fDHm+VvRMkxG33KOzBC2aDdK+xPbFrX35TpsdH2V9+PacfZGA07BqeihGz0/crk+SaExDAv6FLGg/KRxNe2euk4m+dod0zGFyeI78tTghRlFa55dZJ97ILxfYRvv7hs1Dz80cT8MZ2IaEYmFipisSFBOZUsgiVL4YATeTCNxHwqAUlYXEbhKQbfT8lcKx8BF/l5TAeEYhfFXCsbPMAiCHL5IDOkbf7nPvMlmbm8ltfMXmwg8175AtZLJ4wGbDr038gmAxYpgaIv/Zgda1GmY2fAGbYWqIuNPEQmQMFiOGYSwBixHDMJaAxYhhGEvAYsQwjCVgMWIYxhKwGDEMYwlYjBiGsQQ8N63EdBCjU0aU+1Ayn9NNajEdRD2VQ69Oi0qngzCLg8veGcliIpdaoN6HspSFZga2E77Otehdvwm9azdh5ZqVaPLpJfLNRgiRECQz0RMaJUJs1KUa6pWBLYLanpLanqH9FbKi5wMTM7Al5mZ7cwb2gkIWGT3Xo0T00SrG0c/AzkUvYODj4+g/eRxnziWxZEX3rBn89UB2NKIYESS5j5G+xalXBnYaf+fI4MN8XnQAbyCmyIquL+ZmYBfL9uYM7AWBEBLZ2RgRJNkJqYthdDOw04iHI8jK50UihrjDkQ+sMIIZ7kgWIhmjgmQOdcrAtlEbCd6rwjnRifukyHcWdXmXsIAzsAntbG8BZ2DXHaVLKSUqcl+1kIhl5XZMp1gGtgJXcxv8Y+MoJxG7WkHSGmZp1ZWiEgGrVwb2ZvHKU9sbeQGS3gXqU8gVWtgZ2PrZ3pyBXXeULqWUW1H2VaPXJupkoVIXM7EHVqC7NYbQ0ASdjvWl8KGcW8oRpUoEjDOwaw1nYF92yEKlLmZhDyxHTzdwse8TxMr8+TQz7qoVPpRzixCk2qOWXvMzsI+JU4HabqRv+wH5tKDtFY9jJde5IDKwi8EZ2EwZ2H3d6O62kxCdnRchklG7IlGEINWSumVgCxGiIeHNcOG/0VDrK7ZU/hpKqXxn62dgl4YzsOuIcrgk3IpYVv6vxMjQSrlOuf310cvAppZV67DUnUZ6+oJSHONn+jBp4DcdzRKjcoRH9NVCdlLlCVj9MrDF9adHSaDEre4UidzP85nP4gL2As7AJrSzve24lzOw559iYnQ5YaYrEhQTmVLIIlS+GHEGtjXhDGxmUcIZ2NaDM7AZZkHBGdjG4QvYDFNDOAPbOCxGDMNYAhYjhmEsAYsRwzCWgMWIYRhLwGLEMIwlYDFiGMYSsBgxDGMJeG5aiekgRqeMKPehZD6nm9RiOoh6KodenRaVTgdhFgeXvTOSxUQutUC9D2UpC80MbMDTtg69a6/Kl5Xr12FpUARmlEYIkRAkM9ETGiVCbNSlGuqVgS2YmxU9H5SXgS3m7j3njOF/FBYhInnF+5RPo8w/DkvriGOO4xuFbtN8kdafSa6cP3iYVgRZZPRcjxLRR6sYRz8DOzFyEv0nT+TLmVOjcC6/AoE6v3OyoxHFiCDJfYz0LU69MrCLZUXXl0oysKO5HFZLCQa7bRlazj8sIBIIpCTKb2dzJF7pWZEs/2/WhWba1i5peb5gMdJBCInsbIwIkuyE1MUwuhnYBH3QpnE64UynkS46uJ7BDHckC5GMUUEyhzplYBPaWdELJAM758I4Hcs2qttMr1efVK2mEJBmw1hhUcKJY0jilnl2R4tCjJQupZSoyH3VQiKWldsxnRIZ2K7WdYX9rwogfPYc4gbFSFCtIGkNs7TqSlGJgNUrA1ugnxW9EDKwHSQoaewhkU2SUBVyiCRE7hC99uL1/zubA8/S9mfPl7ORQOslOdaPRSFGSpdSyq0o+6rRaxN1slCpi1mkRj8u7P90BMHVK+ZlmKZVyhGlSgSMM7CNYsPv6XmtsttwWB3rIcLU6LUXr78Ypu3SiMYV4iUSNeeTRSFG9UAWKnUxncQlhOON8DVIywYw466a+CBrFSFItUf9jW1+BnalWCkDO5rz4JtpLw5Iy1ocI9ckftFD6+eFknm3NX+wGFkeGxxuxfUDRwO8vhgSBn+ryMzb+2pXJIoQpFpStwzsCrFSBrZAZFkXiyxpFkM8Ek71lcnVJHTjJHLzCf+dkcq9GBlaKdcpt78+ehnYdMJdsQ5tQRuy5KLtdAKFz5/FSHjWVQFdzBKjcoRH9NVCdlLlCVj9MrC1s6JFHrS1M7DFrf2H4JP6CMRF9zBasrRPxPN/IpDMC414Ak4cIzH7h1nPRf81riecgW1IKBYmZroiQTGRKYUsQuWLEWdg1xrxZxI/tbnyfy4wn0FwHDvLLAA4A7uW3ExDPzcNAQ9Ky/MFixHD1BDOwDYOX8BmmBrCGdjGYTFiGMYSsBgxDGMJWIwYhrEELEYMw1gCFiOGYSwBixHDMJaAxYhhGEvAc9NKTAcxOmVEuQ8l8zndpBbTQdRTOfTqtKh0OgizOLjsnZEsJnKpBep9KEtZ6GRgT+PuwLKrtmBZq0Y2rQZCiIQgmYme0CgRYqMu1cAZ2DLaGdjFSdPxyuuIJMqUdMxiQu4kfmfPSK9bFj9wTEr7FBNtxeOZ9Z6ifrNf/xR+Nef5VQcP04ogi4ye61Ei+mgV4+hnYOchoWrq9CEZlpbrjOxoRDEiSHIfI32LwxnYMsUysPVx4tv516iQRPl7JLFn+hid+djde8VD+r+DPoNKTmfl9RowQK/NfbOekwuv5hLYY+LcZRYjHYSQyM7GiCDJTkhdDFMsA5twtSyHd2IAYZFWUQZmuCNZiGSMCpI5cAZ2gRIZ2EWYCY/L0bZzihA6O45ms7RdkLCnMUTb1kZE89qQVL0HT+dc6CCnpRXUVgmLQoyULqWUqMh91UIilpXbMZ1iGdg0PGv3j2FkopC7XC7VCpLWMEurrhSVCBhnYMuUysAuRmFIJn6y6Hb48ENFFMsQiVozHcN1JOhvqF6+VWKoll8vAXfWi59L9dOQeInUSLOSLReFGCldSim3ouyrRq9N1MlCpS7VQ8Oz7iZEBkfoIzV/FD6Uc0s5olSJgHEGthk48DV67e9OB3EQMfxwlntzoo/EqIeE+HmpRkYEwon37O60D0PkCB+d0TAJG70Oc1M4K4WHaSYhC5W6VI27CcGAD21rC+J2RQvJU9c6wxexBWbcVSt8KOcWIUi1R+14OANbKwO7NDb8kpyQn9zMzIVnG36eCeLR6ZRILex4hfap/esh1b1+SliMrE5yCOcU4nZ+TI6jNRaCbebtfbUrEkUIUi3hDGyZ0hnYhX0l8IC0XCA3646X+IFHEUF7WFoWCLcnsrP1yWELCWFkjhbREJe2NSAtVQv/nRH9r8TI0Eq5Trn99dHLwJ4tOr7uLWhN1F+MyhEe0VcL2UmVJ2CcgV0qA1umsC8ScBpW/Viqgy1Jz5VEN//8ckjlPDhAQvxsfj8pHE17Z66T0bE8Z3dIxxwmh+fIX4sT60VJ9H+ZdeKN/HKBbbS/b9g89NzM8TScgW1IKBYmZroiQTGRKYUsQuWLEWdgWxPxd0kJjGcUwlclHDvLLAA4A9t6ZPGAzYZfm/gFwWLEMDWEM7CNwxewGaaGcAa2cViMGIaxBCxGDMNYAhYjhmEsAYsRwzCWgMWIYRhLwGLEMIwlYDFiGMYS8Ny0EtNBjE4ZUe5DyXxON6nFdBD1VA69Oi0qnQ7CLA4ue2cki4lcaoF6H8pSFjoZ2K7WdVi94Sr0rpVKh7GTWQiRECQz0RMaJUJs1KUa6pWBLYLanpLanqH93SjV1x8zM7ALzM325gzsBYUsMnquR4noo1WMUzwDO3GxD/0nTxTKUD0yhGYjOxpRjAiS3MdI3+LUKwM7jb9zZPAh1Yu2NxDDA5r5PbXH3AzsYtnenIG9IBBCIjsbI4IkOyF1MUyJDOxKMcMdyUIkY1SQzKFOGdg2aiPBe1U4JzpxnxT5zqIu7xIWdga2dra3gDOw647SpZQSFbmvWkjEsnI7plMsA5vwtK/F6qs2o3flCgQ95X0dVStIWsMsrbpSVCJg9crA3ixeeWp7Iy9A0rtAfQq5Qgs7A1s/25szsOuO0qWUcivKvmr02kSdLFTqYgbpS33o+/AY+k4cw8AIsHTVMnjL06OqKXwo55ZyRKkSAeMM7FrDGdiXHbJQqYsZ5DIzv0+UDY8j4miAR/NXHrUx465a4UM5twhBqj1qx2N+BvYxcSpQ2430bT8gnxa0veJxrOQ6F1QGthacgc0Yxga7Q/FB8QXgyyWQlL+aS2Dm7X21KxJFCFItqVsGthAhGhLeDBf+Gw21vmJL5a+hlMp3tn4Gdmk4A7uOKIdLwq2IZeX/SowMrZTrlNtfH70M7Cwae9ai1Z9Dlr697Nkoxs5/gomYsR8uMkuMyhEe0VcL2UmVJ2D1y8AW158eJYESt7pTJHI/z2c+iwvYCzgDm9DO9rbjXs7Ann+KidHlhJmuSFBMZEohi1D5YsQZ2NaEM7CZRQlnYFsPzsBmmAUFZ2Abhy9gM0wN4Qxs47AYMQxjCViMGIaxBCxGDMNYAhYjhmEsAYsRwzCWgMWIYRhLwGLEMIwl4LlpJaaDGJ0yotyHkvmcblKL6SDqqRx6dVpUOh2EWRxc9s5IFhO51AL1PpSlLHQysMVsc2/7Wqxcvwm9azdhZe9SqimNECIhSGaiJzRKhNioSzXUKwNbMDcrej7gDGxGhSwyeq5HieijVYyjn4HtWLISV/jG8cnHx9F/8jjOfDJKH6X6IjsaUYwIktzHSN/i1CsDu1hWdH3hDGxmFkJIZGdjRJBkJ6QuhtHNwHaiocmLieFhZOQBdc749G8z3JEsRDJGBckc6pSBTWhnRXMGtnhOnIFtEkqXUkpU5L5qIRHLyu2Yjm4GtgdOTwb2xpVYvmELVq9fi3YSp3KoVpC0hlladaWoRMDqlYEt0M+K5gxszsA2CaVLKeVWlH3V6LWJOlmo1KV6bHA43PBmL+KTD4+i79Qw0N2LJpGzWkcKH8q5pRxRqkTAOAO71nAG9mWHLFTqUj1ppBJAbEqa+52ZRCzqhbsMMTLjrlrhQzm3CEGqPWrHY34GdqVwBjZnYC8i4ohNJuHxSEMzmx9efxIpzsA2NwO7QjgDmzOwy0I5XBJuRSwr/1diZGilXKfc/vroZWDH6V3yIrhsNZZK966nBvswdInqDWCWGJUjPKKvFrKTKk/A6peBrZ0VLfKgOQObM7BrRDExupww0xUJiolMKWQRKl+MOAPbmnAGNrMo4Qxs68EZ2AyzoOAMbOPwBWyGqSGcgW0cFiOGYSwBixHDMJaAxYhhGEvAYsQwjCVgMWIYxhKwGDEMYwlYjBiGsQQ8N63EdBCjU0aU+1Ayn9NNzJ4Ocvbu16RHs1nx3A7pUQGtfnIf0abuzzCCy16MtMTEbDEy0scQYkJsz5XocA6j//SQlJnjRmPPGjRPvwU2ON1JjHx8EhMGZu6bJUjVioi8fkXbaf4Fhq8MYek7+/LTUQtsR/Lq72K0u5Cl0vDBfjQNGJh/H3wcY9u3IiE2NHUKS996CK7p17EL6ZW0r030mr98F/zV53NUhm0PYtv3Ysh7HD0vfx3T+Yui/vq9uLRELEQQfOcfERh7M9+ky5LHMfqprUjSyyQO2TH0GlqP7oM99y1M3L0LUXrNut97gloeROT2+zGSPkL7/DPitz6McfqcObMQKStwXXgere8/MfP6e2m717mx5HXF86sSHqYVQSlapRB9tIpx9DKwk5gcOIH+k1I5N4FcZBwRgxEiZiKERKvUll2IbeyF72OlENEJsuwRDC05ifaXdqLrT28is/nLiHmkRl3uR+T67XAcewhdL92HtvE1GFn/sNRG2+x8HCNrjGQn1pLtSGzdi4mgtKggvWEvxpPPo+tFOua3Q4het3c65E2fUfjfpuOldTpfIvHy7cT4ip1SWwRO/yYkxQvbfC0S2cIcfZngUVrnIO3rpWfh6SThkiMxBfEnEAxvwuSyrVJF9bAY6SCERHY7RgRJ9NEqhtHNwJ6Nl5xOYmIcRgP5hSsS7sgMhKPRKjUlcDvC7pPwqQIDUm1d8A6+Sm/UAUR8++G/2IJYe4kTw78VMV8/fEP3YpJOZMcnx+Ho3AQRACJcUcY3iuaXD6IhvyyzB9FbX8DoDYdw7s4DmLz2BQx+/hAmOqR9uR5B+JZDCN1xCIN3HsLQxhlxqwhbL7Lhg+g4FpIqZHYj2eaG/8ITSF5zAPHwKwikepFQCoQWlx6DN3qq8Dh3CK7JJDKu1sIyCVUgFECcXstkTy88IfU+JZytSDuSsM1SvhDc5/sR6/0SzPoJg0UhRkqXUkpU5L5qIRHLyu2Yjm4GtgJ7M5paopiYKJw+RjFDkIToaLkiUfTQayu2jpps2wokLoVUQ4GdyJBiuMPPIt3YhZRwEfTCpX1rCs16NASRio7CEehCPNhS+IEDb0AS9hCcZ74Oj6bVCMP/7k60X6R9jf0EnYf7EV12e74ls+J2REeeJfdALuJFclt97+brKyZ3AL6Tj81ygQW66fjIyUT3INUcJOGkqpwbmZJuUIHruwj3JEnQDkgV5Mcv9CPV833Em/vhHZMqJcavk97jz+1A7uNn5g5bR0jYW+g1kRarZVGIkdKllHIryr5q9NpEnSxU6mImjqY2BC6NIWLWV1GZKJ2Q/FheLody1sm53PBEz0pL8wW5AtJ/R5TEIHYIiIVF8nUeBwklenZhbOPj5DB2wJYscQ1nvrCRw7uRRLzvN7NFJf4qfA1rEA+9Mn1MMs3vSO/x80/BveJ+TJKDmkUuQQJCrsmkkS0P00xCFip1MQ8fgq1uTFwq/2J0tRexZQckF706PUR7JaI1zRybcAiOKZKI4G64xsjRxKiKPsnOmDQc0WMqDJe/FZnIKfjCEdjFduOR6i7ADn+FHNE+NIUi5JK+jPM3Pm7asGU2F+j4Akj7D8A1EoZdXN6xJeFIFFqLQkI09dmHMRXaj6WnZlxRgefR8OfvoO2v6noF2afgvZAk96T1HobhMBY6WhIWo4WCl4ZoGMMknYTlYMbdtGIOqFibTDVC5JgYRWLJ1fn4eSWu4RDinTcjd3YPguGHEW0fg+/iEamVcH4Lk7e+gEn52o4gegS+WC9iHS8h+M5+ZJdvQmbw+BxHUA45zy7kcm/CMb4P/vePwxskpyC1CXIdT+LirU8jXt6vS2nwLNzDSUS7H4H7/T3kZm5BxNUPjyINv7CvJ5FUHpBtN+LX7UV0aD/aTuoITvo18YtN+th2ItUSgCM1KlVI+LuQjI/BWd5VA13474xU7sXI0Eq5Trn99SmSgU14OzehPd2HT0aEDTBOrW/ta9XrOSXRr2yXZHsEk3dsh/vf9sA760Nf4ta+5/sY27kDuRP70HqWhlYyRW7tJ659DaHuwuM8Efk299/A+fJ9cK59AZHJu9AU+Skurguh/d3HSNAO4OKG1vw1qxzZlcBf9iF4cWaoJtovbOki8duBpkGpsiiFW+7KX9xo+Hg/2oWQlLi1n9/XZg9aD94Dn+yYOp/G2W298CYUd8oGn0fn++Sy794E73P3Yfqyk+i7YVT71v7Qa2g5Kv4kQOpLZFf9AcPe36Pjg6ekmupYlEmPxcTocsIsIZLREplyXU/ZYkRkSAQupfaj9Yz6l70WBumr/oD4wD0I1ONXnerG/Yjcdi8cb5DwmTRM49hZxvrQUCPVEYRz8CmNu0xW5ipkVvw9xpccR+t7WnfIFjCeB5FoCNEw0bwvCBYjhqklzq1kjRTXshhd+AI2w9QSFiLDsBgxDGMJWIwYhrEELEYMw1gCFiOGYSwBixHDMJaAxYhhGEvAYsQwjCXguWklpoMYnTKi3IeS+ZxuUo/pIAIjc9PkPpVMB2EWB5e9GGmJidliZKSPITQzsAn3UnQs70SDmKVIXnZqsA9Dl4xNCKr1RFmjyOtXtB3OwC7AGdiLF6VolUL00SrG0cvAtiHQcQVswx/izMkTOHMqBNuy5WhySc11RAiJVqktnIEtwxnYixQhJLLbMSJIoo9WMYxuBnYOqUQGTqesPvSW5VLIGAzBFq5IuCMzEI5Gq9QUzsCW4AzsywKlSyklKnJftZCIZeV2TKdIBnZiuA8TDasL+1/bgvjps2VFz5ohSEJ0tFyRKHrotRVbRw1nYMtwBvZlgdKllHIryr5q9NpEnSxU6lI9tvzwrWmqr7D/k8NwL1+NYDXxhBWidELyY3m5HMpZhzOwTYIzsBcPslCpS/UEEWhOIRyWLlhnJhGL+eEtI8a02ovYsgOSi16dHqK9EtGaZo5N4AxszsBm5oEpOl+88Pqk7y1HI3z+JFIGvbEZd9OKOaBibTLVCBFnYMtwBvai+zsjI0Mr5Trl9tenSAa2hW/ta9XrOSXRr2yXxBnYnIEtczkmPRYTo8sJs4RIRktkynU9ZYsRwRnYVoQzsJnFCGdgWw/OwGaYBQZnYBuGL2AzTC1hITIMixHDMJaAxYhhGEvAYsQwjCVgMWIYxhKwGDEMYwlYjBiGsQQsRgzDWAKem1ZiOojRKSPKfSiZz+km9ZgOIjAyN03uU8l0EGZxcNmLkZaYmC1GRvoYolgGdm8nGmz0VtkTGO8/g0sxY1GPtZ4oaxR5/Yq2wxnYBSrJwM6jdVycgb2gUIpWKUQfrWIcvQxsL5qWdSI3KGVg94XhX945M9O6jggh0Sq1hTOwZSrLwC52XJyBvSAQQiK7HSOCJPpoFcPoZmB74G5IIZGQnFBqEtFMI3wFQ1AS4YqEOzID4Wi0Sk3hDGyJCjOwdY9LwBnYdUfpUkqJitxXLSRiWbkd09HNwI4ioQxX8zQh4HXDZVCMBGYIkhAdLVckih56bcXWUcMZ2DKVZmAXOy7y45yBXV+ULqWUW1H2VaPXJupkoVKX6klj8vwnyLSsw6oNm9DTnkNsnnJxlE5Ifiwvl0M563AGdo3hDOzLD1mo1MUUUuMYOXMCpz88joGBCLLeGJJGso8lqr2ILTsguejV6SHaKxGtaebYBM7ALisDuyicgc2Ugc0xc7rYg21oTk9gyqA3NuNuWjEHVKxNphoh4gxsmQozsI3AGdj1QzlcEm5FLCv/V2JkaKVcp9z++hTJwG64Ar3LlpASOeBIjiLUfx4G7+zX/Na+Vr2eUxL9ynZJnIFdXQY2oX1cIUQ4A3v+KSZGlxNmCZGMlsiU63rKFiOCM7CtCGdgM4sRzsC2HpyBzTALDM7ANgxfwGaYWsJCZBgWI4ZhLAGLEcMwloDFiGEYS8BixDCMJWAxYhjGErAYMQxjCViMGIaxBDw3rcR0EKNTRpT7UDKf003qMR1EYGRumtynkukgzOLgshcjLTExW4yM9CmFu/lKdHR44czS22FPI3z+DEbCUgyoyMZethpL/WKBM7ALcAa28QxswXYkrv0+Qt0hdOUnx3IG9oJCKVqlEH20imFSoxj8+Hgh5/rUKJy9yxGU3mV360q0pQdw5iNqOzuFRs7A5gzsMjKwBbnOhxGxj6qiZzkDe0EghER2O0YESfTRKkZJRsaRkj1qJoZE0iESQwg3fI1uhCcn4etcgUByDJOZJWgwmI8jXJFwR2YgHI1WqSmcgS1RaQY24foWJtdE0PSRepucgV13lC6llKjIfdVCIpaV26klhQC1S5jKf1G54fLEkUx54W7wwemkb7msM/+/UcwQJCE6Wq5IFD302oqto4YzsGUqzcDeiuSmm2H7aB+cGhdkOAO7zihdSim3ouyrRq9N1MlCpS5l4+5A9zI3Rs8pfjfNIiidkPxYXi6HctbhDOzqyHU8gkt4FcFhHdfDGdiXH7JQqUtZkBBdsboJ4b6TmJgevieRSpArcsWRiMSQoa9xmz2NdBlRn9VexJYdkFz06vQQ7ZWI1jRzbAJnYBvNwE4u68XUsl3oF+/TrVsxhV6E7n4aM6txBjajxtWCjhVNiMwSIkESsckkgo2NiF88izD1a3TQEM7gB8CMu2nFHFCxNplqhIgzsGUqy8D2vCu5G1FePoIG9Et30xRYJAP7shcj4U7KGTYp++oVJVrt6mIEX1sPAg4Xlqy4Cr1rC6VVupKaHD2DYWcPVq6/CitXNGDyk0HFN1t9kN2Numi5IlEn18uPtfoZggSmackaJFSKYTv3BDourcXFOw4hdJu4Q/abWbnPcASRbggg5WuRKgRPIfC2uPP2C4TueBrDzaew9KP9UlshK/psPn86gOFbhZP4qXQ9SZ9cx/0YEhevb6fncfMmeI78C5Q/aZfzBJAM9JKgShUlEbfcad/X9QKBrRigxxfX7sm3OD/8FzS7dyF0J+3r+i743/kXuPItBfL7Es7PpHvt4S3Scd3x94jS8LRZmSVOZDtWIHv+z1WJuRLOwC53KLWAMOtvjGS0BEUIUjmIbZS7DmdgWxHOwGYWI5yBbT04A5thFhicgW0YvoDNMLWEhcgwLEYMw1gCFiOGYSwBixHDMJbA0AVshmGYWlNSjBiGYeoBD9MYhrEELEYMw1gCFiOGYSwBixHDMJaAxYhhGEvAYsQwjCVgMWIYxhKwGDEMYwlYjBiGsQQsRgzDWAIWI4ZhLAGLEcMwloDFiGEYS8BixDCMJWAxYhjGErAYMQxjCViMGIaxBCxGDMNYAhYjhmEsAYsRwzCWoCIx2vS5u9COHtz2uRukmmLcQP16pMfl00772iQ91sfoc2EYxqoY+nWQTV/677ijSzwK4aUn/h+ABOLiH98nUerGn/74lmgAeu/CV+5dj6bCUoHQf+Anz4CE4gL1G5AqtSAx+a//Gdf4pUVE8d7v/yf+1F8Qo/Y/voDjUsvMc5HI7+MC7aN75rkwDLPgKC1GKpGZ+PD/w1u4eq4YTXMD/tOXgP9NIvSfHvkMllONWOfJomKk4vr/gq9c04gmv1CnggDKYqSmIFbv0//dLEYMs4ApPUzrfwFPPvETvBQSovCTEqJCQvTIKoxdugZfITf0v6n/T574D5yRWg0hxO+aCbz1ibSsSXVDP4ZhrEdlF7CXrMffPkLDqiXSsoDczH8nIfqIXMyf/vg/8RzuouX/YuB6j0CI2H+n/lTuBJ77XzQso238hMTstx9OSH1KsPwzZeyPYRirYfAXZcU1nbuAFwvXccQFbP1hWoVoXXPKozVME86ocB2qJs+FYZi6Y8wZXf9ZtLz3HrCh+NBIXFzOuxtV+UrNhlQ3YP0Gcmn/lZ6fVMMwzMKktBiJ4deq0/jfb79F7oSGXl+q9y30RrT3Sg+Fe8oL3GdwzYb/nP9/efQj/PZ//TvGpC4MwyxMDA7TGIZhaktlF7AZhmFMhsWIYRhLwGLEMIwlYDFiGMYSsBgxDGMJWIwYhrEELEYMw1gCFiOGYSwBixHDMJaAxYhhGEvAYsQwjCVgMWIYxhKwGDEMYwkcrcuu/L+lx2WyDJ2rgch4Qlom/Bux6f/ahtVXrkFPII5zg5NAx0Z0YhiRlNRHD1q3s4X6RaXlMnG2bcGm7dfgihUr0ZS7iJGJZL7es+ombLlmLdV3ITkygKlCtTa2Jejc/lmsXbMGHW0OjIdGkZGaGIapLaXFSCkwcskLDRBoScyIkeh3Uy+ChSVq7Cj0i3gQSM4VI8/qjQiMD2NaytxtCLgrFCPPaqy5Nojz//4azvadxsikpDj0nDasi+Gj197CwEQL1l7ZgIuhS9DLTPGs3o6e+BEcffcEwk1bsMx1DmPhrNTKMEwtKT1Mi36A43/8V/z5j+9jcPD9wv+dV+PTn7saS6UueajfAAnUDDGcOXVOejwXL5U4uauVn/s8bYsKCZmv0CThQvOnPo9tG9ukZX3sS9vhOXcSE7LgSWrjXNoK++AF2Nduw9KpUUy0t82I5Rx8CC61YyzkQPfmtUiMRbC0vUNqYxim1hi8ZiREoxux8JXYtHoSZyRxGpFatfHBFxD/B7Dyps/Teo352jzkWITwrLmpERfy26Lyej/J12yySXJeMcUwUAeX14OYrR1rbr4T2269CcvbPPl6h9OBbDYLt28JPL5JxKIeuApNGrjgdGeRzfngaaF+kQjCngY4pVaGYWpLaTHquJ6cSzfG/vg2BvtewSlspeXr5wTnN13zeWzslBYkOsnZrOyK4Mzr/4rjfZNSLQnbVmC8jxzXESFIG6GtDylMnPgTPjojr1ecpa12nH3tRRx+4wJ8m68q4oAYhrEitY+dFRewIx9gULoWJK4VeUmIpn+AyL+MhO0cJiq8cC1w9t6E9c6jkuA1ovMmUrt3X8FI203Y6H4fH2dXIXhuEMFblmHsxbdn9j0LH5be8Gm4TxxGtrcTI8ONuLZ7EG+9pz/UZBjGPIyJkfritCDajyOvfzBzATo/lLsaKnNExMgZvTItRnmE2/pUq7QgIa5HzTrxxTWjnVidOIzDHwxLdTo0Xo3NayL44N0zSLtWkttqxuCfjiAsnjfp0ql/p+e5ZAuuWTmJY0fOIH9J2r8W67cGEHrjCCakW2ae1bdgjf09HD91Cf4Nt6F74nWculDqNiDDMGZgSIyayM3Eyc3MunpDJ/rKznM4Mz380kHljPLOZXUjDflUjoMEaiXexpkhaZnEqOmqm9A1ddjAUM0F35rt2LDMA7sti+ET/4H+ocKzFbf2r+ql+lwMZw//B0Yi+WqgeQu2XR/A2VeoTj4wcWv/hm3o9jmQjZzBh4dPIlFb38gwjISJzqgMDDkjhmEWE/xTRQzDWAKeDsIwjCVgMWIYxhKwGDEMYwlYjBiGsQQsRgzDWAIWI4ZhLAGLEcMwlqDycDUDoWmFzKIEmle3ITJubMLrHAJrse7GbehdsRJd/jhCw+F8tbNjGzZfvxHLVi2HMxLCxFTxGLSyQtYUuFbchPVLxjB8qfgK9vZtuPamtciGzs68Jq5l6L3peqxevQZtvhhG6bmLqSjlPvdy+zPMQqSkGIn5WtffsGEmWE0OV1OHpom/qr5ps9SnBeG/nke6pQ1OEiFXi6dCMWrD8s+sxtThf8Opk6cRGikIEWx0kl/fiKF/fx2nP3Ggc2snpvovIl1onYu/vJC1GVrRubkZl46fRqxYZxKdFZ/qhJ00YurCjBg1bb4egU9exwfvn0Vm5VY0hs8gnCzzuZd7rAyzQCk5TEv0vVLIG1IWrWkbQ29Ptx85JU8A08bedT1uuG0L/NKyLks6sfTSGQzKm5MFoaUdS8eHEG7bhuWNw5jItqKpyMbKC1lT0NaL9vF+jJUwIvbmVmQ+PoGRWf06sKR1EmMj3Vi5cQnCo1m0tDWW/dzL7s8wCxQD14wUaYz5ImcZaYSmTdOOjdR365p8utpcMmnEorHS3+4eH9IJH5Z/+k5su+02rOldUqh3OuHMZeDwBeDxxhALe+j/QpMW5YWsybjQ0rMEF/svSMv6ZC8exSfSxNwZXLC7qM3tg9/XgFRkCj6vr+znXnZ/hlmgGBAjcfJKD/M0wJf/ZlaHps3gDc4OkFWTvXgEx946aWiSrb8rgIm3XsThV04gsfJqLC0pIibhXYlOzzkMV3ipi2GY8jAmRhf6cWR6mKbKJppDI3xhkZVderhWknQa6dFBGprQ4+wQJi4FEBS2TNTbHEhEJpGIe+BrSND/+TU0yaQzsNvtiIfHkIgF8v1TJZTQ17sMqf4zqDzNKIUsrWyPTSIcm4LD34BYPFb2cy+7P8MsUIzd2g/2YuusoRqVT7VLjbNpuuYz8EWKR4EYvmZ0aRyXGpvhs9FjWysCTRGERUzj2EWMNHegeewIPpnsQJNrVJEU2Yj2G25DbzuNkSTSI6PIdnYDp49gpKENTcPDkC6Fa2PrRnvnJQyGKpciYAiXRhvR0jGM/g8uoUmE/QubVfS5iwyn27B+pWLoW7Q/w1w+GBMjA4i7bkKkWkL/qghI08HoNaPMGZz9qw/rbtmJrbduQ3Dg/UIQWu4cBk5k0fvZndh2Uw9iH5xUhPl74PVT8Sqi9KMf4NT5VlxF29m2JYBzJ6W0Rx3sXb1oGuxH2Gi4StsWbL3levQ0+NBz/U6s6y1cK5s48RHSa2/C1ttuQXfkI1wUQ76iz90JFz33gE8xFi3an2EuHzjPaA4BtH/6U8BfXsdFHg4xTN1gMWIYxhKYNkxjGIapBhYjhmEsAYsRwzCWgMWIYRhLwGLEMIwFAP5/Sy4j63y5IYsAAAAASUVORK5CYII=)"
      ],
      "metadata": {
        "id": "h3j57p6GsLID"
      }
    },
    {
      "cell_type": "code",
      "source": [
        "def solution(n, lost, reserve):\n",
        "    s_lost = set(lost) - set(reserve)\n",
        "    s_reserve = set(reserve) - set(lost)\n",
        "\n",
        "    for i in s_reserve:\n",
        "        if i-1 in s_lost:\n",
        "            s_lost.remove(i-1)\n",
        "        elif i+1 in s_lost:\n",
        "            s_lost.remove(i+1)\n",
        "    return n - len(s_lost)"
      ],
      "metadata": {
        "id": "Vr-kHSwUsFZ4"
      },
      "execution_count": null,
      "outputs": []
    },
    {
      "cell_type": "code",
      "source": [
        "def solution(n, lost, reserve):\n",
        "    _reserve = [r for r in reserve if r not in lost]\n",
        "    _lost = [l for l in lost if l not in reserve]\n",
        "    for r in _reserve:\n",
        "        f = r - 1\n",
        "        b = r + 1\n",
        "        if f in _lost:\n",
        "            _lost.remove(f)\n",
        "        elif b in _lost:\n",
        "            _lost.remove(b)\n",
        "    return n - len(_lost)"
      ],
      "metadata": {
        "id": "KLowJbEBtNmF"
      },
      "execution_count": null,
      "outputs": []
    },
    {
      "cell_type": "markdown",
      "source": [
        "# 폰켓몬"
      ],
      "metadata": {
        "id": "Z9D916n1WN3s"
      }
    },
    {
      "cell_type": "code",
      "source": [
        "nums = [3,1,2,3]\n",
        "\n",
        "from collections import Counter\n",
        "res = len(nums) // 2\n",
        "cn = Counter(nums)\n",
        "for i in set(nums):\n",
        "    if cn[i] >= 2:\n",
        "        cn[i] -= 1\n",
        "if len(Counter(nums).values()) >= res:\n",
        "    print(res)"
      ],
      "metadata": {
        "colab": {
          "base_uri": "https://localhost:8080/"
        },
        "id": "6UPdsjdOVUkt",
        "outputId": "2608f034-764f-4682-e0b5-8bcb2bb65683"
      },
      "execution_count": null,
      "outputs": [
        {
          "output_type": "stream",
          "name": "stdout",
          "text": [
            "2\n"
          ]
        }
      ]
    },
    {
      "cell_type": "code",
      "source": [
        "from collections import Counter\n",
        "\n",
        "def solution(nums):\n",
        "    res = len(nums) // 2\n",
        "    cn = Counter(nums)\n",
        "    for i in set(nums):\n",
        "        if cn[i] >= 2:\n",
        "            cn[i] -= 1\n",
        "    if len(Counter(nums).values()) >= res:\n",
        "        return(res)\n",
        "    return len(Counter(nums).values())"
      ],
      "metadata": {
        "colab": {
          "base_uri": "https://localhost:8080/"
        },
        "id": "nkeQAoGCW8M_",
        "outputId": "97d8f821-a6f4-4d08-dd8a-526641678c0f"
      },
      "execution_count": null,
      "outputs": [
        {
          "output_type": "execute_result",
          "data": {
            "text/plain": [
              "2"
            ]
          },
          "metadata": {},
          "execution_count": 39
        }
      ]
    },
    {
      "cell_type": "code",
      "source": [
        "def solution(nums):\n",
        "    return min(len(set(nums)), len(nums)//2)\n"
      ],
      "metadata": {
        "id": "rBP1sOqUgv_b"
      },
      "execution_count": null,
      "outputs": []
    },
    {
      "cell_type": "code",
      "source": [
        "def solution(nums):\n",
        "    answer = 0\n",
        "    myList = set(nums)\n",
        "    if len(nums)/2 > len(myList):\n",
        "        answer = len(myList)\n",
        "    else:\n",
        "        answer = len(nums)/2\n",
        "    return answer\n"
      ],
      "metadata": {
        "id": "MLAAXP23g2dD"
      },
      "execution_count": null,
      "outputs": []
    },
    {
      "cell_type": "markdown",
      "source": [
        "# 예산"
      ],
      "metadata": {
        "id": "9nLcBcr9p1Re"
      }
    },
    {
      "cell_type": "code",
      "source": [
        "#d = [1,3,2,5,4]\t\n",
        "d = [2,2,3,3]\t\n",
        "budget = 9\n",
        "res = 0\n",
        "\n",
        "d.sort()\n",
        "for i in range(len(d)):\n",
        "    if d[i] <= budget:\n",
        "        budget -= d[i]\n",
        "        res += 1\n",
        "res"
      ],
      "metadata": {
        "colab": {
          "base_uri": "https://localhost:8080/"
        },
        "id": "L3WxyMyfp14h",
        "outputId": "506d7ab8-e315-46f6-bca4-7d39b87d88ce"
      },
      "execution_count": null,
      "outputs": [
        {
          "output_type": "execute_result",
          "data": {
            "text/plain": [
              "3"
            ]
          },
          "metadata": {},
          "execution_count": 6
        }
      ]
    },
    {
      "cell_type": "code",
      "source": [
        "def solution(d, budget):\n",
        "    answer = 0\n",
        "    d.sort()\n",
        "    for i in range(len(d)):\n",
        "        if d[i] <= budget:\n",
        "            budget -= d[i]\n",
        "            answer += 1\n",
        "    return answer"
      ],
      "metadata": {
        "id": "WUIbwZYvrSDK"
      },
      "execution_count": null,
      "outputs": []
    },
    {
      "cell_type": "code",
      "source": [
        "d = [2,2,3,3]\t\n",
        "budget = 10\n",
        "d.sort()\n",
        "while budget < sum(d):\n",
        "    d.pop()\n",
        "d"
      ],
      "metadata": {
        "colab": {
          "base_uri": "https://localhost:8080/"
        },
        "id": "dJFGWkjzsFki",
        "outputId": "621edd56-9ebc-47b8-a033-f7b51fa010b4"
      },
      "execution_count": null,
      "outputs": [
        {
          "output_type": "execute_result",
          "data": {
            "text/plain": [
              "[2, 2, 3, 3]"
            ]
          },
          "metadata": {},
          "execution_count": 11
        }
      ]
    },
    {
      "cell_type": "code",
      "source": [
        "def solution(d, budget):\n",
        "    d.sort()\n",
        "    while budget < sum(d):\n",
        "        d.pop()\n",
        "    return len(d)"
      ],
      "metadata": {
        "id": "kisj1QbpsGuq"
      },
      "execution_count": null,
      "outputs": []
    },
    {
      "cell_type": "markdown",
      "source": [
        "# 2016년"
      ],
      "metadata": {
        "id": "PfGF76iM74n6"
      }
    },
    {
      "cell_type": "code",
      "source": [
        "a = 5\n",
        "b = 24\n",
        "answer = 0\n",
        "days = ['FRI','SAT','SUN','MON','TUE','WED','THU']\n",
        "months = [31, 29, 31, 30, 31, 30,31, 31, 30, 31, 30, 31]\n",
        "\n",
        "for i in range(a-1):\n",
        "    answer += months[i]\n",
        "\n",
        "answer += b-1\n",
        "answer = answer % 7\n",
        "\n",
        "days[answer]"
      ],
      "metadata": {
        "colab": {
          "base_uri": "https://localhost:8080/",
          "height": 35
        },
        "id": "cV36d9Wy75uC",
        "outputId": "c8001256-5a44-4cec-8754-a66deb21316b"
      },
      "execution_count": null,
      "outputs": [
        {
          "output_type": "execute_result",
          "data": {
            "text/plain": [
              "'TUE'"
            ],
            "application/vnd.google.colaboratory.intrinsic+json": {
              "type": "string"
            }
          },
          "metadata": {},
          "execution_count": 12
        }
      ]
    },
    {
      "cell_type": "code",
      "source": [
        "def solution(a, b):\n",
        "    answer = 0\n",
        "    days = ['FRI','SAT','SUN','MON','TUE','WED','THU']\n",
        "    months = [31, 29, 31, 30, 31, 30,31, 31, 30, 31, 30, 31]\n",
        "\n",
        "    for i in range(a-1):\n",
        "        answer += months[i]\n",
        "\n",
        "    answer += b-1\n",
        "    answer = answer % 7\n",
        "\n",
        "    return days[answer]"
      ],
      "metadata": {
        "id": "9eg9OHId8UaO"
      },
      "execution_count": null,
      "outputs": []
    },
    {
      "cell_type": "code",
      "source": [
        "from datetime import date\n",
        "DAY = {0: 'MON', 1: 'TUE', 2: 'WED', 3: 'THU', 4: 'FRI', 5: 'SAT', 6: 'SUN'}\n",
        "\n",
        "def getDayName(a,b):\n",
        "    d = date(2016, a, b)\n",
        "    return DAY[d.weekday()]"
      ],
      "metadata": {
        "id": "ZG_hqCS68hHL"
      },
      "execution_count": null,
      "outputs": []
    },
    {
      "cell_type": "code",
      "source": [
        "d = date(2016, a, b)\n",
        "d.weekday()"
      ],
      "metadata": {
        "colab": {
          "base_uri": "https://localhost:8080/"
        },
        "id": "b3dnV5wW8qVD",
        "outputId": "12e0efd2-e9c7-42a8-bf6d-a9c1c4bd1196"
      },
      "execution_count": null,
      "outputs": [
        {
          "output_type": "execute_result",
          "data": {
            "text/plain": [
              "1"
            ]
          },
          "metadata": {},
          "execution_count": 15
        }
      ]
    },
    {
      "cell_type": "markdown",
      "source": [
        "# 최소직사각형"
      ],
      "metadata": {
        "id": "0hE1_Rd389UQ"
      }
    },
    {
      "cell_type": "code",
      "source": [
        "sizes = [[60, 50], [30, 70], [60, 30], [80, 40]]\n",
        "sizes = [[14, 4], [19, 6], [6, 16], [18, 7], [7, 11]]\t"
      ],
      "metadata": {
        "id": "UiX94aPT87qA"
      },
      "execution_count": null,
      "outputs": []
    },
    {
      "cell_type": "code",
      "source": [
        "ma = [] \n",
        "mb = []\n",
        "res = []\n",
        "for i in range(len(sizes)):\n",
        "    res.append(sizes[i][0] * sizes[i][1])\n",
        "    re = max(res)\n",
        "    ma.append(sizes[i][0])\n",
        "    mb.append(sizes[i][1])"
      ],
      "metadata": {
        "id": "Pqriny-z8_6v"
      },
      "execution_count": null,
      "outputs": []
    },
    {
      "cell_type": "code",
      "source": [
        "print(ma)\n",
        "print(mb)"
      ],
      "metadata": {
        "colab": {
          "base_uri": "https://localhost:8080/"
        },
        "id": "MbTWLS5qB4Hl",
        "outputId": "12c9fecc-6484-49fc-de3a-2b970c8ecf58"
      },
      "execution_count": null,
      "outputs": [
        {
          "output_type": "stream",
          "name": "stdout",
          "text": [
            "[14, 19, 6, 18, 7]\n",
            "[4, 6, 16, 7, 11]\n"
          ]
        }
      ]
    },
    {
      "cell_type": "code",
      "source": [
        "re"
      ],
      "metadata": {
        "colab": {
          "base_uri": "https://localhost:8080/"
        },
        "id": "QkmEFkEECASh",
        "outputId": "2fd63e11-91d0-4591-ac9f-eb46f33dea82"
      },
      "execution_count": null,
      "outputs": [
        {
          "output_type": "execute_result",
          "data": {
            "text/plain": [
              "126"
            ]
          },
          "metadata": {},
          "execution_count": 38
        }
      ]
    },
    {
      "cell_type": "code",
      "source": [
        "for i in range(len(ma)):\n",
        "    for j in range(0,len(mb)):\n",
        "        if ma[i] * mb[j] >= re and i != j:\n",
        "            print(i,j)\n",
        "            print(ma[i] * mb[j])"
      ],
      "metadata": {
        "colab": {
          "base_uri": "https://localhost:8080/"
        },
        "id": "oSA017b99x1X",
        "outputId": "8c5cd70d-6c1b-46d6-fc95-3551a71e91d0"
      },
      "execution_count": null,
      "outputs": [
        {
          "output_type": "stream",
          "name": "stdout",
          "text": [
            "0 2\n",
            "224\n",
            "0 4\n",
            "154\n",
            "1 2\n",
            "304\n",
            "1 3\n",
            "133\n",
            "1 4\n",
            "209\n",
            "3 2\n",
            "288\n",
            "3 4\n",
            "198\n"
          ]
        }
      ]
    },
    {
      "cell_type": "code",
      "source": [
        "def solution(sizes):\n",
        "    ma = [] \n",
        "    mb = []\n",
        "    res = []\n",
        "    answer = []\n",
        "    for i in range(len(sizes)):\n",
        "        res.append(sizes[i][0] * sizes[i][1])\n",
        "        re = max(res)\n",
        "        ma.append(sizes[i][0])\n",
        "        mb.append(sizes[i][1])\n",
        "    for i in range(len(ma)):\n",
        "        for j in range(0,len(mb)):\n",
        "            if ma[i] * mb[j] >= re and i != j:\n",
        "                answer.append(ma[i] * mb[j])\n",
        "    return min(answer)"
      ],
      "metadata": {
        "colab": {
          "base_uri": "https://localhost:8080/"
        },
        "id": "NeWH57fs-VwP",
        "outputId": "c4710d6f-90f4-4bea-e24c-6b1830cbd55c"
      },
      "execution_count": null,
      "outputs": [
        {
          "output_type": "execute_result",
          "data": {
            "text/plain": [
              "3200"
            ]
          },
          "metadata": {},
          "execution_count": 23
        }
      ]
    },
    {
      "cell_type": "markdown",
      "source": [
        "![image.png](data:image/png;base64,iVBORw0KGgoAAAANSUhEUgAAAS8AAAHzCAYAAABxIpuMAAAAAXNSR0IArs4c6QAAAARnQU1BAACxjwv8YQUAAAAJcEhZcwAADsMAAA7DAcdvqGQAAHSlSURBVHhe7b17cBxXue79dM9N0owkS7Ity7F8U+z4EhwwJuRyEgcqBjbZqcJwTpxThXOqnHAOIVUB9g6bIlCEUDuwNwkbQlUu5yPhj4Sqz8l3klAVzIY4BxIIDpttDHHi2LHjW6zYkm1J1mWkkebS3/v2Reppdc/0jGZktfT+qpY0vdbq68x65l1rej2trP7oJzUIgiAEDNX8LwiCEChEvARBCCS+xCvWsQ6N5muDBiy67u9w9ac4XWmWLcGijgb9VWH81vMLHcsH1yFW8e0KgjCTyRvzavzg32HdInNBZwTH//AK+hatQ83Rt9Gv57FwXYsVcX3BpAdv//o0ajsG0HV0wMwzaV2HRUNvoytpLusi41LPL61X4uoPtZgLvN9DqP3gEvT9bQBNXtuddAw28rZnh7f9Z/OcBUGYabgO2Mc6rkRT159JtG7AxlW1lONoyI4GP3jkj3jrKImai3hw1FZztBO1NsEz6pcrXk4h4sirkHhx+UbMx7t462+dZt4ExvFZwiwIQlAItSy59Dvma51Yxw1YhT5oH1qB9H/+Ee+++y7OaY0I953DqFkHiUvQ3lZnLtA66X50dgELProJa9uiOPfeOWT1kiVY0BxDw0cXY/C3r+rb6nw3BbV5FEN941srjcQCJMbOYShtLlOHMbGoAamuUdRO2u4SrPjUemT++gqOja3B1RsbbcdmEG5ejw0fXYv2S1c5UjMG331/4pwFQZhR2CIvozs4/7QVFXHD/wDiFCUdodfj0YlXN6urB8cHD9kiH97eGoz8gSM23tZi9OrRW+W6jYPJEdTHKTJMnsS+P+RHXkYX2BExxtfh8uuWAbbITyIvQQgmFbzPyyFKLmNdja2d6O82F8ul5G5jEWTMSxACySTxmjxoT0HVX/8dx22i41aHmTSWZUY69eaijh4lvV1+d6zS4iUIQiDJFy8Sm0UJEgZHdNT4wSuBvxWLQiZ3BxupS5aiLlmeUNE+VizqxPFyRcYRKXX99Y8YaXOKl9HlddFXA0tA3cTVTtebeN1lkF8QhItPWZGXb6oReQmCIBAVHPMSBEGYPmR6kCAIgUTESxCEQCLiJQhCIBHxEgQhkIh4CYIQSES8BEEIJOO3SvSf79EzBEEQgkCeeNXWsP2NIAjCzEe6jYIgBBIRL0EQAsmc6TZeevkV5ivg3bfe0Jft/wvhpw5j34cdP+tOhXhDI5IDlTXveTE8gJsz+c8E8Mpzg+u51S8H5z7s2/Tah9c6fur72X4hrG059+m2Lft+manuey4xJyIvS3ysVA2c+7CnklBqUL/0cly6shURM6sYLFwsYJXG2bDc4MblTFPhbnUY95mvLZzbL3ZcVqO3p0I46/s5by/s2/KzHft+/a4TV0axU82i3Vyeq0i3sQiWKHlFVXa4jlvyTwi1bR1orjEXLxKlNkCrjp+6heBGuRlR/MxctsPbthIf11wmqUXxhpLCFxUzY44i4lUAFh4rcvIjYFak5Uy+USIIj3bi1OkhM8M/lYq+nOLgV8AqwTZlDJ1aGKfMZQvrmKxk5U3Xcc08FOzKqVij2J/GMPeYM+Jlj4KKiZBV1yk8vGzfTsXRUhjs6UfOXCyVSgiYXbgs3PKKUbqwZLFWCaHLp0GTXcjcsMTNTeScy7wde91yztcL577ccO7bel2I/STyaSVHkercZc6Ilz0KKhYN2es68SrjPEvYnClo2BuTPZXSqMsRgKiiws3z0ikuVioEr2NPdpzLTCl1S6HY+nwezn3bXxeEIq8O8+VcRLqNFcQSNmeaLir1q6O9MdlTMcGoBFHzvxO346kkdlF0phmLpqLPfDkXEfGaJVT6dgm3RlxpwchHpS5jFu0eg9C8fzcqeUx2YbTSjIW6jHESr73m4lxE7vMy/9vx09Wzr1NqfW8aseDy5fR3gtSZd9DZkzKXvKmkeJUiVIVEpVTB26SM4B4lhltzk79TS92W23EVOqZS8wth7dtaz9pGoX04KVSf2a4O4WotgS/5HCOcjczZuY2FxCtoVDrqYtwaFOPVmOwUa6zeZPFwKIM/ZmN41syxM5VjsvA6Jq9tM6Wdw2TKvR7e9TN4NJTFKx7Xaa4gE7OFGQX//L9BC83pRlmMVhL5TyCEp83luYqIlyAIgUQG7AVBCCQiXoIgBBIRL0EQAomIlyAIgUTESxCEQCLiJQhCIBHxEgQhkIh4CYIQSGRuo4/pQX6nENn3Yafa04+qMT3oxM2/N1/ls/zF681XBm71rDpc5qwvCJViToiXm/hUWrz81ClGtOlStLbWIJyjt0TNYPD94zg/OGaWFqaSAjZV0bHWL307VyH10W8j+/btiA+eMfOI+h+g96qNGGXHieEjmP8fdyKSNoq8uQpjH/g2ehYbJjt1bz+CxlMv6K91Il/FwHVb0du/C8v/8q9m5vSjLXwSZ69chZq916Oxy8wkOP/8h5aBvVKV83/Cgn3fgqq31MK4bW/0w7/HmQVHsPg3tyNK28isfxmdK8ew4HefRviy3+PswjFEMlSR+mHKhX1o+fM/ITy+r5swcvUXoL35GdSVbvBbVaTbWAS7yBWD67gl36R70PXOWzh++ACOH+lBeNlS1IfMsmmGhcctVZUFX8AF7U+oswsXbsPQlVchtP9OtL20HQv6VuH8mrvMMm+0JV9F97zDWPjSjWj77Z+Q3fA/MBIzC5VtSF6zFcNhc/liUf9jnP/wMmgsHHbC38aFK1sQf207Fv3mW2gMX4++ZTeahQXw2h5RN9qC1II2enUHUvMAe5gSO/pTLNp9o76vBvUqDCzZaJYwu1B7tAf9674NH9o5rYh4FYCFx4qm/AgY13FLfhkb6kPa+oRkRzA6FoLqU7w46uLoq1JwxOSWqkcbRpeuQu17P0WepVd8I0ZqT6K2+7MY+MgXEHrvLYQWXQ6X9plHmhpqTder9CY+g6HaRxA/24yRhWajDC8H3nsE8084QolFT6Prumdw7pO/x7kPPY2eLS/j/c0/1qMfPr7MimfQ/cmX0UX5Zz75zIQYlokWBxKv/RT1o2aGRcsqDA2eQAxfR9+61ajpPIPB1huKiofn9ojYycPILL6VviCuxkjfEbg+40VZhhwVhNL2Lw/i7D7EmzciNcXzrTRzRrzsUVAxEbLqOoWHl+3bqSZq/QI0ZS5g2F+vUadSAsYi5RZ1cfLCq6zQOvl8FqMLhhDJi7qIunqkkz0IJdqQqm9GlltwTcIUFC9uRLaOuuGDLyDT0IZ0PWXlqLtUu8ooTv8r4sefyRdJi97dWPDaPqB1DPW7/wXNmdVIJbjgNiTXx9DwW4pQKEpp2/1TxKb4/Aul6yuoHTQXbOTonLNDZxCqb0F/nIQ2Sx+CukTRZxt4bU9n+FXU0BfBwCVtqO08YWYaDF92l/H+/v1dGDq/Cw1djvcAzyPW04yxJnNxhjBnxMseBRWLhux1nXiVcZ4lbM5UMtFWLF4SRU9nN4oO7VQJe6RlvbaWS8H/OgloERKppLl4kVDT1PqTZxAdHUQIL0Md94F8C1FqwP0ffRrJpV9HOnqShyUDxC7UnKlHb9Nh1Dqsy+reecR4f3/5XTTWbEHvipvMEgsSM1LO0YZt5vLMQLqNFcQSNmcqCRKuSzoaMXj0MPpLiLqYSgzaWxGWlbzyvODyckTOIErhg/nSYngQkXgLRSJHKKoYgsrlqSESlkK8jNAwdcPrtyLSewbhEcqiT3p45IhRXBa7UPv6NrT+eTci4dXo3/wYBvQxpMqj0jlzpJntO4PGVA/14+i6DNO5m+Xloh7/Lpa+9oj3tdNeRs3pHgw2X25m5DO161d5RLxmEpFmtC5vxNBFEi6mUIRVqMyifOE6jMhAC9LzzEWL5D7UjizDSOtLqP/PR5BbejmyXW/BPtae7fgFuq79QV5XMnLuDFKLNkM7sQ31g3chubAXtWepO1g2VyFH3VVl7ClEj30LDd1RpBPrzTJmG4avfRnn19xhLk+BniNI1C/HaPhHaHrzL0gtaUN99ysTuh7+OgY+9isMtNoH1n2g7aPIspAArUK6uQXRtPNnxa3IJsYQHZrK9as8cp+X+d+On66efZ1S63tRu/gKLG7MIGNrhUOdB9BDUUQxpuNWCbd8r0iM65UaheVW/gLnap5H69tPmTkmRW6VSK9/GV1LTmLRb25HxMwreKtE4sc4+7GNsF/Wpv+8Ho14GmcbfomFh5ej/2NtSPzuK8h8+FfIvPNpxIfuwtDHtmLQDA4n31JwFwY/sQ096X1op/X8/M6SXf0rnLpMH1AzOYm2F7eDx8UL3ioR+2f03ng9tAPfRcuJl81M7+3hw79H6n37rRhfR//NmxF2vVXiLTTv+0r+rSg1P8D5a+sx7//emfelcbGZs06qhcQraFRSuCzcRKnUqKpU8eKIov/61aj9nXE/UuAI/zP6No5h3p+/6/5jQEDJrPsV+kceQcvxXWbOzEBsoIUZhdbwVYo8X0IkecDMCQgxisw2bYG6/07HfWpB50ZkFi+HevqJGTfGJOIlCJVA2QhN2cePUxSmCRmwF4RKoIlwTTciXoIgBBIRL0EQAomIlyAIgUTESxCEQCLiJQhCIBHxEgQhkIh4CYIQSGRuo4/pQX6nENn3Yafa04+ma3oQ42duo1Wn5OlBglACc0K83MSn0uLlp04x1MYVaG+tM15TTDx87gTO9SSLmtAx0zEx2y/W+qVvRzzsLUr2sI99HQNXbkGSPj7GxPGJCdbiYT9HsYtcMbiOW/JLbuAETh4+oKfj75xEpmUpGi6S9S4Lj1uqKuJhb1CWh/0QYgf/BW2/YS/6O9E8fDnOrZ24TuJhP8dg4bGiKT8CxnXckm8028dDjSCkpJH1aTXMURdHX5WCIya3VD3Ew36ccjzsRx9B7Lxlj3ME4Qs9GItM2OOIh32AsUdBxUTIqusUHl62b6cqJJYb+1i7GFrncQyWYDVcKQFjkXKLujh54VVWaJ18xMPeolwP+3Eoshy+tA1N7+82MwjxsA8u9iioWDRkr+vEq4zzLGFzppIYOmHs4+BpYMlqzLtI33b2SMt6bS2Xgv91xMO+MlyF0Y1fwOAFFiG786l42AsFsITNmcoi20ddhygSCdcA35VKDNpbEZaVvPK84PJyRM5APOyZ8j3sSbg+9M/ow260/vVfJ11K8bAXqkYoavwypqPEUVeXRWpk/Ku/IJX6tbFQhFWozKJ84RIP+3HK8rC/Cun130afSsL1l8nCpSMe9sHE3n3jaIiX7f/t+Onq2dcptb4XsQWXYVFLhEJ0Daqaw/C592bUrRJu+V6RGNcrNQoTD/speNib55RNjU0I1+A+LPjTP9E5iIf9rKKQeAWNSgqXhZsolRpVlSpe4mE/MxEPe0HwgXjYzzTEw14QZjfiYT/tyIC9IFQC8bCfdkS8BEEIJCJegiAEEhEvQRACiYiXIAiBRMRLEIRAIuIlCEIgEfESBCGQyNxGH9OD/E4hsu/DTrWnH1VjetCL4QHcnGkwlwy88tzgem71BaFSzInIyxIfK1UD5z7sqWRCjVhw2RW4dLE/Y0EWLhawSuMlTHZYnJxpKtytDuM+87VFHGk8GhrCc3oaw1YzvxjbaVvPhZJ6eljRaDuMhh3qiLktTincdxEnIq5RRrGTrvPDjmNYo4zhKfMYd6oZXKPnpvW6T9G5GGTwBC2/qPL0bS4b1M/VOK8RPOjYZpz3RXXbzeWgI93GIlii5BVV2eE6bqk0QqhtnQ9laMxcnn6siImTHwGz6vipWwhuXJsRxc/MZYMc7g2NIp1L4HPZBH6upfF5tfit7O1KCrcoEfwwG6f1YoiTSN1plg1pUdxP2+Lt3ZFTsUEdxS1m2XTConxvKIPIpEnoGdwdyuKgeYx7MIIdlmBpYURJzDbRy3Ylg4Rm96+IYJd+vgnclgthpZov9Ek67zfounxxlswaF/EqAAuPFTn5ETAr0nKmUlAT7WjOdKEvVdpck0pFX5ZwWfgVsEqwjaKNTmqcp8xlA4oUSITe0LJ4mBrt3lwUaWq0xaKvLbStvlwYoMb6gBKm9dIUzXCJgmepwe/XawF9moo+EgbdmIbqcsTyVGgQT5GgPUERzIuhNAmqwRYq32lGQxyx3W3ml0s7Hc/+TO34sYyj0DnTdXiVI04S6ie1CFo5Ty/ka5HBFoogt9H6RzV3JWrXjZQU9BqLJgp2kVivoW3NBuaMeNmjoGIiZNV1Cg8v27dTcdQGtLRm0XOuPC/kSgiYW7fPLa8YpQteFmuVELqcUYiSQ5wE5ig1xlYSmTVmXmE7dQ3N1Kb7qLFy94vrchybGO9uTbCFopOmXATjbu9aDLdla7id4yWKYlhAbtALsvj7kIY9ZjTE0dwren75HCJReoh35GADCw+d8x5dsMwvMTr2lcYr7KWyDjruNSBRNvMMKNKi687X/kFVw+t0Xq+aJRb7SRTTdP0sQQ4yc0a87FFQsWjIXteJVxnnWcLmTP5QqLvYBnR1IjW5jU0r/OF3S6WIWDmCF1VUdJuvp4M1ehcqRNFIaDzaS+tiQtEYpW563Tv+Xqg4lctgM3Vh7yNR2UplkyKmaWKMBKiPuthJ+p8fWUXxAl13vvbcbdzk1R2m4+8wXwYZ6TZWEEvYnMkfDUi01KBxxQZd8Ja10bd/83Lfg/ZMpX515A+/W2IBqzY2I2wDijKSFCl0sHiQkOjixl09vdALQ3SaKALbq0XBcSxvd8jWxeKB8gfo07+LIqj8MTYvFDyUq8dXshEcpChsK3UdnQPilWI/N0s652uoe3vKaqJ07MeMV0QI38vW46ECX3J9JGx8nGvN5TyKXr9gIOI1Y+jHOZvgnTyTAnpP4N3T/sSo0rdLOKMuTixg1UOlLiOPb5mL41AD1tK4giKkr1E3iLtLEWqYtmdfY7PCvx5OjE0xu0m0mlQe0K7B17QMRSER6qYZZdyVvJe6Vbuoe+hPuAx4kJzF5Fna9m5THCfQ8I1QEk+p1M01c8qGRUuhKA8RfCmn4nYljW5dyCbgLnH+2GA+cX2sUNGFOw+zG57f3Qwmc0K8WAxK6cbZ63olO27lzhQkLKFyJje4rtv/0lGwmxpqBzWufFSKMmKIqMZA+eeVCH5O9ey00jpREo9Wc5k5RaL1LIneP+q3DlAXi4TqMb1EwzY1RcKTxU3mbRQ8SH+PXlaInB5tWbci3IQYnskbLOdB/yyaqEvGIueHzeowXa9BbKLNrAzxF0QKO/SSMH6SDWGtvr8hXINa/MxjYD6ftHlOQ3gqlLGd8wTbSQhPkfgXEr6gIB725v8gU+moi/ESIS8Rs2OJn/XfP1k8TI3ujyRWz5o5wSKDR0lXv5+bqeJAxxfK4pXAXt98xAZamFHwz/gbqIsUvMaVxQOhMQxla/F9M2em0UrH+Anqhj9tLgcdES9BqBB8H9Zs6I4FBRmwF4QKIcI1vYh4CYIQSES8BEEIJCJegiAEEhEvQRACiYiXIAiBRMRLEIRAIuIlCEIgEQ97H9OD/E4hsu/DTrWnH1VjetCJm39vvspn+YvXm68M3OpZdbjMWV8QKsWcEC838am0ePmpU5TEcly6NIF0Rn9LgJFudJ46Dz++l5UUsKmKjrV+6du5CqmPfhvZt29HfPCMmUfU/wC9V23EKM9NHj6C+f9xJyJpo8ibqzD2gW+jZ7FhslP39iNoPMVeFDdidMM/oK+N8tnzDz1o+MuPEO/9k15vutEWPomzV65Czd7r0dhlZhKcf/5Dy/T3Xjn/JyzY9y2o5sfCnbsw9LGtGIoYS9rYGTT/+Z8QGz6D0Q//HmcWHMHi39yOKG0js/5ldK4cw4LffRrhy36PswvHEMnQStQPUy7sQwutFx7f100YufoL0N78DOqGzKwZgnQbi2AXuWJwHbdUEhdO4eThA0byKVzVgIXHLVWVBV/ABe1PqLMLF27D0JVXIbT/TrS9tB0L+lbh/Jq7zDJvtCVfRfe8w1j40o1o++2fkN3wPzASM8qUnl16/qLdVPbXIQxe+QXdaXXaqf8xzn94GTQWDjvhb+PClS2Iv7Ydi37zLTSGr0ffshvNQi9eQuJVOic+L7pOrSfrcfZyEh2ztG60BakFbfTqDqTmAfYwJXb0p/q14H01qFdhYMlGs4TZhdqjPehf9+3xbc0URLwKwMJjRVN+BIzruKXpgKMujr4qBUdMbql6tGF06SrUvvdT5Jm/xDdipPYkars/i4GPfAGh995CaNHlcLZ3J2lqqDVdr9Kb+AyGah9B/GwzRhZyo3wZ0fcfmYhiLpxBNMKGOsSip9F13TM498nf49yHnkbPlpfx/uYfm18gbciseAbdn3wZXZR/5pPPjIthuWhxCrZf+ynqR80Mi5ZVGBo8gRi+jr51q1HTeQaDrTcUEY8jeiRpkEAuFkU41TN+LWMnDyOz+Fb6grgaI31HUGPm56EsQ44KQmn7lwdxdh/izRuRmuL5Vpo5I172KKiYCFl1ncLDy/btVIV5y7By/Qas6LgUTfGwmemPSgkYi5Rb1MXJC6+yQuvk81mMLhhCJC/qIurqkU72IJRoQ6q+GVluwTXsnFWIG5GtA6KDLyDT0IZ0PWVRw87UrjKKxyFB6qBGefqtCQfX3t1Y8No+oHUM9bv/Bc2Z1UjpT+e4Dcn1MTT81ozYdv8UsSmGxUrXV1A7aC7YyNE5Z4fOIFTfgv74ciBLcWEdCZJZ7s02JD/G79OT6J5/GAveesTMJ4ZfRQ19EQxc0obazhNmpsHwZXcZ7+/fU9fz/C40dDneAzyPWE8zxgo/OGDamTPiZY+CikVD9rpOvMo4zxI2Z/KLMtKJowf349iB/TjeOYT48pVoKE2/KoY90rJeW8ul4H+dBLQIiVR5zx4pC23RD3B+WQ9a9v/reISipklNkhSNjQ4iRFGamjILQAJHDbj/o08jufTrSEdPQi0W/k07zyD+O36fbkfrudXo2mTv6u1CzZl69DYdRq3Dqq3unUeM9/eX30VjzRb0rrjJLLEgMSPlHG3YZi7PDKTbWEEsYXMmv2jZDDTr0zZ6AYMjtYi5xvfuVGLQ3oqwrOSV5wWXlyNyBhT/OA1DhwcRibdQJHKEopQhqFyeGiJhKcTLCA0DY/VbEek9g/AIZdEnPTxCXSsTjbqI3RuApt9tR6zo4D+zC7Wvb0Prn3cjEl6N/s2PYUAfQ6o8Kp0zR5rZvjNopK4fQnRdhunczfLiHEH4/cOItq7KG8tTj38XS197xPvaaS+j5nQPBpsvNzPysV+/mYCI1wxCDdnCrFAdampTGPM5klypXxsLRViFyizKF67DiAy0ID3PXLRI7kPtyDKMtL6E+v98BLmllyPb9RbsAWm24xfouvYHeV3JyLkzSC3aDO3ENtQP3oXkwl7UnqXuIKE1P4bzJQkXcxVy1F1Vxp5C9Ni30NAdRTqx3ixjtmH42pdxfs0d5vIU6DmCRP1yjIZ/hKY3/4LUkjbUd78yoevhr2PgY7/CQKttYD28FdmYJaZtyDW30fffGZg/Phpo+yiyLCRAq5BubkE07fxZkbadGEN0yLh+MwW5z8v8b8dPV8++Tqn1vahpXY+2JorQcwpUdQyD75/A+UF/6jUdt0q45XtFYlyv1Cgst/IXOFfzPFrffsrMMSlyq0R6/cvoWnISi35zu62xet0qweNCd6EvOobw+CBSDxr3bENt/dM42/BLLDy8HP0fa0Pid19B5sO/QuadTyM+ZNyKMGgGh5NvKbgLg5/Yhp70PrTTeoUjQ4Ps6l/h1GX6gJrJSbS9SIJKrwreKhH7Z/TeeD20A99Fy4mXx/P6rr8KKQpH+Pi04TNo/svErRKp9+23Ynwd/TdvRtj1Vom30LzvK/m3otRQ9/raesz7v3fmfWlcbOask2oh8QoalRQuCzdRKjWqKlW8OKLov341an9n3I8UOMIkIBvHMO/P353U+w0ymXW/Qv/II2g5vsvMmRmIDbQwo9AavopM9iVEkgfMnIAQo8hs0xao++903KcWdG5EZvFyqKefmHFjTCJeglAJlI3QlH38WERhmpABe0GoBJoI13Qj4iUIQiAR8RIEIZCIeAmCEEhEvARBCCQiXoIgBBIRL0EQAomIlyAIgUTmNvqYHuR3CpF9H3aqPf2oGtODXgwP4OZMg7lk4JXnBtdzqy8IlWJORF6W+FipGjj3YU+lEJm3AkvXXI5lqy/HijWXuDteOmDhYgGrNF7CZIfFyZmmwt3qMO4zX1vEkcajoSE8p6cxbDXzi7GdtvVcKKmnhxWNtpMPb/cpOsedhc3hq8oaZRQ76RgedkyGXKOM4SnznHeqGVxj5hfDbXs71AG8GBrFdnN5q5qk99a4znpZ2LhGxr7S2GJUM9FwjzqCb5hLMwnpNhbBEiWvqMoO13FLvqlrx5L5GZw98hZOHn4Lx985jXEvvGnEipg4+REwq46fuoWIU8PbjCh+Zi4b5HAvNbx0LoHPZRP4uZbG59Xit7K3KyncokTww2yc1oshHkrhTrPMIEeNMouhi3hXPIvnvaEMIpO0M4O7Q1kcpPPlc96DEewg8S2G9/boC47Od4MuaDlsov92z8dkro72w9fJ2Ne2PCFV8JimYhMJaLuZM1MQ8SoAC48VOfkRMCvScia/1FD0NHr+DFKWMdW4M2FxKhV9WcJl4VfAKsE2ijY6tTBOmcsGWRKiCN7QsniYGtDeXBRpJVM0+tpC2+rLhantpfCAEqb10hSVmIXEFnUUrVoN9prLOlT3udAIRTyDeIrKn6BI5MVQmgTVYAuV7zSjoedIDO8288ulnY5nf6YW+83lcRQ6Z7oOr3LESUL9pBZBK+eZxV54bo/opmvRRNuIK2nadgTdZn4+OaqTL2xMko7lGK03s3xU55B42aOgYiJk1XUKDy/bt1NZFIQjIeRqWnHJmg3oWLsWixc0lPQGVULA3Lp9bnnFKF3wslirhNDl1Gslhzh98x+lhtVK0ccaM6+wnbqGZmqEfXRNufvFddkVLTEevaSpCxXGz9y+G7QYbstSZ53Wf4miERaQG/SCLP4+pGGPGQ1xNPeKnl8+h0hEHnIxz9lA5wo65z26YJmhIR37SuOVJ17bMwjjKAnQd2ibp7R8t7G4Oqi/X9x9XKvF8fCk6xLCUYp4WRxnEnNGvOxRULFoyF7XiVcZ51nC5kz+CEGhdyMeGcGZd/bj6KHjGK5fgRa7V900YXyQJ6dSRKwcwYvSBXCPCCqJhm9Q1+pgLpIfdZmk9cavkvDxsSjoHW/IKk7lMthMXdj7SAC2UplbhDNzUbA7R+JPUexLDnFK5ur19+vmTIIEeQT3unRRWfz5y2MmId3GCmIJmzP5I4NMGhgdHgZ9xqiNpTAylEWsBBP7Sv3qaHyQJycWsGpj+J7aoAgkSZFWB4sHXRdd3CivTy/0whCdJhKqvVpU7wbxdoc0FqYMrqAI5BpTkLfyFwZFHsUH7RU8RI38K9kIDlIUtpW6jg9WKRLZz82SzvkaipBOWU2Ujv2Y8aps9mq1+Bod/6vm8mQUPE1dxFYPewzj+s0cRLxmEKmhAURqao03RYmipi6EdNr5UD93Kn27hD3ishILWPVQqcvI41vm4jjUgKnLcgV1Kb9G0VKHOoYINTA2dLbYrIzgOdvYFLObRKtJzSCh1eBrWgab1Ah1q7gkglttgvwCtVOOPG7NFW+YmyixmDxL295tiuMEHNEl8ZRK3Vwzp2xYtBSK8uhYv5RTcTuJbbcuZBZZPBgaLks8D5n/vbiJosrJxuMaCVpoGqLi0pgT4sXRTyndOHtdr2THrdyZ/KANvIcz6YVYtmY9ll22GvXDx3FuoFhEUHksoXImN7iu2//S4W6Nio5J3/oqvpeNIaIaA+Wfp27Pz6meHY4U+LGxreYyc4pE61kSvX/UbwEYRTJbg8fMsvLI6dGWdUvBTYjhmbxIRAM/TZIHxVnk/LBZHabrNaj/+rcyxF8QKezQS8L4STaEtfr+hnANavEzx76aSNzyxbPQ9goTH7+lZAifpSv585zTgT+DtSSke6b/o1gQ8bA3/weZSkddjJcIeYmYHUv8rP/+yeLhUAZ/JLF61swJFhk8Srr6/ZzzF9NgcxOJ21bqct4xw7qNYgMtzCjWUOSygbpIwROvLB4IjWEoW4vvmzmzA426khp1W1XXHzguJiJeglAh+D6s2RRxzXRkwF4QKoQI1/Qi4iUIQiAR8RIEIZCIeAmCEEhEvARBCCQiXoIgBBIRL0EQAomIlyAIgUQ87H1MD/I7hci+DzvVnn5UrelBzqk9XnlulDc9SBD8MyfEy018Ki1efuoUo6Z1PVptXoKhSBiDJ97AOae1pQvVcJVg7OLjV4yseuWIF3vYN+XqcL+5zLC98YOhUXPidRQ/z0bzXCW8YA/7z5geVJ20zXs1Jc8llLf7WHgEUZ+uEtWAPee/Q+fWnW3Al41D1WETxXvVMd2hIq3V4Ce5MPYYRQVx2x771G9VYng2G8PTtMwe9jtUBXszdTjFZWoIY3pdjfYVw5O5CHbzog572KcQyc28aU/SbSyCXeSKwXXckl9S3Qdw8rCZjp3FaK4Xg8Nm4TRiiY4lQMWw6vipWwjxsLcQD3s/iHgVgIXHiqb8CBjXcUvlEKpvQqyvH6nin1kdjro4+poqzmjJr4BVAvGwN1HEw94Pc0a87FFQMRGy6jqFh5ft26ketahvCaG3rzTRqISAuXXz3PKKUbrgiYe9hXjY+2POiJc9CioWDdnrOvEq4zxL2JypZOrmo5m6jEl/JqoVx/ggT06liFg5gice9tVEPOyFAljC5kyloSDR3IzRvh5qSKVRqUF744M8ObGAVRvxsBcPe7+IeM001CbEGwfQ358xM/xRjV8bnYkFrHqIh/044mHvizkhXhz9lNKNs9f1Snbcyp3JL6HG+Uj0X6AGZWZcBCyhciY3uK7b/9IRD3vxsC+NOeukyoJiiVrpXbuZRaWjLsZLhLxEzI4lftZ//4iH/UxEPOwFwQfiYT/TEA97QZj1iIf99CID9oJQIUS4phcRL0EQAomIlyAIgUTESxCEQCLiJQhCIBHxEgQhkIh4CYIQSES8BEEIJHPmJlX7/EL7tCA/04P8TiGy78NOtacfVWt6kHNqj1eeG+VNDxIE/8wJ8XITn0qLl586RQk1oGXpUjTENOSgINv7Hk6fHbDs6ApSDVcJxi4+fsXIqleOeFXfw5492Ydx9fg0PU33EduTqbso03rEw758pNtYBLvIFYPruCW/RFvakUgex/FDB3DyneMYmbcCLVP2VykdS3QsASqGVcdP3UJMj4c9+3JxnpFuo4Y6ptkb6/QhHvZTQ8SrACw8VjTlR8C4jlvyS2Y0BTUSNd8U/gSNIe3T1oujLo6+poozWvIrYJVgOj3sLT6rpKnxUjkviIe9eNjPROxRUDERsuo6hYeX7dupNLn+E+jKLMJy3sf6ZQh1HcWFEqygKyFgbt08t7xilC540+lhb5HB1Sp1x+xWL+JhLx72Mw17FFQsGrLXdeJVxnmWsDmTXyItl2JR6DRO8D4OHMPY/NWYX2cWTiPGB3lyKkXEyhG86fGwn2ATRyHUbeRxIAvxsBcP+zmJJWzO5I8o6hprMETRk/5dq41gZAioqaUowCeVGrQ3PsiTEwtYtam+h71FDlvVLEUroUndJHfEw1487AUPxjA6nEVtnTlCr9SgNhFCOu2v31iNXxudiQWsekyXh72JkqEuaBSvlBBMiIf9zELu8zL/2/HT1bOvU2p9T2bIrRKlCBXXdcOK1EoRvE0kQvcoMdzq8KgvdqvELWoS26k79DTl2x1YCz3uf7vKPvR1+fviAXl9/zk8HMrheYpSOmgb7fqtGzk8QIKxht4XbsyTbyng8iFsQC0eKhjdTMCe8/eQwE5A55Wp0X9tLXyrRAZPhIdJw+rzrJm9tgd1AFdo9lsxsng4PIpej1slnqHzyr8VJY2nQhqeoeu7y8yZCcwZ8XJSSLyCRqWjLqaQKBXDEq1SxUtvVOJhP+MQD3tB8IF42M80xMNeEGY94mE/vciAvSBUCBGu6UXESxCEQCLiJQhCIBHxEgQhkIh4CYIQSES8BEEIJCJegiAEEhEvQRACicxt9DE9yO8UIvs+7FR7+lG1pgc5p/Z45blR3vQgQfDPnBAvN/GptHj5qVMUnpi9bCkawvSWUEycPHMEZ/snz/F3oxquEoxdfPyKkVWvHPGqpIc9T5Zmv/rNSswxWZrzR0wfexWHcrX4pt4Kpp/Kediz00TKNCzMn2AtHvZzFLvIFYPruCW/1LauQG3/uzh++ACOv3MK2qJ21OebXk4LluhYAlQMq46fuoWopIc9s2NcoPK5ifNRgzt0D/uQbrNzi1k2nVTaw/4oif5tphf98xij65Q1S9jaWTzs5xQsPFY05UfAuI5b8kcNojXA6GjKWNQGkUwmUOvTSZWjLo6+poozWvIrYJWgkh723Eib6Zp+kyKWfDRqxFnaT4gijhS20/4OkohcwQ020B72ITxus/x5nc7PbuwoHvYBxh4FFRMhq65TeHjZvp3Kkso3IwzNQ6KeOkmsaD6phIC5dfPc8opRuuBV0sOeUfEQRVWTzfdY1MLo1TQSD9qm7s+VRcIoJG0Lrof9BDmKOjM4RgI2gXjYBxZ7FFQsGrLXdeJVxnmWsDmTX1LnjqM/tgQr1m7AsqV1GLvg89FBFcb4IE9OpYhYOYI33R72bswGD3vuLm/Qaqm7Z2boiIe9UABL2JzJN9kk+k+9g+MH9+Pk8dPIhMMYTZndSB9UatDe+CBPTixg1aYyHvaFUNGLDJoVBQd529SN5MhiyCgsQDA87HeoSdykd5cnR53iYS9UDzUE1fp8xFoxL9GPoRFzuQjV+LXRmVjAqkdlPey9oYiJRGEJRU+7czV4TMlgLXhMzSwuwEz3sN+qDnsKl4V42AcQe/eNoyFetv+346erZ1+n1PqeROZj8YpW+siGENIGcf69ExgY9dGqiEqKVylCxXXdsCK1UgSvsh727NOezBsn4u7RrTlu8R63SgTawz6NneEUCbvt2pHI/pCOcY142M8uColX0Kh01MUUEqViWKJVqnjpjUo87Gcc4mEvCD4QD/uZhnjYC8KsRzzspxcZsBeECiHCNb2IeAmCEEhEvARBCCQiXoIgBBIRL0EQAomIlyAIgUTESxCEQCLiJQhCIJlVN6na5xjap/74mQLkd5qQfR92LuYUo2pND3JO7fHKc6O86UGC4J9ZE3lZ4mOlauDchz2VSmReB1Zcfhka8zxgQqhZeBlWrFmvp4X5hZ6wcLGAVRovYbLD4uRMU4E97O8zX9thr/eddDwPlzC9bjtt67lQUk8PK9q42wNP9H5Ud0M1yh5VKuAEUSZe58UTs58yXVt3qhlco+fy5OsBPDXuq8UTtAfwom73zGWD5jnxeiOTXCfYZnsn1Z1pds7lIt1GwhIlr6jKDtdxS6WgJpZj8cLJDqlKw1JcUncB771zAMePnIFyiXjYM95e7960KyncokTwQ92bPYZ4KIU7zbLb1RFEdU98oyxaAUvncijLw14LI0pixvY87UoGCc3+AYlgl+lFz978K9WxPLvspBbFG3Rdvjiz5leXzZwXLxYeK3LyI2BWpOVMpRAKj+Ds0c5JBng18QaMDvQBTcsxL9yLwf4E6hL+PmmVir4s4bLwK2CVwN3DvoDXewG20Lb62L+eGusDShh7c2mKZoyyLvrYJ8xoKw4WBdPckOrOfA979h7LYAsdNz8o46iH04NhH62g11g0UbArp+qT32cDs0q87FFQMRGy6jqFh5ft26kG6QvdGJn0+QkjTL3E0bExRGsaEaXXGrWrSDhmlhenEgLm1u1zyytG6YLn4WFPeHm9e6Ohmar30Trc/WK/ezbYS5jRy7O5OuylaIa7YDvDaXRna/C4XkIEwMN+L5WxKeMa+szkOz1QpEXnxNf+QVXD67nJvmL7SRTTJNz+jBtnNrNKvOxRULFoyF7XiVcZ51nC5kyzCf7wu6VSRKwcwZsuD/sd6rBuGngrHeOtmSiaqBt5j1kWBA/7MRKgPupi81N98iMrNjM0uvvcbdxE0aPrI93o+DvMl0FGxrxKxBI2Z5o6GWQoPIhRyDU63I9shj5j1I7SmVGzvDiV+tWRP/xuiQWs2vj7iaIYhuiwTfNeLao/you3a3iwZ3GFquIodZ84P0nRyyFfT8aZSR72IXwvW4+HXKJUiz4SNj7OteZyHhS5lf8MgJmDiNcMIpUcQKyhCUr/CfSMNaO+cQjDQwU+oTYqfbuEM+rixAJWPbw87Ivj5mG/m0SrSeUB7Rp8TctQFBIhkeISfpBHhvZj/fqYoa6lnwdwzCQPe6NLXMiCJ07C1U7ffs5nMFqPkptpxoLlMGfv8/LT1bOvU2r9QtQuvgKXNJsLzHAXTh7rpi4L3ypxKdqajQelXqzH/ZciVFzXDStSK0XwvDzsC3m9M+4e9satEp8xx7k6c3W4l6IXbswTnviGUnbnakng+ClFM93DPo2dIeAx2/b1bSCGm+mYJzzs+ZxDdM414+dssV0dwtVaAl+y625AmdVOqoXEazZR6aiLKSRKxbBEq1TxEg/7akPHF8rilcBe33zEBlqYUYiHffVopWP8BEVkT5vLQUfESxAqhHjYTy8yYC8IFUKEa3oR8RIEIZCIeAmCEEhEvARBCCQiXoIgBBIRL0EQAomIlyAIgUTESxCEQDJn5zY68TuFyL4POxdz+lE1pgeduPn35qt8lr94vfnKwK2eVYfLnPUFoVLMGvFyE59Ki5efOn5hD/slS8LoPfwO8uZeKzWob78UreFz5mRtf1RSwKYqOtb6pW/nKqQ++m1k374d8cEzZt5dGPrYVgxFjCVt7Aya//xPiA1b5e5kOn6B3ksTyLKXH09wfuunaHj/BVq4EaMb/gF9bVGeSw0NPWj4y48Q7/2Tvt50oy18EmevXIWavdejscvMJDj//IeWgT0rlfN/woJ934Kqt9TCuG1v9MO/x5kFR7D4N7cjStvIrH8ZnSvHsOB3n0b4st/j7MIxRHh+OPXDlAv70ELXNzy+r5swcvUXoL35GdT5sd6YRqTbSNhFrhhcxy2VgpeHPTsB1LZ1oNmtaJph4XFLVWXBF3BB+xPqxoWLeQmJV2/Eopc4bUfryXqcvZwak1nqSZIa4e4b0cbplX1Ib/wfGDFNaZWeXVjI2+Oyvw5h8Mov6E6r0079j3H+w8ug2Y0lmPC3ceHKFsRf245Fv/kWGsPXo2/ZjWZhAby2R9SNtiC1oI1e3YHUPMAepsSO/lS/FryvBvUqDCzZaJYwu1B7tAf9675d/JpPM3NevFh4rGjKj4BxHbdUCl4e9lAiCI924tTp0r/iOOri6KtScMTklqpHG0aXrkLtez81jWosjugRkkECuVgU4VSPo85kwl3fRchab/QEYqkocnr09jKi7z8yEcVcOINoJGo0zEVPo+u6Z3Duk7/HuQ89jZ4tL+P9zT/Wox8+vsyKZ9D9yZfRRflnPvnMuBiWixanM3rtp6h3+k22rMLQIB0zvo6+datR03kGg603FBUPz+0RsZOHkVl8K31BXI2RviNw/X5UliFHBaG0I6o9uw/x5o1ITfF8K82sEi97FFRMhKy6TuHhZft2qoG7hz2hpTDY0z/RVkukUgLGIuUWdXHywqus0Dr5fBajC4YQyYu6LLYh+THe/5Ponn8YC956xMz3h3bJFgxkDqNm0ncCCVIHNcrTb004uPbuxoLX9gGtY6jf/S9ozqxGKsEFtyG5PoaG35oR2+6fIjbF51goXV9B7aC5YCNXV4/s0BmE6lvQH18OZCkurCPhNsu98NqezvCrqIlvxMAlbajtPGFmGgxfdpfx/v49ddHP70JDl/M9eB6xnmaM8cMAZhCzSrzsUVCxaMhe14lXGedZwuZMsw17pGW9tpZLwf86CWiRHoQmWX8yzyD+O97/7Wg9txpdm0rownBXakMM8/b+K3XK89EW/QDnl/WgZf+/jkdyappaf5KisdFBqv8y1JRZABI4asD9H30ayaVfRzp6Enk+gjOeXag5U4/epsOodVi11b3ziPH+/vK7aKzZgt4VN5klFiRmpJyjDdvM5ZmBjHmViCVszjQTqMSgvRVhWckrzwsuL0fkDCj+KdgfPILw+4cRbV3lb4yKheu/rEbda3c6xtFYuJ5G9wag6XfbEfP1q8gu1L6+Da1/3o1IeDX6Nz+GAX0MqfKowySciTZk+86gkbrICNF1GR6acmNVj38XS197ZJKIj6O9jJrTPRhsvtzMyCc8Ql34GYSI1yyhUr82FoqwCpVZlC9chxEZaEF6nrloEd6KbMwSiTbkmtsweuEMzB8fdbIdv0DXtT8wx6ZM6v4ZfVevRu1r9l8uDbTmxygaK0W4mKuQq0lAGXsK0WPfQkN3FOnEerOM2Ybha1/G+TV3mMtToOcIEvXLMRr+EZre/AtSS9pQ3/3KhK6Hv46Bj/0KA632gXUfaPsosiwkQKuQbm5BNO3sX9N7kBhDdIi60zOIOXufl5+unn2dUusXwtvDvhELLl9OfydInXkHnT3jfRdPpuNWCbd8r0iM65UaheVW/gLnap5H69tPmTlEjETo+quQoq9Zbrza8Bk0/yX/Von0+pfRteQkFv3m9nFR49sDxm8BMIm/cSPqz/L42V3oi44hPD6I1IPGPdtQW/80zjb8EgsPL0f/x9qQ+N1XkPnwr5B559OIDxm3bAyaweHkWwruwuAntqEnvQ/ttJ6fB51nV/8Kpy7TB9RMTqLtRRJUelXwVgm6Jr03Xg/twHfRcuJlM9N7e6BrkXrffivG19F/82aEXW+VeAvN+76CiF3Ua6h7fW095v3fO2E8XWFmMKudVAuJ12yiksJl4SZKpUZVpYoXRxT911O09DvjfqTAESah3TiGeX/+buHeb8DIrPsV+kceQcvxXWbOzEBsoIUZhdbwVWSyLyGSPGDmBIQYRWabtkDdP3l8LdjciMzi5VBPPzHjxphEvAShEigboSn7+LGIwjQhA/aCUAk0Ea7pRsRLEIRAIuIlCEIgEfESBCGQiHgJghBIRLwEQQgkIl6CIAQSES9BEALJnJ3b6MTvFCL7PuxczOlH1Zge9GJ4ADdnGswlA688N7ieW31BqBSzRrzcxKfS4uWnjl/cPOyjTZeitbUG4Ry9JWoGg+8fx/lBfwbFlRYwS5Ts4uNXjKx65YjX3eowmnJ1uN9ctlijjOI7oVF0ZxvwZf0Ta7BGGcO97FFPr9NaDX6SC2OPUeRJHGk8SNtqNWcgdudq8TVNRRJZyk9hpZ6r0fZieCYXATvfXwy2KCP4YkjD/oz9euRwjzqCq/VDV3GIjv2btuvhThYPh4exhM7RQMXr2Vo8pOcnsSQXx225EJ1/Dg+EhrABVJYN44bQIDYhZNoPaUhqtfge1TukLzNpPBECns5G8KqZM51It5Gwi1wxuI5bKgVPD/t0D7reeQvHDx/A8SM9CC9bino/9gQVxhIdS4CKYdXxU7cQcRKozYjiZ+ayBYvNvaEMIpMaaQZ3h7I4mE3gc5T2YAQ7lKItGbdT44/meJ04pRiiJFh3m2VHSThv0/MTeJ6a7efVKdqllskaJYUvqpNv2b+JhQs1uIOOkQWng4T7FrOsMBHs0s+LEwuXRRhpJYPP8kv63+rwwzhGwmasU4dTdEzb82ack2hpo9h2kWahz3nxYuGxoik/AsZ13FIpeHnYjw310be9uZAdwehYCKpP8eKoi6OvqeKMlvwKWCXYRlFUpxbGKXPZop0ax/5MLfaby+MoWbRT/VdJ3B6lhv6kFkEr55nFXnTRxz6h5PRoLa57sqro00tCeFxTKAIxeF0LjdtDb6aIcCeJ3HPhIdpXil4P4jkSNmNfHA0l8VyI0xDlZyh6mRrtdCy7sjXoNJcNNGyg8+uk49pKx7Cdzv0gnfsVUxIPFW/kcrRd4BYSr27atjs5NFGkOub4bniar7manvL5lsOsEi97FFRMhKy6TuHhZft2qoGnh70NtX4BmjIXMOyv16hTCQFz6+a55RWjdMHLYq0SQpdL4HSIGshDLiYzG9ibmLpCe3TBMqMUiryMbp83z1J0tZeitJ10jDvDaeqK1uBxs2yCHHaQCB2zNeahXA1FIBES0xC+R5HIMSWNLVxA/zcjhm+aEdsdFBEZYlg+u+mcnREoH1MzRUq9mkbHkDO7vVnYHby8SWMrne+LoWE8QaJrF5tuEsEmino/olCX23H9V4ZoHV4vPErRKnXLzfxx6Pp00/XfZC5OJ7NKvOxRULFoyF7XiVcZ51nC5kwVJdqKxUui6On0/9zGSmJ8WCenUkSsHMGLKiq6zdfVZAdFUTyucysd462ZKJqoK3aPWWaxg/I2aLV4zNaY9YiMx8Yo7aemMx4503K3Oop7KQK5m0Slg0TFGT1eXEJ4MlOvvyc3k1CfUpK4J697HcZREq92EkynY9exrDF8cDNFvt103e6d9B2i0Gc0VzTarQYy5lUilrA5U8Ug4bqkoxGDRw/nP4zWB5UatDc+rJMTC1i1GX+Kjw9YQNjK4Rr69j9lfZSp23fMeOVBFleoKo7meICeBSlMkV1a75pa7KAu4E2owTfzBqcLEcEdmTi+RyIWJRH4RmjU5zhUqajoRQbNioKDLKJ6lzc0+RF6Lkx0uVW8okda9vE0BT/J1uPe3OTodgJeT6Xr5BIaU9lUI81yEPGaSUSa0bq8EUMXUbgsnFEXJxaw6qFSl5G6f4XajxMWLSVDXbYIvkRidDt133jMZiLq0UhIkngir8GpOKVl9EbIY1486L+GuoGWAGyl6KI04WI0vdt0iPb9UC5K4pnDUqPAhH/FHMajrg2/FBTsp30soW7aburCPUbnvpbO/Q3bZttJPHeSeO4wlw00WzdRwxV0zklH00/StguLvrHe0KRTyKGJRO1iRJpz9j4vP109+zql1i+El4d9mPIXN2aQsY2HDXUeQM+wuVCASopXKULFdd2wIrVSBG+TQt03JYZbSYjs8GD5PXnPGYvihUyNPiZU+FYJ46f/NVoCn7Nt0/tWiTR2hlOI0OtxtCh+mIsgQsfwWa0OX6YobSdFbnyM99E2TlE37Gd0DDvpGCKTtmeRwRPhYbTm4riZRNEPO9QBElJzgaEu7EP6LQmFb5XYQNfwAdrFq9TNG/9FkY7vOTo+Fj8WoSRdp8f168S3SqTxhnktdZQUXlRJhF1vlbDWm8DrPZsOZrWTaiHxmk1UOupiColSMSzRKlW8OEJ5OJTBH7MxPGvmzBpIQJ5QwrjjIjTy6sFfDqPoy7v1YvoQG2hhRrGGukQbqGs0m8SrlSKve0NZvEGiPPkXxCCTww5Fwc+0Uvr6lUPESxCmAf41bmb9Ahl8ZlMMKwgzFhGuyiPiJQhCIBHxEgQhkIh4CYIQSES8BEEIJCJegiAEEhEvQRACiYiXIAiBZM7ObXTidwqRfR92Lub0o2pND3JO7fHKc6O86UGC4J9ZI15u4lNp8fJTxy9uHvZq4wq0t9YZrykmHj53Aud62Fm8ONVwlWDs4uNXjKx65YhX5Tzs2clhBCvHJyM7/dfd2aKkcLuaQURfiuLn2ei4h/12OrbP6M4Q7G/vzy+/OvC5JbFGc5/ovYWO8276/OzN8773wus68ST1EYxl63GbPv3HPrk8Z5vAztcjhGP6ZHR6acKW3k8qYXyNtlWtG3Sl20jYRa4YXMctlYKXh31u4AROHj6gp+PvnESmZSkaYmbhNGKJjiVAxbDq+KlbiEp62LNN8krN8qNn//Uk7iw6BS9NwgW8Ym7vh7ksPm/6yMdJ1G5RInjcdEvdhZQvv/zKk8N9oWESG/emy9dqG5X5NXUseJ20MKIk5Gz3065kkNDsQml54id0L/2V9AWy1SxhkloUb7APf9FrXj5zXrxYeKxoyo+AcR23VApeHvbQbI1BjSCkpJH1+fwHjro4+poqzmjJr4BVgkp62B/VowLL4VMjSfRh2kfrxqneQXNxD71OUx5bPW9i8z7a5m6jCL+k/fK+2AOfxeQJNYkXQyk8TFHPc+EkHh5vtBzZDI372+90eahGadBnhKKfx+22PePkcA+J+f5cxGbHU5jC14m9wjJ0/pr+kI2jHhOwDQtuBb3GoomCXTlVn2hfLWaVeNmjoGIiZNV1Cg8v27dTDQp62FNUpu9/7WJonccxaLexKkIlBMytm+eWV4zSBa+yHvb7qfuzC6N4kI7jRerixKkr+r1igRJFFn20Leudv4mijbi+beqCUdkYvTaiC27M9MbQvgzvdpUEI44XNOq+0n4/lw3rhoHMNRRNTkQ2CeqSTbXJhXA/nbObV+Vm2ld7LjbZZ74Axa7TXtoXP6FoDcLYa+YZUKSlrzOAB1UNr5NgOh9/tp8EPk2iv9lcrjSzSrzsUVCxaMhe14lXGedZwuZMFWPohLH/g6eBJasx7yJ1G91SKSJWjuBV0sOeDQzZEfVrdBzsv95HkdF33AMHG9wtVLApNKg/qOImarDW8SS1GH6u5bBNL0uhg+raBYSjlaNUnx1JWVCtZw+8QXmgrtmDapq6ULkq2iVzlzeMp0u0pyl2ncZIgPpIFJP0Pz+yYkNIY2iBu42bVA/raxLxDvNlpZlV4jUdWMLmTBUn24ehwSgSCZfnO3pQqUF7/kC6JRawalMZD3uNIp6M/ogwY4BepQiCu5/FQi/qKpJI3Zatx83ZOnyJqjeNbwN4IVeDW/WyWvyEuvhREqliD1vlsZ/PZepI+BTqZo7g0VC6Kk/a2Uzi2MSupvoXTZKizww2hYdxn1nujp/rxE9KqsdDBS5dHwnbQY6czeU86BpVS7BFvGYQoait6Spx1NVlkRpJmRmFqcavjc7EAlY9Kulhr+hjOa0kbE16RX4uYQ69eVGJ4Sv/oGN/a8z/3LC/qIwhTQ3T+kVxoiyHLzoei+ZFO22Hu517aDv356LUkHN6t9bC8JxP4Yvmcrm8St29iS+aOAk4dfMcvzZuJnF7jsRzohvn5zqROFG9Qr8YxulatisTz7sch7YVp+3ndzcrx5y9z8tPV8++Tqn1C+HlYa8uuAyLWiL0GdKgqjkMn3vvotwqUYpQcV03rEitFMGrrId9sVsljJ/+QVHFHbbGup26TZ/hRWp4SRKEh2gd44cCDfeQ2F1Nr6JUfoqir2/qUQUP2Bte9kfpOPN97kMkBincpx+7vlEco23abykwPOfT+iPG7LeAeGPcwmA8PMRg8rrsTT+KXod43ULntl2J4Ols1OZUW+BWCdLmx2yP8tffB8Rcb5XopKj0XrqOdgHbrg7hai2hR7DVYFY7qRYSr9lEpaMuppAoFcMSrVLFS290s9XDvgBb1RFsItGwP0gj+GSoi5zFK1V8L8UGWphRzEYP+0Js5ptiKRrycwNtkGilL6JPUET2tLlcDUS8BOEiwmNN/Kul3/uyhAlkwF4QLiL8S5wIV3mIeAmCEEhEvARBCCQiXoIgBBIRL0EQAomIlyAIgUTESxCEQCLiJQhCIJmzcxud+J1CZN+HnYs5/aha04OcU3u88twob3qQIPhn1oiXm/hUWrz81PGLm4f9OKFGLLh0ORoHT+Dd0/5EqRquEoxdfPyKkVWvHPGa7GGfwwOhEdPRgT+qEezOxvC4vsyTf0fwGdP4jyds/yIbNaekFJuY7UaBfSljeE61XLoI2mc05+4hX3343Nw87PPPuY+Ozz7pvDA8rzSJlePbFA/7QGAXuWJwHbdUCl4e9gYh1LbOhzLk5pU5PViiYwlQMaw6fuoWwt3DXsVDugup4UR6PzWcm9SMbjPDgvIZJYSfUz6X/VxL4xbVELLyPOwL7It9ucbL6nSH0UM+LHEqj5eHveF60UTiYrm23u9buIAd6hiJUdhcMqFl8bCfwbDwWNGUHwHjOm6pFDw97Ak10Y7mTBf6UqV5nXPUxdHXVHFGS34FrBJ4edjbzezYKG+MIgvd1ZMaJ/tjteol3Jx4qo3RWsrysCc895VHBmtpb/v1SGOmeNhnKGKM4iWbLY3fiGcNicwNiI0/JWkC8bCfNuxRUDERsuo6hYeX7dupBp4e9moDWlqz6DlX3my3SgiYWzfPLa8YpQuet4e9IRCGIeIX+Qk+9E1vXCF2Y1BwA+Vz2TZqgD8xvcDK8rDX8drXBDdRlBHVIjbHhBngYU9C20TH/hEW0fAgCWUKd5tFhcniTlXBL+m43GJ98bCfJuxRULFoyF7XiVcZ51nC5kxTR6HuYhvQ1YmUr0ZWPfgD6ZZKEbFyBM/bw17B/VmjG/s4dQ3vtrpySON71HBeonwu+xk1qH+kbiMb9ZXnYc947csiixsUBQcdInTxPezpQ0OCOcZjVpl6fJOCoc15rqnu7FBHKZLz9twSD/tZhCVszjR1GpBoqUHjig26GC5rqwGal+PSxf4jqUoN2vMH0i2xgFWbYh72u/ixXiQo/Diya5Q0RTqR8TGyXdTA2AF1EzXkcj3s7dj3ZdFO+1zD4z3mcjGmy8PeEMwQde2MxUO66BQTjiyuoPNbaUaaulstR27muKGBeNgLRenHOZsYnjyTAnov7q+NzsQCVj28POy1vOhhAzXIOIkSWzPzcxUnHkfGT7vOUHeOH8BRroe9974stipjOEWi5teXfbo87FlkjmrWGB/QRMfeRNfAHslO9rAP4cu2L6eHciT+ucm/oIqH/TRg776xAPCy/b8dP109+zql1i+El4e97Yd4RFouw7JY10URr1KEiuu6YUVqpQieu4c92wmn0MrdMe4aUdRTmVsl3DzsC++Lu6lPhbPYk6mx5c0cD3t+WvaDdCzGDxhhvE7H9JD+2sDdw36CCY9681YJ+ice9heJQuI1m6h01MUUEqViWKJVqnix4IiH/WxBPOyFOYZ42M8OxMNeEGY54mFfPjJgLwgXEfGwLx8RL0EQAomIlyAIgUTESxCEQCLiJQhCIBHxEgQhkIh4CYIQSES8BEEIJHN2bqMTv1OI7PuwczGnH1VrepBzao9XnhvlTQ8SBP/MGvFyE59Ki5efOn5x9bBPLMelSxNIZ8xJbiPd6Dx1Hn68KKvhKsHYxcevGFn1yhGvyR72BmuUUXwnNIpuxwTmNcoY7lXH9InKaa0GP8mFsYdeGxOiJ65ct1arGxXyFJyJCczGhOxu3X9dLXqzqNe+mO103J8xLXc66fidk5SnB28P+/xz1nAsl8ibID4ZDffQOV1trE5out/ankwd9vAEbVWh17X4PpW007V+NDRmTBBHCi+G0hgbn7TtNkF8GNfqE9jNjDKRbiNhF7licB23VAoFPewvnMLJwweM5FO4Ko0lOpYAFcOq46duIdw97I2Gd28og8ikD3sGd4eyOJg1POz3YAQ7TAE5SuJiuJdyqkFSGcF2syHero4gSo3XKIsh6st11Htf3HhvUSL4obm9OG3vTr1kOinkYZ8l4R9DcvycE/hJUeFQ8BBty/Ltvy0XIUGKYLdZmtQ0dJjnv1XJ0rL+0oCF3dzPN3MaNqv5ho7P0raa6EvgJnO5XOa8eLHwWNGUHwHjOm6pFAp52JcLR10cfU0VZ7TkV8AqgZeHPXt87advebuvlg41mnaq/yqJ26NqDk9S42rlPCriqMeKfOLUsOP0Ue8zG1gXvU6w15RZxs2gqGFegX1toePuYy8sErEHlDD25tIUpfFK7JIxgidCQxSNjOpP53kuPIxvcBHBkdxT4/72SVrXLCiLAh72SoaisSietgmMX397i88qaRI/mxU0nX8fbXcTXY8NiOCome3EMIB0+tuH6b0cww1TOt9ZJl72KKiYCFl1ncLDy/btVANPD3tm3jKsXL8BKzouRVPc8TSXIlRCwNy6eW55xShd8Lw97A9RQ3nI7OLZ2cAPfqDuyR5dRMwHW1BjGTf7IzHh49gZHkWauoZW1+VZ6tbtpchpp16Wpq6o3Z/LHe99aWimQ2PDPhYja6J1woxK2OuKn7Kzhxr5GEUy92cVXKFymYatahqnxqOhOjzjcu6+of15edizIWJUy2E7iyiV7aQobLtZ5o8MrlapizweyTFs0pjBNoqq2Co6z/+efdno2vK1v5ve0xdyzucAKHiDrmWpzrZOZpV42aOgYtGQva4TrzLOs4TNmSqBMtKJowf349iB/TjeOYT48pVoKE2/KgJ/6NxSKSJWjuB5e9iXCXVf+DhuzcTokz4R2exQh0mMaimfy6LUhaHGZhRVAY46FHRTYx2itrp/XITZ7ZVEUeVoLYNbeNksKQ/aGAmrm4c9ixpIME9RN47LntRof6bXvx82UdTVTl29fHsbBc/TOa1UFezNEzVCoy8KurZ87bnbeJOL9TWLXdz6EigTGfMqEUvYnKkSaNkMNOvLaPQCBkdqEfN6vKMLlRq05w+dW2IBqzbFPOzt7OePL3X/rtH4wabmR5ka0jHj1ThJ6qa8oWXNMRr2bVdxNGcM0HPZIY0ap6P9OfHeF4kTbZYFYq8W1bfJ5zDkbNAuPJvj8akYRYEabggN4uGpRCIkJF4e9rpg0nFbn9LdHCnRufjz0s9RhJjVn1GZHz3RtdNi+FqmBs+Yy27wE4S66Tg2mMt2+LFyU0HEawahhmxhVqgONbUpjOXF495U49dGZ2IBqx5eHvYFYCGhqGUzIvgSidHtFCF06+JC0QIJguFfz+RIuFSc0gWF/2f0LosReWSou5f/TEfDV34UO8xlnQL72k2i1UTdpwRFel+jbW9SI9TYjdUKwQ2aG/AL1C3+WS6MJhIUO4bnfP7DXL0p4GFPAnKKu+V6CXANvTa8/i00fCOUxBNu4knnzGNpr3icD2/DKWp2+JxaaV/O8d0Ouu59dHxTYc7e5+Wnq2dfp9T6hfDysA+1rkcbtbhcToGqjmHw/RM4P+hPvSopXqUIFdd1w4rUShE8dw970ztd94G34Mdu1ei/SnrdvsA/x2/TxcBQw1JulTB85YFXMxPjZEzpt0rwgH0Oz2cj6KDydr4FRElhp36Oxm0hm/VD4PXs/vsGuuc8d8syk28dcaOQh7392CfvK0fnO4Q1WgKfc1x79qG/CXV57wm/H3dyt5s+pwbs4z+I5pz7rRL7czW4P0/8+JaONI76GGssxKx2Ui0kXrOJSkddTCFRKoYlWqWKl/Hr3NzzsC/E3SpF39T4p9LIZxp8a8mPlYj+vMdCUVsxxAZamFHMNQ97bzSKvFL4hBbDl21R4WxgM73HUXqPrXvGykXESxBmKDx+Ver9WHOJqY2YCYJQNUS4CiPiJQhCIBHxEgQhkIh4CYIQSES8BEEIJCJegiAEEhEvQRACiYiXIAiBZM7ObXTidwqRfR92Lub0o2pND3JO7fHKc6O86UGC4J9ZI15u4lNp8fJTxy+uHvZEZN4KtC2Ks/sKVLUPZw69j5RZVohquEowdvHxK0ZWvXLEa7KHPU/iTZkGgxrSWgzP5CJ4QV/micMj+IxiOTvaJxzn+7kntVp8LxfCIXq9Q03hpvF13CYOu5HFw+FhLBl3QlDxetY+cTune75vVmJ4KBvBq2budOPl9V/cw57nlSaxkv3A6DqB6u8Mj2AsW4/bdDeODJ6g82/NcXmOylKIjE++DtH2eHI7vTRhS+8nlTC+Rtuq1s220m0k7CJXDK7jlkrB08O+rh1L5mdw9shbOHn4LRx/57Qv4ao0luhYAlQMq46fuoXw8rA/SmJm+bI/jzF83nqwhjJGwhXCzymfy36upXWTPWYrCdRKzVqvDqeUJO40TRCGtCjuN9e5I6digzqKW4yiIkR0V1TD+TTfcWIHiejEwyouDt5e/8U97HeoY7Sew/mSlqMqWz3zZGq2/GFRs7CuRUKfYL2S1rdb9yTpGr+hpPDFKl6TOS9eLDxWNOVHwLiOWyoFLw/7GoqeRs+fQcoKCsadCYvDURdHX1PFGS35FbBK4O5hH8Ljur2MwevUgMYNCym/jyIewwKGmxN7Sxmt5ageFVj+VhqtY3l2KXiWtmH54bOnVJ+iIWEul0cOzajBN9nHPo/p9LBngYGH139hD/s1JDI3IDYezU4QwRtaBlvo+m2jbR/VI7DJGLbYTp96Bbvoi4En2leLWSVe9iiomAhZdZ3Cw8v27VQDdw97BeFICLmaVlyyZgM61q7F4gUNJb1BlRAwt26eW14xShc8bw/7CXIUIWRwbDwCiFBXUMENtC/e3zZqgOzZxeynbuIujOJBvSyFOEVv33PZ9haKGJqoG+rP4SCNrby90DCeoAhvwh1UxUN6l9SNafKwJ7y8/gt72Gdxp6rgl3Td3Jzj9pK4d9A1WkPd6/GHb+hQpGVe9wfpfF6na+jsKrOLalrJ6VbU1WBWiZc9CioWDdnrOvEq4zxL2Jxp6oSg0LsRj4zgzDv7cfTQcQzXr0DL1EKCsuAPpFsqRcTKEbxiHvbcNdtAovTYeCNP43vUcF6iffH+fkYN6h9Nb3Y2zLuJoqGv6WW16FOT+I6jXXPE8UUSzF2+xmVCeDJTr+/n5myN3g29x5dt83R52HtTyMN+B3WZkfP2T+OHa/RRdz5J//MjKzaENK47dxs3eXW9KfJiK+pqMKvEazqwhM2Zpk4GmTQwOjyMHLcJLYWRoSxiJZjYV2rQXm+gLokFrNp4edjvIPFhMfqmLcK5RkkjzhbK5vIuamD8SwdbQF9DgtBJEZpRV6UIgrtVfGENeGD7Afr078rGJo2xeTHRHVPxCu3LadtcKhX1sC+At4c9+/lTlzJkfDnpbrX89CFrTFEnhO9l6/FQgUPro+0d5MjZXM6Du+Xmy0oj4jWDSA0NIFJTa7wpShQ1dSGk0/TN6INq/NroTCxg1cPbw36rGUXZhYvZQw1rjL7ZrYHiLSRYhjc7RzUqWqmBGj72OWyg173mmI1hiayRcBlW0k5cPexJYCa6iRquoC+b5BSbT2U97AtA4uLuYR/Cl21fTg/xmB0JqvFr4wT8WLdCkWmctteuuDwhnM4nTu9DfnezcszZ+7z8dPXs65RavxBeHvb89JeahZeirTlMzU1Btvc9nD47oA+HFqOS4lWKUHFdN6xIrRTBc/ew55/srZ/lTbQofpiL6P7x5dwqwX7rm1j49HpM/m0Prh72JHjPqbyGtb0aPD7uYc+3USTN2zkMkrl6Oo/ctHrY+/X6d9sXo6+P2MStEvTvMdttHxPlk2+V6MzVmL79E7D//dVaAl+qTkA5u51UC4nXbKLSURdTSJSKYYlWqeJl/DonHvZ2guthn8GjoSxeqeJ7KTbQwoxCPOwtgu1h30pfRJ+giMwZ3VUSES9BmKGIh31hpjbiKAhC1RDhKoyIlyAIgUTESxCEQCLiJQhCIBHxEgQhkIh4CYIQSES8BEEIJCJegiAEkjk7t9GJ3ylE9n3YuZjTj6o1Pcg5tccrz43ypgcJgn9mjXi5iU+lxctPHb+4edjXtK5Hq81LMBQJY/DEGzjnY25INVwlGLv4+BUjq1454jXZw37yROpjufi4X7r3xGwuG6Yyo2InbdOYOKzpXvMTls2a7iO2J1OH75s5XhTygXff13SSwwOhEazRX/NxRLA7GxufE2mfmJ3WavATc1L5BiWF+2wWON1arW7oeEifEC8e9jMeu8gVg+u4pVLw8rBPdR/AycNmOnYWo7leDA6bhdOIJTqWABXDquOnbiG8POz5IRl7dbdRI403EmqQXh727dQob1Ei+KG+TgzxUAp36iUKHqIGaG3rtlwEY5ofJ1VvH3jvfU0nKh4yz4mP7X4SmJvUjGmDncHdoSwOmtdpD0awwxTaoyRkhs8/pxoklRFst4RdEw/7GQ0LjxVN+REwruOWSsHLw95OqL4Jsb5+pGzfZoXgqIujr6nijJb8ClglcPewLwBFBF4e9ltoW33sT0UN6AGKAPbm0hR96EV5fFZJkyA5LY5dKOAD772v6fWwt5v+sfEie4Xp7qcUmbbTdX2VoqlH1RyeJLFu5Twq4ujQihDjFEXFSRL6xs9RPOynDXsUVEyErLpO4eFl+3aqgbuHvZ1a1LeE0NtXmmhUQsDcunluecUoXfAKedjTt394kLaZxFMUCdxk5nLjcvew19BM7YxN9Fgg2JCQu5yJSU6lGVytUvfJo1Ha8faBL7av6fOw523eZ7qifpEiwccpImJh2sDiQl28Pbpgme5wdHzj/mMkurzOzvAo0tT9sz8VSTzspwl7FFQsGrLXdeJVxnmWsDlTRambj2bqMib9mahWHP5AuqVSRKwcwXP3sFfwQpa7sOwfX0cikMIO03+9kIe9HzZR1NVOjc6PbUshH/jCTKeHvULiaFyLx6kLffd4t7EI1HXkdW7NxOgc8yNA8bCfRVjC5kyVQ0GiuRmjfT3UNEujUoP2/IF0Syxg1cbNw37CO16hRhkmkWP/9UIe9iQYJAwsOHu1qB598HaH8iKsHEU+WRzSjOikGN4+8H725U41Pex3kSgnSby20Ov93MzpWK+h4z9lNXk6vmPGq3GSFF29oZHY5B2HeNgLflGbEG8cQH+/3c63ONX4tdGZWMCqh5eHvd07HtjKYyjUILgL4+1hz+ISRRM13gRFFV+jKGmTGiGhMurpUN01JDOvuDRKVw97aqDuPvA+9uVBZT3stbzu2Qa6LnESK134WbTofDdTN/tL1K2+nUS/Wxcyij5pPcPnn8mRcKk45RBe8bCfBuzdN46GeNn+346frp59nVLrF8Lbw56+55pWY3n8HI519tHHyj+VFK9ShIrrumFFaqUInpeH/RMkJE0c+dAV8f+4/8K3L7C/+k2oc+zLwNXDnijkA+++Lx6wny4Pe7ZdTo3fxuH3Volb6Bi26aJpCFberRLiYX/xKCRes4lKR11MIVEqhiVapYqXeNhPRjzsvREbaGFGIR72FuJhXwwRL0GYoYiHfWFkwF4QZigiXIUR8RIEIZCIeAmCEEhEvARBCCQiXoIgBBIRL0EQAomIlyAIgUTESxCEQDJn5zY68TuFyL4POxdz+lG1pgc5p/Z45blR3vQgQfDPrBEvN/GptHj5qeMXNw97hBrQsnQpGmIaclCQ7X0Pp88OWPZxBamGqwRjFx+/YmTVK0e8JnvY88Rsw+TPIIcoavD9bAR7FCpTJyZtJ7UaPG5OON6uJvEZY66xTlTJ4li2AV+mT3u+F72KQ7lafFNvBYXI4uHwMJbok5EZFa9nzYnbbOYXymDMcmPQovhhjo7PWJp2ttA1vJsO0z6h22titvexi4d9ILCLXDG4jlsqBS8P+2hLOxLJ4zh+6ABOvnMcI/NWoMWvs14FsUTHEqBiWHX81C2Eu4d9BHeMe6zH8QtqSGy5bAiDir26L7tRth/D497sT1Mjs/I/l42iT4thr16k4R4SLpgOprdlw2inRu1qpDcJy7edU77jBKjxju/vIgoXC/M2ui75po7eHvY6XsfO3mmqeNjPWFh4rGjKj4BxHbdUCl4e9pnRFNRI1HxT+F0fQ9qnrRdHXRx9TRVntORXwCpBcQ/7LDYoIRwcjxJCNrcFdiINIeHSWDZRw4vTdp/Xl3JoZsdWs+0maZ1T1LhdjfSmzPR62PO53UMitZ8EKG8iN0WdXh72hREP+2nDHgUVEyGrrlN4eNm+nWrg5WGf6z+BrswiLOf9r1+GUNdRXCjBCroSAubWzXPLK0bpglfIw96gnbqJa6jh/dxczocamaLgYM7ZwNgxNWdzTGXTwwxtix82ATSRsHVQYh/64qQN3/bQMHVXSUjNXB3qqrG3/XMkVg+Y2zaYPg/7zRS5tudi+Im5bFHUw97z2MXDftqwR0HFoiF7XSdeZZxnCZszVYJIy6VYFDqNE7z/A8cwNn815teZhdMIfyDdUikiVo7guXvYW2j4PDWiY66RWQ73UcNL5Gryu3JEnAWPuqIvjQuDgp+QUCSpwe4MD+ExEryjfgYVSYSezLCPPnWnszU4pSRxj9n1aqUu6Zf0snrcQV3a9lAKd+slzHR52KdxuxrG0x7RkReFj1087GcVlrA509SJoq6xBkMD/cZ3ozaCEepX1tROHhvzolKD9noDdUksYNXGzcNeh0ToCljjVnZy+AZ1uTq0OO4kgXD6Xm3nhkeN0h4VsFf7lynauTmTwK3U8KCEC0Z8FhNe+ipeocZs2TZ3k/BYgsp+7ke1NBb50JBKethvpiiuiZ1o9S+aJEVV/MSlYdxHZYU87Isfu3jYC0UZw+hwFrV1ZtCu1KA2EUI67a/fWI1fG52JBax6eHnYG2wl8QJ1GfPN7TTcrY5gLQtXzs2wj/3ko5MebcbPebR+vdygcJcof4Dd1cOe9jXRTdRISDO0P6P5rKFlq6tl+LlTlOJDhyrpYf9qrm78S+bmTJyEibp51q+NLFoU3bl52Ps5dvGwnwbs3TeOhnjZ/t+On66efZ1S6xfC08N+htwqUYpQcV03rEitFMFz97BnsniQujM8ZpR3S4P+M3+auja2+loNPsfRFMHbu0/hBuvoapJgPUeRCkdtUYrmnnV4x7t62Ovr8D0tLIRet2Xwwdn93KfTw94O39Yxil4ft0p4H7t42F9UConXbKLSURdTSJSKYYlWqeJl/DonHvZ2xMPeG7GBFmYU4mFvIR72xRDxEoQZinjYF0YG7AVhhiLCVRgRL0EQAomIlyAIgUTESxCEQCLiJQhCIBHxEgQhkIh4CYIQSES8BEEIJHN2bqMTv1OI7PuwczGnH1VrepBzao9XnhvlTQ8qTLnHZC+fyjHZt+u1Dee+GavuVPYtTGbWRF6W+FipGjj3YU+lwh72Ky6/DI12DxiemL3ycqxYvR4r1qzHwrxCb1i4WMAqjVtDdMKN0ZmmAk9WZhuXqeA8Hj/n4Qf7Nr2w17FSsf2z/fVOlY0ChVKQbiNhiZJXVGWH67ilUvDysK9tXYHa/ndx/PABHH/nFLRF7ai324ZPE1aE4KfhMVadqYqEu4f9xYfPyytVgunwe5+NzHnxYuGxIic/AmZFWs5UCu4e9jWIkp6NjqaMRW0QyWQCtT6dVCsVfXGDZNGy8CtglaC4h33pOM+HKfV8LCG3tuNcnjrV93ufjcwq8bJHQcVEyKrrFB5etm+nGrh72KfyzQhD85CoB6KsaD6phIC5NchyGmnpglfYw94SoVK26yZcTLnnYz+GYsfhVe6VX22/99nIrBIvexRULBqy13XiVcZ5lrA5UyVInTuO/tgSrFi7AcuW1mHsgs9HB1UYq3E6UymNvhyBKOxh759yjtcL+7as7VmvrbJSKHhMVfR7n43ImFeJWMLmTBUhm0T/qXdw/OB+nDx+GplwGKMpsxvpg0r96mg1TmcqtaGWQ7GfKPwch3W8lcC5Lfu+/eyH6/s+lir6vc9GRLxmEmoIqjVoG2vFvEQ/hkbM5SJU+nYJbnTO5LsRloW3h305++Z13KjuOUzG9/6q7Pc+GxEP+wLY1ym1fiE8Pewj87F4RSsiCCGkDeL8eycwMOoxCOSgkuJVilgUEolSRcfLw95tO1ae1z5K3bcXvJ1i2PfjVb/QsTLV9nufjYiH/Syg0lEXU6gRFsNqpIUaqzule9gX2sdUzqEaeB9r9f3eZyNiAy3MKOaih/10+L3PRkS8BEEIJDJgLwhCIBHxEgQhkIh4CYIQSES8BEEIJCJegiAEEhEvQRACiYiXIAiBRMRLEIRAIh72Jn6nENn3YediTj+q1vQg51QWrzw3uJ73dBhBmDqzRrzcxKfS4uWnTlFqFmDxJa2IRTTkoCB74X2c6e5DVn8XQqhZeCnamsN61eSZIzjbP6a/LkY1XCUYu/j4FSOrXjnixR72Tbk63G8uM1uUFG5XM4joS1H8PBvFC/prnk40hnvVMbCFY1qrwU9yYewxikx4vmQSK7U4bs4ZntpxpPFgaBStdP2583EoV4tv6te/MN77ytL2RrBS3x7QScd/r6YgqS9NL2uUUXyHzq0724AvW+ekpPGEOoom/fg0JOnYH590nSZzC70X25TxjdB51erntYny71EV7MnU4vtU0k7vz6OhMRzjfSKFF0NpjGncqeN1w3g9W4OHeBMmvN1rtbqJ4ysT6TYSdpErBtdxS/4Zw4VTB3D80AGcfOcQ+qNL0dpoiJXSsBSX1F3Ae+9Q+ZEzUC4RD3uSCRIu4JVsAp+j9MNcFp9Xc2ZZBneHsjholu3BCHaMNzaDHSQ2Ec24vgYa7qHGjRyvE8dt2TDaqc4tZqk33vvaoSbRTo3xNtre56ihQk3hTr1kemFRvjdEIj9JFFTs1Y+bjy+O/RiedJ3c2E0ibK1zWzaCOF237WZZUtPQYW5jq5KlZf2lAQu7vl4C38xp2ExfPPaHizybi6CJrvlN5nK5zHnxYuGxoik/AsZ13JJvUv0YHjPfaS2D0VQGashoXDXxBowO9AFNyzEv3IvB/gTqEi4GVy5w1MXR11RxRkt+BawSuHrYU8OIU0R60FzcQ6/TlLeFF+h/O9V/lRrtoyRoT2oRtHKeXpOjkBRuQGw8SjPIoZkdW823IEnbO0XCtNZY9MZzX5ruQdZNkYYRadGxamms1N82jvpG8ERoiKKRUT0CfC48jG/o9YxI7ikqe47zKT3g7632hI9jP0VD+83lcbQQHjdfcgR1lI7Rz8fKbowYJaFKUNTVay6Dzr9PyWATXY8NFBMfNbOdtOsCZ1tPJ0zHOIYbpni+s0q87FFQMRGy6jqFh5ft26kqoSbMa8lgcJDdUsMIR4HRsTFEaxoRpdf05YZIOGbU9UElBMytm+eWV4zSBc/Dw54aXh+JhPVu3EQNJm4K1AYSInYf3aMvm9EYNZaV+oss7qSuzS9zKjUTO2x6SJEA1ePuXxNtr4NSc5GG5L0vBccov1XJUbeMo58MNtC2mvVGy4Swi6KQPdTIx3Jx3J9VcIXKZRq2qmmcMiPAz2Xr8Izz3EvkEAnKQ3rXsBAZ6oYrOJjzpxybqYvH7+VTFHW+kbNb9oRIgDLYRlHVGIl63jVmXzZah9e7m97TF6i7nt+FVvAGXTND2MpnVomXPQoqFg3Z6zrxKuM8S9icqWSUGjQua0ek+yR8DmtNG/yhc0uliFg5gufuYR/B49TgN4UGKXoZpq5G2JfP/Q6Vu4Zu/lgKdWnqkKRGuTM8hMeoIR+1eqFl8jR1rw4ihSfCg9TIcxSF2fv6HHUoemQ2RG11/7i40H5peQN1MR8g8byFl82S6pHDfRQJJnL5Y1CFeJXOjd9L7l6vDaXwRTOfj/95OqeV9AWxlyKyPLRaPETr8HrcbbwplKYILR/+yMetL4EykTGvErGEzZlKQheu1ajvP4z3ey2P+gwy9I7GKOQaHe5HNkPV6DORzlAj9EmlBu35Q+eWWMCqjZuH/R4tRo2nHjeT6LDTaBOJwyHK388fX4p4rqHlU9ZHmRrSMYq6rqCIYGXIEN176DXUJF5UjUc2JUkAv0zRzs2ZBG7lQXwl7PnUIgvvfTEq7ufxoUw9RVBR6m5lSayKRzbP5ngsKYa9FIXdQOL88BQjkcLk8A3qmnZocdxJolPqjwl9FF0d1cYoOjYziCS9L1/L1OAZc9kNfipSN0WrG8xlO2PjQl4eIl7TjRJF4pIO1A8eRmdP/sM1UskBxBqaoPSfQM9YM+obhzDMX9c+qMavjc7EAlY9vD3s15j/uav1RWUMaWoQ+i9lLCQUtWym6OxL1D28XUnrUc8p6tJ82Sa6D+XC1HYnfm1spcRdPGYDbW8NrW//5a2dn2AdGsUOc1nHc18G1jE20fauoff4DR9vGzdobsAvUHfvZ3SMTSSOdjZT9+u50Bi2msvlo+FudQRrWbjo2CcLl6YL2xMO8byG8s0H8dF/fm8ik0SexbuQEPI5tZKQ5z+jFOigL+s+EtGpMGfv8/LT1bOvU2p9TxLLcemyBqTTtgc39p/CyW6OambGrRKlCBXXdcOK1EoRPC8P++0UNX2GRY0aQpIinIdIhKxB6eK3ShjjNvcgNi5eoHWeU9P0IkeRHnUtKVqyu5huoON4gKq+mqHuj5nHeO8rjSdIZJr07ZEQUrfs+3qr4gH7HJ7PRtBBx9BOx36/ksJO/RyN20I262LNlaP4heM4bqHz3s7dskz+rSNe6OfJUeY4UbxAkdHPaJ8Tty+Y0PF/zroedNwPhIawRktQnlWHBY+Pz1KrEDrpvKxbJe5ELZ2D9U2jUXd0EM0591sl9tN691ub0eFbS9I4mq2x/ZBQOrPaSbWQeM0mKh11MYVEqRiWaJUqXkZjL83DfrZzt5rCGDX+qTTymQbfF/ZjiuJuI/EstftqR2yghRnFXPSwd0ejyCuFT2gxfLmMMaqZzGZ6j6P0Hu82l8tFxEsQZih8O0jePW9CHlMbMRMEoWqIcBVGxEsQhEAi4iUIQiAR8RIEIZDkDdgLgiAEhXHxEgRBCBLSbRQEIZCIeAmCEEhEvARBCCQiXoIgBBIRL0EQAomIlyAIgUTESxCEQCLiJQhCIBHxEgQhkIh4CYIQSES8BEEIJCJegiAEEhEvQRACiYiXIAiBRMRLEIRAIuIlCEIgEfESBCGQiHgJghBIRLwEQQgkIl6CIAQSES9BEAJJYfFa9ml8/Er6fyX9X2ZkFeLyT30aC83XpfNRfPxT7eZrbxbSPi43XwuCMHfJf/QZidXtn12DRnrZf/D/w5MHP4CPt/4KvwWJVzf9P8mV2vHx//nf8ME4v7Y4g5d+9P8CJCxnf/0rnDVzXbnyv+Mfrm0zF4gzf8S/7fwPesHidRq//fUpI99Zz9zHWRZI2sdbZq4gCHOTPPG6/NZ/wCfG9YLE4vl+LJwkXhNcfut/B3aSaFnrJQ/h5/9PEfHKg4Tw1k9jRVt8QjAt8XLCUSAdy1vNIl6CIDi6jW/t/Df82/OH8B6JyL9RlFNIIFjo1lzox0f/J0VbvN6P/g0vvWcW+uTyW/8bmo/9Df3mshtT64oKgjBbKTpgv+Laf6Dum30s6qP4r18l4Tr2b/g/FAE9+RvgZlr+rzw25oOFn/pf+Aeqz0nfxp//A/+HhO/ffvRHHDfrFKYdnyhhf4IgzE4mP+6fx5pWHjPGocyumle3sVzyu6cTuHUbOfLSx9H4RwM6hrfWSrdREIRJkVc7Pr6yHy9daCn8ix4LnBk95SXqQlari3f5yjX44Gf/F66fZ2YIgjCnsYkX/4r4aeB1imp+3YM1X/1fFHWZRdNE47zF5is+FkMQP7F2DT7P/9uS+Nvz/xu/v2BWEQRhTjO52ygIghAAig7YC4IgzEREvARBCCQiXoIgBBIRL0EQAomIlyAIgUTESxCEQCLiJQhCIBHxEgQhkIh4CYIQSES8BEEIJCJegiAEEhEvQRACia+J2bGOdag5+rbN8bQBi667Fit0H/sevP3rP1PZEizqGEDX0QG9hjd+67lRi6YrrsaKZtJcJYSxrjdx6O3TyFBJuHUTLl83D2Elg7Nvvo73zo0aq3gQW3kd1i+LQdVGcGLvH3F+yCwQBCEQhFqWXPod8zUaP/h32PjBVWi/1EpLkDlzAqnEAoT7zsGQA7twMXVYcGkzBt8dRKR5FEN9DtFoXYdFOIehtLlM6yfc6vkiAm2kE53vHMaZ493ApVegfuA4BseWYNmVDeh+7Q849l4IizYuwvDJs7qouRJfh7WXjeDQ7/8Dp/qbsfrSOpw9cwFiryEIwSGv29j/t3/H67/+d+w70oPjf+D/wIrrSNBWJcwaDEVNh3vM1waDRw55+tDHaNWRJAve3+HqT3H6AOabZRZq25X46MevQN4DiVwZwejAiPl6COlUDLFaetm8EPP7ujG4YBOWNpxDf64FjQU2Fp7fArXrNNTVmzB/uAf9Cxeg3iwTBCEYTBrzinXcgFUkDLXXXUldxVdMMSvcp6qvb9D/1666Fldftw4xfYlZgib62/ypNRghMeRtvf7rN3HeKJwgmyGBG/GOlNyIrMD8BRfQzxsLhxHWsgjVJhCrGcHIIIlajVHNjVA4hFwuh2jtPBK/Adp3DJGJgxYEIQDYxMuIjlZhH946+jaO//o0ic7f4fIOQ5jGab0SV3+oxVwwWfQBXP3BxRg58ke8/oe3bd1Lyhvf1pX6483cyJ3dh/3/cdhczwfKPCz6SAcyb+xDb9bMEwRhTlFBJ1XHQDyPdQ29ja6kscjlja2d6O82F8smhsYPXof2wb0ksqYndMtGfGRpD/7zdAuWZg5j7LJNwBuv2PadT3jZdVgXfRPv5FaivrML9TcsQe9v+EcHQRCCwiTx4kH7dYvMBZOuv/47eHzcwq0OM0iR11v2XxHj63D5dcvyx5OSJ7FvPDoz4DGvj6wdxVu/fQMeejMOd2vX17+L/X/rnOhmKkuw4mOLceEPf0YfOnDZNXV479U3YYyORdC4/jq0De/FoePmsfFxbQSOvEbHMe8KfHDFAPbvO46cUSoIQgDIFy9q1IsSFC05oqPGD14J/K1YZDL5FojGjnVIUbcxrztI+1ixqBPHbfXUhRtx+YohvFO067gYKz55BeaPpZE1j/r8gZfx3rlCt0rUYv6VN2D50F7sfZsqmsitEoIQbMqKvHzjM/ISBEEolQqOeQmCIEwfMj1IEIRAIuIlCEIgEfESBCGQiHgJghBIRLwEQQgkIl6CIAQSES9BEAKJiJcgCIEkz4zQnQYs6liAoT7bnEUnPK2o+RzSi9YhMW5aWArskHo91q3rQNvKVWipHUHvuUFjrmFkCZZddyU6OlZhAeX3WPke8DShDVeuw5KVSxEeOoP+YZ+2EzWrse4jLbjQ2VNkjiNdj2s+jg+0pNDZZV4Tdrm46r9g9apVaF0QQt+ZHuh79cr3osRzFYS5jE28lmDFp67F2nEXVctJ9QyQiNnEK79eZPBdXBhbgET0HFJRu+NqKXg4pNKGGjdcicR7f8Dbb55AdsVGNAwa+a4oJTqq2qjtuAKJs2/g3GBhuYh1XI32xgxiY73j4hXruArtqX144y8HMNh4BZZEOtFL2/HK96KkcxWEOY6t29iJ47pZoD252crY6v3hpOnc4EHDOmz4xLWYX9Toz8MhFa2Y1zKA3vOLsWLdPAz25NC8wOEvZqdER9VxlMVYuOgCus6Me1V70IDGui4ceXfYXGZqUT9fRe+ZEBZvWI3R3iHMX9haIN+LEs9VEOY4eWNebDdjWDUbadyIcPEHaNndTHD+h6judcuoqbqQzWBsZATpUixS7Q6pFJGpESAXrUW8tg7poWHU1rjuyaBER1ULtW0ZGrtOYrDoLM8BnH3zEEbzgqcIwtEcclotYs0xRIaGMBirQ9gz34sSz1UQ5jh54jVKDcaOZe+M029SpOViiZNIFPZ+Tx7GoT/sQ79ft9OL4pCawPxlYXSdzPflFwRhZpP/ayNFB8f/aus2/q3TLHAnlhjC2366j76IofGKTZjfvRfHu62BnjRy1JNTRwYwODKMULwOI6kCe8pkkFFCJMIDGKWuZ23dKP03y7xoWIFFo504X6yeJ2lkxlSoygBGzo0iTccYHx1GxjPfixLPVRDmOJNuldC7gbau49WfuhYr3MKr1iuxsX6gsEGh7zEvYyC8A4dwyLJ21unGhZ4GNLeew8m3L6CRx5DO5ZsYbvjo6okHfvSexfmmVjT17sN7A61ojPSgv4g1a/2yBeg/NRUX1REMns+huU1F14HDiLU00GGw+ZlXvsGkYy9yroIg5DNJvIrCBoMsam2ni0Zm/se8FmPxpbUINa3BhhtuxEZKSxcYJf0HDiGz+jps/PgNWDx0CGdt7VmtqUVtvHZiHEnrxKkDOSz7Lzdi03XtGHn7cOGIMERRV9M5nJ0wWC1CAgs/Qse3vgVYuJ6O8wq92zx67G8437IJGz/2SaxKdOI9c+DfK5+ZdOxEoXMVBCGfOW1GGFl+HVbhr3j7hHhAC0LQECdVQRACSendRkEQhBmAiJcgCIFExEsQhEAi4iUIQiAR8RIEIZCIeAmCEEhEvARBCCQiXoIgBBDg/weyrhcKpeqLMgAAAABJRU5ErkJggg==)"
      ],
      "metadata": {
        "id": "CCurVTIECiV9"
      }
    },
    {
      "cell_type": "code",
      "source": [
        "sizes = [[60, 50], [30, 70], [60, 30], [80, 40]]\n",
        "\n",
        "[min(x) for x in sizes]"
      ],
      "metadata": {
        "colab": {
          "base_uri": "https://localhost:8080/"
        },
        "id": "jtDq98p4CiDP",
        "outputId": "91c55fc7-21f9-42ed-d5d8-597ce5d92c2f"
      },
      "execution_count": null,
      "outputs": [
        {
          "output_type": "execute_result",
          "data": {
            "text/plain": [
              "[50, 30, 30, 40]"
            ]
          },
          "metadata": {},
          "execution_count": 44
        }
      ]
    },
    {
      "cell_type": "code",
      "source": [
        "sizes = [[14, 4], [19, 6], [6, 16], [18, 7], [7, 11]]\n",
        "w = []\n",
        "h = []\n",
        "for i in range(len(sizes)):\n",
        "    if sizes[i][0] >= sizes[i][1]:\n",
        "        w.append(sizes[i][0])\n",
        "        h.append(sizes[i][1])\n",
        "    else:\n",
        "        w.append(sizes[i][1])\n",
        "        h.append(sizes[i][0])\n",
        "max(w) * max(h)"
      ],
      "metadata": {
        "id": "HQ1CcG0ZC2a3",
        "colab": {
          "base_uri": "https://localhost:8080/"
        },
        "outputId": "7c27e8b2-c38a-4345-e1cd-cd00438d0449"
      },
      "execution_count": null,
      "outputs": [
        {
          "output_type": "execute_result",
          "data": {
            "text/plain": [
              "133"
            ]
          },
          "metadata": {},
          "execution_count": 4
        }
      ]
    },
    {
      "cell_type": "code",
      "source": [
        "w"
      ],
      "metadata": {
        "colab": {
          "base_uri": "https://localhost:8080/"
        },
        "id": "_rnGoJTwE_lx",
        "outputId": "cde96232-c659-434f-8031-19b73256e418"
      },
      "execution_count": null,
      "outputs": [
        {
          "output_type": "execute_result",
          "data": {
            "text/plain": [
              "[14, 19, 16, 18, 11]"
            ]
          },
          "metadata": {},
          "execution_count": 7
        }
      ]
    },
    {
      "cell_type": "code",
      "source": [
        "h"
      ],
      "metadata": {
        "colab": {
          "base_uri": "https://localhost:8080/"
        },
        "id": "9GIbSZDuFAPs",
        "outputId": "f2eb616d-1c08-4030-8927-6002ba80c0e4"
      },
      "execution_count": null,
      "outputs": [
        {
          "output_type": "execute_result",
          "data": {
            "text/plain": [
              "[4, 6, 6, 7, 7]"
            ]
          },
          "metadata": {},
          "execution_count": 8
        }
      ]
    },
    {
      "cell_type": "code",
      "source": [
        "max(max(x) for x in sizes) * max(min(x) for x in sizes)"
      ],
      "metadata": {
        "colab": {
          "base_uri": "https://localhost:8080/"
        },
        "id": "VmKstKYOEaby",
        "outputId": "1a361f9c-5632-43ed-dda2-3f4178784630"
      },
      "execution_count": null,
      "outputs": [
        {
          "output_type": "execute_result",
          "data": {
            "text/plain": [
              "133"
            ]
          },
          "metadata": {},
          "execution_count": 13
        }
      ]
    },
    {
      "cell_type": "code",
      "source": [
        "def solution(sizes):\n",
        "    w = []\n",
        "    h = []\n",
        "    for i in range(len(sizes)):\n",
        "        if sizes[i][0] >= sizes[i][1]:\n",
        "            w.append(sizes[i][0])\n",
        "            h.append(sizes[i][1])\n",
        "        else:\n",
        "            w.append(sizes[i][1])\n",
        "            h.append(sizes[i][0])\n",
        "    return max(w) * max(h)"
      ],
      "metadata": {
        "id": "zViUfjPLFHCw"
      },
      "execution_count": null,
      "outputs": []
    },
    {
      "cell_type": "code",
      "source": [
        "def solution(sizes):\n",
        "    return max(max(x) for x in sizes) * max(min(x) for x in sizes)"
      ],
      "metadata": {
        "id": "e2S9ZweFFW-F"
      },
      "execution_count": null,
      "outputs": []
    },
    {
      "cell_type": "code",
      "source": [
        "def solution(sizes):\n",
        "    row = 0\n",
        "    col = 0\n",
        "    for a, b in sizes:\n",
        "        if a < b:\n",
        "            a, b = b, a\n",
        "        row = max(row, a)\n",
        "        col = max(col, b)"
      ],
      "metadata": {
        "id": "zk-1dDqpFgj-"
      },
      "execution_count": null,
      "outputs": []
    },
    {
      "cell_type": "markdown",
      "source": [
        "# 가운데 글자 가져오기\n"
      ],
      "metadata": {
        "id": "F-HvM2_6TpCv"
      }
    },
    {
      "cell_type": "code",
      "source": [
        "s = \"qwer\"\n",
        "if len(s) % 2 == 0:\n",
        "    print((len(s)//2) -1, len(s)//2)\n",
        "else:\n",
        "    print(lens(s)// 2)"
      ],
      "metadata": {
        "colab": {
          "base_uri": "https://localhost:8080/"
        },
        "id": "c2K-8xs4TIAJ",
        "outputId": "aecba12e-3d82-437e-85da-454266ce180f"
      },
      "execution_count": null,
      "outputs": [
        {
          "output_type": "stream",
          "name": "stdout",
          "text": [
            "1 2\n"
          ]
        }
      ]
    },
    {
      "cell_type": "code",
      "source": [
        "s[(len(s)//2)-1 : (len(s)//2) + 1]"
      ],
      "metadata": {
        "colab": {
          "base_uri": "https://localhost:8080/",
          "height": 35
        },
        "id": "7svKnDxjTH-f",
        "outputId": "2a85b6dc-dda7-48ca-96dd-43ec67107756"
      },
      "execution_count": null,
      "outputs": [
        {
          "output_type": "execute_result",
          "data": {
            "text/plain": [
              "'we'"
            ],
            "application/vnd.google.colaboratory.intrinsic+json": {
              "type": "string"
            }
          },
          "metadata": {},
          "execution_count": 23
        }
      ]
    },
    {
      "cell_type": "code",
      "source": [
        "def solution(s):\n",
        "    if len(s) % 2 == 0:\n",
        "        return s[(len(s)//2)-1 : (len(s)//2) + 1]\n",
        "    else:\n",
        "        return s[len(s)//2]"
      ],
      "metadata": {
        "id": "G7zJHVZ8TQ7v"
      },
      "execution_count": null,
      "outputs": []
    },
    {
      "cell_type": "code",
      "source": [
        "def string_middle(str):\n",
        "    return str[(len(str)-1)//2:len(str)//2+1]"
      ],
      "metadata": {
        "id": "DYPHciG9T3H3"
      },
      "execution_count": null,
      "outputs": []
    },
    {
      "cell_type": "code",
      "source": [
        "def string_middle(str):\n",
        "    a = len(str)\n",
        "    if a % 2 == 0 :\n",
        "        a = (a-2) / 2\n",
        "    else :\n",
        "        a = (a-1) / 2\n",
        "    return str[int(a) : -int(a)]"
      ],
      "metadata": {
        "id": "ZRg379sLT9fK"
      },
      "execution_count": null,
      "outputs": []
    },
    {
      "cell_type": "markdown",
      "source": [
        "# 같은 숫자는 싫어"
      ],
      "metadata": {
        "id": "BgLwXNFZWn7e"
      }
    },
    {
      "cell_type": "code",
      "source": [
        "arr = [1,1,3,3,0,1,1]\t\n",
        "\n",
        "res = []\n",
        "for i in range(len(arr)-1):\n",
        "    if arr[i] == arr[i+1]:\n",
        "        res.append(arr[i])\n",
        "    elif arr[i] != arr[i-1] and arr[i] != arr[i+1]:\n",
        "        res.append(arr[i])\n",
        "res"
      ],
      "metadata": {
        "colab": {
          "base_uri": "https://localhost:8080/"
        },
        "id": "y26OtF8VWrig",
        "outputId": "f34a4bdb-94d7-4dc8-d157-7f9c9a3b2058"
      },
      "execution_count": null,
      "outputs": [
        {
          "output_type": "execute_result",
          "data": {
            "text/plain": [
              "[1, 3, 0, 1]"
            ]
          },
          "metadata": {},
          "execution_count": 11
        }
      ]
    },
    {
      "cell_type": "code",
      "source": [
        "arr = [1,1,3,3,0,1,1]\t\n",
        "res = []\n",
        "for i in range(len(arr)):\n",
        "    if i == 0:\n",
        "        res.append(arr[i])\n",
        "    elif arr[i] != arr[i-1]:\n",
        "        res.append(arr[i])\n",
        "res"
      ],
      "metadata": {
        "colab": {
          "base_uri": "https://localhost:8080/"
        },
        "id": "m3gcD3jVWufC",
        "outputId": "414becab-dea5-4369-9df4-ad17262b314d"
      },
      "execution_count": null,
      "outputs": [
        {
          "output_type": "execute_result",
          "data": {
            "text/plain": [
              "[1, 3, 0, 1]"
            ]
          },
          "metadata": {},
          "execution_count": 21
        }
      ]
    },
    {
      "cell_type": "code",
      "source": [
        "def solution(arr):\n",
        "    res = []\n",
        "    for i in range(len(arr)):\n",
        "        if i == 0:\n",
        "            res.append(arr[i])\n",
        "        elif arr[i] != arr[i-1]:\n",
        "            res.append(arr[i])\n",
        "    return res"
      ],
      "metadata": {
        "id": "VbiJJIDoYkft"
      },
      "execution_count": null,
      "outputs": []
    },
    {
      "cell_type": "code",
      "source": [
        "def no_continuous(s):\n",
        "    a = []\n",
        "    for i in s:\n",
        "        if a[-1:] == [i]: continue\n",
        "        a.append(i)\n",
        "    return a\n"
      ],
      "metadata": {
        "id": "LNFK1uPBZp-2"
      },
      "execution_count": null,
      "outputs": []
    },
    {
      "cell_type": "code",
      "source": [
        "def no_continuous(s):\n",
        "    return [s[i] for i in range(len(s)) if s[i] != s[i+1:i+2]]"
      ],
      "metadata": {
        "id": "Lyfz33dzZu7h"
      },
      "execution_count": null,
      "outputs": []
    },
    {
      "cell_type": "markdown",
      "source": [
        "# 나누어 떨어지는 숫자 배열"
      ],
      "metadata": {
        "id": "TzZcvR8AXuat"
      }
    },
    {
      "cell_type": "code",
      "source": [
        "arr = [3,2,6]\t\n",
        "divisor = 10\n",
        "\n",
        "answer = []\n",
        "for i in arr:\n",
        "    if i % divisor == 0:\n",
        "        answer.append(i)\n",
        "if answer == []:\n",
        "        print([-1])\n",
        "answer.sort()\n",
        "answer"
      ],
      "metadata": {
        "colab": {
          "base_uri": "https://localhost:8080/"
        },
        "id": "eA7zctTRXwKa",
        "outputId": "f7ed8de6-2a30-49b5-dff1-b5f84c7f67ce"
      },
      "execution_count": null,
      "outputs": [
        {
          "output_type": "execute_result",
          "data": {
            "text/plain": [
              "[]"
            ]
          },
          "metadata": {},
          "execution_count": 8
        }
      ]
    },
    {
      "cell_type": "code",
      "source": [
        "def solution(arr, divisor):\n",
        "    answer = []\n",
        "    for i in arr:\n",
        "        if i % divisor == 0:\n",
        "            answer.append(i)\n",
        "    if answer == []:\n",
        "        return [-1]\n",
        "    answer.sort()\n",
        "    return answer"
      ],
      "metadata": {
        "id": "4ciaxAYKX8oe"
      },
      "execution_count": null,
      "outputs": []
    },
    {
      "cell_type": "code",
      "source": [
        "def solution(arr, divisor): \n",
        "    return sorted([n for n in arr if n%divisor == 0]) or [-1]"
      ],
      "metadata": {
        "id": "kfA3-b30X9d3"
      },
      "execution_count": null,
      "outputs": []
    },
    {
      "cell_type": "code",
      "source": [
        "def solution(arr, divisor):\n",
        "    arr = [x for x in arr if x % divisor == 0]\n",
        "    arr.sort()\n",
        "    return arr if len(arr) != 0 else [-1]"
      ],
      "metadata": {
        "id": "Ue8zszp5ZcUo"
      },
      "execution_count": null,
      "outputs": []
    },
    {
      "cell_type": "markdown",
      "source": [
        "# 두 정수 사이의 합"
      ],
      "metadata": {
        "id": "lxw-StiJaOff"
      }
    },
    {
      "cell_type": "code",
      "source": [
        "a = 5\n",
        "b = 3\n",
        "\n",
        "answer = 0\n",
        "a,b = sorted([a,b])[0], sorted([a,b])[1]\n",
        "for i in range(a,b+1):\n",
        "    answer += i\n",
        "answer"
      ],
      "metadata": {
        "colab": {
          "base_uri": "https://localhost:8080/"
        },
        "id": "2s5IhQ9yaQFi",
        "outputId": "ab01979e-7a30-40b5-dc81-4d9e6baeb52e"
      },
      "execution_count": null,
      "outputs": [
        {
          "output_type": "execute_result",
          "data": {
            "text/plain": [
              "12"
            ]
          },
          "metadata": {},
          "execution_count": 23
        }
      ]
    },
    {
      "cell_type": "code",
      "source": [
        "def solution(a, b):\n",
        "    answer = 0\n",
        "    a,b = sorted([a,b])[0], sorted([a,b])[1]\n",
        "    for i in range(a,b+1):\n",
        "        answer += i\n",
        "    return answer"
      ],
      "metadata": {
        "id": "yoTCXIOxavIo"
      },
      "execution_count": null,
      "outputs": []
    },
    {
      "cell_type": "code",
      "source": [
        "def adder(a, b):\n",
        "    if a > b: a, b = b, a\n",
        "    return sum(range(a,b+1))"
      ],
      "metadata": {
        "id": "NBb5qyrAbGMF"
      },
      "execution_count": null,
      "outputs": []
    },
    {
      "cell_type": "code",
      "source": [
        "def adder(a, b):\n",
        "    return (abs(a-b)+1)*(a+b)//2"
      ],
      "metadata": {
        "id": "CJaCmb8gbO-z"
      },
      "execution_count": null,
      "outputs": []
    },
    {
      "cell_type": "code",
      "source": [
        "def adder(a, b):\n",
        "    return sum(range(min(a,b),max(a,b)+1))"
      ],
      "metadata": {
        "id": "zp0y84DDbSAK"
      },
      "execution_count": null,
      "outputs": []
    },
    {
      "cell_type": "markdown",
      "source": [
        "# 문자열 내 마음대로 정렬하기"
      ],
      "metadata": {
        "id": "ouQpaF1PZMo-"
      }
    },
    {
      "cell_type": "code",
      "source": [
        "strings = [\"abce\", \"abcd\", \"cdx\"]\t\n",
        "n = 2\n",
        "\n",
        "sorted(strings, key = lambda x: (x[n], x))"
      ],
      "metadata": {
        "colab": {
          "base_uri": "https://localhost:8080/"
        },
        "id": "pWq8ynU-ZOFk",
        "outputId": "b00c203c-13a1-4111-9eb0-342372866e4e"
      },
      "execution_count": null,
      "outputs": [
        {
          "output_type": "execute_result",
          "data": {
            "text/plain": [
              "['abcd', 'abce', 'cdx']"
            ]
          },
          "metadata": {},
          "execution_count": 14
        }
      ]
    },
    {
      "cell_type": "code",
      "source": [
        "def solution(strings, n):\n",
        "    return sorted(strings, key = lambda x: (x[n], x))"
      ],
      "metadata": {
        "id": "h68cUbjoZ_nz"
      },
      "execution_count": null,
      "outputs": []
    },
    {
      "cell_type": "markdown",
      "source": [
        "# 문자열 내 p와 y의 개수\n"
      ],
      "metadata": {
        "id": "wf-UA10va3m8"
      }
    },
    {
      "cell_type": "code",
      "source": [
        "s = \"pPoooyY\"\t\n",
        "\n",
        "from collections import Counter\n",
        "\n",
        "res = Counter(s.upper())\n",
        "if res['P'] == res['Y']:\n",
        "    print(True)\n",
        "else:\n",
        "    print(False)"
      ],
      "metadata": {
        "colab": {
          "base_uri": "https://localhost:8080/"
        },
        "id": "tEAWsfNZaQcg",
        "outputId": "119ff62f-4024-4ff4-d509-e76055ec1284"
      },
      "execution_count": null,
      "outputs": [
        {
          "output_type": "stream",
          "name": "stdout",
          "text": [
            "True\n"
          ]
        }
      ]
    },
    {
      "cell_type": "code",
      "source": [
        "from collections import Counter\n",
        "\n",
        "def solution(s):\n",
        "    res = Counter(s.upper())\n",
        "    if res['P'] == res['Y']:\n",
        "        return True\n",
        "    else:\n",
        "        return False"
      ],
      "metadata": {
        "id": "5ojG6Onfa_3K"
      },
      "execution_count": null,
      "outputs": []
    },
    {
      "cell_type": "code",
      "source": [
        "def numPY(s):\n",
        "    return s.lower().count('p') == s.lower().count('y')"
      ],
      "metadata": {
        "id": "VLZjLlpPbgF5"
      },
      "execution_count": null,
      "outputs": []
    },
    {
      "cell_type": "code",
      "source": [
        "from collections import Counter\n",
        "def numPY(s):\n",
        "    c = Counter(s.lower())\n",
        "    return c['y'] == c['p'] \n"
      ],
      "metadata": {
        "id": "eTxihKIVbkXk"
      },
      "execution_count": null,
      "outputs": []
    },
    {
      "cell_type": "code",
      "source": [
        "def numPY(s):\n",
        "    a = 0\n",
        "    b = 0\n",
        "    for i in s:\n",
        "        if i == \"p\" or i== \"P\":\n",
        "            a += 1\n",
        "        elif i == \"y\" or i == \"Y\":\n",
        "            b += 1\n",
        "    if a == b:\n",
        "        return True\n",
        "    else:\n",
        "        return False\n",
        "    return True "
      ],
      "metadata": {
        "id": "qjJA5gRYboLq"
      },
      "execution_count": null,
      "outputs": []
    },
    {
      "cell_type": "markdown",
      "source": [
        "# 문자열 내림차순으로 배치하기\n"
      ],
      "metadata": {
        "id": "tOCF8mV6CSYm"
      }
    },
    {
      "cell_type": "code",
      "source": [
        "s = \"Zbcdefg\"\n",
        "print(''.join(sorted(s, reverse=True)))"
      ],
      "metadata": {
        "colab": {
          "base_uri": "https://localhost:8080/"
        },
        "id": "XaWgCVB6CTcd",
        "outputId": "3348065d-091d-4ee7-a747-21b786a49f91"
      },
      "execution_count": null,
      "outputs": [
        {
          "output_type": "stream",
          "name": "stdout",
          "text": [
            "gfedcbZ\n"
          ]
        }
      ]
    },
    {
      "cell_type": "code",
      "source": [
        "def solution(s):\n",
        "    return ''.join(sorted(s, reverse=True))"
      ],
      "metadata": {
        "colab": {
          "base_uri": "https://localhost:8080/",
          "height": 35
        },
        "id": "THz3vHA6CWN0",
        "outputId": "78dedbb0-8a5c-4031-f18c-47ed721ccd8a"
      },
      "execution_count": null,
      "outputs": [
        {
          "output_type": "execute_result",
          "data": {
            "text/plain": [
              "'zbcdefg'"
            ],
            "application/vnd.google.colaboratory.intrinsic+json": {
              "type": "string"
            }
          },
          "metadata": {},
          "execution_count": 7
        }
      ]
    },
    {
      "cell_type": "code",
      "source": [
        "def solution(s):\n",
        "    s = list(s)\n",
        "    s.sort(reverse = True)\n",
        "    answer = \"\"\n",
        "    for i in s:\n",
        "        answer = answer + i\n",
        "    return answer\n"
      ],
      "metadata": {
        "id": "691OcwodCsr5"
      },
      "execution_count": null,
      "outputs": []
    },
    {
      "cell_type": "markdown",
      "source": [
        "# 문자열 다루기 기본\n"
      ],
      "metadata": {
        "id": "us24fZ4jDWZG"
      }
    },
    {
      "cell_type": "code",
      "source": [
        "s = \"1234\"\n",
        "s.isalpha() and (len(s) == 4 or len(s) == 6)"
      ],
      "metadata": {
        "colab": {
          "base_uri": "https://localhost:8080/"
        },
        "id": "4PnOHMN3DXL4",
        "outputId": "d5539c25-4817-487f-a81d-4013136b39e2"
      },
      "execution_count": null,
      "outputs": [
        {
          "output_type": "execute_result",
          "data": {
            "text/plain": [
              "False"
            ]
          },
          "metadata": {},
          "execution_count": 16
        }
      ]
    },
    {
      "cell_type": "code",
      "source": [
        "def solution(s):\n",
        "    return s.isdigit() and (len(s) == 4 or len(s) == 6)"
      ],
      "metadata": {
        "colab": {
          "base_uri": "https://localhost:8080/"
        },
        "id": "f3GAaWfcDs7P",
        "outputId": "b35a8d9b-2abb-4e95-dfe2-2fddd983f644"
      },
      "execution_count": null,
      "outputs": [
        {
          "output_type": "execute_result",
          "data": {
            "text/plain": [
              "True"
            ]
          },
          "metadata": {},
          "execution_count": 18
        }
      ]
    },
    {
      "cell_type": "code",
      "source": [
        "def alpha_string46(s):\n",
        "    return s.isdigit() and len(s) in (4, 6)"
      ],
      "metadata": {
        "colab": {
          "base_uri": "https://localhost:8080/"
        },
        "id": "cP6n9tFvDu1z",
        "outputId": "8d53c753-5455-414c-f1fe-e2a50602b6fb"
      },
      "execution_count": null,
      "outputs": [
        {
          "output_type": "execute_result",
          "data": {
            "text/plain": [
              "True"
            ]
          },
          "metadata": {},
          "execution_count": 21
        }
      ]
    },
    {
      "cell_type": "code",
      "source": [
        "def alpha_string46(s):\n",
        "    try:\n",
        "        int(s)\n",
        "    except:\n",
        "        return False\n",
        "    return len(s) == 4 or len(s) == 6 "
      ],
      "metadata": {
        "id": "tk-jSDFvEANM"
      },
      "execution_count": null,
      "outputs": []
    },
    {
      "cell_type": "code",
      "source": [
        "def alpha_string46(s):\n",
        "    import re\n",
        "    return bool(re.match(\"^(\\d{4}|\\d{6})$\", s))"
      ],
      "metadata": {
        "id": "tMGDfoVWEEF7"
      },
      "execution_count": null,
      "outputs": []
    },
    {
      "cell_type": "markdown",
      "source": [
        "# 서울에서 김서방 찾기\n"
      ],
      "metadata": {
        "id": "yLSquP9kFDxp"
      }
    },
    {
      "cell_type": "code",
      "source": [
        "seoul = [\"Jane\", \"Kim\"]\t\n",
        "for i,k in enumerate(seoul):\n",
        "    if k == \"Kim\":\n",
        "        print(f\"김서방은 {i}에 있다\")"
      ],
      "metadata": {
        "colab": {
          "base_uri": "https://localhost:8080/"
        },
        "id": "6srvzZhDFETk",
        "outputId": "f3a887c4-56c8-4e45-b543-1c526b61d369"
      },
      "execution_count": null,
      "outputs": [
        {
          "output_type": "stream",
          "name": "stdout",
          "text": [
            "김서방은 1에 있다\n"
          ]
        }
      ]
    },
    {
      "cell_type": "code",
      "source": [
        "def solution(seoul):\n",
        "    for i,k in enumerate(seoul):\n",
        "        if k == \"Kim\":\n",
        "            return f\"김서방은 {i}에 있다\""
      ],
      "metadata": {
        "id": "AqNFa5xpFz64"
      },
      "execution_count": null,
      "outputs": []
    },
    {
      "cell_type": "code",
      "source": [
        "def findKim(seoul):\n",
        "    return \"김서방은 {}에 있다\".format(seoul.index('Kim'))\n"
      ],
      "metadata": {
        "id": "cJWdrbwVF1gC"
      },
      "execution_count": null,
      "outputs": []
    },
    {
      "cell_type": "code",
      "source": [
        "def solution(seoul):\n",
        "    return ('김서방은 %d에 있다' %seoul.index('Kim'))"
      ],
      "metadata": {
        "id": "P-IWR1unF8Sg"
      },
      "execution_count": null,
      "outputs": []
    },
    {
      "cell_type": "markdown",
      "source": [
        "# 소수 찾기\n"
      ],
      "metadata": {
        "id": "O-gvL7LgXtbX"
      }
    },
    {
      "cell_type": "markdown",
      "source": [
        "![image.png](data:image/png;base64,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)"
      ],
      "metadata": {
        "id": "O7f7sd_7aUIE"
      }
    },
    {
      "cell_type": "code",
      "source": [
        "n = 15\n",
        "res = [2,3,5,7]\n",
        "\n",
        "if n <= 2:\n",
        "    print(1)\n",
        "elif n <= 3:\n",
        "    print(2)\n",
        "elif n <= 5:\n",
        "    print(3)\n",
        "elif n <= 7:\n",
        "    print(4)\n",
        "else:\n",
        "    for i in range(2,n+1):\n",
        "        if i % 2 != 0 and i % 3 != 0 and i % 5 != 0 and i % 7 != 0:\n",
        "            res.append(i)    "
      ],
      "metadata": {
        "id": "cc9zpbhuXtt8"
      },
      "execution_count": null,
      "outputs": []
    },
    {
      "cell_type": "code",
      "source": [
        "num = set(range(2,n+1))\n",
        "num"
      ],
      "metadata": {
        "colab": {
          "base_uri": "https://localhost:8080/"
        },
        "id": "9H4c0cFdX4QR",
        "outputId": "a44beb17-3556-4eb2-e80c-f474c856f759"
      },
      "execution_count": null,
      "outputs": [
        {
          "output_type": "execute_result",
          "data": {
            "text/plain": [
              "{2, 3, 4, 5, 6, 7, 8, 9, 10, 11, 12, 13, 14, 15}"
            ]
          },
          "metadata": {},
          "execution_count": 7
        }
      ]
    },
    {
      "cell_type": "code",
      "source": [
        "for i in range(2,n+1):\n",
        "    print(range(2*i,n+1,i))"
      ],
      "metadata": {
        "colab": {
          "base_uri": "https://localhost:8080/"
        },
        "id": "nYser3tvY4zH",
        "outputId": "3b4aeb6e-01db-4af2-f2de-6d5cf2aeeb6d"
      },
      "execution_count": null,
      "outputs": [
        {
          "output_type": "stream",
          "name": "stdout",
          "text": [
            "range(4, 16, 2)\n",
            "range(6, 16, 3)\n",
            "range(8, 16, 4)\n",
            "range(10, 16, 5)\n",
            "range(12, 16, 6)\n",
            "range(14, 16, 7)\n",
            "range(16, 16, 8)\n",
            "range(18, 16, 9)\n",
            "range(20, 16, 10)\n",
            "range(22, 16, 11)\n",
            "range(24, 16, 12)\n",
            "range(26, 16, 13)\n",
            "range(28, 16, 14)\n",
            "range(30, 16, 15)\n"
          ]
        }
      ]
    },
    {
      "cell_type": "code",
      "source": [
        "num = set(range(2,n+1))\n",
        "for i in range(2,n+1):\n",
        "    if i in num:\n",
        "        num -= set(range(2*i,n+1,i))\n",
        "num"
      ],
      "metadata": {
        "colab": {
          "base_uri": "https://localhost:8080/"
        },
        "id": "6n9be1NmamUc",
        "outputId": "2525cdf1-2118-4cbd-8182-32e5ef2aa054"
      },
      "execution_count": null,
      "outputs": [
        {
          "output_type": "execute_result",
          "data": {
            "text/plain": [
              "{2, 3, 5, 7, 11, 13}"
            ]
          },
          "metadata": {},
          "execution_count": 12
        }
      ]
    },
    {
      "cell_type": "code",
      "source": [
        ""
      ],
      "metadata": {
        "id": "yAczEC6dZEvs"
      },
      "execution_count": null,
      "outputs": []
    },
    {
      "cell_type": "markdown",
      "source": [
        "# 수박수박수박수박수박수?\n"
      ],
      "metadata": {
        "id": "77ayecsAbUks"
      }
    },
    {
      "cell_type": "code",
      "source": [
        "n = 4\n",
        "res = [\"수\",\"박\"]\n",
        "ans = \"\"\n",
        "for i in range(n):\n",
        "    ans += res[i % 2]\n",
        "ans"
      ],
      "metadata": {
        "colab": {
          "base_uri": "https://localhost:8080/",
          "height": 35
        },
        "id": "Daxz05LWbU7A",
        "outputId": "89e783be-0f3a-4df9-de38-d56692637a9b"
      },
      "execution_count": null,
      "outputs": [
        {
          "output_type": "execute_result",
          "data": {
            "text/plain": [
              "'수박수박'"
            ],
            "application/vnd.google.colaboratory.intrinsic+json": {
              "type": "string"
            }
          },
          "metadata": {},
          "execution_count": 29
        }
      ]
    },
    {
      "cell_type": "code",
      "source": [
        "def solution(n):\n",
        "    res = [\"수\",\"박\"]\n",
        "    ans = \"\"\n",
        "    for i in range(n):\n",
        "        ans += res[i % 2]\n",
        "    return ans"
      ],
      "metadata": {
        "id": "aKfVjJQWdiVr"
      },
      "execution_count": null,
      "outputs": []
    },
    {
      "cell_type": "code",
      "source": [
        "def water_melon(n):\n",
        "    s = \"수박\" * n\n",
        "    return s[:n]"
      ],
      "metadata": {
        "id": "ayybcc9NeF6-"
      },
      "execution_count": null,
      "outputs": []
    },
    {
      "cell_type": "code",
      "source": [
        "def water_melon(n):\n",
        "    return \"수박\"*(n//2) + \"수\"*(n%2)"
      ],
      "metadata": {
        "id": "RwZ-cRAQffPL"
      },
      "execution_count": null,
      "outputs": []
    },
    {
      "cell_type": "code",
      "source": [
        "def water_melon(n):\n",
        "    return (\"수박\"*n)[0:n]"
      ],
      "metadata": {
        "id": "p5VK2z1qfhZ5"
      },
      "execution_count": null,
      "outputs": []
    },
    {
      "cell_type": "markdown",
      "source": [
        "# 문자열을 정수로 바꾸기"
      ],
      "metadata": {
        "id": "wsSl2L6NgC0C"
      }
    },
    {
      "cell_type": "code",
      "source": [
        "s =\"1234\"\n",
        "def solution(s):\n",
        "    return int(s)"
      ],
      "metadata": {
        "id": "QIpfuuFwgEEo"
      },
      "execution_count": null,
      "outputs": []
    },
    {
      "cell_type": "code",
      "source": [
        "def strToInt(str):\n",
        "    result = 0\n",
        "\n",
        "    for idx, number in enumerate(str[::-1]):\n",
        "        if number == '-':\n",
        "            result *= -1\n",
        "        else:\n",
        "            result += int(number) * (10 ** idx)\n",
        "\n",
        "    return result"
      ],
      "metadata": {
        "id": "1VxdP1g_glH0"
      },
      "execution_count": null,
      "outputs": []
    },
    {
      "cell_type": "markdown",
      "source": [
        "# 시저 암호\n"
      ],
      "metadata": {
        "id": "rUsF9ub9gv3x"
      }
    },
    {
      "cell_type": "code",
      "source": [
        "n = 12\t\n",
        "res = 0\n",
        "for i in range(1,n+1):\n",
        "    if (n % i) == 0:\n",
        "        res += i\n",
        "res"
      ],
      "metadata": {
        "colab": {
          "base_uri": "https://localhost:8080/"
        },
        "id": "6niJie3xgwM3",
        "outputId": "c11f0317-e808-4c0c-e842-7cd68fc3cefc"
      },
      "execution_count": null,
      "outputs": [
        {
          "output_type": "execute_result",
          "data": {
            "text/plain": [
              "28"
            ]
          },
          "metadata": {},
          "execution_count": 16
        }
      ]
    },
    {
      "cell_type": "code",
      "source": [
        "def solution(n):\n",
        "    res = 0\n",
        "    for i in range(1,n+1):\n",
        "        if (n % i) == 0:\n",
        "            res += i\n",
        "    return res"
      ],
      "metadata": {
        "colab": {
          "base_uri": "https://localhost:8080/"
        },
        "id": "bwXKX2Xmim9U",
        "outputId": "042d2efc-9bf2-4605-829a-75e9859c83b0"
      },
      "execution_count": null,
      "outputs": [
        {
          "output_type": "execute_result",
          "data": {
            "text/plain": [
              "2"
            ]
          },
          "metadata": {},
          "execution_count": 11
        }
      ]
    },
    {
      "cell_type": "code",
      "source": [
        "def sumDivisor(num):\n",
        "    # num / 2 의 수들만 검사하면 성능 약 2배 향상잼\n",
        "    return num + sum([i for i in range(1, (num // 2) + 1) if num % i == 0])"
      ],
      "metadata": {
        "id": "gcJM5bOTjP33"
      },
      "execution_count": null,
      "outputs": []
    },
    {
      "cell_type": "code",
      "source": [
        "def sumDivisor(num):\n",
        "    return sum([i for i in range(1,num+1) if num%i==0])"
      ],
      "metadata": {
        "id": "xk_UAyWcjSCd"
      },
      "execution_count": null,
      "outputs": []
    },
    {
      "cell_type": "code",
      "source": [
        "def sumDivisor(num):\n",
        "    return sum(filter(lambda x: num % x == 0, range(1, num + 1)))"
      ],
      "metadata": {
        "id": "puwIbbcTjW77"
      },
      "execution_count": null,
      "outputs": []
    },
    {
      "cell_type": "markdown",
      "source": [
        "# 이상한 문자 만들기\n"
      ],
      "metadata": {
        "id": "wUZ_uv3DZgXV"
      }
    },
    {
      "cell_type": "code",
      "source": [
        "s = \"try hello world\"\n",
        "res = ''\t\n",
        "for i in range(len(s)):\n",
        "    if i == 0 or i % 2 == 0 :\n",
        "        res += s[i].upper()\n",
        "    else:\n",
        "        res += s[i].lower()\n",
        "res"
      ],
      "metadata": {
        "colab": {
          "base_uri": "https://localhost:8080/",
          "height": 35
        },
        "id": "91NzdQ20vIbk",
        "outputId": "4b7f0e81-4d4d-4f2d-ebbd-e752ae1add41"
      },
      "execution_count": null,
      "outputs": [
        {
          "output_type": "execute_result",
          "data": {
            "text/plain": [
              "'TrY HeLlO WoRlD'"
            ],
            "application/vnd.google.colaboratory.intrinsic+json": {
              "type": "string"
            }
          },
          "metadata": {},
          "execution_count": 23
        }
      ]
    },
    {
      "cell_type": "code",
      "source": [
        "s = \"try hello world\"\n",
        "\n",
        "answer = []\n",
        "new = s.split(\" \")\n",
        "for i in range(len(new)):\n",
        "    res = ''\n",
        "    for j in range(len(new[i])):\n",
        "        if j % 2 == 0 :\n",
        "            res += new[i][j].upper()\n",
        "        else:\n",
        "            res += new[i][j].lower()\n",
        "    answer.append(res)\n",
        "' '.join(answer)"
      ],
      "metadata": {
        "colab": {
          "base_uri": "https://localhost:8080/",
          "height": 35
        },
        "id": "-SfY_NTKZ66-",
        "outputId": "8917cb23-209a-42e2-ef03-d7232c5017b6"
      },
      "execution_count": null,
      "outputs": [
        {
          "output_type": "execute_result",
          "data": {
            "text/plain": [
              "'TrY HeLlO WoRlD'"
            ],
            "application/vnd.google.colaboratory.intrinsic+json": {
              "type": "string"
            }
          },
          "metadata": {},
          "execution_count": 44
        }
      ]
    },
    {
      "cell_type": "markdown",
      "source": [
        "# 자릿수 더하기 "
      ],
      "metadata": {
        "id": "h6DPqbOAe3c3"
      }
    },
    {
      "cell_type": "code",
      "source": [
        "N = 123\n",
        "res = 0\n",
        "for i in range(len(str(N))):\n",
        "    res += int(list(str(N))[i])\n",
        "res"
      ],
      "metadata": {
        "colab": {
          "base_uri": "https://localhost:8080/"
        },
        "id": "p74B0EDBbS5-",
        "outputId": "a8cdff9f-d2ce-46ab-a918-c46c544821d4"
      },
      "execution_count": null,
      "outputs": [
        {
          "output_type": "execute_result",
          "data": {
            "text/plain": [
              "6"
            ]
          },
          "metadata": {},
          "execution_count": 51
        }
      ]
    },
    {
      "cell_type": "code",
      "source": [
        "def solution(n):\n",
        "    res = 0\n",
        "    for i in range(len(str(n))):\n",
        "        res += int(list(str(n))[i])\n",
        "    return res"
      ],
      "metadata": {
        "id": "nlvYR7bQe3Fy"
      },
      "execution_count": null,
      "outputs": []
    },
    {
      "cell_type": "code",
      "source": [
        "def sum_digit(number):\n",
        "    if number < 10:\n",
        "        return number;\n",
        "    return (number % 10) + sum_digit(number // 10) "
      ],
      "metadata": {
        "id": "ozCFykobe6a7"
      },
      "execution_count": null,
      "outputs": []
    },
    {
      "cell_type": "code",
      "source": [
        "def sum_digit(number):\n",
        "    return sum([int(i) for i in str(number)])"
      ],
      "metadata": {
        "id": "s9vfJcJEe8VN"
      },
      "execution_count": null,
      "outputs": []
    },
    {
      "cell_type": "code",
      "source": [
        "def sum_digit(number):\n",
        "    return sum(map(int,str(number)))"
      ],
      "metadata": {
        "id": "JIo3pqV9fAa1"
      },
      "execution_count": null,
      "outputs": []
    },
    {
      "cell_type": "markdown",
      "source": [
        "# 자연수 뒤집어 배열로 만들기\n"
      ],
      "metadata": {
        "id": "qp_yoRa10toL"
      }
    },
    {
      "cell_type": "code",
      "source": [
        "n = 12345\t\n",
        "# list(str(n))[::-1]\n",
        "res = [] \n",
        "for i in list(str(n)[::-1]):\n",
        "  res.append(int(i))\n",
        "res  \n",
        "\n",
        "def solution(n):\n",
        "    res = [] \n",
        "    for i in list(str(n)[::-1]):\n",
        "        res.append(int(i))\n",
        "    return res\n",
        "\n",
        "def digit_reverse(n):\n",
        "    return list(map(int, reversed(str(n))))\n",
        "\n",
        "def digit_reverse(n):\n",
        "    return [int(i) for i in str(n)][::-1]\n"
      ],
      "metadata": {
        "id": "w8A8z0XQ0u7n"
      },
      "execution_count": null,
      "outputs": []
    },
    {
      "cell_type": "markdown",
      "source": [
        "# 정수 내림차순으로 배치하기\n"
      ],
      "metadata": {
        "id": "JvxSb3JX0w8T"
      }
    },
    {
      "cell_type": "code",
      "source": [
        "# 정수 내림차순으로 배치하기\n",
        "n = 118372\n",
        "\n",
        "int(''.join(sorted(str(n), reverse=True)))\n",
        "\n",
        "def solution(n):\n",
        "    return int(''.join(sorted(str(n), reverse=True)))\n",
        "\n",
        "def solution(n):\n",
        "    ls = list(str(n))\n",
        "    ls.sort(reverse = True)\n",
        "    return int(\"\".join(ls))\n",
        "\n"
      ],
      "metadata": {
        "id": "SQHzDfO70yAz"
      },
      "execution_count": null,
      "outputs": []
    },
    {
      "cell_type": "markdown",
      "source": [
        "# 정수 제곱근 판별\n"
      ],
      "metadata": {
        "id": "a4rnE39d00Pi"
      }
    },
    {
      "cell_type": "code",
      "source": [
        "n = 121\n",
        "\n",
        "def solution(n):\n",
        "    num = n ** 0.5\n",
        "    if num == int(num):\n",
        "        return (num+1) ** 2\n",
        "    else:\n",
        "        return -1 \n",
        "\n",
        "def nextSqure(n):\n",
        "    return n == int(n**.5)**2 and int(n**.5+1)**2 or 'no'\n",
        "\n",
        "import math\n",
        "def nextSqure(n):\n",
        "    return 'no' if not math.sqrt(n).is_integer() else (math.sqrt(n)+1)**2"
      ],
      "metadata": {
        "id": "AUIChhK101Fi"
      },
      "execution_count": null,
      "outputs": []
    },
    {
      "cell_type": "markdown",
      "source": [
        "# 제일 작은 수 제거하기\n"
      ],
      "metadata": {
        "id": "WHigKFM302wb"
      }
    },
    {
      "cell_type": "code",
      "source": [
        "arr = [4,3,2,1]\t\n",
        "if len(arr) == 1 :\n",
        "  print(-1)\n",
        "else:\n",
        "  arr.remove(min(arr))\n",
        "arr\n",
        "\n",
        "def solution(arr):\n",
        "    if len(arr) == 1 :\n",
        "        return [-1]\n",
        "    else:\n",
        "        arr.remove(min(arr))\n",
        "        return arr\n",
        "\n",
        "def rm_small(mylist):\n",
        "    return [i for i in mylist if i > min(mylist)]\n",
        "\n",
        "def rm_small(mylist):\n",
        "    mylist.remove(min(mylist))\n",
        "    return mylist\n",
        "\n",
        "def rm_small(mylist):\n",
        "    mylist.pop(mylist.index(min(mylist)))\n",
        "    return mylist"
      ],
      "metadata": {
        "id": "T_uH5KDl02QX"
      },
      "execution_count": null,
      "outputs": []
    },
    {
      "cell_type": "markdown",
      "source": [
        "# 짝수와 홀수\n"
      ],
      "metadata": {
        "id": "Qk2KzfNBBITd"
      }
    },
    {
      "cell_type": "code",
      "source": [
        "def solution(num):\n",
        "    if num % 2 == 0:\n",
        "        return \"Even\"\n",
        "    else:\n",
        "        return \"Odd\""
      ],
      "metadata": {
        "id": "BkrM0z7zBI18"
      },
      "execution_count": null,
      "outputs": []
    },
    {
      "cell_type": "code",
      "source": [
        "def evenOrOdd(num):\n",
        "    return [\"Even\", \"Odd\"][num & 1]\n"
      ],
      "metadata": {
        "id": "WEnYDS6IBO86"
      },
      "execution_count": null,
      "outputs": []
    },
    {
      "cell_type": "code",
      "source": [
        "def evenOrOdd(num):\n",
        "    return \"Even\" if num%2 == 0 else \"Odd\""
      ],
      "metadata": {
        "colab": {
          "base_uri": "https://localhost:8080/"
        },
        "id": "ozHq5PBqBRB5",
        "outputId": "55f3d0fc-30c2-43ac-e0f6-117471bbf223"
      },
      "execution_count": null,
      "outputs": [
        {
          "output_type": "execute_result",
          "data": {
            "text/plain": [
              "1"
            ]
          },
          "metadata": {},
          "execution_count": 1
        }
      ]
    },
    {
      "cell_type": "markdown",
      "source": [
        "# 최대공약수와 최소공배수\n"
      ],
      "metadata": {
        "id": "-Z76BBQSBaKA"
      }
    },
    {
      "cell_type": "code",
      "source": [
        "n = 3\n",
        "m = 12\n",
        "\n",
        "if m % n == 0:\n",
        "    print(min(n,m))\n",
        "else:\n",
        "    print(1)"
      ],
      "metadata": {
        "colab": {
          "base_uri": "https://localhost:8080/"
        },
        "id": "aZ6vs4WfBR5F",
        "outputId": "cf593e40-ce41-45cc-bccc-71547ba8f901"
      },
      "execution_count": null,
      "outputs": [
        {
          "output_type": "stream",
          "name": "stdout",
          "text": [
            "3\n"
          ]
        }
      ]
    },
    {
      "cell_type": "code",
      "source": [
        "for i in range(3,0,-1):\n",
        "    print(i)"
      ],
      "metadata": {
        "colab": {
          "base_uri": "https://localhost:8080/"
        },
        "id": "teYPOZSMCJQW",
        "outputId": "66af29af-6bb0-4f97-d4b1-274c9cd9d4a4"
      },
      "execution_count": null,
      "outputs": [
        {
          "output_type": "stream",
          "name": "stdout",
          "text": [
            "3\n",
            "2\n",
            "1\n"
          ]
        }
      ]
    },
    {
      "cell_type": "markdown",
      "source": [
        "# 콜라츠 추측\n"
      ],
      "metadata": {
        "id": "KQZqVckQCUfh"
      }
    },
    {
      "cell_type": "code",
      "source": [
        "n = 16\n",
        "\n",
        "res = 0\n",
        "while n !=1:\n",
        "    print(n)\n",
        "    if n % 2 == 0:\n",
        "        n = n // 2\n",
        "    else:\n",
        "        n = (3*n + 1)\n",
        "    print(n)\n",
        "    res += 1"
      ],
      "metadata": {
        "colab": {
          "base_uri": "https://localhost:8080/"
        },
        "id": "smS5i4C2CU67",
        "outputId": "f8155d29-47cb-4d29-86ff-0a76bec11df9"
      },
      "execution_count": null,
      "outputs": [
        {
          "output_type": "stream",
          "name": "stdout",
          "text": [
            "16\n",
            "8\n",
            "8\n",
            "4\n",
            "4\n",
            "2\n",
            "2\n",
            "1\n"
          ]
        }
      ]
    },
    {
      "cell_type": "code",
      "source": [
        "def solution(n):\n",
        "    res = 0\n",
        "    while n != 1 :\n",
        "        if n % 2 == 0:\n",
        "            n //= 2\n",
        "        else:\n",
        "            n = 3*n + 1\n",
        "        if res >= 500:\n",
        "            return -1\n",
        "        res += 1\n",
        "    return res"
      ],
      "metadata": {
        "colab": {
          "base_uri": "https://localhost:8080/"
        },
        "id": "xu1IK6vHCpvE",
        "outputId": "d5244d03-fb6e-4de8-cb00-daa6058aad39"
      },
      "execution_count": null,
      "outputs": [
        {
          "output_type": "execute_result",
          "data": {
            "text/plain": [
              "4"
            ]
          },
          "metadata": {},
          "execution_count": 23
        }
      ]
    },
    {
      "cell_type": "code",
      "source": [
        "def collatz(num):\n",
        "    for i in range(500):\n",
        "        num = num / 2 if num % 2 == 0 else num*3 + 1\n",
        "        if num == 1:\n",
        "            return i + 1\n",
        "    return -1\n"
      ],
      "metadata": {
        "id": "ydyFjXT6D2Zo"
      },
      "execution_count": null,
      "outputs": []
    },
    {
      "cell_type": "markdown",
      "source": [
        "# 평균 구하기\n"
      ],
      "metadata": {
        "id": "NqYDgULVY570"
      }
    },
    {
      "cell_type": "code",
      "source": [
        "arr = [1,2,3,4]\t\n",
        "res = 0 \n",
        "for i in arr:\n",
        "    res +=i\n",
        "print(res / len(arr))"
      ],
      "metadata": {
        "colab": {
          "base_uri": "https://localhost:8080/"
        },
        "id": "fG99VU20Y7cR",
        "outputId": "9013cb9e-6550-4624-d74e-8cbfa0cbd69c"
      },
      "execution_count": null,
      "outputs": [
        {
          "output_type": "stream",
          "name": "stdout",
          "text": [
            "2.5\n"
          ]
        }
      ]
    },
    {
      "cell_type": "code",
      "source": [
        "def solution(arr):\n",
        "    res = 0 \n",
        "    for i in arr:\n",
        "        res +=i\n",
        "    return res / len(arr)"
      ],
      "metadata": {
        "id": "-94aB5bUZO5I"
      },
      "execution_count": null,
      "outputs": []
    },
    {
      "cell_type": "code",
      "source": [
        "def average(list):\n",
        "    return (sum(list) / len(list))\n"
      ],
      "metadata": {
        "id": "akOhwPglZRMu"
      },
      "execution_count": null,
      "outputs": []
    },
    {
      "cell_type": "code",
      "source": [
        "def average(list):\n",
        "    return reduce(lambda x, y : x + y, list) / len(list)\n"
      ],
      "metadata": {
        "id": "slV47--NZT3K"
      },
      "execution_count": null,
      "outputs": []
    },
    {
      "cell_type": "markdown",
      "source": [
        "# 하샤드 수"
      ],
      "metadata": {
        "id": "CcN69zDfHsvG"
      }
    },
    {
      "cell_type": "code",
      "source": [
        "arr = 12\n",
        "\n",
        "res = 0\n",
        "for i in range(len(str(arr))):\n",
        "    res += int(str(arr)[i])\n",
        "if arr % res == 0:\n",
        "    print('true')"
      ],
      "metadata": {
        "colab": {
          "base_uri": "https://localhost:8080/"
        },
        "id": "AThQhJ1OHtfZ",
        "outputId": "77395a8e-7ce9-4dd5-8454-4581b145be38"
      },
      "execution_count": null,
      "outputs": [
        {
          "output_type": "stream",
          "name": "stdout",
          "text": [
            "true\n"
          ]
        }
      ]
    },
    {
      "cell_type": "code",
      "source": [
        "def solution(x):\n",
        "    res = 0\n",
        "    for i in range(len(str(x))):\n",
        "        res += int(str(x)[i])\n",
        "    return x % res == 0"
      ],
      "metadata": {
        "colab": {
          "base_uri": "https://localhost:8080/"
        },
        "id": "4DiT0DHWIB1X",
        "outputId": "10badc67-b5d2-4d99-96e9-29349cfadae4"
      },
      "execution_count": null,
      "outputs": [
        {
          "output_type": "execute_result",
          "data": {
            "text/plain": [
              "2"
            ]
          },
          "metadata": {},
          "execution_count": 9
        }
      ]
    },
    {
      "cell_type": "code",
      "source": [
        "def Harshad(n):\n",
        "    nums = [int(x) for x in list(str(n))]\n",
        "    return n % sum(nums) == 0"
      ],
      "metadata": {
        "id": "NXhW_y26JF_T"
      },
      "execution_count": null,
      "outputs": []
    },
    {
      "cell_type": "code",
      "source": [
        "def Harshad(n):\n",
        "    return n % sum([int(c) for c in str(n)]) == 0"
      ],
      "metadata": {
        "id": "-fjyqz6nI7Vw"
      },
      "execution_count": null,
      "outputs": []
    },
    {
      "cell_type": "markdown",
      "source": [
        "# 핸드폰 번호 가리기\n"
      ],
      "metadata": {
        "id": "dhMhxm31Jz-E"
      }
    },
    {
      "cell_type": "code",
      "source": [
        "phone_number = \"01033334444\"\n",
        "\n",
        "'*' * len(phone_number[:-4]) + phone_number[-4:]"
      ],
      "metadata": {
        "colab": {
          "base_uri": "https://localhost:8080/",
          "height": 35
        },
        "id": "Cj7KdI3SJ1YE",
        "outputId": "3a2ed66e-1cab-4570-9fea-a4c2342ac77a"
      },
      "execution_count": null,
      "outputs": [
        {
          "output_type": "execute_result",
          "data": {
            "text/plain": [
              "'*******4444'"
            ],
            "application/vnd.google.colaboratory.intrinsic+json": {
              "type": "string"
            }
          },
          "metadata": {},
          "execution_count": 22
        }
      ]
    },
    {
      "cell_type": "code",
      "source": [
        "def solution(phone_number):\n",
        "    return '*' * len(phone_number[:-4]) + phone_number[-4:]"
      ],
      "metadata": {
        "id": "VjTTjZvTJ4QC"
      },
      "execution_count": null,
      "outputs": []
    },
    {
      "cell_type": "code",
      "source": [
        "def hide_numbers(s):\n",
        "    return \"*\"*(len(s)-4) + s[-4:]"
      ],
      "metadata": {
        "id": "RmWqx0fAKQwu"
      },
      "execution_count": null,
      "outputs": []
    },
    {
      "cell_type": "code",
      "source": [
        "import re\n",
        "\n",
        "def hide_numbers(s):\n",
        "    p = re.compile(r'\\d(?=\\d{4})')\n",
        "    return p.sub(\"*\", s, count = 0)"
      ],
      "metadata": {
        "id": "W0IfBPuLKUpK"
      },
      "execution_count": null,
      "outputs": []
    },
    {
      "cell_type": "markdown",
      "source": [
        "# 행렬의 덧셈"
      ],
      "metadata": {
        "id": "iRNZZdxUKumL"
      }
    },
    {
      "cell_type": "code",
      "source": [
        "arr1 = [[1,2],[2,3]]\n",
        "arr2 = [[3,4],[5,6]]\n",
        "\n",
        "answer = [] \n",
        "\n",
        "for i in range(len(arr1)):\n",
        "    res = []\n",
        "    for j in range(len(arr1[i])):\n",
        "        res.append(arr1[i][j] + arr2[i][j])\n",
        "    answer.append(res)\n",
        "answer"
      ],
      "metadata": {
        "colab": {
          "base_uri": "https://localhost:8080/"
        },
        "id": "U8mJQOKvKu_8",
        "outputId": "7528ef38-5861-4c09-e0a2-2baa52e5e018"
      },
      "execution_count": null,
      "outputs": [
        {
          "output_type": "execute_result",
          "data": {
            "text/plain": [
              "[[4, 6], [7, 9]]"
            ]
          },
          "metadata": {},
          "execution_count": 81
        }
      ]
    },
    {
      "cell_type": "code",
      "source": [
        "[arr1[0][0] + arr2[0][0],arr1[0][1]+arr2[0][1]] \n",
        "[arr1[1][0] + arr2[1][0],arr1[1][1]+arr2[1][1]] "
      ],
      "metadata": {
        "colab": {
          "base_uri": "https://localhost:8080/"
        },
        "id": "WTTpPqQaLIgP",
        "outputId": "10f296a2-96eb-4474-d331-658bb7733cee"
      },
      "execution_count": null,
      "outputs": [
        {
          "output_type": "execute_result",
          "data": {
            "text/plain": [
              "[7, 9]"
            ]
          },
          "metadata": {},
          "execution_count": 50
        }
      ]
    },
    {
      "cell_type": "code",
      "source": [
        "def sumMatrix(A,B):\n",
        "    answer = [[c + d for c, d in zip(a, b)] for a, b in zip(A,B)]\n",
        "    return answer"
      ],
      "metadata": {
        "id": "U_hxyfQpQC7K"
      },
      "execution_count": null,
      "outputs": []
    },
    {
      "cell_type": "code",
      "source": [
        "for i,j in zip(arr1,arr2):\n",
        "    print(i,j)"
      ],
      "metadata": {
        "colab": {
          "base_uri": "https://localhost:8080/"
        },
        "id": "mQy7wJNVQF73",
        "outputId": "8c0ceb7d-cf71-4468-bc51-77314ea81f8d"
      },
      "execution_count": null,
      "outputs": [
        {
          "output_type": "stream",
          "name": "stdout",
          "text": [
            "[1, 2] [3, 4]\n",
            "[2, 3] [5, 6]\n"
          ]
        }
      ]
    },
    {
      "cell_type": "code",
      "source": [
        "def sumMatrix(A,B):\n",
        "    return [list(map(sum, zip(*x))) for x in zip(A, B)]"
      ],
      "metadata": {
        "id": "CO9v2Q7cQSW-"
      },
      "execution_count": null,
      "outputs": []
    },
    {
      "cell_type": "markdown",
      "source": [
        "# x만큼 간격이 있는 n개의 숫자\n"
      ],
      "metadata": {
        "id": "SfGBqWP6IQqd"
      }
    },
    {
      "cell_type": "code",
      "source": [
        "x = 2\n",
        "n = 5\n",
        "ans = 0\n",
        "res = []\n",
        "for _ in range(n):\n",
        "    ans += x\n",
        "    res.append(ans)\n",
        "res    "
      ],
      "metadata": {
        "colab": {
          "base_uri": "https://localhost:8080/"
        },
        "id": "HqNXwAHCIQZn",
        "outputId": "e0a9697d-4929-4e3d-ebe9-ac646cf92108"
      },
      "execution_count": null,
      "outputs": [
        {
          "output_type": "execute_result",
          "data": {
            "text/plain": [
              "[2, 4, 6, 8, 10]"
            ]
          },
          "metadata": {},
          "execution_count": 8
        }
      ]
    },
    {
      "cell_type": "code",
      "source": [
        "def solution(x, n):\n",
        "    ans = 0\n",
        "    res = []\n",
        "    for _ in range(n):\n",
        "        ans += x\n",
        "        res.append(ans)\n",
        "    return res"
      ],
      "metadata": {
        "id": "te9zU0lRIiwj"
      },
      "execution_count": null,
      "outputs": []
    },
    {
      "cell_type": "code",
      "source": [
        "def number_generator(x, n):\n",
        "    return [i * x + x for i in range(n)]"
      ],
      "metadata": {
        "id": "PvWSPA43I35X"
      },
      "execution_count": null,
      "outputs": []
    },
    {
      "cell_type": "code",
      "source": [
        "def number_generator(x, n):\n",
        "    return [i for i in range(x, x*n+1, x)]"
      ],
      "metadata": {
        "id": "bk77vkWmI8SM"
      },
      "execution_count": null,
      "outputs": []
    },
    {
      "cell_type": "code",
      "source": [
        "def number_generator(x, n):\n",
        "    a=[]\n",
        "    for i in range(n):\n",
        "        a.append((i+1)*x)\n",
        "    return a"
      ],
      "metadata": {
        "id": "KSjgd587JEDJ"
      },
      "execution_count": null,
      "outputs": []
    },
    {
      "cell_type": "markdown",
      "source": [
        "# 직사각형 별찍기"
      ],
      "metadata": {
        "id": "TDxx3F7F75AE"
      }
    },
    {
      "cell_type": "code",
      "source": [
        "a, b = map(int, input().strip().split(' '))"
      ],
      "metadata": {
        "colab": {
          "base_uri": "https://localhost:8080/"
        },
        "id": "sbrIldlG8AKs",
        "outputId": "8747723d-9bb6-4fa4-f549-c2ba5c699721"
      },
      "execution_count": null,
      "outputs": [
        {
          "name": "stdout",
          "output_type": "stream",
          "text": [
            "5 3\n"
          ]
        }
      ]
    },
    {
      "cell_type": "code",
      "source": [
        "for _ in range(b):\n",
        "    print('*' * a)"
      ],
      "metadata": {
        "colab": {
          "base_uri": "https://localhost:8080/"
        },
        "id": "1Vi9mUWV8Pq5",
        "outputId": "d04f9688-b1f9-4540-e48a-2aec7f95d893"
      },
      "execution_count": null,
      "outputs": [
        {
          "output_type": "stream",
          "name": "stdout",
          "text": [
            "*****\n",
            "*****\n",
            "*****\n"
          ]
        }
      ]
    },
    {
      "cell_type": "code",
      "source": [
        "a, b = map(int, input().strip().split(' '))\n",
        "for _ in range(b):\n",
        "    print('*' * a)"
      ],
      "metadata": {
        "id": "xqeCwZvj8RYu"
      },
      "execution_count": null,
      "outputs": []
    },
    {
      "cell_type": "code",
      "source": [
        "a, b = map(int, input().strip().split(' '))\n",
        "answer = ('*'*a +'\\n')*b\n",
        "print(answer)"
      ],
      "metadata": {
        "id": "K12MHwB18d8h"
      },
      "execution_count": null,
      "outputs": []
    },
    {
      "cell_type": "code",
      "source": [
        "a, b = map(int, input().strip().split(' '))\n",
        "\n",
        "for i in range(b):\n",
        "    for j in range(a):\n",
        "        print('*', end='')\n",
        "    print('')"
      ],
      "metadata": {
        "id": "QUe19RYB8hdl"
      },
      "execution_count": null,
      "outputs": []
    },
    {
      "cell_type": "markdown",
      "source": [
        "# 신고 결과 받기"
      ],
      "metadata": {
        "id": "2cRkOm3H9CAo"
      }
    },
    {
      "cell_type": "markdown",
      "source": [
        "![image.png](data:image/png;base64,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)"
      ],
      "metadata": {
        "id": "_qmSiCq2V_vV"
      }
    },
    {
      "cell_type": "code",
      "source": [
        "id_list = [\"muzi\", \"frodo\", \"apeach\", \"neo\"]\n",
        "report\t= [\"muzi frodo\",\"apeach frodo\",\"frodo neo\",\"muzi neo\",\"apeach muzi\"]\n",
        "k = 2"
      ],
      "metadata": {
        "id": "9umzEWan9Dvb"
      },
      "execution_count": null,
      "outputs": []
    },
    {
      "cell_type": "code",
      "source": [
        "id_list = [\"con\", \"ryan\"]\t\n",
        "report\t= [\"ryan con\", \"ryan con\", \"ryan con\", \"ryan con\"]\t\n",
        "k = 3"
      ],
      "metadata": {
        "id": "hp3FMuFcQg3g"
      },
      "execution_count": null,
      "outputs": []
    },
    {
      "cell_type": "code",
      "source": [
        "from collections import Counter\n",
        "res = [] \n",
        "report = list(set(report))\n",
        " for i in range(len(report)):\n",
        "    res.append(report[i].split(' ')[1])\n",
        "res"
      ],
      "metadata": {
        "colab": {
          "base_uri": "https://localhost:8080/"
        },
        "id": "xlosp5mj9Kew",
        "outputId": "1a8984c1-a66d-4140-fde0-576452690808"
      },
      "execution_count": null,
      "outputs": [
        {
          "output_type": "execute_result",
          "data": {
            "text/plain": [
              "['neo', 'frodo', 'frodo', 'neo', 'muzi']"
            ]
          },
          "metadata": {},
          "execution_count": 203
        }
      ]
    },
    {
      "cell_type": "code",
      "source": [
        "report"
      ],
      "metadata": {
        "colab": {
          "base_uri": "https://localhost:8080/"
        },
        "id": "WG4KGrUFVE7L",
        "outputId": "8e28f6fe-8621-4982-cfaf-f138a742ca95"
      },
      "execution_count": null,
      "outputs": [
        {
          "output_type": "execute_result",
          "data": {
            "text/plain": [
              "['frodo neo', 'muzi frodo', 'apeach frodo', 'muzi neo', 'apeach muzi']"
            ]
          },
          "metadata": {},
          "execution_count": 204
        }
      ]
    },
    {
      "cell_type": "code",
      "source": [
        "list(set(report))"
      ],
      "metadata": {
        "colab": {
          "base_uri": "https://localhost:8080/"
        },
        "id": "amtWdWuOU2tD",
        "outputId": "0bebc081-4b5d-4e1c-9744-962e64f62bc5"
      },
      "execution_count": null,
      "outputs": [
        {
          "output_type": "execute_result",
          "data": {
            "text/plain": [
              "['muzi frodo', 'frodo neo', 'apeach frodo', 'muzi neo', 'apeach muzi']"
            ]
          },
          "metadata": {},
          "execution_count": 205
        }
      ]
    },
    {
      "cell_type": "code",
      "source": [
        "ans = []\n",
        "for i in range(len(Counter(res))):\n",
        "    if Counter(res).most_common()[i][1] >= k:\n",
        "        ans.append(Counter(res).most_common()[i][0])\n",
        "ans"
      ],
      "metadata": {
        "colab": {
          "base_uri": "https://localhost:8080/"
        },
        "id": "GvO4Y-fP9L6V",
        "outputId": "97e87dd3-f1ba-4f9e-9819-925a3c7f5abb"
      },
      "execution_count": null,
      "outputs": [
        {
          "output_type": "execute_result",
          "data": {
            "text/plain": [
              "['neo', 'frodo']"
            ]
          },
          "metadata": {},
          "execution_count": 206
        }
      ]
    },
    {
      "cell_type": "code",
      "source": [
        "from collections import defaultdict\n",
        "dic = defaultdict(list)\n",
        "for i in range(len(report)):\n",
        "    dic[report[i].split(' ')[0]].append(report[i].split(' ')[1])\n",
        "dic"
      ],
      "metadata": {
        "colab": {
          "base_uri": "https://localhost:8080/"
        },
        "id": "c_WvVO8s-4hC",
        "outputId": "cb1287f8-8240-451b-8021-799342780d65"
      },
      "execution_count": null,
      "outputs": [
        {
          "output_type": "execute_result",
          "data": {
            "text/plain": [
              "defaultdict(list,\n",
              "            {'apeach': ['frodo', 'muzi'],\n",
              "             'frodo': ['neo'],\n",
              "             'muzi': ['frodo', 'neo']})"
            ]
          },
          "metadata": {},
          "execution_count": 210
        }
      ]
    },
    {
      "cell_type": "code",
      "source": [
        "re = [] \n",
        "for i in id_list:\n",
        "    answer = 0\n",
        "    for j in range(len(dic[i])):\n",
        "        for k in ans:\n",
        "            if dic[i][j] == k:\n",
        "                answer += 1\n",
        "    re.append(answer)            \n",
        "re"
      ],
      "metadata": {
        "colab": {
          "base_uri": "https://localhost:8080/"
        },
        "id": "VmhNF1vS_izq",
        "outputId": "007f7819-3ad8-4a6e-e626-514f615b023d"
      },
      "execution_count": null,
      "outputs": [
        {
          "output_type": "execute_result",
          "data": {
            "text/plain": [
              "[2, 1, 1, 0]"
            ]
          },
          "metadata": {},
          "execution_count": 208
        }
      ]
    },
    {
      "cell_type": "code",
      "source": [
        "from collections import Counter, defaultdict\n",
        "def solution(id_list, report, k):\n",
        "    res = []\n",
        "    ans = []\n",
        "    re = [] \n",
        "    dic = defaultdict(list)\n",
        "    report = list(set(report))\n",
        "    for i in range(len(report)):\n",
        "        res.append(report[i].split(' ')[1])\n",
        "    for i in range(len(Counter(res))):\n",
        "        if Counter(res).most_common()[i][1] >= k:\n",
        "            ans.append(Counter(res).most_common()[i][0])\n",
        "    for i in range(len(report)):\n",
        "        dic[report[i].split(' ')[0]].append(report[i].split(' ')[1])\n",
        "    for i in id_list:\n",
        "        answer = 0\n",
        "        for j in range(len(dic[i])):\n",
        "            for k in ans:\n",
        "                if dic[i][j] == k:\n",
        "                    answer += 1\n",
        "        re.append(answer)            \n",
        "    return re"
      ],
      "metadata": {
        "id": "-SqQIsoZPVKi"
      },
      "execution_count": null,
      "outputs": []
    },
    {
      "cell_type": "markdown",
      "source": [
        "# 음양 더하기"
      ],
      "metadata": {
        "id": "BOtrScbGRP5a"
      }
    },
    {
      "cell_type": "code",
      "source": [
        "absolutes = [4,7,12]\n",
        "signs = ['true','false','true']\n",
        "\n",
        "res = 0 \n",
        "for i in range(len(absolutes)):\n",
        "    if signs[i] == 'true':\n",
        "        res += absolutes[i]\n",
        "    else:\n",
        "        res -= absolutes[i]\n",
        "res"
      ],
      "metadata": {
        "colab": {
          "base_uri": "https://localhost:8080/"
        },
        "id": "XOX_SQ-TRrPF",
        "outputId": "6a86f0f2-6983-45fa-b7b5-5e9696127973"
      },
      "execution_count": null,
      "outputs": [
        {
          "output_type": "execute_result",
          "data": {
            "text/plain": [
              "9"
            ]
          },
          "metadata": {},
          "execution_count": 2
        }
      ]
    },
    {
      "cell_type": "code",
      "source": [
        "def solution(absolutes, signs):\n",
        "    res = 0 \n",
        "    for i in range(len(absolutes)):\n",
        "        if signs[i] == True:\n",
        "            res += absolutes[i]\n",
        "        else:\n",
        "            res -= absolutes[i]\n",
        "    return res"
      ],
      "metadata": {
        "id": "J5yYSD_jR8Ob"
      },
      "execution_count": null,
      "outputs": []
    },
    {
      "cell_type": "code",
      "source": [
        "def solution(absolutes, signs):\n",
        "    return sum(absolutes if sign else -absolutes for absolutes, sign in zip(absolutes, signs))"
      ],
      "metadata": {
        "id": "X5cmxegPSlzC"
      },
      "execution_count": null,
      "outputs": []
    },
    {
      "cell_type": "code",
      "source": [
        "def solution(absolutes, signs):\n",
        "    answer=0\n",
        "    for absolute,sign in zip(absolutes,signs):\n",
        "        if sign:\n",
        "            answer+=absolute\n",
        "        else:\n",
        "            answer-=absolute\n",
        "    return answer"
      ],
      "metadata": {
        "id": "9HRa5d11Srk9"
      },
      "execution_count": null,
      "outputs": []
    },
    {
      "cell_type": "markdown",
      "source": [
        "# 내적"
      ],
      "metadata": {
        "id": "DoBbbFvFlq16"
      }
    },
    {
      "cell_type": "code",
      "source": [
        "a = [1,2,3,4]\t\n",
        "b = [-3,-1,0,2]\t\n",
        "\n",
        "res = 0 \n",
        "for i in range(len(a)):\n",
        "  res += a[i] * b[i]\n",
        "res\n",
        "\n",
        "def solution(a, b):\n",
        "    res = 0 \n",
        "    for i in range(len(a)):\n",
        "        res += a[i] * b[i]\n",
        "    return res"
      ],
      "metadata": {
        "id": "ZZXRoaJxlrym"
      },
      "execution_count": null,
      "outputs": []
    },
    {
      "cell_type": "code",
      "source": [
        "def solution(a, b):\n",
        "    return sum([x*y for x, y in zip(a,b)])"
      ],
      "metadata": {
        "id": "FcJz2wG1lsnD"
      },
      "execution_count": null,
      "outputs": []
    },
    {
      "cell_type": "code",
      "source": [
        "solution = lambda x, y: sum(a*b for a, b in zip(x, y))"
      ],
      "metadata": {
        "id": "hF9NDJBKl2qW"
      },
      "execution_count": null,
      "outputs": []
    },
    {
      "cell_type": "markdown",
      "source": [
        "# 없는 숫자 더하기"
      ],
      "metadata": {
        "id": "Vxu6aXP9SyRg"
      }
    },
    {
      "cell_type": "code",
      "source": [
        "numbers\t= [1,2,3,4,6,7,8,0]\t\n",
        "num = [1,2,3,4,5,6,7,8,9]\n",
        "res = 0\n",
        "for i in range(1,10):\n",
        "    if i not in numbers:\n",
        "        res += i\n",
        "res"
      ],
      "metadata": {
        "id": "XMgDjFfYSztC",
        "colab": {
          "base_uri": "https://localhost:8080/"
        },
        "outputId": "d87c3c44-4d11-4292-f0b1-3c8f42f6ef1d"
      },
      "execution_count": null,
      "outputs": [
        {
          "output_type": "execute_result",
          "data": {
            "text/plain": [
              "14"
            ]
          },
          "metadata": {},
          "execution_count": 19
        }
      ]
    },
    {
      "cell_type": "code",
      "source": [
        "def solution(numbers):\n",
        "    res = 0\n",
        "    for i in range(1,10):\n",
        "        if i not in numbers:\n",
        "            res += i\n",
        "    return res"
      ],
      "metadata": {
        "id": "2tnFmVriTyfA"
      },
      "execution_count": null,
      "outputs": []
    },
    {
      "cell_type": "code",
      "source": [
        "def solution(numbers):\n",
        "    return 45 - sum(numbers)"
      ],
      "metadata": {
        "id": "A0gCn9ACUTC0"
      },
      "execution_count": null,
      "outputs": []
    },
    {
      "cell_type": "code",
      "source": [
        "solution = lambda x: sum(range(10)) - sum(x)"
      ],
      "metadata": {
        "id": "1AgqfEY2UUJw"
      },
      "execution_count": null,
      "outputs": []
    },
    {
      "cell_type": "code",
      "source": [
        "def solution(numbers):\n",
        "    return sum([i for i in [1,2,3,4,5,6,7,8,9,0] if i not in numbers])"
      ],
      "metadata": {
        "id": "Tl36Bd-BUYk-"
      },
      "execution_count": null,
      "outputs": []
    },
    {
      "cell_type": "markdown",
      "source": [
        "# 두 개 뽑아서 더하기\n"
      ],
      "metadata": {
        "id": "9lLgADbHX2eo"
      }
    },
    {
      "cell_type": "markdown",
      "source": [
        "![image.png](data:image/png;base64,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)"
      ],
      "metadata": {
        "id": "w1AW3Z5LYe2q"
      }
    },
    {
      "cell_type": "code",
      "source": [
        "number = [2,1,3,4,1]\n",
        "res = [] \n",
        "for i in range(len(number)):\n",
        "    for j in range(i+1,len(number)):\n",
        "        res.append(number[i] + number[j])\n",
        "list(set(res))"
      ],
      "metadata": {
        "colab": {
          "base_uri": "https://localhost:8080/"
        },
        "id": "K2jfBLTcX29P",
        "outputId": "b68c65e2-5536-4e5f-ee1d-a6796459ff38"
      },
      "execution_count": null,
      "outputs": [
        {
          "output_type": "execute_result",
          "data": {
            "text/plain": [
              "[2, 3, 4, 5, 6, 7]"
            ]
          },
          "metadata": {},
          "execution_count": 48
        }
      ]
    },
    {
      "cell_type": "code",
      "source": [
        "def solution(numbers):\n",
        "    res = [] \n",
        "    for i in range(len(numbers)):\n",
        "        for j in range(i+1,len(numbers)):\n",
        "            res.append(numbers[i] + numbers[j])\n",
        "    return sorted(list(set(res)))"
      ],
      "metadata": {
        "colab": {
          "base_uri": "https://localhost:8080/"
        },
        "id": "0tBLi47SYjtm",
        "outputId": "e9c5acbb-d804-4e69-8fcd-08ccccc1c206"
      },
      "execution_count": null,
      "outputs": [
        {
          "output_type": "execute_result",
          "data": {
            "text/plain": [
              "[2, 3, 4, 5, 6, 7]"
            ]
          },
          "metadata": {},
          "execution_count": 50
        }
      ]
    },
    {
      "cell_type": "code",
      "source": [
        "from itertools import combinations\n",
        "def solution(numbers):\n",
        "    return sorted(set(sum(i) for i in list(combinations(numbers, 2))))"
      ],
      "metadata": {
        "id": "CdzhWuGaYxwX"
      },
      "execution_count": null,
      "outputs": []
    },
    {
      "cell_type": "code",
      "source": [
        "def solution(numbers): return sorted({numbers[i] + numbers[j] for i in range(len(numbers)) for j in range(len(numbers)) if i>j})"
      ],
      "metadata": {
        "id": "IHWwyxmGY7Sw"
      },
      "execution_count": null,
      "outputs": []
    },
    {
      "cell_type": "markdown",
      "source": [
        "# 부족한 금액 계산하기"
      ],
      "metadata": {
        "id": "eofXgoZzlbbW"
      }
    },
    {
      "cell_type": "code",
      "source": [
        "price = 3\n",
        "money = 20\n",
        "count = 4\n",
        "\n",
        "cnt = 0\n",
        "for i in range(1,count+1):\n",
        "    cnt += price*i\n",
        "cnt"
      ],
      "metadata": {
        "colab": {
          "base_uri": "https://localhost:8080/"
        },
        "id": "qHV7yPkblcj7",
        "outputId": "b6d72c7f-13ec-4a14-e59e-95cf0b9ba19e"
      },
      "execution_count": null,
      "outputs": [
        {
          "output_type": "execute_result",
          "data": {
            "text/plain": [
              "30"
            ]
          },
          "metadata": {},
          "execution_count": 52
        }
      ]
    },
    {
      "cell_type": "code",
      "source": [
        "def solution(price, money, count):\n",
        "    cnt = 0\n",
        "    for i in range(1,count+1):\n",
        "        cnt += price*i\n",
        "    if cnt < money:\n",
        "        return 0\n",
        "    return cnt - money"
      ],
      "metadata": {
        "id": "9oBnCN1hlzCn"
      },
      "execution_count": null,
      "outputs": []
    },
    {
      "cell_type": "code",
      "source": [
        "def solution(price, money, count):\n",
        "    return max(0,price*(count+1)*count//2-money)"
      ],
      "metadata": {
        "id": "L3Q9sGtFl91U"
      },
      "execution_count": null,
      "outputs": []
    },
    {
      "cell_type": "code",
      "source": [
        "def solution(price, money, count):\n",
        "    return abs(min(money - sum([price*i for i in range(1,count+1)]),0))"
      ],
      "metadata": {
        "id": "I5jC6eh7l_bc"
      },
      "execution_count": null,
      "outputs": []
    },
    {
      "cell_type": "markdown",
      "source": [
        "# 나머지가 1이 되는 수 찾기\n"
      ],
      "metadata": {
        "id": "LHVnuWgmoca9"
      }
    },
    {
      "cell_type": "code",
      "source": [
        "n = 10\n",
        "res = []\n",
        "for i in range(1,n):\n",
        "    if n % i == 1:\n",
        "        res.append(i)\n",
        "min(res)"
      ],
      "metadata": {
        "colab": {
          "base_uri": "https://localhost:8080/"
        },
        "id": "ITq7QPxmorl7",
        "outputId": "aaec446a-09f4-4cf4-b390-ccb7eccdc51f"
      },
      "execution_count": null,
      "outputs": [
        {
          "output_type": "execute_result",
          "data": {
            "text/plain": [
              "3"
            ]
          },
          "metadata": {},
          "execution_count": 4
        }
      ]
    },
    {
      "cell_type": "code",
      "source": [
        "def solution(n):\n",
        "    res = [] \n",
        "    for i in range(1,n):\n",
        "        if n % i == 1:\n",
        "            res.append(i)\n",
        "    return min(res)"
      ],
      "metadata": {
        "colab": {
          "base_uri": "https://localhost:8080/"
        },
        "id": "P6E_c5myow1V",
        "outputId": "d1caede7-306f-4285-f773-088903fe7a38"
      },
      "execution_count": null,
      "outputs": [
        {
          "output_type": "execute_result",
          "data": {
            "text/plain": [
              "1"
            ]
          },
          "metadata": {},
          "execution_count": 3
        }
      ]
    },
    {
      "cell_type": "code",
      "source": [
        "def solution(n):\n",
        "    return [x for x in range(1,n+1) if n%x==1][0]"
      ],
      "metadata": {
        "id": "jvs_GtdtpISM"
      },
      "execution_count": null,
      "outputs": []
    },
    {
      "cell_type": "code",
      "source": [
        "solution = lambda n: min(list(filter(lambda x:n%x==1,range(1,n+1))))"
      ],
      "metadata": {
        "id": "7MUCEFS1pRQv"
      },
      "execution_count": null,
      "outputs": []
    },
    {
      "cell_type": "markdown",
      "source": [
        "# 기능개발"
      ],
      "metadata": {
        "id": "lfdW1U_LqqtA"
      }
    },
    {
      "cell_type": "code",
      "source": [
        "progresses = [95, 90, 99, 99, 80, 99]\t\n",
        "speeds = [1, 1, 1, 1, 1, 1]\t\n",
        "\n",
        "import math\n",
        "\n",
        "res = []\n",
        "for i in range(len(progresses)):\n",
        "    res.append(math.ceil((100-progresses[i]) / speeds[i]))\n",
        "res\n",
        "\n",
        "index = 0 \n",
        "answer = []\n",
        "for i in range(len(res)):\n",
        "    #print(res[i],res[i+1])\n",
        "    if res[index] < res[i]:\n",
        "        answer.append(i-index)\n",
        "        index = i\n",
        "answer.append(len(res)-index)\n",
        "answer"
      ],
      "metadata": {
        "colab": {
          "base_uri": "https://localhost:8080/"
        },
        "id": "2-Y3bdRPqri2",
        "outputId": "c859a502-1038-49ae-e06f-ced013c1bb63"
      },
      "execution_count": null,
      "outputs": [
        {
          "output_type": "execute_result",
          "data": {
            "text/plain": [
              "[1, 3, 2]"
            ]
          },
          "metadata": {},
          "execution_count": 32
        }
      ]
    },
    {
      "cell_type": "markdown",
      "source": [
        "# 더 맵게\n",
        "- 섞은 음식의 스코빌 지수 = 가장 맵지 않은 음식의 스코빌 지수 + (두 번째로 맵지 않은 음식의 스코빌 지수 * 2)\n"
      ],
      "metadata": {
        "id": "lcoPKHPhd6zk"
      }
    },
    {
      "cell_type": "code",
      "source": [
        "scoville = [1, 2, 3, 9, 10, 12]\n",
        "K = 7\n",
        "\n",
        "import heapq\n",
        "\n",
        "res = 0 \n",
        "cnt = 1\n",
        "heap = [] \n",
        "\n",
        "while scoville[0] + (scoville[1]*2) < K:\n",
        "    scoville.sort()\n",
        "    a = scoville.pop(0)   \n",
        "    b = scoville.pop(0)\n",
        "    scoville.insert(0,a + 2*b)  \n",
        "    cnt += 1\n",
        "cnt"
      ],
      "metadata": {
        "colab": {
          "base_uri": "https://localhost:8080/"
        },
        "id": "f1gZhW2Wd77G",
        "outputId": "c3408235-5582-40a9-d513-45d33ce851b7"
      },
      "execution_count": null,
      "outputs": [
        {
          "output_type": "execute_result",
          "data": {
            "text/plain": [
              "2"
            ]
          },
          "metadata": {},
          "execution_count": 42
        }
      ]
    },
    {
      "cell_type": "code",
      "source": [
        "scoville = [1, 2, 3, 9, 10, 12]\n",
        "K = 7\n",
        "\n",
        "import heapq\n",
        "\n",
        "cnt = 0\n",
        "heap = [] \n",
        "for i in scoville:\n",
        "    heapq.heappush(heap, i)\n",
        "\n",
        "while heap[0] < K:\n",
        "    heapq.heappush(heap,heapq.heappop(heap) + 2*heapq.heappop(heap))\n",
        "    cnt += 1\n",
        "cnt"
      ],
      "metadata": {
        "colab": {
          "base_uri": "https://localhost:8080/"
        },
        "id": "hRaZ-7jsnaUS",
        "outputId": "9320e07f-b7db-495c-b2f0-da96425ce3c2"
      },
      "execution_count": null,
      "outputs": [
        {
          "output_type": "execute_result",
          "data": {
            "text/plain": [
              "2"
            ]
          },
          "metadata": {},
          "execution_count": 46
        }
      ]
    },
    {
      "cell_type": "code",
      "source": [
        "scoville = [1, 2, 3, 9, 10, 12]\n",
        "K = 7\n",
        "\n",
        "import heapq\n",
        "\n",
        "cnt = 0\n",
        "heapq.heapify(scoville)\n",
        "\n",
        "while scoville[0] < K:\n",
        "    if len(scoville)>1:\n",
        "        heapq.heappush(scoville,heapq.heappop(scoville) + 2*heapq.heappop(scoville))\n",
        "        cnt += 1\n",
        "    else:\n",
        "        print(-1)\n",
        "cnt"
      ],
      "metadata": {
        "colab": {
          "base_uri": "https://localhost:8080/"
        },
        "id": "hTAYO96iotiI",
        "outputId": "ca7cc36a-f44e-4a44-d9ab-2cc16a0e49d0"
      },
      "execution_count": null,
      "outputs": [
        {
          "output_type": "execute_result",
          "data": {
            "text/plain": [
              "2"
            ]
          },
          "metadata": {},
          "execution_count": 53
        }
      ]
    },
    {
      "cell_type": "code",
      "source": [
        "import heapq\n",
        "\n",
        "def solution(scoville, K):\n",
        "    cnt = 0\n",
        "    heap = [] \n",
        "    heapq.heapify(scoville)\n",
        "\n",
        "    while scoville[0] < K:\n",
        "        if len(scoville)>1:\n",
        "            heapq.heappush(scoville,heapq.heappop(scoville) + 2*heapq.heappop(scoville))\n",
        "            cnt += 1\n",
        "        else:\n",
        "            return -1\n",
        "    return cnt\n"
      ],
      "metadata": {
        "id": "MlR63oKSp4G_"
      },
      "execution_count": null,
      "outputs": []
    },
    {
      "cell_type": "code",
      "source": [
        "import heapq as hq\n",
        "\n",
        "def solution(scoville, K): \n",
        "\n",
        "    hq.heapify(scoville)\n",
        "    answer = 0\n",
        "    while True:\n",
        "        first = hq.heappop(scoville)\n",
        "        if first >= K:\n",
        "            break\n",
        "        if len(scoville) == 0:\n",
        "            return -1\n",
        "        second = hq.heappop(scoville)\n",
        "        hq.heappush(scoville, first + second*2)\n",
        "        answer += 1  \n",
        "\n",
        "    return answer\n"
      ],
      "metadata": {
        "id": "neiqd0Alp4q-"
      },
      "execution_count": null,
      "outputs": []
    },
    {
      "cell_type": "markdown",
      "source": [
        "# 전화번호 목록"
      ],
      "metadata": {
        "id": "_3tDpNQt_IOC"
      }
    },
    {
      "cell_type": "code",
      "source": [
        "def solution(phone_book):\n",
        "    phone_book = sorted(phone_book)\n",
        "    for i in range(len(phone_book)-1):\n",
        "        if phone_book[i+1][:len(phone_book[i])] == phone_book[i]:\n",
        "            return False\n",
        "    return True"
      ],
      "metadata": {
        "colab": {
          "base_uri": "https://localhost:8080/"
        },
        "id": "Fyqv7KvR_suH",
        "outputId": "15c447f6-c497-469a-dcb8-732dab8160d7"
      },
      "execution_count": 19,
      "outputs": [
        {
          "output_type": "stream",
          "name": "stdout",
          "text": [
            "False\n"
          ]
        }
      ]
    },
    {
      "cell_type": "code",
      "source": [
        "def solution(phoneBook):\n",
        "    phoneBook = sorted(phoneBook)\n",
        "\n",
        "    for p1, p2 in zip(phoneBook, phoneBook[1:]):\n",
        "        if p2.startswith(p1):\n",
        "            return False\n",
        "    return True"
      ],
      "metadata": {
        "colab": {
          "base_uri": "https://localhost:8080/"
        },
        "id": "g7xvzDFhCrd3",
        "outputId": "464e567b-5e9a-49f1-8431-0a7e4cd42197"
      },
      "execution_count": 16,
      "outputs": [
        {
          "output_type": "execute_result",
          "data": {
            "text/plain": [
              "['119', '1195524421', '97674223']"
            ]
          },
          "metadata": {},
          "execution_count": 16
        }
      ]
    },
    {
      "cell_type": "markdown",
      "source": [
        "# H-Index"
      ],
      "metadata": {
        "id": "J2HUt-VSX0y1"
      }
    },
    {
      "cell_type": "code",
      "source": [
        "citations = [3, 0, 6, 1, 5]\n",
        "\n",
        "citations.sort()\n",
        "res = len(citations)\n",
        "\n",
        "for i in range(res):\n",
        "    if citations[i] >= res - i :\n",
        "        print(res - i)\n",
        "        "
      ],
      "metadata": {
        "colab": {
          "base_uri": "https://localhost:8080/"
        },
        "id": "vu35Ost8LvsO",
        "outputId": "e5e7b902-2b05-4981-ab2f-49826355d11a"
      },
      "execution_count": 10,
      "outputs": [
        {
          "output_type": "stream",
          "name": "stdout",
          "text": [
            "3\n",
            "2\n",
            "1\n"
          ]
        }
      ]
    },
    {
      "cell_type": "code",
      "source": [
        "def solution(citations):\n",
        "    citations.sort()\n",
        "    res = len(citations)\n",
        "\n",
        "    for i in range(res):\n",
        "        if citations[i] >= res - i :\n",
        "            return res - i\n",
        "    return 0"
      ],
      "metadata": {
        "colab": {
          "base_uri": "https://localhost:8080/"
        },
        "id": "L2KEJ2sxW6Fo",
        "outputId": "140190a9-234d-4337-851b-ed90d53a5ca0"
      },
      "execution_count": 9,
      "outputs": [
        {
          "output_type": "execute_result",
          "data": {
            "text/plain": [
              "2"
            ]
          },
          "metadata": {},
          "execution_count": 9
        }
      ]
    },
    {
      "cell_type": "code",
      "source": [
        "def solution(citations):\n",
        "    citations.sort(reverse=True)\n",
        "    answer = max(map(min, enumerate(citations, start=1)))\n",
        "    return answer\n"
      ],
      "metadata": {
        "id": "AFQh4Mp3X37n"
      },
      "execution_count": null,
      "outputs": []
    },
    {
      "cell_type": "code",
      "source": [
        "def solution(citations):\n",
        "  sorted_citations = sorted(citations, reverse=True)\n",
        "  for i in range(len(sorted_citations)):\n",
        "    if sorted_citations[i] <= i: \n",
        "      return i\n",
        "  return len(sorted_citations)\n"
      ],
      "metadata": {
        "id": "5lB3N857YDJ5"
      },
      "execution_count": null,
      "outputs": []
    },
    {
      "cell_type": "markdown",
      "source": [
        "# 큰 수 만들기\n"
      ],
      "metadata": {
        "id": "_lsWsrJvY9iN"
      }
    },
    {
      "cell_type": "code",
      "source": [
        "number = \"1924\"\n",
        "\n",
        "from itertools import combinations\n",
        "\n",
        "res = \"\"        \n",
        "for i in sorted(list(combinations(number,len(number)- k) )), reverse=True)[0]:\n",
        "    res += i\n",
        "res"
      ],
      "metadata": {
        "colab": {
          "base_uri": "https://localhost:8080/",
          "height": 35
        },
        "id": "fMVrXPVdY9Ph",
        "outputId": "32fb53a2-c0dd-4542-90e4-7b2289bd55fc"
      },
      "execution_count": 20,
      "outputs": [
        {
          "output_type": "execute_result",
          "data": {
            "text/plain": [
              "'94'"
            ],
            "application/vnd.google.colaboratory.intrinsic+json": {
              "type": "string"
            }
          },
          "metadata": {},
          "execution_count": 20
        }
      ]
    },
    {
      "cell_type": "markdown",
      "source": [
        "![image.png](data:image/png;base64,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)"
      ],
      "metadata": {
        "id": "7Mk6EKR-aHSZ"
      }
    },
    {
      "cell_type": "code",
      "source": [
        ""
      ],
      "metadata": {
        "id": "UMMqS7NGaHq5"
      },
      "execution_count": null,
      "outputs": []
    }
  ]
}