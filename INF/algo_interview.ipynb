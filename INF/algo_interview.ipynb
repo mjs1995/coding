{
  "nbformat": 4,
  "nbformat_minor": 0,
  "metadata": {
    "colab": {
      "name": "algo_interview.ipynb",
      "provenance": [],
      "authorship_tag": "ABX9TyPNY3VwOl9Lap3WoxnhbQtr",
      "include_colab_link": true
    },
    "kernelspec": {
      "name": "python3",
      "display_name": "Python 3"
    },
    "language_info": {
      "name": "python"
    }
  },
  "cells": [
    {
      "cell_type": "markdown",
      "metadata": {
        "id": "view-in-github",
        "colab_type": "text"
      },
      "source": [
        "<a href=\"https://colab.research.google.com/github/mjs1995/coding/blob/main/INF/algo_interview.ipynb\" target=\"_parent\"><img src=\"https://colab.research.google.com/assets/colab-badge.svg\" alt=\"Open In Colab\"/></a>"
      ]
    },
    {
      "cell_type": "markdown",
      "source": [
        "\n",
        "# 1_유효한 팰린드롬\n",
        "https://leetcode.com/problems/valid-palindrome/"
      ],
      "metadata": {
        "id": "CU04TaYFSPug"
      }
    },
    {
      "cell_type": "markdown",
      "source": [
        "- 알아두어야 할 부분! \n",
        "- for ch in s if ch.isalnum()\n",
        "- re.sub('[^a-z0-9]', '', s)"
      ],
      "metadata": {
        "id": "bc1ZMY1cW9b0"
      }
    },
    {
      "cell_type": "code",
      "execution_count": 25,
      "metadata": {
        "id": "XCLxX0rY3w3L"
      },
      "outputs": [],
      "source": [
        "s = \"A man, a plan, a canal: Panama\""
      ]
    },
    {
      "cell_type": "code",
      "source": [
        "import re \n",
        "re.sub('[^a-z0-9]', '', s)"
      ],
      "metadata": {
        "colab": {
          "base_uri": "https://localhost:8080/",
          "height": 35
        },
        "id": "AAH-cP1fXIST",
        "outputId": "af92ae9c-8b42-4670-c5aa-72270a6e75ed"
      },
      "execution_count": 44,
      "outputs": [
        {
          "output_type": "execute_result",
          "data": {
            "application/vnd.google.colaboratory.intrinsic+json": {
              "type": "string"
            },
            "text/plain": [
              "'raceacar'"
            ]
          },
          "metadata": {},
          "execution_count": 44
        }
      ]
    },
    {
      "cell_type": "code",
      "source": [
        "new = ''.join(ch for ch in s if ch.isalnum())\n",
        "new.lower()"
      ],
      "metadata": {
        "colab": {
          "base_uri": "https://localhost:8080/",
          "height": 35
        },
        "id": "z2PScjmLSWdW",
        "outputId": "5b328c8f-74d5-49a9-d932-5c181405866f"
      },
      "execution_count": 27,
      "outputs": [
        {
          "output_type": "execute_result",
          "data": {
            "application/vnd.google.colaboratory.intrinsic+json": {
              "type": "string"
            },
            "text/plain": [
              "'amanaplanacanalpanama'"
            ]
          },
          "metadata": {},
          "execution_count": 27
        }
      ]
    },
    {
      "cell_type": "code",
      "source": [
        "new[::-1].lower()"
      ],
      "metadata": {
        "colab": {
          "base_uri": "https://localhost:8080/",
          "height": 35
        },
        "id": "jAP_vZ8ySvIK",
        "outputId": "9af9cfb1-aa28-473e-f703-2a16e03ad7c0"
      },
      "execution_count": 29,
      "outputs": [
        {
          "output_type": "execute_result",
          "data": {
            "application/vnd.google.colaboratory.intrinsic+json": {
              "type": "string"
            },
            "text/plain": [
              "'amanaplanacanalpanama'"
            ]
          },
          "metadata": {},
          "execution_count": 29
        }
      ]
    },
    {
      "cell_type": "code",
      "source": [
        "True if new.lower() == new[::-1].lower() else False"
      ],
      "metadata": {
        "colab": {
          "base_uri": "https://localhost:8080/"
        },
        "id": "D5RhncbtSZES",
        "outputId": "81e45c21-fd99-4b93-9083-9c7e8043f59c"
      },
      "execution_count": 30,
      "outputs": [
        {
          "output_type": "execute_result",
          "data": {
            "text/plain": [
              "True"
            ]
          },
          "metadata": {},
          "execution_count": 30
        }
      ]
    },
    {
      "cell_type": "code",
      "source": [
        "s = \"race a car\"\n",
        "new = ''.join(ch for ch in s if ch.isalnum())\n",
        "print('true' if new.lower() == new[::-1].lower() else 'false')"
      ],
      "metadata": {
        "colab": {
          "base_uri": "https://localhost:8080/"
        },
        "id": "o9KrxYUWTvfV",
        "outputId": "aa7f3911-075d-4f22-a7f0-063b6b58a17c"
      },
      "execution_count": 35,
      "outputs": [
        {
          "output_type": "stream",
          "name": "stdout",
          "text": [
            "false\n"
          ]
        }
      ]
    },
    {
      "cell_type": "code",
      "source": [
        "result = ''\n",
        "if new.lower() == new[::-1].lower() :\n",
        "    result = 'true'\n",
        "else:\n",
        "    result = 'false'"
      ],
      "metadata": {
        "id": "hdRGAMsCUoTR"
      },
      "execution_count": 40,
      "outputs": []
    },
    {
      "cell_type": "code",
      "source": [
        "result"
      ],
      "metadata": {
        "colab": {
          "base_uri": "https://localhost:8080/",
          "height": 35
        },
        "id": "48qUxzS7VsLk",
        "outputId": "1d1e68cf-03d9-4d4a-c1d5-88bf3a4f75ed"
      },
      "execution_count": 41,
      "outputs": [
        {
          "output_type": "execute_result",
          "data": {
            "application/vnd.google.colaboratory.intrinsic+json": {
              "type": "string"
            },
            "text/plain": [
              "'false'"
            ]
          },
          "metadata": {},
          "execution_count": 41
        }
      ]
    },
    {
      "cell_type": "code",
      "source": [
        "class Solution:\n",
        "    def isPalindrome(self, s: str) -> bool:\n",
        "        new = ''.join(ch for ch in s if ch.isalnum())\n",
        "        return new.lower() == new[::-1].lower()"
      ],
      "metadata": {
        "id": "YjGBO-3aVvpT"
      },
      "execution_count": 42,
      "outputs": []
    },
    {
      "cell_type": "code",
      "source": [
        ""
      ],
      "metadata": {
        "id": "ufhygh1RWpmz"
      },
      "execution_count": null,
      "outputs": []
    }
  ]
}