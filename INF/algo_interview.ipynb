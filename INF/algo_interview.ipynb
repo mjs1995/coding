{
  "nbformat": 4,
  "nbformat_minor": 0,
  "metadata": {
    "colab": {
      "name": "algo_interview.ipynb",
      "provenance": [],
      "collapsed_sections": [],
      "authorship_tag": "ABX9TyNXW/KAQp6fJPNUzsBs0x1o",
      "include_colab_link": true
    },
    "kernelspec": {
      "name": "python3",
      "display_name": "Python 3"
    },
    "language_info": {
      "name": "python"
    }
  },
  "cells": [
    {
      "cell_type": "markdown",
      "metadata": {
        "id": "view-in-github",
        "colab_type": "text"
      },
      "source": [
        "<a href=\"https://colab.research.google.com/github/mjs1995/coding/blob/main/INF/algo_interview.ipynb\" target=\"_parent\"><img src=\"https://colab.research.google.com/assets/colab-badge.svg\" alt=\"Open In Colab\"/></a>"
      ]
    },
    {
      "cell_type": "markdown",
      "source": [
        "\n",
        "# 1_유효한 팰린드롬\n",
        "https://leetcode.com/problems/valid-palindrome/"
      ],
      "metadata": {
        "id": "CU04TaYFSPug"
      }
    },
    {
      "cell_type": "markdown",
      "source": [
        "- 알아두어야 할 부분! \n",
        "- for ch in s if ch.isalnum() : 문자만\n",
        "- re.sub('[^a-z0-9]', '', s) : 문자만 "
      ],
      "metadata": {
        "id": "bc1ZMY1cW9b0"
      }
    },
    {
      "cell_type": "code",
      "execution_count": 25,
      "metadata": {
        "id": "XCLxX0rY3w3L"
      },
      "outputs": [],
      "source": [
        "s = \"A man, a plan, a canal: Panama\""
      ]
    },
    {
      "cell_type": "code",
      "source": [
        "import re \n",
        "re.sub('[^a-z0-9]', '', s)"
      ],
      "metadata": {
        "colab": {
          "base_uri": "https://localhost:8080/",
          "height": 35
        },
        "id": "AAH-cP1fXIST",
        "outputId": "af92ae9c-8b42-4670-c5aa-72270a6e75ed"
      },
      "execution_count": 44,
      "outputs": [
        {
          "output_type": "execute_result",
          "data": {
            "application/vnd.google.colaboratory.intrinsic+json": {
              "type": "string"
            },
            "text/plain": [
              "'raceacar'"
            ]
          },
          "metadata": {},
          "execution_count": 44
        }
      ]
    },
    {
      "cell_type": "code",
      "source": [
        "new = ''.join(ch for ch in s if ch.isalnum())\n",
        "new.lower()"
      ],
      "metadata": {
        "colab": {
          "base_uri": "https://localhost:8080/",
          "height": 35
        },
        "id": "z2PScjmLSWdW",
        "outputId": "5b328c8f-74d5-49a9-d932-5c181405866f"
      },
      "execution_count": 27,
      "outputs": [
        {
          "output_type": "execute_result",
          "data": {
            "application/vnd.google.colaboratory.intrinsic+json": {
              "type": "string"
            },
            "text/plain": [
              "'amanaplanacanalpanama'"
            ]
          },
          "metadata": {},
          "execution_count": 27
        }
      ]
    },
    {
      "cell_type": "code",
      "source": [
        "new[::-1].lower()"
      ],
      "metadata": {
        "colab": {
          "base_uri": "https://localhost:8080/",
          "height": 35
        },
        "id": "jAP_vZ8ySvIK",
        "outputId": "9af9cfb1-aa28-473e-f703-2a16e03ad7c0"
      },
      "execution_count": 29,
      "outputs": [
        {
          "output_type": "execute_result",
          "data": {
            "application/vnd.google.colaboratory.intrinsic+json": {
              "type": "string"
            },
            "text/plain": [
              "'amanaplanacanalpanama'"
            ]
          },
          "metadata": {},
          "execution_count": 29
        }
      ]
    },
    {
      "cell_type": "code",
      "source": [
        "True if new.lower() == new[::-1].lower() else False"
      ],
      "metadata": {
        "colab": {
          "base_uri": "https://localhost:8080/"
        },
        "id": "D5RhncbtSZES",
        "outputId": "81e45c21-fd99-4b93-9083-9c7e8043f59c"
      },
      "execution_count": 30,
      "outputs": [
        {
          "output_type": "execute_result",
          "data": {
            "text/plain": [
              "True"
            ]
          },
          "metadata": {},
          "execution_count": 30
        }
      ]
    },
    {
      "cell_type": "code",
      "source": [
        "s = \"race a car\"\n",
        "new = ''.join(ch for ch in s if ch.isalnum())\n",
        "print('true' if new.lower() == new[::-1].lower() else 'false')"
      ],
      "metadata": {
        "colab": {
          "base_uri": "https://localhost:8080/"
        },
        "id": "o9KrxYUWTvfV",
        "outputId": "aa7f3911-075d-4f22-a7f0-063b6b58a17c"
      },
      "execution_count": 35,
      "outputs": [
        {
          "output_type": "stream",
          "name": "stdout",
          "text": [
            "false\n"
          ]
        }
      ]
    },
    {
      "cell_type": "code",
      "source": [
        "result = ''\n",
        "if new.lower() == new[::-1].lower() :\n",
        "    result = 'true'\n",
        "else:\n",
        "    result = 'false'"
      ],
      "metadata": {
        "id": "hdRGAMsCUoTR"
      },
      "execution_count": 40,
      "outputs": []
    },
    {
      "cell_type": "code",
      "source": [
        "result"
      ],
      "metadata": {
        "colab": {
          "base_uri": "https://localhost:8080/",
          "height": 35
        },
        "id": "48qUxzS7VsLk",
        "outputId": "1d1e68cf-03d9-4d4a-c1d5-88bf3a4f75ed"
      },
      "execution_count": 41,
      "outputs": [
        {
          "output_type": "execute_result",
          "data": {
            "application/vnd.google.colaboratory.intrinsic+json": {
              "type": "string"
            },
            "text/plain": [
              "'false'"
            ]
          },
          "metadata": {},
          "execution_count": 41
        }
      ]
    },
    {
      "cell_type": "code",
      "source": [
        "class Solution:\n",
        "    def isPalindrome(self, s: str) -> bool:\n",
        "        new = ''.join(ch for ch in s if ch.isalnum())\n",
        "        return new.lower() == new[::-1].lower()"
      ],
      "metadata": {
        "id": "YjGBO-3aVvpT"
      },
      "execution_count": 42,
      "outputs": []
    },
    {
      "cell_type": "code",
      "source": [
        ""
      ],
      "metadata": {
        "id": "ufhygh1RWpmz"
      },
      "execution_count": null,
      "outputs": []
    },
    {
      "cell_type": "markdown",
      "source": [
        "# 2_문자열 뒤집기\n",
        "https://leetcode.com/problems/reverse-string/submissions/\n",
        "\n",
        "- s.reverse() : 문자열 뒤집기"
      ],
      "metadata": {
        "id": "ZHN0udHDU-x9"
      }
    },
    {
      "cell_type": "code",
      "source": [
        "s = [\"h\",\"e\",\"l\",\"l\",\"o\"]"
      ],
      "metadata": {
        "id": "2HA51xAVU_oz"
      },
      "execution_count": 5,
      "outputs": []
    },
    {
      "cell_type": "code",
      "source": [
        "s.reverse()"
      ],
      "metadata": {
        "id": "361Oqe8lVge3"
      },
      "execution_count": 3,
      "outputs": []
    },
    {
      "cell_type": "code",
      "source": [
        "s"
      ],
      "metadata": {
        "colab": {
          "base_uri": "https://localhost:8080/"
        },
        "id": "lGTLC9QdViKm",
        "outputId": "020b9049-8d7a-42fb-99b3-94f24c5d8a12"
      },
      "execution_count": 4,
      "outputs": [
        {
          "output_type": "execute_result",
          "data": {
            "text/plain": [
              "['o', 'l', 'l', 'e', 'h']"
            ]
          },
          "metadata": {},
          "execution_count": 4
        }
      ]
    },
    {
      "cell_type": "code",
      "source": [
        "s[::-1]"
      ],
      "metadata": {
        "colab": {
          "base_uri": "https://localhost:8080/"
        },
        "id": "D329FG_GVAL_",
        "outputId": "ebe5adcc-ed4f-4a24-8468-77a83b08d6b7"
      },
      "execution_count": 6,
      "outputs": [
        {
          "output_type": "execute_result",
          "data": {
            "text/plain": [
              "['o', 'l', 'l', 'e', 'h']"
            ]
          },
          "metadata": {},
          "execution_count": 6
        }
      ]
    },
    {
      "cell_type": "code",
      "source": [
        "class Solution(object):\n",
        "    def reverseString(self, s):\n",
        "        \"\"\"\n",
        "        :type s: List[str]\n",
        "        :rtype: None Do not return anything, modify s in-place instead.\n",
        "        \"\"\"\n",
        "        return s.reverse()\n",
        "        "
      ],
      "metadata": {
        "id": "RH_5j0jYVjoY"
      },
      "execution_count": null,
      "outputs": []
    },
    {
      "cell_type": "markdown",
      "source": [
        "# 3_로그 파일 재정렬(937. Reorder Data in Log Files)\n",
        "https://leetcode.com/problems/reorder-data-in-log-files/\n"
      ],
      "metadata": {
        "id": "-yXkOO0nWPGi"
      }
    },
    {
      "cell_type": "code",
      "source": [
        "logs = [\"dig1 8 1 5 1\",\"let1 art can\",\"dig2 3 6\",\"let2 own kit dig\",\"let3 art zero\"]"
      ],
      "metadata": {
        "id": "orqN_AYmWk5R"
      },
      "execution_count": 8,
      "outputs": []
    },
    {
      "cell_type": "code",
      "source": [
        "char , digit = [], []\n",
        "for log in logs:\n",
        "    if log.split()[1].isdigit():\n",
        "        digit.append(log)\n",
        "    else:\n",
        "        char.append(log)\n",
        "char.sort(key = lambda x : (x.split()[1:], x.split()[0]))"
      ],
      "metadata": {
        "id": "UldJsJ-tYjVN"
      },
      "execution_count": 13,
      "outputs": []
    },
    {
      "cell_type": "code",
      "source": [
        "char"
      ],
      "metadata": {
        "colab": {
          "base_uri": "https://localhost:8080/"
        },
        "id": "X8qyZDoBY1Qz",
        "outputId": "9549d208-1072-41d7-bcfc-8e46cf4951ac"
      },
      "execution_count": 14,
      "outputs": [
        {
          "output_type": "execute_result",
          "data": {
            "text/plain": [
              "['let1 art can', 'let3 art zero', 'let2 own kit dig']"
            ]
          },
          "metadata": {},
          "execution_count": 14
        }
      ]
    },
    {
      "cell_type": "code",
      "source": [
        "for log in logs:\n",
        "    print(log.split())"
      ],
      "metadata": {
        "colab": {
          "base_uri": "https://localhost:8080/"
        },
        "id": "4J0mdGA-ZR4D",
        "outputId": "20073ea4-4aa1-4ca8-9acf-e9dee0df522c"
      },
      "execution_count": 19,
      "outputs": [
        {
          "output_type": "stream",
          "name": "stdout",
          "text": [
            "['dig1', '8', '1', '5', '1']\n",
            "['let1', 'art', 'can']\n",
            "['dig2', '3', '6']\n",
            "['let2', 'own', 'kit', 'dig']\n",
            "['let3', 'art', 'zero']\n"
          ]
        }
      ]
    },
    {
      "cell_type": "code",
      "source": [
        "char + digit"
      ],
      "metadata": {
        "colab": {
          "base_uri": "https://localhost:8080/"
        },
        "id": "fK2Y8tIcZkyx",
        "outputId": "550a76e1-1d2c-4388-be22-6687d04d0ab7"
      },
      "execution_count": 21,
      "outputs": [
        {
          "output_type": "execute_result",
          "data": {
            "text/plain": [
              "['let1 art can',\n",
              " 'let3 art zero',\n",
              " 'let2 own kit dig',\n",
              " 'dig1 8 1 5 1',\n",
              " 'dig2 3 6']"
            ]
          },
          "metadata": {},
          "execution_count": 21
        }
      ]
    },
    {
      "cell_type": "code",
      "source": [
        "class Solution(object):\n",
        "    def reorderLogFiles(self, logs):\n",
        "        \"\"\"\n",
        "        :type logs: List[str]\n",
        "        :rtype: List[str]\n",
        "        \"\"\"\n",
        "        char , digit = [], []\n",
        "        for log in logs:\n",
        "            if log.split()[1].isdigit():\n",
        "                digit.append(log)\n",
        "            else:\n",
        "                char.append(log)\n",
        "        char.sort(key = lambda x : (x.split()[1:], x.split()[0]))\n",
        "        return char + digit"
      ],
      "metadata": {
        "id": "V7P9DYtQZ6B9"
      },
      "execution_count": null,
      "outputs": []
    }
  ]
}