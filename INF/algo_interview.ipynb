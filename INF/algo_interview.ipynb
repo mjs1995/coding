{
  "nbformat": 4,
  "nbformat_minor": 0,
  "metadata": {
    "colab": {
      "name": "algo_interview.ipynb",
      "provenance": [],
      "collapsed_sections": [],
      "authorship_tag": "ABX9TyMR/W/XTyBRRqdcr5scPPZS",
      "include_colab_link": true
    },
    "kernelspec": {
      "name": "python3",
      "display_name": "Python 3"
    },
    "language_info": {
      "name": "python"
    }
  },
  "cells": [
    {
      "cell_type": "markdown",
      "metadata": {
        "id": "view-in-github",
        "colab_type": "text"
      },
      "source": [
        "<a href=\"https://colab.research.google.com/github/mjs1995/coding/blob/main/INF/algo_interview.ipynb\" target=\"_parent\"><img src=\"https://colab.research.google.com/assets/colab-badge.svg\" alt=\"Open In Colab\"/></a>"
      ]
    },
    {
      "cell_type": "markdown",
      "source": [
        "\n",
        "# 1_유효한 팰린드롬\n",
        "https://leetcode.com/problems/valid-palindrome/"
      ],
      "metadata": {
        "id": "CU04TaYFSPug"
      }
    },
    {
      "cell_type": "markdown",
      "source": [
        "- 알아두어야 할 부분! \n",
        "- for ch in s if ch.isalnum() : 문자만\n",
        "- re.sub('[^a-z0-9]', '', s) : 문자만 "
      ],
      "metadata": {
        "id": "bc1ZMY1cW9b0"
      }
    },
    {
      "cell_type": "code",
      "execution_count": null,
      "metadata": {
        "id": "XCLxX0rY3w3L"
      },
      "outputs": [],
      "source": [
        "s = \"A man, a plan, a canal: Panama\""
      ]
    },
    {
      "cell_type": "code",
      "source": [
        "import re \n",
        "re.sub('[^a-z0-9]', '', s)"
      ],
      "metadata": {
        "colab": {
          "base_uri": "https://localhost:8080/",
          "height": 35
        },
        "id": "AAH-cP1fXIST",
        "outputId": "af92ae9c-8b42-4670-c5aa-72270a6e75ed"
      },
      "execution_count": null,
      "outputs": [
        {
          "output_type": "execute_result",
          "data": {
            "application/vnd.google.colaboratory.intrinsic+json": {
              "type": "string"
            },
            "text/plain": [
              "'raceacar'"
            ]
          },
          "metadata": {},
          "execution_count": 44
        }
      ]
    },
    {
      "cell_type": "code",
      "source": [
        "new = ''.join(ch for ch in s if ch.isalnum())\n",
        "new.lower()"
      ],
      "metadata": {
        "colab": {
          "base_uri": "https://localhost:8080/",
          "height": 35
        },
        "id": "z2PScjmLSWdW",
        "outputId": "5b328c8f-74d5-49a9-d932-5c181405866f"
      },
      "execution_count": null,
      "outputs": [
        {
          "output_type": "execute_result",
          "data": {
            "application/vnd.google.colaboratory.intrinsic+json": {
              "type": "string"
            },
            "text/plain": [
              "'amanaplanacanalpanama'"
            ]
          },
          "metadata": {},
          "execution_count": 27
        }
      ]
    },
    {
      "cell_type": "code",
      "source": [
        "new[::-1].lower()"
      ],
      "metadata": {
        "colab": {
          "base_uri": "https://localhost:8080/",
          "height": 35
        },
        "id": "jAP_vZ8ySvIK",
        "outputId": "9af9cfb1-aa28-473e-f703-2a16e03ad7c0"
      },
      "execution_count": null,
      "outputs": [
        {
          "output_type": "execute_result",
          "data": {
            "application/vnd.google.colaboratory.intrinsic+json": {
              "type": "string"
            },
            "text/plain": [
              "'amanaplanacanalpanama'"
            ]
          },
          "metadata": {},
          "execution_count": 29
        }
      ]
    },
    {
      "cell_type": "code",
      "source": [
        "True if new.lower() == new[::-1].lower() else False"
      ],
      "metadata": {
        "colab": {
          "base_uri": "https://localhost:8080/"
        },
        "id": "D5RhncbtSZES",
        "outputId": "81e45c21-fd99-4b93-9083-9c7e8043f59c"
      },
      "execution_count": null,
      "outputs": [
        {
          "output_type": "execute_result",
          "data": {
            "text/plain": [
              "True"
            ]
          },
          "metadata": {},
          "execution_count": 30
        }
      ]
    },
    {
      "cell_type": "code",
      "source": [
        "s = \"race a car\"\n",
        "new = ''.join(ch for ch in s if ch.isalnum())\n",
        "print('true' if new.lower() == new[::-1].lower() else 'false')"
      ],
      "metadata": {
        "colab": {
          "base_uri": "https://localhost:8080/"
        },
        "id": "o9KrxYUWTvfV",
        "outputId": "aa7f3911-075d-4f22-a7f0-063b6b58a17c"
      },
      "execution_count": null,
      "outputs": [
        {
          "output_type": "stream",
          "name": "stdout",
          "text": [
            "false\n"
          ]
        }
      ]
    },
    {
      "cell_type": "code",
      "source": [
        "result = ''\n",
        "if new.lower() == new[::-1].lower() :\n",
        "    result = 'true'\n",
        "else:\n",
        "    result = 'false'"
      ],
      "metadata": {
        "id": "hdRGAMsCUoTR"
      },
      "execution_count": null,
      "outputs": []
    },
    {
      "cell_type": "code",
      "source": [
        "result"
      ],
      "metadata": {
        "colab": {
          "base_uri": "https://localhost:8080/",
          "height": 35
        },
        "id": "48qUxzS7VsLk",
        "outputId": "1d1e68cf-03d9-4d4a-c1d5-88bf3a4f75ed"
      },
      "execution_count": null,
      "outputs": [
        {
          "output_type": "execute_result",
          "data": {
            "application/vnd.google.colaboratory.intrinsic+json": {
              "type": "string"
            },
            "text/plain": [
              "'false'"
            ]
          },
          "metadata": {},
          "execution_count": 41
        }
      ]
    },
    {
      "cell_type": "code",
      "source": [
        "class Solution:\n",
        "    def isPalindrome(self, s: str) -> bool:\n",
        "        new = ''.join(ch for ch in s if ch.isalnum())\n",
        "        return new.lower() == new[::-1].lower()"
      ],
      "metadata": {
        "id": "YjGBO-3aVvpT"
      },
      "execution_count": null,
      "outputs": []
    },
    {
      "cell_type": "code",
      "source": [
        ""
      ],
      "metadata": {
        "id": "ufhygh1RWpmz"
      },
      "execution_count": null,
      "outputs": []
    },
    {
      "cell_type": "markdown",
      "source": [
        "# 2_문자열 뒤집기\n",
        "https://leetcode.com/problems/reverse-string/submissions/\n",
        "\n",
        "- s.reverse() : 문자열 뒤집기"
      ],
      "metadata": {
        "id": "ZHN0udHDU-x9"
      }
    },
    {
      "cell_type": "code",
      "source": [
        "s = [\"h\",\"e\",\"l\",\"l\",\"o\"]"
      ],
      "metadata": {
        "id": "2HA51xAVU_oz"
      },
      "execution_count": null,
      "outputs": []
    },
    {
      "cell_type": "code",
      "source": [
        "s.reverse()"
      ],
      "metadata": {
        "id": "361Oqe8lVge3"
      },
      "execution_count": null,
      "outputs": []
    },
    {
      "cell_type": "code",
      "source": [
        "s"
      ],
      "metadata": {
        "colab": {
          "base_uri": "https://localhost:8080/"
        },
        "id": "lGTLC9QdViKm",
        "outputId": "020b9049-8d7a-42fb-99b3-94f24c5d8a12"
      },
      "execution_count": null,
      "outputs": [
        {
          "output_type": "execute_result",
          "data": {
            "text/plain": [
              "['o', 'l', 'l', 'e', 'h']"
            ]
          },
          "metadata": {},
          "execution_count": 4
        }
      ]
    },
    {
      "cell_type": "code",
      "source": [
        "s[::-1]"
      ],
      "metadata": {
        "colab": {
          "base_uri": "https://localhost:8080/"
        },
        "id": "D329FG_GVAL_",
        "outputId": "ebe5adcc-ed4f-4a24-8468-77a83b08d6b7"
      },
      "execution_count": null,
      "outputs": [
        {
          "output_type": "execute_result",
          "data": {
            "text/plain": [
              "['o', 'l', 'l', 'e', 'h']"
            ]
          },
          "metadata": {},
          "execution_count": 6
        }
      ]
    },
    {
      "cell_type": "code",
      "source": [
        "class Solution(object):\n",
        "    def reverseString(self, s):\n",
        "        \"\"\"\n",
        "        :type s: List[str]\n",
        "        :rtype: None Do not return anything, modify s in-place instead.\n",
        "        \"\"\"\n",
        "        return s.reverse()\n",
        "        "
      ],
      "metadata": {
        "id": "RH_5j0jYVjoY"
      },
      "execution_count": null,
      "outputs": []
    },
    {
      "cell_type": "markdown",
      "source": [
        "# 3_로그 파일 재정렬(937. Reorder Data in Log Files)\n",
        "https://leetcode.com/problems/reorder-data-in-log-files/\n"
      ],
      "metadata": {
        "id": "-yXkOO0nWPGi"
      }
    },
    {
      "cell_type": "code",
      "source": [
        "logs = [\"dig1 8 1 5 1\",\"let1 art can\",\"dig2 3 6\",\"let2 own kit dig\",\"let3 art zero\"]"
      ],
      "metadata": {
        "id": "orqN_AYmWk5R"
      },
      "execution_count": null,
      "outputs": []
    },
    {
      "cell_type": "code",
      "source": [
        "char , digit = [], []\n",
        "for log in logs:\n",
        "    if log.split()[1].isdigit():\n",
        "        digit.append(log)\n",
        "    else:\n",
        "        char.append(log)\n",
        "char.sort(key = lambda x : (x.split()[1:], x.split()[0]))"
      ],
      "metadata": {
        "id": "UldJsJ-tYjVN"
      },
      "execution_count": null,
      "outputs": []
    },
    {
      "cell_type": "code",
      "source": [
        "char"
      ],
      "metadata": {
        "colab": {
          "base_uri": "https://localhost:8080/"
        },
        "id": "X8qyZDoBY1Qz",
        "outputId": "9549d208-1072-41d7-bcfc-8e46cf4951ac"
      },
      "execution_count": null,
      "outputs": [
        {
          "output_type": "execute_result",
          "data": {
            "text/plain": [
              "['let1 art can', 'let3 art zero', 'let2 own kit dig']"
            ]
          },
          "metadata": {},
          "execution_count": 14
        }
      ]
    },
    {
      "cell_type": "code",
      "source": [
        "for log in logs:\n",
        "    print(log.split())"
      ],
      "metadata": {
        "colab": {
          "base_uri": "https://localhost:8080/"
        },
        "id": "4J0mdGA-ZR4D",
        "outputId": "20073ea4-4aa1-4ca8-9acf-e9dee0df522c"
      },
      "execution_count": null,
      "outputs": [
        {
          "output_type": "stream",
          "name": "stdout",
          "text": [
            "['dig1', '8', '1', '5', '1']\n",
            "['let1', 'art', 'can']\n",
            "['dig2', '3', '6']\n",
            "['let2', 'own', 'kit', 'dig']\n",
            "['let3', 'art', 'zero']\n"
          ]
        }
      ]
    },
    {
      "cell_type": "code",
      "source": [
        "char + digit"
      ],
      "metadata": {
        "colab": {
          "base_uri": "https://localhost:8080/"
        },
        "id": "fK2Y8tIcZkyx",
        "outputId": "550a76e1-1d2c-4388-be22-6687d04d0ab7"
      },
      "execution_count": null,
      "outputs": [
        {
          "output_type": "execute_result",
          "data": {
            "text/plain": [
              "['let1 art can',\n",
              " 'let3 art zero',\n",
              " 'let2 own kit dig',\n",
              " 'dig1 8 1 5 1',\n",
              " 'dig2 3 6']"
            ]
          },
          "metadata": {},
          "execution_count": 21
        }
      ]
    },
    {
      "cell_type": "code",
      "source": [
        "class Solution(object):\n",
        "    def reorderLogFiles(self, logs):\n",
        "        \"\"\"\n",
        "        :type logs: List[str]\n",
        "        :rtype: List[str]\n",
        "        \"\"\"\n",
        "        char , digit = [], []\n",
        "        for log in logs:\n",
        "            if log.split()[1].isdigit():\n",
        "                digit.append(log)\n",
        "            else:\n",
        "                char.append(log)\n",
        "        char.sort(key = lambda x : (x.split()[1:], x.split()[0]))\n",
        "        return char + digit"
      ],
      "metadata": {
        "id": "V7P9DYtQZ6B9"
      },
      "execution_count": null,
      "outputs": []
    },
    {
      "cell_type": "markdown",
      "source": [
        "# 4_가장 흔한 단어\n",
        "https://leetcode.com/problems/most-common-word/"
      ],
      "metadata": {
        "id": "6693cgqwphsB"
      }
    },
    {
      "cell_type": "code",
      "source": [
        "paragraph = \"Bob hit a ball, the hit BALL flew far after it was hit.\"\n",
        "banned = [\"hit\"]"
      ],
      "metadata": {
        "id": "KmNLr9hMpoO8"
      },
      "execution_count": null,
      "outputs": []
    },
    {
      "cell_type": "code",
      "source": [
        "paragraph.lower().split()"
      ],
      "metadata": {
        "colab": {
          "base_uri": "https://localhost:8080/"
        },
        "id": "9Wb32glKrxnP",
        "outputId": "d199a0e1-790c-49b6-c174-297e1b5f8945"
      },
      "execution_count": null,
      "outputs": [
        {
          "output_type": "execute_result",
          "data": {
            "text/plain": [
              "['bob',\n",
              " 'hit',\n",
              " 'a',\n",
              " 'ball,',\n",
              " 'the',\n",
              " 'hit',\n",
              " 'ball',\n",
              " 'flew',\n",
              " 'far',\n",
              " 'after',\n",
              " 'it',\n",
              " 'was',\n",
              " 'hit.']"
            ]
          },
          "metadata": {},
          "execution_count": 27
        }
      ]
    },
    {
      "cell_type": "code",
      "source": [
        "[i for i in paragraph.lower().split() if i.isalnum()]"
      ],
      "metadata": {
        "colab": {
          "base_uri": "https://localhost:8080/"
        },
        "id": "ncGRQlHWr3Jk",
        "outputId": "b3f50b0d-ba8c-43ba-efc6-67a93fae7eaf"
      },
      "execution_count": null,
      "outputs": [
        {
          "output_type": "execute_result",
          "data": {
            "text/plain": [
              "['bob', 'hit', 'a', 'the', 'hit', 'ball', 'flew', 'far', 'after', 'it', 'was']"
            ]
          },
          "metadata": {},
          "execution_count": 29
        }
      ]
    },
    {
      "cell_type": "code",
      "source": [
        "s = [i for i in paragraph.lower().split() if i.isalnum()]\n",
        "s"
      ],
      "metadata": {
        "colab": {
          "base_uri": "https://localhost:8080/"
        },
        "id": "SIwLUl4OqJR-",
        "outputId": "91161d28-6950-4d40-9782-544b0197bfdd"
      },
      "execution_count": null,
      "outputs": [
        {
          "output_type": "execute_result",
          "data": {
            "text/plain": [
              "['bob', 'hit', 'a', 'the', 'hit', 'ball', 'flew', 'far', 'after', 'it', 'was']"
            ]
          },
          "metadata": {},
          "execution_count": 13
        }
      ]
    },
    {
      "cell_type": "code",
      "source": [
        "result = []\n",
        "for i in s :\n",
        "    if i not in banned:\n",
        "        result.append(i)"
      ],
      "metadata": {
        "id": "MLp5bBXMqnMu"
      },
      "execution_count": null,
      "outputs": []
    },
    {
      "cell_type": "code",
      "source": [
        "from collections import Counter\n",
        "result"
      ],
      "metadata": {
        "colab": {
          "base_uri": "https://localhost:8080/"
        },
        "id": "h2uHknjgqttV",
        "outputId": "3619bfa2-11b8-4d15-8025-43fdcfa8d515"
      },
      "execution_count": null,
      "outputs": [
        {
          "output_type": "execute_result",
          "data": {
            "text/plain": [
              "['bob', 'a', 'the', 'ball', 'flew', 'far', 'after', 'it', 'was']"
            ]
          },
          "metadata": {},
          "execution_count": 23
        }
      ]
    },
    {
      "cell_type": "code",
      "source": [
        "Counter(result)"
      ],
      "metadata": {
        "colab": {
          "base_uri": "https://localhost:8080/"
        },
        "id": "NrImv1jirYS8",
        "outputId": "b4544382-388f-47f9-9a99-bb7cee22acec"
      },
      "execution_count": null,
      "outputs": [
        {
          "output_type": "execute_result",
          "data": {
            "text/plain": [
              "Counter({'a': 1,\n",
              "         'after': 1,\n",
              "         'ball': 1,\n",
              "         'bob': 1,\n",
              "         'far': 1,\n",
              "         'flew': 1,\n",
              "         'it': 1,\n",
              "         'the': 1,\n",
              "         'was': 1})"
            ]
          },
          "metadata": {},
          "execution_count": 24
        }
      ]
    },
    {
      "cell_type": "code",
      "source": [
        "import re\n",
        "cnt = Counter([word for word in re.sub('[^a-z0-9]', ' ', paragraph.lower()).split() if word not in banned])\n",
        "cnt.most_common(1)[0][0]"
      ],
      "metadata": {
        "colab": {
          "base_uri": "https://localhost:8080/",
          "height": 35
        },
        "id": "E0TQ_73BrsEb",
        "outputId": "cb391f41-beeb-4b6e-ff27-d6c7714a3caf"
      },
      "execution_count": null,
      "outputs": [
        {
          "output_type": "execute_result",
          "data": {
            "application/vnd.google.colaboratory.intrinsic+json": {
              "type": "string"
            },
            "text/plain": [
              "'ball'"
            ]
          },
          "metadata": {},
          "execution_count": 49
        }
      ]
    },
    {
      "cell_type": "code",
      "source": [
        "cnt.most_common(1)[0][0]"
      ],
      "metadata": {
        "colab": {
          "base_uri": "https://localhost:8080/",
          "height": 35
        },
        "id": "vYFcSJias8UT",
        "outputId": "e409e9f2-32b1-40b6-c35b-d27aea372435"
      },
      "execution_count": null,
      "outputs": [
        {
          "output_type": "execute_result",
          "data": {
            "application/vnd.google.colaboratory.intrinsic+json": {
              "type": "string"
            },
            "text/plain": [
              "'ball'"
            ]
          },
          "metadata": {},
          "execution_count": 48
        }
      ]
    },
    {
      "cell_type": "code",
      "source": [
        "class Solution(object):\n",
        "    def mostCommonWord(self, paragraph, banned):\n",
        "        \"\"\"\n",
        "        :type paragraph: str\n",
        "        :type banned: List[str]\n",
        "        :rtype: str\n",
        "        \"\"\"\n",
        "        import re\n",
        "        cnt = Counter([word for word in re.sub('[^a-z0-9]', ' ', paragraph.lower()).split() if word not in banned])\n",
        "        return cnt.most_common(1)[0][0]"
      ],
      "metadata": {
        "id": "0vWnCUq7tcSQ"
      },
      "execution_count": null,
      "outputs": []
    },
    {
      "cell_type": "markdown",
      "source": [
        "# 그룹 애너그램"
      ],
      "metadata": {
        "id": "kpdA7AMZz4t5"
      }
    },
    {
      "cell_type": "code",
      "source": [
        " strs = [\"eat\",\"tea\",\"tan\",\"ate\",\"nat\",\"bat\"]"
      ],
      "metadata": {
        "id": "cVkNwo4Oz4iK"
      },
      "execution_count": null,
      "outputs": []
    },
    {
      "cell_type": "code",
      "source": [
        "from collections import defaultdict\n",
        "anagrams = defaultdict(list)\n",
        "anagrams"
      ],
      "metadata": {
        "colab": {
          "base_uri": "https://localhost:8080/"
        },
        "id": "20NnNEyO0BUM",
        "outputId": "0a2f3d32-0406-42ee-d4b8-edc2e86c0444"
      },
      "execution_count": null,
      "outputs": [
        {
          "output_type": "execute_result",
          "data": {
            "text/plain": [
              "defaultdict(list, {})"
            ]
          },
          "metadata": {},
          "execution_count": 23
        }
      ]
    },
    {
      "cell_type": "code",
      "source": [
        "for word in strs:\n",
        "    print(word, (''.join(sorted(word))))"
      ],
      "metadata": {
        "colab": {
          "base_uri": "https://localhost:8080/"
        },
        "id": "OukE0Q5Q3FXK",
        "outputId": "0b019d64-b35a-475b-eafa-14ac8fa83d86"
      },
      "execution_count": null,
      "outputs": [
        {
          "output_type": "stream",
          "name": "stdout",
          "text": [
            "eat aet\n",
            "tea aet\n",
            "tan ant\n",
            "ate aet\n",
            "nat ant\n",
            "bat abt\n"
          ]
        }
      ]
    },
    {
      "cell_type": "code",
      "source": [
        "for word in strs:\n",
        "    print(sorted(word))"
      ],
      "metadata": {
        "colab": {
          "base_uri": "https://localhost:8080/"
        },
        "id": "__rwJ4mJ0Jp9",
        "outputId": "4f4453ac-5800-4d37-ec27-34626c12b475"
      },
      "execution_count": null,
      "outputs": [
        {
          "output_type": "stream",
          "name": "stdout",
          "text": [
            "['a', 'e', 't']\n",
            "['a', 'e', 't']\n",
            "['a', 'n', 't']\n",
            "['a', 'e', 't']\n",
            "['a', 'n', 't']\n",
            "['a', 'b', 't']\n"
          ]
        }
      ]
    },
    {
      "cell_type": "code",
      "source": [
        "for word in strs:\n",
        "    print(''.join(sorted(word)))"
      ],
      "metadata": {
        "colab": {
          "base_uri": "https://localhost:8080/"
        },
        "id": "s_DJ-t2V0uIM",
        "outputId": "7fd776e9-5f6c-4be0-ec43-fc1dd6d3f4ce"
      },
      "execution_count": null,
      "outputs": [
        {
          "output_type": "stream",
          "name": "stdout",
          "text": [
            "aet\n",
            "aet\n",
            "ant\n",
            "aet\n",
            "ant\n",
            "abt\n"
          ]
        }
      ]
    },
    {
      "cell_type": "code",
      "source": [
        "for word in strs:\n",
        "    anagrams[''.join(sorted(word))]\n",
        "anagrams"
      ],
      "metadata": {
        "colab": {
          "base_uri": "https://localhost:8080/"
        },
        "id": "hHtCoJyK2xaW",
        "outputId": "49b55a37-821f-427d-b90a-3b508777c194"
      },
      "execution_count": null,
      "outputs": [
        {
          "output_type": "execute_result",
          "data": {
            "text/plain": [
              "defaultdict(list, {'abt': [], 'aet': [], 'ant': []})"
            ]
          },
          "metadata": {},
          "execution_count": 26
        }
      ]
    },
    {
      "cell_type": "code",
      "source": [
        "for word in strs:\n",
        "    anagrams[''.join(sorted(word))].append(word)"
      ],
      "metadata": {
        "id": "6LKqAYnB0hvM"
      },
      "execution_count": null,
      "outputs": []
    },
    {
      "cell_type": "code",
      "source": [
        "list(anagrams.values())"
      ],
      "metadata": {
        "colab": {
          "base_uri": "https://localhost:8080/"
        },
        "id": "sYioAyam0rL_",
        "outputId": "9110da4e-1a0d-4e29-d485-d76c9128fb67"
      },
      "execution_count": null,
      "outputs": [
        {
          "output_type": "execute_result",
          "data": {
            "text/plain": [
              "[['eat', 'tea', 'ate'], ['tan', 'nat'], ['bat']]"
            ]
          },
          "metadata": {},
          "execution_count": 22
        }
      ]
    },
    {
      "cell_type": "code",
      "source": [
        "anagrams"
      ],
      "metadata": {
        "colab": {
          "base_uri": "https://localhost:8080/"
        },
        "id": "AqUC7k0Q1JqS",
        "outputId": "0bd344df-87b7-453f-f7bd-22a4eae7ba35"
      },
      "execution_count": null,
      "outputs": [
        {
          "output_type": "execute_result",
          "data": {
            "text/plain": [
              "defaultdict(list,\n",
              "            {'abt': ['bat', 'bat'],\n",
              "             'aet': ['eat', 'tea', 'ate'],\n",
              "             'ant': ['tan', 'nat']})"
            ]
          },
          "metadata": {},
          "execution_count": 17
        }
      ]
    },
    {
      "cell_type": "code",
      "source": [
        "class Solution(object):\n",
        "    def groupAnagrams(self, strs):\n",
        "        \"\"\"\n",
        "        :type strs: List[str]\n",
        "        :rtype: List[List[str]]\n",
        "        \"\"\"\n",
        "        from collections import defaultdict\n",
        "        anagrams = defaultdict(list)\n",
        "        for word in strs:\n",
        "            anagrams[''.join(sorted(word))].append(word)\n",
        "        return list(anagrams.values())"
      ],
      "metadata": {
        "id": "x7kueRBL1R_E"
      },
      "execution_count": null,
      "outputs": []
    },
    {
      "cell_type": "markdown",
      "source": [
        "# 6 가장 긴 팰린드롬 부분 문자열\n",
        "https://leetcode.com/problems/longest-palindromic-substring/submissions/"
      ],
      "metadata": {
        "id": "UgGM1uEK0ZaM"
      }
    },
    {
      "cell_type": "code",
      "source": [
        "s = \"babad\"\n",
        "\n",
        "def expand(left, right):\n",
        "    while left >= 0 and right < len(s) and s[left] ==s[right]:\n",
        "        left -= 1\n",
        "        right += 1\n",
        "    return s[left+ 1: right]    \n",
        "\n",
        "# if len(s) < 2 or s == s[::-1]:\n",
        "#     return s\n",
        "\n",
        "result = ''\n",
        "for i in range(len(s) -1 ):\n",
        "    result = max(result, \n",
        "                 expand(i, i+1),\n",
        "                 expand(i,i+2),\n",
        "                 key=len)\n",
        "    print(result)\n",
        "#    return result\n"
      ],
      "metadata": {
        "colab": {
          "base_uri": "https://localhost:8080/"
        },
        "id": "qIPrUNDR0cN7",
        "outputId": "ced4f06c-db1b-49ae-e733-56ab0834fc54"
      },
      "execution_count": 8,
      "outputs": [
        {
          "output_type": "stream",
          "name": "stdout",
          "text": [
            "bab\n",
            "bab\n",
            "bab\n",
            "bab\n"
          ]
        }
      ]
    },
    {
      "cell_type": "code",
      "source": [
        "class Solution(object):\n",
        "    def longestPalindrome(self, s):\n",
        "        \"\"\"\n",
        "        :type s: str\n",
        "        :rtype: str\n",
        "        \"\"\"\n",
        "        def expand(left, right):\n",
        "            while left >= 0 and right < len(s) and s[left] ==s[right]:\n",
        "                left -= 1\n",
        "                right += 1\n",
        "            return s[left+ 1: right]    \n",
        "\n",
        "        if len(s) < 2 or s == s[::-1]:\n",
        "            return s\n",
        "\n",
        "        result = ''\n",
        "        for i in range(len(s) -1 ):\n",
        "            result = max(result, \n",
        "                     expand(i, i+1),\n",
        "                     expand(i,i+2),\n",
        "                     key=len)\n",
        "        return result"
      ],
      "metadata": {
        "colab": {
          "base_uri": "https://localhost:8080/",
          "height": 35
        },
        "id": "ydMGEjNh2MEp",
        "outputId": "4e115e67-4ee5-4b8e-f66f-269a5382ab8f"
      },
      "execution_count": 7,
      "outputs": [
        {
          "output_type": "execute_result",
          "data": {
            "application/vnd.google.colaboratory.intrinsic+json": {
              "type": "string"
            },
            "text/plain": [
              "'bab'"
            ]
          },
          "metadata": {},
          "execution_count": 7
        }
      ]
    },
    {
      "cell_type": "markdown",
      "source": [
        "#7 두 수의 합\n",
        "\n",
        "\n"
      ],
      "metadata": {
        "id": "vTcFDTYqNgLC"
      }
    },
    {
      "cell_type": "code",
      "source": [
        "nums = [2,7,11,15]\n",
        "target = 9"
      ],
      "metadata": {
        "id": "FjDTYg3Z2OWA"
      },
      "execution_count": 2,
      "outputs": []
    },
    {
      "cell_type": "code",
      "source": [
        "result = [] \n",
        "for i in range(len(nums)):\n",
        "    if nums[i] + nums[i-1] == target:\n",
        "        result.append(i-1)\n",
        "        result.append(i)\n"
      ],
      "metadata": {
        "id": "hDnOqclnNugh"
      },
      "execution_count": 12,
      "outputs": []
    },
    {
      "cell_type": "markdown",
      "source": [
        "![image.png](data:image/png;base64,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)"
      ],
      "metadata": {
        "id": "oCQOYsg9OlTX"
      }
    },
    {
      "cell_type": "code",
      "source": [
        "nums = [3,3]\n",
        "target = 6"
      ],
      "metadata": {
        "id": "0ISxSqacN2iQ"
      },
      "execution_count": 21,
      "outputs": []
    },
    {
      "cell_type": "code",
      "source": [
        "result = [] \n",
        "for i in range(len(nums)):\n",
        "    if len(nums) == 2:\n",
        "        result = [0,1]\n",
        "    elif nums[i] + nums[i-1] == target:\n",
        "        result.append(i-1)\n",
        "        result.append(i)\n",
        "result"
      ],
      "metadata": {
        "colab": {
          "base_uri": "https://localhost:8080/"
        },
        "id": "1m54PkfSN5bJ",
        "outputId": "20df149b-e34d-4dc8-c18e-0963a8748a53"
      },
      "execution_count": 22,
      "outputs": [
        {
          "output_type": "execute_result",
          "data": {
            "text/plain": [
              "[0.1]"
            ]
          },
          "metadata": {},
          "execution_count": 22
        }
      ]
    },
    {
      "cell_type": "code",
      "source": [
        "nums = [-3,4,3,90]\n",
        "target = 0"
      ],
      "metadata": {
        "id": "96PELpnUOy9Q"
      },
      "execution_count": 50,
      "outputs": []
    },
    {
      "cell_type": "code",
      "source": [
        "        result = [] \n",
        "        for i in range(len(nums)):\n",
        "            # if len(nums) == 2:\n",
        "            #     result = [0,1]\n",
        "            # elif nums[i] + nums[i-1] == target:\n",
        "                # if i-1 <0:\n",
        "                #     result.append(len(nums)-1)\n",
        "                #     result.append(i)\n",
        "                if nums[i] + nums[i-1] == target:\n",
        "                    result.append(i-1)\n",
        "                    result.append(i)\n"
      ],
      "metadata": {
        "id": "AmqwruzWQQUC"
      },
      "execution_count": 56,
      "outputs": []
    },
    {
      "cell_type": "code",
      "source": [
        "for i in range(len(nums)):\n",
        "    for j in range(i+1, len(nums)):\n",
        "        print(j)"
      ],
      "metadata": {
        "colab": {
          "base_uri": "https://localhost:8080/"
        },
        "id": "FqCH2VByREzr",
        "outputId": "ff0060c8-ab31-4710-a4c8-ccefb2a2b8c6"
      },
      "execution_count": 68,
      "outputs": [
        {
          "output_type": "stream",
          "name": "stdout",
          "text": [
            "1\n",
            "2\n",
            "3\n",
            "2\n",
            "3\n",
            "3\n"
          ]
        }
      ]
    },
    {
      "cell_type": "code",
      "source": [
        "result = [] \n",
        "for i in range(len(nums)):\n",
        "    for j in range(i+1, len(nums)):\n",
        "        if nums[i] + nums[j] == target:\n",
        "                    result.append(i)\n",
        "                    result.append(j)"
      ],
      "metadata": {
        "id": "9tFSYgKDRIfy"
      },
      "execution_count": 66,
      "outputs": []
    },
    {
      "cell_type": "code",
      "source": [
        "class Solution(object):\n",
        "    def twoSum(self, nums, target):\n",
        "        \"\"\"\n",
        "        :type nums: List[int]\n",
        "        :type target: int\n",
        "        :rtype: List[int]\n",
        "        \"\"\"\n",
        "        result = [] \n",
        "        for i in range(len(nums)):\n",
        "            for j in range(i+1, len(nums)):\n",
        "                if nums[i] + nums[j] == target:\n",
        "                            result.append(i)\n",
        "                            result.append(j)\n",
        "        return result"
      ],
      "metadata": {
        "colab": {
          "base_uri": "https://localhost:8080/"
        },
        "id": "dO1qjmyGRZfY",
        "outputId": "a837b501-ee53-479d-8d85-39a07b2d4f10"
      },
      "execution_count": 67,
      "outputs": [
        {
          "output_type": "execute_result",
          "data": {
            "text/plain": [
              "[0, 2]"
            ]
          },
          "metadata": {},
          "execution_count": 67
        }
      ]
    },
    {
      "cell_type": "code",
      "source": [
        "nums = [2,7,11,15]\n",
        "target = 9\n",
        "for i, n in enumerate(nums):\n",
        "    complement = target - n\n",
        "    #print(complement)\n",
        "    if complement in nums[i+1: ]:\n",
        "        print([nums.index(n), nums[i+1:].index(complement)+(i+1)])"
      ],
      "metadata": {
        "colab": {
          "base_uri": "https://localhost:8080/"
        },
        "id": "rZ8-ozUlRn-8",
        "outputId": "6914fe8e-8289-4c20-f543-8347528f54ec"
      },
      "execution_count": 83,
      "outputs": [
        {
          "output_type": "stream",
          "name": "stdout",
          "text": [
            "[0, 1]\n"
          ]
        }
      ]
    },
    {
      "cell_type": "code",
      "source": [
        "nums_map = {}\n",
        "for i, num in enumerate(nums):\n",
        "    nums_map[num] = i\n",
        "\n",
        "for i, num in enumerate(nums):\n",
        "    if target - num in nums_map and i != nums_map[target-num]:\n",
        "        print( [i, nums_map[target-num]])"
      ],
      "metadata": {
        "colab": {
          "base_uri": "https://localhost:8080/"
        },
        "id": "mrkSsS4KTEjL",
        "outputId": "5e2024e5-69aa-49ae-9e7f-a903744a194a"
      },
      "execution_count": 90,
      "outputs": [
        {
          "output_type": "stream",
          "name": "stdout",
          "text": [
            "[0, 1]\n",
            "[1, 0]\n"
          ]
        }
      ]
    },
    {
      "cell_type": "code",
      "source": [
        "nums_map"
      ],
      "metadata": {
        "colab": {
          "base_uri": "https://localhost:8080/"
        },
        "id": "0tmpAtzVT2wv",
        "outputId": "64605718-27b5-4d01-9fad-0e80a06e00aa"
      },
      "execution_count": 87,
      "outputs": [
        {
          "output_type": "execute_result",
          "data": {
            "text/plain": [
              "{2: 0, 7: 1, 11: 2, 15: 3}"
            ]
          },
          "metadata": {},
          "execution_count": 87
        }
      ]
    },
    {
      "cell_type": "code",
      "source": [
        "nums_map = {}\n",
        "for i, num in enumerate(nums):\n",
        "    print('@',nums_map)\n",
        "    if target - num in nums_map:\n",
        "        print('#',[nums_map[target-num], i])\n",
        "    nums_map[num] = i\n",
        "    print(nums_map)"
      ],
      "metadata": {
        "colab": {
          "base_uri": "https://localhost:8080/"
        },
        "id": "Im30e1diT7aV",
        "outputId": "3e76d437-bb39-4f06-83cd-b0f99cc678ed"
      },
      "execution_count": 96,
      "outputs": [
        {
          "output_type": "stream",
          "name": "stdout",
          "text": [
            "@ {}\n",
            "{2: 0}\n",
            "@ {2: 0}\n",
            "# [0, 1]\n",
            "{2: 0, 7: 1}\n",
            "@ {2: 0, 7: 1}\n",
            "{2: 0, 7: 1, 11: 2}\n",
            "@ {2: 0, 7: 1, 11: 2}\n",
            "{2: 0, 7: 1, 11: 2, 15: 3}\n"
          ]
        }
      ]
    },
    {
      "cell_type": "code",
      "source": [
        "for i, num in enumerate(nums):\n",
        "    print(i,num)"
      ],
      "metadata": {
        "colab": {
          "base_uri": "https://localhost:8080/"
        },
        "id": "IYH0yopbU6Q7",
        "outputId": "426e4799-21e1-40c9-f243-fa002c3d78c8"
      },
      "execution_count": 93,
      "outputs": [
        {
          "output_type": "stream",
          "name": "stdout",
          "text": [
            "0 2\n",
            "1 7\n",
            "2 11\n",
            "3 15\n"
          ]
        }
      ]
    },
    {
      "cell_type": "code",
      "source": [
        ""
      ],
      "metadata": {
        "id": "If8HSPQMVIpC"
      },
      "execution_count": null,
      "outputs": []
    }
  ]
}