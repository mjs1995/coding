{
  "nbformat": 4,
  "nbformat_minor": 0,
  "metadata": {
    "colab": {
      "name": "algo_interview.ipynb",
      "provenance": [],
      "collapsed_sections": [],
      "authorship_tag": "ABX9TyOimJOOs/J3gSZ314yaUoNh",
      "include_colab_link": true
    },
    "kernelspec": {
      "name": "python3",
      "display_name": "Python 3"
    },
    "language_info": {
      "name": "python"
    }
  },
  "cells": [
    {
      "cell_type": "markdown",
      "metadata": {
        "id": "view-in-github",
        "colab_type": "text"
      },
      "source": [
        "<a href=\"https://colab.research.google.com/github/mjs1995/coding/blob/main/INF/algo_interview.ipynb\" target=\"_parent\"><img src=\"https://colab.research.google.com/assets/colab-badge.svg\" alt=\"Open In Colab\"/></a>"
      ]
    },
    {
      "cell_type": "markdown",
      "source": [
        "\n",
        "# 1_유효한 팰린드롬\n",
        "https://leetcode.com/problems/valid-palindrome/"
      ],
      "metadata": {
        "id": "CU04TaYFSPug"
      }
    },
    {
      "cell_type": "markdown",
      "source": [
        "- 알아두어야 할 부분! \n",
        "- for ch in s if ch.isalnum() : 문자만\n",
        "- re.sub('[^a-z0-9]', '', s) : 문자만 "
      ],
      "metadata": {
        "id": "bc1ZMY1cW9b0"
      }
    },
    {
      "cell_type": "code",
      "execution_count": null,
      "metadata": {
        "id": "XCLxX0rY3w3L"
      },
      "outputs": [],
      "source": [
        "s = \"A man, a plan, a canal: Panama\""
      ]
    },
    {
      "cell_type": "code",
      "source": [
        "import re \n",
        "re.sub('[^a-z0-9]', '', s)"
      ],
      "metadata": {
        "colab": {
          "base_uri": "https://localhost:8080/",
          "height": 35
        },
        "id": "AAH-cP1fXIST",
        "outputId": "af92ae9c-8b42-4670-c5aa-72270a6e75ed"
      },
      "execution_count": null,
      "outputs": [
        {
          "output_type": "execute_result",
          "data": {
            "application/vnd.google.colaboratory.intrinsic+json": {
              "type": "string"
            },
            "text/plain": [
              "'raceacar'"
            ]
          },
          "metadata": {},
          "execution_count": 44
        }
      ]
    },
    {
      "cell_type": "code",
      "source": [
        "new = ''.join(ch for ch in s if ch.isalnum())\n",
        "new.lower()"
      ],
      "metadata": {
        "colab": {
          "base_uri": "https://localhost:8080/",
          "height": 35
        },
        "id": "z2PScjmLSWdW",
        "outputId": "5b328c8f-74d5-49a9-d932-5c181405866f"
      },
      "execution_count": null,
      "outputs": [
        {
          "output_type": "execute_result",
          "data": {
            "application/vnd.google.colaboratory.intrinsic+json": {
              "type": "string"
            },
            "text/plain": [
              "'amanaplanacanalpanama'"
            ]
          },
          "metadata": {},
          "execution_count": 27
        }
      ]
    },
    {
      "cell_type": "code",
      "source": [
        "new[::-1].lower()"
      ],
      "metadata": {
        "colab": {
          "base_uri": "https://localhost:8080/",
          "height": 35
        },
        "id": "jAP_vZ8ySvIK",
        "outputId": "9af9cfb1-aa28-473e-f703-2a16e03ad7c0"
      },
      "execution_count": null,
      "outputs": [
        {
          "output_type": "execute_result",
          "data": {
            "application/vnd.google.colaboratory.intrinsic+json": {
              "type": "string"
            },
            "text/plain": [
              "'amanaplanacanalpanama'"
            ]
          },
          "metadata": {},
          "execution_count": 29
        }
      ]
    },
    {
      "cell_type": "code",
      "source": [
        "True if new.lower() == new[::-1].lower() else False"
      ],
      "metadata": {
        "colab": {
          "base_uri": "https://localhost:8080/"
        },
        "id": "D5RhncbtSZES",
        "outputId": "81e45c21-fd99-4b93-9083-9c7e8043f59c"
      },
      "execution_count": null,
      "outputs": [
        {
          "output_type": "execute_result",
          "data": {
            "text/plain": [
              "True"
            ]
          },
          "metadata": {},
          "execution_count": 30
        }
      ]
    },
    {
      "cell_type": "code",
      "source": [
        "s = \"race a car\"\n",
        "new = ''.join(ch for ch in s if ch.isalnum())\n",
        "print('true' if new.lower() == new[::-1].lower() else 'false')"
      ],
      "metadata": {
        "colab": {
          "base_uri": "https://localhost:8080/"
        },
        "id": "o9KrxYUWTvfV",
        "outputId": "aa7f3911-075d-4f22-a7f0-063b6b58a17c"
      },
      "execution_count": null,
      "outputs": [
        {
          "output_type": "stream",
          "name": "stdout",
          "text": [
            "false\n"
          ]
        }
      ]
    },
    {
      "cell_type": "code",
      "source": [
        "result = ''\n",
        "if new.lower() == new[::-1].lower() :\n",
        "    result = 'true'\n",
        "else:\n",
        "    result = 'false'"
      ],
      "metadata": {
        "id": "hdRGAMsCUoTR"
      },
      "execution_count": null,
      "outputs": []
    },
    {
      "cell_type": "code",
      "source": [
        "result"
      ],
      "metadata": {
        "colab": {
          "base_uri": "https://localhost:8080/",
          "height": 35
        },
        "id": "48qUxzS7VsLk",
        "outputId": "1d1e68cf-03d9-4d4a-c1d5-88bf3a4f75ed"
      },
      "execution_count": null,
      "outputs": [
        {
          "output_type": "execute_result",
          "data": {
            "application/vnd.google.colaboratory.intrinsic+json": {
              "type": "string"
            },
            "text/plain": [
              "'false'"
            ]
          },
          "metadata": {},
          "execution_count": 41
        }
      ]
    },
    {
      "cell_type": "code",
      "source": [
        "class Solution:\n",
        "    def isPalindrome(self, s: str) -> bool:\n",
        "        new = ''.join(ch for ch in s if ch.isalnum())\n",
        "        return new.lower() == new[::-1].lower()"
      ],
      "metadata": {
        "id": "YjGBO-3aVvpT"
      },
      "execution_count": null,
      "outputs": []
    },
    {
      "cell_type": "code",
      "source": [
        ""
      ],
      "metadata": {
        "id": "ufhygh1RWpmz"
      },
      "execution_count": null,
      "outputs": []
    },
    {
      "cell_type": "markdown",
      "source": [
        "# 2_문자열 뒤집기\n",
        "https://leetcode.com/problems/reverse-string/submissions/\n",
        "\n",
        "- s.reverse() : 문자열 뒤집기"
      ],
      "metadata": {
        "id": "ZHN0udHDU-x9"
      }
    },
    {
      "cell_type": "code",
      "source": [
        "s = [\"h\",\"e\",\"l\",\"l\",\"o\"]"
      ],
      "metadata": {
        "id": "2HA51xAVU_oz"
      },
      "execution_count": null,
      "outputs": []
    },
    {
      "cell_type": "code",
      "source": [
        "s.reverse()"
      ],
      "metadata": {
        "id": "361Oqe8lVge3"
      },
      "execution_count": null,
      "outputs": []
    },
    {
      "cell_type": "code",
      "source": [
        "s"
      ],
      "metadata": {
        "colab": {
          "base_uri": "https://localhost:8080/"
        },
        "id": "lGTLC9QdViKm",
        "outputId": "020b9049-8d7a-42fb-99b3-94f24c5d8a12"
      },
      "execution_count": null,
      "outputs": [
        {
          "output_type": "execute_result",
          "data": {
            "text/plain": [
              "['o', 'l', 'l', 'e', 'h']"
            ]
          },
          "metadata": {},
          "execution_count": 4
        }
      ]
    },
    {
      "cell_type": "code",
      "source": [
        "s[::-1]"
      ],
      "metadata": {
        "colab": {
          "base_uri": "https://localhost:8080/"
        },
        "id": "D329FG_GVAL_",
        "outputId": "ebe5adcc-ed4f-4a24-8468-77a83b08d6b7"
      },
      "execution_count": null,
      "outputs": [
        {
          "output_type": "execute_result",
          "data": {
            "text/plain": [
              "['o', 'l', 'l', 'e', 'h']"
            ]
          },
          "metadata": {},
          "execution_count": 6
        }
      ]
    },
    {
      "cell_type": "code",
      "source": [
        "class Solution(object):\n",
        "    def reverseString(self, s):\n",
        "        \"\"\"\n",
        "        :type s: List[str]\n",
        "        :rtype: None Do not return anything, modify s in-place instead.\n",
        "        \"\"\"\n",
        "        return s.reverse()\n",
        "        "
      ],
      "metadata": {
        "id": "RH_5j0jYVjoY"
      },
      "execution_count": null,
      "outputs": []
    },
    {
      "cell_type": "markdown",
      "source": [
        "# 3_로그 파일 재정렬(937. Reorder Data in Log Files)\n",
        "https://leetcode.com/problems/reorder-data-in-log-files/\n"
      ],
      "metadata": {
        "id": "-yXkOO0nWPGi"
      }
    },
    {
      "cell_type": "code",
      "source": [
        "logs = [\"dig1 8 1 5 1\",\"let1 art can\",\"dig2 3 6\",\"let2 own kit dig\",\"let3 art zero\"]"
      ],
      "metadata": {
        "id": "orqN_AYmWk5R"
      },
      "execution_count": null,
      "outputs": []
    },
    {
      "cell_type": "code",
      "source": [
        "char , digit = [], []\n",
        "for log in logs:\n",
        "    if log.split()[1].isdigit():\n",
        "        digit.append(log)\n",
        "    else:\n",
        "        char.append(log)\n",
        "char.sort(key = lambda x : (x.split()[1:], x.split()[0]))"
      ],
      "metadata": {
        "id": "UldJsJ-tYjVN"
      },
      "execution_count": null,
      "outputs": []
    },
    {
      "cell_type": "code",
      "source": [
        "char"
      ],
      "metadata": {
        "colab": {
          "base_uri": "https://localhost:8080/"
        },
        "id": "X8qyZDoBY1Qz",
        "outputId": "9549d208-1072-41d7-bcfc-8e46cf4951ac"
      },
      "execution_count": null,
      "outputs": [
        {
          "output_type": "execute_result",
          "data": {
            "text/plain": [
              "['let1 art can', 'let3 art zero', 'let2 own kit dig']"
            ]
          },
          "metadata": {},
          "execution_count": 14
        }
      ]
    },
    {
      "cell_type": "code",
      "source": [
        "for log in logs:\n",
        "    print(log.split())"
      ],
      "metadata": {
        "colab": {
          "base_uri": "https://localhost:8080/"
        },
        "id": "4J0mdGA-ZR4D",
        "outputId": "20073ea4-4aa1-4ca8-9acf-e9dee0df522c"
      },
      "execution_count": null,
      "outputs": [
        {
          "output_type": "stream",
          "name": "stdout",
          "text": [
            "['dig1', '8', '1', '5', '1']\n",
            "['let1', 'art', 'can']\n",
            "['dig2', '3', '6']\n",
            "['let2', 'own', 'kit', 'dig']\n",
            "['let3', 'art', 'zero']\n"
          ]
        }
      ]
    },
    {
      "cell_type": "code",
      "source": [
        "char + digit"
      ],
      "metadata": {
        "colab": {
          "base_uri": "https://localhost:8080/"
        },
        "id": "fK2Y8tIcZkyx",
        "outputId": "550a76e1-1d2c-4388-be22-6687d04d0ab7"
      },
      "execution_count": null,
      "outputs": [
        {
          "output_type": "execute_result",
          "data": {
            "text/plain": [
              "['let1 art can',\n",
              " 'let3 art zero',\n",
              " 'let2 own kit dig',\n",
              " 'dig1 8 1 5 1',\n",
              " 'dig2 3 6']"
            ]
          },
          "metadata": {},
          "execution_count": 21
        }
      ]
    },
    {
      "cell_type": "code",
      "source": [
        "class Solution(object):\n",
        "    def reorderLogFiles(self, logs):\n",
        "        \"\"\"\n",
        "        :type logs: List[str]\n",
        "        :rtype: List[str]\n",
        "        \"\"\"\n",
        "        char , digit = [], []\n",
        "        for log in logs:\n",
        "            if log.split()[1].isdigit():\n",
        "                digit.append(log)\n",
        "            else:\n",
        "                char.append(log)\n",
        "        char.sort(key = lambda x : (x.split()[1:], x.split()[0]))\n",
        "        return char + digit"
      ],
      "metadata": {
        "id": "V7P9DYtQZ6B9"
      },
      "execution_count": null,
      "outputs": []
    },
    {
      "cell_type": "markdown",
      "source": [
        "# 4_가장 흔한 단어\n",
        "https://leetcode.com/problems/most-common-word/"
      ],
      "metadata": {
        "id": "6693cgqwphsB"
      }
    },
    {
      "cell_type": "code",
      "source": [
        "paragraph = \"Bob hit a ball, the hit BALL flew far after it was hit.\"\n",
        "banned = [\"hit\"]"
      ],
      "metadata": {
        "id": "KmNLr9hMpoO8"
      },
      "execution_count": null,
      "outputs": []
    },
    {
      "cell_type": "code",
      "source": [
        "paragraph.lower().split()"
      ],
      "metadata": {
        "colab": {
          "base_uri": "https://localhost:8080/"
        },
        "id": "9Wb32glKrxnP",
        "outputId": "d199a0e1-790c-49b6-c174-297e1b5f8945"
      },
      "execution_count": null,
      "outputs": [
        {
          "output_type": "execute_result",
          "data": {
            "text/plain": [
              "['bob',\n",
              " 'hit',\n",
              " 'a',\n",
              " 'ball,',\n",
              " 'the',\n",
              " 'hit',\n",
              " 'ball',\n",
              " 'flew',\n",
              " 'far',\n",
              " 'after',\n",
              " 'it',\n",
              " 'was',\n",
              " 'hit.']"
            ]
          },
          "metadata": {},
          "execution_count": 27
        }
      ]
    },
    {
      "cell_type": "code",
      "source": [
        "[i for i in paragraph.lower().split() if i.isalnum()]"
      ],
      "metadata": {
        "colab": {
          "base_uri": "https://localhost:8080/"
        },
        "id": "ncGRQlHWr3Jk",
        "outputId": "b3f50b0d-ba8c-43ba-efc6-67a93fae7eaf"
      },
      "execution_count": null,
      "outputs": [
        {
          "output_type": "execute_result",
          "data": {
            "text/plain": [
              "['bob', 'hit', 'a', 'the', 'hit', 'ball', 'flew', 'far', 'after', 'it', 'was']"
            ]
          },
          "metadata": {},
          "execution_count": 29
        }
      ]
    },
    {
      "cell_type": "code",
      "source": [
        "s = [i for i in paragraph.lower().split() if i.isalnum()]\n",
        "s"
      ],
      "metadata": {
        "colab": {
          "base_uri": "https://localhost:8080/"
        },
        "id": "SIwLUl4OqJR-",
        "outputId": "91161d28-6950-4d40-9782-544b0197bfdd"
      },
      "execution_count": null,
      "outputs": [
        {
          "output_type": "execute_result",
          "data": {
            "text/plain": [
              "['bob', 'hit', 'a', 'the', 'hit', 'ball', 'flew', 'far', 'after', 'it', 'was']"
            ]
          },
          "metadata": {},
          "execution_count": 13
        }
      ]
    },
    {
      "cell_type": "code",
      "source": [
        "result = []\n",
        "for i in s :\n",
        "    if i not in banned:\n",
        "        result.append(i)"
      ],
      "metadata": {
        "id": "MLp5bBXMqnMu"
      },
      "execution_count": null,
      "outputs": []
    },
    {
      "cell_type": "code",
      "source": [
        "from collections import Counter\n",
        "result"
      ],
      "metadata": {
        "colab": {
          "base_uri": "https://localhost:8080/"
        },
        "id": "h2uHknjgqttV",
        "outputId": "3619bfa2-11b8-4d15-8025-43fdcfa8d515"
      },
      "execution_count": null,
      "outputs": [
        {
          "output_type": "execute_result",
          "data": {
            "text/plain": [
              "['bob', 'a', 'the', 'ball', 'flew', 'far', 'after', 'it', 'was']"
            ]
          },
          "metadata": {},
          "execution_count": 23
        }
      ]
    },
    {
      "cell_type": "code",
      "source": [
        "Counter(result)"
      ],
      "metadata": {
        "colab": {
          "base_uri": "https://localhost:8080/"
        },
        "id": "NrImv1jirYS8",
        "outputId": "b4544382-388f-47f9-9a99-bb7cee22acec"
      },
      "execution_count": null,
      "outputs": [
        {
          "output_type": "execute_result",
          "data": {
            "text/plain": [
              "Counter({'a': 1,\n",
              "         'after': 1,\n",
              "         'ball': 1,\n",
              "         'bob': 1,\n",
              "         'far': 1,\n",
              "         'flew': 1,\n",
              "         'it': 1,\n",
              "         'the': 1,\n",
              "         'was': 1})"
            ]
          },
          "metadata": {},
          "execution_count": 24
        }
      ]
    },
    {
      "cell_type": "code",
      "source": [
        "import re\n",
        "cnt = Counter([word for word in re.sub('[^a-z0-9]', ' ', paragraph.lower()).split() if word not in banned])\n",
        "cnt.most_common(1)[0][0]"
      ],
      "metadata": {
        "colab": {
          "base_uri": "https://localhost:8080/",
          "height": 35
        },
        "id": "E0TQ_73BrsEb",
        "outputId": "cb391f41-beeb-4b6e-ff27-d6c7714a3caf"
      },
      "execution_count": null,
      "outputs": [
        {
          "output_type": "execute_result",
          "data": {
            "application/vnd.google.colaboratory.intrinsic+json": {
              "type": "string"
            },
            "text/plain": [
              "'ball'"
            ]
          },
          "metadata": {},
          "execution_count": 49
        }
      ]
    },
    {
      "cell_type": "code",
      "source": [
        "cnt.most_common(1)[0][0]"
      ],
      "metadata": {
        "colab": {
          "base_uri": "https://localhost:8080/",
          "height": 35
        },
        "id": "vYFcSJias8UT",
        "outputId": "e409e9f2-32b1-40b6-c35b-d27aea372435"
      },
      "execution_count": null,
      "outputs": [
        {
          "output_type": "execute_result",
          "data": {
            "application/vnd.google.colaboratory.intrinsic+json": {
              "type": "string"
            },
            "text/plain": [
              "'ball'"
            ]
          },
          "metadata": {},
          "execution_count": 48
        }
      ]
    },
    {
      "cell_type": "code",
      "source": [
        "class Solution(object):\n",
        "    def mostCommonWord(self, paragraph, banned):\n",
        "        \"\"\"\n",
        "        :type paragraph: str\n",
        "        :type banned: List[str]\n",
        "        :rtype: str\n",
        "        \"\"\"\n",
        "        import re\n",
        "        cnt = Counter([word for word in re.sub('[^a-z0-9]', ' ', paragraph.lower()).split() if word not in banned])\n",
        "        return cnt.most_common(1)[0][0]"
      ],
      "metadata": {
        "id": "0vWnCUq7tcSQ"
      },
      "execution_count": null,
      "outputs": []
    },
    {
      "cell_type": "markdown",
      "source": [
        "# 그룹 애너그램"
      ],
      "metadata": {
        "id": "kpdA7AMZz4t5"
      }
    },
    {
      "cell_type": "code",
      "source": [
        " strs = [\"eat\",\"tea\",\"tan\",\"ate\",\"nat\",\"bat\"]"
      ],
      "metadata": {
        "id": "cVkNwo4Oz4iK"
      },
      "execution_count": 1,
      "outputs": []
    },
    {
      "cell_type": "code",
      "source": [
        "from collections import defaultdict\n",
        "anagrams = defaultdict(list)\n",
        "anagrams"
      ],
      "metadata": {
        "colab": {
          "base_uri": "https://localhost:8080/"
        },
        "id": "20NnNEyO0BUM",
        "outputId": "0a2f3d32-0406-42ee-d4b8-edc2e86c0444"
      },
      "execution_count": 23,
      "outputs": [
        {
          "output_type": "execute_result",
          "data": {
            "text/plain": [
              "defaultdict(list, {})"
            ]
          },
          "metadata": {},
          "execution_count": 23
        }
      ]
    },
    {
      "cell_type": "code",
      "source": [
        "for word in strs:\n",
        "    print(word, (''.join(sorted(word))))"
      ],
      "metadata": {
        "colab": {
          "base_uri": "https://localhost:8080/"
        },
        "id": "OukE0Q5Q3FXK",
        "outputId": "0b019d64-b35a-475b-eafa-14ac8fa83d86"
      },
      "execution_count": 29,
      "outputs": [
        {
          "output_type": "stream",
          "name": "stdout",
          "text": [
            "eat aet\n",
            "tea aet\n",
            "tan ant\n",
            "ate aet\n",
            "nat ant\n",
            "bat abt\n"
          ]
        }
      ]
    },
    {
      "cell_type": "code",
      "source": [
        "for word in strs:\n",
        "    print(sorted(word))"
      ],
      "metadata": {
        "colab": {
          "base_uri": "https://localhost:8080/"
        },
        "id": "__rwJ4mJ0Jp9",
        "outputId": "4f4453ac-5800-4d37-ec27-34626c12b475"
      },
      "execution_count": 9,
      "outputs": [
        {
          "output_type": "stream",
          "name": "stdout",
          "text": [
            "['a', 'e', 't']\n",
            "['a', 'e', 't']\n",
            "['a', 'n', 't']\n",
            "['a', 'e', 't']\n",
            "['a', 'n', 't']\n",
            "['a', 'b', 't']\n"
          ]
        }
      ]
    },
    {
      "cell_type": "code",
      "source": [
        "for word in strs:\n",
        "    print(''.join(sorted(word)))"
      ],
      "metadata": {
        "colab": {
          "base_uri": "https://localhost:8080/"
        },
        "id": "s_DJ-t2V0uIM",
        "outputId": "7fd776e9-5f6c-4be0-ec43-fc1dd6d3f4ce"
      },
      "execution_count": 10,
      "outputs": [
        {
          "output_type": "stream",
          "name": "stdout",
          "text": [
            "aet\n",
            "aet\n",
            "ant\n",
            "aet\n",
            "ant\n",
            "abt\n"
          ]
        }
      ]
    },
    {
      "cell_type": "code",
      "source": [
        "for word in strs:\n",
        "    anagrams[''.join(sorted(word))]\n",
        "anagrams"
      ],
      "metadata": {
        "colab": {
          "base_uri": "https://localhost:8080/"
        },
        "id": "hHtCoJyK2xaW",
        "outputId": "49b55a37-821f-427d-b90a-3b508777c194"
      },
      "execution_count": 26,
      "outputs": [
        {
          "output_type": "execute_result",
          "data": {
            "text/plain": [
              "defaultdict(list, {'abt': [], 'aet': [], 'ant': []})"
            ]
          },
          "metadata": {},
          "execution_count": 26
        }
      ]
    },
    {
      "cell_type": "code",
      "source": [
        "for word in strs:\n",
        "    anagrams[''.join(sorted(word))].append(word)"
      ],
      "metadata": {
        "id": "6LKqAYnB0hvM"
      },
      "execution_count": 19,
      "outputs": []
    },
    {
      "cell_type": "code",
      "source": [
        "list(anagrams.values())"
      ],
      "metadata": {
        "colab": {
          "base_uri": "https://localhost:8080/"
        },
        "id": "sYioAyam0rL_",
        "outputId": "9110da4e-1a0d-4e29-d485-d76c9128fb67"
      },
      "execution_count": 22,
      "outputs": [
        {
          "output_type": "execute_result",
          "data": {
            "text/plain": [
              "[['eat', 'tea', 'ate'], ['tan', 'nat'], ['bat']]"
            ]
          },
          "metadata": {},
          "execution_count": 22
        }
      ]
    },
    {
      "cell_type": "code",
      "source": [
        "anagrams"
      ],
      "metadata": {
        "colab": {
          "base_uri": "https://localhost:8080/"
        },
        "id": "AqUC7k0Q1JqS",
        "outputId": "0bd344df-87b7-453f-f7bd-22a4eae7ba35"
      },
      "execution_count": 17,
      "outputs": [
        {
          "output_type": "execute_result",
          "data": {
            "text/plain": [
              "defaultdict(list,\n",
              "            {'abt': ['bat', 'bat'],\n",
              "             'aet': ['eat', 'tea', 'ate'],\n",
              "             'ant': ['tan', 'nat']})"
            ]
          },
          "metadata": {},
          "execution_count": 17
        }
      ]
    },
    {
      "cell_type": "code",
      "source": [
        "class Solution(object):\n",
        "    def groupAnagrams(self, strs):\n",
        "        \"\"\"\n",
        "        :type strs: List[str]\n",
        "        :rtype: List[List[str]]\n",
        "        \"\"\"\n",
        "        from collections import defaultdict\n",
        "        anagrams = defaultdict(list)\n",
        "        for word in strs:\n",
        "            anagrams[''.join(sorted(word))].append(word)\n",
        "        return list(anagrams.values())"
      ],
      "metadata": {
        "id": "x7kueRBL1R_E"
      },
      "execution_count": null,
      "outputs": []
    }
  ]
}