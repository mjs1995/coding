{
  "nbformat": 4,
  "nbformat_minor": 0,
  "metadata": {
    "colab": {
      "name": "algo_interview.ipynb",
      "provenance": [],
      "collapsed_sections": [],
      "authorship_tag": "ABX9TyMHy8y7Z85zrKSiTa6xyoxu",
      "include_colab_link": true
    },
    "kernelspec": {
      "name": "python3",
      "display_name": "Python 3"
    },
    "language_info": {
      "name": "python"
    }
  },
  "cells": [
    {
      "cell_type": "markdown",
      "metadata": {
        "id": "view-in-github",
        "colab_type": "text"
      },
      "source": [
        "<a href=\"https://colab.research.google.com/github/mjs1995/coding/blob/main/INF/algo_interview.ipynb\" target=\"_parent\"><img src=\"https://colab.research.google.com/assets/colab-badge.svg\" alt=\"Open In Colab\"/></a>"
      ]
    },
    {
      "cell_type": "markdown",
      "source": [
        "\n",
        "# 1_유효한 팰린드롬\n",
        "https://leetcode.com/problems/valid-palindrome/"
      ],
      "metadata": {
        "id": "CU04TaYFSPug"
      }
    },
    {
      "cell_type": "markdown",
      "source": [
        "- 알아두어야 할 부분! \n",
        "- for ch in s if ch.isalnum() : 문자만\n",
        "- re.sub('[^a-z0-9]', '', s) : 문자만 "
      ],
      "metadata": {
        "id": "bc1ZMY1cW9b0"
      }
    },
    {
      "cell_type": "code",
      "execution_count": null,
      "metadata": {
        "id": "XCLxX0rY3w3L"
      },
      "outputs": [],
      "source": [
        "s = \"A man, a plan, a canal: Panama\""
      ]
    },
    {
      "cell_type": "code",
      "source": [
        "import re \n",
        "re.sub('[^a-z0-9]', '', s)"
      ],
      "metadata": {
        "colab": {
          "base_uri": "https://localhost:8080/",
          "height": 35
        },
        "id": "AAH-cP1fXIST",
        "outputId": "af92ae9c-8b42-4670-c5aa-72270a6e75ed"
      },
      "execution_count": null,
      "outputs": [
        {
          "output_type": "execute_result",
          "data": {
            "application/vnd.google.colaboratory.intrinsic+json": {
              "type": "string"
            },
            "text/plain": [
              "'raceacar'"
            ]
          },
          "metadata": {},
          "execution_count": 44
        }
      ]
    },
    {
      "cell_type": "code",
      "source": [
        "new = ''.join(ch for ch in s if ch.isalnum())\n",
        "new.lower()"
      ],
      "metadata": {
        "colab": {
          "base_uri": "https://localhost:8080/",
          "height": 35
        },
        "id": "z2PScjmLSWdW",
        "outputId": "5b328c8f-74d5-49a9-d932-5c181405866f"
      },
      "execution_count": null,
      "outputs": [
        {
          "output_type": "execute_result",
          "data": {
            "application/vnd.google.colaboratory.intrinsic+json": {
              "type": "string"
            },
            "text/plain": [
              "'amanaplanacanalpanama'"
            ]
          },
          "metadata": {},
          "execution_count": 27
        }
      ]
    },
    {
      "cell_type": "code",
      "source": [
        "new[::-1].lower()"
      ],
      "metadata": {
        "colab": {
          "base_uri": "https://localhost:8080/",
          "height": 35
        },
        "id": "jAP_vZ8ySvIK",
        "outputId": "9af9cfb1-aa28-473e-f703-2a16e03ad7c0"
      },
      "execution_count": null,
      "outputs": [
        {
          "output_type": "execute_result",
          "data": {
            "application/vnd.google.colaboratory.intrinsic+json": {
              "type": "string"
            },
            "text/plain": [
              "'amanaplanacanalpanama'"
            ]
          },
          "metadata": {},
          "execution_count": 29
        }
      ]
    },
    {
      "cell_type": "code",
      "source": [
        "True if new.lower() == new[::-1].lower() else False"
      ],
      "metadata": {
        "colab": {
          "base_uri": "https://localhost:8080/"
        },
        "id": "D5RhncbtSZES",
        "outputId": "81e45c21-fd99-4b93-9083-9c7e8043f59c"
      },
      "execution_count": null,
      "outputs": [
        {
          "output_type": "execute_result",
          "data": {
            "text/plain": [
              "True"
            ]
          },
          "metadata": {},
          "execution_count": 30
        }
      ]
    },
    {
      "cell_type": "code",
      "source": [
        "s = \"race a car\"\n",
        "new = ''.join(ch for ch in s if ch.isalnum())\n",
        "print('true' if new.lower() == new[::-1].lower() else 'false')"
      ],
      "metadata": {
        "colab": {
          "base_uri": "https://localhost:8080/"
        },
        "id": "o9KrxYUWTvfV",
        "outputId": "aa7f3911-075d-4f22-a7f0-063b6b58a17c"
      },
      "execution_count": null,
      "outputs": [
        {
          "output_type": "stream",
          "name": "stdout",
          "text": [
            "false\n"
          ]
        }
      ]
    },
    {
      "cell_type": "code",
      "source": [
        "result = ''\n",
        "if new.lower() == new[::-1].lower() :\n",
        "    result = 'true'\n",
        "else:\n",
        "    result = 'false'"
      ],
      "metadata": {
        "id": "hdRGAMsCUoTR"
      },
      "execution_count": null,
      "outputs": []
    },
    {
      "cell_type": "code",
      "source": [
        "result"
      ],
      "metadata": {
        "colab": {
          "base_uri": "https://localhost:8080/",
          "height": 35
        },
        "id": "48qUxzS7VsLk",
        "outputId": "1d1e68cf-03d9-4d4a-c1d5-88bf3a4f75ed"
      },
      "execution_count": null,
      "outputs": [
        {
          "output_type": "execute_result",
          "data": {
            "application/vnd.google.colaboratory.intrinsic+json": {
              "type": "string"
            },
            "text/plain": [
              "'false'"
            ]
          },
          "metadata": {},
          "execution_count": 41
        }
      ]
    },
    {
      "cell_type": "code",
      "source": [
        "class Solution:\n",
        "    def isPalindrome(self, s: str) -> bool:\n",
        "        new = ''.join(ch for ch in s if ch.isalnum())\n",
        "        return new.lower() == new[::-1].lower()"
      ],
      "metadata": {
        "id": "YjGBO-3aVvpT"
      },
      "execution_count": null,
      "outputs": []
    },
    {
      "cell_type": "code",
      "source": [
        ""
      ],
      "metadata": {
        "id": "ufhygh1RWpmz"
      },
      "execution_count": null,
      "outputs": []
    },
    {
      "cell_type": "markdown",
      "source": [
        "# 2_문자열 뒤집기\n",
        "https://leetcode.com/problems/reverse-string/submissions/\n",
        "\n",
        "- s.reverse() : 문자열 뒤집기"
      ],
      "metadata": {
        "id": "ZHN0udHDU-x9"
      }
    },
    {
      "cell_type": "code",
      "source": [
        "s = [\"h\",\"e\",\"l\",\"l\",\"o\"]"
      ],
      "metadata": {
        "id": "2HA51xAVU_oz"
      },
      "execution_count": null,
      "outputs": []
    },
    {
      "cell_type": "code",
      "source": [
        "s.reverse()"
      ],
      "metadata": {
        "id": "361Oqe8lVge3"
      },
      "execution_count": null,
      "outputs": []
    },
    {
      "cell_type": "code",
      "source": [
        "s"
      ],
      "metadata": {
        "colab": {
          "base_uri": "https://localhost:8080/"
        },
        "id": "lGTLC9QdViKm",
        "outputId": "020b9049-8d7a-42fb-99b3-94f24c5d8a12"
      },
      "execution_count": null,
      "outputs": [
        {
          "output_type": "execute_result",
          "data": {
            "text/plain": [
              "['o', 'l', 'l', 'e', 'h']"
            ]
          },
          "metadata": {},
          "execution_count": 4
        }
      ]
    },
    {
      "cell_type": "code",
      "source": [
        "s[::-1]"
      ],
      "metadata": {
        "colab": {
          "base_uri": "https://localhost:8080/"
        },
        "id": "D329FG_GVAL_",
        "outputId": "ebe5adcc-ed4f-4a24-8468-77a83b08d6b7"
      },
      "execution_count": null,
      "outputs": [
        {
          "output_type": "execute_result",
          "data": {
            "text/plain": [
              "['o', 'l', 'l', 'e', 'h']"
            ]
          },
          "metadata": {},
          "execution_count": 6
        }
      ]
    },
    {
      "cell_type": "code",
      "source": [
        "class Solution(object):\n",
        "    def reverseString(self, s):\n",
        "        \"\"\"\n",
        "        :type s: List[str]\n",
        "        :rtype: None Do not return anything, modify s in-place instead.\n",
        "        \"\"\"\n",
        "        return s.reverse()\n",
        "        "
      ],
      "metadata": {
        "id": "RH_5j0jYVjoY"
      },
      "execution_count": null,
      "outputs": []
    },
    {
      "cell_type": "markdown",
      "source": [
        "# 3_로그 파일 재정렬(937. Reorder Data in Log Files)\n",
        "https://leetcode.com/problems/reorder-data-in-log-files/\n"
      ],
      "metadata": {
        "id": "-yXkOO0nWPGi"
      }
    },
    {
      "cell_type": "code",
      "source": [
        "logs = [\"dig1 8 1 5 1\",\"let1 art can\",\"dig2 3 6\",\"let2 own kit dig\",\"let3 art zero\"]"
      ],
      "metadata": {
        "id": "orqN_AYmWk5R"
      },
      "execution_count": null,
      "outputs": []
    },
    {
      "cell_type": "code",
      "source": [
        "char , digit = [], []\n",
        "for log in logs:\n",
        "    if log.split()[1].isdigit():\n",
        "        digit.append(log)\n",
        "    else:\n",
        "        char.append(log)\n",
        "char.sort(key = lambda x : (x.split()[1:], x.split()[0]))"
      ],
      "metadata": {
        "id": "UldJsJ-tYjVN"
      },
      "execution_count": null,
      "outputs": []
    },
    {
      "cell_type": "code",
      "source": [
        "char"
      ],
      "metadata": {
        "colab": {
          "base_uri": "https://localhost:8080/"
        },
        "id": "X8qyZDoBY1Qz",
        "outputId": "9549d208-1072-41d7-bcfc-8e46cf4951ac"
      },
      "execution_count": null,
      "outputs": [
        {
          "output_type": "execute_result",
          "data": {
            "text/plain": [
              "['let1 art can', 'let3 art zero', 'let2 own kit dig']"
            ]
          },
          "metadata": {},
          "execution_count": 14
        }
      ]
    },
    {
      "cell_type": "code",
      "source": [
        "for log in logs:\n",
        "    print(log.split())"
      ],
      "metadata": {
        "colab": {
          "base_uri": "https://localhost:8080/"
        },
        "id": "4J0mdGA-ZR4D",
        "outputId": "20073ea4-4aa1-4ca8-9acf-e9dee0df522c"
      },
      "execution_count": null,
      "outputs": [
        {
          "output_type": "stream",
          "name": "stdout",
          "text": [
            "['dig1', '8', '1', '5', '1']\n",
            "['let1', 'art', 'can']\n",
            "['dig2', '3', '6']\n",
            "['let2', 'own', 'kit', 'dig']\n",
            "['let3', 'art', 'zero']\n"
          ]
        }
      ]
    },
    {
      "cell_type": "code",
      "source": [
        "char + digit"
      ],
      "metadata": {
        "colab": {
          "base_uri": "https://localhost:8080/"
        },
        "id": "fK2Y8tIcZkyx",
        "outputId": "550a76e1-1d2c-4388-be22-6687d04d0ab7"
      },
      "execution_count": null,
      "outputs": [
        {
          "output_type": "execute_result",
          "data": {
            "text/plain": [
              "['let1 art can',\n",
              " 'let3 art zero',\n",
              " 'let2 own kit dig',\n",
              " 'dig1 8 1 5 1',\n",
              " 'dig2 3 6']"
            ]
          },
          "metadata": {},
          "execution_count": 21
        }
      ]
    },
    {
      "cell_type": "code",
      "source": [
        "class Solution(object):\n",
        "    def reorderLogFiles(self, logs):\n",
        "        \"\"\"\n",
        "        :type logs: List[str]\n",
        "        :rtype: List[str]\n",
        "        \"\"\"\n",
        "        char , digit = [], []\n",
        "        for log in logs:\n",
        "            if log.split()[1].isdigit():\n",
        "                digit.append(log)\n",
        "            else:\n",
        "                char.append(log)\n",
        "        char.sort(key = lambda x : (x.split()[1:], x.split()[0]))\n",
        "        return char + digit"
      ],
      "metadata": {
        "id": "V7P9DYtQZ6B9"
      },
      "execution_count": null,
      "outputs": []
    },
    {
      "cell_type": "markdown",
      "source": [
        "# 4_가장 흔한 단어\n",
        "https://leetcode.com/problems/most-common-word/"
      ],
      "metadata": {
        "id": "6693cgqwphsB"
      }
    },
    {
      "cell_type": "code",
      "source": [
        "paragraph = \"Bob hit a ball, the hit BALL flew far after it was hit.\"\n",
        "banned = [\"hit\"]"
      ],
      "metadata": {
        "id": "KmNLr9hMpoO8"
      },
      "execution_count": null,
      "outputs": []
    },
    {
      "cell_type": "code",
      "source": [
        "paragraph.lower().split()"
      ],
      "metadata": {
        "colab": {
          "base_uri": "https://localhost:8080/"
        },
        "id": "9Wb32glKrxnP",
        "outputId": "d199a0e1-790c-49b6-c174-297e1b5f8945"
      },
      "execution_count": null,
      "outputs": [
        {
          "output_type": "execute_result",
          "data": {
            "text/plain": [
              "['bob',\n",
              " 'hit',\n",
              " 'a',\n",
              " 'ball,',\n",
              " 'the',\n",
              " 'hit',\n",
              " 'ball',\n",
              " 'flew',\n",
              " 'far',\n",
              " 'after',\n",
              " 'it',\n",
              " 'was',\n",
              " 'hit.']"
            ]
          },
          "metadata": {},
          "execution_count": 27
        }
      ]
    },
    {
      "cell_type": "code",
      "source": [
        "[i for i in paragraph.lower().split() if i.isalnum()]"
      ],
      "metadata": {
        "colab": {
          "base_uri": "https://localhost:8080/"
        },
        "id": "ncGRQlHWr3Jk",
        "outputId": "b3f50b0d-ba8c-43ba-efc6-67a93fae7eaf"
      },
      "execution_count": null,
      "outputs": [
        {
          "output_type": "execute_result",
          "data": {
            "text/plain": [
              "['bob', 'hit', 'a', 'the', 'hit', 'ball', 'flew', 'far', 'after', 'it', 'was']"
            ]
          },
          "metadata": {},
          "execution_count": 29
        }
      ]
    },
    {
      "cell_type": "code",
      "source": [
        "s = [i for i in paragraph.lower().split() if i.isalnum()]\n",
        "s"
      ],
      "metadata": {
        "colab": {
          "base_uri": "https://localhost:8080/"
        },
        "id": "SIwLUl4OqJR-",
        "outputId": "91161d28-6950-4d40-9782-544b0197bfdd"
      },
      "execution_count": null,
      "outputs": [
        {
          "output_type": "execute_result",
          "data": {
            "text/plain": [
              "['bob', 'hit', 'a', 'the', 'hit', 'ball', 'flew', 'far', 'after', 'it', 'was']"
            ]
          },
          "metadata": {},
          "execution_count": 13
        }
      ]
    },
    {
      "cell_type": "code",
      "source": [
        "result = []\n",
        "for i in s :\n",
        "    if i not in banned:\n",
        "        result.append(i)"
      ],
      "metadata": {
        "id": "MLp5bBXMqnMu"
      },
      "execution_count": null,
      "outputs": []
    },
    {
      "cell_type": "code",
      "source": [
        "from collections import Counter\n",
        "result"
      ],
      "metadata": {
        "colab": {
          "base_uri": "https://localhost:8080/"
        },
        "id": "h2uHknjgqttV",
        "outputId": "3619bfa2-11b8-4d15-8025-43fdcfa8d515"
      },
      "execution_count": null,
      "outputs": [
        {
          "output_type": "execute_result",
          "data": {
            "text/plain": [
              "['bob', 'a', 'the', 'ball', 'flew', 'far', 'after', 'it', 'was']"
            ]
          },
          "metadata": {},
          "execution_count": 23
        }
      ]
    },
    {
      "cell_type": "code",
      "source": [
        "Counter(result)"
      ],
      "metadata": {
        "colab": {
          "base_uri": "https://localhost:8080/"
        },
        "id": "NrImv1jirYS8",
        "outputId": "b4544382-388f-47f9-9a99-bb7cee22acec"
      },
      "execution_count": null,
      "outputs": [
        {
          "output_type": "execute_result",
          "data": {
            "text/plain": [
              "Counter({'a': 1,\n",
              "         'after': 1,\n",
              "         'ball': 1,\n",
              "         'bob': 1,\n",
              "         'far': 1,\n",
              "         'flew': 1,\n",
              "         'it': 1,\n",
              "         'the': 1,\n",
              "         'was': 1})"
            ]
          },
          "metadata": {},
          "execution_count": 24
        }
      ]
    },
    {
      "cell_type": "code",
      "source": [
        "import re\n",
        "cnt = Counter([word for word in re.sub('[^a-z0-9]', ' ', paragraph.lower()).split() if word not in banned])\n",
        "cnt.most_common(1)[0][0]"
      ],
      "metadata": {
        "colab": {
          "base_uri": "https://localhost:8080/",
          "height": 35
        },
        "id": "E0TQ_73BrsEb",
        "outputId": "cb391f41-beeb-4b6e-ff27-d6c7714a3caf"
      },
      "execution_count": null,
      "outputs": [
        {
          "output_type": "execute_result",
          "data": {
            "application/vnd.google.colaboratory.intrinsic+json": {
              "type": "string"
            },
            "text/plain": [
              "'ball'"
            ]
          },
          "metadata": {},
          "execution_count": 49
        }
      ]
    },
    {
      "cell_type": "code",
      "source": [
        "cnt.most_common(1)[0][0]"
      ],
      "metadata": {
        "colab": {
          "base_uri": "https://localhost:8080/",
          "height": 35
        },
        "id": "vYFcSJias8UT",
        "outputId": "e409e9f2-32b1-40b6-c35b-d27aea372435"
      },
      "execution_count": null,
      "outputs": [
        {
          "output_type": "execute_result",
          "data": {
            "application/vnd.google.colaboratory.intrinsic+json": {
              "type": "string"
            },
            "text/plain": [
              "'ball'"
            ]
          },
          "metadata": {},
          "execution_count": 48
        }
      ]
    },
    {
      "cell_type": "code",
      "source": [
        "class Solution(object):\n",
        "    def mostCommonWord(self, paragraph, banned):\n",
        "        \"\"\"\n",
        "        :type paragraph: str\n",
        "        :type banned: List[str]\n",
        "        :rtype: str\n",
        "        \"\"\"\n",
        "        import re\n",
        "        cnt = Counter([word for word in re.sub('[^a-z0-9]', ' ', paragraph.lower()).split() if word not in banned])\n",
        "        return cnt.most_common(1)[0][0]"
      ],
      "metadata": {
        "id": "0vWnCUq7tcSQ"
      },
      "execution_count": null,
      "outputs": []
    },
    {
      "cell_type": "markdown",
      "source": [
        "# 그룹 애너그램"
      ],
      "metadata": {
        "id": "kpdA7AMZz4t5"
      }
    },
    {
      "cell_type": "code",
      "source": [
        " strs = [\"eat\",\"tea\",\"tan\",\"ate\",\"nat\",\"bat\"]"
      ],
      "metadata": {
        "id": "cVkNwo4Oz4iK"
      },
      "execution_count": null,
      "outputs": []
    },
    {
      "cell_type": "code",
      "source": [
        "from collections import defaultdict\n",
        "anagrams = defaultdict(list)\n",
        "anagrams"
      ],
      "metadata": {
        "colab": {
          "base_uri": "https://localhost:8080/"
        },
        "id": "20NnNEyO0BUM",
        "outputId": "0a2f3d32-0406-42ee-d4b8-edc2e86c0444"
      },
      "execution_count": null,
      "outputs": [
        {
          "output_type": "execute_result",
          "data": {
            "text/plain": [
              "defaultdict(list, {})"
            ]
          },
          "metadata": {},
          "execution_count": 23
        }
      ]
    },
    {
      "cell_type": "code",
      "source": [
        "for word in strs:\n",
        "    print(word, (''.join(sorted(word))))"
      ],
      "metadata": {
        "colab": {
          "base_uri": "https://localhost:8080/"
        },
        "id": "OukE0Q5Q3FXK",
        "outputId": "0b019d64-b35a-475b-eafa-14ac8fa83d86"
      },
      "execution_count": null,
      "outputs": [
        {
          "output_type": "stream",
          "name": "stdout",
          "text": [
            "eat aet\n",
            "tea aet\n",
            "tan ant\n",
            "ate aet\n",
            "nat ant\n",
            "bat abt\n"
          ]
        }
      ]
    },
    {
      "cell_type": "code",
      "source": [
        "for word in strs:\n",
        "    print(sorted(word))"
      ],
      "metadata": {
        "colab": {
          "base_uri": "https://localhost:8080/"
        },
        "id": "__rwJ4mJ0Jp9",
        "outputId": "4f4453ac-5800-4d37-ec27-34626c12b475"
      },
      "execution_count": null,
      "outputs": [
        {
          "output_type": "stream",
          "name": "stdout",
          "text": [
            "['a', 'e', 't']\n",
            "['a', 'e', 't']\n",
            "['a', 'n', 't']\n",
            "['a', 'e', 't']\n",
            "['a', 'n', 't']\n",
            "['a', 'b', 't']\n"
          ]
        }
      ]
    },
    {
      "cell_type": "code",
      "source": [
        "for word in strs:\n",
        "    print(''.join(sorted(word)))"
      ],
      "metadata": {
        "colab": {
          "base_uri": "https://localhost:8080/"
        },
        "id": "s_DJ-t2V0uIM",
        "outputId": "7fd776e9-5f6c-4be0-ec43-fc1dd6d3f4ce"
      },
      "execution_count": null,
      "outputs": [
        {
          "output_type": "stream",
          "name": "stdout",
          "text": [
            "aet\n",
            "aet\n",
            "ant\n",
            "aet\n",
            "ant\n",
            "abt\n"
          ]
        }
      ]
    },
    {
      "cell_type": "code",
      "source": [
        "for word in strs:\n",
        "    anagrams[''.join(sorted(word))]\n",
        "anagrams"
      ],
      "metadata": {
        "colab": {
          "base_uri": "https://localhost:8080/"
        },
        "id": "hHtCoJyK2xaW",
        "outputId": "49b55a37-821f-427d-b90a-3b508777c194"
      },
      "execution_count": null,
      "outputs": [
        {
          "output_type": "execute_result",
          "data": {
            "text/plain": [
              "defaultdict(list, {'abt': [], 'aet': [], 'ant': []})"
            ]
          },
          "metadata": {},
          "execution_count": 26
        }
      ]
    },
    {
      "cell_type": "code",
      "source": [
        "for word in strs:\n",
        "    anagrams[''.join(sorted(word))].append(word)"
      ],
      "metadata": {
        "id": "6LKqAYnB0hvM"
      },
      "execution_count": null,
      "outputs": []
    },
    {
      "cell_type": "code",
      "source": [
        "list(anagrams.values())"
      ],
      "metadata": {
        "colab": {
          "base_uri": "https://localhost:8080/"
        },
        "id": "sYioAyam0rL_",
        "outputId": "9110da4e-1a0d-4e29-d485-d76c9128fb67"
      },
      "execution_count": null,
      "outputs": [
        {
          "output_type": "execute_result",
          "data": {
            "text/plain": [
              "[['eat', 'tea', 'ate'], ['tan', 'nat'], ['bat']]"
            ]
          },
          "metadata": {},
          "execution_count": 22
        }
      ]
    },
    {
      "cell_type": "code",
      "source": [
        "anagrams"
      ],
      "metadata": {
        "colab": {
          "base_uri": "https://localhost:8080/"
        },
        "id": "AqUC7k0Q1JqS",
        "outputId": "0bd344df-87b7-453f-f7bd-22a4eae7ba35"
      },
      "execution_count": null,
      "outputs": [
        {
          "output_type": "execute_result",
          "data": {
            "text/plain": [
              "defaultdict(list,\n",
              "            {'abt': ['bat', 'bat'],\n",
              "             'aet': ['eat', 'tea', 'ate'],\n",
              "             'ant': ['tan', 'nat']})"
            ]
          },
          "metadata": {},
          "execution_count": 17
        }
      ]
    },
    {
      "cell_type": "code",
      "source": [
        "class Solution(object):\n",
        "    def groupAnagrams(self, strs):\n",
        "        \"\"\"\n",
        "        :type strs: List[str]\n",
        "        :rtype: List[List[str]]\n",
        "        \"\"\"\n",
        "        from collections import defaultdict\n",
        "        anagrams = defaultdict(list)\n",
        "        for word in strs:\n",
        "            anagrams[''.join(sorted(word))].append(word)\n",
        "        return list(anagrams.values())"
      ],
      "metadata": {
        "id": "x7kueRBL1R_E"
      },
      "execution_count": null,
      "outputs": []
    },
    {
      "cell_type": "markdown",
      "source": [
        "# 6 가장 긴 팰린드롬 부분 문자열\n",
        "https://leetcode.com/problems/longest-palindromic-substring/submissions/"
      ],
      "metadata": {
        "id": "UgGM1uEK0ZaM"
      }
    },
    {
      "cell_type": "code",
      "source": [
        "s = \"babad\"\n",
        "\n",
        "def expand(left, right):\n",
        "    while left >= 0 and right < len(s) and s[left] ==s[right]:\n",
        "        left -= 1\n",
        "        right += 1\n",
        "    return s[left+ 1: right]    \n",
        "\n",
        "# if len(s) < 2 or s == s[::-1]:\n",
        "#     return s\n",
        "\n",
        "result = ''\n",
        "for i in range(len(s) -1 ):\n",
        "    result = max(result, \n",
        "                 expand(i, i+1),\n",
        "                 expand(i,i+2),\n",
        "                 key=len)\n",
        "    print(result)\n",
        "#    return result\n"
      ],
      "metadata": {
        "colab": {
          "base_uri": "https://localhost:8080/"
        },
        "id": "qIPrUNDR0cN7",
        "outputId": "ced4f06c-db1b-49ae-e733-56ab0834fc54"
      },
      "execution_count": null,
      "outputs": [
        {
          "output_type": "stream",
          "name": "stdout",
          "text": [
            "bab\n",
            "bab\n",
            "bab\n",
            "bab\n"
          ]
        }
      ]
    },
    {
      "cell_type": "code",
      "source": [
        "class Solution(object):\n",
        "    def longestPalindrome(self, s):\n",
        "        \"\"\"\n",
        "        :type s: str\n",
        "        :rtype: str\n",
        "        \"\"\"\n",
        "        def expand(left, right):\n",
        "            while left >= 0 and right < len(s) and s[left] ==s[right]:\n",
        "                left -= 1\n",
        "                right += 1\n",
        "            return s[left+ 1: right]    \n",
        "\n",
        "        if len(s) < 2 or s == s[::-1]:\n",
        "            return s\n",
        "\n",
        "        result = ''\n",
        "        for i in range(len(s) -1 ):\n",
        "            result = max(result, \n",
        "                     expand(i, i+1),\n",
        "                     expand(i,i+2),\n",
        "                     key=len)\n",
        "        return result"
      ],
      "metadata": {
        "colab": {
          "base_uri": "https://localhost:8080/",
          "height": 35
        },
        "id": "ydMGEjNh2MEp",
        "outputId": "4e115e67-4ee5-4b8e-f66f-269a5382ab8f"
      },
      "execution_count": null,
      "outputs": [
        {
          "output_type": "execute_result",
          "data": {
            "application/vnd.google.colaboratory.intrinsic+json": {
              "type": "string"
            },
            "text/plain": [
              "'bab'"
            ]
          },
          "metadata": {},
          "execution_count": 7
        }
      ]
    },
    {
      "cell_type": "markdown",
      "source": [
        "#7 두 수의 합\n",
        "\n",
        "\n"
      ],
      "metadata": {
        "id": "vTcFDTYqNgLC"
      }
    },
    {
      "cell_type": "code",
      "source": [
        "nums = [2,7,11,15]\n",
        "target = 9"
      ],
      "metadata": {
        "id": "FjDTYg3Z2OWA"
      },
      "execution_count": null,
      "outputs": []
    },
    {
      "cell_type": "code",
      "source": [
        "result = [] \n",
        "for i in range(len(nums)):\n",
        "    if nums[i] + nums[i-1] == target:\n",
        "        result.append(i-1)\n",
        "        result.append(i)\n"
      ],
      "metadata": {
        "id": "hDnOqclnNugh"
      },
      "execution_count": null,
      "outputs": []
    },
    {
      "cell_type": "markdown",
      "source": [
        "![image.png](data:image/png;base64,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)"
      ],
      "metadata": {
        "id": "oCQOYsg9OlTX"
      }
    },
    {
      "cell_type": "code",
      "source": [
        "nums = [3,3]\n",
        "target = 6"
      ],
      "metadata": {
        "id": "0ISxSqacN2iQ"
      },
      "execution_count": null,
      "outputs": []
    },
    {
      "cell_type": "code",
      "source": [
        "result = [] \n",
        "for i in range(len(nums)):\n",
        "    if len(nums) == 2:\n",
        "        result = [0,1]\n",
        "    elif nums[i] + nums[i-1] == target:\n",
        "        result.append(i-1)\n",
        "        result.append(i)\n",
        "result"
      ],
      "metadata": {
        "colab": {
          "base_uri": "https://localhost:8080/"
        },
        "id": "1m54PkfSN5bJ",
        "outputId": "20df149b-e34d-4dc8-c18e-0963a8748a53"
      },
      "execution_count": null,
      "outputs": [
        {
          "output_type": "execute_result",
          "data": {
            "text/plain": [
              "[0.1]"
            ]
          },
          "metadata": {},
          "execution_count": 22
        }
      ]
    },
    {
      "cell_type": "code",
      "source": [
        "nums = [-3,4,3,90]\n",
        "target = 0"
      ],
      "metadata": {
        "id": "96PELpnUOy9Q"
      },
      "execution_count": null,
      "outputs": []
    },
    {
      "cell_type": "code",
      "source": [
        "        result = [] \n",
        "        for i in range(len(nums)):\n",
        "            # if len(nums) == 2:\n",
        "            #     result = [0,1]\n",
        "            # elif nums[i] + nums[i-1] == target:\n",
        "                # if i-1 <0:\n",
        "                #     result.append(len(nums)-1)\n",
        "                #     result.append(i)\n",
        "                if nums[i] + nums[i-1] == target:\n",
        "                    result.append(i-1)\n",
        "                    result.append(i)\n"
      ],
      "metadata": {
        "id": "AmqwruzWQQUC"
      },
      "execution_count": null,
      "outputs": []
    },
    {
      "cell_type": "code",
      "source": [
        "for i in range(len(nums)):\n",
        "    for j in range(i+1, len(nums)):\n",
        "        print(j)"
      ],
      "metadata": {
        "colab": {
          "base_uri": "https://localhost:8080/"
        },
        "id": "FqCH2VByREzr",
        "outputId": "ff0060c8-ab31-4710-a4c8-ccefb2a2b8c6"
      },
      "execution_count": null,
      "outputs": [
        {
          "output_type": "stream",
          "name": "stdout",
          "text": [
            "1\n",
            "2\n",
            "3\n",
            "2\n",
            "3\n",
            "3\n"
          ]
        }
      ]
    },
    {
      "cell_type": "code",
      "source": [
        "result = [] \n",
        "for i in range(len(nums)):\n",
        "    for j in range(i+1, len(nums)):\n",
        "        if nums[i] + nums[j] == target:\n",
        "                    result.append(i)\n",
        "                    result.append(j)"
      ],
      "metadata": {
        "id": "9tFSYgKDRIfy"
      },
      "execution_count": null,
      "outputs": []
    },
    {
      "cell_type": "code",
      "source": [
        "class Solution(object):\n",
        "    def twoSum(self, nums, target):\n",
        "        \"\"\"\n",
        "        :type nums: List[int]\n",
        "        :type target: int\n",
        "        :rtype: List[int]\n",
        "        \"\"\"\n",
        "        result = [] \n",
        "        for i in range(len(nums)):\n",
        "            for j in range(i+1, len(nums)):\n",
        "                if nums[i] + nums[j] == target:\n",
        "                            result.append(i)\n",
        "                            result.append(j)\n",
        "        return result"
      ],
      "metadata": {
        "colab": {
          "base_uri": "https://localhost:8080/"
        },
        "id": "dO1qjmyGRZfY",
        "outputId": "a837b501-ee53-479d-8d85-39a07b2d4f10"
      },
      "execution_count": null,
      "outputs": [
        {
          "output_type": "execute_result",
          "data": {
            "text/plain": [
              "[0, 2]"
            ]
          },
          "metadata": {},
          "execution_count": 67
        }
      ]
    },
    {
      "cell_type": "code",
      "source": [
        "nums = [2,7,11,15]\n",
        "target = 9\n",
        "for i, n in enumerate(nums):\n",
        "    complement = target - n\n",
        "    #print(complement)\n",
        "    if complement in nums[i+1: ]:\n",
        "        print([nums.index(n), nums[i+1:].index(complement)+(i+1)])"
      ],
      "metadata": {
        "colab": {
          "base_uri": "https://localhost:8080/"
        },
        "id": "rZ8-ozUlRn-8",
        "outputId": "6914fe8e-8289-4c20-f543-8347528f54ec"
      },
      "execution_count": null,
      "outputs": [
        {
          "output_type": "stream",
          "name": "stdout",
          "text": [
            "[0, 1]\n"
          ]
        }
      ]
    },
    {
      "cell_type": "code",
      "source": [
        "nums_map = {}\n",
        "for i, num in enumerate(nums):\n",
        "    nums_map[num] = i\n",
        "\n",
        "for i, num in enumerate(nums):\n",
        "    if target - num in nums_map and i != nums_map[target-num]:\n",
        "        print( [i, nums_map[target-num]])"
      ],
      "metadata": {
        "colab": {
          "base_uri": "https://localhost:8080/"
        },
        "id": "mrkSsS4KTEjL",
        "outputId": "5e2024e5-69aa-49ae-9e7f-a903744a194a"
      },
      "execution_count": null,
      "outputs": [
        {
          "output_type": "stream",
          "name": "stdout",
          "text": [
            "[0, 1]\n",
            "[1, 0]\n"
          ]
        }
      ]
    },
    {
      "cell_type": "code",
      "source": [
        "nums_map"
      ],
      "metadata": {
        "colab": {
          "base_uri": "https://localhost:8080/"
        },
        "id": "0tmpAtzVT2wv",
        "outputId": "64605718-27b5-4d01-9fad-0e80a06e00aa"
      },
      "execution_count": null,
      "outputs": [
        {
          "output_type": "execute_result",
          "data": {
            "text/plain": [
              "{2: 0, 7: 1, 11: 2, 15: 3}"
            ]
          },
          "metadata": {},
          "execution_count": 87
        }
      ]
    },
    {
      "cell_type": "code",
      "source": [
        "nums_map = {}\n",
        "for i, num in enumerate(nums):\n",
        "    print('@',nums_map)\n",
        "    if target - num in nums_map:\n",
        "        print('#',[nums_map[target-num], i])\n",
        "    nums_map[num] = i\n",
        "    print(nums_map)"
      ],
      "metadata": {
        "colab": {
          "base_uri": "https://localhost:8080/"
        },
        "id": "Im30e1diT7aV",
        "outputId": "3e76d437-bb39-4f06-83cd-b0f99cc678ed"
      },
      "execution_count": null,
      "outputs": [
        {
          "output_type": "stream",
          "name": "stdout",
          "text": [
            "@ {}\n",
            "{2: 0}\n",
            "@ {2: 0}\n",
            "# [0, 1]\n",
            "{2: 0, 7: 1}\n",
            "@ {2: 0, 7: 1}\n",
            "{2: 0, 7: 1, 11: 2}\n",
            "@ {2: 0, 7: 1, 11: 2}\n",
            "{2: 0, 7: 1, 11: 2, 15: 3}\n"
          ]
        }
      ]
    },
    {
      "cell_type": "code",
      "source": [
        "for i, num in enumerate(nums):\n",
        "    print(i,num)"
      ],
      "metadata": {
        "colab": {
          "base_uri": "https://localhost:8080/"
        },
        "id": "IYH0yopbU6Q7",
        "outputId": "426e4799-21e1-40c9-f243-fa002c3d78c8"
      },
      "execution_count": null,
      "outputs": [
        {
          "output_type": "stream",
          "name": "stdout",
          "text": [
            "0 2\n",
            "1 7\n",
            "2 11\n",
            "3 15\n"
          ]
        }
      ]
    },
    {
      "cell_type": "markdown",
      "source": [
        "# 8 빗물 트래핑\n",
        "https://leetcode.com/problems/trapping-rain-water/"
      ],
      "metadata": {
        "id": "UwWd9jVISxLH"
      }
    },
    {
      "cell_type": "code",
      "source": [
        "height = [0,1,0,2,1,0,1,3,2,1,2,1]\n"
      ],
      "metadata": {
        "id": "If8HSPQMVIpC"
      },
      "execution_count": null,
      "outputs": []
    },
    {
      "cell_type": "code",
      "source": [
        "left = 0\n",
        "right = len(height) -1 "
      ],
      "metadata": {
        "id": "rqyqAXcBUApS"
      },
      "execution_count": null,
      "outputs": []
    },
    {
      "cell_type": "code",
      "source": [
        "left_max = height[left]\n",
        "right_max = height[right]"
      ],
      "metadata": {
        "id": "AVLXB0DHUHCC"
      },
      "execution_count": null,
      "outputs": []
    },
    {
      "cell_type": "code",
      "source": [
        "left_max"
      ],
      "metadata": {
        "colab": {
          "base_uri": "https://localhost:8080/"
        },
        "id": "SnIJUb2jWDYn",
        "outputId": "f3b8eeaa-5a81-4614-b816-1c2e2c04663f"
      },
      "execution_count": null,
      "outputs": [
        {
          "output_type": "execute_result",
          "data": {
            "text/plain": [
              "0"
            ]
          },
          "metadata": {},
          "execution_count": 9
        }
      ]
    },
    {
      "cell_type": "code",
      "source": [
        "height[left]"
      ],
      "metadata": {
        "colab": {
          "base_uri": "https://localhost:8080/"
        },
        "id": "f06Zalu3WDmf",
        "outputId": "a258191b-b5a3-419e-86c0-df0cc571de35"
      },
      "execution_count": null,
      "outputs": [
        {
          "output_type": "execute_result",
          "data": {
            "text/plain": [
              "0"
            ]
          },
          "metadata": {},
          "execution_count": 10
        }
      ]
    },
    {
      "cell_type": "code",
      "source": [
        "volume = 0"
      ],
      "metadata": {
        "id": "AYUZBfeDUHYm"
      },
      "execution_count": null,
      "outputs": []
    },
    {
      "cell_type": "code",
      "source": [
        "while left < right:\n",
        "    left_max = max(left_max, height[left])\n",
        "    right_max = max(right_max, height[right])\n",
        "\n",
        "    if left_max <= right_max:\n",
        "        volume += left_max - height[left]\n",
        "        left += 1\n",
        "    else:\n",
        "        volume += right_max - height[right]\n",
        "        right -= 1\n",
        "    print(volume)"
      ],
      "metadata": {
        "colab": {
          "base_uri": "https://localhost:8080/"
        },
        "id": "o6zbpt8dUXFL",
        "outputId": "9cab9e12-4400-4e2b-b4f4-889d41f46f23"
      },
      "execution_count": null,
      "outputs": [
        {
          "output_type": "stream",
          "name": "stdout",
          "text": [
            "1\n",
            "1\n",
            "2\n",
            "4\n",
            "5\n",
            "5\n",
            "6\n",
            "6\n"
          ]
        }
      ]
    },
    {
      "cell_type": "code",
      "source": [
        "left_max"
      ],
      "metadata": {
        "colab": {
          "base_uri": "https://localhost:8080/"
        },
        "id": "c6hUVTgkajak",
        "outputId": "e012a12c-fb23-4c3b-bca2-1bea40769e05"
      },
      "execution_count": null,
      "outputs": [
        {
          "output_type": "execute_result",
          "data": {
            "text/plain": [
              "0"
            ]
          },
          "metadata": {},
          "execution_count": 39
        }
      ]
    },
    {
      "cell_type": "code",
      "source": [
        "height[left]"
      ],
      "metadata": {
        "colab": {
          "base_uri": "https://localhost:8080/"
        },
        "id": "j_ALFlU6ajwr",
        "outputId": "1523e467-47dd-48d2-e211-e64ac3b5644d"
      },
      "execution_count": null,
      "outputs": [
        {
          "output_type": "execute_result",
          "data": {
            "text/plain": [
              "0"
            ]
          },
          "metadata": {},
          "execution_count": 40
        }
      ]
    },
    {
      "cell_type": "code",
      "source": [
        ""
      ],
      "metadata": {
        "id": "l3uWw8MEalLA"
      },
      "execution_count": null,
      "outputs": []
    },
    {
      "cell_type": "code",
      "source": [
        "left = 0\n",
        "right = len(height) -1 \n",
        "left_max = height[left]\n",
        "right_max = height[right]\n",
        "volume = 0"
      ],
      "metadata": {
        "id": "n9ZqCWCaW2bw"
      },
      "execution_count": null,
      "outputs": []
    },
    {
      "cell_type": "code",
      "source": [
        "while left < right:\n",
        "    left_max = max(left_max, height[left])\n",
        "    right_max = max(right_max, height[right])\n",
        "\n",
        "    if left_max <= right_max:\n",
        "        volume += left_max - height[left]\n",
        "        left += 1\n",
        "        print(left,left_max, height[left],volume)\n",
        "    else:\n",
        "        volume += right_max - height[right]\n",
        "        right -= 1"
      ],
      "metadata": {
        "colab": {
          "base_uri": "https://localhost:8080/"
        },
        "id": "86VhuFIvWR_d",
        "outputId": "bb86c411-4e56-4516-ec1b-5b06b31b3c04"
      },
      "execution_count": null,
      "outputs": [
        {
          "output_type": "stream",
          "name": "stdout",
          "text": [
            "1 0 1 0\n",
            "2 1 0 0\n",
            "3 1 2 1\n",
            "4 2 1 1\n",
            "5 2 0 2\n",
            "6 2 1 4\n",
            "7 2 3 5\n"
          ]
        }
      ]
    },
    {
      "cell_type": "code",
      "source": [
        "while left < right:\n",
        "    left_max = max(left_max, height[left])\n",
        "    right_max = max(right_max, height[right])\n",
        "\n",
        "    if left_max <= right_max:\n",
        "        volume += left_max - height[left]\n",
        "        left += 1\n",
        "    else:\n",
        "        volume += right_max - height[right]\n",
        "        right -= 1\n",
        "    print('l', 'l_m', 'he]', '/', 'r,r_m', 'hei','volume')    \n",
        "    print(left, left_max, height[left], '/', right,right_max, height[right],volume)"
      ],
      "metadata": {
        "id": "AvM5ASAoW0kl",
        "colab": {
          "base_uri": "https://localhost:8080/"
        },
        "outputId": "8b93e7d2-fc5c-45e5-beb6-3a8f9f2e8b5b"
      },
      "execution_count": null,
      "outputs": [
        {
          "output_type": "stream",
          "name": "stdout",
          "text": [
            "l l_m he] / r,r_m hei volume\n",
            "1 0 1 / 11 1 1 0\n",
            "l l_m he] / r,r_m hei volume\n",
            "2 1 0 / 11 1 1 0\n",
            "l l_m he] / r,r_m hei volume\n",
            "3 1 2 / 11 1 1 1\n",
            "l l_m he] / r,r_m hei volume\n",
            "3 2 2 / 10 1 2 1\n",
            "l l_m he] / r,r_m hei volume\n",
            "4 2 1 / 10 2 2 1\n",
            "l l_m he] / r,r_m hei volume\n",
            "5 2 0 / 10 2 2 2\n",
            "l l_m he] / r,r_m hei volume\n",
            "6 2 1 / 10 2 2 4\n",
            "l l_m he] / r,r_m hei volume\n",
            "7 2 3 / 10 2 2 5\n",
            "l l_m he] / r,r_m hei volume\n",
            "7 3 3 / 9 2 1 5\n",
            "l l_m he] / r,r_m hei volume\n",
            "7 3 3 / 8 2 2 6\n",
            "l l_m he] / r,r_m hei volume\n",
            "7 3 3 / 7 2 3 6\n"
          ]
        }
      ]
    },
    {
      "cell_type": "code",
      "source": [
        "class Solution(object):\n",
        "    def trap(self, height):\n",
        "        \"\"\"\n",
        "        :type height: List[int]\n",
        "        :rtype: int\n",
        "        \"\"\"\n",
        "        left = 0\n",
        "        right = len(height) -1 \n",
        "        left_max = height[left]\n",
        "        right_max = height[right]\n",
        "        volume = 0\n",
        "        while left < right:\n",
        "            left_max = max(left_max, height[left])\n",
        "            right_max = max(right_max, height[right])\n",
        "\n",
        "            if left_max <= right_max:\n",
        "                volume += left_max - height[left]\n",
        "                left += 1\n",
        "            else:\n",
        "                volume += right_max - height[right]\n",
        "                right -= 1\n",
        "        return volume"
      ],
      "metadata": {
        "id": "iMDdrFzCdmE_"
      },
      "execution_count": null,
      "outputs": []
    },
    {
      "cell_type": "markdown",
      "source": [
        "# 9 세수의 합"
      ],
      "metadata": {
        "id": "s8b-XgFyg-WJ"
      }
    },
    {
      "cell_type": "code",
      "source": [
        "nums = [-1,0,1,2,-1,4]"
      ],
      "metadata": {
        "id": "3SAMbCKEg_c5"
      },
      "execution_count": null,
      "outputs": []
    },
    {
      "cell_type": "code",
      "source": [
        "result = []\n",
        "nums.sort()\n",
        "for i in range(len(nums) - 2):\n",
        "    for j in range(i+1, len(nums)-1 ):\n",
        "        for k in range(j+1, len(nums)):\n",
        "            if nums[i] + nums[j] + nums[k] == 0:\n",
        "                result.append([nums[i], nums[j], nums[k]])\n",
        "            print(result)"
      ],
      "metadata": {
        "colab": {
          "base_uri": "https://localhost:8080/"
        },
        "id": "XkIvgNoLhBmJ",
        "outputId": "59a7b798-d309-4227-8704-b48237837509"
      },
      "execution_count": null,
      "outputs": [
        {
          "output_type": "stream",
          "name": "stdout",
          "text": [
            "[]\n",
            "[]\n",
            "[[-1, -1, 2]]\n",
            "[[-1, -1, 2]]\n",
            "[[-1, -1, 2], [-1, 0, 1]]\n",
            "[[-1, -1, 2], [-1, 0, 1]]\n",
            "[[-1, -1, 2], [-1, 0, 1]]\n",
            "[[-1, -1, 2], [-1, 0, 1]]\n",
            "[[-1, -1, 2], [-1, 0, 1]]\n",
            "[[-1, -1, 2], [-1, 0, 1]]\n",
            "[[-1, -1, 2], [-1, 0, 1], [-1, 0, 1]]\n",
            "[[-1, -1, 2], [-1, 0, 1], [-1, 0, 1]]\n",
            "[[-1, -1, 2], [-1, 0, 1], [-1, 0, 1]]\n",
            "[[-1, -1, 2], [-1, 0, 1], [-1, 0, 1]]\n",
            "[[-1, -1, 2], [-1, 0, 1], [-1, 0, 1]]\n",
            "[[-1, -1, 2], [-1, 0, 1], [-1, 0, 1]]\n",
            "[[-1, -1, 2], [-1, 0, 1], [-1, 0, 1]]\n",
            "[[-1, -1, 2], [-1, 0, 1], [-1, 0, 1]]\n",
            "[[-1, -1, 2], [-1, 0, 1], [-1, 0, 1]]\n",
            "[[-1, -1, 2], [-1, 0, 1], [-1, 0, 1]]\n"
          ]
        }
      ]
    },
    {
      "cell_type": "code",
      "source": [
        "result = []\n",
        "nums.sort()\n",
        "for i in range(len(nums) - 2):\n",
        "    for j in range(i+1, len(nums)-1 ):\n",
        "        for k in range(j+1, len(nums)):\n",
        "            if nums[i] + nums[j] + nums[k] == 0:\n",
        "                result.append([nums[i], nums[j], nums[k]])\n",
        "                print(i)"
      ],
      "metadata": {
        "colab": {
          "base_uri": "https://localhost:8080/"
        },
        "id": "jWw9dnAPha6l",
        "outputId": "9dcf671f-063c-4a5e-be3c-62db9126db75"
      },
      "execution_count": null,
      "outputs": [
        {
          "output_type": "stream",
          "name": "stdout",
          "text": [
            "0\n",
            "0\n",
            "1\n"
          ]
        }
      ]
    },
    {
      "cell_type": "code",
      "source": [
        "# 중복일경우,,\n",
        "class Solution(object):\n",
        "    def threeSum(self, nums):\n",
        "        \"\"\"\n",
        "        :type nums: List[int]\n",
        "        :rtype: List[List[int]]\n",
        "        \"\"\"\n",
        "        result = []\n",
        "        nums.sort()\n",
        "        for i in range(len(nums) - 2):\n",
        "            if i > 0 and nums[i] == nums[i-1]:\n",
        "                continue\n",
        "            for j in range(i+1, len(nums)-1 ):\n",
        "                if i+1 > 0 and nums[j] == nums[j-1]:\n",
        "                    continue\n",
        "                for k in range(j+1, len(nums)):\n",
        "                    if nums[i] + nums[j] + nums[k] == 0:\n",
        "                        result.append([nums[i], nums[j], nums[k]])\n",
        "        return result"
      ],
      "metadata": {
        "id": "EovNekcWizK7"
      },
      "execution_count": null,
      "outputs": []
    },
    {
      "cell_type": "markdown",
      "source": [
        "![image.png](data:image/png;base64,iVBORw0KGgoAAAANSUhEUgAAAf8AAAE6CAYAAAAY1Fu5AAAAAXNSR0IArs4c6QAAAARnQU1BAACxjwv8YQUAAAAJcEhZcwAADsMAAA7DAcdvqGQAAC5oSURBVHhe7d0LdFX1ge/xH52CFqlUCyahJVJNZ0CmEEFRqHUBUpspkGFZxk6nNiJX6ESy5tIlUiYuUdMFpWiXrFnBTNHLI9X2apFLA9ioCCy0KFRiwCJYA/LokMRQKFVBUOH+/3v/93nlnJNDzAPY30/X6dnvs88m5/z+r33sctoQAAAIjc+4ZwAAEBKEPwAAIUP4AwAQMoQ/AAAhQ/gDABAyhD8AACFD+AMAEDKEPwAAIUP4AwAQMoQ/AAAhQ/gDABAyhD8AACFD+AMAEDKEPwAAIUP4AwAQMoQ/AAAhQ/gDABAyScO/acEdeuvLd2hvjVsQ2PuU/mSWv3V1uZrcIt9R1Zfafeao/m9u0Tngr0/N9N7nW99aokNuGQAA57uk4d9zyCDv+eTWnd5z4G+123XaTjTt1PEd3iLfiW06Xmmexw3SRRf7i85++/TealOE6W0md2zUe5s+8hdDOvSi7p39sO5IeJTH/zm0qYMbHtMd//WiDnpz72rVf7Xv6wFAmCUN/275g9TVPJ/eWqdoRf6oPthivppv7KkuOqYTb/tf05663frYPHW5cYDOlew/tWOdjq+Xuv70u957Pblxq076q+DJVUnZDC0JHv9xtep/bQoBT73h1rds61MP694N77q59PqMnGJe4yb1cfMAgPaTvM//4gHqNs48r96uD4L0d7X7z3znJnUzteVTW3aaIoDv6K6dOq3uunBwnr+gptxrTn+7slr7S6bGdSF83PSq9pfO1FtX+10LbxU+oHeq63TcX21s1V67/N9X6XDdKr3zA3//t37wiOoPuE2cY9uf0O5Ct75wjg7UbYzs21Lvw19e2GjOOU+fG3GTuhebBeXVOnTYX+c7qD//uznWl8vVePhV7XXv462b7tX+HcE7Nz6o08EFD+hPN9ht7Xk8oD/vNdcnuAbPRAtJJzc+4i3706/q3BLp8K+mm2XR7hJ7ffbePc0/1tVT9fYccx0+8NdFr80TOrjkXv8aLtjq1rWzXjdpTtm3NHTHq1pFHwkAnNNSDPjro+6mhm+q9Ppwl7/k1I7t+kg9deHQAl040Syo3K6/nbBrjurYVtt8PkCfG2jno06VrtKpoof01T8vUb8hZv7AKu27+Rc6vrGrut1/h77wy1vUrc9Bnbxzjg6uPKhTbj/POyaMH9ypz06+TReVmNLGevN6pU/pr271qR1L9Odvv6iPD/dWt/I71HNyT334wyXyTqklJ17V+8vMc9H16nlxV136DdvNsU/Htxz1VsfbqaP/e5U0brIu/snl6vLWQR2/7RdqdO+9fs4cvbfsmLrOMO/n6Tt00Yhj5pzMhR3ot56c2hoUkj7S4Ze2e1On/7jPLWvSh5vNa7rukuD6nPjgGl389A/1hZ8OlZavUJO5jnGFmdUv6v2j49X39SX6h+lmmw7zNQ0feFSv/jGmNr/z6ZiugcdcwcA12+8wRah1lc2WR7d/2hRnHHucSLN/ojdUHtkn89aE/Q3v6tiHGf1FAECopAh/6dLBg9XFPH+0ze94PWL7/wcOVvd+XXXxMFvDr9NJrwK7Ux/a/v6Jg0zRIEHxd9VnWE/3Ih+p6ckVpmbbW92fmKOvTLhRWaPG6yv/XeIVGj5+cIX+4m3nvJuni/97pvqOulFfnjVdF9mWiPV1Ou6l4Ed6d6WtuffRRb/2j5U9oURX/p+C1G8oxgfrq3XSlFe6jrpG3c180M3x8ZPVkcJF1EX63E/mqF/B9cq54wFdMsMsaqrTCe+979OJ35mnAYN08TjzfkbYc52vXFPQ0QXD/RaFyp16z26q7fpwuXnNO8y1CwpOJ8y1e8b8I4wy+wfX57Ib9cX/vkM5I65XVsEP9cV7zFV95kUd3esdxDHbF1/vnXtHy8nqqYONjf6MDexfK9o98L2eWvErG+CXafx/zFCJ+XftM7rIrJui8b3M9ofe0L5Bdt5uX6Rbeu3XigyCfOtTz6neO47bL8utaMGvnl2vny1+igIAACRInZUDr9eF5sv79GZT8zVBf2y9qat+c4AuMau6/+Mgs+MxfbjNJOCOnSa2TKgNG6xu3o5RnxmYF7Nsp44/ZZ5MiF7cz1/iG6TP/ZN5aqrXiXp/iee6PHW/yE2bkL+gv30+pk+8JnBT8NhongqG6vN97bzvM/3yvBBP76iOvrDPPF+uC4e64srF1+hzReZ5/St6Ly5krVxdGHO+F/SzvdLHdMrLExPCs3pLG1/UoZHTtHvBKjU1feQualBI2qkTdnDkju06aba/6H/Za+cKTm/Za9dTF153ubedd312bNRfbNO+ezTNtK0RR/VJbJfEOHNtLnDTnWjr9v0m3Ecq0vYwYKRu0R5tTdUt0OsmlYy8zM1cpqGDYgoSLYhuZ/YbEBwjvf/4twmmgHiaAgAAJEhTUR7gh3L1Th0zAf+hCduugwf4O+QM0IU3moLBxp1qervOq4F3+8dm9f52ZMLXBupnu3qtE1EfmXNpwd5qfWBD1o72HxSE7HT9zbZemJA9/rvt8d0PLbj0u/P1lT+U6KKJX9DHy1bo8NXTtbfGb9QPCkkndh3U4W3bdHriUF1iCigXDPQLTof/GLSm2K1NEcreP1lQoF5vLlDfhEe2fwNGp6tvPKo+Wbbq/a4J5KBZP2iSr9SKQ0e1L/4+0Dh2EGCk+X5dsm6W5oZ+d4ZK9Jy/X8qugea6X3iBZk3+VwoAAJAgbSu5f8tfnY4/aQMxNuBNzXNUd2n1q/prtb0DYJC657hVKV2uC7zCxFa9Fzdwr04fbjFPA/N0YYvHCOTos96AxK16P6ZGfHzLa14rRDqHN73ihXuX7w7VBfdeH/PI8y7G6UWm5u1tmYmP9PHHUrecofry9Dn66vO36LM27Je/Yv7fcIWkU1uf0/sbj7rWEb9QdfqPW/XBH034/dMgrzXFXtMLbOtD9XYdP9pT3S+Of1z4WW+jznXoRa3YkatbvNr7ZaYQYIL5e67JP+ZRMsDfPJEN/hVZQfP9DM0ZnXmB0RYAvH0G7dG9Z1AAsLqY/9kCAADAlzb8g77wj35X1yzgLxlqv+EP6tRq8+U6apAu9Ren0VNZ379JXXof1Affu1fvrNyoxvWr9M6/z9exjV3VddYtst3CmemjS75jm9RN7X3SA9pf/arql8zRgUX7E1oCEm3X+8tsbfNy9bi3RP2KfxjzmKmLS8yqJlOgyPie/+3687/N8V6/cZN5PPWSf8vjVy93/fF5umicCbjfbdTx1dHCk1eoqqzWsUrpghuHun+Envriv15vzj/m+phj1j/1iHY/5g8U7FTegLzXlfO9WyPN/EMH5Wrrr2MG7aXltxTkZAVN9u9q6/ZMav7vatVT0bDvk5V5gcHW9G2N3wa/bQGwLQEAgBbCP3LLX1PzgA9Gs1vdvIJAyz4z8Db1/c131e26v+pkyRL99QcrdPLE5frcijnqNyrzL3Xrom/+SL3LB+kzh/fp+J2/0N+29lHP+bek7fM/uelF/8eJSgrUq1lppat6j7/RKzycfOZFRe6uS6uXuuUd1fH//IX+eqs5h/9njvKTHyrHDupzvIGTthk8pvAUFKrsmAE7riLQbdAP9eVnC9T1q03+9bHHfOaouW6ZF4vazv64EfZ3vPBFzUms1Q+41dTej8ZvF1MrH3rT1VJktP9lGv9NW1gItv2t9mUU5JeZot7r0R8dsgMMM/w9gP/61UqCHwCS6HLacNPnvqZV2n31Cn08o6SDb4HD2cje6tfrCz0JfgBIkL7mf445/ILf7P7Z/tGaN8IrN/sygh8Akjh3a/7bl+jt//uBLrzxGnW7oEnHf/eiTvzqqDTkel36mx+qN9/5AAAkde6G/95q7Zm3Sh+t9m+r0z/01GfHF+gLkwv0xXPmPy4EAEDHO7/6/AEAQIvOqz5/AADQMsIfAICQIfwBAAgZwh8AgJAh/AEACBnCHwCAkCH8AQAIGcIfAICQIfwBAAgZwh8AgJDh53072bFjx3Ty5EnxzwAA6CiEfyeywX/q1Cl169ZNXbp0cUsBAGhfNPt3IlvjJ/gBAB2N8O9EttGF4AcAdDTCHwCAkCH8AQAIGcIfAICQIfwBAAgZwh8AgJAh/AEACBnCHwCAkCH8AQAIGX7etxMdOXJEPXr0cHOZqFXFpEVa7U3na+7SqRrsTUvbKu9S6Tp/etw9j6p4oD+d1o5FGvtQrT89eqrWFOX70+kcqtbdM6q0y05fWajF9xUoy1uRToNW/6RMFbvtdLaKH56tcb28FWpcW6bJTzR40/1vm62fj8n2pgEA7Sdlzb92yRRNf67ezeHsYUP/Ua2JCX4boKUy4e2W66EyrT7kVqZiQ/whuWM9qrlapLvX+iGcmil8zNiiUQ/7+ywevkWTK13hIY1tlWVaP3y2f34PD9P6GYu0za3LGuMvX3wboQ8AHeWsafansNFaDfrDK1Lxt12t/VCD6syy9bXpg7yxdot0W6ErQDTowD5p1yu1avTmU9ixRatHF0Zq7Q0HzWus2xIJ8uRqtWldvoqCGn3jfu2yy3b4swCAjkef/znPBPfubPW1gWyb8Wfs16gMatE2uPNy7Ha2K6FMB4YXqr+/KqXG+gb172P3sc34d6myjykI+KtSs4WRK3Nl97ItFGNX5Kp4tL8KANA5Mgz/GpV/f7aq3lij6d+fopu9R4WJjYBb32Sfg/V23q2OrHez1hsVuvn+NSZG6lV1/xTNXCu9WTk7YT9kzAa/CdbFS6fqWreoZTb4q9T34UdVnEF3v8/vvz9wy6Nn1D/fYPv2DxZqzX0F6uuWAQA6xxnU/OtVvlya9eRjev7JMpXk1Wjmkhq3zjLrp2/WDd5685iVY+ZjCwip5Kjwwcc0f4x0VVGZd+zC3m4VMmBq/VfWqtQGvxt85zXHtyDb1OBXP2SD3w2+85rj08vKydauJxZ5we8NKPS6GFrQK1t5u6tUaoPfG1DodzEAADrPGYR/jkpKxnrNt15gTxwi7a03X+UBs35BsSIVyK9N8AoIL7/h5tFOsnXt8Gz1H57vj7o/VK3KddkalR9TK7eD+ybdFTegLyt/mPpfOUzXev33pja/ojZ6DI9tFbhLY2MH9A0cpnHmX3iEu5Ng27NV2jV6WGTgYdJ97PajpXFD3V/GjipV7I4eAwDQ8dqxzz9Huf3cJNpV1pipGvVKmcba4J1Rpbx7orfSeWzt2zztim0R6FWgmXa0vt1nUpkqLp+a0IxvWxTM076GmEGA+Sq+Ryr19rlLpfsKtTju9sBk+0iDi+wdCP4+Yx9qUPHD0TsVAAAdrx3Dv17797pJtLNsjbvPv/3OPprf4++Hsj9YLyq4zc57NLvH3+xzuXm6PDv+Pv6BwS2F5tHsHv8U+9hCQ7DP0oSCCQCgw7Vh+NerfHV0DEDDcxUq1wRN/Jqdy1FuXr3W1QS38tWofF7seAFkrtbVvKP3yqdlBwKamr29zz7jAXqum8D77YBMfvjHas0+hncHgNkv+KEfAED7S/kLf/a++6V9yrTgWzlmzo7WX6ncBTGD8exo/eW5qnzQjgNw64tyVF4ZhPoQzX8yZgxA0xpNn75Sb3ozZt0saWZk/9j1duxAOAb9nfkv/AEA8Om10c/7JikcoEWEPwCgM7Rjnz8AADgbEf4AAIQM/1W/TkSzPwCgM1DzBwAgZAh/AABChvAHACBkCH8AAEKG8O9EXbp0EeMtAQAdjfDvRN26ddPJkycpAAAAOhS3+nWyY8eOUQAAAHQowh8AgJCh2R8AgJAh/AEACBnCHwCAkCH8AQAIGcIfAICQIfwBAAgZwh8AgJAh/AEACBnCHwCAkOEX/joZP+8LAOhohH8nssF/6tQp7z/wY/8LfwAAdASa/TuRrfET/ACAjkb4dyLb6ELwAwA6GuEPAEDIEP4AAIQM4Q8AQMgQ/gAAhAzhDwBAyBD+AACEDOEPAEDIEP4AAIQMP+/biY4cOaIePXq4uUzUqmLSIq32pvM1d+lUDfampca1ZZr8RIM33f+22fr5mGxvWmrQ6p+UqWK3nc5W8cOzNa6XtyKtbZV3qXSdPz3unkdVPNCfTif1PqnPO52U7+lQte6eUaVddvrKQi2+r0BZ3op0WnMd0uyzY5HGPlTrT4+eqjVF+f50C1Jeo9Ycr42vQ+q/odb9+wE4e7UQ/jUq/36FqtycdVVRmRZ8K8fN4dNoXfhv0YgkX772i3u+psZ8Yfts2FT2cV/kXljsV1ELX95eCBwsdAFkX7NKfVsIy8z2scuTn38yyd9T/LHjXze11lyHjPaxob112BmF/6ahCYWphGPHvW5K7Xcdkl93y75m5v9+AM5eqZv9m9Zougn+OhP2zz/5mHuUafSm2br5/jWm/pApW4CYraomN9sm2uOY56NabVqXr6LgS7xxv6klmmU7/NnkGvSHV6Tib7sQOdSgOrNsfW26f/HW7NNKO7Zo9ejCSKGi4aB5jXVbtM2fTaE116E1+7ROY+0W6bZCF6gNOrBP2vVKrRq9+RQ67DoAOB+lCP96VZWvlJrV8nNU+GCZSrRSy99wi3D2siF8Za7sV72tzY1dkavi0f6q1Ez47M5WXxsqtlZraoajbnNhkVJr9mmdxvoG9e9jj22br20t1gSgvyq11lyHVl271rHBnZdjX8nWrMt0YHih+vurUuqw6wDgvJQ8/JtqtK5uiCYlbd7P0bAROap6rcaba3hutm5e4k/7TMHh/ikqt4UD13pQZZaVT58SaTEI9vGev2+W20fMMVpzTKTWYL7ovSbh+wrU1y1rkQ1xEw6Ll07VtW5Ri1qzT6v4/dYHbnm0habxeK25Dq26dq1ig9824z+q4sx6EIyOuw4Azi/Jw79hv97M82sIyWT3MYWCvfUth27vsVrwZLEKTYGhZMFjev7BsdFjrq3QPBVHuhNK9lZo+nP1bmUa6Y6JeL2ylbe7SqWRvmC/STk9U4O/slalNsTdADKvSTmt1uzTOlmmhrzriUVe4Hn95l4XQwtacx1ade1aJ9vU4Fc/FDNGwmuOT6/DrgOA81Ln3eo3pjimSyFHhROH6M1NNS0XKHAG8jVitDRuqKtK7qhSxW6zLGawmR0ANnbSopi+4mxdOzxb/Yfn+yPHD1Wrcl22RuVHi1hek/GkMq0+5BZksE86zc8hjYHDNM6+L/cetj1bpV2jh8UMQLM1aHO8Sjdy3tOa69DyPqklO4fUsvKHqf+Vw3St139vavMraqPX0rID88zx7l4b8+lop+sAIBySh392rq6q258yiBsOmhp6v5y2rXHb13STaDuDi6ZKD9lgM4+HGlT8cPxIbVvr9GqAkSA3YTRmqka9YgPe7DOjSnn3xI/at7VOb5+YEWkt7ZNOsnNILV/F90il9nXMo3RfoRbHjXC3rRDmaV9D3IC51lyHlvZJLfk5pNSrQDOHb9Fk7z2VqeLyhJH2tsZunnbFtaa0z3UAEA7Jw7/3EI3Oq9HLSQf11WvLpnoVXjPEzbcR29XgJtGWTEgsfVRrvEfzQPaD3ARF3PJsjbsv2CfhtjQrK1f97T6RqqnVwj5pJD+HNAZOjbyO7beOOw17nMvN0+XZCctbcx3S75NaqnNILWvMbPc65hEX4pY5nglyf4BfjHa4DgDCIUWzf44KSyaobp4bZBdhB97NVnm/YpV8zV/i9f+v3aygcbHhuQqVt9j5aKxdGXOrXo3K59WocKLff9/qY4ZCravtNW8m3/WEX/OOax5OyR8lPvYhndGPtnjN4zO2aFQL9/3Hc03QkR+KCbR8Dmf0nlzzeKky/9Gd1l4Hb3CjfU/BD/MEMjiH1a7mXZHJLXbe65Rp/fCW7vuP0arrEHTn3BX5oZ+oVP9+AM5VbfIjP7VLpmjmWn/6qqJijd5Uof0TH4sUEOzo/aLKeilvgiofHCvZ+YPXqWTvykioJx73TI+Z4dfiWeXMf+QHAIBPr1N+3tcL7oMT9Pwdbdx1cI4h/AEAnaHzRvsDAIBOQfgDABAy/Ff9OhHN/gCAzkDNHwCAkCH8AQAIGcIfAICQIfwBAAgZwr8TdenSRYy3BAB0NMK/E3Xr1k0nT56kAAAA6FDc6tfJjh07RgEAANChCH8AAEKGZn8AAEKG8AcAIGQIfwAAQobwBwAgZAh/AABChvAHACBkCH8AAEKG8AcAIGQIfwAAQoZf+Otk/LwvAKCjEf6dyAb/qVOnvP/Aj/0v/AEA0BFo9u9EtsZP8AMAOhrh34lsowvBDwDoaIQ/AAAhQ/gDABAyhD8AACFD+AMAEDKEPwAAIUP4AwAQMoQ/AAAhQ/gDABAy/LxvJzpy5Ih69Ojh5jJRq4pJi7Tam87X3KVTNdiblhrXlmnyEw3edP/bZuvnY7K9aalBq39SporddjpbxQ/P1rhe3oq0tlXepdJ1/vS4ex5V8UB/Op3U+7TmvAEA7SVl+NcumaKZa92MUzjrMZV8zc2cYxqem62igxP0/B1D3JLO17rw36IRMeEZsCE6X1ObhacN5Mo+LlQPVevuGftVlGT/WF4gHyzUmqJ8M2dfs0p9Wyg0ZLaPXX5m5w8AaHtpm/2vKirT808+Fnl0XvDXqPz7s1XV5GaRoVptWpevoiBQG/drl122w59NrkF/eEUq/rYNceNQg+rMsvW1fu08udbsAwDoLPT5n89sCF+ZKxv9tmY9dkWuikf7q1Jr0IHd2epra+w7FmnsjP0adVtLtfHW7AMA6CxnHP62+fzm+9eYr3vnjQrdHNTK7bRd5y2b4j9it/XYWrxbZx7Tn6t3y322uyGy7/crVNu0RtPNc5XqVT7dLIs5nncusdu65Z7YczDrtrjFYdQQNMnfV6C+blmLbIibwsLipVN1rVvUotbsAwDocGnD/83K5uGa/a0yze+3UvO80K5X1fIaFc4qU2FvbxepbqWKXrsu0lVgty1aUuNW2uCvkGYFXQnFyqs0we6a871xBiqO7FtZlCv1HqsFZrtC5ahkgVn+4FivJuv14W+6TpWRbes1M3gdG/zzpPlu3fMLcrWuMr6QEQq9spW3u0qlkb54U0Pf569KzdTgr6xVqQ1xU1jIMksaDrbUfN+afQAAneUM+vyL5Xp0lT9uglS5UlXPVai8X3H8WIC8CaqMGVRnt71q7Wa/Vv7GZlWZ9RMj2w/RxCJpXY0JZlPDX7p2iObH7Jv9rbGR14xXry2b6lU40S8IWNnfmqBC9zq1r9WYc58Q3dcUIGYV5biZMMnXiNHSuKHuSuyoUsVusyxm5L4dEDh20iJtc/M2yK8dnq3+w/O9ELeDBCvXZWtUfrQZ3+tCmFSm1Yfcggz2AQCcPVrX5++Fab3KK3Piwjqp3jnKc5MNB03I25aBSGvCFBWZGvmbdnnDfr2Z5/dPt6xe++ukqnnR49iWCds1sL/JPPaaMkifMIZ9c4OLpkoP2YA3j4caVPxw/Ej77D5eO4oORIJcyhozVaNesQFv9plRpbx74kftZ+W4fRr9eaulfQAAZ49WDvir0XIT/IVjarQ0oc++GRPGJqc92TaQx0Sb9SMPW4DIztVVdfsTxgekkqPcPNcNEHcs2/1g1vUzZQxboIjhFTxCKV/FSx/VGu/RPJD9IHeD9SKyNe6+YJ8k9/hn5aq/3cer5gda2AcAcNZoRfjXq+p+229frJI74vvsPaZmv/wNN223LV8pBU3wX7tOhWsrVB5ZH6P3EI3Oq4n22xsNz62JH8QXkaNhI6Ty8sTBhD5byHizcmV0X69LwU2f82pVamvXcU31vl1P+DXvu9dmUoSyP/5jWwMU96M7LfG6CWZs0agMfyzIZ+/v98/Z/6GfKL8L4a7ID/0AANrfGf3Ijx0DMOngbM3cO0GVbuCdP7iu3tTCTa27wUwvz1VJv5UqD/a1Nf3YrgE7en/6Sr3pZm2Qe/t6AwZtwWK2yoOmAjt+IHaAnx20F7Os2TnGvFZke8vsM3/EZs0853/kBwCAT69tf97XFgRM+EcKBkiL8AcAdIZW9vkDAIBzFeEPAEDI8F/160Q0+wMAOgM1fwAAQobwBwAgZAh/AABChvAHACBkCP9O1KVLFzHeEgDQ0Qj/TtStWzedPHmSAgAAoENxq18nO3bsGAUAAECHIvwBAAgZmv0BAAgZwh8AgJAh/AEACBnCHwCAkCH8AQAIGcIfAICQIfwBAAgZwh8AgJAh/AEACBnCHwCAkCH8AQAIGcIfAICQIfwBAAgZwh8AgJAh/AEACBnCHwCAkCH8AQAIGcIfAICQIfwBAAiZLqcNNx1x5MgRNwUAAM43ScMfAACcv2j2BwAgZAh/AABChvAHACBkCH8AAEKG8AcAIGQIfwAAQobwBwAgZAh/AABChvAHACBkCH8AAEKG8AcAIGQIfwAAQobwBwAgZAh/AABChvAHACBkCH8AAEKG8AcAIGQIfwAAQobwBwAgZLqcNtx0xJEjR9wUAAA436QM/0suucTNATjf8BkHzk+ZfrZp9gcAIGQIfwAAQobwBwAgZAh/AABChvAHACBkCH8AAEKG8AcAIGQIfwAAQobwBwAgZAh/AABChvAHACBkCH8AAEKG8AcAIGQIfwAAQobwBwAgZAh/AABChvAHACBkCH8AAEKmTcO/Zt4VuuKKZI+5qgnWz7NTHaFJT0+OPYfJerrBrWpB0/LJbXqe3vEmP23OqB01PK3J7joD7c37m475jE9e3q5/3QDaWJuG/5BZe7Rnj31s1ryR0p1PB/OlGhKsn2Wn2luN5l5xneruCl7fPDYVSH92qztY74mLtWfxrert5pMVLmzBiC9QnAvs3+p1dSXRz5b5vBfogL/yDAuhbV3QBpCZ87PZv6FOdbpTBde4eSv7Vt0aOw+gFZpU9ydTsB8TW4jvrVsndkShHkBb6dDwjy/l29r5ZD39mq0pxDYd2uVBc2JiDSJ2XZqacnae8vS4ql9z8wma1zb8LoK5CdvHNW3Gbv/aXK8Zvyay3nUp2OVptvfena01zdwgLZrobTf3Nf+1Jy6SNsy8LnosK/Z4zbot4q/F3JfdYqBd9Vbe30uPr43/ZHrs3+uIWdpgPnsT7d9l8BmI+zuOfm6bfxbMwiQtB4mfV6/7MDhee3enAeepTq75b9CsR6Wfec3y8yQv/KpV4JoS5418XOWRgLdhN1GKdCUsV97MH6foxx+iUnO8ulvtF0Qr+8HNF9KP9bNIs+a8P02ML2xsmKVyt37zfGnWCPNaawv87c1rj1xUnvTcbNfH5vkjpanLvW1LrzG1psV7tHyqNHL+ZrNssW7NNhvaL8xbpeXe65vH03maVRp80SVei83Ke9Z+6QLtb8gs//MQCezANaX+377u9P9uXRdfzdrYv+M7TSH3Me8z2fyz4G2envlcTPzTPG12x9t8V55bAeBMdHL4j9S8ua4vPHuUCsz3wMj5U7zxAbaGMerbI7WhzvUlvlatx0fO05TIF8QQTTGhW/1yinJ/9q1a7H3ZKL4WkinzhbR4YtBLbwL6LvOl9ez6aC3DnMvP3PreNxSYd2LeyyTX9Om9lw2q+xRjDGrWPh5zLYxrpmieqrXea2FIvBbm/ObaL12gI/gFVlsAVwYF7CGz/DE/nmsKTNGgTnVJC+0Z2lAXjDBQ72uG+N8fAM7IWdTn7zcn5vVL/lFu2lvn1bavC5r7zMM2GUYKB6nY2kiymvuZ+nJe6nD1uhnM/2yNvU34/ap+N0Dwfq/TrA1+gcK7Fn+fx5ceOtkQldra9/w6TUzX/O415Qd/xxP1uFvcKvbzHBToz+AOHgDxzpkBf7375UWaB+MeGd09kNCK0Bp/ruvAZnW/IBS9WyL6sE2j3rX4U138l22Hnh8Q5bV8xdTG49jgH1Gnksjf8HJT8/+UvAK9OdamAlWPoAAAtMY5E/5ec+Giic0G5SVlvnDmxtXym7T+2Q0amdfXm/PCc1F1pKmyafmPTa3azQTi+uxrNPfWx3XnXdHb9drbkDF36vFbUzSn2laIDbP0WORaNOnpRz9VfQrIkPlbmxdfy296uVobRubJ/3QlsIXS2HW2y8pNJpU4WNd8ln9sBwU6TcvnRj+X3rYAWuPcCX/bxBgZxBc8UpT6zZeCP3gw2O46VX97c7QP39Qclk91I5LN48cq8X6XIM7UAqk02H+i6uZvzmxAUgZ6TyzxCjL22EFhZsikYMCje0/mHL3mVHeO3iNoWrXjGeKuxY+lu+jzR0fobQI3ofvt2QJtDn7HwvxtlgSfLTvOxhurErP9WsXV/Jt/Fszn/Glb8HXbl0oldlCg07ufG1zrHc8OenUDZAGckS6nDTcdceTIEV1yySVuDsD5hs84cH7K9LN9DtX8AQBAWyD8AQAIGcIfAICQIfwBAAgZwh8AgJAh/AEACBnCHwCAkCH8AQAIGcIfAICQIfwBAAgZwh8AgJAh/AEACBnCHwCAkCH8AQAIGcIfAICQIfwBAAgZwh8AgJDpctpw0xFHjhxxUwAA4HyTMvx79Ojh5gCcb95//30+48B5KNPPNs3+AACEDOEPAEDIEP4AAIQM4Q8AQMgQ/gAAhAzhDwBAyBD+AACEDOEPAEDIEP4AAIQM4Q8AQMgQ/gAAhAzhDwBAyBD+AACEDOEPAEDIEP4AAIQM4Q8AQMgQ/gAAhAzhDwBAyLRD+Ddo1fQCFRT4jx/9tsEtj9fw2x+lXGfVlhdoYY2bcZLvU6uF7rXSvZ5/Xj/SqkYzWbMwsr19JL5O4jHj18evKyivdct99hwj6wrc66XSwnnYa5DpseJed/oq826Tcf82CecMZOz1n+u1wT/XATcbOPDIIL32yDY35zSu0OtJtu18h/T2tCTnC4RIm4d/bfkkLcybp+rqavOYp7wKM58kPCdV7HTzSTSu0rLV4/X1IW4+5T42zGaprnhpmtdzap7RQo3WtVlmn025Wuptbx7LpqmuNDZYE46ZsL7ht79X7jK3b/VSTaubFVPgqNUzB25368xjbp4W3r7QLE2mpfOo1e8VXMdqLS2WFv40RaibQsSkijzNc9vOyzPzyQLeXoNdbhpojavHqLv26MO4gug2vbfUPC1dGx/0B9/RJzd8RRe52bPG68t0NO92dU88XyBE2jj8TWCtHqBp/5Lv5vP1neIBJuSCILIhPkuaawJqnFuURMOr66Ti75i9rXT7NGj/rgEafX22m8/X1802dQeaR2TtplUaXzRe2eZ/40vss5M1XreP26l1r7p9Gv+gdbvMsn92WySsz/7naRqf5U0a5ljmmDvX/8GFcr6mlQTv3RjyHU3rv0q/T1YYaek8Eo6Vff1oDdi1P2n42/c2IHK9zJ7/Mk0DVv8+odBhChuVdRo/boCbB1rjS+p6w0t6/5VDbt54fa2O3fAN/V1CoeDAhmX6u2/eqEvd/NnCnlf3kXfr85OW6dDKmPcBhEjbhn/N77Wqv61du3nDC61IEJlAMzXTaZEafTIN+sN6xQV66n1s2O/Uwt9ECxe28BHdN2CXx7YkxGrQgTopr6+/jy147Bz39UiQWvkjYgM+XoO/czTE4/iFk9wvudm04s8jUe1vFsYUiGzrRNDFkeQ9Z12r0QmFjobf/kwLTW3nO33dAqBVeumL3/yGPnnnf9y8dHjfHhPyD6rXpNhCgW0N+IZ6DO/lzR1eOU2vPbLCb24fPE1ve4UE1/w+OHgEy33+Ptv8LgW3zesJYe1tE+zvtk3cJp49r9v1+aulviNv1ycvbNRht8Zq8TW9rozoujdfN8tsV8i0FdHjeNvEvpdtejNmPu6c47pF3HYrbdeKWUe3BNrR2TfgL9I87+ZbkF9SrXma5fq7lyl32SMxNXNfw2+XaVVCoEd4TeGpCgYtqdUzFTs1fkTSI/uvm1AYSinZecSMCfj9iGo9ErRGnKnGVfqZ7RaIbZUAWunS4Tfp7yJN5of0lxfkhbwXpkGhoHG3TugKXRj7t7/0RWn2dl2zbaG+mmWDf7SO5v3SzNtl5rH0Ch29OWGMwNIf6L2RwXpz/PvvjwvRPS/cpCuC/UeuVaPtfkjHtlJMGiOvDGy7MF5+UX+JKXB4Ur6mOeeyB3TBUrdu2y/1ebs44TiHX3lRnyimIGSvxQ036YvmWiSe8xUP7lFjXMi/pKPvjPGP/6PBbhnQ9s668I82z2fCrwHbYPT7xn8s/TRx0J/fkhDtiohhw7W0TtOWTUteMEjL746wYwOStUrYAXheP/yCDN5LqvMYMi3S5//1TbED+bI1fkGmhQFzjX66UHlzW/MegSSyblSPG5bpPVvrbdyo9192Id/nK5FCgReAQcgGJk01oe+mvf1uV1ZswF19u3oGxw1M+qWuMrV0j7f+JX100M7YQsdL6n7nLdFuhavvVtYkN52UCe/HbZN/8JqD9flJCV0YVsrX9J3YF2w/WH297fzjBNt88I7U80FTaHAFIXst5HV/ND/nSydMTRh78A31/DdCH+2vY8K/f26GYZ6ueT4Jr5Vgmr4T2d6E4n9Ok2Kb6G0ffpKWBG8kfaUdcNe8pSCp2KZ9r0ZuWxmSBbBfIJnkDfxrOXAzPY/8ElPIMO/2maTjB5LxuxuCAZjpu1qAM9FLF+a5ELSD+oKQjykUfPCOCblIyCaRdDBgzHFb9D/66OVvqGsfN5sJr8AhU/OPNtvbloJP7l8W39qQUi99deE69XhhdLNm+Yu+8g0d22Dnt+m9OlPLnzDGhXq0ZcQ/5/jXf23wD3Ss2QBKoP21bfh/KbfZoDSvDz1ln3i8tM3zreT1lY+6Nu71beAu67tU1Ulq5dl9zbdP3YG49+ANqAv64m3wpwxrG/yTtL/I1NYzaGJPdx6Zy1Zu/53aH+2C9Qs8u/LUN8sWpsz86qBbxN0x4c2nugsBaFnQX/62N3guCPkgvFd4/f1pg9m2Erz8jj5ws7EuuNwfJ9Cy+Bq5rdl/WOcmk/BbI2K6GbzHuuatDWnZAoC/b5Z+ECkARLpCXl+rE14t37YG2OPawA+6P+xgSVOzfz729e3DdoN4hwE6TNuGvzdifZVmRW4zS98nHi9N83wqQ76u8btia8N+E3c07P2WhMjIfcvdRhi3LJYdoW9q2D8Lug687YMBdeb4lWm6JZq1RKTR0nmYQkbsLYvegL3ImAC/dcHv3vDvOFhVGg1zW+DxBy36gyWDrgP7WFo8QBpnbyGkGwCfgtfP/YCOJoS8Xyh4MdLHnZJrJYjr737956Ym7g/Ga5kNV1OLfjxmoJ29hc/UrJNzTe7NWiP8AYx+rb0l2/RmQm0/wns/e3To8T2RQY72Wpx4fFF0jIH3WtLRsphzBjpJmzf7e83TdUFN079FL6Mm5xTN8+nZcJsnlfq12oICv4k70hRv7z5I2pJgCiiuJhx5xPWn+78X4C2/3ZxVwiDCVZHXCx4x9+ebwsikuHXmkfJHddKcx5dyVRfzOv59/CkCe8g0E+p1kWPNsr8PwOA+tCtbizVPiSHvFQpecn3c6fhN6D3rTO05aAI3YZ617e74cQJp9P2R2V8PaE+w/4Yxqfv8vYJB8oKFX2tfFHenQXLmPcecrzdwLzJmwQ/2TxRzPfp8RTLXIrbAcemEhcrKizln+4gb8Ad0jC6nDTcdceTIEfXo0cPNdYygCbzVI9qbiTbB098NxHv//fc7/DPe/vw7CD66c3t0wB4QMpl+ts+S0f5Jmuc/La8lIcMmeADnvMMr709ZuwcQ76yp+QPoOOdDzd+7Z/7+l9ycdfsZdRsA56NMP9uEPxBC52ezP4BzrNkfAAB0FMIfAICQIfwBAAgZwh8AgJAh/AEACBnCHwCAkCH8AQAIGcIfAICQIfwBAAgZwh8AgJAh/AEACBnCHwCAkCH8AQAIGcIfAICQSfmf9AUAAOenpOEPAADOXzT7AwAQMoQ/AAAhQ/gDABAyhD8AACFD+AMAEDKEPwAAIUP4AwAQMoQ/AAAhQ/gDABAq0v8Hjt+ff4yxX/AAAAAASUVORK5CYII=)"
      ],
      "metadata": {
        "id": "z14n-CMBgb3Y"
      }
    },
    {
      "cell_type": "code",
      "source": [
        "class Solution(object):\n",
        "    def threeSum(self, nums):\n",
        "        \"\"\"\n",
        "        :type nums: List[int]\n",
        "        :rtype: List[List[int]]\n",
        "        \"\"\"\n",
        "        result = []\n",
        "        nums.sort()\n",
        "        for i in range(len(nums) - 2):\n",
        "            if i > 0 and nums[i] == nums[i-1]:\n",
        "                continue\n",
        "            for j in range(i+1, len(nums)-1 ):\n",
        "                if j > i+1 and nums[j] == nums[j-1]:\n",
        "                    continue\n",
        "                for k in range(j+1, len(nums)):\n",
        "                    if k > j+1 and nums[k] == nums[k-1]:\n",
        "                        continue\n",
        "                    if nums[i] + nums[j] + nums[k] == 0:\n",
        "                        result.append([nums[i], nums[j], nums[k]])\n",
        "        return result"
      ],
      "metadata": {
        "id": "QzWgZpaoggsP"
      },
      "execution_count": null,
      "outputs": []
    },
    {
      "cell_type": "markdown",
      "source": [
        "![image.png](data:image/png;base64,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)"
      ],
      "metadata": {
        "id": "2XFLdKFThDB7"
      }
    },
    {
      "cell_type": "code",
      "source": [
        "class Solution(object):\n",
        "    def threeSum(self, nums):\n",
        "        \"\"\"\n",
        "        :type nums: List[int]\n",
        "        :rtype: List[List[int]]\n",
        "        \"\"\"\n",
        "        result = []\n",
        "        nums.sort()\n",
        "        for i in range(len(nums) - 2):\n",
        "            if i > 0 and nums[i] == nums[i-1]:\n",
        "                continue\n",
        "            left, right = i +1, len(nums)-1\n",
        "            while left < right:\n",
        "                sum = nums[i] + nums[left] + nums[right]\n",
        "                if sum < 0 :\n",
        "                    left += 1\n",
        "                elif sum >0 :\n",
        "                    right -= 1\n",
        "                else:\n",
        "                    result.append([nums[i], nums[left], nums[right]])\n",
        "\n",
        "                    while left < right and nums[left] == nums[left+1]:\n",
        "                        left += 1\n",
        "                    while left < right and nums[right] == nums[right-1]:\n",
        "                        right -= 1\n",
        "                    left += 1\n",
        "                    right -= 1\n",
        "        return result"
      ],
      "metadata": {
        "id": "ixIW8GAhhEqN"
      },
      "execution_count": null,
      "outputs": []
    },
    {
      "cell_type": "markdown",
      "source": [
        "# 배열 파티션 1\n",
        "https://leetcode.com/problems/array-partition-i"
      ],
      "metadata": {
        "id": "AUUqM93HoeQC"
      }
    },
    {
      "cell_type": "code",
      "source": [
        "nums = [1,4,3,2]"
      ],
      "metadata": {
        "id": "_M3V4Ej8oob7"
      },
      "execution_count": null,
      "outputs": []
    },
    {
      "cell_type": "code",
      "source": [
        "sum(sorted(nums)[::2])"
      ],
      "metadata": {
        "colab": {
          "base_uri": "https://localhost:8080/"
        },
        "id": "9xSnIryAr9AP",
        "outputId": "8453f1cd-28c2-4bdb-92cc-dd5d0e4843c6"
      },
      "execution_count": null,
      "outputs": [
        {
          "output_type": "execute_result",
          "data": {
            "text/plain": [
              "4"
            ]
          },
          "metadata": {},
          "execution_count": 2
        }
      ]
    },
    {
      "cell_type": "code",
      "source": [
        "sum = 0 \n",
        "nums.sort()\n",
        "\n",
        "for i in range(len(nums)):\n",
        "    if i % 2 == 0:\n",
        "        sum += nums[i]\n",
        "sum"
      ],
      "metadata": {
        "colab": {
          "base_uri": "https://localhost:8080/"
        },
        "id": "PDdM3dARsHaR",
        "outputId": "3daa39ae-d2a6-4845-d067-37837709c1a1"
      },
      "execution_count": null,
      "outputs": [
        {
          "output_type": "execute_result",
          "data": {
            "text/plain": [
              "4"
            ]
          },
          "metadata": {},
          "execution_count": 5
        }
      ]
    },
    {
      "cell_type": "code",
      "source": [
        "nums"
      ],
      "metadata": {
        "colab": {
          "base_uri": "https://localhost:8080/"
        },
        "id": "ugahtzFqk5PI",
        "outputId": "f98bb41d-a03b-41c2-b731-1388d9aeea82"
      },
      "execution_count": null,
      "outputs": [
        {
          "output_type": "execute_result",
          "data": {
            "text/plain": [
              "[1, 4, 3, 2]"
            ]
          },
          "metadata": {},
          "execution_count": 4
        }
      ]
    },
    {
      "cell_type": "code",
      "source": [
        "class Solution(object):\n",
        "    def arrayPairSum(self, nums):\n",
        "        \"\"\"\n",
        "        :type nums: List[int]\n",
        "        :rtype: int\n",
        "        \"\"\"\n",
        "        return sum(sorted(nums)[::2])"
      ],
      "metadata": {
        "id": "uHQKMyvFk65B"
      },
      "execution_count": null,
      "outputs": []
    },
    {
      "cell_type": "markdown",
      "source": [
        "# 11 자신을 제외한 배열의 곱\n",
        "https://leetcode.com/problems/product-of-array-except-self/submissions/"
      ],
      "metadata": {
        "id": "sRHzOFXIz4T6"
      }
    },
    {
      "cell_type": "code",
      "source": [
        "nums = [1,2,3,4]"
      ],
      "metadata": {
        "id": "vQetgWVF0Qtu"
      },
      "execution_count": null,
      "outputs": []
    },
    {
      "cell_type": "code",
      "source": [
        "for i in range(len(nums)-1,-1, -1):\n",
        "    print(i)"
      ],
      "metadata": {
        "colab": {
          "base_uri": "https://localhost:8080/"
        },
        "id": "qd-UjKUW0Tl0",
        "outputId": "d2948082-9135-4e6d-fa16-9c6048cb0f75"
      },
      "execution_count": null,
      "outputs": [
        {
          "output_type": "stream",
          "name": "stdout",
          "text": [
            "3\n",
            "2\n",
            "1\n",
            "0\n"
          ]
        }
      ]
    },
    {
      "cell_type": "code",
      "source": [
        "for i in range(len(nums)-1):\n",
        "    print(i)"
      ],
      "metadata": {
        "colab": {
          "base_uri": "https://localhost:8080/"
        },
        "id": "SFH-2y3M0Vz8",
        "outputId": "ee09cd64-223a-43e8-bd12-62f1cd61e022"
      },
      "execution_count": null,
      "outputs": [
        {
          "output_type": "stream",
          "name": "stdout",
          "text": [
            "0\n",
            "1\n",
            "2\n"
          ]
        }
      ]
    },
    {
      "cell_type": "code",
      "source": [
        "out = []\n",
        "p = 1\n",
        "for i in range(len(nums)):\n",
        "    out.append(p)\n",
        "    p = p * nums[i] # 1,1,2,6\n",
        "p = 1\n",
        "for i in range(len(nums)-1 , 0-1, -1): # 3,2,1,0\n",
        "    out[i] = out[i] * p\n",
        "    p = p * nums[i]\n",
        "    print(out, p)"
      ],
      "metadata": {
        "colab": {
          "base_uri": "https://localhost:8080/"
        },
        "id": "062uFv-C01MZ",
        "outputId": "9da34233-51d1-433e-a986-4707fac8fd9f"
      },
      "execution_count": null,
      "outputs": [
        {
          "output_type": "stream",
          "name": "stdout",
          "text": [
            "[1, 1, 2, 6] 4\n",
            "[1, 1, 8, 6] 12\n",
            "[1, 12, 8, 6] 24\n",
            "[24, 12, 8, 6] 24\n"
          ]
        }
      ]
    },
    {
      "cell_type": "code",
      "source": [
        "class Solution(object):\n",
        "    def productExceptSelf(self, nums):\n",
        "        \"\"\"\n",
        "        :type nums: List[int]\n",
        "        :rtype: List[int]\n",
        "        \"\"\"\n",
        "        out = []\n",
        "        p = 1\n",
        "        for i in range(len(nums)):\n",
        "            out.append(p)\n",
        "            p = p * nums[i] # 1,1,2,6\n",
        "        p = 1\n",
        "        for i in range(len(nums)-1 , 0-1, -1): # 3,2,1,0\n",
        "            out[i] = out[i] * p\n",
        "            p = p * nums[i]\n",
        "        return out"
      ],
      "metadata": {
        "id": "gBI7DQLs07x_"
      },
      "execution_count": null,
      "outputs": []
    },
    {
      "cell_type": "markdown",
      "source": [
        "# 12_주식을 살고팔기 가장 좋은 시점\n",
        "\n",
        "\n",
        "sys.maxsize : 시스템의 가장 큰값"
      ],
      "metadata": {
        "id": "DmM6S_Gav1JY"
      }
    },
    {
      "cell_type": "code",
      "source": [
        "import sys \n",
        "prices = [7,1,5,3,6,4]\n",
        "profit = 0\n",
        "min_price = sys.maxsize\n",
        "for price in prices:\n",
        "    min_price = min(price, min_price)\n",
        "    profit = max(profit , price - min_price)\n",
        "    print(profit)"
      ],
      "metadata": {
        "colab": {
          "base_uri": "https://localhost:8080/"
        },
        "id": "33iOFFK2v2_p",
        "outputId": "5199ddb7-8bdc-4da7-befc-87cc625ce0ba"
      },
      "execution_count": null,
      "outputs": [
        {
          "output_type": "stream",
          "name": "stdout",
          "text": [
            "0\n",
            "0\n",
            "4\n",
            "4\n",
            "5\n",
            "5\n"
          ]
        }
      ]
    },
    {
      "cell_type": "code",
      "source": [
        "min_price = 9999\n",
        "profit = 0\n",
        "for price in prices:\n",
        "    min_price = min(price, min_price)\n",
        "    profit = max(profit , price - min_price)\n",
        "    print(profit)"
      ],
      "metadata": {
        "colab": {
          "base_uri": "https://localhost:8080/"
        },
        "id": "gJ3XFGaD1IVL",
        "outputId": "0c4233e1-5c78-4d6d-b64c-348991fa7d92"
      },
      "execution_count": null,
      "outputs": [
        {
          "output_type": "stream",
          "name": "stdout",
          "text": [
            "0\n",
            "0\n",
            "4\n",
            "4\n",
            "5\n",
            "5\n"
          ]
        }
      ]
    },
    {
      "cell_type": "code",
      "source": [
        "price_min = 10000 \n",
        "profit = 0 \n",
        "for price_current in prices: \n",
        "    price_min = min(price_current, price_min) # 현재 가격 - 최저값의 값과 수익의 값 중, 최대값을 수익값으로 보고 스왑함 \n",
        "    profit = max(profit, price_current-price_min)\n",
        "profit\n"
      ],
      "metadata": {
        "colab": {
          "base_uri": "https://localhost:8080/"
        },
        "id": "zm9cOMwXzTBe",
        "outputId": "8ec5cc34-fdf7-4647-b2c8-5fc6873b3525"
      },
      "execution_count": null,
      "outputs": [
        {
          "output_type": "execute_result",
          "data": {
            "text/plain": [
              "5"
            ]
          },
          "metadata": {},
          "execution_count": 27
        }
      ]
    },
    {
      "cell_type": "code",
      "source": [
        "class Solution(object):\n",
        "    def maxProfit(self, prices):\n",
        "        \"\"\"\n",
        "        :type prices: List[int]\n",
        "        :rtype: int\n",
        "        \"\"\"\n",
        "        import sys \n",
        "        profit = 0\n",
        "        min_price = 9999\n",
        "        for price in prices:\n",
        "            min_price = min(min_price, price)\n",
        "            profit = max(profit , price - min_price)\n",
        "        return profit\n",
        "        "
      ],
      "metadata": {
        "id": "WbuWtkU-04WN"
      },
      "execution_count": null,
      "outputs": []
    },
    {
      "cell_type": "code",
      "source": [
        "class Solution(object):\n",
        "    def maxProfit(self, prices):\n",
        "        \"\"\"\n",
        "        :type prices: List[int]\n",
        "        :rtype: int\n",
        "        \"\"\"\n",
        "        profit = 0\n",
        "        for i in range(len(prices)):\n",
        "            for j in range(i, len(prices)):\n",
        "                profit = max(prices[j] - prices[i], profit)\n",
        "        return profit"
      ],
      "metadata": {
        "id": "vGhbjMgw11aL"
      },
      "execution_count": null,
      "outputs": []
    },
    {
      "cell_type": "markdown",
      "source": [
        "# 13_팰린드롬 연결 리스트"
      ],
      "metadata": {
        "id": "gcJyRdbV-QeU"
      }
    },
    {
      "cell_type": "code",
      "source": [
        "head = [1,2,2,1]"
      ],
      "metadata": {
        "id": "cErXm269-SDp"
      },
      "execution_count": null,
      "outputs": []
    },
    {
      "cell_type": "code",
      "source": [
        "res = []\n",
        "while len(head) > 1:\n",
        "    if res.pop(0) != res.pop():\n",
        "        print(False)"
      ],
      "metadata": {
        "colab": {
          "base_uri": "https://localhost:8080/"
        },
        "id": "1iSrprzR-Sgv",
        "outputId": "7f880402-a558-4248-de6d-71625d7a6e20"
      },
      "execution_count": null,
      "outputs": [
        {
          "output_type": "execute_result",
          "data": {
            "text/plain": [
              "1"
            ]
          },
          "metadata": {},
          "execution_count": 3
        }
      ]
    },
    {
      "cell_type": "code",
      "source": [
        "import collections \n",
        "q = collections.deque()"
      ],
      "metadata": {
        "id": "CWeLJ_8Y-q18"
      },
      "execution_count": null,
      "outputs": []
    },
    {
      "cell_type": "markdown",
      "source": [
        "# 20 Valid Parentheses\n",
        "https://leetcode.com/problems/valid-parentheses/"
      ],
      "metadata": {
        "id": "5ulHueCSGgF_"
      }
    },
    {
      "cell_type": "code",
      "source": [
        "stack = []\n",
        "table  = {\n",
        "    ')' : '(',\n",
        "    ']' : '[',\n",
        "    '}' : '{'\n",
        "}"
      ],
      "metadata": {
        "id": "HluaTxzzGiI3"
      },
      "execution_count": null,
      "outputs": []
    },
    {
      "cell_type": "code",
      "source": [
        "s = \"()[]{}\"\n",
        "for char in s:\n",
        "    if char not in table:\n",
        "        stack.append(char)\n",
        "    elif not stack or table[char] != stack.pop():\n",
        "        return False\n",
        "return len(stack) == 0"
      ],
      "metadata": {
        "colab": {
          "base_uri": "https://localhost:8080/"
        },
        "id": "DxwbSwgEGq86",
        "outputId": "45d401d5-70e3-4536-a4b7-7e7e0b07c972"
      },
      "execution_count": null,
      "outputs": [
        {
          "output_type": "execute_result",
          "data": {
            "text/plain": [
              "3"
            ]
          },
          "metadata": {},
          "execution_count": 4
        }
      ]
    },
    {
      "cell_type": "code",
      "source": [
        "class Solution(object):\n",
        "    def isValid(self, s):\n",
        "        \"\"\"\n",
        "        :type s: str\n",
        "        :rtype: bool\n",
        "        \"\"\"\n",
        "        stack = []\n",
        "        table  = {\n",
        "            ')' : '(',\n",
        "            ']' : '[',\n",
        "            '}' : '{'\n",
        "        }\n",
        "        for char in s:\n",
        "            if char not in table:\n",
        "                stack.append(char)\n",
        "            elif not stack or table[char] != stack.pop():\n",
        "                return False\n",
        "        return len(stack) == 0"
      ],
      "metadata": {
        "id": "QsWYw0rkHU_H"
      },
      "execution_count": null,
      "outputs": []
    },
    {
      "cell_type": "markdown",
      "source": [
        "# 21_중복문자제거"
      ],
      "metadata": {
        "id": "YzBcIPYq-JrK"
      }
    },
    {
      "cell_type": "code",
      "source": [
        "s = \"bcabc\"\n",
        "\n",
        "\"\".join(sorted(list(set(s))))"
      ],
      "metadata": {
        "colab": {
          "base_uri": "https://localhost:8080/",
          "height": 35
        },
        "id": "oxHqrYw9-LQf",
        "outputId": "2c930fec-8534-4251-f916-b9289ba09252"
      },
      "execution_count": null,
      "outputs": [
        {
          "output_type": "execute_result",
          "data": {
            "application/vnd.google.colaboratory.intrinsic+json": {
              "type": "string"
            },
            "text/plain": [
              "'abc'"
            ]
          },
          "metadata": {},
          "execution_count": 5
        }
      ]
    },
    {
      "cell_type": "code",
      "source": [
        "s = \"cbacdcbc\"\n",
        "# \n",
        "\"acdb\""
      ],
      "metadata": {
        "id": "3q0s-7dR-Ult"
      },
      "execution_count": null,
      "outputs": []
    },
    {
      "cell_type": "markdown",
      "source": [
        "# 22_일일 온도"
      ],
      "metadata": {
        "id": "IL6HSIZjC8st"
      }
    },
    {
      "cell_type": "code",
      "source": [
        "t = [73,74,75,71,69,72,76,73]"
      ],
      "metadata": {
        "id": "ZgidU_9A-o2s"
      },
      "execution_count": null,
      "outputs": []
    },
    {
      "cell_type": "code",
      "source": [
        ""
      ],
      "metadata": {
        "colab": {
          "base_uri": "https://localhost:8080/"
        },
        "id": "HteMmc12Di2u",
        "outputId": "e7fa1d12-17be-4931-8cf2-8e70f68e324c"
      },
      "execution_count": null,
      "outputs": [
        {
          "output_type": "execute_result",
          "data": {
            "text/plain": [
              "73"
            ]
          },
          "metadata": {},
          "execution_count": 16
        }
      ]
    },
    {
      "cell_type": "code",
      "source": [
        "t = [73,74,75,71,69,72,76,73]\n",
        "answer = [0] * len(t)\n",
        "stack =[]\n",
        "for i, cur in enumerate(t):\n",
        "    while stack and cur > t[stack[-1]]:\n",
        "        last = stack.pop()\n",
        "        answer[last] = i - last\n",
        "        print(cur)\n",
        "    stack.append(i)"
      ],
      "metadata": {
        "colab": {
          "base_uri": "https://localhost:8080/"
        },
        "id": "0HsUhwmPDK_Y",
        "outputId": "d869bdbf-8c26-4509-c0df-381b10ad78b0"
      },
      "execution_count": null,
      "outputs": [
        {
          "output_type": "stream",
          "name": "stdout",
          "text": [
            "74\n",
            "75\n",
            "72\n",
            "72\n",
            "76\n",
            "76\n"
          ]
        }
      ]
    },
    {
      "cell_type": "code",
      "source": [
        "for i, cur in enumerate(t):\n",
        "    print(i)"
      ],
      "metadata": {
        "colab": {
          "base_uri": "https://localhost:8080/"
        },
        "id": "C9qKCjuwJRSQ",
        "outputId": "1fd3270b-8308-4976-ae83-118505fd425c"
      },
      "execution_count": null,
      "outputs": [
        {
          "output_type": "stream",
          "name": "stdout",
          "text": [
            "0\n",
            "1\n",
            "2\n",
            "3\n",
            "4\n",
            "5\n",
            "6\n",
            "7\n"
          ]
        }
      ]
    },
    {
      "cell_type": "markdown",
      "source": [
        "# 23_큐를 이용한 스택 구현\n",
        "https://leetcode.com/problems/implement-stack-using-queues/submissions/"
      ],
      "metadata": {
        "id": "49M4Wi9iu426"
      }
    },
    {
      "cell_type": "code",
      "source": [
        "class MyStack(object):\n",
        "\n",
        "    def __init__(self):\n",
        "        self.q = collections.deque()\n",
        "        \n",
        "\n",
        "    def push(self, x):\n",
        "        \"\"\"\n",
        "        :type x: int\n",
        "        :rtype: None\n",
        "        \"\"\"\n",
        "        self.q.append(x)\n",
        "        for _ in range(len(self.q) - 1):\n",
        "            self.q.append(self.q.popleft())\n",
        "\n",
        "    def pop(self):\n",
        "        \"\"\"\n",
        "        :rtype: int\n",
        "        \"\"\"\n",
        "        return self.q.popleft()\n",
        "\n",
        "    def top(self):\n",
        "        \"\"\"\n",
        "        :rtype: int\n",
        "        \"\"\"\n",
        "        return self.q[0]\n",
        "\n",
        "    def empty(self):\n",
        "        \"\"\"\n",
        "        :rtype: bool\n",
        "        \"\"\"\n",
        "        return len(self.q) == 0"
      ],
      "metadata": {
        "id": "TXFI6fPSu7o0"
      },
      "execution_count": null,
      "outputs": []
    },
    {
      "cell_type": "code",
      "source": [
        "q = collections.deque()"
      ],
      "metadata": {
        "id": "nHhlPBJwvjOJ"
      },
      "execution_count": null,
      "outputs": []
    },
    {
      "cell_type": "code",
      "source": [
        "q.append(1)\n",
        "q.append(2)\n",
        "q.append(3) # [1,2,3]\n",
        "for _ in range(len(q)-1):\n",
        "    print(q.popleft())\n"
      ],
      "metadata": {
        "colab": {
          "base_uri": "https://localhost:8080/"
        },
        "id": "_sA1RpU8vk6r",
        "outputId": "8eed9a11-53b9-4c03-be6b-9522a454e25b"
      },
      "execution_count": null,
      "outputs": [
        {
          "output_type": "stream",
          "name": "stdout",
          "text": [
            "1\n",
            "2\n"
          ]
        }
      ]
    },
    {
      "cell_type": "code",
      "source": [
        "for _ in range(len(q)-1):\n",
        "    q.append(q.popleft())\n",
        "    print(q)"
      ],
      "metadata": {
        "colab": {
          "base_uri": "https://localhost:8080/"
        },
        "id": "O1cBCE1Uvpy8",
        "outputId": "6290aafc-e102-4dab-cfe3-cffd3a92ea63"
      },
      "execution_count": null,
      "outputs": [
        {
          "output_type": "stream",
          "name": "stdout",
          "text": [
            "deque([2, 3, 1])\n",
            "deque([3, 1, 2])\n"
          ]
        }
      ]
    },
    {
      "cell_type": "code",
      "source": [
        "q"
      ],
      "metadata": {
        "colab": {
          "base_uri": "https://localhost:8080/"
        },
        "id": "CJfxd9dpvycO",
        "outputId": "7e40b073-cfba-47b3-aafe-8af97d4cafbb"
      },
      "execution_count": null,
      "outputs": [
        {
          "output_type": "execute_result",
          "data": {
            "text/plain": [
              "deque([3, 1, 2])"
            ]
          },
          "metadata": {},
          "execution_count": 20
        }
      ]
    },
    {
      "cell_type": "code",
      "source": [
        "import collections\n",
        "# Your MyStack object will be instantiated and called as such:\n",
        "obj = MyStack()\n",
        "obj.push(1)\n",
        "obj.push(2)\n",
        "param_2 = obj.pop()\n",
        "# param_3 = obj.top()\n",
        "# param_4 = obj.empty()"
      ],
      "metadata": {
        "id": "emGuavgsvM-r"
      },
      "execution_count": null,
      "outputs": []
    },
    {
      "cell_type": "code",
      "source": [
        "obj"
      ],
      "metadata": {
        "colab": {
          "base_uri": "https://localhost:8080/"
        },
        "id": "R1j0B5mAvR6g",
        "outputId": "41ac4d6e-6169-401c-8ecc-4ce90b50456e"
      },
      "execution_count": null,
      "outputs": [
        {
          "output_type": "execute_result",
          "data": {
            "text/plain": [
              "<__main__.MyStack at 0x7f96085fba10>"
            ]
          },
          "metadata": {},
          "execution_count": 11
        }
      ]
    },
    {
      "cell_type": "markdown",
      "source": [
        "# 24_스택을 이용한 큐 구현"
      ],
      "metadata": {
        "id": "nfCc2Xyfi4LI"
      }
    },
    {
      "cell_type": "code",
      "source": [
        "class MyQueue(object):\n",
        "\n",
        "    def __init__(self):\n",
        "        self.input =[]\n",
        "        self.output =[]\n",
        "        \n",
        "\n",
        "    def push(self, x):\n",
        "        \"\"\"\n",
        "        :type x: int\n",
        "        :rtype: None\n",
        "        \"\"\"\n",
        "        self.input.append(x)\n",
        "\n",
        "    def pop(self):\n",
        "        \"\"\"\n",
        "        :rtype: int\n",
        "        \"\"\"\n",
        "        self.peek()\n",
        "        return self.output.pop()\n",
        "    \n",
        "    def peek(self):\n",
        "        \"\"\"\n",
        "        :rtype: int\n",
        "        \"\"\"\n",
        "        if not self.output:\n",
        "            while self.input:\n",
        "                self.output.append(self.input.pop())\n",
        "        return self.output[-1]\n",
        "    def empty(self):\n",
        "        \"\"\"\n",
        "        :rtype: bool\n",
        "        \"\"\"\n",
        "        return self.input == [] and self.output == []\n",
        "\n",
        "# Your MyQueue object will be instantiated and called as such:\n",
        "# obj = MyQueue()\n",
        "# obj.push(x)\n",
        "# param_2 = obj.pop()\n",
        "# param_3 = obj.peek()\n",
        "# param_4 = obj.empty()\n",
        "\n",
        "# Your MyQueue object will be instantiated and called as such:\n",
        "# obj = MyQueue()\n",
        "# obj.push(x)\n",
        "# param_2 = obj.pop()\n",
        "# param_3 = obj.peek()\n",
        "# param_4 = obj.empty()"
      ],
      "metadata": {
        "id": "YeMQsgtFve15"
      },
      "execution_count": null,
      "outputs": []
    },
    {
      "cell_type": "markdown",
      "source": [
        "# 30_보석과 돌\n",
        "https://leetcode.com/problems/jewels-and-stones"
      ],
      "metadata": {
        "id": "Si_adKMRjlda"
      }
    },
    {
      "cell_type": "code",
      "source": [
        "J = \"aA\"\n",
        "S = \"aAAbbbb\"\n",
        "\n",
        "freqs = {}\n",
        "count = 0\n",
        "\n",
        "for char in S:\n",
        "    if char not in freqs:\n",
        "        freqs[char] = 1\n",
        "    else:\n",
        "        freqs[char] += 1\n",
        "\n",
        "for char in J:\n",
        "    if char in freqs:\n",
        "        count += freqs[char]\n",
        "count"
      ],
      "metadata": {
        "colab": {
          "base_uri": "https://localhost:8080/"
        },
        "id": "k7uJpfC9lmKm",
        "outputId": "5b3b99ec-8130-497a-debb-3c7bf88b3c13"
      },
      "execution_count": null,
      "outputs": [
        {
          "output_type": "execute_result",
          "data": {
            "text/plain": [
              "3"
            ]
          },
          "metadata": {},
          "execution_count": 5
        }
      ]
    },
    {
      "cell_type": "code",
      "source": [
        "freqs"
      ],
      "metadata": {
        "colab": {
          "base_uri": "https://localhost:8080/"
        },
        "id": "HlgbAuHyssuO",
        "outputId": "68df2f81-5ba9-436a-852b-342d4ddb9884"
      },
      "execution_count": null,
      "outputs": [
        {
          "output_type": "execute_result",
          "data": {
            "text/plain": [
              "{'A': 2, 'a': 1, 'b': 4}"
            ]
          },
          "metadata": {},
          "execution_count": 6
        }
      ]
    },
    {
      "cell_type": "code",
      "source": [
        "import collections\n",
        "freqs = collections.defaultdict(int)\n",
        "count = 0"
      ],
      "metadata": {
        "id": "ncH8vmbYst_8"
      },
      "execution_count": null,
      "outputs": []
    },
    {
      "cell_type": "code",
      "source": [
        "freqs"
      ],
      "metadata": {
        "colab": {
          "base_uri": "https://localhost:8080/"
        },
        "id": "A26aECSLs-BS",
        "outputId": "e9ddcb53-274d-4d7b-c728-dd72eac5748b"
      },
      "execution_count": null,
      "outputs": [
        {
          "output_type": "execute_result",
          "data": {
            "text/plain": [
              "defaultdict(int, {})"
            ]
          },
          "metadata": {},
          "execution_count": 8
        }
      ]
    },
    {
      "cell_type": "code",
      "source": [
        "for char in S:\n",
        "    freqs[char] += 1"
      ],
      "metadata": {
        "id": "8R6kE8PKs-Wt"
      },
      "execution_count": null,
      "outputs": []
    },
    {
      "cell_type": "code",
      "source": [
        "freqs"
      ],
      "metadata": {
        "colab": {
          "base_uri": "https://localhost:8080/"
        },
        "id": "wVjV6qggtCuY",
        "outputId": "372c1e22-7625-4906-fbce-b702dcd20818"
      },
      "execution_count": null,
      "outputs": [
        {
          "output_type": "execute_result",
          "data": {
            "text/plain": [
              "defaultdict(int, {'A': 2, 'a': 1, 'b': 4})"
            ]
          },
          "metadata": {},
          "execution_count": 10
        }
      ]
    },
    {
      "cell_type": "code",
      "source": [
        "for char in J:\n",
        "    count += freqs[char]\n",
        "count"
      ],
      "metadata": {
        "colab": {
          "base_uri": "https://localhost:8080/"
        },
        "id": "hv5k8sdwtDNV",
        "outputId": "49b3e550-b535-42f0-b7a0-7a06e5bbd341"
      },
      "execution_count": null,
      "outputs": [
        {
          "output_type": "execute_result",
          "data": {
            "text/plain": [
              "3"
            ]
          },
          "metadata": {},
          "execution_count": 12
        }
      ]
    },
    {
      "cell_type": "code",
      "source": [
        "# Counter\n",
        "freqs = collections.Counter(S)\n",
        "freqs"
      ],
      "metadata": {
        "colab": {
          "base_uri": "https://localhost:8080/"
        },
        "id": "M-DHSesytJml",
        "outputId": "8a22d4b2-e75c-4025-ecd0-7da5e1909058"
      },
      "execution_count": null,
      "outputs": [
        {
          "output_type": "execute_result",
          "data": {
            "text/plain": [
              "Counter({'A': 2, 'a': 1, 'b': 4})"
            ]
          },
          "metadata": {},
          "execution_count": 13
        }
      ]
    },
    {
      "cell_type": "code",
      "source": [
        "count = 0\n",
        "\n",
        "for char in J:\n",
        "    count += freqs[char]\n",
        "count"
      ],
      "metadata": {
        "colab": {
          "base_uri": "https://localhost:8080/"
        },
        "id": "0CkQ4AAstwn4",
        "outputId": "eacd53f3-ee49-4604-cf1d-fcefe3060adf"
      },
      "execution_count": null,
      "outputs": [
        {
          "output_type": "execute_result",
          "data": {
            "text/plain": [
              "3"
            ]
          },
          "metadata": {},
          "execution_count": 14
        }
      ]
    },
    {
      "cell_type": "code",
      "source": [
        "sum(s in J for s in S)"
      ],
      "metadata": {
        "colab": {
          "base_uri": "https://localhost:8080/"
        },
        "id": "7c6ye6Owt21W",
        "outputId": "1b91341b-6081-4691-e3d9-b21b776a7440"
      },
      "execution_count": null,
      "outputs": [
        {
          "output_type": "execute_result",
          "data": {
            "text/plain": [
              "3"
            ]
          },
          "metadata": {},
          "execution_count": 15
        }
      ]
    },
    {
      "cell_type": "code",
      "source": [
        "class Solution(object):\n",
        "    def numJewelsInStones(self, jewels, stones):\n",
        "        \"\"\"\n",
        "        :type jewels: str\n",
        "        :type stones: str\n",
        "        :rtype: int\n",
        "        \"\"\"\n",
        "        return sum(s in jewels for s in stones)\n",
        "        "
      ],
      "metadata": {
        "id": "3q9EbxTNt6kn"
      },
      "execution_count": null,
      "outputs": []
    },
    {
      "cell_type": "markdown",
      "source": [
        "# 30_중복 문자 없는 가장 긴 부분 문자열"
      ],
      "metadata": {
        "id": "qDiaZQMVaYyo"
      }
    },
    {
      "cell_type": "code",
      "source": [
        "s = \"abcabcbb\"\n",
        "used = {}\n",
        "max_length = start = 0\n",
        "for index, char in enumerate(s):\n",
        "    if char in used and start <= used[char]:\n",
        "        start = used[char] + 1\n",
        "    else:\n",
        "        max_length = max(max_length, index- start + 1)\n",
        "    used[char] = index\n",
        "    print(used)\n",
        "    print(max_length)\n",
        "    print('*')"
      ],
      "metadata": {
        "colab": {
          "base_uri": "https://localhost:8080/"
        },
        "id": "32wQjhnWabcd",
        "outputId": "90a26644-67cd-42a5-a039-647716f14070"
      },
      "execution_count": null,
      "outputs": [
        {
          "output_type": "stream",
          "name": "stdout",
          "text": [
            "{'a': 0}\n",
            "1\n",
            "*\n",
            "{'a': 0, 'b': 1}\n",
            "2\n",
            "*\n",
            "{'a': 0, 'b': 1, 'c': 2}\n",
            "3\n",
            "*\n",
            "{'a': 3, 'b': 1, 'c': 2}\n",
            "3\n",
            "*\n",
            "{'a': 3, 'b': 4, 'c': 2}\n",
            "3\n",
            "*\n",
            "{'a': 3, 'b': 4, 'c': 5}\n",
            "3\n",
            "*\n",
            "{'a': 3, 'b': 6, 'c': 5}\n",
            "3\n",
            "*\n",
            "{'a': 3, 'b': 7, 'c': 5}\n",
            "3\n",
            "*\n"
          ]
        }
      ]
    },
    {
      "cell_type": "code",
      "source": [
        "s = \"abcabcbb\"\n",
        "used = {}\n",
        "max_length = start = 0\n",
        "for index, char in enumerate(s):\n",
        "    if char in used and start <= used[char]:\n",
        "        start = used[char] + 1\n",
        "    else:\n",
        "        max_length = max(max_length, index- start + 1)\n",
        "    used[char] = index\n",
        "    print(start)"
      ],
      "metadata": {
        "colab": {
          "base_uri": "https://localhost:8080/"
        },
        "id": "_iAdn1TTdtPY",
        "outputId": "56e89fa8-bb38-4769-dfb9-5cd26ed2d12f"
      },
      "execution_count": null,
      "outputs": [
        {
          "output_type": "stream",
          "name": "stdout",
          "text": [
            "0\n",
            "0\n",
            "0\n",
            "1\n",
            "2\n",
            "3\n",
            "5\n",
            "7\n"
          ]
        }
      ]
    },
    {
      "cell_type": "code",
      "source": [
        "for index, char in enumerate(s):\n",
        "    print(index)"
      ],
      "metadata": {
        "colab": {
          "base_uri": "https://localhost:8080/"
        },
        "id": "ZTU_Qntnbgkd",
        "outputId": "a5593f8c-c0dc-43c0-85df-d95e368bb91f"
      },
      "execution_count": null,
      "outputs": [
        {
          "output_type": "stream",
          "name": "stdout",
          "text": [
            "0\n",
            "1\n",
            "2\n",
            "3\n",
            "4\n",
            "5\n",
            "6\n",
            "7\n"
          ]
        }
      ]
    },
    {
      "cell_type": "markdown",
      "source": [
        "# 31_상위 K빈도 요소"
      ],
      "metadata": {
        "id": "TyXY3R-3-cNC"
      }
    },
    {
      "cell_type": "code",
      "source": [
        "nums = [1,1,1,2,2,3] \n",
        "k =  2"
      ],
      "metadata": {
        "id": "3687Z5U2bkzE"
      },
      "execution_count": null,
      "outputs": []
    },
    {
      "cell_type": "code",
      "source": [
        "from collections import Counter\n",
        "Counter(nums).most_common(2)"
      ],
      "metadata": {
        "colab": {
          "base_uri": "https://localhost:8080/"
        },
        "id": "5EM-2weX-iNT",
        "outputId": "6a06a852-0874-4a86-9d53-e8b3160dfcc5"
      },
      "execution_count": null,
      "outputs": [
        {
          "output_type": "execute_result",
          "data": {
            "text/plain": [
              "[(1, 3), (2, 2)]"
            ]
          },
          "metadata": {},
          "execution_count": 10
        }
      ]
    },
    {
      "cell_type": "code",
      "source": [
        "list(zip(*Counter(nums).most_common(2)))[0]"
      ],
      "metadata": {
        "colab": {
          "base_uri": "https://localhost:8080/"
        },
        "id": "LfWoxXvd-oHD",
        "outputId": "aab69f50-45b6-47eb-9594-36b45a74ef08"
      },
      "execution_count": null,
      "outputs": [
        {
          "output_type": "execute_result",
          "data": {
            "text/plain": [
              "(1, 2)"
            ]
          },
          "metadata": {},
          "execution_count": 20
        }
      ]
    },
    {
      "cell_type": "code",
      "source": [
        "import heapq \n",
        "\n",
        "freqs = Counter(nums)\n",
        "freqs_heap = []\n",
        "for f in freqs:\n",
        "    heapq.heappush(freqs_heap, (-freqs[f], f))"
      ],
      "metadata": {
        "id": "aDVhlp3HCTeW"
      },
      "execution_count": null,
      "outputs": []
    },
    {
      "cell_type": "code",
      "source": [
        "freqs"
      ],
      "metadata": {
        "colab": {
          "base_uri": "https://localhost:8080/"
        },
        "id": "Beid5YEHDYc_",
        "outputId": "9616e2ee-6e2e-43ac-ac24-122e5ae0cb7a"
      },
      "execution_count": null,
      "outputs": [
        {
          "output_type": "execute_result",
          "data": {
            "text/plain": [
              "Counter({1: 3, 2: 2, 3: 1})"
            ]
          },
          "metadata": {},
          "execution_count": 25
        }
      ]
    },
    {
      "cell_type": "code",
      "source": [
        "freqs_heap"
      ],
      "metadata": {
        "colab": {
          "base_uri": "https://localhost:8080/"
        },
        "id": "gjWNgeHvDQ8m",
        "outputId": "7c63fbf5-9cd2-4dd7-c32a-18fafd8f2c2c"
      },
      "execution_count": null,
      "outputs": [
        {
          "output_type": "execute_result",
          "data": {
            "text/plain": [
              "[(-3, 1), (-2, 2), (-1, 3)]"
            ]
          },
          "metadata": {},
          "execution_count": 24
        }
      ]
    },
    {
      "cell_type": "code",
      "source": [
        "topk = list()\n",
        "for _ in range(k):\n",
        "    topk.append(heapq.heappop(freqs_heap)[1])"
      ],
      "metadata": {
        "id": "2iTby9KNDUOe"
      },
      "execution_count": null,
      "outputs": []
    },
    {
      "cell_type": "code",
      "source": [
        "topk"
      ],
      "metadata": {
        "colab": {
          "base_uri": "https://localhost:8080/"
        },
        "id": "5h1NvDW9DkhF",
        "outputId": "a5bedc69-a69c-4159-bb5a-616b2f043fe2"
      },
      "execution_count": null,
      "outputs": [
        {
          "output_type": "execute_result",
          "data": {
            "text/plain": [
              "[1, 2]"
            ]
          },
          "metadata": {},
          "execution_count": 27
        }
      ]
    },
    {
      "cell_type": "markdown",
      "source": [
        "# 32_ 섬의 개수"
      ],
      "metadata": {
        "id": "aTrPku7bVfkR"
      }
    },
    {
      "cell_type": "code",
      "source": [
        "grid = [\n",
        "  [\"1\",\"1\",\"1\",\"1\",\"0\"],\n",
        "  [\"1\",\"1\",\"0\",\"1\",\"0\"],\n",
        "  [\"1\",\"1\",\"0\",\"0\",\"0\"],\n",
        "  [\"0\",\"0\",\"0\",\"0\",\"0\"]\n",
        "]"
      ],
      "metadata": {
        "id": "1rPwCc08Dn94"
      },
      "execution_count": null,
      "outputs": []
    },
    {
      "cell_type": "code",
      "source": [
        "def dfs(i,j):\n",
        "    if i < 0 or i >= len(grid) or \\\n",
        "        j < 0 or j >= len(grid) or \\\n",
        "        grid[i][j] != '1':\n",
        "            return \n",
        "    grid[i][j] = 0\n",
        "\n",
        "    dfs(i+1, j)    \n",
        "    dfs(i-1,j)\n",
        "    dfs(i,j+1)\n",
        "    dfs(i,j-1)\n",
        "\n",
        "count = 0\n",
        "for i in range(len(grid)):\n",
        "    for j in range(len(grid[0])):\n",
        "        if grid[i][j] == '1':\n",
        "            dfs(i,j)\n",
        "            count += 1"
      ],
      "metadata": {
        "id": "IObetuFUVhu4"
      },
      "execution_count": null,
      "outputs": []
    },
    {
      "cell_type": "code",
      "source": [
        "grid"
      ],
      "metadata": {
        "colab": {
          "base_uri": "https://localhost:8080/"
        },
        "id": "2k86CpTJW7ua",
        "outputId": "51bf6af3-9cff-4329-f2fd-2148524a6047"
      },
      "execution_count": null,
      "outputs": [
        {
          "output_type": "execute_result",
          "data": {
            "text/plain": [
              "[[0, 0, 0, 0, '0'],\n",
              " [0, 0, '0', 0, '0'],\n",
              " [0, 0, '0', '0', '0'],\n",
              " ['0', '0', '0', '0', '0']]"
            ]
          },
          "metadata": {},
          "execution_count": 8
        }
      ]
    },
    {
      "cell_type": "code",
      "source": [
        "for i in range(len(grid)):\n",
        "    for j in range(len(grid[0])):\n",
        "        print(i,j)"
      ],
      "metadata": {
        "colab": {
          "base_uri": "https://localhost:8080/"
        },
        "id": "9l6_yHXFXOc-",
        "outputId": "bd52465d-5dab-4bca-99c4-e646ac47e8db"
      },
      "execution_count": null,
      "outputs": [
        {
          "output_type": "stream",
          "name": "stdout",
          "text": [
            "0 0\n",
            "0 1\n",
            "0 2\n",
            "0 3\n",
            "0 4\n",
            "1 0\n",
            "1 1\n",
            "1 2\n",
            "1 3\n",
            "1 4\n",
            "2 0\n",
            "2 1\n",
            "2 2\n",
            "2 3\n",
            "2 4\n",
            "3 0\n",
            "3 1\n",
            "3 2\n",
            "3 3\n",
            "3 4\n"
          ]
        }
      ]
    },
    {
      "cell_type": "markdown",
      "source": [
        "# 33_전화 번호 문자 조합"
      ],
      "metadata": {
        "id": "ppywqFkBZn_j"
      }
    },
    {
      "cell_type": "code",
      "source": [
        "digits = \"23\""
      ],
      "metadata": {
        "id": "-CPNBoHYYaDh"
      },
      "execution_count": null,
      "outputs": []
    },
    {
      "cell_type": "code",
      "source": [
        "path = \"\"\n",
        "dic = {\"2\": \"abc\",\n",
        "       \"3\": \"def\",\n",
        "       \"4\": \"ghi\",\n",
        "       \"5\": \"jkl\",\n",
        "       \"6\": \"mno\",\n",
        "       \"7\": \"pqrs\",\n",
        "       \"8\": \"tuv\",\n",
        "       \"9\": \"wxyz\"\n",
        "       }"
      ],
      "metadata": {
        "id": "b7fJ-BYlZqbB"
      },
      "execution_count": null,
      "outputs": []
    },
    {
      "cell_type": "code",
      "source": [
        "def dfs(index, path):\n",
        "    if len(path) == len(digits):\n",
        "        result.append(path)\n",
        "        return\n",
        "\n",
        "    for i in range(index, len(digits)): # 0,1 \n",
        "        for j in dic[digits[i]]: # a,b,c,d,e,f\n",
        "            dfs(i+1, path+j)\n",
        "    #print(path+j)"
      ],
      "metadata": {
        "id": "oi5uSLLmZ7kE"
      },
      "execution_count": null,
      "outputs": []
    },
    {
      "cell_type": "code",
      "source": [
        "# if not digits:\n",
        "#     return []\n",
        "\n",
        "result = []\n",
        "dfs(0,\"\")"
      ],
      "metadata": {
        "id": "9Iz52puJZ_G0"
      },
      "execution_count": null,
      "outputs": []
    },
    {
      "cell_type": "code",
      "source": [
        "result"
      ],
      "metadata": {
        "colab": {
          "base_uri": "https://localhost:8080/"
        },
        "id": "tOI_iboOaR2y",
        "outputId": "c121b38f-f4d0-4dc6-a511-567a7432c059"
      },
      "execution_count": null,
      "outputs": [
        {
          "output_type": "execute_result",
          "data": {
            "text/plain": [
              "['ad', 'ae', 'af', 'bd', 'be', 'bf', 'cd', 'ce', 'cf']"
            ]
          },
          "metadata": {},
          "execution_count": 16
        }
      ]
    },
    {
      "cell_type": "code",
      "source": [
        "for i in range(0, len(digits)): #0,1\n",
        "    for j in dic[digits[i]]:\n",
        "        print(j)\n",
        "\n"
      ],
      "metadata": {
        "colab": {
          "base_uri": "https://localhost:8080/"
        },
        "id": "ISxokMgSaW5o",
        "outputId": "199fa2f8-cfaf-4b89-b9bf-42c848549089"
      },
      "execution_count": null,
      "outputs": [
        {
          "output_type": "stream",
          "name": "stdout",
          "text": [
            "a\n",
            "b\n",
            "c\n",
            "d\n",
            "e\n",
            "f\n"
          ]
        }
      ]
    },
    {
      "cell_type": "code",
      "source": [
        "len(digits)"
      ],
      "metadata": {
        "colab": {
          "base_uri": "https://localhost:8080/"
        },
        "id": "rJXXxWRVaf8J",
        "outputId": "0703fbbc-69ef-4fe0-eac4-494291b51549"
      },
      "execution_count": null,
      "outputs": [
        {
          "output_type": "execute_result",
          "data": {
            "text/plain": [
              "2"
            ]
          },
          "metadata": {},
          "execution_count": 18
        }
      ]
    },
    {
      "cell_type": "markdown",
      "source": [
        "# 순열 "
      ],
      "metadata": {
        "id": "rMUx_qr7W3nc"
      }
    },
    {
      "cell_type": "code",
      "source": [
        "import itertools\n",
        "nums = [1,2,3]\n",
        "\n",
        "list(itertools.permutations(nums))"
      ],
      "metadata": {
        "colab": {
          "base_uri": "https://localhost:8080/"
        },
        "id": "IjS9AkV-XfD1",
        "outputId": "a743bf4b-c25d-4304-8858-925bc6f61fb8"
      },
      "execution_count": null,
      "outputs": [
        {
          "output_type": "execute_result",
          "data": {
            "text/plain": [
              "[(1, 2, 3), (1, 3, 2), (2, 1, 3), (2, 3, 1), (3, 1, 2), (3, 2, 1)]"
            ]
          },
          "metadata": {},
          "execution_count": 3
        }
      ]
    },
    {
      "cell_type": "code",
      "source": [
        "result = []\n",
        "prev_elements = []\n",
        "\n",
        "def dfs(elements):\n",
        "    if len(elements) == 0:\n",
        "        result.append(prev_elements[:])\n",
        "    for e in elements:\n",
        "        next_elements = elements[:]\n",
        "        next_elements.remove(e)\n",
        "\n",
        "        prev_elements.append(e)\n",
        "        dfs(next_elements)\n",
        "        prev_elements.pop()\n",
        "        print(prev_elements)\n",
        "dfs(nums)"
      ],
      "metadata": {
        "colab": {
          "base_uri": "https://localhost:8080/"
        },
        "id": "DRzM5QCOXk5h",
        "outputId": "45d94873-b6dc-40d2-b73b-9546ba571103"
      },
      "execution_count": null,
      "outputs": [
        {
          "output_type": "stream",
          "name": "stdout",
          "text": [
            "[1, 2]\n",
            "[1]\n",
            "[1, 3]\n",
            "[1]\n",
            "[]\n",
            "[2, 1]\n",
            "[2]\n",
            "[2, 3]\n",
            "[2]\n",
            "[]\n",
            "[3, 1]\n",
            "[3]\n",
            "[3, 2]\n",
            "[3]\n",
            "[]\n"
          ]
        }
      ]
    },
    {
      "cell_type": "code",
      "source": [
        "next_elements = nums[:]\n",
        "next_elements.remove(1)"
      ],
      "metadata": {
        "id": "wMXSPB4GZpfO"
      },
      "execution_count": null,
      "outputs": []
    },
    {
      "cell_type": "code",
      "source": [
        "next_elements"
      ],
      "metadata": {
        "colab": {
          "base_uri": "https://localhost:8080/"
        },
        "id": "b2d3owg_Z9kT",
        "outputId": "67b347b3-4dff-4d20-800b-bbfba9794fa8"
      },
      "execution_count": null,
      "outputs": [
        {
          "output_type": "execute_result",
          "data": {
            "text/plain": [
              "[2, 3]"
            ]
          },
          "metadata": {},
          "execution_count": 12
        }
      ]
    },
    {
      "cell_type": "code",
      "source": [
        "for e in [3]:\n",
        "    print(e)"
      ],
      "metadata": {
        "colab": {
          "base_uri": "https://localhost:8080/"
        },
        "id": "YZeddPMCZ_N-",
        "outputId": "a7a3a4ed-0ee2-49a2-c135-4b322c7f7dba"
      },
      "execution_count": null,
      "outputs": [
        {
          "output_type": "stream",
          "name": "stdout",
          "text": [
            "3\n"
          ]
        }
      ]
    },
    {
      "cell_type": "markdown",
      "source": [
        "# 35_조합"
      ],
      "metadata": {
        "id": "-iLIwD_uwyfb"
      }
    },
    {
      "cell_type": "code",
      "source": [
        "n = 4\n",
        "k = 2"
      ],
      "metadata": {
        "id": "ckPA8nqJamJ-"
      },
      "execution_count": null,
      "outputs": []
    },
    {
      "cell_type": "code",
      "source": [
        "from itertools import combinations\n",
        "\n",
        "list(combinations(range(1,n+1), k))"
      ],
      "metadata": {
        "colab": {
          "base_uri": "https://localhost:8080/"
        },
        "id": "pEAiy3U0w0cq",
        "outputId": "bd9938f2-8caa-47dd-e567-0c5a68799848"
      },
      "execution_count": null,
      "outputs": [
        {
          "output_type": "execute_result",
          "data": {
            "text/plain": [
              "[(1, 2), (1, 3), (1, 4), (2, 3), (2, 4), (3, 4)]"
            ]
          },
          "metadata": {},
          "execution_count": 10
        }
      ]
    },
    {
      "cell_type": "code",
      "source": [
        "result = []\n",
        "\n",
        "def dfs(elements, start, k):\n",
        "    if k == 0:\n",
        "        result.append(elements[:])\n",
        "        return \n",
        "    # 1,2,3,4\n",
        "    for i in range(start, n+1): # dfs(ele, start, k) / dfs([1],2,1)  / dfs([1,2],3,0) / dfs[1,3],4,0)\n",
        "        elements.append(i)\n",
        "        print('@',i+1)\n",
        "        print(elements)\n",
        "        dfs(elements,i+1, k-1) # dfs([1],2,1) / \n",
        "        elements.pop()\n",
        "        print('#',elements)        \n",
        "\n",
        "# i = 1 / i+1 = 2 시작\n",
        "# dfs(ele, start, k) / dfs([1],2,1)  / dfs([1,2],3,0) / dfs[1,3],4,0) / dfs[1,4], 4,0 \n",
        "# i = 2 -> 3\n",
        "# dfs([2], 3,1) / dfs[2,3], 4,0 / dfs[2]-> dfs[2,4],5,0) dfs[2], \n",
        "# i = 3 -> 4\n",
        "# dfs([3], 4,1) / dfs[3,4],5,0 / \n",
        "# i = 4 -> 5\n",
        "# dfs([4], 5, 1) / dfs[[4], ]"
      ],
      "metadata": {
        "id": "V0CkDEAIw693"
      },
      "execution_count": null,
      "outputs": []
    },
    {
      "cell_type": "code",
      "source": [
        "dfs([],1,k)"
      ],
      "metadata": {
        "colab": {
          "base_uri": "https://localhost:8080/"
        },
        "id": "XC4l-SDfxmSu",
        "outputId": "edc7f743-3b95-4f1a-968c-3662ebe6fbfb"
      },
      "execution_count": null,
      "outputs": [
        {
          "output_type": "stream",
          "name": "stdout",
          "text": [
            "@ 2\n",
            "[1]\n",
            "@ 3\n",
            "[1, 2]\n",
            "# [1]\n",
            "@ 4\n",
            "[1, 3]\n",
            "# [1]\n",
            "@ 5\n",
            "[1, 4]\n",
            "# [1]\n",
            "# []\n",
            "@ 3\n",
            "[2]\n",
            "@ 4\n",
            "[2, 3]\n",
            "# [2]\n",
            "@ 5\n",
            "[2, 4]\n",
            "# [2]\n",
            "# []\n",
            "@ 4\n",
            "[3]\n",
            "@ 5\n",
            "[3, 4]\n",
            "# [3]\n",
            "# []\n",
            "@ 5\n",
            "[4]\n",
            "# []\n"
          ]
        }
      ]
    },
    {
      "cell_type": "code",
      "source": [
        "result"
      ],
      "metadata": {
        "colab": {
          "base_uri": "https://localhost:8080/"
        },
        "id": "DqkL_6MAxpXe",
        "outputId": "acf95061-79cc-4cd8-fd9b-2c354243694e"
      },
      "execution_count": null,
      "outputs": [
        {
          "output_type": "execute_result",
          "data": {
            "text/plain": [
              "[[1, 2], [1, 3], [1, 4], [2, 3], [2, 4], [3, 4]]"
            ]
          },
          "metadata": {},
          "execution_count": 17
        }
      ]
    },
    {
      "cell_type": "code",
      "source": [
        "dfs([1],2,0)"
      ],
      "metadata": {
        "id": "IvgGm--vxvY-"
      },
      "execution_count": null,
      "outputs": []
    },
    {
      "cell_type": "code",
      "source": [
        "for i in range(2, n+1):\n",
        "    print(i)"
      ],
      "metadata": {
        "colab": {
          "base_uri": "https://localhost:8080/"
        },
        "id": "NshKzRbmyE3n",
        "outputId": "6c52b5f4-a54a-4252-bd40-7053a24f470e"
      },
      "execution_count": null,
      "outputs": [
        {
          "output_type": "stream",
          "name": "stdout",
          "text": [
            "2\n",
            "3\n",
            "4\n"
          ]
        }
      ]
    },
    {
      "cell_type": "markdown",
      "source": [
        "# 37_부분집합"
      ],
      "metadata": {
        "id": "XbDUA6zPycjq"
      }
    },
    {
      "cell_type": "code",
      "source": [
        "nums = [1,2,3]"
      ],
      "metadata": {
        "id": "YuNz5vxuyfSO"
      },
      "execution_count": null,
      "outputs": []
    },
    {
      "cell_type": "code",
      "source": [
        "result = []\n",
        "\n",
        "def dfs(index,path):\n",
        "    result.append(path)\n",
        "\n",
        "    for i in range(index,len(nums)): #dfs(1,[1]) # dfs\n",
        "        print(i+1)\n",
        "        print('#',path + [nums[i]])\n",
        "        dfs(i+1, path + [nums[i]])\n",
        "        print('@',result)\n",
        "dfs(0,[])  "
      ],
      "metadata": {
        "colab": {
          "base_uri": "https://localhost:8080/"
        },
        "id": "NTeIRIcbygZu",
        "outputId": "43cb1161-95d2-4e1d-e5dd-e37346bee1f5"
      },
      "execution_count": null,
      "outputs": [
        {
          "output_type": "stream",
          "name": "stdout",
          "text": [
            "1\n",
            "# [1]\n",
            "2\n",
            "# [1, 2]\n",
            "3\n",
            "# [1, 2, 3]\n",
            "@ [[], [1], [1, 2], [1, 2, 3]]\n",
            "@ [[], [1], [1, 2], [1, 2, 3]]\n",
            "3\n",
            "# [1, 3]\n",
            "@ [[], [1], [1, 2], [1, 2, 3], [1, 3]]\n",
            "@ [[], [1], [1, 2], [1, 2, 3], [1, 3]]\n",
            "2\n",
            "# [2]\n",
            "3\n",
            "# [2, 3]\n",
            "@ [[], [1], [1, 2], [1, 2, 3], [1, 3], [2], [2, 3]]\n",
            "@ [[], [1], [1, 2], [1, 2, 3], [1, 3], [2], [2, 3]]\n",
            "3\n",
            "# [3]\n",
            "@ [[], [1], [1, 2], [1, 2, 3], [1, 3], [2], [2, 3], [3]]\n"
          ]
        }
      ]
    },
    {
      "cell_type": "code",
      "source": [
        "    for i in range(0,len(nums)):\n",
        "        print(i)"
      ],
      "metadata": {
        "colab": {
          "base_uri": "https://localhost:8080/"
        },
        "id": "mGPphVmPytTx",
        "outputId": "744a682e-dfd7-4b60-d8e7-93087471fa88"
      },
      "execution_count": null,
      "outputs": [
        {
          "output_type": "stream",
          "name": "stdout",
          "text": [
            "0\n",
            "1\n",
            "2\n"
          ]
        }
      ]
    },
    {
      "cell_type": "markdown",
      "source": [
        "# 38_일정 재구성 "
      ],
      "metadata": {
        "id": "gsRs-bwY3A7g"
      }
    },
    {
      "cell_type": "code",
      "source": [
        "tickets = [[\"MUC\",\"LHR\"],[\"JFK\",\"MUC\"],[\"SFO\",\"SJC\"],[\"LHR\",\"SFO\"]]"
      ],
      "metadata": {
        "id": "i6EtAVPXyyv9"
      },
      "execution_count": null,
      "outputs": []
    },
    {
      "cell_type": "code",
      "source": [
        "from collections import defaultdict"
      ],
      "metadata": {
        "id": "Yo_XIVUO3DmP"
      },
      "execution_count": null,
      "outputs": []
    },
    {
      "cell_type": "code",
      "source": [
        "graph = defaultdict(list)\n",
        "for a, b in sorted(tickets):\n",
        "    graph[a].append(b)"
      ],
      "metadata": {
        "id": "c4_CsInMCjrT"
      },
      "execution_count": null,
      "outputs": []
    },
    {
      "cell_type": "code",
      "source": [
        "graph"
      ],
      "metadata": {
        "colab": {
          "base_uri": "https://localhost:8080/"
        },
        "id": "Xoy6RIS2Cp_T",
        "outputId": "6e869559-9a0c-4092-d4e6-2627dea0591b"
      },
      "execution_count": null,
      "outputs": [
        {
          "output_type": "execute_result",
          "data": {
            "text/plain": [
              "defaultdict(list,\n",
              "            {'JFK': ['MUC'], 'LHR': ['SFO'], 'MUC': ['LHR'], 'SFO': ['SJC']})"
            ]
          },
          "metadata": {},
          "execution_count": 16
        }
      ]
    },
    {
      "cell_type": "code",
      "source": [
        "route = []\n",
        "def dfs(a):\n",
        "    while graph[a]:\n",
        "        dfs(graph[a].pop(0))\n",
        "    route.append(a)\n",
        "    print(route)\n",
        "dfs('JFK')"
      ],
      "metadata": {
        "colab": {
          "base_uri": "https://localhost:8080/"
        },
        "id": "t_DSqZhcCwFs",
        "outputId": "7d495877-276b-48cb-a560-a863612a0067"
      },
      "execution_count": null,
      "outputs": [
        {
          "output_type": "stream",
          "name": "stdout",
          "text": [
            "['SJC']\n",
            "['SJC', 'SFO']\n",
            "['SJC', 'SFO', 'LHR']\n",
            "['SJC', 'SFO', 'LHR', 'MUC']\n",
            "['SJC', 'SFO', 'LHR', 'MUC', 'JFK']\n"
          ]
        }
      ]
    },
    {
      "cell_type": "code",
      "source": [
        "route"
      ],
      "metadata": {
        "colab": {
          "base_uri": "https://localhost:8080/"
        },
        "id": "lHTXRezOCyoS",
        "outputId": "b8dd294c-f5ed-484c-e25a-f546f70755da"
      },
      "execution_count": null,
      "outputs": [
        {
          "output_type": "execute_result",
          "data": {
            "text/plain": [
              "['JFK']"
            ]
          },
          "metadata": {},
          "execution_count": 11
        }
      ]
    },
    {
      "cell_type": "code",
      "source": [
        "graph['JFK'].pop(0)"
      ],
      "metadata": {
        "colab": {
          "base_uri": "https://localhost:8080/",
          "height": 35
        },
        "id": "oRRhw4UbDHIk",
        "outputId": "651bb6a7-ba2a-4ce3-be45-ae08aff5f726"
      },
      "execution_count": null,
      "outputs": [
        {
          "output_type": "execute_result",
          "data": {
            "application/vnd.google.colaboratory.intrinsic+json": {
              "type": "string"
            },
            "text/plain": [
              "'MUC'"
            ]
          },
          "metadata": {},
          "execution_count": 21
        }
      ]
    },
    {
      "cell_type": "code",
      "source": [
        "graph = defaultdict(list)\n",
        "for a, b in sorted(tickets, reverse=True):\n",
        "    graph[a].append(b)\n",
        "\n",
        "route = []\n",
        "def dfs(a):\n",
        "    while graph[a]:\n",
        "        print(graph[a])\n",
        "        dfs(graph[a].pop(0)) # MUC, LHR, SFO, SJC\n",
        "    route.append(a)\n",
        "dfs('JFK')"
      ],
      "metadata": {
        "colab": {
          "base_uri": "https://localhost:8080/"
        },
        "id": "fz-CtrymDdof",
        "outputId": "3a4a23b6-a531-4754-fa36-519c08a315f8"
      },
      "execution_count": null,
      "outputs": [
        {
          "output_type": "stream",
          "name": "stdout",
          "text": [
            "['MUC']\n",
            "['LHR']\n",
            "['SFO']\n",
            "['SJC']\n"
          ]
        }
      ]
    },
    {
      "cell_type": "code",
      "source": [
        "graph = defaultdict(list)\n",
        "for a, b in sorted(tickets, reverse=True):\n",
        "    graph[a].append(b)\n",
        "route, stack = [], ['JFK']\n",
        "while stack:\n",
        "    while graph[stack[-1]]:\n",
        "        stack.append(graph[stack[-1]].pop(0))\n",
        "    route.append(stack.pop())\n"
      ],
      "metadata": {
        "id": "Zu1DNzgLD-u2"
      },
      "execution_count": null,
      "outputs": []
    },
    {
      "cell_type": "markdown",
      "source": [
        "# 네트워크 딜레이 타임"
      ],
      "metadata": {
        "id": "9R5LTvPcGBfi"
      }
    },
    {
      "cell_type": "code",
      "source": [
        "n = 3\n",
        "edges = [[0,1,100],[1,2,100],[0,2,500]]\n",
        "src = 0\n",
        "dst = 2\n",
        "K = 0"
      ],
      "metadata": {
        "id": "mYm2lVXQGDGd"
      },
      "execution_count": null,
      "outputs": []
    },
    {
      "cell_type": "code",
      "source": [
        "import collections\n",
        "\n",
        "graph = collections.defaultdict(list)\n",
        "for u,v,w in edges:\n",
        "    graph[u].append((v,w))"
      ],
      "metadata": {
        "id": "pwrvDR47GHS8"
      },
      "execution_count": null,
      "outputs": []
    },
    {
      "cell_type": "code",
      "source": [
        "graph"
      ],
      "metadata": {
        "colab": {
          "base_uri": "https://localhost:8080/"
        },
        "id": "rGy-lfFYGT8b",
        "outputId": "6b35e8da-a4ac-43b5-80e6-ed1336fe276d"
      },
      "execution_count": null,
      "outputs": [
        {
          "output_type": "execute_result",
          "data": {
            "text/plain": [
              "defaultdict(list, {0: [(1, 100), (2, 500)], 1: [(2, 100)]})"
            ]
          },
          "metadata": {},
          "execution_count": 5
        }
      ]
    },
    {
      "cell_type": "code",
      "source": [
        "k = 0\n",
        "q = [[0,src,K]]"
      ],
      "metadata": {
        "id": "TuFkBzCtG3Ae"
      },
      "execution_count": null,
      "outputs": []
    },
    {
      "cell_type": "code",
      "source": [
        "q"
      ],
      "metadata": {
        "colab": {
          "base_uri": "https://localhost:8080/"
        },
        "id": "yaBFfIg9G6xo",
        "outputId": "0df0a6f8-6236-41d9-c0ad-1cdbc32aa951"
      },
      "execution_count": null,
      "outputs": [
        {
          "output_type": "execute_result",
          "data": {
            "text/plain": [
              "[[0, 0, 0]]"
            ]
          },
          "metadata": {},
          "execution_count": 7
        }
      ]
    },
    {
      "cell_type": "code",
      "source": [
        "import heapq\n",
        "while q:\n",
        "    price, node , k = heapq.heappop(q)\n",
        "    if node == dst:\n",
        "        print(price)\n",
        "    if k >= 0:\n",
        "        for v,w in graph[node]:\n",
        "            alt = price + w\n",
        "            heapq.heappush(q, (alt,v,k-1))\n"
      ],
      "metadata": {
        "id": "l18lCFLuG7E2"
      },
      "execution_count": null,
      "outputs": []
    },
    {
      "cell_type": "markdown",
      "source": [
        "# 42_이진 트리의 최대 깊이"
      ],
      "metadata": {
        "id": "_-fox0ZDLvFO"
      }
    },
    {
      "cell_type": "code",
      "source": [
        "root = [3,9,20,'null','null',15,7]"
      ],
      "metadata": {
        "id": "nypZBvhBHagd"
      },
      "execution_count": null,
      "outputs": []
    },
    {
      "cell_type": "code",
      "source": [
        "import collections"
      ],
      "metadata": {
        "id": "p1I0BeRULw68"
      },
      "execution_count": null,
      "outputs": []
    },
    {
      "cell_type": "code",
      "source": [
        "def maxDepth(root):\n",
        "    if root in None:\n",
        "        return 0\n",
        "    queue = collections.deque([root])\n",
        "    depth = 0\n",
        "\n",
        "    while queue:\n",
        "        depth += 1\n",
        "        for _ in range(len(queue)):\n",
        "            cur_root = queue.popleft()"
      ],
      "metadata": {
        "id": "H6jAvPxHL4aq"
      },
      "execution_count": null,
      "outputs": []
    },
    {
      "cell_type": "code",
      "source": [
        "queue = collections.deque([root])\n",
        "queue"
      ],
      "metadata": {
        "colab": {
          "base_uri": "https://localhost:8080/"
        },
        "id": "fWkJqslWMNzd",
        "outputId": "e6eab5bb-e093-4313-f04c-c17a3e3a2088"
      },
      "execution_count": null,
      "outputs": [
        {
          "output_type": "execute_result",
          "data": {
            "text/plain": [
              "deque([[3, 9, 20, 'null', 'null', 15, 7]])"
            ]
          },
          "metadata": {},
          "execution_count": 8
        }
      ]
    },
    {
      "cell_type": "code",
      "source": [
        "cur_root = queue.popleft()\n",
        "cur_root"
      ],
      "metadata": {
        "colab": {
          "base_uri": "https://localhost:8080/"
        },
        "id": "hd0MzkJrMPZT",
        "outputId": "9415f408-d712-4eb5-b802-e6bcebf87fc8"
      },
      "execution_count": null,
      "outputs": [
        {
          "output_type": "execute_result",
          "data": {
            "text/plain": [
              "[3, 9, 20, 'null', 'null', 15, 7]"
            ]
          },
          "metadata": {},
          "execution_count": 9
        }
      ]
    },
    {
      "cell_type": "markdown",
      "source": [
        "# 이진트리의 직경"
      ],
      "metadata": {
        "id": "J5gGhKr3ohm5"
      }
    },
    {
      "cell_type": "code",
      "source": [
        "root = [1,2,3,4,5]"
      ],
      "metadata": {
        "id": "V1CFTNAgMiq2"
      },
      "execution_count": null,
      "outputs": []
    },
    {
      "cell_type": "code",
      "source": [
        "def dfs(node):\n",
        "    longest = 0\n",
        "    if not node:\n",
        "        return -1\n",
        "    left = dfs(node.left)\n",
        "    right = dfs(node.right)\n",
        "\n",
        "    longest = max(longest, left + right + 2)\n",
        "    print(max(left,right) + 1)"
      ],
      "metadata": {
        "id": "0cSGkldypSNV"
      },
      "execution_count": null,
      "outputs": []
    },
    {
      "cell_type": "markdown",
      "source": [
        "# 가장 긴 동일 값의 경로"
      ],
      "metadata": {
        "id": "SBmfUMYFpy__"
      }
    },
    {
      "cell_type": "code",
      "source": [
        "def longestUnivaluePath(root):\n",
        "    def dfs(node):\n",
        "        if node is None:\n",
        "            return 0\n",
        "        left = dfs(node.left)\n",
        "        right = dfs(node.right)\n",
        "\n",
        "        if node.left and node.left.val == node.val:\n",
        "            left += 1\n",
        "        else:\n",
        "            left = 0\n",
        "        if node.right and node.right.val == node.val:\n",
        "            right += 1\n",
        "        else: \n",
        "            right = 0\n",
        "        result = max(result, left+right)\n",
        "        return max(left,right)\n",
        "dfs(root)"
      ],
      "metadata": {
        "id": "mAKlxKPCpm5l"
      },
      "execution_count": null,
      "outputs": []
    },
    {
      "cell_type": "markdown",
      "source": [
        "# 이진 트리의 반전"
      ],
      "metadata": {
        "id": "WcNVUFNPy4WL"
      }
    },
    {
      "cell_type": "code",
      "source": [
        "def invertTree(root):\n",
        "    if root:\n",
        "        root.left , root.right = self.invertTree(root.right), self.invertTree(root.left)\n",
        "        return root\n",
        "    return None "
      ],
      "metadata": {
        "id": "1wq_8gr9zZrG"
      },
      "execution_count": null,
      "outputs": []
    },
    {
      "cell_type": "code",
      "source": [
        "def InverTree(self, root):\n",
        "    queue = coolections.deque([root])\n",
        "    while queue:\n",
        "        node = queue.popleft()\n",
        "        if node:\n",
        "            node.left, node.right = node.right , node.left\n",
        "            queue.append(node.left)\n",
        "            queue.append(node.right)\n",
        "    return root"
      ],
      "metadata": {
        "id": "kkezTGrRznc0"
      },
      "execution_count": null,
      "outputs": []
    },
    {
      "cell_type": "code",
      "source": [
        "def InverTree(self, root):\n",
        "    stack = coolections.deque([root])\n",
        "    while queue:\n",
        "        node = stack.pop()\n",
        "        if node:\n",
        "            node.left, node.right = node.right , node.left\n",
        "            stack.append(node.left)\n",
        "            stack.append(node.right)\n",
        "    return root"
      ],
      "metadata": {
        "id": "nEwLNBC3z3FT"
      },
      "execution_count": null,
      "outputs": []
    },
    {
      "cell_type": "code",
      "source": [
        "def InverTree(self, root):\n",
        "    stack = coolections.deque([root])\n",
        "    while queue:\n",
        "        node = stack.pop()\n",
        "        if node:\n",
        "            stack.append(node.left)\n",
        "            stack.append(node.right)\n",
        "            node.left, node.right = node.right , node.left # 후위 순위\n",
        "    return root"
      ],
      "metadata": {
        "id": "7vwRZDLH0Ajt"
      },
      "execution_count": null,
      "outputs": []
    },
    {
      "cell_type": "markdown",
      "source": [
        "# 두 이진 트리 병합"
      ],
      "metadata": {
        "id": "KM8Jx5vo3T8V"
      }
    },
    {
      "cell_type": "code",
      "source": [
        "def mergeTrees(self,t1,t2):\n",
        "    if t1 and t2:\n",
        "        node = TreeNode(t1.val + t2.val)\n",
        "        node.left = self.mergeTrees(t1.left, t2.left)\n",
        "        node.right = self.mergeTrees(t1.right, t2.right)\n",
        "        return node\n",
        "    else:\n",
        "        return t1 or t2 "
      ],
      "metadata": {
        "id": "j_LFyAX03WIZ"
      },
      "execution_count": null,
      "outputs": []
    },
    {
      "cell_type": "markdown",
      "source": [
        "# 이진 트리 직렬화 & 역직렬화"
      ],
      "metadata": {
        "id": "YI1GCLs04Gqr"
      }
    },
    {
      "cell_type": "code",
      "source": [
        "class Codec:\n",
        "    def serialize(self, root):\n",
        "        queue = collections.deque([root])\n",
        "        result = ['#']\n",
        "        while queue:\n",
        "            node = queuel.popleft()\n",
        "            if node:\n",
        "                queue.append(node.left)\n",
        "                queue.append(node.right)\n",
        "\n",
        "                result.append(str(node.val))\n",
        "            else:\n",
        "                result.append('#')\n",
        "        return ' '.join(result)\n",
        "    # 역직렬화\n",
        "    def deserialize(self, data):\n",
        "        if data == '# #':\n",
        "            return None\n",
        "        nodes = data.split()\n",
        "\n",
        "        root = TreeNode(int(nodes[1]))\n",
        "        queue = collections.deque([root])\n",
        "        index = 2\n",
        "        while queue:\n",
        "            node = queue.popleft()\n",
        "            if nodes[index] is not '#':\n",
        "                node.left = TreeNode(int(nodes[index]))\n",
        "                queue.append(node.left)\n",
        "            index += 1\n",
        "\n",
        "            if nodes[index] is not '#':\n",
        "                node.right = TreeNode(int[nodes[index]])\n",
        "                queue.append(node.right)\n",
        "            index += 1\n",
        "        return root"
      ],
      "metadata": {
        "id": "TrI8U7uD3meT"
      },
      "execution_count": null,
      "outputs": []
    },
    {
      "cell_type": "markdown",
      "source": [
        "# 균형 이진 트리"
      ],
      "metadata": {
        "id": "X2znGCE0tk9F"
      }
    },
    {
      "cell_type": "code",
      "source": [
        "node = [3,9,20,'null','null',15,7]"
      ],
      "metadata": {
        "id": "qFSMY5nA4TOZ"
      },
      "execution_count": null,
      "outputs": []
    },
    {
      "cell_type": "code",
      "source": [
        "def isBalanced(self,root):\n",
        "    def check(root):\n",
        "        if not root:\n",
        "            retrun 0\n",
        "        \n",
        "        left = check(root.left)\n",
        "        right = check(root.right)\n",
        "        if left == -1 or right == -1 or abs(left-right) > 1:\n",
        "            return -1\n",
        "        return max(left,right) + 1\n",
        "    return check(root) != -1"
      ],
      "metadata": {
        "id": "mcOQznYVtrJ2"
      },
      "execution_count": null,
      "outputs": []
    },
    {
      "cell_type": "markdown",
      "source": [
        "# 최소 높이 트리"
      ],
      "metadata": {
        "id": "v2Oy4X6Vwn5P"
      }
    },
    {
      "cell_type": "code",
      "source": [
        "n = 4 \n",
        "edges = [[1,0], [1,2], [1,3]]"
      ],
      "metadata": {
        "id": "9bG0PhU9wpw2"
      },
      "execution_count": null,
      "outputs": []
    },
    {
      "cell_type": "code",
      "source": [
        "def findeMinHeight(self, edges):\n",
        "    if n <= 1:\n",
        "        return [0]\n",
        "    graph = collections.defaultdict(list)\n",
        "    for i,j in edges:\n",
        "        graph[i].append(j)\n",
        "        graph[j].append(i)\n",
        "    \n",
        "    leaves = []\n",
        "    for i in range(n+1):\n",
        "        if len(graph[i]) == 1:\n",
        "            leaves.append(i)\n",
        "\n",
        "    while n > 2:\n",
        "        n -= len(leaves)\n",
        "        new_leaves = []\n",
        "        for leaf in leaves:\n",
        "            neighbor = graph[leaf].pop()\n",
        "            graph[neighbor].remove(leaf)\n",
        "\n",
        "            if len(graph[neighbor]) == 1:\n",
        "                new_leaves.append(neighbor)\n",
        "        leaves = new_leaves\n",
        "    return leaves"
      ],
      "metadata": {
        "id": "lmqo4ba8xEhp"
      },
      "execution_count": null,
      "outputs": []
    },
    {
      "cell_type": "code",
      "source": [
        ""
      ],
      "metadata": {
        "id": "8XczVm7oxrIj"
      },
      "execution_count": null,
      "outputs": []
    },
    {
      "cell_type": "markdown",
      "source": [
        "# 정렬된 배열의 이진 탐색 트리 변환"
      ],
      "metadata": {
        "id": "7s3826Dn3knM"
      }
    },
    {
      "cell_type": "code",
      "source": [
        "nums = [-10,-3,0,5,9]\n",
        "\n",
        "def sortedArrayToBST(self, nums):\n",
        "    if not nums:\n",
        "        return None\n",
        "    mid = len(nums) // 2\n",
        "    node = TreeNode(nums[mid])\n",
        "    node.left = self.sortedArrayToBST(nums[:mid])\n",
        "    node.right = self.sortedArrayToBST(nums[mid+1:])\n",
        "\n",
        "    return node"
      ],
      "metadata": {
        "id": "OBwmzsJk4lp6"
      },
      "execution_count": null,
      "outputs": []
    },
    {
      "cell_type": "code",
      "source": [
        "class TreeNode(object):\n",
        "    def __init__(self, x):\n",
        "        self.val = x\n",
        "        self.left = None\n",
        "        self.right = None\n",
        "\n",
        "mid = len(nums) // 2\n",
        "node = TreeNode(nums[mid])"
      ],
      "metadata": {
        "id": "xi-4ewAk5GhO"
      },
      "execution_count": null,
      "outputs": []
    },
    {
      "cell_type": "code",
      "source": [
        "node.left"
      ],
      "metadata": {
        "id": "hMTUlr8l5IkZ"
      },
      "execution_count": null,
      "outputs": []
    },
    {
      "cell_type": "markdown",
      "source": [
        "# 이진 탐색 트리(BST)를 더 큰 수 합계 트리로"
      ],
      "metadata": {
        "id": "_Zb2_s7L7EbV"
      }
    },
    {
      "cell_type": "code",
      "source": [
        "class Solution:\n",
        "    val: int = 0\n",
        "    def bstToGST(self, root: TreeNode) -> TreeNode:\n",
        "        if root:\n",
        "            self.bstToGst(root.right)\n",
        "            self.val += root.val\n",
        "            root.val = self.val\n",
        "            sefl.bstToGST(root.left)\n",
        "        return root"
      ],
      "metadata": {
        "id": "5A5vy60H7n2n"
      },
      "execution_count": null,
      "outputs": []
    },
    {
      "cell_type": "markdown",
      "source": [
        "# 이진 탐색 트리(BST) 합의 범위"
      ],
      "metadata": {
        "id": "ZNKu6mYWDX2J"
      }
    },
    {
      "cell_type": "code",
      "source": [
        "root = [10,5,15,3,7,'null',18]\n",
        "L = 7\n",
        "R = 15"
      ],
      "metadata": {
        "id": "_lvKfkq-DaAh"
      },
      "execution_count": null,
      "outputs": []
    },
    {
      "cell_type": "code",
      "source": [
        "def rangeSumBST(self, root,L,R):\n",
        "    if not root:\n",
        "        return 0\n",
        "    return (root.val if L <= root.val <= R else 0) + \\\n",
        "            self.rangeSumBST(root.left, L, R) + \\\n",
        "            self.rangeSumBST(root.right, L, R)"
      ],
      "metadata": {
        "id": "UCWRbQEdDdzp"
      },
      "execution_count": null,
      "outputs": []
    },
    {
      "cell_type": "code",
      "source": [
        "def ramgeSumBST(self, root, L, R):\n",
        "    def dfs(node):\n",
        "        if not node:\n",
        "            return 0\n",
        "        if node.val < L :\n",
        "            return dfs(node.right)\n",
        "        elif node.val > R:\n",
        "            return dfs(node.left)\n",
        "        return node.val + dfs(node.left) + dfs(node.right)\n",
        "    return dfs(root)\n"
      ],
      "metadata": {
        "id": "SnVhwVfBDvbU"
      },
      "execution_count": null,
      "outputs": []
    },
    {
      "cell_type": "code",
      "source": [
        "def rangeSumBST(self,root,L,R):\n",
        "    stack, sum = [root], 0\n",
        "    while stack:\n",
        "        node = stack.pop()\n",
        "        if node:\n",
        "            if node.val > L :\n",
        "                stack.append(node.left)\n",
        "            if node.val < R:\n",
        "                satck.append(node.right)\n",
        "            if L <= node.val <= R:\n",
        "                sum += node.val\n",
        "    return sum"
      ],
      "metadata": {
        "id": "DNO4Y8UCEFx6"
      },
      "execution_count": null,
      "outputs": []
    },
    {
      "cell_type": "code",
      "source": [
        "def rangeSumBST(self,root,L,R):\n",
        "    stack, sum = [root], 0\n",
        "    while stack:\n",
        "        node = stack.pop(0)\n",
        "        if node:\n",
        "            if node.val > L:\n",
        "                stack.append(node.left)\n",
        "            if node.val < R:\n",
        "                stack.append(node.right)\n",
        "            if L <= node.val <= R:\n",
        "                sum += node.val\n",
        "    return sum"
      ],
      "metadata": {
        "id": "vrOOWi-CEbZ6"
      },
      "execution_count": null,
      "outputs": []
    },
    {
      "cell_type": "markdown",
      "source": [
        "# 이진 탐색 트리(BST) 노드 간 최소 거리"
      ],
      "metadata": {
        "id": "VRhZxIndijbY"
      }
    },
    {
      "cell_type": "code",
      "source": [
        "root = [4,2,6,1,3,'null','null']"
      ],
      "metadata": {
        "id": "IgT7pV0dEp6j"
      },
      "execution_count": null,
      "outputs": []
    },
    {
      "cell_type": "code",
      "source": [
        "class Solution:\n",
        "    prev = -sys.maxsize\n",
        "    result = sys.maxsize\n",
        "\n",
        "    def minDiffInBST(self, root:TreeNode):\n",
        "        if root.left:\n",
        "            self.minDiffInBST(root.left)\n",
        "        self.result = min(self.result, root.val - self.prev)\n",
        "        self.prev = root.val\n",
        "\n",
        "        if root.right:\n",
        "            self.minDiffInBST(root.right)\n",
        "\n",
        "        return self.result"
      ],
      "metadata": {
        "id": "Sd_G0XwhjhUx"
      },
      "execution_count": null,
      "outputs": []
    },
    {
      "cell_type": "code",
      "source": [
        "def minDiffInBST(self,TreeNode):\n",
        "    prev = -sys.maxsize\n",
        "    result = sys.maxsize\n",
        "\n",
        "    stack = []\n",
        "    node = root\n",
        "\n",
        "    while stack or node:\n",
        "        while node:\n",
        "            stack.append(node)\n",
        "            node = node.left\n",
        "\n",
        "        node = stack.pop()\n",
        "\n",
        "        result = min(result, node.val - prev)\n",
        "        prev = node.val\n",
        "\n",
        "        node = node.right\n",
        "    return result"
      ],
      "metadata": {
        "id": "Zi0VuioVjkHi"
      },
      "execution_count": null,
      "outputs": []
    },
    {
      "cell_type": "markdown",
      "source": [
        "# 전위, 중위 순회 결과로 이진 트리 구축"
      ],
      "metadata": {
        "id": "vtsP-Qqoy0Lz"
      }
    },
    {
      "cell_type": "code",
      "source": [
        "node = [3,9,20,15,7]"
      ],
      "metadata": {
        "id": "_LTtuGN6zJB3"
      },
      "execution_count": null,
      "outputs": []
    },
    {
      "cell_type": "code",
      "source": [
        "def buildTree(self, preorder, inorder):\n",
        "    if inorder:\n",
        "        index = inorder.index(preorder.pop(0))\n",
        "\n",
        "        node = TreeNode(inorder[index])\n",
        "        node.left = self.buildTree(preorder, inorder[0:index])\n",
        "        node.right = self.buildTree(preorder, inorder[index+1])\n",
        "\n",
        "        return node"
      ],
      "metadata": {
        "id": "FevWwjE4zLTY"
      },
      "execution_count": null,
      "outputs": []
    },
    {
      "cell_type": "markdown",
      "source": [
        "# 배열의 K번째 큰 요소"
      ],
      "metadata": {
        "id": "mpnv22-u1SqT"
      }
    },
    {
      "cell_type": "code",
      "source": [
        "nums = [3,2,3,1,2,4,5,5,6]\n",
        "k = 4"
      ],
      "metadata": {
        "id": "CoMI89w6zw4x"
      },
      "execution_count": null,
      "outputs": []
    },
    {
      "cell_type": "code",
      "source": [
        "def findKthLagest(nums,k):\n",
        "    heap = list()\n",
        "    for n in nums:\n",
        "        heapq.heappush(heap,-n)\n",
        "        print(heap)\n",
        "    \n",
        "    for _ in range(1,k):\n",
        "        heapq.heappop(heap)\n",
        "        print('#',heap)\n",
        "    \n",
        "    return -heapq.heappop(heap)"
      ],
      "metadata": {
        "id": "lwBp5eJS1ZR_"
      },
      "execution_count": null,
      "outputs": []
    },
    {
      "cell_type": "code",
      "source": [
        "import heapq\n",
        "findKthLagest(nums,k)"
      ],
      "metadata": {
        "colab": {
          "base_uri": "https://localhost:8080/"
        },
        "id": "x1UCT7Di1v3R",
        "outputId": "a0ebda4b-5921-420f-9e60-e8ed99363deb"
      },
      "execution_count": null,
      "outputs": [
        {
          "output_type": "stream",
          "name": "stdout",
          "text": [
            "[-3]\n",
            "[-3, -2]\n",
            "[-3, -2, -3]\n",
            "[-3, -2, -3, -1]\n",
            "[-3, -2, -3, -1, -2]\n",
            "[-4, -2, -3, -1, -2, -3]\n",
            "[-5, -2, -4, -1, -2, -3, -3]\n",
            "[-5, -5, -4, -2, -2, -3, -3, -1]\n",
            "[-6, -5, -4, -5, -2, -3, -3, -1, -2]\n",
            "# [-5, -5, -4, -2, -2, -3, -3, -1]\n",
            "# [-5, -2, -4, -2, -1, -3, -3]\n",
            "# [-4, -2, -3, -2, -1, -3]\n"
          ]
        },
        {
          "output_type": "execute_result",
          "data": {
            "text/plain": [
              "4"
            ]
          },
          "metadata": {},
          "execution_count": 16
        }
      ]
    },
    {
      "cell_type": "code",
      "source": [
        "def findKthLagest(nums,k):\n",
        "    heapq.heapify(nums)\n",
        "\n",
        "    for _ in range(len(nums) - k):\n",
        "        heapq.heappop(nums)\n",
        "\n",
        "    return heapq.heappop(nums)"
      ],
      "metadata": {
        "id": "hf9fv7Yf1xva"
      },
      "execution_count": null,
      "outputs": []
    },
    {
      "cell_type": "code",
      "source": [
        "findKthLagest(nums,k)"
      ],
      "metadata": {
        "colab": {
          "base_uri": "https://localhost:8080/"
        },
        "id": "RMBBDhsZ3ISw",
        "outputId": "bed1da4b-fd3d-45fe-9578-4f9809b87436"
      },
      "execution_count": null,
      "outputs": [
        {
          "output_type": "execute_result",
          "data": {
            "text/plain": [
              "4"
            ]
          },
          "metadata": {},
          "execution_count": 21
        }
      ]
    },
    {
      "cell_type": "code",
      "source": [
        "nums = [3,2,3,1,2,4,5,5,6]\n",
        "\n",
        "def findKthLagest(nums,k):\n",
        "    return heapq.nlargest(k,nums)[-1]"
      ],
      "metadata": {
        "id": "_PDLlx2A3LfI"
      },
      "execution_count": null,
      "outputs": []
    },
    {
      "cell_type": "code",
      "source": [
        "findKthLagest(nums,k)"
      ],
      "metadata": {
        "colab": {
          "base_uri": "https://localhost:8080/"
        },
        "id": "Hhaw1SI53ax8",
        "outputId": "142f4c0d-1920-480d-a2d9-a4314d1c6ead"
      },
      "execution_count": null,
      "outputs": [
        {
          "output_type": "execute_result",
          "data": {
            "text/plain": [
              "4"
            ]
          },
          "metadata": {},
          "execution_count": 28
        }
      ]
    },
    {
      "cell_type": "code",
      "source": [
        "nums = [3,2,3,1,2,4,5,5,6]\n",
        "\n",
        "def findKthLagest(nums,k):\n",
        "    return sorted(nums, reverse=True)[k-1]"
      ],
      "metadata": {
        "id": "02WRAEdm3cAG"
      },
      "execution_count": null,
      "outputs": []
    },
    {
      "cell_type": "code",
      "source": [
        "sorted(nums, reverse=True)[3]"
      ],
      "metadata": {
        "colab": {
          "base_uri": "https://localhost:8080/"
        },
        "id": "08VGawsP3lK1",
        "outputId": "73217fbe-c4c9-45af-8cf2-e707c7965919"
      },
      "execution_count": null,
      "outputs": [
        {
          "output_type": "execute_result",
          "data": {
            "text/plain": [
              "4"
            ]
          },
          "metadata": {},
          "execution_count": 31
        }
      ]
    },
    {
      "cell_type": "markdown",
      "source": [
        "# 트라이 구현"
      ],
      "metadata": {
        "id": "6u4ZcW9O_I__"
      }
    },
    {
      "cell_type": "code",
      "source": [
        "class TrieNode:\n",
        "    def __init__(self):\n",
        "        self.word = False\n",
        "        self.children = collections.defaultdict(TrieNode)\n",
        "\n",
        "class Trie:\n",
        "    def __init__(self):\n",
        "        self.root = TrieNode()\n",
        "\n",
        "    def insert(self, word):\n",
        "        node = self.root\n",
        "        for char in word:\n",
        "            node = node.children[char]\n",
        "        node.word = True\n",
        "    \n",
        "    def search(self, word):\n",
        "        node = self.root\n",
        "        for char in word:\n",
        "            if char not in node.children:\n",
        "                return False\n",
        "            node = node.children[char]\n",
        "        return node.word\n",
        "    \n",
        "    def startsWith(self, prefix):\n",
        "        node = self.root\n",
        "        for char in prefix:\n",
        "            if char not in node.children:\n",
        "                return False\n",
        "            node = node.children[char]\n",
        "        return True"
      ],
      "metadata": {
        "id": "HdyLAulI3mRJ"
      },
      "execution_count": null,
      "outputs": []
    },
    {
      "cell_type": "markdown",
      "source": [
        "# 펠린드롬 페어"
      ],
      "metadata": {
        "id": "RUMGMHcUylIC"
      }
    },
    {
      "cell_type": "code",
      "source": [
        "def palindromePairs(sefl,words):\n",
        "    def is_palindrome(word):\n",
        "        return word == word[::-1]\n",
        "    \n",
        "    output = []\n",
        "    for i, word1 in enumerate(words):\n",
        "        for j, word2 in enumerate(words):\n",
        "            if i == j:\n",
        "                continue\n",
        "            if is_palindrome(word1+word2):\n",
        "                output.append([i,j])\n",
        "    return output"
      ],
      "metadata": {
        "id": "Rx6yp-NcAEWg"
      },
      "execution_count": null,
      "outputs": []
    },
    {
      "cell_type": "code",
      "source": [
        "class TrieNode:\n",
        "    def __init__(self):\n",
        "        self.children = collections.defaultdict(TrieNode)\n",
        "        self.word_id = -1\n",
        "        self.palindrome_word_ids = []\n",
        "\n",
        "class Trie:\n",
        "    def __init__(self):\n",
        "        self.root = TrieNode()\n",
        "\n",
        "    @staticmethod\n",
        "    def is_palindrome(word):\n",
        "        return word[::] == word[::-1]\n",
        "    \n",
        "    def insert(self,index,word):\n",
        "        node = self.root\n",
        "        for i,char in enumerate(reversed(word)):\n",
        "            if self.is_palindrome(word[0:len(word) - i]):\n",
        "                node.palindrome_word_ids.append(index)\n",
        "            node = node.children[char]\n",
        "        node.word_id = index\n",
        "\n",
        "    def search(self,index,word):\n",
        "        result = []\n",
        "        node = self.root\n",
        "\n",
        "        while word:\n",
        "            if node.word_id >= 0:\n",
        "                if self.is_palindrome(word):\n",
        "                    result.append([index, node.word_id])\n",
        "            if not word[0] in node.children:\n",
        "                return result\n",
        "            node = node.children[word[0]]\n",
        "            word = word[1:]\n",
        "\n",
        "        if node.word_id >= 0 and node.word_id != index:\n",
        "            result.append([index, node.word_id])\n",
        "        return result\n",
        "\n",
        "class Solution:\n",
        "    def palindromePairs(self, words):\n",
        "        tire = Trie()\n",
        "\n",
        "        for i,word in enumerate(words):\n",
        "            trie.insert(i,word)\n",
        "\n",
        "        results = []\n",
        "        for i,word in enumerate(words):\n",
        "            results.extend(trie.search(i,word))\n",
        "\n",
        "        return results"
      ],
      "metadata": {
        "id": "KaXipCgVy6Qd"
      },
      "execution_count": null,
      "outputs": []
    },
    {
      "cell_type": "markdown",
      "source": [
        "# 리스트 정렬"
      ],
      "metadata": {
        "id": "bikKoRkIZAI5"
      }
    },
    {
      "cell_type": "code",
      "source": [
        "def mergeTwoLists(self, l1,l2):\n",
        "    if l1 and l2:\n",
        "        if l1.val > l2.val:\n",
        "            l1, l2 = l2, let1\n",
        "        l1.next = self.mergeTwoLists(l1.next, l2)\n",
        "    return l1 or let2\n",
        "\n",
        "def sortList(self, head):\n",
        "    if not (head and head.next):\n",
        "        return head\n",
        "\n",
        "    half, slow, fast = None, head, head\n",
        "    while fast and fast.next:\n",
        "        half, slow, fast = slow, slow.next, fast.next.next\n",
        "    hlaf.next = None\n",
        "\n",
        "    l1 = self.sortList(head)\n",
        "    l2 = self.sortList(slow)\n",
        "\n",
        "    return self.mergeTwoLists(l1,l2)"
      ],
      "metadata": {
        "id": "dv0z9gDuZgmH"
      },
      "execution_count": null,
      "outputs": []
    },
    {
      "cell_type": "code",
      "source": [
        "def sortList(self, head):\n",
        "    p = head\n",
        "    lst = []\n",
        "    while p:\n",
        "        lst.append(p.val)\n",
        "        p = p.next\n",
        "\n",
        "    lst.sort()\n",
        "\n",
        "    p = head\n",
        "    for i in range(len(lst)):\n",
        "        p.val = lst[i]\n",
        "        p = p.next\n",
        "    return head"
      ],
      "metadata": {
        "id": "FTMhvOGhaAVh"
      },
      "execution_count": null,
      "outputs": []
    },
    {
      "cell_type": "markdown",
      "source": [
        "# 구간 병합"
      ],
      "metadata": {
        "id": "Bk9uIj2rwBaA"
      }
    },
    {
      "cell_type": "code",
      "source": [
        "intervals = [[1,3],[2,6],[8,10],[15,18]]"
      ],
      "metadata": {
        "id": "u96Om2rgwKax"
      },
      "execution_count": 1,
      "outputs": []
    },
    {
      "cell_type": "code",
      "source": [
        "def merge(self,intervals):\n",
        "    merged = []\n",
        "    for i in sorted(intervals, key = lambda x: x[0]):\n",
        "        if merged and i[0] <= merged[-1][1]:\n",
        "            merged[-1][1] = max(merged[-1][1], i[1])\n",
        "    else:\n",
        "        merged += i,\n",
        "\n",
        "    return merged"
      ],
      "metadata": {
        "id": "j_jmIqiiwRHe"
      },
      "execution_count": 2,
      "outputs": []
    },
    {
      "cell_type": "markdown",
      "source": [
        "# 삽입 정렬 리스트"
      ],
      "metadata": {
        "id": "EAVBDh-LwsRL"
      }
    },
    {
      "cell_type": "code",
      "source": [
        "def insertionSortList(self,head):\n",
        "    cur = parent = ListNode(None)\n",
        "    while head:\n",
        "        while cur.next and cur.next.val < head.val:\n",
        "            cur = cur.next\n",
        "\n",
        "        cur.next, head.next, head = head, cur.next, head.next\n",
        "\n",
        "        cur = parent\n",
        "    return cur.next"
      ],
      "metadata": {
        "id": "p6bM_AI1wrr8"
      },
      "execution_count": 3,
      "outputs": []
    },
    {
      "cell_type": "code",
      "source": [
        "def insertionSortList(self,head):\n",
        "    cur = parent = ListNode(0)\n",
        "    while head:\n",
        "        while cur.next and cur.next.val < head.val:\n",
        "            cur = cur.next\n",
        "\n",
        "        cur.next, head.next, head = head, cur.next, head.next\n",
        "\n",
        "        if head and cur.val > head.val:\n",
        "            cur = parent\n",
        "    return parent.next"
      ],
      "metadata": {
        "id": "QtvgP38qxLth"
      },
      "execution_count": 4,
      "outputs": []
    },
    {
      "cell_type": "markdown",
      "source": [
        "# 가장 큰 수 "
      ],
      "metadata": {
        "id": "KXfSsN2nxita"
      }
    },
    {
      "cell_type": "code",
      "source": [
        "nums = [10,2]"
      ],
      "metadata": {
        "id": "B5yH0brBxhmk"
      },
      "execution_count": 5,
      "outputs": []
    },
    {
      "cell_type": "code",
      "source": [
        "class Solution:\n",
        "    @staticmethod\n",
        "    def to_swap(n1,n2):\n",
        "        return str(n1) + str(n2) < str(n2) + str(n1)\n",
        "    def largestNumber(self, nums):\n",
        "        i = 1\n",
        "        while i < len(nums):\n",
        "            j = i\n",
        "            while j > 0 and self.to_swap(nums[j-1] , nums[j]):\n",
        "                nums[j], nums[j - 1] = nums[j-1], nums[j]\n",
        "                j -= 1\n",
        "            i += 1\n",
        "\n",
        "        return str(int(''.join(map(str,nums))))                                                "
      ],
      "metadata": {
        "id": "FLdpIUEmxmmW"
      },
      "execution_count": 6,
      "outputs": []
    },
    {
      "cell_type": "markdown",
      "source": [
        "# 유효한 애너그램"
      ],
      "metadata": {
        "id": "y7SRpqrfyNrN"
      }
    },
    {
      "cell_type": "code",
      "source": [
        "s = \"anagram\"\n",
        "t = \"nagaram\""
      ],
      "metadata": {
        "id": "cMOia3QeyNHt"
      },
      "execution_count": 7,
      "outputs": []
    },
    {
      "cell_type": "code",
      "source": [
        "def isAnagram(self, s, t):\n",
        "    return sorted(s) == sorted(t)"
      ],
      "metadata": {
        "id": "AneqfirhyS8G"
      },
      "execution_count": 8,
      "outputs": []
    },
    {
      "cell_type": "markdown",
      "source": [
        "# 색 정렬"
      ],
      "metadata": {
        "id": "e-ucgjv_yZPK"
      }
    },
    {
      "cell_type": "code",
      "source": [
        ""
      ],
      "metadata": {
        "id": "0JFv21rVyYuE"
      },
      "execution_count": null,
      "outputs": []
    }
  ]
}