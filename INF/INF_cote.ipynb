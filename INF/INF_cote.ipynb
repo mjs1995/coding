{
  "nbformat": 4,
  "nbformat_minor": 0,
  "metadata": {
    "colab": {
      "name": "INF_cote.ipynb",
      "provenance": [],
      "collapsed_sections": [
        "Mjo6d-bou1Bx"
      ],
      "authorship_tag": "ABX9TyO0ij3ttDuFRWd3HNMVPFGB",
      "include_colab_link": true
    },
    "kernelspec": {
      "name": "python3",
      "display_name": "Python 3"
    },
    "language_info": {
      "name": "python"
    }
  },
  "cells": [
    {
      "cell_type": "markdown",
      "metadata": {
        "id": "view-in-github",
        "colab_type": "text"
      },
      "source": [
        "<a href=\"https://colab.research.google.com/github/mjs1995/coding/blob/main/INF/INF_cote.ipynb\" target=\"_parent\"><img src=\"https://colab.research.google.com/assets/colab-badge.svg\" alt=\"Open In Colab\"/></a>"
      ]
    },
    {
      "cell_type": "markdown",
      "source": [
        "\n",
        "# 암호를 해독해라"
      ],
      "metadata": {
        "id": "Mjo6d-bou1Bx"
      }
    },
    {
      "cell_type": "code",
      "execution_count": 5,
      "metadata": {
        "id": "CWZIjyS0uwdX"
      },
      "outputs": [],
      "source": [
        "text = ['   + -- + - + -   ',\n",
        "        '   + --- + - +   ',\n",
        "        '   + -- + - + -   ',\n",
        "        '   + - + - + - +   '\n",
        " ]"
      ]
    },
    {
      "cell_type": "code",
      "source": [
        "for i in text:\n",
        "     print(int(i.strip().replace(' ', '').replace('+', '1').replace('-','0'), 2))"
      ],
      "metadata": {
        "colab": {
          "base_uri": "https://localhost:8080/"
        },
        "id": "Wi37zBpNu9cd",
        "outputId": "83319bec-a542-4419-b23d-a958e946faea"
      },
      "execution_count": 7,
      "outputs": [
        {
          "output_type": "stream",
          "name": "stdout",
          "text": [
            "74\n",
            "69\n",
            "74\n",
            "85\n"
          ]
        }
      ]
    },
    {
      "cell_type": "code",
      "source": [
        "# ord() : 문자 -> 숫자\n",
        "# chr() : 숫자 -> 문자 \n",
        "for i in text:\n",
        "     print(chr(int(i.strip().replace(' ', '').replace('+', '1').replace('-','0'), 2)))"
      ],
      "metadata": {
        "colab": {
          "base_uri": "https://localhost:8080/"
        },
        "id": "PzXJeghSvJ5_",
        "outputId": "4acacb4c-fb09-44bd-8381-04f7a5c88e2a"
      },
      "execution_count": 8,
      "outputs": [
        {
          "output_type": "stream",
          "name": "stdout",
          "text": [
            "J\n",
            "E\n",
            "J\n",
            "U\n"
          ]
        }
      ]
    },
    {
      "cell_type": "code",
      "source": [
        "l = []\n",
        "for i in text:\n",
        "     l.append((chr(int(i.strip().replace(' ', '').replace('+', '1').replace('-','0'), 2))))"
      ],
      "metadata": {
        "id": "LtA-KDhCv2cK"
      },
      "execution_count": 9,
      "outputs": []
    },
    {
      "cell_type": "code",
      "source": [
        "''.join(l)"
      ],
      "metadata": {
        "colab": {
          "base_uri": "https://localhost:8080/",
          "height": 35
        },
        "id": "Ir-zizmqv9Yb",
        "outputId": "d91729c2-5868-4e32-c7b4-76ab74b7ae2d"
      },
      "execution_count": 10,
      "outputs": [
        {
          "output_type": "execute_result",
          "data": {
            "application/vnd.google.colaboratory.intrinsic+json": {
              "type": "string"
            },
            "text/plain": [
              "'JEJU'"
            ]
          },
          "metadata": {},
          "execution_count": 10
        }
      ]
    },
    {
      "cell_type": "code",
      "source": [
        "[i for i in text]"
      ],
      "metadata": {
        "colab": {
          "base_uri": "https://localhost:8080/"
        },
        "id": "WFaf4tl7v-8o",
        "outputId": "b6fa534d-f7b7-44e7-b764-0ce1a60efbd8"
      },
      "execution_count": 11,
      "outputs": [
        {
          "output_type": "execute_result",
          "data": {
            "text/plain": [
              "['   + -- + - + -   ',\n",
              " '   + --- + - +   ',\n",
              " '   + -- + - + -   ',\n",
              " '   + - + - + - +   ']"
            ]
          },
          "metadata": {},
          "execution_count": 11
        }
      ]
    },
    {
      "cell_type": "code",
      "source": [
        "''.join([chr(int(i.strip().replace(' ', '').replace('+', '1').replace('-','0'), 2)) for i in text])"
      ],
      "metadata": {
        "colab": {
          "base_uri": "https://localhost:8080/",
          "height": 35
        },
        "id": "C9fu_hr3wBGF",
        "outputId": "92510d9a-26e1-45f9-ae83-ad5b38b88205"
      },
      "execution_count": 14,
      "outputs": [
        {
          "output_type": "execute_result",
          "data": {
            "application/vnd.google.colaboratory.intrinsic+json": {
              "type": "string"
            },
            "text/plain": [
              "'JEJU'"
            ]
          },
          "metadata": {},
          "execution_count": 14
        }
      ]
    },
    {
      "cell_type": "code",
      "source": [
        "[i for i in range(10) if i % 2 == 0]"
      ],
      "metadata": {
        "colab": {
          "base_uri": "https://localhost:8080/"
        },
        "id": "Jg9Ey8VDwSDX",
        "outputId": "db609410-8490-47bc-90fc-d3f5240a3522"
      },
      "execution_count": 16,
      "outputs": [
        {
          "output_type": "execute_result",
          "data": {
            "text/plain": [
              "[0, 2, 4, 6, 8]"
            ]
          },
          "metadata": {},
          "execution_count": 16
        }
      ]
    },
    {
      "cell_type": "code",
      "source": [
        "#[f'{i} X {j} = {i*j}' for i in range(2,10) for j in range(1,10)]"
      ],
      "metadata": {
        "id": "pA1HFk-GwXRM"
      },
      "execution_count": 18,
      "outputs": []
    },
    {
      "cell_type": "code",
      "source": [
        "'111'.zfill(10)"
      ],
      "metadata": {
        "colab": {
          "base_uri": "https://localhost:8080/",
          "height": 35
        },
        "id": "QSKnMozIwhVs",
        "outputId": "026eacfb-2fc6-4e54-e259-0a0d56beb5ab"
      },
      "execution_count": 20,
      "outputs": [
        {
          "output_type": "execute_result",
          "data": {
            "application/vnd.google.colaboratory.intrinsic+json": {
              "type": "string"
            },
            "text/plain": [
              "'0000000111'"
            ]
          },
          "metadata": {},
          "execution_count": 20
        }
      ]
    },
    {
      "cell_type": "code",
      "source": [
        "s = [i.strip().replace(' ', '').replace('+', '1').replace('-','0') for i in text]\n",
        "s"
      ],
      "metadata": {
        "colab": {
          "base_uri": "https://localhost:8080/"
        },
        "id": "3QSZMRJ6wryC",
        "outputId": "e99bdcc6-350d-4c02-c468-4ecb09aeefe8"
      },
      "execution_count": 23,
      "outputs": [
        {
          "output_type": "execute_result",
          "data": {
            "text/plain": [
              "['1001010', '1000101', '1001010', '1010101']"
            ]
          },
          "metadata": {},
          "execution_count": 23
        }
      ]
    },
    {
      "cell_type": "code",
      "source": [
        "list(map(lambda x : chr(int(x, 2)), s))"
      ],
      "metadata": {
        "colab": {
          "base_uri": "https://localhost:8080/"
        },
        "id": "6Eyu9FI2w_fq",
        "outputId": "e5c8e935-4664-4448-aae8-58c32c501017"
      },
      "execution_count": 24,
      "outputs": [
        {
          "output_type": "execute_result",
          "data": {
            "text/plain": [
              "['J', 'E', 'J', 'U']"
            ]
          },
          "metadata": {},
          "execution_count": 24
        }
      ]
    },
    {
      "cell_type": "code",
      "source": [
        "def f(x):\n",
        "    return (chr(int(x,2)))\n",
        "''.join(list(map(f,s)))"
      ],
      "metadata": {
        "colab": {
          "base_uri": "https://localhost:8080/",
          "height": 35
        },
        "id": "rOF05JzoxIzy",
        "outputId": "5407211e-06f2-4ef3-d500-2086f9edfb96"
      },
      "execution_count": 26,
      "outputs": [
        {
          "output_type": "execute_result",
          "data": {
            "application/vnd.google.colaboratory.intrinsic+json": {
              "type": "string"
            },
            "text/plain": [
              "'JEJU'"
            ]
          },
          "metadata": {},
          "execution_count": 26
        }
      ]
    },
    {
      "cell_type": "markdown",
      "source": [
        "# JAVA독과 함께"
      ],
      "metadata": {
        "id": "exXbOsSbxSS6"
      }
    },
    {
      "cell_type": "code",
      "source": [
        "돌의내구도 = [1, 2, 1, 4]\n",
        "독 = [{\n",
        "    \"이름\" : \"루비독\",\n",
        "    \"나이\" : \"95년생\",\n",
        "    \"점프력\" : \"3\",\n",
        "    \"몸무게\" : \"4\",\n",
        "    },{\n",
        "    \"이름\" : \"피치독\",\n",
        "    \"나이\" : \"95년생\",\n",
        "    \"점프력\" : \"3\",\n",
        "    \"몸무게\" : \"3\",\n",
        "    },{\n",
        "    \"이름\" : \"씨-독\",\n",
        "    \"나이\" : \"72년생\",\n",
        "    \"점프력\" : \"2\",\n",
        "    \"몸무게\" : \"1\",\n",
        "    },{\n",
        "    \"이름\" : \"코볼독\",\n",
        "    \"나이\" : \"59년생\",\n",
        "    \"점프력\" : \"1\",\n",
        "    \"몸무게\" : \"1\",\n",
        "    }]"
      ],
      "metadata": {
        "id": "TTdZ1VECxNDb"
      },
      "execution_count": 38,
      "outputs": []
    },
    {
      "cell_type": "code",
      "source": [
        "def 징검다리를건너라(돌의내구도, 독):\n",
        "    answer = [독[i]['이름'] for i in range(len(독))]\n",
        "    return answer \n",
        "\n",
        "print(징검다리를건너라(돌의내구도, 독))"
      ],
      "metadata": {
        "colab": {
          "base_uri": "https://localhost:8080/"
        },
        "id": "r8qKhtPBxxLu",
        "outputId": "b738062c-0711-4e26-c55b-7c4d47ba2fa0"
      },
      "execution_count": 33,
      "outputs": [
        {
          "output_type": "stream",
          "name": "stdout",
          "text": [
            "['루비독', '피치독', '씨-독', '코볼독']\n"
          ]
        }
      ]
    },
    {
      "cell_type": "code",
      "source": [
        "def 징검다리를건너라(돌의내구도, 독):\n",
        "    answer = [i['이름'] for i in 독]\n",
        "    for i in 독:\n",
        "        독의위치 = 0\n",
        "        while 독의위치 < len(돌의내구도)-1:\n",
        "            독의위치 += int(i['점프력'])\n",
        "            돌의내구도[독의위치-1] -= int(i['점프력'])\n",
        "            if 돌의내구도[독의위치-1] < 0:\n",
        "                del answer[answer.index(i['이름'])]\n",
        "                break\n",
        "    return answer\n",
        "\n",
        "print(징검다리를건너라(돌의내구도.copy(), 독.copy()))"
      ],
      "metadata": {
        "colab": {
          "base_uri": "https://localhost:8080/"
        },
        "id": "ooTpT88kx7zZ",
        "outputId": "5b264661-5d24-46f5-833f-fdfc0517708b"
      },
      "execution_count": 42,
      "outputs": [
        {
          "output_type": "stream",
          "name": "stdout",
          "text": [
            "['씨-독']\n"
          ]
        }
      ]
    },
    {
      "cell_type": "code",
      "source": [
        "ll = [1,2,3,4,5]\n",
        "def change(l):\n",
        "    l[0] = 1000\n",
        "change(ll)\n",
        "ll"
      ],
      "metadata": {
        "colab": {
          "base_uri": "https://localhost:8080/"
        },
        "id": "EDupROhrySvQ",
        "outputId": "5e59beb0-7606-482c-a8e0-baea11f93568"
      },
      "execution_count": 40,
      "outputs": [
        {
          "output_type": "execute_result",
          "data": {
            "text/plain": [
              "[1000, 2, 3, 4, 5]"
            ]
          },
          "metadata": {},
          "execution_count": 40
        }
      ]
    },
    {
      "cell_type": "code",
      "source": [
        "xx = 100\n",
        "\n",
        "def change(x):\n",
        "    x += 1000\n",
        "change(xx)\n",
        "xx"
      ],
      "metadata": {
        "colab": {
          "base_uri": "https://localhost:8080/"
        },
        "id": "-XAW1OTszFTE",
        "outputId": "23c154e3-1cab-4219-9e11-a6628f7dae96"
      },
      "execution_count": 41,
      "outputs": [
        {
          "output_type": "execute_result",
          "data": {
            "text/plain": [
              "100"
            ]
          },
          "metadata": {},
          "execution_count": 41
        }
      ]
    },
    {
      "cell_type": "code",
      "source": [
        "import json\n",
        "JSON독 = json.dumps(독, ensure_ascii=False)\n",
        "JSON독"
      ],
      "metadata": {
        "colab": {
          "base_uri": "https://localhost:8080/",
          "height": 72
        },
        "id": "EY05jWmBzJlH",
        "outputId": "a0fe4e4d-e343-417e-f86a-17a7e352bcfd"
      },
      "execution_count": 44,
      "outputs": [
        {
          "output_type": "execute_result",
          "data": {
            "application/vnd.google.colaboratory.intrinsic+json": {
              "type": "string"
            },
            "text/plain": [
              "'[{\"이름\": \"루비독\", \"나이\": \"95년생\", \"점프력\": \"3\", \"몸무게\": \"4\"}, {\"이름\": \"피치독\", \"나이\": \"95년생\", \"점프력\": \"3\", \"몸무게\": \"3\"}, {\"이름\": \"씨-독\", \"나이\": \"72년생\", \"점프력\": \"2\", \"몸무게\": \"1\"}, {\"이름\": \"코볼독\", \"나이\": \"59년생\", \"점프력\": \"1\", \"몸무게\": \"1\"}]'"
            ]
          },
          "metadata": {},
          "execution_count": 44
        }
      ]
    },
    {
      "cell_type": "code",
      "source": [
        "JSON독[0]"
      ],
      "metadata": {
        "colab": {
          "base_uri": "https://localhost:8080/",
          "height": 35
        },
        "id": "_I_zEFtSzpWP",
        "outputId": "8fabdb14-b460-406b-f941-b2ce07a3ac81"
      },
      "execution_count": 46,
      "outputs": [
        {
          "output_type": "execute_result",
          "data": {
            "application/vnd.google.colaboratory.intrinsic+json": {
              "type": "string"
            },
            "text/plain": [
              "'['"
            ]
          },
          "metadata": {},
          "execution_count": 46
        }
      ]
    },
    {
      "cell_type": "code",
      "source": [
        "#JSON독 = json.loads(JSON독)"
      ],
      "metadata": {
        "id": "iuO_yHERzwG7"
      },
      "execution_count": 50,
      "outputs": []
    },
    {
      "cell_type": "code",
      "source": [
        "JSON독"
      ],
      "metadata": {
        "colab": {
          "base_uri": "https://localhost:8080/"
        },
        "id": "v_HAT6Itz1TR",
        "outputId": "828344e6-53ae-41a2-e8d0-0d2ca7f5ed3c"
      },
      "execution_count": 48,
      "outputs": [
        {
          "output_type": "execute_result",
          "data": {
            "text/plain": [
              "[{'나이': '95년생', '몸무게': '4', '이름': '루비독', '점프력': '3'},\n",
              " {'나이': '95년생', '몸무게': '3', '이름': '피치독', '점프력': '3'},\n",
              " {'나이': '72년생', '몸무게': '1', '이름': '씨-독', '점프력': '2'},\n",
              " {'나이': '59년생', '몸무게': '1', '이름': '코볼독', '점프력': '1'}]"
            ]
          },
          "metadata": {},
          "execution_count": 48
        }
      ]
    },
    {
      "cell_type": "code",
      "source": [
        "JSON독[0]"
      ],
      "metadata": {
        "colab": {
          "base_uri": "https://localhost:8080/"
        },
        "id": "C7aD0M01z59m",
        "outputId": "f89766c5-2c6d-4ffc-ca10-7e5eb9be480c"
      },
      "execution_count": 51,
      "outputs": [
        {
          "output_type": "execute_result",
          "data": {
            "text/plain": [
              "{'나이': '95년생', '몸무게': '4', '이름': '루비독', '점프력': '3'}"
            ]
          },
          "metadata": {},
          "execution_count": 51
        }
      ]
    }
  ]
}