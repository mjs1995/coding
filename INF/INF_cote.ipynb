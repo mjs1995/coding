{
  "nbformat": 4,
  "nbformat_minor": 0,
  "metadata": {
    "colab": {
      "name": "INF_cote.ipynb",
      "provenance": [],
      "collapsed_sections": [
        "Mjo6d-bou1Bx"
      ],
      "authorship_tag": "ABX9TyNRYOKU+eFGS0T3aXzHYME4",
      "include_colab_link": true
    },
    "kernelspec": {
      "name": "python3",
      "display_name": "Python 3"
    },
    "language_info": {
      "name": "python"
    }
  },
  "cells": [
    {
      "cell_type": "markdown",
      "metadata": {
        "id": "view-in-github",
        "colab_type": "text"
      },
      "source": [
        "<a href=\"https://colab.research.google.com/github/mjs1995/coding/blob/main/INF/INF_cote.ipynb\" target=\"_parent\"><img src=\"https://colab.research.google.com/assets/colab-badge.svg\" alt=\"Open In Colab\"/></a>"
      ]
    },
    {
      "cell_type": "markdown",
      "source": [
        "\n",
        "# 암호를 해독해라"
      ],
      "metadata": {
        "id": "Mjo6d-bou1Bx"
      }
    },
    {
      "cell_type": "code",
      "execution_count": null,
      "metadata": {
        "id": "CWZIjyS0uwdX"
      },
      "outputs": [],
      "source": [
        "text = ['   + -- + - + -   ',\n",
        "        '   + --- + - +   ',\n",
        "        '   + -- + - + -   ',\n",
        "        '   + - + - + - +   '\n",
        " ]"
      ]
    },
    {
      "cell_type": "code",
      "source": [
        "for i in text:\n",
        "     print(int(i.strip().replace(' ', '').replace('+', '1').replace('-','0'), 2))"
      ],
      "metadata": {
        "colab": {
          "base_uri": "https://localhost:8080/"
        },
        "id": "Wi37zBpNu9cd",
        "outputId": "83319bec-a542-4419-b23d-a958e946faea"
      },
      "execution_count": null,
      "outputs": [
        {
          "output_type": "stream",
          "name": "stdout",
          "text": [
            "74\n",
            "69\n",
            "74\n",
            "85\n"
          ]
        }
      ]
    },
    {
      "cell_type": "code",
      "source": [
        "# ord() : 문자 -> 숫자\n",
        "# chr() : 숫자 -> 문자 \n",
        "for i in text:\n",
        "     print(chr(int(i.strip().replace(' ', '').replace('+', '1').replace('-','0'), 2)))"
      ],
      "metadata": {
        "colab": {
          "base_uri": "https://localhost:8080/"
        },
        "id": "PzXJeghSvJ5_",
        "outputId": "4acacb4c-fb09-44bd-8381-04f7a5c88e2a"
      },
      "execution_count": null,
      "outputs": [
        {
          "output_type": "stream",
          "name": "stdout",
          "text": [
            "J\n",
            "E\n",
            "J\n",
            "U\n"
          ]
        }
      ]
    },
    {
      "cell_type": "code",
      "source": [
        "l = []\n",
        "for i in text:\n",
        "     l.append((chr(int(i.strip().replace(' ', '').replace('+', '1').replace('-','0'), 2))))"
      ],
      "metadata": {
        "id": "LtA-KDhCv2cK"
      },
      "execution_count": null,
      "outputs": []
    },
    {
      "cell_type": "code",
      "source": [
        "''.join(l)"
      ],
      "metadata": {
        "colab": {
          "base_uri": "https://localhost:8080/",
          "height": 35
        },
        "id": "Ir-zizmqv9Yb",
        "outputId": "d91729c2-5868-4e32-c7b4-76ab74b7ae2d"
      },
      "execution_count": null,
      "outputs": [
        {
          "output_type": "execute_result",
          "data": {
            "application/vnd.google.colaboratory.intrinsic+json": {
              "type": "string"
            },
            "text/plain": [
              "'JEJU'"
            ]
          },
          "metadata": {},
          "execution_count": 10
        }
      ]
    },
    {
      "cell_type": "code",
      "source": [
        "[i for i in text]"
      ],
      "metadata": {
        "colab": {
          "base_uri": "https://localhost:8080/"
        },
        "id": "WFaf4tl7v-8o",
        "outputId": "b6fa534d-f7b7-44e7-b764-0ce1a60efbd8"
      },
      "execution_count": null,
      "outputs": [
        {
          "output_type": "execute_result",
          "data": {
            "text/plain": [
              "['   + -- + - + -   ',\n",
              " '   + --- + - +   ',\n",
              " '   + -- + - + -   ',\n",
              " '   + - + - + - +   ']"
            ]
          },
          "metadata": {},
          "execution_count": 11
        }
      ]
    },
    {
      "cell_type": "code",
      "source": [
        "''.join([chr(int(i.strip().replace(' ', '').replace('+', '1').replace('-','0'), 2)) for i in text])"
      ],
      "metadata": {
        "colab": {
          "base_uri": "https://localhost:8080/",
          "height": 35
        },
        "id": "C9fu_hr3wBGF",
        "outputId": "92510d9a-26e1-45f9-ae83-ad5b38b88205"
      },
      "execution_count": null,
      "outputs": [
        {
          "output_type": "execute_result",
          "data": {
            "application/vnd.google.colaboratory.intrinsic+json": {
              "type": "string"
            },
            "text/plain": [
              "'JEJU'"
            ]
          },
          "metadata": {},
          "execution_count": 14
        }
      ]
    },
    {
      "cell_type": "code",
      "source": [
        "[i for i in range(10) if i % 2 == 0]"
      ],
      "metadata": {
        "colab": {
          "base_uri": "https://localhost:8080/"
        },
        "id": "Jg9Ey8VDwSDX",
        "outputId": "db609410-8490-47bc-90fc-d3f5240a3522"
      },
      "execution_count": null,
      "outputs": [
        {
          "output_type": "execute_result",
          "data": {
            "text/plain": [
              "[0, 2, 4, 6, 8]"
            ]
          },
          "metadata": {},
          "execution_count": 16
        }
      ]
    },
    {
      "cell_type": "code",
      "source": [
        "#[f'{i} X {j} = {i*j}' for i in range(2,10) for j in range(1,10)]"
      ],
      "metadata": {
        "id": "pA1HFk-GwXRM"
      },
      "execution_count": null,
      "outputs": []
    },
    {
      "cell_type": "code",
      "source": [
        "'111'.zfill(10)"
      ],
      "metadata": {
        "colab": {
          "base_uri": "https://localhost:8080/",
          "height": 35
        },
        "id": "QSKnMozIwhVs",
        "outputId": "026eacfb-2fc6-4e54-e259-0a0d56beb5ab"
      },
      "execution_count": null,
      "outputs": [
        {
          "output_type": "execute_result",
          "data": {
            "application/vnd.google.colaboratory.intrinsic+json": {
              "type": "string"
            },
            "text/plain": [
              "'0000000111'"
            ]
          },
          "metadata": {},
          "execution_count": 20
        }
      ]
    },
    {
      "cell_type": "code",
      "source": [
        "s = [i.strip().replace(' ', '').replace('+', '1').replace('-','0') for i in text]\n",
        "s"
      ],
      "metadata": {
        "colab": {
          "base_uri": "https://localhost:8080/"
        },
        "id": "3QSZMRJ6wryC",
        "outputId": "e99bdcc6-350d-4c02-c468-4ecb09aeefe8"
      },
      "execution_count": null,
      "outputs": [
        {
          "output_type": "execute_result",
          "data": {
            "text/plain": [
              "['1001010', '1000101', '1001010', '1010101']"
            ]
          },
          "metadata": {},
          "execution_count": 23
        }
      ]
    },
    {
      "cell_type": "code",
      "source": [
        "list(map(lambda x : chr(int(x, 2)), s))"
      ],
      "metadata": {
        "colab": {
          "base_uri": "https://localhost:8080/"
        },
        "id": "6Eyu9FI2w_fq",
        "outputId": "e5c8e935-4664-4448-aae8-58c32c501017"
      },
      "execution_count": null,
      "outputs": [
        {
          "output_type": "execute_result",
          "data": {
            "text/plain": [
              "['J', 'E', 'J', 'U']"
            ]
          },
          "metadata": {},
          "execution_count": 24
        }
      ]
    },
    {
      "cell_type": "code",
      "source": [
        "def f(x):\n",
        "    return (chr(int(x,2)))\n",
        "''.join(list(map(f,s)))"
      ],
      "metadata": {
        "colab": {
          "base_uri": "https://localhost:8080/",
          "height": 35
        },
        "id": "rOF05JzoxIzy",
        "outputId": "5407211e-06f2-4ef3-d500-2086f9edfb96"
      },
      "execution_count": null,
      "outputs": [
        {
          "output_type": "execute_result",
          "data": {
            "application/vnd.google.colaboratory.intrinsic+json": {
              "type": "string"
            },
            "text/plain": [
              "'JEJU'"
            ]
          },
          "metadata": {},
          "execution_count": 26
        }
      ]
    },
    {
      "cell_type": "markdown",
      "source": [
        "# JAVA독과 함께"
      ],
      "metadata": {
        "id": "exXbOsSbxSS6"
      }
    },
    {
      "cell_type": "code",
      "source": [
        "돌의내구도 = [1, 2, 1, 4]\n",
        "독 = [{\n",
        "    \"이름\" : \"루비독\",\n",
        "    \"나이\" : \"95년생\",\n",
        "    \"점프력\" : \"3\",\n",
        "    \"몸무게\" : \"4\",\n",
        "    },{\n",
        "    \"이름\" : \"피치독\",\n",
        "    \"나이\" : \"95년생\",\n",
        "    \"점프력\" : \"3\",\n",
        "    \"몸무게\" : \"3\",\n",
        "    },{\n",
        "    \"이름\" : \"씨-독\",\n",
        "    \"나이\" : \"72년생\",\n",
        "    \"점프력\" : \"2\",\n",
        "    \"몸무게\" : \"1\",\n",
        "    },{\n",
        "    \"이름\" : \"코볼독\",\n",
        "    \"나이\" : \"59년생\",\n",
        "    \"점프력\" : \"1\",\n",
        "    \"몸무게\" : \"1\",\n",
        "    }]"
      ],
      "metadata": {
        "id": "TTdZ1VECxNDb"
      },
      "execution_count": null,
      "outputs": []
    },
    {
      "cell_type": "code",
      "source": [
        "def 징검다리를건너라(돌의내구도, 독):\n",
        "    answer = [독[i]['이름'] for i in range(len(독))]\n",
        "    return answer \n",
        "\n",
        "print(징검다리를건너라(돌의내구도, 독))"
      ],
      "metadata": {
        "colab": {
          "base_uri": "https://localhost:8080/"
        },
        "id": "r8qKhtPBxxLu",
        "outputId": "b738062c-0711-4e26-c55b-7c4d47ba2fa0"
      },
      "execution_count": null,
      "outputs": [
        {
          "output_type": "stream",
          "name": "stdout",
          "text": [
            "['루비독', '피치독', '씨-독', '코볼독']\n"
          ]
        }
      ]
    },
    {
      "cell_type": "code",
      "source": [
        "def 징검다리를건너라(돌의내구도, 독):\n",
        "    answer = [i['이름'] for i in 독]\n",
        "    for i in 독:\n",
        "        독의위치 = 0\n",
        "        while 독의위치 < len(돌의내구도)-1:\n",
        "            독의위치 += int(i['점프력'])\n",
        "            돌의내구도[독의위치-1] -= int(i['점프력'])\n",
        "            if 돌의내구도[독의위치-1] < 0:\n",
        "                del answer[answer.index(i['이름'])]\n",
        "                break\n",
        "    return answer\n",
        "\n",
        "print(징검다리를건너라(돌의내구도.copy(), 독.copy()))"
      ],
      "metadata": {
        "colab": {
          "base_uri": "https://localhost:8080/"
        },
        "id": "ooTpT88kx7zZ",
        "outputId": "5b264661-5d24-46f5-833f-fdfc0517708b"
      },
      "execution_count": null,
      "outputs": [
        {
          "output_type": "stream",
          "name": "stdout",
          "text": [
            "['씨-독']\n"
          ]
        }
      ]
    },
    {
      "cell_type": "code",
      "source": [
        "ll = [1,2,3,4,5]\n",
        "def change(l):\n",
        "    l[0] = 1000\n",
        "change(ll)\n",
        "ll"
      ],
      "metadata": {
        "colab": {
          "base_uri": "https://localhost:8080/"
        },
        "id": "EDupROhrySvQ",
        "outputId": "5e59beb0-7606-482c-a8e0-baea11f93568"
      },
      "execution_count": null,
      "outputs": [
        {
          "output_type": "execute_result",
          "data": {
            "text/plain": [
              "[1000, 2, 3, 4, 5]"
            ]
          },
          "metadata": {},
          "execution_count": 40
        }
      ]
    },
    {
      "cell_type": "code",
      "source": [
        "xx = 100\n",
        "\n",
        "def change(x):\n",
        "    x += 1000\n",
        "change(xx)\n",
        "xx"
      ],
      "metadata": {
        "colab": {
          "base_uri": "https://localhost:8080/"
        },
        "id": "-XAW1OTszFTE",
        "outputId": "23c154e3-1cab-4219-9e11-a6628f7dae96"
      },
      "execution_count": null,
      "outputs": [
        {
          "output_type": "execute_result",
          "data": {
            "text/plain": [
              "100"
            ]
          },
          "metadata": {},
          "execution_count": 41
        }
      ]
    },
    {
      "cell_type": "code",
      "source": [
        "import json\n",
        "JSON독 = json.dumps(독, ensure_ascii=False)\n",
        "JSON독"
      ],
      "metadata": {
        "colab": {
          "base_uri": "https://localhost:8080/",
          "height": 72
        },
        "id": "EY05jWmBzJlH",
        "outputId": "a0fe4e4d-e343-417e-f86a-17a7e352bcfd"
      },
      "execution_count": null,
      "outputs": [
        {
          "output_type": "execute_result",
          "data": {
            "application/vnd.google.colaboratory.intrinsic+json": {
              "type": "string"
            },
            "text/plain": [
              "'[{\"이름\": \"루비독\", \"나이\": \"95년생\", \"점프력\": \"3\", \"몸무게\": \"4\"}, {\"이름\": \"피치독\", \"나이\": \"95년생\", \"점프력\": \"3\", \"몸무게\": \"3\"}, {\"이름\": \"씨-독\", \"나이\": \"72년생\", \"점프력\": \"2\", \"몸무게\": \"1\"}, {\"이름\": \"코볼독\", \"나이\": \"59년생\", \"점프력\": \"1\", \"몸무게\": \"1\"}]'"
            ]
          },
          "metadata": {},
          "execution_count": 44
        }
      ]
    },
    {
      "cell_type": "code",
      "source": [
        "JSON독[0]"
      ],
      "metadata": {
        "colab": {
          "base_uri": "https://localhost:8080/",
          "height": 35
        },
        "id": "_I_zEFtSzpWP",
        "outputId": "8fabdb14-b460-406b-f941-b2ce07a3ac81"
      },
      "execution_count": null,
      "outputs": [
        {
          "output_type": "execute_result",
          "data": {
            "application/vnd.google.colaboratory.intrinsic+json": {
              "type": "string"
            },
            "text/plain": [
              "'['"
            ]
          },
          "metadata": {},
          "execution_count": 46
        }
      ]
    },
    {
      "cell_type": "code",
      "source": [
        "#JSON독 = json.loads(JSON독)"
      ],
      "metadata": {
        "id": "iuO_yHERzwG7"
      },
      "execution_count": null,
      "outputs": []
    },
    {
      "cell_type": "code",
      "source": [
        "JSON독"
      ],
      "metadata": {
        "colab": {
          "base_uri": "https://localhost:8080/"
        },
        "id": "v_HAT6Itz1TR",
        "outputId": "828344e6-53ae-41a2-e8d0-0d2ca7f5ed3c"
      },
      "execution_count": null,
      "outputs": [
        {
          "output_type": "execute_result",
          "data": {
            "text/plain": [
              "[{'나이': '95년생', '몸무게': '4', '이름': '루비독', '점프력': '3'},\n",
              " {'나이': '95년생', '몸무게': '3', '이름': '피치독', '점프력': '3'},\n",
              " {'나이': '72년생', '몸무게': '1', '이름': '씨-독', '점프력': '2'},\n",
              " {'나이': '59년생', '몸무게': '1', '이름': '코볼독', '점프력': '1'}]"
            ]
          },
          "metadata": {},
          "execution_count": 48
        }
      ]
    },
    {
      "cell_type": "code",
      "source": [
        "JSON독[0]"
      ],
      "metadata": {
        "colab": {
          "base_uri": "https://localhost:8080/"
        },
        "id": "C7aD0M01z59m",
        "outputId": "f89766c5-2c6d-4ffc-ca10-7e5eb9be480c"
      },
      "execution_count": null,
      "outputs": [
        {
          "output_type": "execute_result",
          "data": {
            "text/plain": [
              "{'나이': '95년생', '몸무게': '4', '이름': '루비독', '점프력': '3'}"
            ]
          },
          "metadata": {},
          "execution_count": 51
        }
      ]
    },
    {
      "cell_type": "markdown",
      "source": [
        "# 섬으로 건너가라 "
      ],
      "metadata": {
        "id": "RJAA03AAPMyk"
      }
    },
    {
      "cell_type": "code",
      "source": [
        "대기인원 = 14000605"
      ],
      "metadata": {
        "id": "KXMRYfOXPN1V"
      },
      "execution_count": null,
      "outputs": []
    },
    {
      "cell_type": "code",
      "source": [
        "대기일= 대기인원 // 1200\n",
        "대기일"
      ],
      "metadata": {
        "colab": {
          "base_uri": "https://localhost:8080/"
        },
        "id": "QYihVW15Pi42",
        "outputId": "8037c295-438a-429f-e824-4a562cc4aa74"
      },
      "execution_count": null,
      "outputs": [
        {
          "output_type": "execute_result",
          "data": {
            "text/plain": [
              "11667"
            ]
          },
          "metadata": {},
          "execution_count": 5
        }
      ]
    },
    {
      "cell_type": "code",
      "source": [
        "일년일수 = 0\n",
        "for i in range(10,0, -1):\n",
        "    print(2**i)\n",
        "    일년일수 += 2** i\n",
        "\n",
        "일년일수"
      ],
      "metadata": {
        "colab": {
          "base_uri": "https://localhost:8080/"
        },
        "id": "UT-FoGnyPjuz",
        "outputId": "840c5958-a042-475d-f150-cc3ec84b3b99"
      },
      "execution_count": null,
      "outputs": [
        {
          "output_type": "stream",
          "name": "stdout",
          "text": [
            "1024\n",
            "512\n",
            "256\n",
            "128\n",
            "64\n",
            "32\n",
            "16\n",
            "8\n",
            "4\n",
            "2\n"
          ]
        },
        {
          "output_type": "execute_result",
          "data": {
            "text/plain": [
              "2046"
            ]
          },
          "metadata": {},
          "execution_count": 4
        }
      ]
    },
    {
      "cell_type": "code",
      "source": [
        "# 5년 \n",
        "대기일 // 일년일수 "
      ],
      "metadata": {
        "colab": {
          "base_uri": "https://localhost:8080/"
        },
        "id": "UsVuMFxdPnnW",
        "outputId": "529f1ebf-1c00-42ae-e8e1-77fad21231ef"
      },
      "execution_count": null,
      "outputs": [
        {
          "output_type": "execute_result",
          "data": {
            "text/plain": [
              "5"
            ]
          },
          "metadata": {},
          "execution_count": 7
        }
      ]
    },
    {
      "cell_type": "code",
      "source": [
        "남은일수 = 대기일 % 일년일수 \n",
        "남은일수 "
      ],
      "metadata": {
        "colab": {
          "base_uri": "https://localhost:8080/"
        },
        "id": "mC5aRc6oPyPP",
        "outputId": "52e403b9-5b99-498d-e165-7a7538b6646e"
      },
      "execution_count": null,
      "outputs": [
        {
          "output_type": "execute_result",
          "data": {
            "text/plain": [
              "1437"
            ]
          },
          "metadata": {},
          "execution_count": 9
        }
      ]
    },
    {
      "cell_type": "code",
      "source": [
        "월별일수누적값 = 0\n",
        "월 = 0\n",
        "for i in range(10,0, -1):\n",
        "    차감일 = 월별일수누적값\n",
        "    월별일수누적값 += 2**i\n",
        "    월 += 1\n",
        "    if 월별일수누적값 > 남은일수 :\n",
        "        break\n",
        "월"
      ],
      "metadata": {
        "colab": {
          "base_uri": "https://localhost:8080/"
        },
        "id": "qtBKOsKxP3z0",
        "outputId": "67016cf9-8a3f-4e88-a97c-1c1d8c955518"
      },
      "execution_count": null,
      "outputs": [
        {
          "output_type": "execute_result",
          "data": {
            "text/plain": [
              "2"
            ]
          },
          "metadata": {},
          "execution_count": 14
        }
      ]
    },
    {
      "cell_type": "code",
      "source": [
        "남은일수 - 차감일"
      ],
      "metadata": {
        "colab": {
          "base_uri": "https://localhost:8080/"
        },
        "id": "La7v29LJQB8Y",
        "outputId": "b9705c97-c778-44d8-d5fe-1043ecf4696c"
      },
      "execution_count": null,
      "outputs": [
        {
          "output_type": "execute_result",
          "data": {
            "text/plain": [
              "413"
            ]
          },
          "metadata": {},
          "execution_count": 15
        }
      ]
    },
    {
      "cell_type": "code",
      "source": [
        "대기인원 % 1200"
      ],
      "metadata": {
        "colab": {
          "base_uri": "https://localhost:8080/"
        },
        "id": "2XScRwFyQTSd",
        "outputId": "3e9f16dc-8488-4bcc-fb07-c49793ac9748"
      },
      "execution_count": null,
      "outputs": [
        {
          "output_type": "execute_result",
          "data": {
            "text/plain": [
              "205"
            ]
          },
          "metadata": {},
          "execution_count": 16
        }
      ]
    },
    {
      "cell_type": "code",
      "source": [
        "# 224이 남았다고 생각해봅시다\n",
        "# 225 라이캣\n",
        "# - \n",
        "# 226 자바독 \n",
        "\n",
        "# 223이 남았다고 생각해봅시다\n",
        "# 224 225 \n",
        "\n",
        "# 225이 남았다고 생각해봅시다\n",
        "# -\n",
        "# 226 227"
      ],
      "metadata": {
        "id": "5HL9ZKx0QUcq"
      },
      "execution_count": null,
      "outputs": []
    },
    {
      "cell_type": "code",
      "source": [
        "최종남은인원 = 대기인원 % 1200\n",
        "최종남은인원 // 100 + 9"
      ],
      "metadata": {
        "colab": {
          "base_uri": "https://localhost:8080/"
        },
        "id": "IuNyLYygQhKS",
        "outputId": "36e1e0d8-e10f-4150-c2fb-09825abfba00"
      },
      "execution_count": null,
      "outputs": [
        {
          "output_type": "execute_result",
          "data": {
            "text/plain": [
              "11"
            ]
          },
          "metadata": {},
          "execution_count": 18
        }
      ]
    },
    {
      "cell_type": "code",
      "source": [
        "출발분 = [25, 40, 55, 70, 85, 100]\n",
        "몇분에탈지계산 = 98+1 # 경우에는 시간으로 넘어가 +1 해주기 \n",
        "for i in 출발분:\n",
        "    if i > 몇분에탈지계산:\n",
        "        당일출발_분= 출발분.index(i) * 10\n",
        "        break\n",
        "\n",
        "당일출발_분"
      ],
      "metadata": {
        "colab": {
          "base_uri": "https://localhost:8080/"
        },
        "id": "gVSbM0wfQkt0",
        "outputId": "444c792c-bb67-4c97-8378-e9220582bb98"
      },
      "execution_count": null,
      "outputs": [
        {
          "output_type": "execute_result",
          "data": {
            "text/plain": [
              "50"
            ]
          },
          "metadata": {},
          "execution_count": 20
        }
      ]
    },
    {
      "cell_type": "code",
      "source": [
        "!pip install datetime"
      ],
      "metadata": {
        "colab": {
          "base_uri": "https://localhost:8080/"
        },
        "id": "JB4ib16jRHMJ",
        "outputId": "29a84309-0d66-4db9-f9fe-61358ad43459"
      },
      "execution_count": null,
      "outputs": [
        {
          "output_type": "stream",
          "name": "stdout",
          "text": [
            "Collecting datetime\n",
            "  Downloading DateTime-4.3-py2.py3-none-any.whl (60 kB)\n",
            "\u001b[K     |████████████████████████████████| 60 kB 2.9 MB/s \n",
            "\u001b[?25hRequirement already satisfied: pytz in /usr/local/lib/python3.7/dist-packages (from datetime) (2018.9)\n",
            "Collecting zope.interface\n",
            "  Downloading zope.interface-5.4.0-cp37-cp37m-manylinux2010_x86_64.whl (251 kB)\n",
            "\u001b[K     |████████████████████████████████| 251 kB 7.4 MB/s \n",
            "\u001b[?25hRequirement already satisfied: setuptools in /usr/local/lib/python3.7/dist-packages (from zope.interface->datetime) (57.4.0)\n",
            "Installing collected packages: zope.interface, datetime\n",
            "Successfully installed datetime-4.3 zope.interface-5.4.0\n"
          ]
        }
      ]
    },
    {
      "cell_type": "code",
      "source": [
        "import datetime\n",
        "\n",
        "오늘시간 = datetime.datetime.today()\n",
        "오늘시간"
      ],
      "metadata": {
        "colab": {
          "base_uri": "https://localhost:8080/"
        },
        "id": "Se5cQYpyQ6m6",
        "outputId": "ac52f7ac-c6ce-4feb-e804-e1940daba2e4"
      },
      "execution_count": null,
      "outputs": [
        {
          "output_type": "execute_result",
          "data": {
            "text/plain": [
              "datetime.datetime(2022, 1, 2, 14, 50, 3, 900283)"
            ]
          },
          "metadata": {},
          "execution_count": 25
        }
      ]
    },
    {
      "cell_type": "code",
      "source": [
        "오늘시간.minute"
      ],
      "metadata": {
        "colab": {
          "base_uri": "https://localhost:8080/"
        },
        "id": "WbnVnf9jRFPT",
        "outputId": "63b37f17-50ae-4ce2-e2f1-34e2ffb6a67b"
      },
      "execution_count": null,
      "outputs": [
        {
          "output_type": "execute_result",
          "data": {
            "text/plain": [
              "50"
            ]
          },
          "metadata": {},
          "execution_count": 26
        }
      ]
    },
    {
      "cell_type": "code",
      "source": [
        "시간 = 1\n",
        "분 = 1\n",
        "f'{시간:0>2}:{분:0>2}'"
      ],
      "metadata": {
        "colab": {
          "base_uri": "https://localhost:8080/",
          "height": 35
        },
        "id": "_DYzdNOURKJF",
        "outputId": "a5ce55d8-f1c8-4242-b99a-1bf0e8046cd1"
      },
      "execution_count": null,
      "outputs": [
        {
          "output_type": "execute_result",
          "data": {
            "application/vnd.google.colaboratory.intrinsic+json": {
              "type": "string"
            },
            "text/plain": [
              "'01:01'"
            ]
          },
          "metadata": {},
          "execution_count": 28
        }
      ]
    },
    {
      "cell_type": "code",
      "source": [
        "'hello world'.zfill(20)"
      ],
      "metadata": {
        "colab": {
          "base_uri": "https://localhost:8080/",
          "height": 35
        },
        "id": "j0EtzUuKRVU5",
        "outputId": "cbb1a390-efbe-44d8-f549-34b4fac1d812"
      },
      "execution_count": null,
      "outputs": [
        {
          "output_type": "execute_result",
          "data": {
            "application/vnd.google.colaboratory.intrinsic+json": {
              "type": "string"
            },
            "text/plain": [
              "'000000000hello world'"
            ]
          },
          "metadata": {},
          "execution_count": 30
        }
      ]
    },
    {
      "cell_type": "code",
      "source": [
        "import datetime\n",
        "오늘시간 = datetime.datetime.today()\n",
        "대기인원 = 1400605\n",
        "\n",
        "def solution(대기인원):\n",
        "    일년일수 = 0\n",
        "    for i in range(10,0, -1):\n",
        "        일년일수 += 2** i\n",
        "    년 = (대기인원 // 1200) // 일년일수\n",
        "    남은일수 = (대기인원 // 1200) % 일년일수\n",
        "\n",
        "    월별일수누적값 = 0\n",
        "    월 = 0\n",
        "    for i in range(10,0, -1):\n",
        "        차감일 = 월별일수누적값\n",
        "        월별일수누적값 += 2**i\n",
        "        월 += 1\n",
        "        if 월별일수누적값 > 남은일수 :\n",
        "            break\n",
        "    일 = 남은일수 - 차감일\n",
        "    최종남은인원 = 대기인원 % 1200\n",
        "    시 = 최종남은인원 // 100 + 9 \n",
        "    \n",
        "    출발분 = [25, 40, 55, 70, 85, 100]\n",
        "    해당시간에남은인원 = 최종남은인원 % 100\n",
        "    for i in 출발분:\n",
        "        if i > 몇분에탈지계산:\n",
        "            분= 출발분.index(i) * 10\n",
        "            break\n",
        "\n",
        "    if 최종남은인원 % 100 == 99:\n",
        "        시 += 1\n",
        "        분 = 0\n",
        "\n",
        "    if(오늘시간.minute + 분 > 60):\n",
        "        분 = (오늘시간.minute + 분) - 60\n",
        "        시 +=1\n",
        "    \n",
        "    return f\"{년+2020}년 {월}월 {일}일 {시}시 {분}분 출발\"\n",
        "\n",
        "solution(대기인원)"
      ],
      "metadata": {
        "colab": {
          "base_uri": "https://localhost:8080/",
          "height": 35
        },
        "id": "R34PDOQURY-Y",
        "outputId": "f496a97e-53c3-44dd-9d0a-2210a9e76c97"
      },
      "execution_count": null,
      "outputs": [
        {
          "output_type": "execute_result",
          "data": {
            "application/vnd.google.colaboratory.intrinsic+json": {
              "type": "string"
            },
            "text/plain": [
              "'2020년 2월 143일 12시 48분 출발'"
            ]
          },
          "metadata": {},
          "execution_count": 43
        }
      ]
    },
    {
      "cell_type": "code",
      "source": [
        ""
      ],
      "metadata": {
        "id": "mCHPodATSd26"
      },
      "execution_count": null,
      "outputs": []
    },
    {
      "cell_type": "markdown",
      "source": [
        "# 자리를 양보해가며!"
      ],
      "metadata": {
        "id": "PLhPLQnWEzjb"
      }
    },
    {
      "cell_type": "code",
      "source": [
        "동물 = ['척추동물', '어류', '척추동물', '무척추동물', '파충류', '척추동물', '어류', '파충류']\n",
        "def solution(동물, 자리):\n",
        "    의자 = [] * 자리\n",
        "    answer = 0\n",
        "\n",
        "    for i in 동물:\n",
        "        if len(의자) < 3:\n",
        "            if i in 의자:\n",
        "                히트된페이지 = 의자.append(의자.index(i))\n",
        "                의자.append(히트된페이지)\n",
        "                answer += 1\n",
        "            else:\n",
        "                의자.append(i)\n",
        "                answer += 60\n",
        "        else:\n",
        "            if i in 의자:\n",
        "                히트된페이지 = 의자.append(의자.index(i))\n",
        "                의자.append(히트된페이지)\n",
        "                answer += 1\n",
        "            else:\n",
        "                의자.pop(0)\n",
        "                의자.append(i)\n",
        "                answer += 60\n",
        "    return f'{answer//60}분 {answer%60}초'\n",
        "\n",
        "solution(동물, 3)"
      ],
      "metadata": {
        "colab": {
          "base_uri": "https://localhost:8080/",
          "height": 35
        },
        "id": "SAnL3Ad0E0wZ",
        "outputId": "1e341d82-f374-4ca0-a90a-c7745aab3f60"
      },
      "execution_count": null,
      "outputs": [
        {
          "output_type": "execute_result",
          "data": {
            "application/vnd.google.colaboratory.intrinsic+json": {
              "type": "string"
            },
            "text/plain": [
              "'6분 2초'"
            ]
          },
          "metadata": {},
          "execution_count": 3
        }
      ]
    },
    {
      "cell_type": "markdown",
      "source": [
        "# 그림자 연결!"
      ],
      "metadata": {
        "id": "yCaPfDpBG1t_"
      }
    },
    {
      "cell_type": "markdown",
      "source": [
        "![image.png](data:image/png;base64,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)"
      ],
      "metadata": {
        "id": "0vZsVZgJHjSD"
      }
    },
    {
      "cell_type": "code",
      "source": [
        "graph = {100: set([67, 66]),\n",
        "         67: set([100, 82, 63]),\n",
        "         66: set([100, 73, 69]),\n",
        "         82: set([67, 61, 79]),\n",
        "         63: set([67]),\n",
        "         73: set([66]),\n",
        "         69: set([66, 65, 81]),\n",
        "         61: set([82]),\n",
        "         79: set([82, 87, 77]),\n",
        "         65: set([69, 84, 99]),\n",
        "         81: set([69]),\n",
        "         87: set([79, 31, 78]),\n",
        "         77: set([79]),\n",
        "         84: set([65]),\n",
        "         99: set([65]),\n",
        "         31: set([87]),\n",
        "         78: set([87])}"
      ],
      "metadata": {
        "id": "btA-8_L3E_ye"
      },
      "execution_count": null,
      "outputs": []
    },
    {
      "cell_type": "code",
      "source": [
        "def 깊이우선탐색(graph, start):\n",
        "    방문  = []\n",
        "    stack = [start] \n",
        "\n",
        "    while stack:\n",
        "        n = stack.pop()\n",
        "        if n not in 방문:\n",
        "            방문.append(n)\n",
        "            차집합 = graph[n] - set(방문)\n",
        "            if len(차집합) == 0:\n",
        "                방문 += stack\n",
        "                break\n",
        "            stack.append(min(차집합))\n",
        "            stack += 차집합\n",
        "    return 방문\n",
        "\n",
        "깊이우선탐색(graph,100)"
      ],
      "metadata": {
        "colab": {
          "base_uri": "https://localhost:8080/"
        },
        "id": "y1Gt6EjPHeVX",
        "outputId": "0de39a33-c4d5-4c29-b6dc-e3a6cb7b9701"
      },
      "execution_count": null,
      "outputs": [
        {
          "output_type": "execute_result",
          "data": {
            "text/plain": [
              "[100, 67, 63, 66, 66, 63, 82]"
            ]
          },
          "metadata": {},
          "execution_count": 7
        }
      ]
    },
    {
      "cell_type": "code",
      "source": [
        "''.join([chr(i) for i in [67, 82,79,87,78]])"
      ],
      "metadata": {
        "colab": {
          "base_uri": "https://localhost:8080/",
          "height": 35
        },
        "id": "UpdUSD4ZIU8w",
        "outputId": "6d8d5f1f-ae3c-40f0-e63b-19bb616aec4b"
      },
      "execution_count": null,
      "outputs": [
        {
          "output_type": "execute_result",
          "data": {
            "application/vnd.google.colaboratory.intrinsic+json": {
              "type": "string"
            },
            "text/plain": [
              "'CROWN'"
            ]
          },
          "metadata": {},
          "execution_count": 9
        }
      ]
    },
    {
      "cell_type": "markdown",
      "source": [
        "# 밭의 비밀"
      ],
      "metadata": {
        "id": "jdYtGl6vdKCE"
      }
    },
    {
      "cell_type": "code",
      "source": [
        "import numpy as np\n",
        "\n",
        "첫번째밭 = [\n",
        "        [1, 0, 0, 0, 0],\n",
        "        [0, 0, 1, 0, 1],\n",
        "        [0, 0, 1, 0, 1],\n",
        "        [0, 0, 1, 0, 1],\n",
        "        [0, 0, 1, 0, 1]\n",
        "]\n",
        "\n",
        "두번째밭 = [\n",
        "        [0, 0, 0, 0, 1],\n",
        "        [0, 0, 0, 0, 3],\n",
        "        [0, 0 ,0, 0, 4],\n",
        "        [0, 2, 0, 0, 2],\n",
        "        [4, 5, 0, 2, 0]\n",
        "]"
      ],
      "metadata": {
        "id": "j18gPfvcI7pr"
      },
      "execution_count": 4,
      "outputs": []
    },
    {
      "cell_type": "code",
      "source": [
        "np.rot90(두번째밭, 1) + np.array(첫번째밭)"
      ],
      "metadata": {
        "colab": {
          "base_uri": "https://localhost:8080/"
        },
        "id": "yyfQcGJnfUrc",
        "outputId": "172a7262-7581-4e0f-cde5-979e76d23000"
      },
      "execution_count": 5,
      "outputs": [
        {
          "output_type": "execute_result",
          "data": {
            "text/plain": [
              "array([[2, 3, 4, 2, 0],\n",
              "       [0, 0, 1, 0, 3],\n",
              "       [0, 0, 1, 0, 1],\n",
              "       [0, 0, 1, 2, 6],\n",
              "       [0, 0, 1, 0, 5]])"
            ]
          },
          "metadata": {},
          "execution_count": 5
        }
      ]
    },
    {
      "cell_type": "code",
      "source": [
        "np.array(첫번째밭) - np.rot90(두번째밭, 1)"
      ],
      "metadata": {
        "colab": {
          "base_uri": "https://localhost:8080/"
        },
        "id": "S89CchBtfWoK",
        "outputId": "bc126f72-163b-4187-bb37-678743a4dbc8"
      },
      "execution_count": 7,
      "outputs": [
        {
          "output_type": "execute_result",
          "data": {
            "text/plain": [
              "array([[ 0, -3, -4, -2,  0],\n",
              "       [ 0,  0,  1,  0, -1],\n",
              "       [ 0,  0,  1,  0,  1],\n",
              "       [ 0,  0,  1, -2, -4],\n",
              "       [ 0,  0,  1,  0, -3]])"
            ]
          },
          "metadata": {},
          "execution_count": 7
        }
      ]
    },
    {
      "cell_type": "code",
      "source": [
        "np.array(첫번째밭) * np.rot90(두번째밭, 1)"
      ],
      "metadata": {
        "colab": {
          "base_uri": "https://localhost:8080/"
        },
        "id": "jGV-gkRvfiea",
        "outputId": "3d2e66bf-52e5-4e5c-9cf9-8eef108fe85d"
      },
      "execution_count": 8,
      "outputs": [
        {
          "output_type": "execute_result",
          "data": {
            "text/plain": [
              "array([[1, 0, 0, 0, 0],\n",
              "       [0, 0, 0, 0, 2],\n",
              "       [0, 0, 0, 0, 0],\n",
              "       [0, 0, 0, 0, 5],\n",
              "       [0, 0, 0, 0, 4]])"
            ]
          },
          "metadata": {},
          "execution_count": 8
        }
      ]
    },
    {
      "cell_type": "code",
      "source": [
        "np.array(첫번째밭) @ np.rot90(두번째밭, 1)"
      ],
      "metadata": {
        "colab": {
          "base_uri": "https://localhost:8080/"
        },
        "id": "JWjAqimNfmeF",
        "outputId": "bdabfa87-5c3c-48a5-87ed-aa8fbdaade07"
      },
      "execution_count": 9,
      "outputs": [
        {
          "output_type": "execute_result",
          "data": {
            "text/plain": [
              "array([[1, 3, 4, 2, 0],\n",
              "       [0, 0, 0, 0, 4],\n",
              "       [0, 0, 0, 0, 4],\n",
              "       [0, 0, 0, 0, 4],\n",
              "       [0, 0, 0, 0, 4]])"
            ]
          },
          "metadata": {},
          "execution_count": 9
        }
      ]
    },
    {
      "cell_type": "code",
      "source": [
        "정답 = np.rot90(두번째밭, 1) + np.array(첫번째밭)\n",
        "''.join([str(i) for i in 정답[0]])"
      ],
      "metadata": {
        "colab": {
          "base_uri": "https://localhost:8080/",
          "height": 35
        },
        "id": "9zdlcI_UfoDU",
        "outputId": "a1ae2eac-40e7-455a-88d2-645e8103a843"
      },
      "execution_count": 11,
      "outputs": [
        {
          "output_type": "execute_result",
          "data": {
            "application/vnd.google.colaboratory.intrinsic+json": {
              "type": "string"
            },
            "text/plain": [
              "'23420'"
            ]
          },
          "metadata": {},
          "execution_count": 11
        }
      ]
    },
    {
      "cell_type": "code",
      "source": [
        "int(''.join([str(i) for i in 정답[0]]), 8)"
      ],
      "metadata": {
        "colab": {
          "base_uri": "https://localhost:8080/"
        },
        "id": "XPlqKEryfudq",
        "outputId": "c2874ab5-3dd0-460e-baf5-ce0601cae63c"
      },
      "execution_count": 12,
      "outputs": [
        {
          "output_type": "execute_result",
          "data": {
            "text/plain": [
              "10000"
            ]
          },
          "metadata": {},
          "execution_count": 12
        }
      ]
    },
    {
      "cell_type": "code",
      "source": [
        "chr(int(''.join([str(i) for i in 정답[1]]), 8))"
      ],
      "metadata": {
        "colab": {
          "base_uri": "https://localhost:8080/",
          "height": 35
        },
        "id": "f0H5wWuKf0RY",
        "outputId": "d7bdd32a-c22b-45dc-9e17-8625211e4b6f"
      },
      "execution_count": 15,
      "outputs": [
        {
          "output_type": "execute_result",
          "data": {
            "application/vnd.google.colaboratory.intrinsic+json": {
              "type": "string"
            },
            "text/plain": [
              "'C'"
            ]
          },
          "metadata": {},
          "execution_count": 15
        }
      ]
    },
    {
      "cell_type": "code",
      "source": [
        "for k in range(5):\n",
        "    print(chr(int(''.join([str(i) for i in 정답[k]]), 8)))"
      ],
      "metadata": {
        "colab": {
          "base_uri": "https://localhost:8080/"
        },
        "id": "qBO9DoFNf5kD",
        "outputId": "5470cde7-357f-4662-a652-a69f232f6104"
      },
      "execution_count": 18,
      "outputs": [
        {
          "output_type": "stream",
          "name": "stdout",
          "text": [
            "✐\n",
            "C\n",
            "A\n",
            "V\n",
            "E\n"
          ]
        }
      ]
    },
    {
      "cell_type": "code",
      "source": [
        "x = [[None]*5]*5\n",
        "x"
      ],
      "metadata": {
        "colab": {
          "base_uri": "https://localhost:8080/"
        },
        "id": "zvxN4FNLf-UA",
        "outputId": "20d4a8e9-f682-4226-9279-b21f854517e4"
      },
      "execution_count": 20,
      "outputs": [
        {
          "output_type": "execute_result",
          "data": {
            "text/plain": [
              "[[None, None, None, None, None],\n",
              " [None, None, None, None, None],\n",
              " [None, None, None, None, None],\n",
              " [None, None, None, None, None],\n",
              " [None, None, None, None, None]]"
            ]
          },
          "metadata": {},
          "execution_count": 20
        }
      ]
    },
    {
      "cell_type": "code",
      "source": [
        "sample = [\n",
        "        [0, 0, 0, 0, 0],\n",
        "        [0, 0, 0, 0, 0],\n",
        "        [0, 0, 0, 0, 0],\n",
        "        [0, 0, 0, 0, 0],\n",
        "        [0, 0, 0, 0, 0]\n",
        "]"
      ],
      "metadata": {
        "id": "Nsdq0ZvRgH5J"
      },
      "execution_count": 25,
      "outputs": []
    },
    {
      "cell_type": "code",
      "source": [
        "for i in range(len(두번째밭)):\n",
        "    for j in range(len(두번째밭[0])):\n",
        "        sample[i][j] = 두번째밭[j][len(두번째밭)-1-i]\n",
        "\n",
        "sample"
      ],
      "metadata": {
        "colab": {
          "base_uri": "https://localhost:8080/"
        },
        "id": "nUURRBCXgcz9",
        "outputId": "32829683-b448-4df6-cf38-e1246a50d576"
      },
      "execution_count": 27,
      "outputs": [
        {
          "output_type": "execute_result",
          "data": {
            "text/plain": [
              "[[1, 3, 4, 2, 0],\n",
              " [0, 0, 0, 0, 2],\n",
              " [0, 0, 0, 0, 0],\n",
              " [0, 0, 0, 2, 5],\n",
              " [0, 0, 0, 0, 4]]"
            ]
          },
          "metadata": {},
          "execution_count": 27
        }
      ]
    },
    {
      "cell_type": "code",
      "source": [
        "sample + 첫번째밭"
      ],
      "metadata": {
        "colab": {
          "base_uri": "https://localhost:8080/"
        },
        "id": "9AZV4H0Lgmn9",
        "outputId": "e3ff7002-add4-4124-b9a8-cf00d678a9ee"
      },
      "execution_count": 28,
      "outputs": [
        {
          "output_type": "execute_result",
          "data": {
            "text/plain": [
              "[[1, 3, 4, 2, 0],\n",
              " [0, 0, 0, 0, 2],\n",
              " [0, 0, 0, 0, 0],\n",
              " [0, 0, 0, 2, 5],\n",
              " [0, 0, 0, 0, 4],\n",
              " [1, 0, 0, 0, 0],\n",
              " [0, 0, 1, 0, 1],\n",
              " [0, 0, 1, 0, 1],\n",
              " [0, 0, 1, 0, 1],\n",
              " [0, 0, 1, 0, 1]]"
            ]
          },
          "metadata": {},
          "execution_count": 28
        }
      ]
    },
    {
      "cell_type": "code",
      "source": [
        "for i in range(len(두번째밭)):\n",
        "    for j in range(len(두번째밭[0])):\n",
        "        sample[i][j] += 첫번째밭[i][j]\n",
        "sample"
      ],
      "metadata": {
        "colab": {
          "base_uri": "https://localhost:8080/"
        },
        "id": "VXh66PQPg1nd",
        "outputId": "4c223dab-e367-4c20-abed-62f709e0f401"
      },
      "execution_count": 30,
      "outputs": [
        {
          "output_type": "execute_result",
          "data": {
            "text/plain": [
              "[[2, 3, 4, 2, 0],\n",
              " [0, 0, 1, 0, 3],\n",
              " [0, 0, 1, 0, 1],\n",
              " [0, 0, 1, 2, 6],\n",
              " [0, 0, 1, 0, 5]]"
            ]
          },
          "metadata": {},
          "execution_count": 30
        }
      ]
    },
    {
      "cell_type": "markdown",
      "source": [
        "# Eureka!"
      ],
      "metadata": {
        "id": "T_RUHVIliM7j"
      }
    },
    {
      "cell_type": "code",
      "source": [
        "cross = [[[1, 5, 0, 1, 0],\n",
        "\t\t\t \t  [0, 1, 6, 7, 0],\n",
        "\t\t\t\t  [6, 2, 3, 2, 1],\n",
        "\t\t\t\t  [1, 0, 1, 1, 1],\n",
        "\t\t\t\t  [0, 2, 0, 1, 0]],\n",
        "         [[0, 3, 0, 1, 0],\n",
        "\t\t\t \t  [1, 2, 5, 4, 4],\n",
        "\t\t\t\t  [0, 0, 3, 0, 0],\n",
        "\t\t\t\t  [1, 2, 5, 0, 1],\n",
        "\t\t\t\t  [0, 0, 0, 0, 0]],\n",
        "\t\t\t\t [[3, 0, 1, 1, 8],\n",
        "\t\t\t \t  [5, 0, 4, 5, 4],\n",
        "\t\t\t\t  [1, 5, 0, 5, 1],\n",
        "\t\t\t\t  [1, 2, 1, 0, 1],\n",
        "\t\t\t\t  [0, 2, 5, 1, 1]],\n",
        "\t\t\t\t [[1, 0, 3, 3, 3],\n",
        "\t\t\t \t  [5, 1, 2, 2, 4],\n",
        "\t\t\t\t  [1, 5, 1, 2, 4],\n",
        "\t\t\t\t  [4, 4, 1, 1, 1],\n",
        "\t\t\t\t  [4, 4, 1, 1, 1]],\n",
        "\t\t\t\t [[1, 2, 0, 3, 3],\n",
        "\t\t\t \t  [1, 2, 0, 2, 4],\n",
        "\t\t\t\t  [1, 2, 0, 2, 4],\n",
        "\t\t\t\t  [4, 2, 0, 0, 1],\n",
        "\t\t\t\t  [8, 4, 1, 1, 0]],\n",
        "\t\t\t\t [[1, 0, 3, 0, 0],\n",
        "\t\t\t \t  [1, 1, 0, 2, 4],\n",
        "\t\t\t\t  [0, 0, 1, 2, 4],\n",
        "\t\t\t\t  [4, 0, 1, 0, 1],\n",
        "\t\t\t\t  [0, 0, 1, 0, 1]]]\n"
      ],
      "metadata": {
        "id": "JRQe6ZPvhCBi"
      },
      "execution_count": null,
      "outputs": []
    },
    {
      "cell_type": "code",
      "source": [
        "cross =          [[[3, 0, 1, 1, 8],\n",
        "\t\t\t \t  [5, 0, 4, 5, 4],\n",
        "\t\t\t\t  [1, 5, 0, 5, 1],\n",
        "\t\t\t\t  [1, 2, 1, 0, 1],\n",
        "\t\t\t\t  [0, 2, 5, 1, 1]],\n",
        "\t\t\t\t [[1, 2, 0, 3, 3],\n",
        "\t\t\t \t  [1, 2, 0, 2, 4],\n",
        "\t\t\t\t  [1, 2, 0, 2, 4],\n",
        "\t\t\t\t  [4, 2, 0, 0, 1],\n",
        "\t\t\t\t  [8, 4, 1, 1, 0]]]"
      ],
      "metadata": {
        "id": "9I3hLeisjb9-"
      },
      "execution_count": 33,
      "outputs": []
    },
    {
      "cell_type": "code",
      "source": [
        "cross_ = cross[0] + cross[1]\n",
        "cross_"
      ],
      "metadata": {
        "colab": {
          "base_uri": "https://localhost:8080/"
        },
        "id": "46reaba5jlDK",
        "outputId": "582b5403-892e-4458-d017-24c34aa4e613"
      },
      "execution_count": 34,
      "outputs": [
        {
          "output_type": "execute_result",
          "data": {
            "text/plain": [
              "[[3, 0, 1, 1, 8],\n",
              " [5, 0, 4, 5, 4],\n",
              " [1, 5, 0, 5, 1],\n",
              " [1, 2, 1, 0, 1],\n",
              " [0, 2, 5, 1, 1],\n",
              " [1, 2, 0, 3, 3],\n",
              " [1, 2, 0, 2, 4],\n",
              " [1, 2, 0, 2, 4],\n",
              " [4, 2, 0, 0, 1],\n",
              " [8, 4, 1, 1, 0]]"
            ]
          },
          "metadata": {},
          "execution_count": 34
        }
      ]
    },
    {
      "cell_type": "code",
      "source": [
        "cross_[0][4]"
      ],
      "metadata": {
        "colab": {
          "base_uri": "https://localhost:8080/"
        },
        "id": "ubYrp7CmjuUS",
        "outputId": "3e6a8397-9f50-470b-daa9-dfc59ff678ca"
      },
      "execution_count": 35,
      "outputs": [
        {
          "output_type": "execute_result",
          "data": {
            "text/plain": [
              "8"
            ]
          },
          "metadata": {},
          "execution_count": 35
        }
      ]
    },
    {
      "cell_type": "code",
      "source": [
        "for i in range(len(cross_)):\n",
        "    for j in range(4, -1, -1):\n",
        "        print(i, j, cross_[i][j])"
      ],
      "metadata": {
        "colab": {
          "base_uri": "https://localhost:8080/"
        },
        "id": "IcCuHXjojwUx",
        "outputId": "7cb38873-fd9b-4ae0-a7ea-4ae2421359e4"
      },
      "execution_count": 38,
      "outputs": [
        {
          "output_type": "stream",
          "name": "stdout",
          "text": [
            "0 4 8\n",
            "0 3 1\n",
            "0 2 1\n",
            "0 1 0\n",
            "0 0 3\n",
            "1 4 4\n",
            "1 3 5\n",
            "1 2 4\n",
            "1 1 0\n",
            "1 0 5\n",
            "2 4 1\n",
            "2 3 5\n",
            "2 2 0\n",
            "2 1 5\n",
            "2 0 1\n",
            "3 4 1\n",
            "3 3 0\n",
            "3 2 1\n",
            "3 1 2\n",
            "3 0 1\n",
            "4 4 1\n",
            "4 3 1\n",
            "4 2 5\n",
            "4 1 2\n",
            "4 0 0\n",
            "5 4 3\n",
            "5 3 3\n",
            "5 2 0\n",
            "5 1 2\n",
            "5 0 1\n",
            "6 4 4\n",
            "6 3 2\n",
            "6 2 0\n",
            "6 1 2\n",
            "6 0 1\n",
            "7 4 4\n",
            "7 3 2\n",
            "7 2 0\n",
            "7 1 2\n",
            "7 0 1\n",
            "8 4 1\n",
            "8 3 0\n",
            "8 2 0\n",
            "8 1 2\n",
            "8 0 4\n",
            "9 4 0\n",
            "9 3 1\n",
            "9 2 1\n",
            "9 1 4\n",
            "9 0 8\n"
          ]
        }
      ]
    },
    {
      "cell_type": "code",
      "source": [
        "c =           [[3, 0, 1, 1, 8],\n",
        "\t\t\t \t  [5, 0, 4, 5, 4],\n",
        "\t\t\t\t  [1, 5, 0, 5, 1],\n",
        "\t\t\t\t  [1, 2, 1, 0, 1],\n",
        "\t\t\t\t  [0, 2, 5, 1, 1]]\n",
        "\n",
        "가중치누적값 = [[0 for i in range(5)] for i in range(5)]\n",
        "가중치누적값"
      ],
      "metadata": {
        "colab": {
          "base_uri": "https://localhost:8080/"
        },
        "id": "UxNJUOZwjzWo",
        "outputId": "dd2fdbba-8cbe-4ddf-aa1d-7c13019f1ec4"
      },
      "execution_count": 59,
      "outputs": [
        {
          "output_type": "execute_result",
          "data": {
            "text/plain": [
              "[[0, 0, 0, 0, 0],\n",
              " [0, 0, 0, 0, 0],\n",
              " [0, 0, 0, 0, 0],\n",
              " [0, 0, 0, 0, 0],\n",
              " [0, 0, 0, 0, 0]]"
            ]
          },
          "metadata": {},
          "execution_count": 59
        }
      ]
    },
    {
      "cell_type": "code",
      "source": [
        "for i in range(5):\n",
        "    for j in range(5):\n",
        "        if i == 0 and j == 0:\n",
        "            가중치누적값[0][0] = c[0][0]\n",
        "        elif i == 0:\n",
        "             가중치누적값[i][j] = 가중치누적값[i][j-1] + c[i][j]\n",
        "        elif j == 0:\n",
        "             가중치누적값[i][j] = 가중치누적값[i-1][j] + c[i][j]\n",
        "        else:\n",
        "             가중치누적값[i][j] = min( 가중치누적값[i][j-1], 가중치누적값[i-1][j] ) + c[i][j]\n",
        "\n",
        "가중치누적값"
      ],
      "metadata": {
        "colab": {
          "base_uri": "https://localhost:8080/"
        },
        "id": "6DJafBVdkMid",
        "outputId": "a69e8bcb-9788-4d18-b6b9-1349b861be52"
      },
      "execution_count": 62,
      "outputs": [
        {
          "output_type": "execute_result",
          "data": {
            "text/plain": [
              "[[3, 3, 4, 5, 13],\n",
              " [8, 3, 7, 10, 14],\n",
              " [9, 8, 7, 12, 13],\n",
              " [10, 10, 8, 8, 9],\n",
              " [10, 12, 13, 9, 10]]"
            ]
          },
          "metadata": {},
          "execution_count": 62
        }
      ]
    },
    {
      "cell_type": "code",
      "source": [
        "c, 가중치누적값"
      ],
      "metadata": {
        "colab": {
          "base_uri": "https://localhost:8080/"
        },
        "id": "5ufsKy27n9ZY",
        "outputId": "1e319834-0b9e-465d-9ede-a0e9af735764"
      },
      "execution_count": 63,
      "outputs": [
        {
          "output_type": "execute_result",
          "data": {
            "text/plain": [
              "([[3, 0, 1, 1, 8],\n",
              "  [5, 0, 4, 5, 4],\n",
              "  [1, 5, 0, 5, 1],\n",
              "  [1, 2, 1, 0, 1],\n",
              "  [0, 2, 5, 1, 1]],\n",
              " [[3, 3, 4, 5, 13],\n",
              "  [8, 3, 7, 10, 14],\n",
              "  [9, 8, 7, 12, 13],\n",
              "  [10, 10, 8, 8, 9],\n",
              "  [10, 12, 13, 9, 10]])"
            ]
          },
          "metadata": {},
          "execution_count": 63
        }
      ]
    },
    {
      "cell_type": "code",
      "source": [
        "[[[0,0] for i in range(5)] for j in range(5)]"
      ],
      "metadata": {
        "colab": {
          "base_uri": "https://localhost:8080/"
        },
        "id": "bhpFeUPTn-a3",
        "outputId": "a0b2f783-c348-4d70-ec06-f9f8ad68cf6e"
      },
      "execution_count": 64,
      "outputs": [
        {
          "output_type": "execute_result",
          "data": {
            "text/plain": [
              "[[[0, 0], [0, 0], [0, 0], [0, 0], [0, 0]],\n",
              " [[0, 0], [0, 0], [0, 0], [0, 0], [0, 0]],\n",
              " [[0, 0], [0, 0], [0, 0], [0, 0], [0, 0]],\n",
              " [[0, 0], [0, 0], [0, 0], [0, 0], [0, 0]],\n",
              " [[0, 0], [0, 0], [0, 0], [0, 0], [0, 0]]]"
            ]
          },
          "metadata": {},
          "execution_count": 64
        }
      ]
    },
    {
      "cell_type": "code",
      "source": [
        "# c =           [[3, 0, 1, 1, 8],\n",
        "# \t\t\t \t  [5, 0, 4, 5, 4],\n",
        "# \t\t\t\t  [1, 5, 0, 5, 1],\n",
        "# \t\t\t\t  [1, 2, 1, 0, 1],\n",
        "# \t\t\t\t  [0, 2, 5, 1, 1]]\n",
        "\n",
        "가중치누적값 = [[0 for i in range(5)] for i in range(5)]\n",
        "좌표저장 = [[[0,0] for i in range(5)] for j in range(5)]\n",
        "\n",
        "for i in range(5):\n",
        "    for j in range(5):\n",
        "        if i == 0 and j == 0:\n",
        "            가중치누적값[0][0] = c[0][0]\n",
        "            좌표저장[i][j] = [i, j]\n",
        "        elif i == 0:\n",
        "            가중치누적값[i][j] = 가중치누적값[i][j-1] + c[i][j]\n",
        "            좌표저장[i][j] = [i, j-1]\n",
        "        elif j == 0:\n",
        "            가중치누적값[i][j] = 가중치누적값[i-1][j] + c[i][j]\n",
        "            좌표저장[i][j] = [i-1, j]\n",
        "        else:\n",
        "            if 가중치누적값[i][j-1] > 가중치누적값[i-1][j]:\n",
        "                가중치누적값[i][j] = 가중치누적값[i-1][j] + c[i][j]\n",
        "                좌표저장[i][j] = [i-1, j]\n",
        "            else:\n",
        "                가중치누적값[i][j] = 가중치누적값[i][j-1] + c[i][j]\n",
        "                좌표저장[i][j] = [i, j-1]\n",
        "\n",
        "가중치누적값\n",
        "좌표저장"
      ],
      "metadata": {
        "colab": {
          "base_uri": "https://localhost:8080/"
        },
        "id": "Nj6Z6TvsoSXq",
        "outputId": "66957264-d47f-41ee-90d6-b7eba099648d"
      },
      "execution_count": 68,
      "outputs": [
        {
          "output_type": "execute_result",
          "data": {
            "text/plain": [
              "[[[0, 0], [0, 0], [0, 1], [0, 2], [0, 3]],\n",
              " [[0, 0], [0, 1], [1, 1], [0, 3], [1, 3]],\n",
              " [[1, 0], [1, 1], [1, 2], [2, 2], [2, 3]],\n",
              " [[2, 0], [2, 1], [2, 2], [3, 2], [3, 3]],\n",
              " [[3, 0], [4, 0], [3, 2], [3, 3], [4, 3]]]"
            ]
          },
          "metadata": {},
          "execution_count": 68
        }
      ]
    },
    {
      "cell_type": "code",
      "source": [
        "가중치누적값 = [[0 for i in range(5)] for i in range(len(cross_))]\n",
        "좌표저장 = [[[0,0] for i in range(5)] for j in range(len(cross_))]\n",
        "\n",
        "for i in range(len(cross_)):\n",
        "    for j in range(4, -1, -1):\n",
        "        if i == 0 and j == 4:\n",
        "            가중치누적값[0][4] = c[0][4]\n",
        "            좌표저장[i][j] = [99, 99]\n",
        "        elif i == 0:\n",
        "            가중치누적값[i][j] = 가중치누적값[i][j+1] + cross_[i][j]\n",
        "            좌표저장[i][j] = [i, j+1]\n",
        "        elif j == 4:\n",
        "            가중치누적값[i][j] = 가중치누적값[i-1][j] + cross_[i][j]\n",
        "            좌표저장[i][j] = [i-1, j]\n",
        "        else:\n",
        "            if 가중치누적값[i][j+1] > 가중치누적값[i-1][j]:\n",
        "                가중치누적값[i][j] = 가중치누적값[i-1][j] + cross_[i][j]\n",
        "                좌표저장[i][j] = [i-1, j]\n",
        "            else:\n",
        "                가중치누적값[i][j] = 가중치누적값[i][j+1] + cross_[i][j]\n",
        "                좌표저장[i][j] = [i, j+1]\n",
        "\n",
        "가중치누적값\n",
        "좌표저장"
      ],
      "metadata": {
        "colab": {
          "base_uri": "https://localhost:8080/"
        },
        "id": "ScF_ZkOJo_Na",
        "outputId": "de8ddc13-7554-4ce3-b8b7-1d7c9f925318"
      },
      "execution_count": 72,
      "outputs": [
        {
          "output_type": "execute_result",
          "data": {
            "text/plain": [
              "[[[0, 1], [0, 2], [0, 3], [0, 4], [99, 99]],\n",
              " [[1, 1], [0, 1], [0, 2], [0, 3], [0, 4]],\n",
              " [[2, 1], [1, 1], [1, 2], [2, 4], [1, 4]],\n",
              " [[2, 0], [3, 2], [3, 3], [3, 4], [2, 4]],\n",
              " [[3, 0], [3, 1], [4, 3], [3, 3], [3, 4]],\n",
              " [[4, 0], [5, 2], [5, 3], [4, 3], [4, 4]],\n",
              " [[5, 0], [6, 2], [5, 2], [5, 3], [5, 4]],\n",
              " [[6, 0], [7, 2], [6, 2], [6, 3], [6, 4]],\n",
              " [[8, 1], [8, 2], [7, 2], [7, 3], [7, 4]],\n",
              " [[9, 1], [9, 2], [8, 2], [8, 3], [8, 4]]]"
            ]
          },
          "metadata": {},
          "execution_count": 72
        }
      ]
    },
    {
      "cell_type": "code",
      "source": [
        "가중치누적값, cross_"
      ],
      "metadata": {
        "colab": {
          "base_uri": "https://localhost:8080/"
        },
        "id": "hzbAKYrtpze3",
        "outputId": "f3cd1dbe-57bb-47b8-9619-e4acf2949949"
      },
      "execution_count": 73,
      "outputs": [
        {
          "output_type": "execute_result",
          "data": {
            "text/plain": [
              "([[13, 10, 10, 9, 8],\n",
              "  [15, 10, 14, 14, 12],\n",
              "  [16, 15, 14, 18, 13],\n",
              "  [17, 17, 15, 14, 14],\n",
              "  [17, 19, 20, 15, 15],\n",
              "  [18, 20, 18, 18, 18],\n",
              "  [19, 20, 18, 20, 22],\n",
              "  [20, 20, 18, 22, 26],\n",
              "  [24, 20, 18, 22, 27],\n",
              "  [31, 23, 19, 23, 27]],\n",
              " [[3, 0, 1, 1, 8],\n",
              "  [5, 0, 4, 5, 4],\n",
              "  [1, 5, 0, 5, 1],\n",
              "  [1, 2, 1, 0, 1],\n",
              "  [0, 2, 5, 1, 1],\n",
              "  [1, 2, 0, 3, 3],\n",
              "  [1, 2, 0, 2, 4],\n",
              "  [1, 2, 0, 2, 4],\n",
              "  [4, 2, 0, 0, 1],\n",
              "  [8, 4, 1, 1, 0]])"
            ]
          },
          "metadata": {},
          "execution_count": 73
        }
      ]
    },
    {
      "cell_type": "code",
      "source": [
        "# [99.99] <- [9,1]\n",
        "k =0\n",
        "while True:\n",
        "    if k == 0:\n",
        "        i , j = 좌표저장[len(cross_) -1][0]\n",
        "    else:\n",
        "        i , j= 좌표저장[i][j]\n",
        "    if i == 99 and j == 99 :\n",
        "        break\n",
        "    k += 1\n",
        "    \n",
        "    print(i,j)"
      ],
      "metadata": {
        "colab": {
          "base_uri": "https://localhost:8080/"
        },
        "id": "FlJkL1Zyp3_B",
        "outputId": "a3992c76-54c6-4610-f2de-8a9777e9fe52"
      },
      "execution_count": 77,
      "outputs": [
        {
          "output_type": "stream",
          "name": "stdout",
          "text": [
            "9 1\n",
            "9 2\n",
            "8 2\n",
            "7 2\n",
            "6 2\n",
            "5 2\n",
            "5 3\n",
            "4 3\n",
            "3 3\n",
            "3 4\n",
            "2 4\n",
            "1 4\n",
            "0 4\n"
          ]
        }
      ]
    },
    {
      "cell_type": "markdown",
      "source": [
        "# algorithm"
      ],
      "metadata": {
        "id": "ewlmkHT3iGMI"
      }
    },
    {
      "cell_type": "code",
      "source": [
        "# 선택정렬\n",
        "입력값 = [5,10, 66, 77, 54, 32, 11 ,15]\n",
        "정렬된리스트 = []\n",
        "\n",
        "def 최솟값(l):\n",
        "    최소 = l[0]\n",
        "    for i in l:\n",
        "        if 최소 > i:\n",
        "            최소 = i\n",
        "    return 최소\n",
        "print(최솟값(입력값))\n",
        "\n",
        "\n",
        "while 입력값:\n",
        "    정렬된리스트.append(min(입력값))\n",
        "    입력값.pop(입력값.index(min(입력값)))\n",
        "    print(정렬된리스트)\n",
        "    print(입력값)\n",
        "    print('-----------')\n",
        "\n",
        "print('-최종값')\n",
        "print(정렬된리스트)\n",
        "print(입력값)"
      ],
      "metadata": {
        "colab": {
          "base_uri": "https://localhost:8080/"
        },
        "id": "ryjwZWPnqTXH",
        "outputId": "65ef0f93-aa78-46e7-85b3-8297fc469759"
      },
      "execution_count": 1,
      "outputs": [
        {
          "output_type": "stream",
          "name": "stdout",
          "text": [
            "[5]\n",
            "[10, 66, 77, 54, 32, 11, 15]\n"
          ]
        }
      ]
    },
    {
      "cell_type": "code",
      "source": [
        "입력값 = [5,10, 66, 77, 54, 32, 11 ,15]\n",
        "정렬된리스트 = []\n",
        "\n",
        "def 최솟값(l):\n",
        "    최소 = l[0]\n",
        "    count = 0\n",
        "    for i in l:\n",
        "        if 최소 > i:\n",
        "            최소 = i\n",
        "            index = count\n",
        "        count += 1\n",
        "    return 최소\n",
        "print(최솟값(입력값))"
      ],
      "metadata": {
        "colab": {
          "base_uri": "https://localhost:8080/"
        },
        "id": "jHX30ZXbrCl3",
        "outputId": "2a8f78d2-a934-4aed-a01a-f5e8ac50098a"
      },
      "execution_count": 5,
      "outputs": [
        {
          "output_type": "stream",
          "name": "stdout",
          "text": [
            "5\n"
          ]
        }
      ]
    },
    {
      "cell_type": "code",
      "source": [
        "입력값 = [5,10, 66, 77, 54, 32, 11 ,15]\n",
        "\n",
        "def 최솟값_인덱스(l):\n",
        "    비교값 = l[0]\n",
        "    for i in range(len(l)):\n",
        "        if l[i] > 비교값:\n",
        "            인덱스 = i\n",
        "    return 인덱스\n",
        "print(최솟값_인덱스(입력값))"
      ],
      "metadata": {
        "colab": {
          "base_uri": "https://localhost:8080/"
        },
        "id": "DQGWYP_5rtO1",
        "outputId": "9e3c1f80-d736-4507-a7ed-fdb549c914ae"
      },
      "execution_count": 10,
      "outputs": [
        {
          "output_type": "stream",
          "name": "stdout",
          "text": [
            "7\n"
          ]
        }
      ]
    },
    {
      "cell_type": "markdown",
      "source": [
        "- 삽입정렬"
      ],
      "metadata": {
        "id": "yffhcFYSsnoo"
      }
    },
    {
      "cell_type": "code",
      "source": [
        "입력값 = [5,10, 66, 77, 54, 32, 11 ,15]\n",
        "정렬된리스트 = []\n",
        "\n",
        "def 삽입값이_들어갈_인덱스(정렬된리스트, 삽입값):\n",
        "    for i in range(len(정렬된리스트)):\n",
        "        if 삽입값 < 정렬된리스트[i]:\n",
        "            return i\n",
        "    return len(정렬된리스트)\n",
        "\n",
        "while 입력값:\n",
        "    삽입값 = 입력값.pop(0)\n",
        "    인덱스 = 삽입값이_들어갈_인덱스(정렬된리스트, 삽입값)\n",
        "    정렬된리스트.insert(인덱스,삽입값)\n",
        "\n",
        "print(정렬된리스트)"
      ],
      "metadata": {
        "colab": {
          "base_uri": "https://localhost:8080/"
        },
        "id": "Pk7SW6qQsnc7",
        "outputId": "cee4c9f5-d9a7-4a98-916f-4fbc91da6f7d"
      },
      "execution_count": 12,
      "outputs": [
        {
          "output_type": "stream",
          "name": "stdout",
          "text": [
            "[5, 10, 11, 15, 32, 54, 66, 77]\n"
          ]
        }
      ]
    },
    {
      "cell_type": "markdown",
      "source": [
        "- 병합 정렬(분할 , 정복)"
      ],
      "metadata": {
        "id": "l7cj8yl0wDKU"
      }
    },
    {
      "cell_type": "code",
      "source": [
        "#<pre>\n",
        "입력값 = [5,10, 66, 77, 54, 32, 11 ,15]\n",
        "전체인덱스 = 7\n",
        "중간값 = 7 //2 # 3\n",
        "입력값[:중간값+1]\n",
        "입력값[중간값+1:]"
      ],
      "metadata": {
        "colab": {
          "base_uri": "https://localhost:8080/"
        },
        "id": "WY7gAqtPuWDa",
        "outputId": "7ba8e399-c333-4ae9-ede5-9738c5a1e615"
      },
      "execution_count": 4,
      "outputs": [
        {
          "output_type": "execute_result",
          "data": {
            "text/plain": [
              "[54, 32, 11, 15]"
            ]
          },
          "metadata": {},
          "execution_count": 4
        }
      ]
    },
    {
      "cell_type": "code",
      "source": [
        "def 병합정렬(입력리스트):\n",
        "    입력리스트의길이 = len(입력리스트)\n",
        "    if 입력리스트의길이 <= 1:\n",
        "        return 입력리스트\n",
        "    중간값 = 입력리스트의길이 //2 \n",
        "    그룹_하나 = 병합정렬(입력리스트[:중간값])\n",
        "    그룹_둘= 병합정렬(입력리스트[중간값:])\n",
        "    return '그룹_하나 : {}, 그룹 둘: {}\\n'.format(그룹_하나, 그룹_둘)\n",
        "print(병합정렬([5,10, 66, 77, 54, 32, 11 ,15]))"
      ],
      "metadata": {
        "colab": {
          "base_uri": "https://localhost:8080/"
        },
        "id": "MrgIycTBwLVb",
        "outputId": "9e1cc9d3-65f9-4e14-e9c7-50f63d5020b5"
      },
      "execution_count": 6,
      "outputs": [
        {
          "output_type": "stream",
          "name": "stdout",
          "text": [
            "그룹_하나 : 그룹_하나 : 그룹_하나 : [5], 그룹 둘: [10]\n",
            ", 그룹 둘: 그룹_하나 : [66], 그룹 둘: [77]\n",
            "\n",
            ", 그룹 둘: 그룹_하나 : 그룹_하나 : [54], 그룹 둘: [32]\n",
            ", 그룹 둘: 그룹_하나 : [11], 그룹 둘: [15]\n",
            "\n",
            "\n",
            "\n"
          ]
        }
      ]
    },
    {
      "cell_type": "code",
      "source": [
        "def 병합정렬(입력리스트):\n",
        "    #분할 \n",
        "    입력리스트의길이 = len(입력리스트)\n",
        "    결과값 = [] \n",
        "    if 입력리스트의길이 <= 1:\n",
        "        return 입력리스트\n",
        "    중간값 = 입력리스트의길이 //2 \n",
        "    그룹_하나 = 병합정렬(입력리스트[:중간값])\n",
        "    그룹_둘= 병합정렬(입력리스트[중간값:])\n",
        "\n",
        "    #정복\n",
        "    while 그룹_하나 and 그룹_둘:\n",
        "        if 그룹_하나[0] < 그룹_둘[0]:\n",
        "            결과값.append(그룹_하나.pop(0))\n",
        "        else:\n",
        "            결과값.append(그룹_둘.pop(0))\n",
        "    while 그룹_하나:\n",
        "        결과값.append(그룹_하나.pop(0))\n",
        "    while 그룹_둘:\n",
        "        결과값.append(그룹_둘.pop(0))\n",
        "    return 결과값\n",
        "print(병합정렬([5,10, 66, 77, 54, 32, 11 ,15]))"
      ],
      "metadata": {
        "colab": {
          "base_uri": "https://localhost:8080/"
        },
        "id": "542pVmaLxERF",
        "outputId": "71035e7a-de36-455e-d6bd-5acb25d45e46"
      },
      "execution_count": 7,
      "outputs": [
        {
          "output_type": "stream",
          "name": "stdout",
          "text": [
            "[5, 10, 11, 15, 32, 54, 66, 77]\n"
          ]
        }
      ]
    },
    {
      "cell_type": "markdown",
      "source": [
        "- 퀵정렬"
      ],
      "metadata": {
        "id": "OtGWncfCx5Bz"
      }
    },
    {
      "cell_type": "code",
      "source": [
        "g_list = []\n",
        "\n",
        "def 퀵정렬(입력리스트):\n",
        "    global g_list \n",
        "    입력리스트의길이 = len(입력리스트)\n",
        "    if 입력리스트의길이 <= 1:\n",
        "        return 입력리스트\n",
        "    피벗값 = 입력리스트.pop(0)\n",
        "    그룹_하나 = []\n",
        "    그룹_둘 = []\n",
        "    for i in range(입력리스트의길이-1):\n",
        "        if 입력리스트[i] < 피벗값:\n",
        "            그룹_하나.append(입력리스트[i])\n",
        "        else :\n",
        "            그룹_둘.append(입력리스트[i])\n",
        "    result = '그룹_하나 : {}, 피벗: {}, 그룹_둘 : {}'.format(그룹_하나, 피벗값, 그룹_둘)\n",
        "    g_list.append(result)\n",
        "    return 퀵정렬(그룹_하나)  + [피벗값] + 퀵정렬(그룹_둘)\n",
        "\n",
        "입력값 = [66, 77, 54, 32, 10, 5,11 ,15]\n",
        "print(퀵정렬(입력값))\n",
        "for i in g_list:\n",
        "    print(i)"
      ],
      "metadata": {
        "colab": {
          "base_uri": "https://localhost:8080/"
        },
        "id": "8L1AR0Zux0qD",
        "outputId": "c533d6bc-e654-4990-d3ce-99ae9c422757"
      },
      "execution_count": 12,
      "outputs": [
        {
          "output_type": "stream",
          "name": "stdout",
          "text": [
            "[5, 10, 11, 15, 32, 54, 66, 77]\n",
            "그룹_하나 : [54, 32, 10, 5, 11, 15], 피벗: 66, 그룹_둘 : [77]\n",
            "그룹_하나 : [32, 10, 5, 11, 15], 피벗: 54, 그룹_둘 : []\n",
            "그룹_하나 : [10, 5, 11, 15], 피벗: 32, 그룹_둘 : []\n",
            "그룹_하나 : [5], 피벗: 10, 그룹_둘 : [11, 15]\n",
            "그룹_하나 : [], 피벗: 11, 그룹_둘 : [15]\n"
          ]
        }
      ]
    },
    {
      "cell_type": "markdown",
      "source": [
        "# 트리\n",
        "- 전위순회(자신 - 왼쪽 - 오른쪽)\n",
        "- 중위순회(왼쪽 - 자신 - 오른쪽)\n",
        "- 후위순회(왼쪽 - 오른쪽 - 자신)"
      ],
      "metadata": {
        "id": "90BPJ29E2ZkB"
      }
    },
    {
      "cell_type": "markdown",
      "source": [
        "# Built-in-function"
      ],
      "metadata": {
        "id": "4j4nBtCpdJ1Y"
      }
    },
    {
      "cell_type": "code",
      "source": [
        "dir([1,2,3,4,])"
      ],
      "metadata": {
        "colab": {
          "base_uri": "https://localhost:8080/"
        },
        "id": "TqHFGGsJz1-5",
        "outputId": "d6d2c5ee-75e5-4429-b35f-d5e4a2a3e43e"
      },
      "execution_count": 1,
      "outputs": [
        {
          "output_type": "execute_result",
          "data": {
            "text/plain": [
              "['__add__',\n",
              " '__class__',\n",
              " '__contains__',\n",
              " '__delattr__',\n",
              " '__delitem__',\n",
              " '__dir__',\n",
              " '__doc__',\n",
              " '__eq__',\n",
              " '__format__',\n",
              " '__ge__',\n",
              " '__getattribute__',\n",
              " '__getitem__',\n",
              " '__gt__',\n",
              " '__hash__',\n",
              " '__iadd__',\n",
              " '__imul__',\n",
              " '__init__',\n",
              " '__init_subclass__',\n",
              " '__iter__',\n",
              " '__le__',\n",
              " '__len__',\n",
              " '__lt__',\n",
              " '__mul__',\n",
              " '__ne__',\n",
              " '__new__',\n",
              " '__reduce__',\n",
              " '__reduce_ex__',\n",
              " '__repr__',\n",
              " '__reversed__',\n",
              " '__rmul__',\n",
              " '__setattr__',\n",
              " '__setitem__',\n",
              " '__sizeof__',\n",
              " '__str__',\n",
              " '__subclasshook__',\n",
              " 'append',\n",
              " 'clear',\n",
              " 'copy',\n",
              " 'count',\n",
              " 'extend',\n",
              " 'index',\n",
              " 'insert',\n",
              " 'pop',\n",
              " 'remove',\n",
              " 'reverse',\n",
              " 'sort']"
            ]
          },
          "metadata": {},
          "execution_count": 1
        }
      ]
    },
    {
      "cell_type": "code",
      "source": [
        "list(filter(lambda x: x%2 ==0, range(20)))"
      ],
      "metadata": {
        "colab": {
          "base_uri": "https://localhost:8080/"
        },
        "id": "mF54FiftdZDN",
        "outputId": "a38bdf26-9f4d-4a74-e6ed-80f4cdd83d0e"
      },
      "execution_count": 4,
      "outputs": [
        {
          "output_type": "execute_result",
          "data": {
            "text/plain": [
              "[0, 2, 4, 6, 8, 10, 12, 14, 16, 18]"
            ]
          },
          "metadata": {},
          "execution_count": 4
        }
      ]
    },
    {
      "cell_type": "code",
      "source": [
        "[ i for i in range(20) if i % 2 == 0]"
      ],
      "metadata": {
        "colab": {
          "base_uri": "https://localhost:8080/"
        },
        "id": "yQMWLvLxd0Oj",
        "outputId": "44807889-f400-492f-f4f7-d6f560ad0e75"
      },
      "execution_count": 5,
      "outputs": [
        {
          "output_type": "execute_result",
          "data": {
            "text/plain": [
              "[0, 2, 4, 6, 8, 10, 12, 14, 16, 18]"
            ]
          },
          "metadata": {},
          "execution_count": 5
        }
      ]
    },
    {
      "cell_type": "code",
      "source": [
        " list(map(lambda x : x **2 , range(20)))"
      ],
      "metadata": {
        "colab": {
          "base_uri": "https://localhost:8080/"
        },
        "id": "lERkJnNOd8Yl",
        "outputId": "85393eaf-69fd-4d50-fb1a-f07a36f84d01"
      },
      "execution_count": 6,
      "outputs": [
        {
          "output_type": "execute_result",
          "data": {
            "text/plain": [
              "[0,\n",
              " 1,\n",
              " 4,\n",
              " 9,\n",
              " 16,\n",
              " 25,\n",
              " 36,\n",
              " 49,\n",
              " 64,\n",
              " 81,\n",
              " 100,\n",
              " 121,\n",
              " 144,\n",
              " 169,\n",
              " 196,\n",
              " 225,\n",
              " 256,\n",
              " 289,\n",
              " 324,\n",
              " 361]"
            ]
          },
          "metadata": {},
          "execution_count": 6
        }
      ]
    },
    {
      "cell_type": "code",
      "source": [
        "list(zip(['a','b','c','d'] , [1,2,3,4], [10,20,30,40], 'ABCD'))"
      ],
      "metadata": {
        "colab": {
          "base_uri": "https://localhost:8080/"
        },
        "id": "vLIsuGMqeJpm",
        "outputId": "7e98339f-df04-45da-b075-a72b1f46f19b"
      },
      "execution_count": 9,
      "outputs": [
        {
          "output_type": "execute_result",
          "data": {
            "text/plain": [
              "[('a', 1, 10, 'A'), ('b', 2, 20, 'B'), ('c', 3, 30, 'C'), ('d', 4, 40, 'D')]"
            ]
          },
          "metadata": {},
          "execution_count": 9
        }
      ]
    },
    {
      "cell_type": "code",
      "source": [
        "max([1,2,3])\n",
        "min([1,2,3])"
      ],
      "metadata": {
        "colab": {
          "base_uri": "https://localhost:8080/"
        },
        "id": "bQotj06IeOE7",
        "outputId": "6d56a79a-5750-4b99-eac3-d05686bba76d"
      },
      "execution_count": 10,
      "outputs": [
        {
          "output_type": "execute_result",
          "data": {
            "text/plain": [
              "1"
            ]
          },
          "metadata": {},
          "execution_count": 10
        }
      ]
    },
    {
      "cell_type": "code",
      "source": [
        "l = [10,5,4,3,7,8]\n",
        "l.sort()\n",
        "l"
      ],
      "metadata": {
        "colab": {
          "base_uri": "https://localhost:8080/"
        },
        "id": "1rYyLqM9e183",
        "outputId": "b55cc6b7-1b7e-4bc0-95d8-61bbc16d9557"
      },
      "execution_count": 11,
      "outputs": [
        {
          "output_type": "execute_result",
          "data": {
            "text/plain": [
              "[3, 4, 5, 7, 8, 10]"
            ]
          },
          "metadata": {},
          "execution_count": 11
        }
      ]
    },
    {
      "cell_type": "code",
      "source": [
        "testone = ['abc','def','hello' ,'hellodword']\n",
        "testtwo = 'life id so shordt, and i can dotio'.split()\n",
        "testthree = list(zip('anvfe', [1,2,5,4,3]))\n",
        "sorted(testone, key = len)"
      ],
      "metadata": {
        "colab": {
          "base_uri": "https://localhost:8080/"
        },
        "id": "TFBo8Pppe4k1",
        "outputId": "133f582a-04d7-4641-b99b-603dc514c2e6"
      },
      "execution_count": 18,
      "outputs": [
        {
          "output_type": "execute_result",
          "data": {
            "text/plain": [
              "['abc', 'def', 'hello', 'hellodword']"
            ]
          },
          "metadata": {},
          "execution_count": 18
        }
      ]
    },
    {
      "cell_type": "code",
      "source": [
        "sorted(testtwo, key = str.lower)"
      ],
      "metadata": {
        "colab": {
          "base_uri": "https://localhost:8080/"
        },
        "id": "0BVzwnFPfRp4",
        "outputId": "e46a70c7-de5e-4140-8912-e20ba92fe940"
      },
      "execution_count": 17,
      "outputs": [
        {
          "output_type": "execute_result",
          "data": {
            "text/plain": [
              "['and', 'can', 'dotio', 'i', 'id', 'life', 'shordt,', 'so']"
            ]
          },
          "metadata": {},
          "execution_count": 17
        }
      ]
    },
    {
      "cell_type": "code",
      "source": [
        " sorted(testthree, key = lambda x: x[1])"
      ],
      "metadata": {
        "colab": {
          "base_uri": "https://localhost:8080/"
        },
        "id": "NYgNrpeYfVVj",
        "outputId": "fbac6d4c-25f1-4e31-a2b7-780ecacebbf7"
      },
      "execution_count": 19,
      "outputs": [
        {
          "output_type": "execute_result",
          "data": {
            "text/plain": [
              "[('a', 1), ('n', 2), ('e', 3), ('f', 4), ('v', 5)]"
            ]
          },
          "metadata": {},
          "execution_count": 19
        }
      ]
    },
    {
      "cell_type": "code",
      "source": [
        " sorted(testthree, key = lambda x: x[0])"
      ],
      "metadata": {
        "colab": {
          "base_uri": "https://localhost:8080/"
        },
        "id": "1ldJm991f5pB",
        "outputId": "5a6326f7-cf68-40ed-c167-b3f29cdf28d5"
      },
      "execution_count": 20,
      "outputs": [
        {
          "output_type": "execute_result",
          "data": {
            "text/plain": [
              "[('a', 1), ('e', 3), ('f', 4), ('n', 2), ('v', 5)]"
            ]
          },
          "metadata": {},
          "execution_count": 20
        }
      ]
    },
    {
      "cell_type": "code",
      "source": [
        "5 in [ 1,2,3,4,5]"
      ],
      "metadata": {
        "colab": {
          "base_uri": "https://localhost:8080/"
        },
        "id": "1JrLxSquf84F",
        "outputId": "75ac2edd-0db3-4fc3-efa3-7ce20272143f"
      },
      "execution_count": 21,
      "outputs": [
        {
          "output_type": "execute_result",
          "data": {
            "text/plain": [
              "True"
            ]
          },
          "metadata": {},
          "execution_count": 21
        }
      ]
    },
    {
      "cell_type": "code",
      "source": [
        "5 not in [1,2,3,4,5]"
      ],
      "metadata": {
        "colab": {
          "base_uri": "https://localhost:8080/"
        },
        "id": "QufQ_TRmgC7N",
        "outputId": "009cbd7e-e2e6-4b69-d5e1-da858f5b4f54"
      },
      "execution_count": 22,
      "outputs": [
        {
          "output_type": "execute_result",
          "data": {
            "text/plain": [
              "False"
            ]
          },
          "metadata": {},
          "execution_count": 22
        }
      ]
    },
    {
      "cell_type": "code",
      "source": [
        "dir(l)\n",
        "\n",
        "#  'append',\n",
        "#  'clear',\n",
        "#  'copy',\n",
        "#  'count',\n",
        "#  'extend',\n",
        "#  'index',\n",
        "#  'insert',\n",
        "#  'pop',\n",
        "#  'remove',\n",
        "#  'reverse',\n",
        "#  'sort'"
      ],
      "metadata": {
        "colab": {
          "base_uri": "https://localhost:8080/"
        },
        "id": "WhroNTX0gEEi",
        "outputId": "770851a7-c404-455e-94c7-41a881c642f6"
      },
      "execution_count": 23,
      "outputs": [
        {
          "output_type": "execute_result",
          "data": {
            "text/plain": [
              "['__add__',\n",
              " '__class__',\n",
              " '__contains__',\n",
              " '__delattr__',\n",
              " '__delitem__',\n",
              " '__dir__',\n",
              " '__doc__',\n",
              " '__eq__',\n",
              " '__format__',\n",
              " '__ge__',\n",
              " '__getattribute__',\n",
              " '__getitem__',\n",
              " '__gt__',\n",
              " '__hash__',\n",
              " '__iadd__',\n",
              " '__imul__',\n",
              " '__init__',\n",
              " '__init_subclass__',\n",
              " '__iter__',\n",
              " '__le__',\n",
              " '__len__',\n",
              " '__lt__',\n",
              " '__mul__',\n",
              " '__ne__',\n",
              " '__new__',\n",
              " '__reduce__',\n",
              " '__reduce_ex__',\n",
              " '__repr__',\n",
              " '__reversed__',\n",
              " '__rmul__',\n",
              " '__setattr__',\n",
              " '__setitem__',\n",
              " '__sizeof__',\n",
              " '__str__',\n",
              " '__subclasshook__',\n",
              " 'append',\n",
              " 'clear',\n",
              " 'copy',\n",
              " 'count',\n",
              " 'extend',\n",
              " 'index',\n",
              " 'insert',\n",
              " 'pop',\n",
              " 'remove',\n",
              " 'reverse',\n",
              " 'sort']"
            ]
          },
          "metadata": {},
          "execution_count": 23
        }
      ]
    },
    {
      "cell_type": "code",
      "source": [
        "s = set('11122243545454')\n",
        "s"
      ],
      "metadata": {
        "colab": {
          "base_uri": "https://localhost:8080/"
        },
        "id": "pzeJeTq8gGmg",
        "outputId": "4a0314fa-b479-4329-bd15-c832abcf83c8"
      },
      "execution_count": 24,
      "outputs": [
        {
          "output_type": "execute_result",
          "data": {
            "text/plain": [
              "{'1', '2', '3', '4', '5'}"
            ]
          },
          "metadata": {},
          "execution_count": 24
        }
      ]
    },
    {
      "cell_type": "code",
      "source": [
        "dir(s)\n",
        "#  'add',\n",
        "#  'clear',\n",
        "#  'copy',\n",
        "#  'difference',\n",
        "#  'difference_update',\n",
        "#  'discard',\n",
        "#  'intersection',\n",
        "#  'intersection_update',\n",
        "#  'isdisjoint',\n",
        "#  'issubset',\n",
        "#  'issuperset',\n",
        "#  'pop',\n",
        "#  'remove',\n",
        "#  'symmetric_difference',\n",
        "#  'symmetric_difference_update',\n",
        "#  'union',\n",
        "#  'update'\n"
      ],
      "metadata": {
        "colab": {
          "base_uri": "https://localhost:8080/"
        },
        "id": "mn2XsnFWgx1O",
        "outputId": "75f5ca20-c6da-4996-d177-2f3c92783bb4"
      },
      "execution_count": 26,
      "outputs": [
        {
          "output_type": "execute_result",
          "data": {
            "text/plain": [
              "['__and__',\n",
              " '__class__',\n",
              " '__contains__',\n",
              " '__delattr__',\n",
              " '__dir__',\n",
              " '__doc__',\n",
              " '__eq__',\n",
              " '__format__',\n",
              " '__ge__',\n",
              " '__getattribute__',\n",
              " '__gt__',\n",
              " '__hash__',\n",
              " '__iand__',\n",
              " '__init__',\n",
              " '__init_subclass__',\n",
              " '__ior__',\n",
              " '__isub__',\n",
              " '__iter__',\n",
              " '__ixor__',\n",
              " '__le__',\n",
              " '__len__',\n",
              " '__lt__',\n",
              " '__ne__',\n",
              " '__new__',\n",
              " '__or__',\n",
              " '__rand__',\n",
              " '__reduce__',\n",
              " '__reduce_ex__',\n",
              " '__repr__',\n",
              " '__ror__',\n",
              " '__rsub__',\n",
              " '__rxor__',\n",
              " '__setattr__',\n",
              " '__sizeof__',\n",
              " '__str__',\n",
              " '__sub__',\n",
              " '__subclasshook__',\n",
              " '__xor__',\n",
              " 'add',\n",
              " 'clear',\n",
              " 'copy',\n",
              " 'difference',\n",
              " 'difference_update',\n",
              " 'discard',\n",
              " 'intersection',\n",
              " 'intersection_update',\n",
              " 'isdisjoint',\n",
              " 'issubset',\n",
              " 'issuperset',\n",
              " 'pop',\n",
              " 'remove',\n",
              " 'symmetric_difference',\n",
              " 'symmetric_difference_update',\n",
              " 'union',\n",
              " 'update']"
            ]
          },
          "metadata": {},
          "execution_count": 26
        }
      ]
    },
    {
      "cell_type": "code",
      "source": [
        "판콜에이 = {'a','b','c'}\n",
        "타이레놀 = {'a','b','d'}\n",
        "\n",
        "print(판콜에이.difference(타이레놀)) # 차집합\n",
        "print(판콜에이.intersection(타이레놀)) # 교집합\n",
        "print(len(판콜에이.intersection(타이레놀))) # 교집합\n",
        "print(판콜에이.union(타이레놀))"
      ],
      "metadata": {
        "colab": {
          "base_uri": "https://localhost:8080/"
        },
        "id": "CltMuE4ugz9_",
        "outputId": "cdc4a0c9-4e6d-4ae6-e2ad-55773ce4b9a6"
      },
      "execution_count": 29,
      "outputs": [
        {
          "output_type": "stream",
          "name": "stdout",
          "text": [
            "{'c'}\n",
            "{'a', 'b'}\n",
            "2\n",
            "{'b', 'a', 'd', 'c'}\n"
          ]
        }
      ]
    },
    {
      "cell_type": "code",
      "source": [
        "from collections import deque\n",
        "\n",
        "a = [10,20,30,40,50]\n",
        "d = deque(a)\n",
        "d"
      ],
      "metadata": {
        "colab": {
          "base_uri": "https://localhost:8080/"
        },
        "id": "B7S3VNrRhJAd",
        "outputId": "2d5e3df1-76b7-4438-b85e-55cdc306f20e"
      },
      "execution_count": 3,
      "outputs": [
        {
          "output_type": "execute_result",
          "data": {
            "text/plain": [
              "deque([10, 20, 30, 40, 50])"
            ]
          },
          "metadata": {},
          "execution_count": 3
        }
      ]
    },
    {
      "cell_type": "code",
      "source": [
        "dir(d)"
      ],
      "metadata": {
        "colab": {
          "base_uri": "https://localhost:8080/"
        },
        "id": "jKJezda1SFCN",
        "outputId": "f6569cd5-3dff-44e1-af7a-edc265ff6274"
      },
      "execution_count": 4,
      "outputs": [
        {
          "output_type": "execute_result",
          "data": {
            "text/plain": [
              "['__add__',\n",
              " '__bool__',\n",
              " '__class__',\n",
              " '__contains__',\n",
              " '__copy__',\n",
              " '__delattr__',\n",
              " '__delitem__',\n",
              " '__dir__',\n",
              " '__doc__',\n",
              " '__eq__',\n",
              " '__format__',\n",
              " '__ge__',\n",
              " '__getattribute__',\n",
              " '__getitem__',\n",
              " '__gt__',\n",
              " '__hash__',\n",
              " '__iadd__',\n",
              " '__imul__',\n",
              " '__init__',\n",
              " '__init_subclass__',\n",
              " '__iter__',\n",
              " '__le__',\n",
              " '__len__',\n",
              " '__lt__',\n",
              " '__mul__',\n",
              " '__ne__',\n",
              " '__new__',\n",
              " '__reduce__',\n",
              " '__reduce_ex__',\n",
              " '__repr__',\n",
              " '__reversed__',\n",
              " '__rmul__',\n",
              " '__setattr__',\n",
              " '__setitem__',\n",
              " '__sizeof__',\n",
              " '__str__',\n",
              " '__subclasshook__',\n",
              " 'append',\n",
              " 'appendleft',\n",
              " 'clear',\n",
              " 'copy',\n",
              " 'count',\n",
              " 'extend',\n",
              " 'extendleft',\n",
              " 'index',\n",
              " 'insert',\n",
              " 'maxlen',\n",
              " 'pop',\n",
              " 'popleft',\n",
              " 'remove',\n",
              " 'reverse',\n",
              " 'rotate']"
            ]
          },
          "metadata": {},
          "execution_count": 4
        }
      ]
    },
    {
      "cell_type": "code",
      "source": [
        "d. append(100)\n",
        "d"
      ],
      "metadata": {
        "colab": {
          "base_uri": "https://localhost:8080/"
        },
        "id": "9-MawB1wSKWS",
        "outputId": "d06651cb-8b78-4776-b603-bb7eca04183e"
      },
      "execution_count": 5,
      "outputs": [
        {
          "output_type": "execute_result",
          "data": {
            "text/plain": [
              "deque([10, 20, 30, 40, 50, 100])"
            ]
          },
          "metadata": {},
          "execution_count": 5
        }
      ]
    },
    {
      "cell_type": "code",
      "source": [
        "d.appendleft(1000)\n",
        "d"
      ],
      "metadata": {
        "colab": {
          "base_uri": "https://localhost:8080/"
        },
        "id": "5kMZy3HNSOR1",
        "outputId": "37c57a80-0185-407a-d823-0507505c7a9e"
      },
      "execution_count": 6,
      "outputs": [
        {
          "output_type": "execute_result",
          "data": {
            "text/plain": [
              "deque([1000, 10, 20, 30, 40, 50, 100])"
            ]
          },
          "metadata": {},
          "execution_count": 6
        }
      ]
    },
    {
      "cell_type": "code",
      "source": [
        "temp = d.pop()\n",
        "d"
      ],
      "metadata": {
        "colab": {
          "base_uri": "https://localhost:8080/"
        },
        "id": "GbAeZ3izSP1i",
        "outputId": "6477e230-4e2d-47bc-8185-8ed3a4afe9fa"
      },
      "execution_count": 7,
      "outputs": [
        {
          "output_type": "execute_result",
          "data": {
            "text/plain": [
              "deque([1000, 10, 20, 30, 40, 50])"
            ]
          },
          "metadata": {},
          "execution_count": 7
        }
      ]
    },
    {
      "cell_type": "code",
      "source": [
        "temp"
      ],
      "metadata": {
        "colab": {
          "base_uri": "https://localhost:8080/"
        },
        "id": "H5AmDKhvSRjp",
        "outputId": "f356d0c8-6df1-47a1-cf9c-90a7e66297cf"
      },
      "execution_count": 8,
      "outputs": [
        {
          "output_type": "execute_result",
          "data": {
            "text/plain": [
              "100"
            ]
          },
          "metadata": {},
          "execution_count": 8
        }
      ]
    },
    {
      "cell_type": "code",
      "source": [
        "temp = d.popleft()\n",
        "d"
      ],
      "metadata": {
        "colab": {
          "base_uri": "https://localhost:8080/"
        },
        "id": "inSsvbnCSSUY",
        "outputId": "b07191ae-1faf-4c45-ca4b-0acc7c2f38f8"
      },
      "execution_count": 10,
      "outputs": [
        {
          "output_type": "execute_result",
          "data": {
            "text/plain": [
              "deque([10, 20, 30, 40, 50])"
            ]
          },
          "metadata": {},
          "execution_count": 10
        }
      ]
    },
    {
      "cell_type": "code",
      "source": [
        "temp"
      ],
      "metadata": {
        "colab": {
          "base_uri": "https://localhost:8080/"
        },
        "id": "uFe0ERLzSU2e",
        "outputId": "61931014-c052-4bb9-a462-8fd80204a803"
      },
      "execution_count": 11,
      "outputs": [
        {
          "output_type": "execute_result",
          "data": {
            "text/plain": [
              "1000"
            ]
          },
          "metadata": {},
          "execution_count": 11
        }
      ]
    },
    {
      "cell_type": "code",
      "source": [
        "d.rotate(2)"
      ],
      "metadata": {
        "id": "VoYsXXGrSXcw"
      },
      "execution_count": 12,
      "outputs": []
    },
    {
      "cell_type": "code",
      "source": [
        "d"
      ],
      "metadata": {
        "colab": {
          "base_uri": "https://localhost:8080/"
        },
        "id": "L8J1VGSxSZN9",
        "outputId": "bc91dae5-6dd5-45d2-87d4-103788dbb829"
      },
      "execution_count": 13,
      "outputs": [
        {
          "output_type": "execute_result",
          "data": {
            "text/plain": [
              "deque([40, 50, 10, 20, 30])"
            ]
          },
          "metadata": {},
          "execution_count": 13
        }
      ]
    },
    {
      "cell_type": "code",
      "source": [
        "d.rotate(-1)\n",
        "d"
      ],
      "metadata": {
        "colab": {
          "base_uri": "https://localhost:8080/"
        },
        "id": "ed146QbmSaVr",
        "outputId": "000311ea-dbe8-4d4f-dd1e-92c76f154a20"
      },
      "execution_count": 14,
      "outputs": [
        {
          "output_type": "execute_result",
          "data": {
            "text/plain": [
              "deque([50, 10, 20, 30, 40])"
            ]
          },
          "metadata": {},
          "execution_count": 14
        }
      ]
    },
    {
      "cell_type": "markdown",
      "source": [
        "# ChainMap\n",
        "- 여러개의 컨테이너 자료형을 연결할 수 있음"
      ],
      "metadata": {
        "id": "a7p0Nht1Seum"
      }
    },
    {
      "cell_type": "code",
      "source": [
        "from collections import ChainMap\n",
        "\n",
        "oneDict = {'one' : 1, 'two':2, 'three':3}\n",
        "twoDict = {'four':4}\n",
        "\n",
        "chain= ChainMap(oneDict, twoDict)\n",
        "chain"
      ],
      "metadata": {
        "colab": {
          "base_uri": "https://localhost:8080/"
        },
        "id": "IP8QOvIISbxV",
        "outputId": "36e4fe5c-a322-41ad-dd2f-b49f98ece2c6"
      },
      "execution_count": 17,
      "outputs": [
        {
          "output_type": "execute_result",
          "data": {
            "text/plain": [
              "ChainMap({'one': 1, 'two': 2, 'three': 3}, {'four': 4})"
            ]
          },
          "metadata": {},
          "execution_count": 17
        }
      ]
    },
    {
      "cell_type": "code",
      "source": [
        "'one' in chain"
      ],
      "metadata": {
        "colab": {
          "base_uri": "https://localhost:8080/"
        },
        "id": "pxlMsbYXSqXO",
        "outputId": "bbc6dfb9-d8e4-4a97-b75e-c59f5a0234e7"
      },
      "execution_count": 18,
      "outputs": [
        {
          "output_type": "execute_result",
          "data": {
            "text/plain": [
              "True"
            ]
          },
          "metadata": {},
          "execution_count": 18
        }
      ]
    },
    {
      "cell_type": "code",
      "source": [
        "len(chain)"
      ],
      "metadata": {
        "colab": {
          "base_uri": "https://localhost:8080/"
        },
        "id": "TslRu8CTSzf3",
        "outputId": "04b03f2f-7e29-4251-afc3-12c2b8a1629d"
      },
      "execution_count": 19,
      "outputs": [
        {
          "output_type": "execute_result",
          "data": {
            "text/plain": [
              "4"
            ]
          },
          "metadata": {},
          "execution_count": 19
        }
      ]
    },
    {
      "cell_type": "code",
      "source": [
        "chain.values()"
      ],
      "metadata": {
        "colab": {
          "base_uri": "https://localhost:8080/"
        },
        "id": "82v3qPZSS0Gm",
        "outputId": "6d2d33e6-1114-4828-dcf3-f5dc224c8011"
      },
      "execution_count": 20,
      "outputs": [
        {
          "output_type": "execute_result",
          "data": {
            "text/plain": [
              "ValuesView(ChainMap({'one': 1, 'two': 2, 'three': 3}, {'four': 4}))"
            ]
          },
          "metadata": {},
          "execution_count": 20
        }
      ]
    },
    {
      "cell_type": "code",
      "source": [
        "chain.keys()"
      ],
      "metadata": {
        "colab": {
          "base_uri": "https://localhost:8080/"
        },
        "id": "1NnfdJtkS07U",
        "outputId": "3237f53e-9d9a-461d-93d3-b770b27d8efd"
      },
      "execution_count": 21,
      "outputs": [
        {
          "output_type": "execute_result",
          "data": {
            "text/plain": [
              "KeysView(ChainMap({'one': 1, 'two': 2, 'three': 3}, {'four': 4}))"
            ]
          },
          "metadata": {},
          "execution_count": 21
        }
      ]
    },
    {
      "cell_type": "code",
      "source": [
        "chain.items()"
      ],
      "metadata": {
        "colab": {
          "base_uri": "https://localhost:8080/"
        },
        "id": "v71f_fW8S2C-",
        "outputId": "78c0c11e-d2b3-4d85-e7d1-4607c1009584"
      },
      "execution_count": 22,
      "outputs": [
        {
          "output_type": "execute_result",
          "data": {
            "text/plain": [
              "ItemsView(ChainMap({'one': 1, 'two': 2, 'three': 3}, {'four': 4}))"
            ]
          },
          "metadata": {},
          "execution_count": 22
        }
      ]
    },
    {
      "cell_type": "code",
      "source": [
        "chain.maps"
      ],
      "metadata": {
        "colab": {
          "base_uri": "https://localhost:8080/"
        },
        "id": "kxJKsmy9S3Q4",
        "outputId": "00dfe3a2-9f33-44f7-dd75-4bf7d521ad01"
      },
      "execution_count": 23,
      "outputs": [
        {
          "output_type": "execute_result",
          "data": {
            "text/plain": [
              "[{'one': 1, 'three': 3, 'two': 2}, {'four': 4}]"
            ]
          },
          "metadata": {},
          "execution_count": 23
        }
      ]
    },
    {
      "cell_type": "code",
      "source": [
        "chain.maps[0]"
      ],
      "metadata": {
        "colab": {
          "base_uri": "https://localhost:8080/"
        },
        "id": "edW8N3nqS5kV",
        "outputId": "ef630ad9-6d81-455b-c00b-a92a98fdf261"
      },
      "execution_count": 24,
      "outputs": [
        {
          "output_type": "execute_result",
          "data": {
            "text/plain": [
              "{'one': 1, 'three': 3, 'two': 2}"
            ]
          },
          "metadata": {},
          "execution_count": 24
        }
      ]
    },
    {
      "cell_type": "code",
      "source": [
        "one = [1,2,3,4]\n",
        "two = [5,6,7,8]\n",
        "\n",
        "three = ChainMap(one,two)\n",
        "three"
      ],
      "metadata": {
        "colab": {
          "base_uri": "https://localhost:8080/"
        },
        "id": "F85MCmFKS7GW",
        "outputId": "0b2a6316-c071-419e-897e-d454627e7275"
      },
      "execution_count": 26,
      "outputs": [
        {
          "output_type": "execute_result",
          "data": {
            "text/plain": [
              "ChainMap([1, 2, 3, 4], [5, 6, 7, 8])"
            ]
          },
          "metadata": {},
          "execution_count": 26
        }
      ]
    },
    {
      "cell_type": "code",
      "source": [
        "three.maps[0]"
      ],
      "metadata": {
        "colab": {
          "base_uri": "https://localhost:8080/"
        },
        "id": "FdnJRbAjTBxs",
        "outputId": "e8323f6e-9e5e-438a-fe7e-8e4fafcdea86"
      },
      "execution_count": 27,
      "outputs": [
        {
          "output_type": "execute_result",
          "data": {
            "text/plain": [
              "[1, 2, 3, 4]"
            ]
          },
          "metadata": {},
          "execution_count": 27
        }
      ]
    },
    {
      "cell_type": "markdown",
      "source": [
        "# Counter\n",
        "- 객체의 요소 개수를 Key와 value 값으로"
      ],
      "metadata": {
        "id": "ho_Rj0ZSTJcp"
      }
    },
    {
      "cell_type": "code",
      "source": [
        "from collections import Counter \n",
        "\n",
        "a = [1,1,1,1,3,4,34,25,4,5,2]\n",
        "c = Counter(a)\n",
        "c"
      ],
      "metadata": {
        "colab": {
          "base_uri": "https://localhost:8080/"
        },
        "id": "omMVHxL3TG9T",
        "outputId": "36902480-b3f6-476d-a74f-d26093322de4"
      },
      "execution_count": 28,
      "outputs": [
        {
          "output_type": "execute_result",
          "data": {
            "text/plain": [
              "Counter({1: 4, 2: 1, 3: 1, 4: 2, 5: 1, 25: 1, 34: 1})"
            ]
          },
          "metadata": {},
          "execution_count": 28
        }
      ]
    },
    {
      "cell_type": "code",
      "source": [
        "dir(c)"
      ],
      "metadata": {
        "colab": {
          "base_uri": "https://localhost:8080/"
        },
        "id": "n6BPkmLTTSNx",
        "outputId": "a30c78f7-974b-49fe-f9a6-0c8df3d054d7"
      },
      "execution_count": 29,
      "outputs": [
        {
          "output_type": "execute_result",
          "data": {
            "text/plain": [
              "['__add__',\n",
              " '__and__',\n",
              " '__class__',\n",
              " '__contains__',\n",
              " '__delattr__',\n",
              " '__delitem__',\n",
              " '__dict__',\n",
              " '__dir__',\n",
              " '__doc__',\n",
              " '__eq__',\n",
              " '__format__',\n",
              " '__ge__',\n",
              " '__getattribute__',\n",
              " '__getitem__',\n",
              " '__gt__',\n",
              " '__hash__',\n",
              " '__iadd__',\n",
              " '__iand__',\n",
              " '__init__',\n",
              " '__init_subclass__',\n",
              " '__ior__',\n",
              " '__isub__',\n",
              " '__iter__',\n",
              " '__le__',\n",
              " '__len__',\n",
              " '__lt__',\n",
              " '__missing__',\n",
              " '__module__',\n",
              " '__ne__',\n",
              " '__neg__',\n",
              " '__new__',\n",
              " '__or__',\n",
              " '__pos__',\n",
              " '__reduce__',\n",
              " '__reduce_ex__',\n",
              " '__repr__',\n",
              " '__setattr__',\n",
              " '__setitem__',\n",
              " '__sizeof__',\n",
              " '__str__',\n",
              " '__sub__',\n",
              " '__subclasshook__',\n",
              " '__weakref__',\n",
              " '_keep_positive',\n",
              " 'clear',\n",
              " 'copy',\n",
              " 'elements',\n",
              " 'fromkeys',\n",
              " 'get',\n",
              " 'items',\n",
              " 'keys',\n",
              " 'most_common',\n",
              " 'pop',\n",
              " 'popitem',\n",
              " 'setdefault',\n",
              " 'subtract',\n",
              " 'update',\n",
              " 'values']"
            ]
          },
          "metadata": {},
          "execution_count": 29
        }
      ]
    },
    {
      "cell_type": "code",
      "source": [
        "for i in c:\n",
        "    print(i)\n",
        "    print('---')"
      ],
      "metadata": {
        "colab": {
          "base_uri": "https://localhost:8080/"
        },
        "id": "_BeOmwTgTTcW",
        "outputId": "d338bf02-7440-4e5b-d259-9220cf52e68e"
      },
      "execution_count": 30,
      "outputs": [
        {
          "output_type": "stream",
          "name": "stdout",
          "text": [
            "1\n",
            "---\n",
            "3\n",
            "---\n",
            "4\n",
            "---\n",
            "34\n",
            "---\n",
            "25\n",
            "---\n",
            "5\n",
            "---\n",
            "2\n",
            "---\n"
          ]
        }
      ]
    },
    {
      "cell_type": "code",
      "source": [
        "for i in c.elements():\n",
        "    print(i)\n",
        "    print('---')"
      ],
      "metadata": {
        "colab": {
          "base_uri": "https://localhost:8080/"
        },
        "id": "qshj8mqnTW0y",
        "outputId": "9e5cd93e-e9c8-4988-a153-004ee911815b"
      },
      "execution_count": 32,
      "outputs": [
        {
          "output_type": "stream",
          "name": "stdout",
          "text": [
            "1\n",
            "---\n",
            "1\n",
            "---\n",
            "1\n",
            "---\n",
            "1\n",
            "---\n",
            "3\n",
            "---\n",
            "4\n",
            "---\n",
            "4\n",
            "---\n",
            "34\n",
            "---\n",
            "25\n",
            "---\n",
            "5\n",
            "---\n",
            "2\n",
            "---\n"
          ]
        }
      ]
    },
    {
      "cell_type": "code",
      "source": [
        "c.keys()"
      ],
      "metadata": {
        "colab": {
          "base_uri": "https://localhost:8080/"
        },
        "id": "Ketl1mRXTcFF",
        "outputId": "4f365162-e83f-4bee-d332-a52a7ea6f9ff"
      },
      "execution_count": 33,
      "outputs": [
        {
          "output_type": "execute_result",
          "data": {
            "text/plain": [
              "dict_keys([1, 3, 4, 34, 25, 5, 2])"
            ]
          },
          "metadata": {},
          "execution_count": 33
        }
      ]
    },
    {
      "cell_type": "code",
      "source": [
        "c.values()"
      ],
      "metadata": {
        "colab": {
          "base_uri": "https://localhost:8080/"
        },
        "id": "u0iOJz7rTfbc",
        "outputId": "d2a0bba8-d775-4c9b-fae7-64f38009a339"
      },
      "execution_count": 34,
      "outputs": [
        {
          "output_type": "execute_result",
          "data": {
            "text/plain": [
              "dict_values([4, 1, 2, 1, 1, 1, 1])"
            ]
          },
          "metadata": {},
          "execution_count": 34
        }
      ]
    },
    {
      "cell_type": "code",
      "source": [
        "c.items()"
      ],
      "metadata": {
        "colab": {
          "base_uri": "https://localhost:8080/"
        },
        "id": "S_j7X7uxTgJa",
        "outputId": "d78d189d-b5c1-424a-f3c2-481802947b69"
      },
      "execution_count": 35,
      "outputs": [
        {
          "output_type": "execute_result",
          "data": {
            "text/plain": [
              "dict_items([(1, 4), (3, 1), (4, 2), (34, 1), (25, 1), (5, 1), (2, 1)])"
            ]
          },
          "metadata": {},
          "execution_count": 35
        }
      ]
    },
    {
      "cell_type": "code",
      "source": [
        "for i,j in c.items():\n",
        "    print(i,j)"
      ],
      "metadata": {
        "colab": {
          "base_uri": "https://localhost:8080/"
        },
        "id": "m-L9qb18TgtY",
        "outputId": "7be797ea-01f7-49b4-8d40-34248daaaccb"
      },
      "execution_count": 36,
      "outputs": [
        {
          "output_type": "stream",
          "name": "stdout",
          "text": [
            "1 4\n",
            "3 1\n",
            "4 2\n",
            "34 1\n",
            "25 1\n",
            "5 1\n",
            "2 1\n"
          ]
        }
      ]
    },
    {
      "cell_type": "code",
      "source": [
        "c.most_common()"
      ],
      "metadata": {
        "colab": {
          "base_uri": "https://localhost:8080/"
        },
        "id": "mPHgRienTjRe",
        "outputId": "d1120e99-13ed-4283-d5df-e8b7e9afee38"
      },
      "execution_count": 37,
      "outputs": [
        {
          "output_type": "execute_result",
          "data": {
            "text/plain": [
              "[(1, 4), (4, 2), (3, 1), (34, 1), (25, 1), (5, 1), (2, 1)]"
            ]
          },
          "metadata": {},
          "execution_count": 37
        }
      ]
    },
    {
      "cell_type": "code",
      "source": [
        "s = 'heelo world'\n",
        "sc = Counter(s)\n",
        "sc"
      ],
      "metadata": {
        "colab": {
          "base_uri": "https://localhost:8080/"
        },
        "id": "HgUNk0beTkEm",
        "outputId": "669a0225-d0b1-449f-933d-22d8b87dc6d3"
      },
      "execution_count": 38,
      "outputs": [
        {
          "output_type": "execute_result",
          "data": {
            "text/plain": [
              "Counter({' ': 1, 'd': 1, 'e': 2, 'h': 1, 'l': 2, 'o': 2, 'r': 1, 'w': 1})"
            ]
          },
          "metadata": {},
          "execution_count": 38
        }
      ]
    },
    {
      "cell_type": "code",
      "source": [
        "sc.update('hello')"
      ],
      "metadata": {
        "id": "X9AMn4QPTnn7"
      },
      "execution_count": 39,
      "outputs": []
    },
    {
      "cell_type": "code",
      "source": [
        "sc"
      ],
      "metadata": {
        "colab": {
          "base_uri": "https://localhost:8080/"
        },
        "id": "OiaLIZQ_TqF5",
        "outputId": "4e6366c1-c19f-48a5-f5e9-8e895c769a4f"
      },
      "execution_count": 40,
      "outputs": [
        {
          "output_type": "execute_result",
          "data": {
            "text/plain": [
              "Counter({' ': 1, 'd': 1, 'e': 3, 'h': 2, 'l': 4, 'o': 3, 'r': 1, 'w': 1})"
            ]
          },
          "metadata": {},
          "execution_count": 40
        }
      ]
    },
    {
      "cell_type": "code",
      "source": [
        "sc.subtract('hello')\n",
        "sc"
      ],
      "metadata": {
        "colab": {
          "base_uri": "https://localhost:8080/"
        },
        "id": "2IIwUYyATqV-",
        "outputId": "13a04caa-d76d-484f-ce00-876f049703f4"
      },
      "execution_count": 41,
      "outputs": [
        {
          "output_type": "execute_result",
          "data": {
            "text/plain": [
              "Counter({' ': 1, 'd': 1, 'e': 2, 'h': 1, 'l': 2, 'o': 2, 'r': 1, 'w': 1})"
            ]
          },
          "metadata": {},
          "execution_count": 41
        }
      ]
    },
    {
      "cell_type": "code",
      "source": [
        "sc.subtract(Counter('hello'))\n",
        "sc"
      ],
      "metadata": {
        "colab": {
          "base_uri": "https://localhost:8080/"
        },
        "id": "8b4raZbqTuUD",
        "outputId": "9ed59922-1319-42f9-953c-a3d62504de8a"
      },
      "execution_count": 42,
      "outputs": [
        {
          "output_type": "execute_result",
          "data": {
            "text/plain": [
              "Counter({' ': 1, 'd': 1, 'e': 1, 'h': 0, 'l': 0, 'o': 1, 'r': 1, 'w': 1})"
            ]
          },
          "metadata": {},
          "execution_count": 42
        }
      ]
    },
    {
      "cell_type": "code",
      "source": [
        "d = {'one':100, 'two':200, 'three':200}\n",
        "s = Counter(d)\n",
        "s"
      ],
      "metadata": {
        "colab": {
          "base_uri": "https://localhost:8080/"
        },
        "id": "yEq29dBbTzO2",
        "outputId": "25dd01ad-52aa-40e1-bccb-15bd12036517"
      },
      "execution_count": 44,
      "outputs": [
        {
          "output_type": "execute_result",
          "data": {
            "text/plain": [
              "Counter({'one': 100, 'three': 200, 'two': 200})"
            ]
          },
          "metadata": {},
          "execution_count": 44
        }
      ]
    },
    {
      "cell_type": "markdown",
      "source": [
        "# OrderDict\n",
        "- 순서가 있는 dict 자료형\n",
        "- LRU 알고리즘을구현하는 용도로 자주 사용"
      ],
      "metadata": {
        "id": "AAj-dLGwT-vp"
      }
    },
    {
      "cell_type": "code",
      "source": [
        "from collections import OrderedDict\n",
        "\n",
        "oneDict = {'one':1, 'two':2, 'three':3}\n",
        "d = OrderedDict(oneDict)\n",
        "d"
      ],
      "metadata": {
        "colab": {
          "base_uri": "https://localhost:8080/"
        },
        "id": "YCsEJHUdT5LQ",
        "outputId": "5d0da9a8-9792-4ab4-f6b8-b167a742cae1"
      },
      "execution_count": 46,
      "outputs": [
        {
          "output_type": "execute_result",
          "data": {
            "text/plain": [
              "OrderedDict([('one', 1), ('two', 2), ('three', 3)])"
            ]
          },
          "metadata": {},
          "execution_count": 46
        }
      ]
    },
    {
      "cell_type": "code",
      "source": [
        "dir(d)"
      ],
      "metadata": {
        "colab": {
          "base_uri": "https://localhost:8080/"
        },
        "id": "2D4K9W24UJuC",
        "outputId": "0f830734-72ac-4c0f-8da0-4785315038ca"
      },
      "execution_count": 47,
      "outputs": [
        {
          "output_type": "execute_result",
          "data": {
            "text/plain": [
              "['__class__',\n",
              " '__contains__',\n",
              " '__delattr__',\n",
              " '__delitem__',\n",
              " '__dict__',\n",
              " '__dir__',\n",
              " '__doc__',\n",
              " '__eq__',\n",
              " '__format__',\n",
              " '__ge__',\n",
              " '__getattribute__',\n",
              " '__getitem__',\n",
              " '__gt__',\n",
              " '__hash__',\n",
              " '__init__',\n",
              " '__init_subclass__',\n",
              " '__iter__',\n",
              " '__le__',\n",
              " '__len__',\n",
              " '__lt__',\n",
              " '__ne__',\n",
              " '__new__',\n",
              " '__reduce__',\n",
              " '__reduce_ex__',\n",
              " '__repr__',\n",
              " '__reversed__',\n",
              " '__setattr__',\n",
              " '__setitem__',\n",
              " '__sizeof__',\n",
              " '__str__',\n",
              " '__subclasshook__',\n",
              " 'clear',\n",
              " 'copy',\n",
              " 'fromkeys',\n",
              " 'get',\n",
              " 'items',\n",
              " 'keys',\n",
              " 'move_to_end',\n",
              " 'pop',\n",
              " 'popitem',\n",
              " 'setdefault',\n",
              " 'update',\n",
              " 'values']"
            ]
          },
          "metadata": {},
          "execution_count": 47
        }
      ]
    },
    {
      "cell_type": "code",
      "source": [
        "d.move_to_end('one')\n",
        "d"
      ],
      "metadata": {
        "colab": {
          "base_uri": "https://localhost:8080/"
        },
        "id": "BkiJhSnWUNPY",
        "outputId": "33b96a2d-6712-45ff-d71d-c24d13c2ea10"
      },
      "execution_count": 48,
      "outputs": [
        {
          "output_type": "execute_result",
          "data": {
            "text/plain": [
              "OrderedDict([('two', 2), ('three', 3), ('one', 1)])"
            ]
          },
          "metadata": {},
          "execution_count": 48
        }
      ]
    },
    {
      "cell_type": "code",
      "source": [
        "d.move_to_end('two',False) # 맨 앞으로 보냄 \n",
        "d"
      ],
      "metadata": {
        "colab": {
          "base_uri": "https://localhost:8080/"
        },
        "id": "eajvWxlaURa1",
        "outputId": "86cf61f0-fe6e-439b-f5aa-2897a9f53b75"
      },
      "execution_count": 49,
      "outputs": [
        {
          "output_type": "execute_result",
          "data": {
            "text/plain": [
              "OrderedDict([('two', 2), ('three', 3), ('one', 1)])"
            ]
          },
          "metadata": {},
          "execution_count": 49
        }
      ]
    },
    {
      "cell_type": "code",
      "source": [
        "d.popitem(True) # 맨뒤에서 꺼냄"
      ],
      "metadata": {
        "colab": {
          "base_uri": "https://localhost:8080/"
        },
        "id": "L-Fjy4EnUUxh",
        "outputId": "19b9af08-c59b-485c-e011-bfc92fb61104"
      },
      "execution_count": 50,
      "outputs": [
        {
          "output_type": "execute_result",
          "data": {
            "text/plain": [
              "('one', 1)"
            ]
          },
          "metadata": {},
          "execution_count": 50
        }
      ]
    },
    {
      "cell_type": "code",
      "source": [
        "d.popitem(False) #맨앞에서 꺼냄"
      ],
      "metadata": {
        "colab": {
          "base_uri": "https://localhost:8080/"
        },
        "id": "b0u904K5UX34",
        "outputId": "dbde11a3-e8fc-4e2e-aa56-4dbb2d733324"
      },
      "execution_count": 51,
      "outputs": [
        {
          "output_type": "execute_result",
          "data": {
            "text/plain": [
              "('two', 2)"
            ]
          },
          "metadata": {},
          "execution_count": 51
        }
      ]
    },
    {
      "cell_type": "markdown",
      "source": [
        "# defaultdict\n",
        "- 키로 어떤 값이 들어올지 모르는 경우 사용 "
      ],
      "metadata": {
        "id": "tE9rKKeYUkJ_"
      }
    },
    {
      "cell_type": "code",
      "source": [
        "from collections import defaultdict\n",
        "\n",
        "d = defaultdict(str)\n",
        "d['one'] = '1'\n",
        "d['two'] = '2'\n",
        "d['three'] \n",
        "d"
      ],
      "metadata": {
        "colab": {
          "base_uri": "https://localhost:8080/"
        },
        "id": "RTZdMdTkUn0w",
        "outputId": "4457c2b7-b8b0-4b1e-9e97-a9468db51a23"
      },
      "execution_count": 54,
      "outputs": [
        {
          "output_type": "execute_result",
          "data": {
            "text/plain": [
              "defaultdict(str, {'one': '1', 'three': '', 'two': '2'})"
            ]
          },
          "metadata": {},
          "execution_count": 54
        }
      ]
    },
    {
      "cell_type": "code",
      "source": [
        "d = defaultdict(list)\n",
        "d['one'] = '1'\n",
        "d['two'] = '2'\n",
        "d['three'] \n",
        "d"
      ],
      "metadata": {
        "colab": {
          "base_uri": "https://localhost:8080/"
        },
        "id": "M5NPL1eOUsP5",
        "outputId": "f1198832-f92c-4663-f484-4376ef1d3772"
      },
      "execution_count": 55,
      "outputs": [
        {
          "output_type": "execute_result",
          "data": {
            "text/plain": [
              "defaultdict(list, {'one': '1', 'three': [], 'two': '2'})"
            ]
          },
          "metadata": {},
          "execution_count": 55
        }
      ]
    },
    {
      "cell_type": "markdown",
      "source": [
        "# itertools\n"
      ],
      "metadata": {
        "id": "KiNaTT-xVYQM"
      }
    },
    {
      "cell_type": "code",
      "source": [
        "import re\n",
        "import math\n",
        "import numpy\n",
        "import pandas\n",
        "import collections\n",
        "import functools\n",
        "import itertools"
      ],
      "metadata": {
        "id": "x1O9dsGYU23Q"
      },
      "execution_count": 56,
      "outputs": []
    },
    {
      "cell_type": "code",
      "source": [
        "for c, s in zip(itertools.count(0, 0.5), 'abc'):\n",
        "    print(f'{c}, {s}')"
      ],
      "metadata": {
        "colab": {
          "base_uri": "https://localhost:8080/"
        },
        "id": "gIJt4dkuVlGS",
        "outputId": "16c734e3-e073-4713-90ef-07e2ea1a7c65"
      },
      "execution_count": 57,
      "outputs": [
        {
          "output_type": "stream",
          "name": "stdout",
          "text": [
            "0, a\n",
            "0.5, b\n",
            "1.0, c\n"
          ]
        }
      ]
    },
    {
      "cell_type": "code",
      "source": [
        "# cycle\n",
        "for c, s in zip(itertools.cycle(range(3)) , 'abc'):\n",
        "    print(f'{c}, {s}')"
      ],
      "metadata": {
        "colab": {
          "base_uri": "https://localhost:8080/"
        },
        "id": "68csKkVgVweo",
        "outputId": "8dbb9dcd-31e8-40ce-9bd7-83ab0cea289a"
      },
      "execution_count": 59,
      "outputs": [
        {
          "output_type": "stream",
          "name": "stdout",
          "text": [
            "0, a\n",
            "1, b\n",
            "2, c\n"
          ]
        }
      ]
    },
    {
      "cell_type": "code",
      "source": [
        "# repeat\n",
        "list(map(pow, range(10), [2,2,2,2,2]))"
      ],
      "metadata": {
        "colab": {
          "base_uri": "https://localhost:8080/"
        },
        "id": "RvDANxdmV5aB",
        "outputId": "52deebfb-53b7-4ecc-e244-d960900eed87"
      },
      "execution_count": 60,
      "outputs": [
        {
          "output_type": "execute_result",
          "data": {
            "text/plain": [
              "[0, 1, 4, 9, 16]"
            ]
          },
          "metadata": {},
          "execution_count": 60
        }
      ]
    },
    {
      "cell_type": "code",
      "source": [
        "list(map(pow, range(10), itertools.repeat(2)))"
      ],
      "metadata": {
        "colab": {
          "base_uri": "https://localhost:8080/"
        },
        "id": "fp4PLMYLWCrM",
        "outputId": "ff5f9139-0de6-43d7-e696-c59ed729cbee"
      },
      "execution_count": 62,
      "outputs": [
        {
          "output_type": "execute_result",
          "data": {
            "text/plain": [
              "[0, 1, 4, 9, 16, 25, 36, 49, 64, 81]"
            ]
          },
          "metadata": {},
          "execution_count": 62
        }
      ]
    },
    {
      "cell_type": "code",
      "source": [
        "pow(2,3)"
      ],
      "metadata": {
        "colab": {
          "base_uri": "https://localhost:8080/"
        },
        "id": "sFNCtqtYWIDd",
        "outputId": "00ea874f-a387-4f7c-c331-127240af1fb8"
      },
      "execution_count": 63,
      "outputs": [
        {
          "output_type": "execute_result",
          "data": {
            "text/plain": [
              "8"
            ]
          },
          "metadata": {},
          "execution_count": 63
        }
      ]
    },
    {
      "cell_type": "code",
      "source": [
        "list(itertools.repeat('abc',3))"
      ],
      "metadata": {
        "colab": {
          "base_uri": "https://localhost:8080/"
        },
        "id": "zxV-izeWWM3y",
        "outputId": "694889dd-1434-4ea9-daad-4dcf034cabdd"
      },
      "execution_count": 64,
      "outputs": [
        {
          "output_type": "execute_result",
          "data": {
            "text/plain": [
              "['abc', 'abc', 'abc']"
            ]
          },
          "metadata": {},
          "execution_count": 64
        }
      ]
    },
    {
      "cell_type": "code",
      "source": [
        "# groupby\n",
        "[k for k,g in itertools.groupby('AAABBBCCCDDDAABBB')]"
      ],
      "metadata": {
        "colab": {
          "base_uri": "https://localhost:8080/"
        },
        "id": "iRhU-zVEWPW_",
        "outputId": "0a9dfbf0-58e0-4057-956c-adb191f56717"
      },
      "execution_count": 66,
      "outputs": [
        {
          "output_type": "execute_result",
          "data": {
            "text/plain": [
              "['A', 'B', 'C', 'D', 'A', 'B']"
            ]
          },
          "metadata": {},
          "execution_count": 66
        }
      ]
    },
    {
      "cell_type": "code",
      "source": [
        "# dropwhile\n",
        "# False인 조건을 하면서 멈춤 \n",
        "list(itertools.dropwhile(lambda x: x<=5, range(10)))"
      ],
      "metadata": {
        "colab": {
          "base_uri": "https://localhost:8080/"
        },
        "id": "lJmj4l99WVvI",
        "outputId": "e612a768-7e66-4c7c-df2d-7a9b1e5ce8ad"
      },
      "execution_count": 67,
      "outputs": [
        {
          "output_type": "execute_result",
          "data": {
            "text/plain": [
              "[6, 7, 8, 9]"
            ]
          },
          "metadata": {},
          "execution_count": 67
        }
      ]
    },
    {
      "cell_type": "code",
      "source": [
        "a, b = itertools.tee(range(10), 2)"
      ],
      "metadata": {
        "id": "71TaRFdJWm5t"
      },
      "execution_count": 68,
      "outputs": []
    },
    {
      "cell_type": "code",
      "source": [
        "list(a)"
      ],
      "metadata": {
        "colab": {
          "base_uri": "https://localhost:8080/"
        },
        "id": "DQezZAQwWvir",
        "outputId": "b71da7ea-7ff2-4375-82f7-456287744ab6"
      },
      "execution_count": 69,
      "outputs": [
        {
          "output_type": "execute_result",
          "data": {
            "text/plain": [
              "[0, 1, 2, 3, 4, 5, 6, 7, 8, 9]"
            ]
          },
          "metadata": {},
          "execution_count": 69
        }
      ]
    },
    {
      "cell_type": "code",
      "source": [
        "list(b)"
      ],
      "metadata": {
        "colab": {
          "base_uri": "https://localhost:8080/"
        },
        "id": "0j0mxE8AWv4q",
        "outputId": "e1567b8c-181c-4b74-e067-ee67bd85c0a3"
      },
      "execution_count": 70,
      "outputs": [
        {
          "output_type": "execute_result",
          "data": {
            "text/plain": [
              "[0, 1, 2, 3, 4, 5, 6, 7, 8, 9]"
            ]
          },
          "metadata": {},
          "execution_count": 70
        }
      ]
    },
    {
      "cell_type": "code",
      "source": [
        "# zip_longest\n",
        "list(zip('ABCD', \"xy\"))"
      ],
      "metadata": {
        "colab": {
          "base_uri": "https://localhost:8080/"
        },
        "id": "tA-1FhH8WwUU",
        "outputId": "79ca7150-9927-4229-c3f8-4af7a633b4c4"
      },
      "execution_count": 71,
      "outputs": [
        {
          "output_type": "execute_result",
          "data": {
            "text/plain": [
              "[('A', 'x'), ('B', 'y')]"
            ]
          },
          "metadata": {},
          "execution_count": 71
        }
      ]
    },
    {
      "cell_type": "code",
      "source": [
        "list(itertools.zip_longest('ABCD', 'xy', fillvalue='-'))"
      ],
      "metadata": {
        "colab": {
          "base_uri": "https://localhost:8080/"
        },
        "id": "vLpdg-3dW0mH",
        "outputId": "778c9501-f08a-4edc-8659-4a7fd71395d3"
      },
      "execution_count": 72,
      "outputs": [
        {
          "output_type": "execute_result",
          "data": {
            "text/plain": [
              "[('A', 'x'), ('B', 'y'), ('C', '-'), ('D', '-')]"
            ]
          },
          "metadata": {},
          "execution_count": 72
        }
      ]
    },
    {
      "cell_type": "code",
      "source": [
        "# 순열과 조합\n",
        "list(itertools.permutations('ABCD',3))"
      ],
      "metadata": {
        "colab": {
          "base_uri": "https://localhost:8080/"
        },
        "id": "Xd54bTvmW5e6",
        "outputId": "147f9e65-e93d-4aa3-daa9-60878a5d7fa8"
      },
      "execution_count": 74,
      "outputs": [
        {
          "output_type": "execute_result",
          "data": {
            "text/plain": [
              "[('A', 'B', 'C'),\n",
              " ('A', 'B', 'D'),\n",
              " ('A', 'C', 'B'),\n",
              " ('A', 'C', 'D'),\n",
              " ('A', 'D', 'B'),\n",
              " ('A', 'D', 'C'),\n",
              " ('B', 'A', 'C'),\n",
              " ('B', 'A', 'D'),\n",
              " ('B', 'C', 'A'),\n",
              " ('B', 'C', 'D'),\n",
              " ('B', 'D', 'A'),\n",
              " ('B', 'D', 'C'),\n",
              " ('C', 'A', 'B'),\n",
              " ('C', 'A', 'D'),\n",
              " ('C', 'B', 'A'),\n",
              " ('C', 'B', 'D'),\n",
              " ('C', 'D', 'A'),\n",
              " ('C', 'D', 'B'),\n",
              " ('D', 'A', 'B'),\n",
              " ('D', 'A', 'C'),\n",
              " ('D', 'B', 'A'),\n",
              " ('D', 'B', 'C'),\n",
              " ('D', 'C', 'A'),\n",
              " ('D', 'C', 'B')]"
            ]
          },
          "metadata": {},
          "execution_count": 74
        }
      ]
    },
    {
      "cell_type": "code",
      "source": [
        "list(itertools.permutations('ABCD',2))"
      ],
      "metadata": {
        "colab": {
          "base_uri": "https://localhost:8080/"
        },
        "id": "QQzf_AlKW_b6",
        "outputId": "04d5ac23-6011-49e7-87df-19f2e4a892ec"
      },
      "execution_count": 75,
      "outputs": [
        {
          "output_type": "execute_result",
          "data": {
            "text/plain": [
              "[('A', 'B'),\n",
              " ('A', 'C'),\n",
              " ('A', 'D'),\n",
              " ('B', 'A'),\n",
              " ('B', 'C'),\n",
              " ('B', 'D'),\n",
              " ('C', 'A'),\n",
              " ('C', 'B'),\n",
              " ('C', 'D'),\n",
              " ('D', 'A'),\n",
              " ('D', 'B'),\n",
              " ('D', 'C')]"
            ]
          },
          "metadata": {},
          "execution_count": 75
        }
      ]
    },
    {
      "cell_type": "code",
      "source": [
        "list(itertools.combinations('ABCD',2))"
      ],
      "metadata": {
        "colab": {
          "base_uri": "https://localhost:8080/"
        },
        "id": "sM-36-O5XDpt",
        "outputId": "d11e1502-6816-4912-96fb-b4070ca0da75"
      },
      "execution_count": 76,
      "outputs": [
        {
          "output_type": "execute_result",
          "data": {
            "text/plain": [
              "[('A', 'B'), ('A', 'C'), ('A', 'D'), ('B', 'C'), ('B', 'D'), ('C', 'D')]"
            ]
          },
          "metadata": {},
          "execution_count": 76
        }
      ]
    },
    {
      "cell_type": "code",
      "source": [
        ""
      ],
      "metadata": {
        "id": "Pdg73Br2XHlU"
      },
      "execution_count": null,
      "outputs": []
    }
  ]
}