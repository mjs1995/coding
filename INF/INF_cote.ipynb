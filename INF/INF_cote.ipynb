{
  "nbformat": 4,
  "nbformat_minor": 0,
  "metadata": {
    "colab": {
      "name": "INF_cote.ipynb",
      "provenance": [],
      "collapsed_sections": [
        "Mjo6d-bou1Bx"
      ],
      "authorship_tag": "ABX9TyPYLCCmj6ffQ3gFgk93tjKh",
      "include_colab_link": true
    },
    "kernelspec": {
      "name": "python3",
      "display_name": "Python 3"
    },
    "language_info": {
      "name": "python"
    }
  },
  "cells": [
    {
      "cell_type": "markdown",
      "metadata": {
        "id": "view-in-github",
        "colab_type": "text"
      },
      "source": [
        "<a href=\"https://colab.research.google.com/github/mjs1995/coding/blob/main/INF/INF_cote.ipynb\" target=\"_parent\"><img src=\"https://colab.research.google.com/assets/colab-badge.svg\" alt=\"Open In Colab\"/></a>"
      ]
    },
    {
      "cell_type": "markdown",
      "source": [
        "\n",
        "# 암호를 해독해라"
      ],
      "metadata": {
        "id": "Mjo6d-bou1Bx"
      }
    },
    {
      "cell_type": "code",
      "execution_count": 5,
      "metadata": {
        "id": "CWZIjyS0uwdX"
      },
      "outputs": [],
      "source": [
        "text = ['   + -- + - + -   ',\n",
        "        '   + --- + - +   ',\n",
        "        '   + -- + - + -   ',\n",
        "        '   + - + - + - +   '\n",
        " ]"
      ]
    },
    {
      "cell_type": "code",
      "source": [
        "for i in text:\n",
        "     print(int(i.strip().replace(' ', '').replace('+', '1').replace('-','0'), 2))"
      ],
      "metadata": {
        "colab": {
          "base_uri": "https://localhost:8080/"
        },
        "id": "Wi37zBpNu9cd",
        "outputId": "83319bec-a542-4419-b23d-a958e946faea"
      },
      "execution_count": 7,
      "outputs": [
        {
          "output_type": "stream",
          "name": "stdout",
          "text": [
            "74\n",
            "69\n",
            "74\n",
            "85\n"
          ]
        }
      ]
    },
    {
      "cell_type": "code",
      "source": [
        "# ord() : 문자 -> 숫자\n",
        "# chr() : 숫자 -> 문자 \n",
        "for i in text:\n",
        "     print(chr(int(i.strip().replace(' ', '').replace('+', '1').replace('-','0'), 2)))"
      ],
      "metadata": {
        "colab": {
          "base_uri": "https://localhost:8080/"
        },
        "id": "PzXJeghSvJ5_",
        "outputId": "4acacb4c-fb09-44bd-8381-04f7a5c88e2a"
      },
      "execution_count": 8,
      "outputs": [
        {
          "output_type": "stream",
          "name": "stdout",
          "text": [
            "J\n",
            "E\n",
            "J\n",
            "U\n"
          ]
        }
      ]
    },
    {
      "cell_type": "code",
      "source": [
        "l = []\n",
        "for i in text:\n",
        "     l.append((chr(int(i.strip().replace(' ', '').replace('+', '1').replace('-','0'), 2))))"
      ],
      "metadata": {
        "id": "LtA-KDhCv2cK"
      },
      "execution_count": 9,
      "outputs": []
    },
    {
      "cell_type": "code",
      "source": [
        "''.join(l)"
      ],
      "metadata": {
        "colab": {
          "base_uri": "https://localhost:8080/",
          "height": 35
        },
        "id": "Ir-zizmqv9Yb",
        "outputId": "d91729c2-5868-4e32-c7b4-76ab74b7ae2d"
      },
      "execution_count": 10,
      "outputs": [
        {
          "output_type": "execute_result",
          "data": {
            "application/vnd.google.colaboratory.intrinsic+json": {
              "type": "string"
            },
            "text/plain": [
              "'JEJU'"
            ]
          },
          "metadata": {},
          "execution_count": 10
        }
      ]
    },
    {
      "cell_type": "code",
      "source": [
        "[i for i in text]"
      ],
      "metadata": {
        "colab": {
          "base_uri": "https://localhost:8080/"
        },
        "id": "WFaf4tl7v-8o",
        "outputId": "b6fa534d-f7b7-44e7-b764-0ce1a60efbd8"
      },
      "execution_count": 11,
      "outputs": [
        {
          "output_type": "execute_result",
          "data": {
            "text/plain": [
              "['   + -- + - + -   ',\n",
              " '   + --- + - +   ',\n",
              " '   + -- + - + -   ',\n",
              " '   + - + - + - +   ']"
            ]
          },
          "metadata": {},
          "execution_count": 11
        }
      ]
    },
    {
      "cell_type": "code",
      "source": [
        "''.join([chr(int(i.strip().replace(' ', '').replace('+', '1').replace('-','0'), 2)) for i in text])"
      ],
      "metadata": {
        "colab": {
          "base_uri": "https://localhost:8080/",
          "height": 35
        },
        "id": "C9fu_hr3wBGF",
        "outputId": "92510d9a-26e1-45f9-ae83-ad5b38b88205"
      },
      "execution_count": 14,
      "outputs": [
        {
          "output_type": "execute_result",
          "data": {
            "application/vnd.google.colaboratory.intrinsic+json": {
              "type": "string"
            },
            "text/plain": [
              "'JEJU'"
            ]
          },
          "metadata": {},
          "execution_count": 14
        }
      ]
    },
    {
      "cell_type": "code",
      "source": [
        "[i for i in range(10) if i % 2 == 0]"
      ],
      "metadata": {
        "colab": {
          "base_uri": "https://localhost:8080/"
        },
        "id": "Jg9Ey8VDwSDX",
        "outputId": "db609410-8490-47bc-90fc-d3f5240a3522"
      },
      "execution_count": 16,
      "outputs": [
        {
          "output_type": "execute_result",
          "data": {
            "text/plain": [
              "[0, 2, 4, 6, 8]"
            ]
          },
          "metadata": {},
          "execution_count": 16
        }
      ]
    },
    {
      "cell_type": "code",
      "source": [
        "#[f'{i} X {j} = {i*j}' for i in range(2,10) for j in range(1,10)]"
      ],
      "metadata": {
        "id": "pA1HFk-GwXRM"
      },
      "execution_count": 18,
      "outputs": []
    },
    {
      "cell_type": "code",
      "source": [
        "'111'.zfill(10)"
      ],
      "metadata": {
        "colab": {
          "base_uri": "https://localhost:8080/",
          "height": 35
        },
        "id": "QSKnMozIwhVs",
        "outputId": "026eacfb-2fc6-4e54-e259-0a0d56beb5ab"
      },
      "execution_count": 20,
      "outputs": [
        {
          "output_type": "execute_result",
          "data": {
            "application/vnd.google.colaboratory.intrinsic+json": {
              "type": "string"
            },
            "text/plain": [
              "'0000000111'"
            ]
          },
          "metadata": {},
          "execution_count": 20
        }
      ]
    },
    {
      "cell_type": "code",
      "source": [
        "s = [i.strip().replace(' ', '').replace('+', '1').replace('-','0') for i in text]\n",
        "s"
      ],
      "metadata": {
        "colab": {
          "base_uri": "https://localhost:8080/"
        },
        "id": "3QSZMRJ6wryC",
        "outputId": "e99bdcc6-350d-4c02-c468-4ecb09aeefe8"
      },
      "execution_count": 23,
      "outputs": [
        {
          "output_type": "execute_result",
          "data": {
            "text/plain": [
              "['1001010', '1000101', '1001010', '1010101']"
            ]
          },
          "metadata": {},
          "execution_count": 23
        }
      ]
    },
    {
      "cell_type": "code",
      "source": [
        "list(map(lambda x : chr(int(x, 2)), s))"
      ],
      "metadata": {
        "colab": {
          "base_uri": "https://localhost:8080/"
        },
        "id": "6Eyu9FI2w_fq",
        "outputId": "e5c8e935-4664-4448-aae8-58c32c501017"
      },
      "execution_count": 24,
      "outputs": [
        {
          "output_type": "execute_result",
          "data": {
            "text/plain": [
              "['J', 'E', 'J', 'U']"
            ]
          },
          "metadata": {},
          "execution_count": 24
        }
      ]
    },
    {
      "cell_type": "code",
      "source": [
        "def f(x):\n",
        "    return (chr(int(x,2)))\n",
        "''.join(list(map(f,s)))"
      ],
      "metadata": {
        "colab": {
          "base_uri": "https://localhost:8080/",
          "height": 35
        },
        "id": "rOF05JzoxIzy",
        "outputId": "5407211e-06f2-4ef3-d500-2086f9edfb96"
      },
      "execution_count": 26,
      "outputs": [
        {
          "output_type": "execute_result",
          "data": {
            "application/vnd.google.colaboratory.intrinsic+json": {
              "type": "string"
            },
            "text/plain": [
              "'JEJU'"
            ]
          },
          "metadata": {},
          "execution_count": 26
        }
      ]
    },
    {
      "cell_type": "markdown",
      "source": [
        "# JAVA독과 함께"
      ],
      "metadata": {
        "id": "exXbOsSbxSS6"
      }
    },
    {
      "cell_type": "code",
      "source": [
        "돌의내구도 = [1, 2, 1, 4]\n",
        "독 = [{\n",
        "    \"이름\" : \"루비독\",\n",
        "    \"나이\" : \"95년생\",\n",
        "    \"점프력\" : \"3\",\n",
        "    \"몸무게\" : \"4\",\n",
        "    },{\n",
        "    \"이름\" : \"피치독\",\n",
        "    \"나이\" : \"95년생\",\n",
        "    \"점프력\" : \"3\",\n",
        "    \"몸무게\" : \"3\",\n",
        "    },{\n",
        "    \"이름\" : \"씨-독\",\n",
        "    \"나이\" : \"72년생\",\n",
        "    \"점프력\" : \"2\",\n",
        "    \"몸무게\" : \"1\",\n",
        "    },{\n",
        "    \"이름\" : \"코볼독\",\n",
        "    \"나이\" : \"59년생\",\n",
        "    \"점프력\" : \"1\",\n",
        "    \"몸무게\" : \"1\",\n",
        "    }]"
      ],
      "metadata": {
        "id": "TTdZ1VECxNDb"
      },
      "execution_count": 38,
      "outputs": []
    },
    {
      "cell_type": "code",
      "source": [
        "def 징검다리를건너라(돌의내구도, 독):\n",
        "    answer = [독[i]['이름'] for i in range(len(독))]\n",
        "    return answer \n",
        "\n",
        "print(징검다리를건너라(돌의내구도, 독))"
      ],
      "metadata": {
        "colab": {
          "base_uri": "https://localhost:8080/"
        },
        "id": "r8qKhtPBxxLu",
        "outputId": "b738062c-0711-4e26-c55b-7c4d47ba2fa0"
      },
      "execution_count": 33,
      "outputs": [
        {
          "output_type": "stream",
          "name": "stdout",
          "text": [
            "['루비독', '피치독', '씨-독', '코볼독']\n"
          ]
        }
      ]
    },
    {
      "cell_type": "code",
      "source": [
        "def 징검다리를건너라(돌의내구도, 독):\n",
        "    answer = [i['이름'] for i in 독]\n",
        "    for i in 독:\n",
        "        독의위치 = 0\n",
        "        while 독의위치 < len(돌의내구도)-1:\n",
        "            독의위치 += int(i['점프력'])\n",
        "            돌의내구도[독의위치-1] -= int(i['점프력'])\n",
        "            if 돌의내구도[독의위치-1] < 0:\n",
        "                del answer[answer.index(i['이름'])]\n",
        "                break\n",
        "    return answer\n",
        "\n",
        "print(징검다리를건너라(돌의내구도.copy(), 독.copy()))"
      ],
      "metadata": {
        "colab": {
          "base_uri": "https://localhost:8080/"
        },
        "id": "ooTpT88kx7zZ",
        "outputId": "5b264661-5d24-46f5-833f-fdfc0517708b"
      },
      "execution_count": 42,
      "outputs": [
        {
          "output_type": "stream",
          "name": "stdout",
          "text": [
            "['씨-독']\n"
          ]
        }
      ]
    },
    {
      "cell_type": "code",
      "source": [
        "ll = [1,2,3,4,5]\n",
        "def change(l):\n",
        "    l[0] = 1000\n",
        "change(ll)\n",
        "ll"
      ],
      "metadata": {
        "colab": {
          "base_uri": "https://localhost:8080/"
        },
        "id": "EDupROhrySvQ",
        "outputId": "5e59beb0-7606-482c-a8e0-baea11f93568"
      },
      "execution_count": 40,
      "outputs": [
        {
          "output_type": "execute_result",
          "data": {
            "text/plain": [
              "[1000, 2, 3, 4, 5]"
            ]
          },
          "metadata": {},
          "execution_count": 40
        }
      ]
    },
    {
      "cell_type": "code",
      "source": [
        "xx = 100\n",
        "\n",
        "def change(x):\n",
        "    x += 1000\n",
        "change(xx)\n",
        "xx"
      ],
      "metadata": {
        "colab": {
          "base_uri": "https://localhost:8080/"
        },
        "id": "-XAW1OTszFTE",
        "outputId": "23c154e3-1cab-4219-9e11-a6628f7dae96"
      },
      "execution_count": 41,
      "outputs": [
        {
          "output_type": "execute_result",
          "data": {
            "text/plain": [
              "100"
            ]
          },
          "metadata": {},
          "execution_count": 41
        }
      ]
    },
    {
      "cell_type": "code",
      "source": [
        "import json\n",
        "JSON독 = json.dumps(독, ensure_ascii=False)\n",
        "JSON독"
      ],
      "metadata": {
        "colab": {
          "base_uri": "https://localhost:8080/",
          "height": 72
        },
        "id": "EY05jWmBzJlH",
        "outputId": "a0fe4e4d-e343-417e-f86a-17a7e352bcfd"
      },
      "execution_count": 44,
      "outputs": [
        {
          "output_type": "execute_result",
          "data": {
            "application/vnd.google.colaboratory.intrinsic+json": {
              "type": "string"
            },
            "text/plain": [
              "'[{\"이름\": \"루비독\", \"나이\": \"95년생\", \"점프력\": \"3\", \"몸무게\": \"4\"}, {\"이름\": \"피치독\", \"나이\": \"95년생\", \"점프력\": \"3\", \"몸무게\": \"3\"}, {\"이름\": \"씨-독\", \"나이\": \"72년생\", \"점프력\": \"2\", \"몸무게\": \"1\"}, {\"이름\": \"코볼독\", \"나이\": \"59년생\", \"점프력\": \"1\", \"몸무게\": \"1\"}]'"
            ]
          },
          "metadata": {},
          "execution_count": 44
        }
      ]
    },
    {
      "cell_type": "code",
      "source": [
        "JSON독[0]"
      ],
      "metadata": {
        "colab": {
          "base_uri": "https://localhost:8080/",
          "height": 35
        },
        "id": "_I_zEFtSzpWP",
        "outputId": "8fabdb14-b460-406b-f941-b2ce07a3ac81"
      },
      "execution_count": 46,
      "outputs": [
        {
          "output_type": "execute_result",
          "data": {
            "application/vnd.google.colaboratory.intrinsic+json": {
              "type": "string"
            },
            "text/plain": [
              "'['"
            ]
          },
          "metadata": {},
          "execution_count": 46
        }
      ]
    },
    {
      "cell_type": "code",
      "source": [
        "#JSON독 = json.loads(JSON독)"
      ],
      "metadata": {
        "id": "iuO_yHERzwG7"
      },
      "execution_count": 50,
      "outputs": []
    },
    {
      "cell_type": "code",
      "source": [
        "JSON독"
      ],
      "metadata": {
        "colab": {
          "base_uri": "https://localhost:8080/"
        },
        "id": "v_HAT6Itz1TR",
        "outputId": "828344e6-53ae-41a2-e8d0-0d2ca7f5ed3c"
      },
      "execution_count": 48,
      "outputs": [
        {
          "output_type": "execute_result",
          "data": {
            "text/plain": [
              "[{'나이': '95년생', '몸무게': '4', '이름': '루비독', '점프력': '3'},\n",
              " {'나이': '95년생', '몸무게': '3', '이름': '피치독', '점프력': '3'},\n",
              " {'나이': '72년생', '몸무게': '1', '이름': '씨-독', '점프력': '2'},\n",
              " {'나이': '59년생', '몸무게': '1', '이름': '코볼독', '점프력': '1'}]"
            ]
          },
          "metadata": {},
          "execution_count": 48
        }
      ]
    },
    {
      "cell_type": "code",
      "source": [
        "JSON독[0]"
      ],
      "metadata": {
        "colab": {
          "base_uri": "https://localhost:8080/"
        },
        "id": "C7aD0M01z59m",
        "outputId": "f89766c5-2c6d-4ffc-ca10-7e5eb9be480c"
      },
      "execution_count": 51,
      "outputs": [
        {
          "output_type": "execute_result",
          "data": {
            "text/plain": [
              "{'나이': '95년생', '몸무게': '4', '이름': '루비독', '점프력': '3'}"
            ]
          },
          "metadata": {},
          "execution_count": 51
        }
      ]
    },
    {
      "cell_type": "markdown",
      "source": [
        "# 섬으로 건너가라 "
      ],
      "metadata": {
        "id": "RJAA03AAPMyk"
      }
    },
    {
      "cell_type": "code",
      "source": [
        "대기인원 = 14000605"
      ],
      "metadata": {
        "id": "KXMRYfOXPN1V"
      },
      "execution_count": 1,
      "outputs": []
    },
    {
      "cell_type": "code",
      "source": [
        "대기일= 대기인원 // 1200\n",
        "대기일"
      ],
      "metadata": {
        "colab": {
          "base_uri": "https://localhost:8080/"
        },
        "id": "QYihVW15Pi42",
        "outputId": "8037c295-438a-429f-e824-4a562cc4aa74"
      },
      "execution_count": 5,
      "outputs": [
        {
          "output_type": "execute_result",
          "data": {
            "text/plain": [
              "11667"
            ]
          },
          "metadata": {},
          "execution_count": 5
        }
      ]
    },
    {
      "cell_type": "code",
      "source": [
        "일년일수 = 0\n",
        "for i in range(10,0, -1):\n",
        "    print(2**i)\n",
        "    일년일수 += 2** i\n",
        "\n",
        "일년일수"
      ],
      "metadata": {
        "colab": {
          "base_uri": "https://localhost:8080/"
        },
        "id": "UT-FoGnyPjuz",
        "outputId": "840c5958-a042-475d-f150-cc3ec84b3b99"
      },
      "execution_count": 4,
      "outputs": [
        {
          "output_type": "stream",
          "name": "stdout",
          "text": [
            "1024\n",
            "512\n",
            "256\n",
            "128\n",
            "64\n",
            "32\n",
            "16\n",
            "8\n",
            "4\n",
            "2\n"
          ]
        },
        {
          "output_type": "execute_result",
          "data": {
            "text/plain": [
              "2046"
            ]
          },
          "metadata": {},
          "execution_count": 4
        }
      ]
    },
    {
      "cell_type": "code",
      "source": [
        "# 5년 \n",
        "대기일 // 일년일수 "
      ],
      "metadata": {
        "colab": {
          "base_uri": "https://localhost:8080/"
        },
        "id": "UsVuMFxdPnnW",
        "outputId": "529f1ebf-1c00-42ae-e8e1-77fad21231ef"
      },
      "execution_count": 7,
      "outputs": [
        {
          "output_type": "execute_result",
          "data": {
            "text/plain": [
              "5"
            ]
          },
          "metadata": {},
          "execution_count": 7
        }
      ]
    },
    {
      "cell_type": "code",
      "source": [
        "남은일수 = 대기일 % 일년일수 \n",
        "남은일수 "
      ],
      "metadata": {
        "colab": {
          "base_uri": "https://localhost:8080/"
        },
        "id": "mC5aRc6oPyPP",
        "outputId": "52e403b9-5b99-498d-e165-7a7538b6646e"
      },
      "execution_count": 9,
      "outputs": [
        {
          "output_type": "execute_result",
          "data": {
            "text/plain": [
              "1437"
            ]
          },
          "metadata": {},
          "execution_count": 9
        }
      ]
    },
    {
      "cell_type": "code",
      "source": [
        "월별일수누적값 = 0\n",
        "월 = 0\n",
        "for i in range(10,0, -1):\n",
        "    차감일 = 월별일수누적값\n",
        "    월별일수누적값 += 2**i\n",
        "    월 += 1\n",
        "    if 월별일수누적값 > 남은일수 :\n",
        "        break\n",
        "월"
      ],
      "metadata": {
        "colab": {
          "base_uri": "https://localhost:8080/"
        },
        "id": "qtBKOsKxP3z0",
        "outputId": "67016cf9-8a3f-4e88-a97c-1c1d8c955518"
      },
      "execution_count": 14,
      "outputs": [
        {
          "output_type": "execute_result",
          "data": {
            "text/plain": [
              "2"
            ]
          },
          "metadata": {},
          "execution_count": 14
        }
      ]
    },
    {
      "cell_type": "code",
      "source": [
        "남은일수 - 차감일"
      ],
      "metadata": {
        "colab": {
          "base_uri": "https://localhost:8080/"
        },
        "id": "La7v29LJQB8Y",
        "outputId": "b9705c97-c778-44d8-d5fe-1043ecf4696c"
      },
      "execution_count": 15,
      "outputs": [
        {
          "output_type": "execute_result",
          "data": {
            "text/plain": [
              "413"
            ]
          },
          "metadata": {},
          "execution_count": 15
        }
      ]
    },
    {
      "cell_type": "code",
      "source": [
        "대기인원 % 1200"
      ],
      "metadata": {
        "colab": {
          "base_uri": "https://localhost:8080/"
        },
        "id": "2XScRwFyQTSd",
        "outputId": "3e9f16dc-8488-4bcc-fb07-c49793ac9748"
      },
      "execution_count": 16,
      "outputs": [
        {
          "output_type": "execute_result",
          "data": {
            "text/plain": [
              "205"
            ]
          },
          "metadata": {},
          "execution_count": 16
        }
      ]
    },
    {
      "cell_type": "code",
      "source": [
        "# 224이 남았다고 생각해봅시다\n",
        "# 225 라이캣\n",
        "# - \n",
        "# 226 자바독 \n",
        "\n",
        "# 223이 남았다고 생각해봅시다\n",
        "# 224 225 \n",
        "\n",
        "# 225이 남았다고 생각해봅시다\n",
        "# -\n",
        "# 226 227"
      ],
      "metadata": {
        "id": "5HL9ZKx0QUcq"
      },
      "execution_count": 17,
      "outputs": []
    },
    {
      "cell_type": "code",
      "source": [
        "최종남은인원 = 대기인원 % 1200\n",
        "최종남은인원 // 100 + 9"
      ],
      "metadata": {
        "colab": {
          "base_uri": "https://localhost:8080/"
        },
        "id": "IuNyLYygQhKS",
        "outputId": "36e1e0d8-e10f-4150-c2fb-09825abfba00"
      },
      "execution_count": 18,
      "outputs": [
        {
          "output_type": "execute_result",
          "data": {
            "text/plain": [
              "11"
            ]
          },
          "metadata": {},
          "execution_count": 18
        }
      ]
    },
    {
      "cell_type": "code",
      "source": [
        "출발분 = [25, 40, 55, 70, 85, 100]\n",
        "몇분에탈지계산 = 98+1 # 경우에는 시간으로 넘어가 +1 해주기 \n",
        "for i in 출발분:\n",
        "    if i > 몇분에탈지계산:\n",
        "        당일출발_분= 출발분.index(i) * 10\n",
        "        break\n",
        "\n",
        "당일출발_분"
      ],
      "metadata": {
        "colab": {
          "base_uri": "https://localhost:8080/"
        },
        "id": "gVSbM0wfQkt0",
        "outputId": "444c792c-bb67-4c97-8378-e9220582bb98"
      },
      "execution_count": 20,
      "outputs": [
        {
          "output_type": "execute_result",
          "data": {
            "text/plain": [
              "50"
            ]
          },
          "metadata": {},
          "execution_count": 20
        }
      ]
    },
    {
      "cell_type": "code",
      "source": [
        "!pip install datetime"
      ],
      "metadata": {
        "colab": {
          "base_uri": "https://localhost:8080/"
        },
        "id": "JB4ib16jRHMJ",
        "outputId": "29a84309-0d66-4db9-f9fe-61358ad43459"
      },
      "execution_count": 22,
      "outputs": [
        {
          "output_type": "stream",
          "name": "stdout",
          "text": [
            "Collecting datetime\n",
            "  Downloading DateTime-4.3-py2.py3-none-any.whl (60 kB)\n",
            "\u001b[K     |████████████████████████████████| 60 kB 2.9 MB/s \n",
            "\u001b[?25hRequirement already satisfied: pytz in /usr/local/lib/python3.7/dist-packages (from datetime) (2018.9)\n",
            "Collecting zope.interface\n",
            "  Downloading zope.interface-5.4.0-cp37-cp37m-manylinux2010_x86_64.whl (251 kB)\n",
            "\u001b[K     |████████████████████████████████| 251 kB 7.4 MB/s \n",
            "\u001b[?25hRequirement already satisfied: setuptools in /usr/local/lib/python3.7/dist-packages (from zope.interface->datetime) (57.4.0)\n",
            "Installing collected packages: zope.interface, datetime\n",
            "Successfully installed datetime-4.3 zope.interface-5.4.0\n"
          ]
        }
      ]
    },
    {
      "cell_type": "code",
      "source": [
        "import datetime\n",
        "\n",
        "오늘시간 = datetime.datetime.today()\n",
        "오늘시간"
      ],
      "metadata": {
        "colab": {
          "base_uri": "https://localhost:8080/"
        },
        "id": "Se5cQYpyQ6m6",
        "outputId": "ac52f7ac-c6ce-4feb-e804-e1940daba2e4"
      },
      "execution_count": 25,
      "outputs": [
        {
          "output_type": "execute_result",
          "data": {
            "text/plain": [
              "datetime.datetime(2022, 1, 2, 14, 50, 3, 900283)"
            ]
          },
          "metadata": {},
          "execution_count": 25
        }
      ]
    },
    {
      "cell_type": "code",
      "source": [
        "오늘시간.minute"
      ],
      "metadata": {
        "colab": {
          "base_uri": "https://localhost:8080/"
        },
        "id": "WbnVnf9jRFPT",
        "outputId": "63b37f17-50ae-4ce2-e2f1-34e2ffb6a67b"
      },
      "execution_count": 26,
      "outputs": [
        {
          "output_type": "execute_result",
          "data": {
            "text/plain": [
              "50"
            ]
          },
          "metadata": {},
          "execution_count": 26
        }
      ]
    },
    {
      "cell_type": "code",
      "source": [
        "시간 = 1\n",
        "분 = 1\n",
        "f'{시간:0>2}:{분:0>2}'"
      ],
      "metadata": {
        "colab": {
          "base_uri": "https://localhost:8080/",
          "height": 35
        },
        "id": "_DYzdNOURKJF",
        "outputId": "a5ce55d8-f1c8-4242-b99a-1bf0e8046cd1"
      },
      "execution_count": 28,
      "outputs": [
        {
          "output_type": "execute_result",
          "data": {
            "application/vnd.google.colaboratory.intrinsic+json": {
              "type": "string"
            },
            "text/plain": [
              "'01:01'"
            ]
          },
          "metadata": {},
          "execution_count": 28
        }
      ]
    },
    {
      "cell_type": "code",
      "source": [
        "'hello world'.zfill(20)"
      ],
      "metadata": {
        "colab": {
          "base_uri": "https://localhost:8080/",
          "height": 35
        },
        "id": "j0EtzUuKRVU5",
        "outputId": "cbb1a390-efbe-44d8-f549-34b4fac1d812"
      },
      "execution_count": 30,
      "outputs": [
        {
          "output_type": "execute_result",
          "data": {
            "application/vnd.google.colaboratory.intrinsic+json": {
              "type": "string"
            },
            "text/plain": [
              "'000000000hello world'"
            ]
          },
          "metadata": {},
          "execution_count": 30
        }
      ]
    },
    {
      "cell_type": "code",
      "source": [
        "import datetime\n",
        "오늘시간 = datetime.datetime.today()\n",
        "대기인원 = 1400605\n",
        "\n",
        "def solution(대기인원):\n",
        "    일년일수 = 0\n",
        "    for i in range(10,0, -1):\n",
        "        일년일수 += 2** i\n",
        "    년 = (대기인원 // 1200) // 일년일수\n",
        "    남은일수 = (대기인원 // 1200) % 일년일수\n",
        "\n",
        "    월별일수누적값 = 0\n",
        "    월 = 0\n",
        "    for i in range(10,0, -1):\n",
        "        차감일 = 월별일수누적값\n",
        "        월별일수누적값 += 2**i\n",
        "        월 += 1\n",
        "        if 월별일수누적값 > 남은일수 :\n",
        "            break\n",
        "    일 = 남은일수 - 차감일\n",
        "    최종남은인원 = 대기인원 % 1200\n",
        "    시 = 최종남은인원 // 100 + 9 \n",
        "    \n",
        "    출발분 = [25, 40, 55, 70, 85, 100]\n",
        "    해당시간에남은인원 = 최종남은인원 % 100\n",
        "    for i in 출발분:\n",
        "        if i > 몇분에탈지계산:\n",
        "            분= 출발분.index(i) * 10\n",
        "            break\n",
        "\n",
        "    if 최종남은인원 % 100 == 99:\n",
        "        시 += 1\n",
        "        분 = 0\n",
        "\n",
        "    if(오늘시간.minute + 분 > 60):\n",
        "        분 = (오늘시간.minute + 분) - 60\n",
        "        시 +=1\n",
        "    \n",
        "    return f\"{년+2020}년 {월}월 {일}일 {시}시 {분}분 출발\"\n",
        "\n",
        "solution(대기인원)"
      ],
      "metadata": {
        "colab": {
          "base_uri": "https://localhost:8080/",
          "height": 35
        },
        "id": "R34PDOQURY-Y",
        "outputId": "f496a97e-53c3-44dd-9d0a-2210a9e76c97"
      },
      "execution_count": 43,
      "outputs": [
        {
          "output_type": "execute_result",
          "data": {
            "application/vnd.google.colaboratory.intrinsic+json": {
              "type": "string"
            },
            "text/plain": [
              "'2020년 2월 143일 12시 48분 출발'"
            ]
          },
          "metadata": {},
          "execution_count": 43
        }
      ]
    },
    {
      "cell_type": "code",
      "source": [
        ""
      ],
      "metadata": {
        "id": "mCHPodATSd26"
      },
      "execution_count": null,
      "outputs": []
    }
  ]
}