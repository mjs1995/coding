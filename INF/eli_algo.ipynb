{
  "nbformat": 4,
  "nbformat_minor": 0,
  "metadata": {
    "colab": {
      "name": "eli_algo.ipynb",
      "provenance": [],
      "authorship_tag": "ABX9TyMpAaXbKFBw5+wjgi/GsVx1",
      "include_colab_link": true
    },
    "kernelspec": {
      "name": "python3",
      "display_name": "Python 3"
    },
    "language_info": {
      "name": "python"
    },
    "gpuClass": "standard"
  },
  "cells": [
    {
      "cell_type": "markdown",
      "metadata": {
        "id": "view-in-github",
        "colab_type": "text"
      },
      "source": [
        "<a href=\"https://colab.research.google.com/github/mjs1995/coding/blob/main/INF/eli_algo.ipynb\" target=\"_parent\"><img src=\"https://colab.research.google.com/assets/colab-badge.svg\" alt=\"Open In Colab\"/></a>"
      ]
    },
    {
      "cell_type": "markdown",
      "source": [
        "# 재귀호출"
      ],
      "metadata": {
        "id": "JWLCEbtYOabM"
      }
    },
    {
      "cell_type": "markdown",
      "source": [
        "## K번째 숫자 찾기"
      ],
      "metadata": {
        "id": "0wsJvEuZOXMf"
      }
    },
    {
      "cell_type": "code",
      "execution_count": null,
      "metadata": {
        "id": "hc6lHKutMQfP"
      },
      "outputs": [],
      "source": [
        "def findKth(myInput, k) :\n",
        "    '''\n",
        "    매 순간마다 k번째로 작은 원소를 리스트로 반환합니다.\n",
        "    '''\n",
        "\n",
        "    result = []\n",
        "    data = []\n",
        "    for element in myInput:\n",
        "        data.append(element)\n",
        "        data.sort()\n",
        "        if len(data) <k:\n",
        "            result.append(-1)\n",
        "        else:\n",
        "            result.append(data[k-1])\n",
        "    return result\n",
        "\n",
        "def main():\n",
        "    '''\n",
        "    테스트를 하고싶으면, 아래 부분을 수정합니다.\n",
        "    '''\n",
        "\n",
        "    firstLine = [int(x) for x in input(\"n과 k를 입력하세요 (예시:10 3): \").split()]\n",
        "    myInput = [int(x) for x in input(\"n개의 숫자를 차례대로 입력하세요 (예시:1 9 8 5 2 3 5 6 2 10): \").split()]\n",
        "\n",
        "    print('정렬 결과: ', *findKth(myInput, firstLine[1]))\n",
        "if __name__ == \"__main__\":\n",
        "    main()"
      ]
    },
    {
      "cell_type": "markdown",
      "source": [
        "## quick sort"
      ],
      "metadata": {
        "id": "G_QH0RlaWAMw"
      }
    },
    {
      "cell_type": "code",
      "source": [
        "def quickSort(array):\n",
        "    '''\n",
        "    퀵정렬을 통해 오름차순으로 정렬된 array를반환하는 함수를 작성하세요.\n",
        "    '''\n",
        "    if len(array) <= 1:\n",
        "        return array\n",
        "    \n",
        "    pivot = array[0]\n",
        "    left = getSmall(array[1:], pivot)\n",
        "    right = getLarge(array[1:],pivot)\n",
        "\n",
        "    return quickSort(left) + [pivot] +quickSort(right)\n",
        "\n",
        "def getSmall(array, pivot):\n",
        "    data = []\n",
        "\n",
        "    for a in array:\n",
        "        if a <= pivot:\n",
        "            data.append(a)\n",
        "    return data\n",
        "\n",
        "def getLarge(array,pivot):\n",
        "    data = []\n",
        "\n",
        "    for a in array:\n",
        "        if a > pivot:\n",
        "            data.append(a)\n",
        "    return data\n",
        "\n",
        "def main():\n",
        "    line = [int(x) for x in input(\"정렬할 수를 입력하세요 (예시:10 2 3 4 5 6 9 7 8 1): \").split()]\n",
        "\n",
        "    print('정렬 결과:', *quickSort(line))\n",
        "\n",
        "if __name__ == \"__main__\":\n",
        "    main()\n"
      ],
      "metadata": {
        "id": "v0kTGQlmWBX9"
      },
      "execution_count": null,
      "outputs": []
    },
    {
      "cell_type": "markdown",
      "source": [
        "## 올바른 괄호인지 판단하기\n"
      ],
      "metadata": {
        "id": "AxOmaEyeXtcR"
      }
    },
    {
      "cell_type": "code",
      "source": [
        "def checkParen(p):\n",
        "    '''\n",
        "    괄호 문자열 p의 쌍이 맞으면 \"YES\", 아니면  \"NO\"를 반환\n",
        "    1.기저조건 처리\n",
        "    2.p에서 인접한 괄호쌍을 찾아 제거\n",
        "    3.checkParen()함수에 다시 물어봄 \n",
        "    '''\n",
        "    if len(p) == 0:\n",
        "        return \"YES\"\n",
        "    elif len(p) == 1:\n",
        "        return \"NO\"\n",
        "    \n",
        "    for i in range(len(p)-1):\n",
        "        if p[i] == '(' and p[i+1] == ')':\n",
        "            q = p[:i] + p[i+2:]\n",
        "            return checkParen(q)\n",
        "    return \"NO\"\n",
        "\n",
        "def main():\n",
        "    '''\n",
        "    이 부분은 수정하지 마세요.\n",
        "    '''\n",
        "\n",
        "    x = input()\n",
        "    print(checkParen(x))\n",
        "\n",
        "if __name__ == \"__main__\":\n",
        "    main()"
      ],
      "metadata": {
        "id": "AlPJmOZ-XunV"
      },
      "execution_count": null,
      "outputs": []
    },
    {
      "cell_type": "markdown",
      "source": [
        "## 이진수 변환"
      ],
      "metadata": {
        "id": "cXGfLHAwX4Mb"
      }
    },
    {
      "cell_type": "code",
      "source": [
        "import sys\n",
        "sys.setrecursionlimit(100000)\n",
        "def convertBinary(n) :\n",
        "    '''\n",
        "    10진수 n을 2진수로 변환하여 반환합니다.\n",
        "\n",
        "    *주의* : 변환된 2진수는 문자열이어야 합니다.\n",
        "\n",
        "    예를 들어, 19가 입력될 경우 문자열 \"10011\"이 반환되어야 합니다.\n",
        "    '''\n",
        "    return format(n, 'b')\n",
        "def main():\n",
        "    '''\n",
        "    이 부분은 수정하지 마세요.\n",
        "    '''\n",
        "    n = int(input())\n",
        "    print(convertBinary(n))\n",
        "if __name__ == \"__main__\":\n",
        "    main()"
      ],
      "metadata": {
        "colab": {
          "base_uri": "https://localhost:8080/",
          "height": 35
        },
        "id": "yQDvYbwTX4xA",
        "outputId": "3f725d91-a088-425a-86d1-17257f95230e"
      },
      "execution_count": 1,
      "outputs": [
        {
          "output_type": "execute_result",
          "data": {
            "text/plain": [
              "'10011'"
            ],
            "application/vnd.google.colaboratory.intrinsic+json": {
              "type": "string"
            }
          },
          "metadata": {},
          "execution_count": 1
        }
      ]
    },
    {
      "cell_type": "markdown",
      "source": [
        "## 문자열 포함 관계 조사\n"
      ],
      "metadata": {
        "id": "1AdlYQygZDCw"
      }
    },
    {
      "cell_type": "code",
      "source": [
        "A = 'mef'\n",
        "B = 'myself'\n",
        "\n",
        "def strContain(A, B) :\n",
        "    '''\n",
        "    문자열 A의 알파벳이 문자열 B에 모두 포함되어 있으면 \"Yes\", 아니면 \"No\"를 반환합니다.\n",
        "    '''\n",
        "    if A in B:\n",
        "        return 'Yes'\n",
        "    strs = A\n",
        "    if strs[0] in B:\n",
        "        strs = strs[1:]\n",
        "    print(strs)\n",
        "\n",
        "    if strs != '' and strs ==A:\n",
        "        return \"No\"\n",
        "    return strContain(strs, B)\n",
        "strContain(A, B)"
      ],
      "metadata": {
        "colab": {
          "base_uri": "https://localhost:8080/",
          "height": 72
        },
        "id": "l9oZchnPZDfk",
        "outputId": "6b7ac844-f5a4-4ddb-afb3-d2a7d0e0c66b"
      },
      "execution_count": 6,
      "outputs": [
        {
          "output_type": "stream",
          "name": "stdout",
          "text": [
            "ef\n",
            "f\n"
          ]
        },
        {
          "output_type": "execute_result",
          "data": {
            "text/plain": [
              "'Yes'"
            ],
            "application/vnd.google.colaboratory.intrinsic+json": {
              "type": "string"
            }
          },
          "metadata": {},
          "execution_count": 6
        }
      ]
    },
    {
      "cell_type": "markdown",
      "source": [
        "## 최대공약수 구하기"
      ],
      "metadata": {
        "id": "pjAfraTIbBX8"
      }
    },
    {
      "cell_type": "code",
      "source": [
        "def GCD(x, y) :\n",
        "    '''\n",
        "    x, y의 최대공약수를 반환하는 함수\n",
        "    '''\n",
        "    if x % y == 0:\n",
        "        return y \n",
        "    return GCD(y, x%y)\n",
        "\n",
        "def main():\n",
        "    '''\n",
        "    이 부분은 수정하지 마세요.\n",
        "    '''\n",
        "\n",
        "    data = input()\n",
        "\n",
        "    x = int(data.split()[0])\n",
        "    y = int(data.split()[1])\n",
        "\n",
        "    print(GCD(x, y))\n",
        "\n",
        "if __name__ == \"__main__\":\n",
        "    main()"
      ],
      "metadata": {
        "id": "XCuVRSMabCdo"
      },
      "execution_count": null,
      "outputs": []
    },
    {
      "cell_type": "markdown",
      "source": [
        "# 문제 해결 절차, 완전 탐색, 시간복잡도"
      ],
      "metadata": {
        "id": "1xSPQp6oLf9q"
      }
    },
    {
      "cell_type": "markdown",
      "source": [
        "## 연속 부분 최대합 "
      ],
      "metadata": {
        "id": "0fcXg46nOM5n"
      }
    },
    {
      "cell_type": "code",
      "source": [
        "import sys\n",
        "import math \n",
        "def getSubsum(data) :\n",
        "    '''\n",
        "    n개의 숫자가 list로 주어질 때, 그 연속 부분 최대합을 반환하는 함수를 작성하세요.\n",
        "    '''\n",
        "    result = -math.inf\n",
        "    temp = 0\n",
        "    for start in range(0, len(data)):\n",
        "        for end in range(start,len(data)):\n",
        "            temp = 0\n",
        "            for i in range(start, end+1):\n",
        "                temp += data[i]\n",
        "            result = max(result,temp)\n",
        "    return result \n",
        "\n",
        "def main():\n",
        "    '''\n",
        "    이 부분은 수정하지 마세요.\n",
        "    '''\n",
        "\n",
        "    data = [int(x) for x in input().split()]\n",
        "\n",
        "    print(getSubsum(data))\n",
        "\n",
        "if __name__ == \"__main__\":\n",
        "    main()"
      ],
      "metadata": {
        "id": "pn9E29BFLjTS"
      },
      "execution_count": null,
      "outputs": []
    },
    {
      "cell_type": "markdown",
      "source": [
        "## 멱집합 구하기"
      ],
      "metadata": {
        "id": "u-DLpdM4QOjX"
      }
    },
    {
      "cell_type": "code",
      "source": [
        "import sys\n",
        "\n",
        "def getPowerSet(n,k):\n",
        "    '''\n",
        "    1부터 n까지의 자연수의 원소가 있을때 K를 가장 처음으로 선택하는 경우 반환 \n",
        "    '''\n",
        "    if n == k:\n",
        "        return [[k]]\n",
        "    \n",
        "    result = [[k]] \n",
        "    temp = []\n",
        "    for i in range(k+1, n+1):\n",
        "        temp = temp + getPowerSet(n,i)\n",
        "\n",
        "    for i in range(len(temp)):\n",
        "        temp[i] = [k] + temp[i]\n",
        "    return result + temp\n",
        "\n",
        "def powerSet(n) :\n",
        "    '''\n",
        "    n개의 원소를 가지는 집합 A의 멱집합의 원소를 사전 순서대로 list로 반환하는 함수를 작성하시오.\n",
        "\n",
        "    예를 들어, n = 3 일 경우 다음의 list를 반환한다.\n",
        "\n",
        "    [ [1], [1, 2], [1, 3], [1, 2, 3], [2], [2, 3], [3] ]\n",
        "    '''\n",
        "    result = []\n",
        "    for i in range(1, n+1):\n",
        "        result += getPowerSet(n,i)\n",
        "    return result\n",
        "\n",
        "def main():\n",
        "    '''\n",
        "    이 부분은 수정하지 마세요.\n",
        "    '''\n",
        "\n",
        "    n = int(input())\n",
        "\n",
        "    result = powerSet(n)\n",
        "    \n",
        "    for line in result :\n",
        "        print(*line)\n",
        "\n",
        "if __name__ == \"__main__\":\n",
        "    main()\n"
      ],
      "metadata": {
        "id": "MNT3f27dQPb3"
      },
      "execution_count": null,
      "outputs": []
    },
    {
      "cell_type": "markdown",
      "source": [
        "# 균형 맞추기"
      ],
      "metadata": {
        "id": "XqYdG1A33fiy"
      }
    },
    {
      "cell_type": "code",
      "source": [
        "import sys\n",
        "import math \n",
        "\n",
        "def getPowerSet(n,k):\n",
        "    '''\n",
        "    1부터 n까지의 자연수의 원소가 있을때 K를 가장 처음으로 선택하는 경우 반환 \n",
        "    '''\n",
        "    if n == k:\n",
        "        return [[k]]\n",
        "    \n",
        "    result = [[k]] \n",
        "    temp = []\n",
        "    for i in range(k+1, n+1):\n",
        "        temp = temp + getPowerSet(n,i)\n",
        "\n",
        "    for i in range(len(temp)):\n",
        "        temp[i] = [k] + temp[i]\n",
        "    return result + temp\n",
        "\n",
        "def powerSet(n) :\n",
        "    '''\n",
        "    n개의 원소를 가지는 집합 A의 멱집합의 원소를 사전 순서대로 list로 반환하는 함수를 작성하시오.\n",
        "\n",
        "    예를 들어, n = 3 일 경우 다음의 list를 반환한다.\n",
        "\n",
        "    [ [1], [1, 2], [1, 3], [1, 2, 3], [2], [2, 3], [3] ]\n",
        "    '''\n",
        "    result = []\n",
        "    for i in range(1, n+1):\n",
        "        result += getPowerSet(n,i)\n",
        "    return result\n",
        "\n",
        "\n",
        "def makeEqual(data) :\n",
        "    '''\n",
        "    n개의 숫자를 두 그룹 A, B로 나눈다고 할 때,\n",
        "\n",
        "    | (A의 원소의 합) - (B의 원소의 합) | 의 최솟값을 반환하는 함수를 작성하시오.\n",
        "    '''\n",
        "    combinations = powerSet(len(data))\n",
        "    total = sum(data)\n",
        "    result = math.inf\n",
        "\n",
        "    for c in combinations :\n",
        "        mySumA = 0\n",
        "        mySumB = 0\n",
        "\n",
        "        for i in c :\n",
        "            mySumA += data[i-1] \n",
        "\n",
        "            mySumB = total - mySumA \n",
        "        result = min(result, abs(mySumA - mySumB))\n",
        "\n",
        "    return result\n",
        "\n",
        "def main():\n",
        "    '''\n",
        "    이 부분은 수정하지 마세요.\n",
        "    '''\n",
        "\n",
        "    data = [int(x) for x in input().split()]\n",
        "\n",
        "    print(makeEqual(data))\n",
        "\n",
        "if __name__ == \"__main__\":\n",
        "    main()\n"
      ],
      "metadata": {
        "id": "zwLHNYe43ieW"
      },
      "execution_count": null,
      "outputs": []
    }
  ]
}