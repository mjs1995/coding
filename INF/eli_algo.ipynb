{
  "nbformat": 4,
  "nbformat_minor": 0,
  "metadata": {
    "colab": {
      "name": "eli_algo.ipynb",
      "provenance": [],
      "authorship_tag": "ABX9TyPpKxU0UKZrWF8rWl5eqvSL",
      "include_colab_link": true
    },
    "kernelspec": {
      "name": "python3",
      "display_name": "Python 3"
    },
    "language_info": {
      "name": "python"
    },
    "gpuClass": "standard"
  },
  "cells": [
    {
      "cell_type": "markdown",
      "metadata": {
        "id": "view-in-github",
        "colab_type": "text"
      },
      "source": [
        "<a href=\"https://colab.research.google.com/github/mjs1995/coding/blob/main/INF/eli_algo.ipynb\" target=\"_parent\"><img src=\"https://colab.research.google.com/assets/colab-badge.svg\" alt=\"Open In Colab\"/></a>"
      ]
    },
    {
      "cell_type": "markdown",
      "source": [
        "# 재귀호출"
      ],
      "metadata": {
        "id": "JWLCEbtYOabM"
      }
    },
    {
      "cell_type": "markdown",
      "source": [
        "## K번째 숫자 찾기"
      ],
      "metadata": {
        "id": "0wsJvEuZOXMf"
      }
    },
    {
      "cell_type": "code",
      "execution_count": null,
      "metadata": {
        "id": "hc6lHKutMQfP"
      },
      "outputs": [],
      "source": [
        "def findKth(myInput, k) :\n",
        "    '''\n",
        "    매 순간마다 k번째로 작은 원소를 리스트로 반환합니다.\n",
        "    '''\n",
        "\n",
        "    result = []\n",
        "    data = []\n",
        "    for element in myInput:\n",
        "        data.append(element)\n",
        "        data.sort()\n",
        "        if len(data) <k:\n",
        "            result.append(-1)\n",
        "        else:\n",
        "            result.append(data[k-1])\n",
        "    return result\n",
        "\n",
        "def main():\n",
        "    '''\n",
        "    테스트를 하고싶으면, 아래 부분을 수정합니다.\n",
        "    '''\n",
        "\n",
        "    firstLine = [int(x) for x in input(\"n과 k를 입력하세요 (예시:10 3): \").split()]\n",
        "    myInput = [int(x) for x in input(\"n개의 숫자를 차례대로 입력하세요 (예시:1 9 8 5 2 3 5 6 2 10): \").split()]\n",
        "\n",
        "    print('정렬 결과: ', *findKth(myInput, firstLine[1]))\n",
        "if __name__ == \"__main__\":\n",
        "    main()"
      ]
    }
  ]
}