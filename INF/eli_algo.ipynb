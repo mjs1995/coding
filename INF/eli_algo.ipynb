{
  "nbformat": 4,
  "nbformat_minor": 0,
  "metadata": {
    "colab": {
      "name": "eli_algo.ipynb",
      "provenance": [],
      "authorship_tag": "ABX9TyMbqLhlJ8vBW1jGS3Do7WKi",
      "include_colab_link": true
    },
    "kernelspec": {
      "name": "python3",
      "display_name": "Python 3"
    },
    "language_info": {
      "name": "python"
    },
    "gpuClass": "standard"
  },
  "cells": [
    {
      "cell_type": "markdown",
      "metadata": {
        "id": "view-in-github",
        "colab_type": "text"
      },
      "source": [
        "<a href=\"https://colab.research.google.com/github/mjs1995/coding/blob/main/INF/eli_algo.ipynb\" target=\"_parent\"><img src=\"https://colab.research.google.com/assets/colab-badge.svg\" alt=\"Open In Colab\"/></a>"
      ]
    },
    {
      "cell_type": "markdown",
      "source": [
        "# 재귀호출"
      ],
      "metadata": {
        "id": "JWLCEbtYOabM"
      }
    },
    {
      "cell_type": "markdown",
      "source": [
        "## K번째 숫자 찾기"
      ],
      "metadata": {
        "id": "0wsJvEuZOXMf"
      }
    },
    {
      "cell_type": "code",
      "execution_count": null,
      "metadata": {
        "id": "hc6lHKutMQfP"
      },
      "outputs": [],
      "source": [
        "def findKth(myInput, k) :\n",
        "    '''\n",
        "    매 순간마다 k번째로 작은 원소를 리스트로 반환합니다.\n",
        "    '''\n",
        "\n",
        "    result = []\n",
        "    data = []\n",
        "    for element in myInput:\n",
        "        data.append(element)\n",
        "        data.sort()\n",
        "        if len(data) <k:\n",
        "            result.append(-1)\n",
        "        else:\n",
        "            result.append(data[k-1])\n",
        "    return result\n",
        "\n",
        "def main():\n",
        "    '''\n",
        "    테스트를 하고싶으면, 아래 부분을 수정합니다.\n",
        "    '''\n",
        "\n",
        "    firstLine = [int(x) for x in input(\"n과 k를 입력하세요 (예시:10 3): \").split()]\n",
        "    myInput = [int(x) for x in input(\"n개의 숫자를 차례대로 입력하세요 (예시:1 9 8 5 2 3 5 6 2 10): \").split()]\n",
        "\n",
        "    print('정렬 결과: ', *findKth(myInput, firstLine[1]))\n",
        "if __name__ == \"__main__\":\n",
        "    main()"
      ]
    },
    {
      "cell_type": "markdown",
      "source": [
        "## quick sort"
      ],
      "metadata": {
        "id": "G_QH0RlaWAMw"
      }
    },
    {
      "cell_type": "code",
      "source": [
        "def quickSort(array):\n",
        "    '''\n",
        "    퀵정렬을 통해 오름차순으로 정렬된 array를반환하는 함수를 작성하세요.\n",
        "    '''\n",
        "    if len(array) <= 1:\n",
        "        return array\n",
        "    \n",
        "    pivot = array[0]\n",
        "    left = getSmall(array[1:], pivot)\n",
        "    right = getLarge(array[1:],pivot)\n",
        "\n",
        "    return quickSort(left) + [pivot] +quickSort(right)\n",
        "\n",
        "def getSmall(array, pivot):\n",
        "    data = []\n",
        "\n",
        "    for a in array:\n",
        "        if a <= pivot:\n",
        "            data.append(a)\n",
        "    return data\n",
        "\n",
        "def getLarge(array,pivot):\n",
        "    data = []\n",
        "\n",
        "    for a in array:\n",
        "        if a > pivot:\n",
        "            data.append(a)\n",
        "    return data\n",
        "\n",
        "def main():\n",
        "    line = [int(x) for x in input(\"정렬할 수를 입력하세요 (예시:10 2 3 4 5 6 9 7 8 1): \").split()]\n",
        "\n",
        "    print('정렬 결과:', *quickSort(line))\n",
        "\n",
        "if __name__ == \"__main__\":\n",
        "    main()\n"
      ],
      "metadata": {
        "id": "v0kTGQlmWBX9"
      },
      "execution_count": null,
      "outputs": []
    },
    {
      "cell_type": "markdown",
      "source": [
        "## 올바른 괄호인지 판단하기\n"
      ],
      "metadata": {
        "id": "AxOmaEyeXtcR"
      }
    },
    {
      "cell_type": "code",
      "source": [
        "def checkParen(p):\n",
        "    '''\n",
        "    괄호 문자열 p의 쌍이 맞으면 \"YES\", 아니면  \"NO\"를 반환\n",
        "    1.기저조건 처리\n",
        "    2.p에서 인접한 괄호쌍을 찾아 제거\n",
        "    3.checkParen()함수에 다시 물어봄 \n",
        "    '''\n",
        "    if len(p) == 0:\n",
        "        return \"YES\"\n",
        "    elif len(p) == 1:\n",
        "        return \"NO\"\n",
        "    \n",
        "    for i in range(len(p)-1):\n",
        "        if p[i] == '(' and p[i+1] == ')':\n",
        "            q = p[:i] + p[i+2:]\n",
        "            return checkParen(q)\n",
        "    return \"NO\"\n",
        "\n",
        "def main():\n",
        "    '''\n",
        "    이 부분은 수정하지 마세요.\n",
        "    '''\n",
        "\n",
        "    x = input()\n",
        "    print(checkParen(x))\n",
        "\n",
        "if __name__ == \"__main__\":\n",
        "    main()"
      ],
      "metadata": {
        "id": "AlPJmOZ-XunV"
      },
      "execution_count": null,
      "outputs": []
    },
    {
      "cell_type": "markdown",
      "source": [
        "## 이진수 변환"
      ],
      "metadata": {
        "id": "cXGfLHAwX4Mb"
      }
    },
    {
      "cell_type": "code",
      "source": [
        "import sys\n",
        "sys.setrecursionlimit(100000)\n",
        "def convertBinary(n) :\n",
        "    '''\n",
        "    10진수 n을 2진수로 변환하여 반환합니다.\n",
        "\n",
        "    *주의* : 변환된 2진수는 문자열이어야 합니다.\n",
        "\n",
        "    예를 들어, 19가 입력될 경우 문자열 \"10011\"이 반환되어야 합니다.\n",
        "    '''\n",
        "    return format(n, 'b')\n",
        "def main():\n",
        "    '''\n",
        "    이 부분은 수정하지 마세요.\n",
        "    '''\n",
        "    n = int(input())\n",
        "    print(convertBinary(n))\n",
        "if __name__ == \"__main__\":\n",
        "    main()"
      ],
      "metadata": {
        "colab": {
          "base_uri": "https://localhost:8080/",
          "height": 35
        },
        "id": "yQDvYbwTX4xA",
        "outputId": "3f725d91-a088-425a-86d1-17257f95230e"
      },
      "execution_count": 1,
      "outputs": [
        {
          "output_type": "execute_result",
          "data": {
            "text/plain": [
              "'10011'"
            ],
            "application/vnd.google.colaboratory.intrinsic+json": {
              "type": "string"
            }
          },
          "metadata": {},
          "execution_count": 1
        }
      ]
    },
    {
      "cell_type": "markdown",
      "source": [
        "## 문자열 포함 관계 조사\n"
      ],
      "metadata": {
        "id": "1AdlYQygZDCw"
      }
    },
    {
      "cell_type": "code",
      "source": [
        "A = 'mef'\n",
        "B = 'myself'\n",
        "\n",
        "def strContain(A, B) :\n",
        "    '''\n",
        "    문자열 A의 알파벳이 문자열 B에 모두 포함되어 있으면 \"Yes\", 아니면 \"No\"를 반환합니다.\n",
        "    '''\n",
        "    if A in B:\n",
        "        return 'Yes'\n",
        "    strs = A\n",
        "    if strs[0] in B:\n",
        "        strs = strs[1:]\n",
        "    print(strs)\n",
        "\n",
        "    if strs != '' and strs ==A:\n",
        "        return \"No\"\n",
        "    return strContain(strs, B)\n",
        "strContain(A, B)"
      ],
      "metadata": {
        "colab": {
          "base_uri": "https://localhost:8080/",
          "height": 72
        },
        "id": "l9oZchnPZDfk",
        "outputId": "6b7ac844-f5a4-4ddb-afb3-d2a7d0e0c66b"
      },
      "execution_count": 6,
      "outputs": [
        {
          "output_type": "stream",
          "name": "stdout",
          "text": [
            "ef\n",
            "f\n"
          ]
        },
        {
          "output_type": "execute_result",
          "data": {
            "text/plain": [
              "'Yes'"
            ],
            "application/vnd.google.colaboratory.intrinsic+json": {
              "type": "string"
            }
          },
          "metadata": {},
          "execution_count": 6
        }
      ]
    },
    {
      "cell_type": "markdown",
      "source": [
        "## 최대공약수 구하기"
      ],
      "metadata": {
        "id": "pjAfraTIbBX8"
      }
    },
    {
      "cell_type": "code",
      "source": [
        "def GCD(x, y) :\n",
        "    '''\n",
        "    x, y의 최대공약수를 반환하는 함수\n",
        "    '''\n",
        "    if x % y == 0:\n",
        "        return y \n",
        "    return GCD(y, x%y)\n",
        "\n",
        "def main():\n",
        "    '''\n",
        "    이 부분은 수정하지 마세요.\n",
        "    '''\n",
        "\n",
        "    data = input()\n",
        "\n",
        "    x = int(data.split()[0])\n",
        "    y = int(data.split()[1])\n",
        "\n",
        "    print(GCD(x, y))\n",
        "\n",
        "if __name__ == \"__main__\":\n",
        "    main()"
      ],
      "metadata": {
        "id": "XCuVRSMabCdo"
      },
      "execution_count": null,
      "outputs": []
    }
  ]
}