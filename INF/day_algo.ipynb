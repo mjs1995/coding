{
  "nbformat": 4,
  "nbformat_minor": 0,
  "metadata": {
    "colab": {
      "provenance": [],
      "toc_visible": true,
      "authorship_tag": "ABX9TyMsJuBbKGPdljR9maHISIPv",
      "include_colab_link": true
    },
    "kernelspec": {
      "name": "python3",
      "display_name": "Python 3"
    },
    "language_info": {
      "name": "python"
    },
    "gpuClass": "standard"
  },
  "cells": [
    {
      "cell_type": "markdown",
      "metadata": {
        "id": "view-in-github",
        "colab_type": "text"
      },
      "source": [
        "<a href=\"https://colab.research.google.com/github/mjs1995/coding/blob/main/INF/day_algo.ipynb\" target=\"_parent\"><img src=\"https://colab.research.google.com/assets/colab-badge.svg\" alt=\"Open In Colab\"/></a>"
      ]
    },
    {
      "cell_type": "markdown",
      "source": [
        "## 234. Palindrome Linked List"
      ],
      "metadata": {
        "id": "zH7Cc7C1PlXh"
      }
    },
    {
      "cell_type": "code",
      "execution_count": null,
      "metadata": {
        "id": "diXqDC8cOIMO"
      },
      "outputs": [],
      "source": [
        "class Solution:\n",
        "    def insert_stack(self, head):\n",
        "        stack_rev = []\n",
        "        while(head):\n",
        "            stack_rev.append(head.val)\n",
        "            head = head.next\n",
        "        return stack_rev\n",
        " \n",
        "    def isPalindrome(self, head: ListNode) -> bool:\n",
        "        if head == None:\n",
        "            return True\n",
        "        stack_rev = self.insert_stack(head)\n",
        "        while(head):\n",
        "            if(head.val == stack_rev.pop()):\n",
        "                head = head.next\n",
        "            else:\n",
        "                return False\n",
        "        return True\n",
        "\n",
        "# ListNode{val: 1, next: ListNode{val: 2, next: ListNode{val: 2, next: ListNode{val: 1, next: None}}}}\n",
        "# ListNode{val: 2, next: ListNode{val: 2, next: ListNode{val: 1, next: None}}}\n",
        "# ListNode{val: 2, next: ListNode{val: 1, next: None}}\n",
        "# ListNode{val: 1, next: None}"
      ]
    },
    {
      "cell_type": "markdown",
      "source": [
        "# Arrays & Hashing"
      ],
      "metadata": {
        "id": "jiI13Gfs1rFu"
      }
    },
    {
      "cell_type": "markdown",
      "source": [
        "## 217. Contains Duplicate"
      ],
      "metadata": {
        "id": "VlssCazByz5G"
      }
    },
    {
      "cell_type": "code",
      "source": [
        "nums = [1,2,3,1]\n",
        "if list(set([x for x in nums if nums.count(x) > 1 ])): \n",
        "    print(True)\n",
        "else:\n",
        "    print(False)"
      ],
      "metadata": {
        "colab": {
          "base_uri": "https://localhost:8080/"
        },
        "id": "S1spXGzGyzpe",
        "outputId": "a256fe75-4d7f-4fc5-c7ef-dbe69a001c25"
      },
      "execution_count": null,
      "outputs": [
        {
          "output_type": "stream",
          "name": "stdout",
          "text": [
            "True\n"
          ]
        }
      ]
    },
    {
      "cell_type": "code",
      "source": [
        "from collections import Counter\n",
        "duplicates = [item for item, count in Counter(nums).items() if count > 1]\n",
        "duplicates"
      ],
      "metadata": {
        "colab": {
          "base_uri": "https://localhost:8080/"
        },
        "id": "t28jkOpzy81E",
        "outputId": "25548a6b-ed1d-49a1-eada-ca312914f40a"
      },
      "execution_count": null,
      "outputs": [
        {
          "output_type": "execute_result",
          "data": {
            "text/plain": [
              "[1]"
            ]
          },
          "metadata": {},
          "execution_count": 15
        }
      ]
    },
    {
      "cell_type": "code",
      "source": [
        "from collections import Counter\n",
        "class Solution:\n",
        "    def containsDuplicate(self, nums: List[int]) -> bool:\n",
        "        if [item for item, count in Counter(nums).items() if count > 1]: \n",
        "            return True\n",
        "        else:\n",
        "            return False"
      ],
      "metadata": {
        "colab": {
          "base_uri": "https://localhost:8080/"
        },
        "id": "lnkcdxOu0TeY",
        "outputId": "08be58f4-b555-4453-9f13-76708b71f592"
      },
      "execution_count": null,
      "outputs": [
        {
          "output_type": "execute_result",
          "data": {
            "text/plain": [
              "dict_items([(1, 2), (2, 1), (3, 1)])"
            ]
          },
          "metadata": {},
          "execution_count": 17
        }
      ]
    },
    {
      "cell_type": "code",
      "source": [
        "from collections import Counter\n",
        "class Solution:\n",
        "    def containsDuplicate(self, nums: List[int]) -> bool:\n",
        "        hashset = set() \n",
        "        for n in nums:\n",
        "            if n in hashset:\n",
        "                return True \n",
        "            hashset.add(n)\n",
        "        return False "
      ],
      "metadata": {
        "id": "bZ-d-Dze1b0q"
      },
      "execution_count": null,
      "outputs": []
    },
    {
      "cell_type": "markdown",
      "source": [
        "## 242. Valid Anagram\n"
      ],
      "metadata": {
        "id": "Bf5WYZSK5Wv4"
      }
    },
    {
      "cell_type": "code",
      "source": [
        "from collections import Counter \n",
        "s = \"anagram\"\n",
        "t = \"nagaram\"\n",
        "sorted(s) == sorted(t)"
      ],
      "metadata": {
        "colab": {
          "base_uri": "https://localhost:8080/"
        },
        "id": "wd9DqIeM5XKp",
        "outputId": "7688126e-2e88-4824-8ad0-e40c120e37c9"
      },
      "execution_count": null,
      "outputs": [
        {
          "output_type": "execute_result",
          "data": {
            "text/plain": [
              "True"
            ]
          },
          "metadata": {},
          "execution_count": 10
        }
      ]
    },
    {
      "cell_type": "code",
      "source": [
        "if len(s) != len(t):\n",
        "    print(False)\n",
        "countS, countT = {}, {} \n",
        "for i in range(len(s)):\n",
        "    countS[s[i]] = 1 + countS.get(s[i], 0)\n",
        "    countT[t[i]] = 1 + countT.get(t[i], 0)\n",
        "for c in countS:\n",
        "    if countS[c] != countT.get(c,0):\n",
        "        print(false)\n",
        "countS"
      ],
      "metadata": {
        "colab": {
          "base_uri": "https://localhost:8080/"
        },
        "id": "81gZJrQ67PN9",
        "outputId": "835339d0-acdc-4ca2-ed69-6ee05e34f153"
      },
      "execution_count": null,
      "outputs": [
        {
          "output_type": "execute_result",
          "data": {
            "text/plain": [
              "{'a': 3, 'n': 1, 'g': 1, 'r': 1, 'm': 1}"
            ]
          },
          "metadata": {},
          "execution_count": 17
        }
      ]
    },
    {
      "cell_type": "code",
      "source": [
        "class Solution:\n",
        "    def isAnagram(self, s: str, t: str) -> bool:\n",
        "        return sorted(s) == sorted(t)"
      ],
      "metadata": {
        "colab": {
          "base_uri": "https://localhost:8080/"
        },
        "id": "aY00wToV5qs9",
        "outputId": "89a632e3-c408-4264-b69a-2f5bfd87ad4a"
      },
      "execution_count": null,
      "outputs": [
        {
          "output_type": "execute_result",
          "data": {
            "text/plain": [
              "Counter({'n': 1, 'a': 3, 'g': 1, 'r': 1, 'm': 1})"
            ]
          },
          "metadata": {},
          "execution_count": 3
        }
      ]
    },
    {
      "cell_type": "code",
      "source": [
        "class Solution:\n",
        "    def isAnagram(self, s: str, t: str) -> bool:\n",
        "        return Counter(s) == Counter(t)"
      ],
      "metadata": {
        "id": "T8YqWP1g68kD"
      },
      "execution_count": null,
      "outputs": []
    },
    {
      "cell_type": "markdown",
      "source": [
        "## Two Sum"
      ],
      "metadata": {
        "id": "xz0fdVwQNKAf"
      }
    },
    {
      "cell_type": "code",
      "source": [
        "nums = [3,2,3]\n",
        "target = 6\n",
        "\n",
        "for i in range(len(nums)):\n",
        "    for j in range(i + 1, len(nums)):\n",
        "        if nums[i] + nums[j] == target:\n",
        "            print([i, j])"
      ],
      "metadata": {
        "colab": {
          "base_uri": "https://localhost:8080/"
        },
        "id": "9XrIeeNG7Mpi",
        "outputId": "5acff9fe-bea1-48d7-fc7a-3d6a355f2b56"
      },
      "execution_count": null,
      "outputs": [
        {
          "output_type": "stream",
          "name": "stdout",
          "text": [
            "[0, 2]\n"
          ]
        }
      ]
    },
    {
      "cell_type": "code",
      "source": [
        "class Solution:\n",
        "    def twoSum(self, nums: List[int], target: int) -> List[int]:\n",
        "        for i in range(len(nums)):\n",
        "            for j in range(i + 1, len(nums)):\n",
        "                if nums[i] + nums[j] == target:\n",
        "                    return([i, j])"
      ],
      "metadata": {
        "id": "eNMiqdTkO2o5"
      },
      "execution_count": null,
      "outputs": []
    },
    {
      "cell_type": "code",
      "source": [
        "class Solution:\n",
        "    def twoSum(self, nums: List[int], target: int) -> List[int]:\n",
        "        hashmap = {}\n",
        "        for i in range(len(nums)):\n",
        "            complement = target - nums[i]\n",
        "            if complement in hashmap:\n",
        "                return [i, hashmap[complement]]\n",
        "            hashmap[nums[i]] = i"
      ],
      "metadata": {
        "id": "mKXbI31FNVqg"
      },
      "execution_count": null,
      "outputs": []
    },
    {
      "cell_type": "markdown",
      "source": [
        "## 49. Group Anagrams"
      ],
      "metadata": {
        "id": "sf0-r8TpWUyh"
      }
    },
    {
      "cell_type": "code",
      "source": [
        "strs = [\"eat\",\"tea\",\"tan\",\"ate\",\"nat\",\"bat\"]"
      ],
      "metadata": {
        "id": "MXVvQ3pEWVPn"
      },
      "execution_count": null,
      "outputs": []
    },
    {
      "cell_type": "code",
      "source": [
        "from collections import Counter\n",
        "\n",
        "res = [] \n",
        "for i in range(len(strs)):\n",
        "    for j in range(i+1, len(strs)):\n",
        "        if Counter(strs[i]) == Counter(strs[j]) :\n",
        "            res.append([strs[i],strs[j]])\n",
        "res"
      ],
      "metadata": {
        "colab": {
          "base_uri": "https://localhost:8080/"
        },
        "id": "WTKdxFAoWWxT",
        "outputId": "320398bd-2763-4d75-c4d7-d52076a4c70a"
      },
      "execution_count": null,
      "outputs": [
        {
          "output_type": "execute_result",
          "data": {
            "text/plain": [
              "[['eat', 'tea'], ['eat', 'ate'], ['tea', 'ate'], ['tan', 'nat']]"
            ]
          },
          "metadata": {},
          "execution_count": 13
        }
      ]
    },
    {
      "cell_type": "code",
      "source": [
        "from collections import defaultdict \n",
        "ans = defaultdict(list)\n",
        "for s in strs:\n",
        "    ans[tuple(sorted(s))].append(s)\n",
        "# return ans.values()"
      ],
      "metadata": {
        "id": "nT6dTospXecX"
      },
      "execution_count": null,
      "outputs": []
    },
    {
      "cell_type": "code",
      "source": [
        "ans = defaultdict(list)\n",
        "for s in strs:\n",
        "    ans[tuple(sorted(s))].append(s)\n",
        "print(ans.values())"
      ],
      "metadata": {
        "colab": {
          "base_uri": "https://localhost:8080/"
        },
        "id": "oSWfas6vXgLy",
        "outputId": "605ac263-f175-44a6-878d-f63701446076"
      },
      "execution_count": null,
      "outputs": [
        {
          "output_type": "stream",
          "name": "stdout",
          "text": [
            "dict_values([['eat', 'tea', 'ate'], ['tan', 'nat'], ['bat']])\n"
          ]
        }
      ]
    },
    {
      "cell_type": "code",
      "source": [
        "class Solution:\n",
        "    def groupAnagrams(self, strs: List[str]) -> List[List[str]]:\n",
        "        ans = collections.defaultdict(list)\n",
        "        for s in strs:\n",
        "            ans[tuple(sorted(s))].append(s)\n",
        "        return ans.values()"
      ],
      "metadata": {
        "colab": {
          "base_uri": "https://localhost:8080/"
        },
        "id": "Jn-jnFM9X5bb",
        "outputId": "8edbcf68-eb2f-4f30-c970-2c3a98e787bd"
      },
      "execution_count": null,
      "outputs": [
        {
          "output_type": "execute_result",
          "data": {
            "text/plain": [
              "defaultdict(list, {})"
            ]
          },
          "metadata": {},
          "execution_count": 24
        }
      ]
    },
    {
      "cell_type": "markdown",
      "source": [
        "## 347. Top K Frequent Elements"
      ],
      "metadata": {
        "id": "ExX9uoyryCHN"
      }
    },
    {
      "cell_type": "code",
      "source": [
        "class Solution:\n",
        "    def topKFrequent(self, nums: List[int], k: int) -> List[int]:\n",
        "        res = [] \n",
        "        for i in sorted(Counter(nums).items(),key=lambda x: x[1], reverse=True)[0:k]:\n",
        "            res.append(i[0])    \n",
        "        return res"
      ],
      "metadata": {
        "colab": {
          "base_uri": "https://localhost:8080/"
        },
        "id": "5boDXX54yCbm",
        "outputId": "efcdd0ea-4038-487d-a82a-5b9ae4becae2"
      },
      "execution_count": null,
      "outputs": [
        {
          "output_type": "execute_result",
          "data": {
            "text/plain": [
              "dict_values([3, 2, 1])"
            ]
          },
          "metadata": {},
          "execution_count": 8
        }
      ]
    },
    {
      "cell_type": "code",
      "source": [
        "Counter(nums).most_common(k)"
      ],
      "metadata": {
        "id": "yZT31CSw09-x",
        "outputId": "10560e2d-4783-4c0c-f29f-0630b8e1d43d",
        "colab": {
          "base_uri": "https://localhost:8080/"
        }
      },
      "execution_count": null,
      "outputs": [
        {
          "output_type": "execute_result",
          "data": {
            "text/plain": [
              "[(-1, 2), (2, 2)]"
            ]
          },
          "metadata": {},
          "execution_count": 29
        }
      ]
    },
    {
      "cell_type": "code",
      "source": [
        "class Solution:\n",
        "    def topKFrequent(self, nums: List[int], k: int) -> List[int]:\n",
        "        return [x for x, y in collections.Counter(nums).most_common(k)]"
      ],
      "metadata": {
        "id": "M4XlA3Z408fv"
      },
      "execution_count": null,
      "outputs": []
    },
    {
      "cell_type": "markdown",
      "source": [
        "## 238. Product of Array Except Self"
      ],
      "metadata": {
        "id": "7X3g59ZRKjP3"
      }
    },
    {
      "cell_type": "code",
      "source": [
        "nums = [1,2,3,4]\n",
        "res = [] \n",
        "for i in range(len(nums)):\n",
        "    for j in range(i+1, len(nums)):\n",
        "        res.append(nums[i] * nums[j])\n",
        "set(res)"
      ],
      "metadata": {
        "colab": {
          "base_uri": "https://localhost:8080/"
        },
        "id": "VTgztQtaKj02",
        "outputId": "94f7a757-12e9-4966-8699-787253c1b254"
      },
      "execution_count": null,
      "outputs": [
        {
          "output_type": "execute_result",
          "data": {
            "text/plain": [
              "{2, 3, 4, 6, 8, 12}"
            ]
          },
          "metadata": {},
          "execution_count": 1
        }
      ]
    },
    {
      "cell_type": "code",
      "source": [
        "res = [] \n",
        "num = 1\n",
        "for i in range(len(nums)):\n",
        "    res.append(num) \n",
        "    num *= nums[i]\n",
        "    print(num,res)\n",
        "\n",
        "num = 1\n",
        "for i in range(len(nums)-1, -1, -1):\n",
        "    res[i] *= num \n",
        "    num *= nums[i]\n",
        "res "
      ],
      "metadata": {
        "colab": {
          "base_uri": "https://localhost:8080/"
        },
        "id": "aNDo3iB8MZBK",
        "outputId": "ce7a73e6-e3ff-4c1e-c88f-e3040bb402c5"
      },
      "execution_count": null,
      "outputs": [
        {
          "output_type": "stream",
          "name": "stdout",
          "text": [
            "1 [1]\n",
            "2 [1, 1]\n",
            "6 [1, 1, 2]\n",
            "24 [1, 1, 2, 6]\n"
          ]
        },
        {
          "output_type": "execute_result",
          "data": {
            "text/plain": [
              "[24, 12, 8, 6]"
            ]
          },
          "metadata": {},
          "execution_count": 9
        }
      ]
    },
    {
      "cell_type": "code",
      "source": [
        "class Solution:\n",
        "    def productExceptSelf(self, nums: List[int]) -> List[int]:\n",
        "        res = [] \n",
        "        num = 1\n",
        "        for i in range(len(nums)):\n",
        "            res.append(num) \n",
        "            num *= nums[i]\n",
        "\n",
        "        num = 1\n",
        "        for i in range(len(nums)-1, -1, -1):\n",
        "            res[i] *= num \n",
        "            num *= nums[i]\n",
        "        return res"
      ],
      "metadata": {
        "id": "fTXm9OUPOW4G"
      },
      "execution_count": null,
      "outputs": []
    },
    {
      "cell_type": "markdown",
      "source": [
        "## 36. Valid Sudoku"
      ],
      "metadata": {
        "id": "RgOVG1rXK-zZ"
      }
    },
    {
      "cell_type": "code",
      "source": [
        "board = \\\n",
        "[[\"8\",\"3\",\".\",\".\",\"7\",\".\",\".\",\".\",\".\"]\n",
        ",[\"6\",\".\",\".\",\"1\",\"9\",\"5\",\".\",\".\",\".\"]\n",
        ",[\".\",\"9\",\"8\",\".\",\".\",\".\",\".\",\"6\",\".\"]\n",
        ",[\"8\",\".\",\".\",\".\",\"6\",\".\",\".\",\".\",\"3\"]\n",
        ",[\"4\",\".\",\".\",\"8\",\".\",\"3\",\".\",\".\",\"1\"]\n",
        ",[\"7\",\".\",\".\",\".\",\"2\",\".\",\".\",\".\",\"6\"]\n",
        ",[\".\",\"6\",\".\",\".\",\".\",\".\",\"2\",\"8\",\".\"]\n",
        ",[\".\",\".\",\".\",\"4\",\"1\",\"9\",\".\",\".\",\"5\"]\n",
        ",[\".\",\".\",\".\",\".\",\"8\",\".\",\".\",\"7\",\"9\"]]"
      ],
      "metadata": {
        "id": "srZJZ0euK_Cy"
      },
      "execution_count": null,
      "outputs": []
    },
    {
      "cell_type": "code",
      "source": [
        "from collections import defaultdict\n",
        "cols = defaultdict(set)\n",
        "rows = defaultdict(set)\n",
        "squares = defaultdict(set)\n",
        "\n",
        "for r in range(9):\n",
        "    for c in range(9):\n",
        "        if board[r][c] == \".\":\n",
        "            continue\n",
        "        if (board[r][c] in rows[r] or board[r][c] in cols[c] or board[r][c] in squares[(r // 3, c // 3)]):\n",
        "            print(False)\n",
        "        cols[c].add(board[r][c])\n",
        "        rows[r].add(board[r][c])\n",
        "        squares[(r//3, c//3)].add(board[r][c])\n",
        "        print(cols,rows,squares)"
      ],
      "metadata": {
        "colab": {
          "base_uri": "https://localhost:8080/"
        },
        "id": "HeLdTn1mLFQu",
        "outputId": "245a34cf-ad0b-4368-e5d9-4424d6db13d0"
      },
      "execution_count": null,
      "outputs": [
        {
          "output_type": "stream",
          "name": "stdout",
          "text": [
            "defaultdict(<class 'set'>, {0: {'8'}}) defaultdict(<class 'set'>, {0: {'8'}}) defaultdict(<class 'set'>, {(0, 0): {'8'}})\n",
            "defaultdict(<class 'set'>, {0: {'8'}, 1: {'3'}}) defaultdict(<class 'set'>, {0: {'3', '8'}}) defaultdict(<class 'set'>, {(0, 0): {'3', '8'}})\n",
            "defaultdict(<class 'set'>, {0: {'8'}, 1: {'3'}, 4: {'7'}}) defaultdict(<class 'set'>, {0: {'7', '3', '8'}}) defaultdict(<class 'set'>, {(0, 0): {'3', '8'}, (0, 1): {'7'}})\n",
            "defaultdict(<class 'set'>, {0: {'6', '8'}, 1: {'3'}, 4: {'7'}}) defaultdict(<class 'set'>, {0: {'7', '3', '8'}, 1: {'6'}}) defaultdict(<class 'set'>, {(0, 0): {'6', '3', '8'}, (0, 1): {'7'}})\n",
            "defaultdict(<class 'set'>, {0: {'6', '8'}, 1: {'3'}, 4: {'7'}, 3: {'1'}}) defaultdict(<class 'set'>, {0: {'7', '3', '8'}, 1: {'6', '1'}}) defaultdict(<class 'set'>, {(0, 0): {'6', '3', '8'}, (0, 1): {'1', '7'}})\n",
            "defaultdict(<class 'set'>, {0: {'6', '8'}, 1: {'3'}, 4: {'9', '7'}, 3: {'1'}}) defaultdict(<class 'set'>, {0: {'7', '3', '8'}, 1: {'6', '1', '9'}}) defaultdict(<class 'set'>, {(0, 0): {'6', '3', '8'}, (0, 1): {'1', '7', '9'}})\n",
            "defaultdict(<class 'set'>, {0: {'6', '8'}, 1: {'3'}, 4: {'9', '7'}, 3: {'1'}, 5: {'5'}}) defaultdict(<class 'set'>, {0: {'7', '3', '8'}, 1: {'5', '6', '1', '9'}}) defaultdict(<class 'set'>, {(0, 0): {'6', '3', '8'}, (0, 1): {'5', '1', '7', '9'}})\n",
            "defaultdict(<class 'set'>, {0: {'6', '8'}, 1: {'9', '3'}, 4: {'9', '7'}, 3: {'1'}, 5: {'5'}}) defaultdict(<class 'set'>, {0: {'7', '3', '8'}, 1: {'5', '6', '1', '9'}, 2: {'9'}}) defaultdict(<class 'set'>, {(0, 0): {'6', '9', '3', '8'}, (0, 1): {'5', '1', '7', '9'}})\n",
            "False\n",
            "defaultdict(<class 'set'>, {0: {'6', '8'}, 1: {'9', '3'}, 4: {'9', '7'}, 3: {'1'}, 5: {'5'}, 2: {'8'}}) defaultdict(<class 'set'>, {0: {'7', '3', '8'}, 1: {'5', '6', '1', '9'}, 2: {'9', '8'}}) defaultdict(<class 'set'>, {(0, 0): {'6', '9', '3', '8'}, (0, 1): {'5', '1', '7', '9'}})\n",
            "defaultdict(<class 'set'>, {0: {'6', '8'}, 1: {'9', '3'}, 4: {'9', '7'}, 3: {'1'}, 5: {'5'}, 2: {'8'}, 7: {'6'}}) defaultdict(<class 'set'>, {0: {'7', '3', '8'}, 1: {'5', '6', '1', '9'}, 2: {'6', '9', '8'}}) defaultdict(<class 'set'>, {(0, 0): {'6', '9', '3', '8'}, (0, 1): {'5', '1', '7', '9'}, (0, 2): {'6'}})\n",
            "False\n",
            "defaultdict(<class 'set'>, {0: {'6', '8'}, 1: {'9', '3'}, 4: {'9', '7'}, 3: {'1'}, 5: {'5'}, 2: {'8'}, 7: {'6'}}) defaultdict(<class 'set'>, {0: {'7', '3', '8'}, 1: {'5', '6', '1', '9'}, 2: {'6', '9', '8'}, 3: {'8'}}) defaultdict(<class 'set'>, {(0, 0): {'6', '9', '3', '8'}, (0, 1): {'5', '1', '7', '9'}, (0, 2): {'6'}, (1, 0): {'8'}})\n",
            "defaultdict(<class 'set'>, {0: {'6', '8'}, 1: {'9', '3'}, 4: {'6', '9', '7'}, 3: {'1'}, 5: {'5'}, 2: {'8'}, 7: {'6'}}) defaultdict(<class 'set'>, {0: {'7', '3', '8'}, 1: {'5', '6', '1', '9'}, 2: {'6', '9', '8'}, 3: {'6', '8'}}) defaultdict(<class 'set'>, {(0, 0): {'6', '9', '3', '8'}, (0, 1): {'5', '1', '7', '9'}, (0, 2): {'6'}, (1, 0): {'8'}, (1, 1): {'6'}})\n",
            "defaultdict(<class 'set'>, {0: {'6', '8'}, 1: {'9', '3'}, 4: {'6', '9', '7'}, 3: {'1'}, 5: {'5'}, 2: {'8'}, 7: {'6'}, 8: {'3'}}) defaultdict(<class 'set'>, {0: {'7', '3', '8'}, 1: {'5', '6', '1', '9'}, 2: {'6', '9', '8'}, 3: {'6', '3', '8'}}) defaultdict(<class 'set'>, {(0, 0): {'6', '9', '3', '8'}, (0, 1): {'5', '1', '7', '9'}, (0, 2): {'6'}, (1, 0): {'8'}, (1, 1): {'6'}, (1, 2): {'3'}})\n",
            "defaultdict(<class 'set'>, {0: {'4', '6', '8'}, 1: {'9', '3'}, 4: {'6', '9', '7'}, 3: {'1'}, 5: {'5'}, 2: {'8'}, 7: {'6'}, 8: {'3'}}) defaultdict(<class 'set'>, {0: {'7', '3', '8'}, 1: {'5', '6', '1', '9'}, 2: {'6', '9', '8'}, 3: {'6', '3', '8'}, 4: {'4'}}) defaultdict(<class 'set'>, {(0, 0): {'6', '9', '3', '8'}, (0, 1): {'5', '1', '7', '9'}, (0, 2): {'6'}, (1, 0): {'4', '8'}, (1, 1): {'6'}, (1, 2): {'3'}})\n",
            "defaultdict(<class 'set'>, {0: {'4', '6', '8'}, 1: {'9', '3'}, 4: {'6', '9', '7'}, 3: {'1', '8'}, 5: {'5'}, 2: {'8'}, 7: {'6'}, 8: {'3'}}) defaultdict(<class 'set'>, {0: {'7', '3', '8'}, 1: {'5', '6', '1', '9'}, 2: {'6', '9', '8'}, 3: {'6', '3', '8'}, 4: {'4', '8'}}) defaultdict(<class 'set'>, {(0, 0): {'6', '9', '3', '8'}, (0, 1): {'5', '1', '7', '9'}, (0, 2): {'6'}, (1, 0): {'4', '8'}, (1, 1): {'6', '8'}, (1, 2): {'3'}})\n",
            "defaultdict(<class 'set'>, {0: {'4', '6', '8'}, 1: {'9', '3'}, 4: {'6', '9', '7'}, 3: {'1', '8'}, 5: {'3', '5'}, 2: {'8'}, 7: {'6'}, 8: {'3'}}) defaultdict(<class 'set'>, {0: {'7', '3', '8'}, 1: {'5', '6', '1', '9'}, 2: {'6', '9', '8'}, 3: {'6', '3', '8'}, 4: {'4', '3', '8'}}) defaultdict(<class 'set'>, {(0, 0): {'6', '9', '3', '8'}, (0, 1): {'5', '1', '7', '9'}, (0, 2): {'6'}, (1, 0): {'4', '8'}, (1, 1): {'6', '3', '8'}, (1, 2): {'3'}})\n",
            "defaultdict(<class 'set'>, {0: {'4', '6', '8'}, 1: {'9', '3'}, 4: {'6', '9', '7'}, 3: {'1', '8'}, 5: {'3', '5'}, 2: {'8'}, 7: {'6'}, 8: {'1', '3'}}) defaultdict(<class 'set'>, {0: {'7', '3', '8'}, 1: {'5', '6', '1', '9'}, 2: {'6', '9', '8'}, 3: {'6', '3', '8'}, 4: {'4', '1', '3', '8'}}) defaultdict(<class 'set'>, {(0, 0): {'6', '9', '3', '8'}, (0, 1): {'5', '1', '7', '9'}, (0, 2): {'6'}, (1, 0): {'4', '8'}, (1, 1): {'6', '3', '8'}, (1, 2): {'1', '3'}})\n",
            "defaultdict(<class 'set'>, {0: {'4', '6', '7', '8'}, 1: {'9', '3'}, 4: {'6', '9', '7'}, 3: {'1', '8'}, 5: {'3', '5'}, 2: {'8'}, 7: {'6'}, 8: {'1', '3'}}) defaultdict(<class 'set'>, {0: {'7', '3', '8'}, 1: {'5', '6', '1', '9'}, 2: {'6', '9', '8'}, 3: {'6', '3', '8'}, 4: {'4', '1', '3', '8'}, 5: {'7'}}) defaultdict(<class 'set'>, {(0, 0): {'6', '9', '3', '8'}, (0, 1): {'5', '1', '7', '9'}, (0, 2): {'6'}, (1, 0): {'4', '7', '8'}, (1, 1): {'6', '3', '8'}, (1, 2): {'1', '3'}})\n",
            "defaultdict(<class 'set'>, {0: {'4', '6', '7', '8'}, 1: {'9', '3'}, 4: {'6', '9', '7', '2'}, 3: {'1', '8'}, 5: {'3', '5'}, 2: {'8'}, 7: {'6'}, 8: {'1', '3'}}) defaultdict(<class 'set'>, {0: {'7', '3', '8'}, 1: {'5', '6', '1', '9'}, 2: {'6', '9', '8'}, 3: {'6', '3', '8'}, 4: {'4', '1', '3', '8'}, 5: {'2', '7'}}) defaultdict(<class 'set'>, {(0, 0): {'6', '9', '3', '8'}, (0, 1): {'5', '1', '7', '9'}, (0, 2): {'6'}, (1, 0): {'4', '7', '8'}, (1, 1): {'2', '6', '3', '8'}, (1, 2): {'1', '3'}})\n",
            "defaultdict(<class 'set'>, {0: {'4', '6', '7', '8'}, 1: {'9', '3'}, 4: {'6', '9', '7', '2'}, 3: {'1', '8'}, 5: {'3', '5'}, 2: {'8'}, 7: {'6'}, 8: {'6', '1', '3'}}) defaultdict(<class 'set'>, {0: {'7', '3', '8'}, 1: {'5', '6', '1', '9'}, 2: {'6', '9', '8'}, 3: {'6', '3', '8'}, 4: {'4', '1', '3', '8'}, 5: {'6', '2', '7'}}) defaultdict(<class 'set'>, {(0, 0): {'6', '9', '3', '8'}, (0, 1): {'5', '1', '7', '9'}, (0, 2): {'6'}, (1, 0): {'4', '7', '8'}, (1, 1): {'2', '6', '3', '8'}, (1, 2): {'6', '1', '3'}})\n",
            "defaultdict(<class 'set'>, {0: {'4', '6', '7', '8'}, 1: {'6', '9', '3'}, 4: {'6', '9', '7', '2'}, 3: {'1', '8'}, 5: {'3', '5'}, 2: {'8'}, 7: {'6'}, 8: {'6', '1', '3'}}) defaultdict(<class 'set'>, {0: {'7', '3', '8'}, 1: {'5', '6', '1', '9'}, 2: {'6', '9', '8'}, 3: {'6', '3', '8'}, 4: {'4', '1', '3', '8'}, 5: {'6', '2', '7'}, 6: {'6'}}) defaultdict(<class 'set'>, {(0, 0): {'6', '9', '3', '8'}, (0, 1): {'5', '1', '7', '9'}, (0, 2): {'6'}, (1, 0): {'4', '7', '8'}, (1, 1): {'2', '6', '3', '8'}, (1, 2): {'6', '1', '3'}, (2, 0): {'6'}})\n",
            "defaultdict(<class 'set'>, {0: {'4', '6', '7', '8'}, 1: {'6', '9', '3'}, 4: {'6', '9', '7', '2'}, 3: {'1', '8'}, 5: {'3', '5'}, 2: {'8'}, 7: {'6'}, 8: {'6', '1', '3'}, 6: {'2'}}) defaultdict(<class 'set'>, {0: {'7', '3', '8'}, 1: {'5', '6', '1', '9'}, 2: {'6', '9', '8'}, 3: {'6', '3', '8'}, 4: {'4', '1', '3', '8'}, 5: {'6', '2', '7'}, 6: {'2', '6'}}) defaultdict(<class 'set'>, {(0, 0): {'6', '9', '3', '8'}, (0, 1): {'5', '1', '7', '9'}, (0, 2): {'6'}, (1, 0): {'4', '7', '8'}, (1, 1): {'2', '6', '3', '8'}, (1, 2): {'6', '1', '3'}, (2, 0): {'6'}, (2, 2): {'2'}})\n",
            "defaultdict(<class 'set'>, {0: {'4', '6', '7', '8'}, 1: {'6', '9', '3'}, 4: {'6', '9', '7', '2'}, 3: {'1', '8'}, 5: {'3', '5'}, 2: {'8'}, 7: {'6', '8'}, 8: {'6', '1', '3'}, 6: {'2'}}) defaultdict(<class 'set'>, {0: {'7', '3', '8'}, 1: {'5', '6', '1', '9'}, 2: {'6', '9', '8'}, 3: {'6', '3', '8'}, 4: {'4', '1', '3', '8'}, 5: {'6', '2', '7'}, 6: {'2', '6', '8'}}) defaultdict(<class 'set'>, {(0, 0): {'6', '9', '3', '8'}, (0, 1): {'5', '1', '7', '9'}, (0, 2): {'6'}, (1, 0): {'4', '7', '8'}, (1, 1): {'2', '6', '3', '8'}, (1, 2): {'6', '1', '3'}, (2, 0): {'6'}, (2, 2): {'2', '8'}})\n",
            "defaultdict(<class 'set'>, {0: {'4', '6', '7', '8'}, 1: {'6', '9', '3'}, 4: {'6', '9', '7', '2'}, 3: {'4', '1', '8'}, 5: {'3', '5'}, 2: {'8'}, 7: {'6', '8'}, 8: {'6', '1', '3'}, 6: {'2'}}) defaultdict(<class 'set'>, {0: {'7', '3', '8'}, 1: {'5', '6', '1', '9'}, 2: {'6', '9', '8'}, 3: {'6', '3', '8'}, 4: {'4', '1', '3', '8'}, 5: {'6', '2', '7'}, 6: {'2', '6', '8'}, 7: {'4'}}) defaultdict(<class 'set'>, {(0, 0): {'6', '9', '3', '8'}, (0, 1): {'5', '1', '7', '9'}, (0, 2): {'6'}, (1, 0): {'4', '7', '8'}, (1, 1): {'2', '6', '3', '8'}, (1, 2): {'6', '1', '3'}, (2, 0): {'6'}, (2, 2): {'2', '8'}, (2, 1): {'4'}})\n",
            "defaultdict(<class 'set'>, {0: {'4', '6', '7', '8'}, 1: {'6', '9', '3'}, 4: {'6', '1', '7', '9', '2'}, 3: {'4', '1', '8'}, 5: {'3', '5'}, 2: {'8'}, 7: {'6', '8'}, 8: {'6', '1', '3'}, 6: {'2'}}) defaultdict(<class 'set'>, {0: {'7', '3', '8'}, 1: {'5', '6', '1', '9'}, 2: {'6', '9', '8'}, 3: {'6', '3', '8'}, 4: {'4', '1', '3', '8'}, 5: {'6', '2', '7'}, 6: {'2', '6', '8'}, 7: {'4', '1'}}) defaultdict(<class 'set'>, {(0, 0): {'6', '9', '3', '8'}, (0, 1): {'5', '1', '7', '9'}, (0, 2): {'6'}, (1, 0): {'4', '7', '8'}, (1, 1): {'2', '6', '3', '8'}, (1, 2): {'6', '1', '3'}, (2, 0): {'6'}, (2, 2): {'2', '8'}, (2, 1): {'4', '1'}})\n",
            "defaultdict(<class 'set'>, {0: {'4', '6', '7', '8'}, 1: {'6', '9', '3'}, 4: {'6', '1', '7', '9', '2'}, 3: {'4', '1', '8'}, 5: {'9', '3', '5'}, 2: {'8'}, 7: {'6', '8'}, 8: {'6', '1', '3'}, 6: {'2'}}) defaultdict(<class 'set'>, {0: {'7', '3', '8'}, 1: {'5', '6', '1', '9'}, 2: {'6', '9', '8'}, 3: {'6', '3', '8'}, 4: {'4', '1', '3', '8'}, 5: {'6', '2', '7'}, 6: {'2', '6', '8'}, 7: {'4', '9', '1'}}) defaultdict(<class 'set'>, {(0, 0): {'6', '9', '3', '8'}, (0, 1): {'5', '1', '7', '9'}, (0, 2): {'6'}, (1, 0): {'4', '7', '8'}, (1, 1): {'2', '6', '3', '8'}, (1, 2): {'6', '1', '3'}, (2, 0): {'6'}, (2, 2): {'2', '8'}, (2, 1): {'4', '9', '1'}})\n",
            "defaultdict(<class 'set'>, {0: {'4', '6', '7', '8'}, 1: {'6', '9', '3'}, 4: {'6', '1', '7', '9', '2'}, 3: {'4', '1', '8'}, 5: {'9', '3', '5'}, 2: {'8'}, 7: {'6', '8'}, 8: {'6', '1', '3', '5'}, 6: {'2'}}) defaultdict(<class 'set'>, {0: {'7', '3', '8'}, 1: {'5', '6', '1', '9'}, 2: {'6', '9', '8'}, 3: {'6', '3', '8'}, 4: {'4', '1', '3', '8'}, 5: {'6', '2', '7'}, 6: {'2', '6', '8'}, 7: {'4', '9', '1', '5'}}) defaultdict(<class 'set'>, {(0, 0): {'6', '9', '3', '8'}, (0, 1): {'5', '1', '7', '9'}, (0, 2): {'6'}, (1, 0): {'4', '7', '8'}, (1, 1): {'2', '6', '3', '8'}, (1, 2): {'6', '1', '3'}, (2, 0): {'6'}, (2, 2): {'2', '8', '5'}, (2, 1): {'4', '9', '1'}})\n",
            "defaultdict(<class 'set'>, {0: {'4', '6', '7', '8'}, 1: {'6', '9', '3'}, 4: {'6', '1', '8', '7', '9', '2'}, 3: {'4', '1', '8'}, 5: {'9', '3', '5'}, 2: {'8'}, 7: {'6', '8'}, 8: {'6', '1', '3', '5'}, 6: {'2'}}) defaultdict(<class 'set'>, {0: {'7', '3', '8'}, 1: {'5', '6', '1', '9'}, 2: {'6', '9', '8'}, 3: {'6', '3', '8'}, 4: {'4', '1', '3', '8'}, 5: {'6', '2', '7'}, 6: {'2', '6', '8'}, 7: {'4', '9', '1', '5'}, 8: {'8'}}) defaultdict(<class 'set'>, {(0, 0): {'6', '9', '3', '8'}, (0, 1): {'5', '1', '7', '9'}, (0, 2): {'6'}, (1, 0): {'4', '7', '8'}, (1, 1): {'2', '6', '3', '8'}, (1, 2): {'6', '1', '3'}, (2, 0): {'6'}, (2, 2): {'2', '8', '5'}, (2, 1): {'4', '9', '1', '8'}})\n",
            "defaultdict(<class 'set'>, {0: {'4', '6', '7', '8'}, 1: {'6', '9', '3'}, 4: {'6', '1', '8', '7', '9', '2'}, 3: {'4', '1', '8'}, 5: {'9', '3', '5'}, 2: {'8'}, 7: {'6', '7', '8'}, 8: {'6', '1', '3', '5'}, 6: {'2'}}) defaultdict(<class 'set'>, {0: {'7', '3', '8'}, 1: {'5', '6', '1', '9'}, 2: {'6', '9', '8'}, 3: {'6', '3', '8'}, 4: {'4', '1', '3', '8'}, 5: {'6', '2', '7'}, 6: {'2', '6', '8'}, 7: {'4', '9', '1', '5'}, 8: {'7', '8'}}) defaultdict(<class 'set'>, {(0, 0): {'6', '9', '3', '8'}, (0, 1): {'5', '1', '7', '9'}, (0, 2): {'6'}, (1, 0): {'4', '7', '8'}, (1, 1): {'2', '6', '3', '8'}, (1, 2): {'6', '1', '3'}, (2, 0): {'6'}, (2, 2): {'2', '7', '8', '5'}, (2, 1): {'4', '9', '1', '8'}})\n",
            "defaultdict(<class 'set'>, {0: {'4', '6', '7', '8'}, 1: {'6', '9', '3'}, 4: {'6', '1', '8', '7', '9', '2'}, 3: {'4', '1', '8'}, 5: {'9', '3', '5'}, 2: {'8'}, 7: {'6', '7', '8'}, 8: {'6', '1', '3', '9', '5'}, 6: {'2'}}) defaultdict(<class 'set'>, {0: {'7', '3', '8'}, 1: {'5', '6', '1', '9'}, 2: {'6', '9', '8'}, 3: {'6', '3', '8'}, 4: {'4', '1', '3', '8'}, 5: {'6', '2', '7'}, 6: {'2', '6', '8'}, 7: {'4', '9', '1', '5'}, 8: {'9', '7', '8'}}) defaultdict(<class 'set'>, {(0, 0): {'6', '9', '3', '8'}, (0, 1): {'5', '1', '7', '9'}, (0, 2): {'6'}, (1, 0): {'4', '7', '8'}, (1, 1): {'2', '6', '3', '8'}, (1, 2): {'6', '1', '3'}, (2, 0): {'6'}, (2, 2): {'8', '7', '9', '2', '5'}, (2, 1): {'4', '9', '1', '8'}})\n"
          ]
        }
      ]
    },
    {
      "cell_type": "code",
      "source": [
        "from collections import defaultdict\n",
        "\n",
        "class Solution:\n",
        "    def isValidSudoku(self, board: List[List[str]]) -> bool:\n",
        "        cols = defaultdict(set)\n",
        "        rows = defaultdict(set)\n",
        "        squares = defaultdict(set)\n",
        "\n",
        "        for r in range(9):\n",
        "            for c in range(9):\n",
        "                if board[r][c] == \".\":\n",
        "                    continue\n",
        "                if (board[r][c] in rows[r] or board[r][c] in cols[c] or board[r][c] in squares[(r // 3, c // 3)]):\n",
        "                    return False\n",
        "                cols[c].add(board[r][c])\n",
        "                rows[r].add(board[r][c])\n",
        "                squares[(r//3, c//3)].add(board[r][c])\n",
        "        return True"
      ],
      "metadata": {
        "id": "os9VnUiMPT98"
      },
      "execution_count": null,
      "outputs": []
    },
    {
      "cell_type": "markdown",
      "source": [
        "## 128. Longest Consecutive Sequence\n"
      ],
      "metadata": {
        "id": "1wd66FdXjtQb"
      }
    },
    {
      "cell_type": "code",
      "source": [
        "# nums = [0,3,7,2,5,8,4,6,0,1]\n",
        "nums = [9,1,4,7,3,-1,0,5,8,-1,6]\n",
        "\n",
        "cnt = 1 \n",
        "maxcnt = 0 \n",
        "nums.sort()\n",
        "for i in range(0,len(nums)):\n",
        "    if nums[i] == nums[i-1]: \n",
        "        pass \n",
        "    elif nums[i] == nums[i-1]+1:\n",
        "        cnt += 1\n",
        "    else:\n",
        "        cnt=1 \n",
        "    maxcnt = max(cnt, maxcnt)\n",
        "maxcnt"
      ],
      "metadata": {
        "colab": {
          "base_uri": "https://localhost:8080/"
        },
        "id": "j4DS2PNdjurt",
        "outputId": "f87e87d5-aeb0-47b0-f78f-7b644c37f25b"
      },
      "execution_count": null,
      "outputs": [
        {
          "output_type": "execute_result",
          "data": {
            "text/plain": [
              "7"
            ]
          },
          "metadata": {},
          "execution_count": 40
        }
      ]
    },
    {
      "cell_type": "code",
      "source": [
        "class Solution:\n",
        "    def longestConsecutive(self, nums: List[int]) -> int:\n",
        "        cnt = 1 \n",
        "        maxcnt = 0 \n",
        "        nums.sort()\n",
        "        for i in range(0,len(nums)):\n",
        "            if nums[i] == nums[i-1]: \n",
        "                pass \n",
        "            elif nums[i] == nums[i-1]+1:\n",
        "                cnt += 1\n",
        "            else:\n",
        "                cnt=1 \n",
        "            maxcnt = max(cnt, maxcnt)\n",
        "        return maxcnt"
      ],
      "metadata": {
        "id": "vFirDC0_nmec"
      },
      "execution_count": null,
      "outputs": []
    },
    {
      "cell_type": "markdown",
      "source": [
        "# Two Pointers"
      ],
      "metadata": {
        "id": "5poKJyrCnmLY"
      }
    },
    {
      "cell_type": "markdown",
      "source": [
        "## 125. Valid Palindrome\n"
      ],
      "metadata": {
        "id": "AD1FqNMR_Dye"
      }
    },
    {
      "cell_type": "code",
      "source": [
        "s = \"A man, a plan, a canal: Panama\"\n",
        "res = \"\"\n",
        "\n",
        "for i in s:\n",
        "    if i.isalnum():\n",
        "        res += i.lower()\n",
        "res == res[::-1]"
      ],
      "metadata": {
        "colab": {
          "base_uri": "https://localhost:8080/"
        },
        "id": "GIbOk1rMpSpT",
        "outputId": "3a745f00-77b4-427a-874b-1b250b8e9742"
      },
      "execution_count": null,
      "outputs": [
        {
          "output_type": "execute_result",
          "data": {
            "text/plain": [
              "True"
            ]
          },
          "metadata": {},
          "execution_count": 17
        }
      ]
    },
    {
      "cell_type": "code",
      "source": [
        "class Solution:\n",
        "    def isPalindrome(self, s: str) -> bool:\n",
        "        res = \"\"\n",
        "\n",
        "        for i in s:\n",
        "            if i.isalnum():\n",
        "                res += i.lower()\n",
        "        return res == res[::-1]"
      ],
      "metadata": {
        "colab": {
          "base_uri": "https://localhost:8080/",
          "height": 36
        },
        "id": "kiOSR5n7qIBz",
        "outputId": "0872fa60-f2ec-47d4-8572-81fae6eb67c4"
      },
      "execution_count": null,
      "outputs": [
        {
          "output_type": "execute_result",
          "data": {
            "text/plain": [
              "'A'"
            ],
            "application/vnd.google.colaboratory.intrinsic+json": {
              "type": "string"
            }
          },
          "metadata": {},
          "execution_count": 9
        }
      ]
    },
    {
      "cell_type": "code",
      "source": [
        "class Solution:\n",
        "    def isPalindrome(self, s: str) -> bool:\n",
        "        new = ''.join(ch for ch in s if ch.isalnum())\n",
        "        return new.lower() == new[::-1].lower()"
      ],
      "metadata": {
        "id": "LfBR973Qr3oX"
      },
      "execution_count": null,
      "outputs": []
    },
    {
      "cell_type": "markdown",
      "source": [
        "## 167. Two Sum II - Input Array Is Sorted\n"
      ],
      "metadata": {
        "id": "D-tCOe4y_DFf"
      }
    },
    {
      "cell_type": "code",
      "source": [
        "numbers = [2,3,4]\n",
        "target = 6\n",
        "\n",
        "res = [] \n",
        "for i in range(len(numbers)):\n",
        "    for j in range(i+1, len(numbers)):\n",
        "        if numbers[i] + numbers[j] == target:\n",
        "            print([i+1,j+1])"
      ],
      "metadata": {
        "colab": {
          "base_uri": "https://localhost:8080/"
        },
        "id": "aV3387Ot_HX-",
        "outputId": "036a9483-c278-4f6f-f3c6-732307f63177"
      },
      "execution_count": null,
      "outputs": [
        {
          "output_type": "stream",
          "name": "stdout",
          "text": [
            "[1, 3]\n"
          ]
        }
      ]
    },
    {
      "cell_type": "code",
      "source": [
        "class Solution:\n",
        "    def twoSum(self, numbers: List[int], target: int) -> List[int]:\n",
        "        left, right = 0, len(numbers) -1 \n",
        "\n",
        "        while left < right:\n",
        "            res = numbers[left] + numbers[right]\n",
        "            if res == target:\n",
        "                return [left+1, right +1]\n",
        "            elif res < target:\n",
        "                left += 1\n",
        "            else:\n",
        "                right -= 1"
      ],
      "metadata": {
        "id": "hFOMUy5vAfLP"
      },
      "execution_count": null,
      "outputs": []
    },
    {
      "cell_type": "code",
      "source": [
        "class Solution:\n",
        "    def twoSum(self, arr: List[int], target: int) -> List[int]:\n",
        "        dic = {}\n",
        "        for i in range(len(arr)):\n",
        "            if target - arr[i] in dic:\n",
        "                return [dic[target - arr[i]] + 1, i + 1]\n",
        "            dic[arr[i]] = i"
      ],
      "metadata": {
        "id": "nsark91jATAn"
      },
      "execution_count": null,
      "outputs": []
    },
    {
      "cell_type": "markdown",
      "source": [
        "## 15. 3Sum"
      ],
      "metadata": {
        "id": "dCMXvBJMHv4t"
      }
    },
    {
      "cell_type": "code",
      "source": [
        "nums = [-1,0,1,2,-1,-4]\n",
        "res = [] \n",
        "nums.sort()\n",
        "\n",
        "for i,a in enumerate(nums):\n",
        "    if i > 0 and a == nums[i-1]:\n",
        "        continue \n",
        "    l, r = i + 1 , len(nums) - 1\n",
        "    while l < r:\n",
        "        threesum = a + nums[l] + nums[r]\n",
        "        if threesum > 0:\n",
        "            r -= 1 \n",
        "        elif threesum < 0:\n",
        "            l += 1\n",
        "        else:\n",
        "            res.append([a, nums[i], nums[r]])\n",
        "            l += 1 \n",
        "            while nums[l] == nums[l -1 ] and l < r:\n",
        "                l += 1\n",
        "res"
      ],
      "metadata": {
        "colab": {
          "base_uri": "https://localhost:8080/"
        },
        "id": "3X69ILV2Hwkp",
        "outputId": "748da7c2-ddff-4e92-dc9e-a9638252ccf6"
      },
      "execution_count": null,
      "outputs": [
        {
          "output_type": "execute_result",
          "data": {
            "text/plain": [
              "[[-1, -1, 2], [-1, -1, 1]]"
            ]
          },
          "metadata": {},
          "execution_count": 4
        }
      ]
    },
    {
      "cell_type": "markdown",
      "source": [
        "## 11. Container With Most Water"
      ],
      "metadata": {
        "id": "u8KUDiFeADjt"
      }
    },
    {
      "cell_type": "code",
      "source": [
        "height = [1,8,6,2,5,4,8,3,7]\n",
        "\n",
        "maxarea = 0\n",
        "left = 0\n",
        "right = len(height) - 1 \n",
        "while left < right :\n",
        "    minh = min(height[left], height[right])\n",
        "    maxarea = max(maxarea, minh * (right -left))\n",
        "\n",
        "    if height[left] < height[right]:\n",
        "        left += 1\n",
        "    else:\n",
        "        right -= 1\n",
        "maxarea"
      ],
      "metadata": {
        "colab": {
          "base_uri": "https://localhost:8080/"
        },
        "id": "mw8bp7RkAVIG",
        "outputId": "1688f42e-b96f-46b4-f9ca-84a125896459"
      },
      "execution_count": null,
      "outputs": [
        {
          "output_type": "execute_result",
          "data": {
            "text/plain": [
              "49"
            ]
          },
          "metadata": {},
          "execution_count": 1
        }
      ]
    },
    {
      "cell_type": "code",
      "source": [
        "class Solution:\n",
        "    def maxArea(self, height: List[int]) -> int:\n",
        "        maxarea = 0\n",
        "        left = 0\n",
        "        right = len(height) - 1 \n",
        "        while left < right :\n",
        "            minh = min(height[left], height[right])\n",
        "            maxarea = max(maxarea, minh * (right -left))\n",
        "\n",
        "            if height[left] < height[right]:\n",
        "                left += 1\n",
        "            else:\n",
        "                right -= 1\n",
        "        return maxarea"
      ],
      "metadata": {
        "id": "fxjjrTm7A_E3"
      },
      "execution_count": null,
      "outputs": []
    },
    {
      "cell_type": "markdown",
      "source": [
        "# Stack"
      ],
      "metadata": {
        "id": "mglU0Ccwn1hH"
      }
    },
    {
      "cell_type": "markdown",
      "source": [
        "## Valid Parentheses"
      ],
      "metadata": {
        "id": "N6lEfXQ1n3zG"
      }
    },
    {
      "cell_type": "code",
      "source": [
        "# table  = {\n",
        "#     ')' : '(',\n",
        "#     ']' : '[',\n",
        "#     '}' : '{'\n",
        "# }\n",
        "\n",
        "dic = {}\n",
        "dic['{'] = '}'\n",
        "dic['('] = ')'\n",
        "dic['['] = ']'\n",
        "res = [] \n",
        "s = \"()\"\n",
        "for i in s:\n",
        "    if i in dic :\n",
        "        res.append(i)\n",
        "    elif not res or dic[res.pop()] != i:\n",
        "        print(False)\n",
        "len(res) == 0"
      ],
      "metadata": {
        "colab": {
          "base_uri": "https://localhost:8080/"
        },
        "id": "kZ80JDicn1zZ",
        "outputId": "a9fd7e3f-a9f1-46d3-ac78-af06afc983ef"
      },
      "execution_count": null,
      "outputs": [
        {
          "output_type": "execute_result",
          "data": {
            "text/plain": [
              "True"
            ]
          },
          "metadata": {},
          "execution_count": 13
        }
      ]
    },
    {
      "cell_type": "code",
      "source": [
        "class Solution:\n",
        "    def isValid(self, s: str) -> bool:\n",
        "        dic = {}\n",
        "        dic['{'] = '}'\n",
        "        dic['('] = ')'\n",
        "        dic['['] = ']'\n",
        "        res = [] \n",
        "        for i in s:\n",
        "            if i in dic :\n",
        "                res.append(i)\n",
        "            elif not res or dic[res.pop()] != i:\n",
        "                return False\n",
        "        return len(res) == 0"
      ],
      "metadata": {
        "id": "5NyV_KIur-Je"
      },
      "execution_count": null,
      "outputs": []
    },
    {
      "cell_type": "code",
      "source": [
        "class Solution(object):\n",
        "    def isValid(self, s):\n",
        "        \"\"\"\n",
        "        :type s: str\n",
        "        :rtype: bool\n",
        "        \"\"\"\n",
        "        stack = []\n",
        "        table  = {\n",
        "            ')' : '(',\n",
        "            ']' : '[',\n",
        "            '}' : '{'\n",
        "        }\n",
        "        for char in s:\n",
        "            if char not in table:\n",
        "                stack.append(char)\n",
        "            elif not stack or table[char] != stack.pop():\n",
        "                return False\n",
        "        return len(stack) == 0\n"
      ],
      "metadata": {
        "id": "k7KPRhH1to_K"
      },
      "execution_count": null,
      "outputs": []
    },
    {
      "cell_type": "markdown",
      "source": [
        "## 155. Min Stack"
      ],
      "metadata": {
        "id": "Y5kWBFV2Wech"
      }
    },
    {
      "cell_type": "code",
      "source": [
        "class MinStack:\n",
        "\n",
        "    def __init__(self):\n",
        "        self.stack = [] \n",
        "        self.minstack = []\n",
        "        \n",
        "\n",
        "    def push(self, val: int) -> None:\n",
        "        self.stack.append(val)\n",
        "        if self.minstack:\n",
        "            val = min(self.minstack[-1],val)\n",
        "        self.minstack.append(val)\n",
        "        \n",
        "    def pop(self) -> None:\n",
        "        self.stack.pop()\n",
        "        self.minstack.pop()\n",
        "        \n",
        "\n",
        "    def top(self) -> int:\n",
        "        return self.stack[-1]\n",
        "        \n",
        "\n",
        "    def getMin(self) -> int:\n",
        "        return self.minstack[-1]\n"
      ],
      "metadata": {
        "id": "IR_MUEU8Wgat"
      },
      "execution_count": null,
      "outputs": []
    },
    {
      "cell_type": "markdown",
      "source": [
        "## 150. Evaluate Reverse Polish Notation\n"
      ],
      "metadata": {
        "id": "7USgXhw7BjGG"
      }
    },
    {
      "cell_type": "code",
      "source": [
        "class Solution:\n",
        "    def evalRPN(self, tokens: List[str]) -> int:\n",
        "        ops = {\"+\" : add, \"-\" : sub, \"*\" : mul, \"/\" : truediv}\n",
        "        for t in tokens[:] : tokens.append(int(ops[t](tokens.pop(-2),tokens.pop(-1)) if t in ops else t))\n",
        "        return tokens[-1]\n"
      ],
      "metadata": {
        "id": "LNOnou1KBjnF"
      },
      "execution_count": null,
      "outputs": []
    },
    {
      "cell_type": "code",
      "source": [
        "class Solution:\n",
        "    def evalRPN(self, tokens: List[str]) -> int:\n",
        "        \n",
        "        ops = {\"+\" : add, \"-\" : sub, \"*\" : mul, \"/\" : truediv}\n",
        "        s = []\n",
        "\n",
        "        while tokens:\n",
        "            s.append(t if (t:=tokens.pop()) in ops else int(t))\n",
        "            while len(s) > 2 and isinstance(s[-1], int) and isinstance(s[-2], int):\n",
        "                a, b, t = s.pop(), s.pop(), s.pop()\n",
        "                s.append(int(ops[t](int(a), int(b))))\n",
        "        \n",
        "        return s[-1]\n"
      ],
      "metadata": {
        "id": "g5XXgI5oBkt9"
      },
      "execution_count": null,
      "outputs": []
    },
    {
      "cell_type": "code",
      "source": [
        "class Solution:\n",
        "    def evalRPN(self, tokens: List[str]) -> int:\n",
        "\n",
        "        ops = {\"+\" : add, \"-\" : sub, \"*\" : mul, \"/\" : truediv}\n",
        "        stack = []\n",
        "\n",
        "        for t in tokens:\n",
        "            if t in ops:\n",
        "                b, a = stack.pop(), stack.pop()\n",
        "                t = ops[t](a,b)\n",
        "            stack.append(int(t))\n",
        "            print(stack)\n",
        "\n",
        "        return stack[-1]"
      ],
      "metadata": {
        "id": "CRxlihDECHIL"
      },
      "execution_count": null,
      "outputs": []
    },
    {
      "cell_type": "markdown",
      "source": [
        "## 22. Generate Parentheses\n"
      ],
      "metadata": {
        "id": "Ux2mAS6e1cAD"
      }
    },
    {
      "cell_type": "code",
      "source": [
        "n = 3\n",
        "def dfs(left, right, s):\n",
        "    print(s, len(s), left, right )\n",
        "    if len(s) == n * 2: # 6\n",
        "        res.append(s)\n",
        "        return \n",
        "\n",
        "    if left < n:\n",
        "        dfs(left + 1, right, s + '(')\n",
        "\n",
        "    if right < left:\n",
        "        dfs(left, right + 1, s + ')')\n",
        "res = [] \n",
        "dfs(0,0,'')"
      ],
      "metadata": {
        "colab": {
          "base_uri": "https://localhost:8080/"
        },
        "id": "M39LkJe92KIG",
        "outputId": "0476378b-5979-4d04-f8f6-c15b5b7e96ad"
      },
      "execution_count": null,
      "outputs": [
        {
          "output_type": "stream",
          "name": "stdout",
          "text": [
            " 0 0 0\n",
            "( 1 1 0\n",
            "(( 2 2 0\n",
            "((( 3 3 0\n",
            "((() 4 3 1\n",
            "((()) 5 3 2\n",
            "((())) 6 3 3\n",
            "(() 3 2 1\n",
            "(()( 4 3 1\n",
            "(()() 5 3 2\n",
            "(()()) 6 3 3\n",
            "(()) 4 2 2\n",
            "(())( 5 3 2\n",
            "(())() 6 3 3\n",
            "() 2 1 1\n",
            "()( 3 2 1\n",
            "()(( 4 3 1\n",
            "()(() 5 3 2\n",
            "()(()) 6 3 3\n",
            "()() 4 2 2\n",
            "()()( 5 3 2\n",
            "()()() 6 3 3\n"
          ]
        }
      ]
    },
    {
      "cell_type": "code",
      "source": [
        "class Solution:\n",
        "    def generateParenthesis(self, n: int) -> List[str]:\n",
        "        def dfs(left, right, s):\n",
        "            if len(s) == n * 2:\n",
        "                res.append(s)\n",
        "                return \n",
        "\n",
        "            if left < n:\n",
        "                dfs(left + 1, right, s + '(')\n",
        "\n",
        "            if right < left:\n",
        "                dfs(left, right + 1, s + ')')\n",
        "\n",
        "        res = []\n",
        "        dfs(0, 0, '')\n",
        "        return res"
      ],
      "metadata": {
        "colab": {
          "base_uri": "https://localhost:8080/"
        },
        "id": "f7KXMNmi3IB7",
        "outputId": "2123b2c8-0a92-482b-e0ad-80a643515f36"
      },
      "execution_count": null,
      "outputs": [
        {
          "output_type": "execute_result",
          "data": {
            "text/plain": [
              "['((()))', '(()())', '(())()', '()(())', '()()()']"
            ]
          },
          "metadata": {},
          "execution_count": 2
        }
      ]
    },
    {
      "cell_type": "markdown",
      "source": [
        "## Daily Temperatures"
      ],
      "metadata": {
        "id": "Lmcc7CwOFnpa"
      }
    },
    {
      "cell_type": "code",
      "source": [
        "temperatures = [73,74,75,71,69,72,76,73]\n",
        "res = [0] * len(temperatures)\n",
        "stack = [] \n",
        "for i,t in enumerate(temperatures):\n",
        "    while stack and t > stack[-1][0]:\n",
        "        stackt, stackid = stack.pop()\n",
        "        res[stackid] = (i - stackid)\n",
        "    stack.append([t,i])\n",
        "    print(stack,stackt,stackid, res[stackid])\n",
        "res"
      ],
      "metadata": {
        "colab": {
          "base_uri": "https://localhost:8080/"
        },
        "id": "oFkqiQFXFrnk",
        "outputId": "c8322043-f7e2-4569-dab9-5e02036eb21a"
      },
      "execution_count": 6,
      "outputs": [
        {
          "output_type": "stream",
          "name": "stdout",
          "text": [
            "[[73, 0]] 75 2 0\n",
            "[[74, 1]] 73 0 1\n",
            "[[75, 2]] 74 1 1\n",
            "[[75, 2], [71, 3]] 74 1 1\n",
            "[[75, 2], [71, 3], [69, 4]] 74 1 1\n",
            "[[75, 2], [72, 5]] 71 3 2\n",
            "[[76, 6]] 75 2 4\n",
            "[[76, 6], [73, 7]] 75 2 4\n"
          ]
        },
        {
          "output_type": "execute_result",
          "data": {
            "text/plain": [
              "[1, 1, 4, 2, 1, 1, 0, 0]"
            ]
          },
          "metadata": {},
          "execution_count": 6
        }
      ]
    },
    {
      "cell_type": "code",
      "source": [
        "class Solution:\n",
        "    def dailyTemperatures(self, temperatures: List[int]) -> List[int]:\n",
        "        res = [0] * len(temperatures)\n",
        "        stack = [] \n",
        "        for i,t in enumerate(temperatures):\n",
        "            while stack and t > stack[-1][0]:\n",
        "                stackt, stackid = stack.pop()\n",
        "                res[stackid] = (i - stackid)\n",
        "            stack.append([t,i])\n",
        "        return res "
      ],
      "metadata": {
        "id": "Pw4ArteQHo4L"
      },
      "execution_count": null,
      "outputs": []
    },
    {
      "cell_type": "markdown",
      "source": [
        "# Binary Search"
      ],
      "metadata": {
        "id": "8JDiJm5gXhZa"
      }
    },
    {
      "cell_type": "markdown",
      "source": [
        "## 704. Binary Search"
      ],
      "metadata": {
        "id": "x0CbkkusXpy-"
      }
    },
    {
      "cell_type": "code",
      "source": [
        "nums = [-1,0,3,5,9,12]\n",
        "target = 9\n",
        "for i in range(len(nums)):\n",
        "    if nums[i] == target:\n",
        "        print(i)"
      ],
      "metadata": {
        "colab": {
          "base_uri": "https://localhost:8080/"
        },
        "id": "wppTlxv9Xhps",
        "outputId": "b5696c59-b8f8-4c51-9e99-29a60b65d953"
      },
      "execution_count": 2,
      "outputs": [
        {
          "output_type": "stream",
          "name": "stdout",
          "text": [
            "4\n"
          ]
        }
      ]
    },
    {
      "cell_type": "code",
      "source": [
        "class Solution:\n",
        "    def search(self, nums: List[int], target: int) -> int:\n",
        "        for i in range(len(nums)):\n",
        "            if nums[i] == target:\n",
        "                return i\n",
        "        return -1 "
      ],
      "metadata": {
        "id": "MaF8k3HHYeou"
      },
      "execution_count": null,
      "outputs": []
    },
    {
      "cell_type": "code",
      "source": [
        "class Solution:\n",
        "    def search(self, nums: List[int], target: int) -> int:\n",
        "        l, r = 0, len(nums)-1\n",
        "\n",
        "        while l <= r:\n",
        "            m = (l+r) // 2             \n",
        "            if nums[m] > target:\n",
        "                r = m -1 \n",
        "            elif nums[m] < target:\n",
        "                l = m + 1\n",
        "            else:\n",
        "                return m \n",
        "        return -1 "
      ],
      "metadata": {
        "id": "fIaelj3MYfcZ"
      },
      "execution_count": null,
      "outputs": []
    },
    {
      "cell_type": "markdown",
      "source": [
        "## 74. Search a 2D Matrix"
      ],
      "metadata": {
        "id": "ECqK8haGh57x"
      }
    },
    {
      "cell_type": "code",
      "source": [
        "matrix = [[1,3,5,7],[10,11,16,20],[23,30,34,60]]\n",
        "target = 3\n",
        "for i in matrix:\n",
        "    for j in range(len(i)):\n",
        "        if i[j] == target:\n",
        "            print(i)"
      ],
      "metadata": {
        "colab": {
          "base_uri": "https://localhost:8080/"
        },
        "id": "6t519gKziHp5",
        "outputId": "ed023950-3f77-452b-abdb-a6fe44d0a04f"
      },
      "execution_count": 1,
      "outputs": [
        {
          "output_type": "stream",
          "name": "stdout",
          "text": [
            "[1, 3, 5, 7]\n"
          ]
        }
      ]
    },
    {
      "cell_type": "code",
      "source": [
        "class Solution:\n",
        "    def searchMatrix(self, matrix: List[List[int]], target: int) -> bool:\n",
        "        for i in matrix:\n",
        "            for j in range(len(i)):\n",
        "                if i[j] == target:\n",
        "                    return True\n",
        "        return False \n"
      ],
      "metadata": {
        "id": "ODug_pMGilaS"
      },
      "execution_count": null,
      "outputs": []
    },
    {
      "cell_type": "code",
      "source": [
        "class Solution:\n",
        "    def searchMatrix(self, matrix: List[List[int]], target: int) -> bool:\n",
        "        rows, cols = len(matrix), len(matrix[0])\n",
        "\n",
        "        top, bot = 0, rows - 1 \n",
        "        while top <= bot:\n",
        "            row = (top + bot) // 2\n",
        "            if target > matrix[row][-1] :\n",
        "                top = row + 1\n",
        "            elif target < matrix[row][0]:\n",
        "                bot = row - 1\n",
        "            else:\n",
        "                break \n",
        "        \n",
        "        if not (top <= bot):\n",
        "            return False\n",
        "        row = (top + bot) // 2\n",
        "        l, r = 0, cols - 1 \n",
        "        while l <= r :\n",
        "            m = (l + r) // 2\n",
        "            if target > matrix[row][m]:\n",
        "                l = m + 1\n",
        "            elif target > matrix[row][m]:\n",
        "                r = m - 1\n",
        "            else:\n",
        "                return True \n",
        "        return False"
      ],
      "metadata": {
        "id": "LmcLBrReil6S"
      },
      "execution_count": null,
      "outputs": []
    },
    {
      "cell_type": "markdown",
      "source": [
        "## 875. Koko Eating Bananas"
      ],
      "metadata": {
        "id": "wQ2vjZrZjF8N"
      }
    },
    {
      "cell_type": "code",
      "source": [
        "piles = [3,6,7,11]\n",
        "h = 8\n",
        "\n",
        "l,r = 1, max(piles)\n",
        "while l <= r: \n",
        "    m = (l+r) // 2 \n",
        "    hh = sum(((i-1) // m ) + 1 for i in piles) \n",
        "    print(l,r,m,hh)\n",
        "\n",
        "    if hh <= h:\n",
        "        r = m - 1\n",
        "    else:\n",
        "        l = m + 1 \n"
      ],
      "metadata": {
        "colab": {
          "base_uri": "https://localhost:8080/"
        },
        "id": "FLLv57ETjFm_",
        "outputId": "34578c18-f326-4c64-803b-537a4686e084"
      },
      "execution_count": 7,
      "outputs": [
        {
          "output_type": "stream",
          "name": "stdout",
          "text": [
            "1 11 6 6\n",
            "1 5 3 10\n",
            "4 5 4 8\n"
          ]
        }
      ]
    },
    {
      "cell_type": "code",
      "source": [
        "import math \n",
        "l,r = 1, max(piles)\n",
        "res = r \n",
        "\n",
        "while l <= r: \n",
        "    m = (l+r) // 2 \n",
        "    hh = 0 \n",
        "    for p in piles: \n",
        "        hh += math.ceil(p/m)\n",
        "    if hh <= h:\n",
        "        res = min(res,m)\n",
        "        r = m - 1\n",
        "    else:\n",
        "        l = m + 1 \n",
        "res "
      ],
      "metadata": {
        "colab": {
          "base_uri": "https://localhost:8080/"
        },
        "id": "ExkI53LlkKFz",
        "outputId": "260b7e20-9d4a-4e39-8f4e-6f40fe68e96a"
      },
      "execution_count": 9,
      "outputs": [
        {
          "output_type": "execute_result",
          "data": {
            "text/plain": [
              "4"
            ]
          },
          "metadata": {},
          "execution_count": 9
        }
      ]
    },
    {
      "cell_type": "code",
      "source": [
        "class Solution:\n",
        "    def minEatingSpeed(self, piles: List[int], h: int) -> int:\n",
        "        l,r = 1, max(piles)\n",
        "        res = r \n",
        "\n",
        "        while l <= r: \n",
        "            m = (l+r) // 2 \n",
        "            hh = 0 \n",
        "            for p in piles: \n",
        "                hh += math.ceil(p/m)\n",
        "            if hh <= h:\n",
        "                res = min(res,m)\n",
        "                r = m - 1\n",
        "            else:\n",
        "                l = m + 1 \n",
        "        return res \n"
      ],
      "metadata": {
        "id": "cJUaQlNlkms0"
      },
      "execution_count": null,
      "outputs": []
    },
    {
      "cell_type": "code",
      "source": [
        "class Solution:\n",
        "    def minEatingSpeed(self, piles: List[int], h: int) -> int:\n",
        "        return bisect_left(range(1,max(piles)), True , key=lambda t:sum(ceil(pile/t) for pile in piles)<=h )+1\n",
        "        # Tips: time list start at 1 because can't divide by zero"
      ],
      "metadata": {
        "id": "aCc2Van7kmoe"
      },
      "execution_count": null,
      "outputs": []
    }
  ]
}