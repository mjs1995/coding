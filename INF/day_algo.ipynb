{
  "nbformat": 4,
  "nbformat_minor": 0,
  "metadata": {
    "colab": {
      "provenance": [],
      "authorship_tag": "ABX9TyMhe+O1W32l+/7BFh1ZNcDW",
      "include_colab_link": true
    },
    "kernelspec": {
      "name": "python3",
      "display_name": "Python 3"
    },
    "language_info": {
      "name": "python"
    },
    "gpuClass": "standard"
  },
  "cells": [
    {
      "cell_type": "markdown",
      "metadata": {
        "id": "view-in-github",
        "colab_type": "text"
      },
      "source": [
        "<a href=\"https://colab.research.google.com/github/mjs1995/coding/blob/main/INF/day_algo.ipynb\" target=\"_parent\"><img src=\"https://colab.research.google.com/assets/colab-badge.svg\" alt=\"Open In Colab\"/></a>"
      ]
    },
    {
      "cell_type": "markdown",
      "source": [
        "# 234. Palindrome Linked List"
      ],
      "metadata": {
        "id": "zH7Cc7C1PlXh"
      }
    },
    {
      "cell_type": "code",
      "execution_count": null,
      "metadata": {
        "id": "diXqDC8cOIMO"
      },
      "outputs": [],
      "source": [
        "class Solution:\n",
        "    def insert_stack(self, head):\n",
        "        stack_rev = []\n",
        "        while(head):\n",
        "            stack_rev.append(head.val)\n",
        "            head = head.next\n",
        "        return stack_rev\n",
        " \n",
        "    def isPalindrome(self, head: ListNode) -> bool:\n",
        "        if head == None:\n",
        "            return True\n",
        "        stack_rev = self.insert_stack(head)\n",
        "        while(head):\n",
        "            if(head.val == stack_rev.pop()):\n",
        "                head = head.next\n",
        "            else:\n",
        "                return False\n",
        "        return True\n",
        "\n",
        "# ListNode{val: 1, next: ListNode{val: 2, next: ListNode{val: 2, next: ListNode{val: 1, next: None}}}}\n",
        "# ListNode{val: 2, next: ListNode{val: 2, next: ListNode{val: 1, next: None}}}\n",
        "# ListNode{val: 2, next: ListNode{val: 1, next: None}}\n",
        "# ListNode{val: 1, next: None}"
      ]
    }
  ]
}