{
  "nbformat": 4,
  "nbformat_minor": 0,
  "metadata": {
    "colab": {
      "provenance": [],
      "toc_visible": true,
      "authorship_tag": "ABX9TyO8+M1d7qDVYijkLC76MS/z",
      "include_colab_link": true
    },
    "kernelspec": {
      "name": "python3",
      "display_name": "Python 3"
    },
    "language_info": {
      "name": "python"
    },
    "gpuClass": "standard"
  },
  "cells": [
    {
      "cell_type": "markdown",
      "metadata": {
        "id": "view-in-github",
        "colab_type": "text"
      },
      "source": [
        "<a href=\"https://colab.research.google.com/github/mjs1995/coding/blob/main/INF/day_algo.ipynb\" target=\"_parent\"><img src=\"https://colab.research.google.com/assets/colab-badge.svg\" alt=\"Open In Colab\"/></a>"
      ]
    },
    {
      "cell_type": "markdown",
      "source": [
        "## 234. Palindrome Linked List"
      ],
      "metadata": {
        "id": "zH7Cc7C1PlXh"
      }
    },
    {
      "cell_type": "code",
      "execution_count": null,
      "metadata": {
        "id": "diXqDC8cOIMO"
      },
      "outputs": [],
      "source": [
        "class Solution:\n",
        "    def insert_stack(self, head):\n",
        "        stack_rev = []\n",
        "        while(head):\n",
        "            stack_rev.append(head.val)\n",
        "            head = head.next\n",
        "        return stack_rev\n",
        " \n",
        "    def isPalindrome(self, head: ListNode) -> bool:\n",
        "        if head == None:\n",
        "            return True\n",
        "        stack_rev = self.insert_stack(head)\n",
        "        while(head):\n",
        "            if(head.val == stack_rev.pop()):\n",
        "                head = head.next\n",
        "            else:\n",
        "                return False\n",
        "        return True\n",
        "\n",
        "# ListNode{val: 1, next: ListNode{val: 2, next: ListNode{val: 2, next: ListNode{val: 1, next: None}}}}\n",
        "# ListNode{val: 2, next: ListNode{val: 2, next: ListNode{val: 1, next: None}}}\n",
        "# ListNode{val: 2, next: ListNode{val: 1, next: None}}\n",
        "# ListNode{val: 1, next: None}"
      ]
    },
    {
      "cell_type": "markdown",
      "source": [
        "# Arrays & Hashing"
      ],
      "metadata": {
        "id": "jiI13Gfs1rFu"
      }
    },
    {
      "cell_type": "markdown",
      "source": [
        "## 217. Contains Duplicate"
      ],
      "metadata": {
        "id": "VlssCazByz5G"
      }
    },
    {
      "cell_type": "code",
      "source": [
        "nums = [1,2,3,1]\n",
        "if list(set([x for x in nums if nums.count(x) > 1 ])): \n",
        "    print(True)\n",
        "else:\n",
        "    print(False)"
      ],
      "metadata": {
        "colab": {
          "base_uri": "https://localhost:8080/"
        },
        "id": "S1spXGzGyzpe",
        "outputId": "a256fe75-4d7f-4fc5-c7ef-dbe69a001c25"
      },
      "execution_count": null,
      "outputs": [
        {
          "output_type": "stream",
          "name": "stdout",
          "text": [
            "True\n"
          ]
        }
      ]
    },
    {
      "cell_type": "code",
      "source": [
        "from collections import Counter\n",
        "duplicates = [item for item, count in Counter(nums).items() if count > 1]\n",
        "duplicates"
      ],
      "metadata": {
        "colab": {
          "base_uri": "https://localhost:8080/"
        },
        "id": "t28jkOpzy81E",
        "outputId": "25548a6b-ed1d-49a1-eada-ca312914f40a"
      },
      "execution_count": null,
      "outputs": [
        {
          "output_type": "execute_result",
          "data": {
            "text/plain": [
              "[1]"
            ]
          },
          "metadata": {},
          "execution_count": 15
        }
      ]
    },
    {
      "cell_type": "code",
      "source": [
        "from collections import Counter\n",
        "class Solution:\n",
        "    def containsDuplicate(self, nums: List[int]) -> bool:\n",
        "        if [item for item, count in Counter(nums).items() if count > 1]: \n",
        "            return True\n",
        "        else:\n",
        "            return False"
      ],
      "metadata": {
        "colab": {
          "base_uri": "https://localhost:8080/"
        },
        "id": "lnkcdxOu0TeY",
        "outputId": "08be58f4-b555-4453-9f13-76708b71f592"
      },
      "execution_count": null,
      "outputs": [
        {
          "output_type": "execute_result",
          "data": {
            "text/plain": [
              "dict_items([(1, 2), (2, 1), (3, 1)])"
            ]
          },
          "metadata": {},
          "execution_count": 17
        }
      ]
    },
    {
      "cell_type": "code",
      "source": [
        "from collections import Counter\n",
        "class Solution:\n",
        "    def containsDuplicate(self, nums: List[int]) -> bool:\n",
        "        hashset = set() \n",
        "        for n in nums:\n",
        "            if n in hashset:\n",
        "                return True \n",
        "            hashset.add(n)\n",
        "        return False "
      ],
      "metadata": {
        "id": "bZ-d-Dze1b0q"
      },
      "execution_count": null,
      "outputs": []
    },
    {
      "cell_type": "markdown",
      "source": [
        "## 242. Valid Anagram\n"
      ],
      "metadata": {
        "id": "Bf5WYZSK5Wv4"
      }
    },
    {
      "cell_type": "code",
      "source": [
        "from collections import Counter \n",
        "s = \"anagram\"\n",
        "t = \"nagaram\"\n",
        "sorted(s) == sorted(t)"
      ],
      "metadata": {
        "colab": {
          "base_uri": "https://localhost:8080/"
        },
        "id": "wd9DqIeM5XKp",
        "outputId": "7688126e-2e88-4824-8ad0-e40c120e37c9"
      },
      "execution_count": null,
      "outputs": [
        {
          "output_type": "execute_result",
          "data": {
            "text/plain": [
              "True"
            ]
          },
          "metadata": {},
          "execution_count": 10
        }
      ]
    },
    {
      "cell_type": "code",
      "source": [
        "if len(s) != len(t):\n",
        "    print(False)\n",
        "countS, countT = {}, {} \n",
        "for i in range(len(s)):\n",
        "    countS[s[i]] = 1 + countS.get(s[i], 0)\n",
        "    countT[t[i]] = 1 + countT.get(t[i], 0)\n",
        "for c in countS:\n",
        "    if countS[c] != countT.get(c,0):\n",
        "        print(false)\n",
        "countS"
      ],
      "metadata": {
        "colab": {
          "base_uri": "https://localhost:8080/"
        },
        "id": "81gZJrQ67PN9",
        "outputId": "835339d0-acdc-4ca2-ed69-6ee05e34f153"
      },
      "execution_count": null,
      "outputs": [
        {
          "output_type": "execute_result",
          "data": {
            "text/plain": [
              "{'a': 3, 'n': 1, 'g': 1, 'r': 1, 'm': 1}"
            ]
          },
          "metadata": {},
          "execution_count": 17
        }
      ]
    },
    {
      "cell_type": "code",
      "source": [
        "class Solution:\n",
        "    def isAnagram(self, s: str, t: str) -> bool:\n",
        "        return sorted(s) == sorted(t)"
      ],
      "metadata": {
        "colab": {
          "base_uri": "https://localhost:8080/"
        },
        "id": "aY00wToV5qs9",
        "outputId": "89a632e3-c408-4264-b69a-2f5bfd87ad4a"
      },
      "execution_count": null,
      "outputs": [
        {
          "output_type": "execute_result",
          "data": {
            "text/plain": [
              "Counter({'n': 1, 'a': 3, 'g': 1, 'r': 1, 'm': 1})"
            ]
          },
          "metadata": {},
          "execution_count": 3
        }
      ]
    },
    {
      "cell_type": "code",
      "source": [
        "class Solution:\n",
        "    def isAnagram(self, s: str, t: str) -> bool:\n",
        "        return Counter(s) == Counter(t)"
      ],
      "metadata": {
        "id": "T8YqWP1g68kD"
      },
      "execution_count": null,
      "outputs": []
    },
    {
      "cell_type": "markdown",
      "source": [
        "## Two Sum"
      ],
      "metadata": {
        "id": "xz0fdVwQNKAf"
      }
    },
    {
      "cell_type": "code",
      "source": [
        "nums = [3,2,3]\n",
        "target = 6\n",
        "\n",
        "for i in range(len(nums)):\n",
        "    for j in range(i + 1, len(nums)):\n",
        "        if nums[i] + nums[j] == target:\n",
        "            print([i, j])"
      ],
      "metadata": {
        "colab": {
          "base_uri": "https://localhost:8080/"
        },
        "id": "9XrIeeNG7Mpi",
        "outputId": "5acff9fe-bea1-48d7-fc7a-3d6a355f2b56"
      },
      "execution_count": null,
      "outputs": [
        {
          "output_type": "stream",
          "name": "stdout",
          "text": [
            "[0, 2]\n"
          ]
        }
      ]
    },
    {
      "cell_type": "code",
      "source": [
        "class Solution:\n",
        "    def twoSum(self, nums: List[int], target: int) -> List[int]:\n",
        "        for i in range(len(nums)):\n",
        "            for j in range(i + 1, len(nums)):\n",
        "                if nums[i] + nums[j] == target:\n",
        "                    return([i, j])"
      ],
      "metadata": {
        "id": "eNMiqdTkO2o5"
      },
      "execution_count": null,
      "outputs": []
    },
    {
      "cell_type": "code",
      "source": [
        "class Solution:\n",
        "    def twoSum(self, nums: List[int], target: int) -> List[int]:\n",
        "        hashmap = {}\n",
        "        for i in range(len(nums)):\n",
        "            complement = target - nums[i]\n",
        "            if complement in hashmap:\n",
        "                return [i, hashmap[complement]]\n",
        "            hashmap[nums[i]] = i"
      ],
      "metadata": {
        "id": "mKXbI31FNVqg"
      },
      "execution_count": null,
      "outputs": []
    },
    {
      "cell_type": "markdown",
      "source": [
        "## 49. Group Anagrams"
      ],
      "metadata": {
        "id": "sf0-r8TpWUyh"
      }
    },
    {
      "cell_type": "code",
      "source": [
        "strs = [\"eat\",\"tea\",\"tan\",\"ate\",\"nat\",\"bat\"]"
      ],
      "metadata": {
        "id": "MXVvQ3pEWVPn"
      },
      "execution_count": null,
      "outputs": []
    },
    {
      "cell_type": "code",
      "source": [
        "from collections import Counter\n",
        "\n",
        "res = [] \n",
        "for i in range(len(strs)):\n",
        "    for j in range(i+1, len(strs)):\n",
        "        if Counter(strs[i]) == Counter(strs[j]) :\n",
        "            res.append([strs[i],strs[j]])\n",
        "res"
      ],
      "metadata": {
        "colab": {
          "base_uri": "https://localhost:8080/"
        },
        "id": "WTKdxFAoWWxT",
        "outputId": "320398bd-2763-4d75-c4d7-d52076a4c70a"
      },
      "execution_count": null,
      "outputs": [
        {
          "output_type": "execute_result",
          "data": {
            "text/plain": [
              "[['eat', 'tea'], ['eat', 'ate'], ['tea', 'ate'], ['tan', 'nat']]"
            ]
          },
          "metadata": {},
          "execution_count": 13
        }
      ]
    },
    {
      "cell_type": "code",
      "source": [
        "from collections import defaultdict \n",
        "ans = defaultdict(list)\n",
        "for s in strs:\n",
        "    ans[tuple(sorted(s))].append(s)\n",
        "# return ans.values()"
      ],
      "metadata": {
        "id": "nT6dTospXecX"
      },
      "execution_count": null,
      "outputs": []
    },
    {
      "cell_type": "code",
      "source": [
        "ans = defaultdict(list)\n",
        "for s in strs:\n",
        "    ans[tuple(sorted(s))].append(s)\n",
        "print(ans.values())"
      ],
      "metadata": {
        "colab": {
          "base_uri": "https://localhost:8080/"
        },
        "id": "oSWfas6vXgLy",
        "outputId": "605ac263-f175-44a6-878d-f63701446076"
      },
      "execution_count": null,
      "outputs": [
        {
          "output_type": "stream",
          "name": "stdout",
          "text": [
            "dict_values([['eat', 'tea', 'ate'], ['tan', 'nat'], ['bat']])\n"
          ]
        }
      ]
    },
    {
      "cell_type": "code",
      "source": [
        "class Solution:\n",
        "    def groupAnagrams(self, strs: List[str]) -> List[List[str]]:\n",
        "        ans = collections.defaultdict(list)\n",
        "        for s in strs:\n",
        "            ans[tuple(sorted(s))].append(s)\n",
        "        return ans.values()"
      ],
      "metadata": {
        "colab": {
          "base_uri": "https://localhost:8080/"
        },
        "id": "Jn-jnFM9X5bb",
        "outputId": "8edbcf68-eb2f-4f30-c970-2c3a98e787bd"
      },
      "execution_count": null,
      "outputs": [
        {
          "output_type": "execute_result",
          "data": {
            "text/plain": [
              "defaultdict(list, {})"
            ]
          },
          "metadata": {},
          "execution_count": 24
        }
      ]
    },
    {
      "cell_type": "markdown",
      "source": [
        "## 347. Top K Frequent Elements"
      ],
      "metadata": {
        "id": "ExX9uoyryCHN"
      }
    },
    {
      "cell_type": "code",
      "source": [
        "class Solution:\n",
        "    def topKFrequent(self, nums: List[int], k: int) -> List[int]:\n",
        "        res = [] \n",
        "        for i in sorted(Counter(nums).items(),key=lambda x: x[1], reverse=True)[0:k]:\n",
        "            res.append(i[0])    \n",
        "        return res"
      ],
      "metadata": {
        "colab": {
          "base_uri": "https://localhost:8080/"
        },
        "id": "5boDXX54yCbm",
        "outputId": "efcdd0ea-4038-487d-a82a-5b9ae4becae2"
      },
      "execution_count": null,
      "outputs": [
        {
          "output_type": "execute_result",
          "data": {
            "text/plain": [
              "dict_values([3, 2, 1])"
            ]
          },
          "metadata": {},
          "execution_count": 8
        }
      ]
    },
    {
      "cell_type": "code",
      "source": [
        "Counter(nums).most_common(k)"
      ],
      "metadata": {
        "id": "yZT31CSw09-x",
        "outputId": "10560e2d-4783-4c0c-f29f-0630b8e1d43d",
        "colab": {
          "base_uri": "https://localhost:8080/"
        }
      },
      "execution_count": null,
      "outputs": [
        {
          "output_type": "execute_result",
          "data": {
            "text/plain": [
              "[(-1, 2), (2, 2)]"
            ]
          },
          "metadata": {},
          "execution_count": 29
        }
      ]
    },
    {
      "cell_type": "code",
      "source": [
        "class Solution:\n",
        "    def topKFrequent(self, nums: List[int], k: int) -> List[int]:\n",
        "        return [x for x, y in collections.Counter(nums).most_common(k)]"
      ],
      "metadata": {
        "id": "M4XlA3Z408fv"
      },
      "execution_count": null,
      "outputs": []
    },
    {
      "cell_type": "markdown",
      "source": [
        "## 238. Product of Array Except Self"
      ],
      "metadata": {
        "id": "7X3g59ZRKjP3"
      }
    },
    {
      "cell_type": "code",
      "source": [
        "nums = [1,2,3,4]\n",
        "res = [] \n",
        "for i in range(len(nums)):\n",
        "    for j in range(i+1, len(nums)):\n",
        "        res.append(nums[i] * nums[j])\n",
        "set(res)"
      ],
      "metadata": {
        "colab": {
          "base_uri": "https://localhost:8080/"
        },
        "id": "VTgztQtaKj02",
        "outputId": "94f7a757-12e9-4966-8699-787253c1b254"
      },
      "execution_count": null,
      "outputs": [
        {
          "output_type": "execute_result",
          "data": {
            "text/plain": [
              "{2, 3, 4, 6, 8, 12}"
            ]
          },
          "metadata": {},
          "execution_count": 1
        }
      ]
    },
    {
      "cell_type": "code",
      "source": [
        "res = [] \n",
        "num = 1\n",
        "for i in range(len(nums)):\n",
        "    res.append(num) \n",
        "    num *= nums[i]\n",
        "    print(num,res)\n",
        "\n",
        "num = 1\n",
        "for i in range(len(nums)-1, -1, -1):\n",
        "    res[i] *= num \n",
        "    num *= nums[i]\n",
        "res "
      ],
      "metadata": {
        "colab": {
          "base_uri": "https://localhost:8080/"
        },
        "id": "aNDo3iB8MZBK",
        "outputId": "ce7a73e6-e3ff-4c1e-c88f-e3040bb402c5"
      },
      "execution_count": null,
      "outputs": [
        {
          "output_type": "stream",
          "name": "stdout",
          "text": [
            "1 [1]\n",
            "2 [1, 1]\n",
            "6 [1, 1, 2]\n",
            "24 [1, 1, 2, 6]\n"
          ]
        },
        {
          "output_type": "execute_result",
          "data": {
            "text/plain": [
              "[24, 12, 8, 6]"
            ]
          },
          "metadata": {},
          "execution_count": 9
        }
      ]
    },
    {
      "cell_type": "code",
      "source": [
        "class Solution:\n",
        "    def productExceptSelf(self, nums: List[int]) -> List[int]:\n",
        "        res = [] \n",
        "        num = 1\n",
        "        for i in range(len(nums)):\n",
        "            res.append(num) \n",
        "            num *= nums[i]\n",
        "\n",
        "        num = 1\n",
        "        for i in range(len(nums)-1, -1, -1):\n",
        "            res[i] *= num \n",
        "            num *= nums[i]\n",
        "        return res"
      ],
      "metadata": {
        "id": "fTXm9OUPOW4G"
      },
      "execution_count": null,
      "outputs": []
    },
    {
      "cell_type": "markdown",
      "source": [
        "## 36. Valid Sudoku"
      ],
      "metadata": {
        "id": "RgOVG1rXK-zZ"
      }
    },
    {
      "cell_type": "code",
      "source": [
        "board = \\\n",
        "[[\"8\",\"3\",\".\",\".\",\"7\",\".\",\".\",\".\",\".\"]\n",
        ",[\"6\",\".\",\".\",\"1\",\"9\",\"5\",\".\",\".\",\".\"]\n",
        ",[\".\",\"9\",\"8\",\".\",\".\",\".\",\".\",\"6\",\".\"]\n",
        ",[\"8\",\".\",\".\",\".\",\"6\",\".\",\".\",\".\",\"3\"]\n",
        ",[\"4\",\".\",\".\",\"8\",\".\",\"3\",\".\",\".\",\"1\"]\n",
        ",[\"7\",\".\",\".\",\".\",\"2\",\".\",\".\",\".\",\"6\"]\n",
        ",[\".\",\"6\",\".\",\".\",\".\",\".\",\"2\",\"8\",\".\"]\n",
        ",[\".\",\".\",\".\",\"4\",\"1\",\"9\",\".\",\".\",\"5\"]\n",
        ",[\".\",\".\",\".\",\".\",\"8\",\".\",\".\",\"7\",\"9\"]]"
      ],
      "metadata": {
        "id": "srZJZ0euK_Cy"
      },
      "execution_count": null,
      "outputs": []
    },
    {
      "cell_type": "code",
      "source": [
        "from collections import defaultdict\n",
        "cols = defaultdict(set)\n",
        "rows = defaultdict(set)\n",
        "squares = defaultdict(set)\n",
        "\n",
        "for r in range(9):\n",
        "    for c in range(9):\n",
        "        if board[r][c] == \".\":\n",
        "            continue\n",
        "        if (board[r][c] in rows[r] or board[r][c] in cols[c] or board[r][c] in squares[(r // 3, c // 3)]):\n",
        "            print(False)\n",
        "        cols[c].add(board[r][c])\n",
        "        rows[r].add(board[r][c])\n",
        "        squares[(r//3, c//3)].add(board[r][c])\n",
        "        print(cols,rows,squares)"
      ],
      "metadata": {
        "colab": {
          "base_uri": "https://localhost:8080/"
        },
        "id": "HeLdTn1mLFQu",
        "outputId": "245a34cf-ad0b-4368-e5d9-4424d6db13d0"
      },
      "execution_count": null,
      "outputs": [
        {
          "output_type": "stream",
          "name": "stdout",
          "text": [
            "defaultdict(<class 'set'>, {0: {'8'}}) defaultdict(<class 'set'>, {0: {'8'}}) defaultdict(<class 'set'>, {(0, 0): {'8'}})\n",
            "defaultdict(<class 'set'>, {0: {'8'}, 1: {'3'}}) defaultdict(<class 'set'>, {0: {'3', '8'}}) defaultdict(<class 'set'>, {(0, 0): {'3', '8'}})\n",
            "defaultdict(<class 'set'>, {0: {'8'}, 1: {'3'}, 4: {'7'}}) defaultdict(<class 'set'>, {0: {'7', '3', '8'}}) defaultdict(<class 'set'>, {(0, 0): {'3', '8'}, (0, 1): {'7'}})\n",
            "defaultdict(<class 'set'>, {0: {'6', '8'}, 1: {'3'}, 4: {'7'}}) defaultdict(<class 'set'>, {0: {'7', '3', '8'}, 1: {'6'}}) defaultdict(<class 'set'>, {(0, 0): {'6', '3', '8'}, (0, 1): {'7'}})\n",
            "defaultdict(<class 'set'>, {0: {'6', '8'}, 1: {'3'}, 4: {'7'}, 3: {'1'}}) defaultdict(<class 'set'>, {0: {'7', '3', '8'}, 1: {'6', '1'}}) defaultdict(<class 'set'>, {(0, 0): {'6', '3', '8'}, (0, 1): {'1', '7'}})\n",
            "defaultdict(<class 'set'>, {0: {'6', '8'}, 1: {'3'}, 4: {'9', '7'}, 3: {'1'}}) defaultdict(<class 'set'>, {0: {'7', '3', '8'}, 1: {'6', '1', '9'}}) defaultdict(<class 'set'>, {(0, 0): {'6', '3', '8'}, (0, 1): {'1', '7', '9'}})\n",
            "defaultdict(<class 'set'>, {0: {'6', '8'}, 1: {'3'}, 4: {'9', '7'}, 3: {'1'}, 5: {'5'}}) defaultdict(<class 'set'>, {0: {'7', '3', '8'}, 1: {'5', '6', '1', '9'}}) defaultdict(<class 'set'>, {(0, 0): {'6', '3', '8'}, (0, 1): {'5', '1', '7', '9'}})\n",
            "defaultdict(<class 'set'>, {0: {'6', '8'}, 1: {'9', '3'}, 4: {'9', '7'}, 3: {'1'}, 5: {'5'}}) defaultdict(<class 'set'>, {0: {'7', '3', '8'}, 1: {'5', '6', '1', '9'}, 2: {'9'}}) defaultdict(<class 'set'>, {(0, 0): {'6', '9', '3', '8'}, (0, 1): {'5', '1', '7', '9'}})\n",
            "False\n",
            "defaultdict(<class 'set'>, {0: {'6', '8'}, 1: {'9', '3'}, 4: {'9', '7'}, 3: {'1'}, 5: {'5'}, 2: {'8'}}) defaultdict(<class 'set'>, {0: {'7', '3', '8'}, 1: {'5', '6', '1', '9'}, 2: {'9', '8'}}) defaultdict(<class 'set'>, {(0, 0): {'6', '9', '3', '8'}, (0, 1): {'5', '1', '7', '9'}})\n",
            "defaultdict(<class 'set'>, {0: {'6', '8'}, 1: {'9', '3'}, 4: {'9', '7'}, 3: {'1'}, 5: {'5'}, 2: {'8'}, 7: {'6'}}) defaultdict(<class 'set'>, {0: {'7', '3', '8'}, 1: {'5', '6', '1', '9'}, 2: {'6', '9', '8'}}) defaultdict(<class 'set'>, {(0, 0): {'6', '9', '3', '8'}, (0, 1): {'5', '1', '7', '9'}, (0, 2): {'6'}})\n",
            "False\n",
            "defaultdict(<class 'set'>, {0: {'6', '8'}, 1: {'9', '3'}, 4: {'9', '7'}, 3: {'1'}, 5: {'5'}, 2: {'8'}, 7: {'6'}}) defaultdict(<class 'set'>, {0: {'7', '3', '8'}, 1: {'5', '6', '1', '9'}, 2: {'6', '9', '8'}, 3: {'8'}}) defaultdict(<class 'set'>, {(0, 0): {'6', '9', '3', '8'}, (0, 1): {'5', '1', '7', '9'}, (0, 2): {'6'}, (1, 0): {'8'}})\n",
            "defaultdict(<class 'set'>, {0: {'6', '8'}, 1: {'9', '3'}, 4: {'6', '9', '7'}, 3: {'1'}, 5: {'5'}, 2: {'8'}, 7: {'6'}}) defaultdict(<class 'set'>, {0: {'7', '3', '8'}, 1: {'5', '6', '1', '9'}, 2: {'6', '9', '8'}, 3: {'6', '8'}}) defaultdict(<class 'set'>, {(0, 0): {'6', '9', '3', '8'}, (0, 1): {'5', '1', '7', '9'}, (0, 2): {'6'}, (1, 0): {'8'}, (1, 1): {'6'}})\n",
            "defaultdict(<class 'set'>, {0: {'6', '8'}, 1: {'9', '3'}, 4: {'6', '9', '7'}, 3: {'1'}, 5: {'5'}, 2: {'8'}, 7: {'6'}, 8: {'3'}}) defaultdict(<class 'set'>, {0: {'7', '3', '8'}, 1: {'5', '6', '1', '9'}, 2: {'6', '9', '8'}, 3: {'6', '3', '8'}}) defaultdict(<class 'set'>, {(0, 0): {'6', '9', '3', '8'}, (0, 1): {'5', '1', '7', '9'}, (0, 2): {'6'}, (1, 0): {'8'}, (1, 1): {'6'}, (1, 2): {'3'}})\n",
            "defaultdict(<class 'set'>, {0: {'4', '6', '8'}, 1: {'9', '3'}, 4: {'6', '9', '7'}, 3: {'1'}, 5: {'5'}, 2: {'8'}, 7: {'6'}, 8: {'3'}}) defaultdict(<class 'set'>, {0: {'7', '3', '8'}, 1: {'5', '6', '1', '9'}, 2: {'6', '9', '8'}, 3: {'6', '3', '8'}, 4: {'4'}}) defaultdict(<class 'set'>, {(0, 0): {'6', '9', '3', '8'}, (0, 1): {'5', '1', '7', '9'}, (0, 2): {'6'}, (1, 0): {'4', '8'}, (1, 1): {'6'}, (1, 2): {'3'}})\n",
            "defaultdict(<class 'set'>, {0: {'4', '6', '8'}, 1: {'9', '3'}, 4: {'6', '9', '7'}, 3: {'1', '8'}, 5: {'5'}, 2: {'8'}, 7: {'6'}, 8: {'3'}}) defaultdict(<class 'set'>, {0: {'7', '3', '8'}, 1: {'5', '6', '1', '9'}, 2: {'6', '9', '8'}, 3: {'6', '3', '8'}, 4: {'4', '8'}}) defaultdict(<class 'set'>, {(0, 0): {'6', '9', '3', '8'}, (0, 1): {'5', '1', '7', '9'}, (0, 2): {'6'}, (1, 0): {'4', '8'}, (1, 1): {'6', '8'}, (1, 2): {'3'}})\n",
            "defaultdict(<class 'set'>, {0: {'4', '6', '8'}, 1: {'9', '3'}, 4: {'6', '9', '7'}, 3: {'1', '8'}, 5: {'3', '5'}, 2: {'8'}, 7: {'6'}, 8: {'3'}}) defaultdict(<class 'set'>, {0: {'7', '3', '8'}, 1: {'5', '6', '1', '9'}, 2: {'6', '9', '8'}, 3: {'6', '3', '8'}, 4: {'4', '3', '8'}}) defaultdict(<class 'set'>, {(0, 0): {'6', '9', '3', '8'}, (0, 1): {'5', '1', '7', '9'}, (0, 2): {'6'}, (1, 0): {'4', '8'}, (1, 1): {'6', '3', '8'}, (1, 2): {'3'}})\n",
            "defaultdict(<class 'set'>, {0: {'4', '6', '8'}, 1: {'9', '3'}, 4: {'6', '9', '7'}, 3: {'1', '8'}, 5: {'3', '5'}, 2: {'8'}, 7: {'6'}, 8: {'1', '3'}}) defaultdict(<class 'set'>, {0: {'7', '3', '8'}, 1: {'5', '6', '1', '9'}, 2: {'6', '9', '8'}, 3: {'6', '3', '8'}, 4: {'4', '1', '3', '8'}}) defaultdict(<class 'set'>, {(0, 0): {'6', '9', '3', '8'}, (0, 1): {'5', '1', '7', '9'}, (0, 2): {'6'}, (1, 0): {'4', '8'}, (1, 1): {'6', '3', '8'}, (1, 2): {'1', '3'}})\n",
            "defaultdict(<class 'set'>, {0: {'4', '6', '7', '8'}, 1: {'9', '3'}, 4: {'6', '9', '7'}, 3: {'1', '8'}, 5: {'3', '5'}, 2: {'8'}, 7: {'6'}, 8: {'1', '3'}}) defaultdict(<class 'set'>, {0: {'7', '3', '8'}, 1: {'5', '6', '1', '9'}, 2: {'6', '9', '8'}, 3: {'6', '3', '8'}, 4: {'4', '1', '3', '8'}, 5: {'7'}}) defaultdict(<class 'set'>, {(0, 0): {'6', '9', '3', '8'}, (0, 1): {'5', '1', '7', '9'}, (0, 2): {'6'}, (1, 0): {'4', '7', '8'}, (1, 1): {'6', '3', '8'}, (1, 2): {'1', '3'}})\n",
            "defaultdict(<class 'set'>, {0: {'4', '6', '7', '8'}, 1: {'9', '3'}, 4: {'6', '9', '7', '2'}, 3: {'1', '8'}, 5: {'3', '5'}, 2: {'8'}, 7: {'6'}, 8: {'1', '3'}}) defaultdict(<class 'set'>, {0: {'7', '3', '8'}, 1: {'5', '6', '1', '9'}, 2: {'6', '9', '8'}, 3: {'6', '3', '8'}, 4: {'4', '1', '3', '8'}, 5: {'2', '7'}}) defaultdict(<class 'set'>, {(0, 0): {'6', '9', '3', '8'}, (0, 1): {'5', '1', '7', '9'}, (0, 2): {'6'}, (1, 0): {'4', '7', '8'}, (1, 1): {'2', '6', '3', '8'}, (1, 2): {'1', '3'}})\n",
            "defaultdict(<class 'set'>, {0: {'4', '6', '7', '8'}, 1: {'9', '3'}, 4: {'6', '9', '7', '2'}, 3: {'1', '8'}, 5: {'3', '5'}, 2: {'8'}, 7: {'6'}, 8: {'6', '1', '3'}}) defaultdict(<class 'set'>, {0: {'7', '3', '8'}, 1: {'5', '6', '1', '9'}, 2: {'6', '9', '8'}, 3: {'6', '3', '8'}, 4: {'4', '1', '3', '8'}, 5: {'6', '2', '7'}}) defaultdict(<class 'set'>, {(0, 0): {'6', '9', '3', '8'}, (0, 1): {'5', '1', '7', '9'}, (0, 2): {'6'}, (1, 0): {'4', '7', '8'}, (1, 1): {'2', '6', '3', '8'}, (1, 2): {'6', '1', '3'}})\n",
            "defaultdict(<class 'set'>, {0: {'4', '6', '7', '8'}, 1: {'6', '9', '3'}, 4: {'6', '9', '7', '2'}, 3: {'1', '8'}, 5: {'3', '5'}, 2: {'8'}, 7: {'6'}, 8: {'6', '1', '3'}}) defaultdict(<class 'set'>, {0: {'7', '3', '8'}, 1: {'5', '6', '1', '9'}, 2: {'6', '9', '8'}, 3: {'6', '3', '8'}, 4: {'4', '1', '3', '8'}, 5: {'6', '2', '7'}, 6: {'6'}}) defaultdict(<class 'set'>, {(0, 0): {'6', '9', '3', '8'}, (0, 1): {'5', '1', '7', '9'}, (0, 2): {'6'}, (1, 0): {'4', '7', '8'}, (1, 1): {'2', '6', '3', '8'}, (1, 2): {'6', '1', '3'}, (2, 0): {'6'}})\n",
            "defaultdict(<class 'set'>, {0: {'4', '6', '7', '8'}, 1: {'6', '9', '3'}, 4: {'6', '9', '7', '2'}, 3: {'1', '8'}, 5: {'3', '5'}, 2: {'8'}, 7: {'6'}, 8: {'6', '1', '3'}, 6: {'2'}}) defaultdict(<class 'set'>, {0: {'7', '3', '8'}, 1: {'5', '6', '1', '9'}, 2: {'6', '9', '8'}, 3: {'6', '3', '8'}, 4: {'4', '1', '3', '8'}, 5: {'6', '2', '7'}, 6: {'2', '6'}}) defaultdict(<class 'set'>, {(0, 0): {'6', '9', '3', '8'}, (0, 1): {'5', '1', '7', '9'}, (0, 2): {'6'}, (1, 0): {'4', '7', '8'}, (1, 1): {'2', '6', '3', '8'}, (1, 2): {'6', '1', '3'}, (2, 0): {'6'}, (2, 2): {'2'}})\n",
            "defaultdict(<class 'set'>, {0: {'4', '6', '7', '8'}, 1: {'6', '9', '3'}, 4: {'6', '9', '7', '2'}, 3: {'1', '8'}, 5: {'3', '5'}, 2: {'8'}, 7: {'6', '8'}, 8: {'6', '1', '3'}, 6: {'2'}}) defaultdict(<class 'set'>, {0: {'7', '3', '8'}, 1: {'5', '6', '1', '9'}, 2: {'6', '9', '8'}, 3: {'6', '3', '8'}, 4: {'4', '1', '3', '8'}, 5: {'6', '2', '7'}, 6: {'2', '6', '8'}}) defaultdict(<class 'set'>, {(0, 0): {'6', '9', '3', '8'}, (0, 1): {'5', '1', '7', '9'}, (0, 2): {'6'}, (1, 0): {'4', '7', '8'}, (1, 1): {'2', '6', '3', '8'}, (1, 2): {'6', '1', '3'}, (2, 0): {'6'}, (2, 2): {'2', '8'}})\n",
            "defaultdict(<class 'set'>, {0: {'4', '6', '7', '8'}, 1: {'6', '9', '3'}, 4: {'6', '9', '7', '2'}, 3: {'4', '1', '8'}, 5: {'3', '5'}, 2: {'8'}, 7: {'6', '8'}, 8: {'6', '1', '3'}, 6: {'2'}}) defaultdict(<class 'set'>, {0: {'7', '3', '8'}, 1: {'5', '6', '1', '9'}, 2: {'6', '9', '8'}, 3: {'6', '3', '8'}, 4: {'4', '1', '3', '8'}, 5: {'6', '2', '7'}, 6: {'2', '6', '8'}, 7: {'4'}}) defaultdict(<class 'set'>, {(0, 0): {'6', '9', '3', '8'}, (0, 1): {'5', '1', '7', '9'}, (0, 2): {'6'}, (1, 0): {'4', '7', '8'}, (1, 1): {'2', '6', '3', '8'}, (1, 2): {'6', '1', '3'}, (2, 0): {'6'}, (2, 2): {'2', '8'}, (2, 1): {'4'}})\n",
            "defaultdict(<class 'set'>, {0: {'4', '6', '7', '8'}, 1: {'6', '9', '3'}, 4: {'6', '1', '7', '9', '2'}, 3: {'4', '1', '8'}, 5: {'3', '5'}, 2: {'8'}, 7: {'6', '8'}, 8: {'6', '1', '3'}, 6: {'2'}}) defaultdict(<class 'set'>, {0: {'7', '3', '8'}, 1: {'5', '6', '1', '9'}, 2: {'6', '9', '8'}, 3: {'6', '3', '8'}, 4: {'4', '1', '3', '8'}, 5: {'6', '2', '7'}, 6: {'2', '6', '8'}, 7: {'4', '1'}}) defaultdict(<class 'set'>, {(0, 0): {'6', '9', '3', '8'}, (0, 1): {'5', '1', '7', '9'}, (0, 2): {'6'}, (1, 0): {'4', '7', '8'}, (1, 1): {'2', '6', '3', '8'}, (1, 2): {'6', '1', '3'}, (2, 0): {'6'}, (2, 2): {'2', '8'}, (2, 1): {'4', '1'}})\n",
            "defaultdict(<class 'set'>, {0: {'4', '6', '7', '8'}, 1: {'6', '9', '3'}, 4: {'6', '1', '7', '9', '2'}, 3: {'4', '1', '8'}, 5: {'9', '3', '5'}, 2: {'8'}, 7: {'6', '8'}, 8: {'6', '1', '3'}, 6: {'2'}}) defaultdict(<class 'set'>, {0: {'7', '3', '8'}, 1: {'5', '6', '1', '9'}, 2: {'6', '9', '8'}, 3: {'6', '3', '8'}, 4: {'4', '1', '3', '8'}, 5: {'6', '2', '7'}, 6: {'2', '6', '8'}, 7: {'4', '9', '1'}}) defaultdict(<class 'set'>, {(0, 0): {'6', '9', '3', '8'}, (0, 1): {'5', '1', '7', '9'}, (0, 2): {'6'}, (1, 0): {'4', '7', '8'}, (1, 1): {'2', '6', '3', '8'}, (1, 2): {'6', '1', '3'}, (2, 0): {'6'}, (2, 2): {'2', '8'}, (2, 1): {'4', '9', '1'}})\n",
            "defaultdict(<class 'set'>, {0: {'4', '6', '7', '8'}, 1: {'6', '9', '3'}, 4: {'6', '1', '7', '9', '2'}, 3: {'4', '1', '8'}, 5: {'9', '3', '5'}, 2: {'8'}, 7: {'6', '8'}, 8: {'6', '1', '3', '5'}, 6: {'2'}}) defaultdict(<class 'set'>, {0: {'7', '3', '8'}, 1: {'5', '6', '1', '9'}, 2: {'6', '9', '8'}, 3: {'6', '3', '8'}, 4: {'4', '1', '3', '8'}, 5: {'6', '2', '7'}, 6: {'2', '6', '8'}, 7: {'4', '9', '1', '5'}}) defaultdict(<class 'set'>, {(0, 0): {'6', '9', '3', '8'}, (0, 1): {'5', '1', '7', '9'}, (0, 2): {'6'}, (1, 0): {'4', '7', '8'}, (1, 1): {'2', '6', '3', '8'}, (1, 2): {'6', '1', '3'}, (2, 0): {'6'}, (2, 2): {'2', '8', '5'}, (2, 1): {'4', '9', '1'}})\n",
            "defaultdict(<class 'set'>, {0: {'4', '6', '7', '8'}, 1: {'6', '9', '3'}, 4: {'6', '1', '8', '7', '9', '2'}, 3: {'4', '1', '8'}, 5: {'9', '3', '5'}, 2: {'8'}, 7: {'6', '8'}, 8: {'6', '1', '3', '5'}, 6: {'2'}}) defaultdict(<class 'set'>, {0: {'7', '3', '8'}, 1: {'5', '6', '1', '9'}, 2: {'6', '9', '8'}, 3: {'6', '3', '8'}, 4: {'4', '1', '3', '8'}, 5: {'6', '2', '7'}, 6: {'2', '6', '8'}, 7: {'4', '9', '1', '5'}, 8: {'8'}}) defaultdict(<class 'set'>, {(0, 0): {'6', '9', '3', '8'}, (0, 1): {'5', '1', '7', '9'}, (0, 2): {'6'}, (1, 0): {'4', '7', '8'}, (1, 1): {'2', '6', '3', '8'}, (1, 2): {'6', '1', '3'}, (2, 0): {'6'}, (2, 2): {'2', '8', '5'}, (2, 1): {'4', '9', '1', '8'}})\n",
            "defaultdict(<class 'set'>, {0: {'4', '6', '7', '8'}, 1: {'6', '9', '3'}, 4: {'6', '1', '8', '7', '9', '2'}, 3: {'4', '1', '8'}, 5: {'9', '3', '5'}, 2: {'8'}, 7: {'6', '7', '8'}, 8: {'6', '1', '3', '5'}, 6: {'2'}}) defaultdict(<class 'set'>, {0: {'7', '3', '8'}, 1: {'5', '6', '1', '9'}, 2: {'6', '9', '8'}, 3: {'6', '3', '8'}, 4: {'4', '1', '3', '8'}, 5: {'6', '2', '7'}, 6: {'2', '6', '8'}, 7: {'4', '9', '1', '5'}, 8: {'7', '8'}}) defaultdict(<class 'set'>, {(0, 0): {'6', '9', '3', '8'}, (0, 1): {'5', '1', '7', '9'}, (0, 2): {'6'}, (1, 0): {'4', '7', '8'}, (1, 1): {'2', '6', '3', '8'}, (1, 2): {'6', '1', '3'}, (2, 0): {'6'}, (2, 2): {'2', '7', '8', '5'}, (2, 1): {'4', '9', '1', '8'}})\n",
            "defaultdict(<class 'set'>, {0: {'4', '6', '7', '8'}, 1: {'6', '9', '3'}, 4: {'6', '1', '8', '7', '9', '2'}, 3: {'4', '1', '8'}, 5: {'9', '3', '5'}, 2: {'8'}, 7: {'6', '7', '8'}, 8: {'6', '1', '3', '9', '5'}, 6: {'2'}}) defaultdict(<class 'set'>, {0: {'7', '3', '8'}, 1: {'5', '6', '1', '9'}, 2: {'6', '9', '8'}, 3: {'6', '3', '8'}, 4: {'4', '1', '3', '8'}, 5: {'6', '2', '7'}, 6: {'2', '6', '8'}, 7: {'4', '9', '1', '5'}, 8: {'9', '7', '8'}}) defaultdict(<class 'set'>, {(0, 0): {'6', '9', '3', '8'}, (0, 1): {'5', '1', '7', '9'}, (0, 2): {'6'}, (1, 0): {'4', '7', '8'}, (1, 1): {'2', '6', '3', '8'}, (1, 2): {'6', '1', '3'}, (2, 0): {'6'}, (2, 2): {'8', '7', '9', '2', '5'}, (2, 1): {'4', '9', '1', '8'}})\n"
          ]
        }
      ]
    },
    {
      "cell_type": "code",
      "source": [
        "from collections import defaultdict\n",
        "\n",
        "class Solution:\n",
        "    def isValidSudoku(self, board: List[List[str]]) -> bool:\n",
        "        cols = defaultdict(set)\n",
        "        rows = defaultdict(set)\n",
        "        squares = defaultdict(set)\n",
        "\n",
        "        for r in range(9):\n",
        "            for c in range(9):\n",
        "                if board[r][c] == \".\":\n",
        "                    continue\n",
        "                if (board[r][c] in rows[r] or board[r][c] in cols[c] or board[r][c] in squares[(r // 3, c // 3)]):\n",
        "                    return False\n",
        "                cols[c].add(board[r][c])\n",
        "                rows[r].add(board[r][c])\n",
        "                squares[(r//3, c//3)].add(board[r][c])\n",
        "        return True"
      ],
      "metadata": {
        "id": "os9VnUiMPT98"
      },
      "execution_count": null,
      "outputs": []
    },
    {
      "cell_type": "markdown",
      "source": [
        "## 128. Longest Consecutive Sequence\n"
      ],
      "metadata": {
        "id": "1wd66FdXjtQb"
      }
    },
    {
      "cell_type": "code",
      "source": [
        "# nums = [0,3,7,2,5,8,4,6,0,1]\n",
        "nums = [9,1,4,7,3,-1,0,5,8,-1,6]\n",
        "\n",
        "cnt = 1 \n",
        "maxcnt = 0 \n",
        "nums.sort()\n",
        "for i in range(0,len(nums)):\n",
        "    if nums[i] == nums[i-1]: \n",
        "        pass \n",
        "    elif nums[i] == nums[i-1]+1:\n",
        "        cnt += 1\n",
        "    else:\n",
        "        cnt=1 \n",
        "    maxcnt = max(cnt, maxcnt)\n",
        "maxcnt"
      ],
      "metadata": {
        "colab": {
          "base_uri": "https://localhost:8080/"
        },
        "id": "j4DS2PNdjurt",
        "outputId": "f87e87d5-aeb0-47b0-f78f-7b644c37f25b"
      },
      "execution_count": null,
      "outputs": [
        {
          "output_type": "execute_result",
          "data": {
            "text/plain": [
              "7"
            ]
          },
          "metadata": {},
          "execution_count": 40
        }
      ]
    },
    {
      "cell_type": "code",
      "source": [
        "class Solution:\n",
        "    def longestConsecutive(self, nums: List[int]) -> int:\n",
        "        cnt = 1 \n",
        "        maxcnt = 0 \n",
        "        nums.sort()\n",
        "        for i in range(0,len(nums)):\n",
        "            if nums[i] == nums[i-1]: \n",
        "                pass \n",
        "            elif nums[i] == nums[i-1]+1:\n",
        "                cnt += 1\n",
        "            else:\n",
        "                cnt=1 \n",
        "            maxcnt = max(cnt, maxcnt)\n",
        "        return maxcnt"
      ],
      "metadata": {
        "id": "vFirDC0_nmec"
      },
      "execution_count": null,
      "outputs": []
    },
    {
      "cell_type": "markdown",
      "source": [
        "# Two Pointers"
      ],
      "metadata": {
        "id": "5poKJyrCnmLY"
      }
    },
    {
      "cell_type": "markdown",
      "source": [
        "## 125. Valid Palindrome\n"
      ],
      "metadata": {
        "id": "AD1FqNMR_Dye"
      }
    },
    {
      "cell_type": "code",
      "source": [
        "s = \"A man, a plan, a canal: Panama\"\n",
        "res = \"\"\n",
        "\n",
        "for i in s:\n",
        "    if i.isalnum():\n",
        "        res += i.lower()\n",
        "res == res[::-1]"
      ],
      "metadata": {
        "colab": {
          "base_uri": "https://localhost:8080/"
        },
        "id": "GIbOk1rMpSpT",
        "outputId": "3a745f00-77b4-427a-874b-1b250b8e9742"
      },
      "execution_count": null,
      "outputs": [
        {
          "output_type": "execute_result",
          "data": {
            "text/plain": [
              "True"
            ]
          },
          "metadata": {},
          "execution_count": 17
        }
      ]
    },
    {
      "cell_type": "code",
      "source": [
        "class Solution:\n",
        "    def isPalindrome(self, s: str) -> bool:\n",
        "        res = \"\"\n",
        "\n",
        "        for i in s:\n",
        "            if i.isalnum():\n",
        "                res += i.lower()\n",
        "        return res == res[::-1]"
      ],
      "metadata": {
        "colab": {
          "base_uri": "https://localhost:8080/",
          "height": 36
        },
        "id": "kiOSR5n7qIBz",
        "outputId": "0872fa60-f2ec-47d4-8572-81fae6eb67c4"
      },
      "execution_count": null,
      "outputs": [
        {
          "output_type": "execute_result",
          "data": {
            "text/plain": [
              "'A'"
            ],
            "application/vnd.google.colaboratory.intrinsic+json": {
              "type": "string"
            }
          },
          "metadata": {},
          "execution_count": 9
        }
      ]
    },
    {
      "cell_type": "code",
      "source": [
        "class Solution:\n",
        "    def isPalindrome(self, s: str) -> bool:\n",
        "        new = ''.join(ch for ch in s if ch.isalnum())\n",
        "        return new.lower() == new[::-1].lower()"
      ],
      "metadata": {
        "id": "LfBR973Qr3oX"
      },
      "execution_count": null,
      "outputs": []
    },
    {
      "cell_type": "markdown",
      "source": [
        "## 167. Two Sum II - Input Array Is Sorted\n"
      ],
      "metadata": {
        "id": "D-tCOe4y_DFf"
      }
    },
    {
      "cell_type": "code",
      "source": [
        "numbers = [2,3,4]\n",
        "target = 6\n",
        "\n",
        "res = [] \n",
        "for i in range(len(numbers)):\n",
        "    for j in range(i+1, len(numbers)):\n",
        "        if numbers[i] + numbers[j] == target:\n",
        "            print([i+1,j+1])"
      ],
      "metadata": {
        "colab": {
          "base_uri": "https://localhost:8080/"
        },
        "id": "aV3387Ot_HX-",
        "outputId": "036a9483-c278-4f6f-f3c6-732307f63177"
      },
      "execution_count": null,
      "outputs": [
        {
          "output_type": "stream",
          "name": "stdout",
          "text": [
            "[1, 3]\n"
          ]
        }
      ]
    },
    {
      "cell_type": "code",
      "source": [
        "class Solution:\n",
        "    def twoSum(self, numbers: List[int], target: int) -> List[int]:\n",
        "        left, right = 0, len(numbers) -1 \n",
        "\n",
        "        while left < right:\n",
        "            res = numbers[left] + numbers[right]\n",
        "            if res == target:\n",
        "                return [left+1, right +1]\n",
        "            elif res < target:\n",
        "                left += 1\n",
        "            else:\n",
        "                right -= 1"
      ],
      "metadata": {
        "id": "hFOMUy5vAfLP"
      },
      "execution_count": null,
      "outputs": []
    },
    {
      "cell_type": "code",
      "source": [
        "class Solution:\n",
        "    def twoSum(self, arr: List[int], target: int) -> List[int]:\n",
        "        dic = {}\n",
        "        for i in range(len(arr)):\n",
        "            if target - arr[i] in dic:\n",
        "                return [dic[target - arr[i]] + 1, i + 1]\n",
        "            dic[arr[i]] = i"
      ],
      "metadata": {
        "id": "nsark91jATAn"
      },
      "execution_count": null,
      "outputs": []
    },
    {
      "cell_type": "markdown",
      "source": [
        "## 15. 3Sum"
      ],
      "metadata": {
        "id": "dCMXvBJMHv4t"
      }
    },
    {
      "cell_type": "code",
      "source": [
        "nums = [-1,0,1,2,-1,-4]\n",
        "res = [] \n",
        "nums.sort()\n",
        "\n",
        "for i,a in enumerate(nums):\n",
        "    if i > 0 and a == nums[i-1]:\n",
        "        continue \n",
        "    l, r = i + 1 , len(nums) - 1\n",
        "    while l < r:\n",
        "        threesum = a + nums[l] + nums[r]\n",
        "        if threesum > 0:\n",
        "            r -= 1 \n",
        "        elif threesum < 0:\n",
        "            l += 1\n",
        "        else:\n",
        "            res.append([a, nums[i], nums[r]])\n",
        "            l += 1 \n",
        "            while nums[l] == nums[l -1 ] and l < r:\n",
        "                l += 1\n",
        "res"
      ],
      "metadata": {
        "colab": {
          "base_uri": "https://localhost:8080/"
        },
        "id": "3X69ILV2Hwkp",
        "outputId": "748da7c2-ddff-4e92-dc9e-a9638252ccf6"
      },
      "execution_count": null,
      "outputs": [
        {
          "output_type": "execute_result",
          "data": {
            "text/plain": [
              "[[-1, -1, 2], [-1, -1, 1]]"
            ]
          },
          "metadata": {},
          "execution_count": 4
        }
      ]
    },
    {
      "cell_type": "markdown",
      "source": [
        "## 11. Container With Most Water"
      ],
      "metadata": {
        "id": "u8KUDiFeADjt"
      }
    },
    {
      "cell_type": "code",
      "source": [
        "height = [1,8,6,2,5,4,8,3,7]\n",
        "\n",
        "maxarea = 0\n",
        "left = 0\n",
        "right = len(height) - 1 \n",
        "while left < right :\n",
        "    minh = min(height[left], height[right])\n",
        "    maxarea = max(maxarea, minh * (right -left))\n",
        "\n",
        "    if height[left] < height[right]:\n",
        "        left += 1\n",
        "    else:\n",
        "        right -= 1\n",
        "maxarea"
      ],
      "metadata": {
        "colab": {
          "base_uri": "https://localhost:8080/"
        },
        "id": "mw8bp7RkAVIG",
        "outputId": "1688f42e-b96f-46b4-f9ca-84a125896459"
      },
      "execution_count": null,
      "outputs": [
        {
          "output_type": "execute_result",
          "data": {
            "text/plain": [
              "49"
            ]
          },
          "metadata": {},
          "execution_count": 1
        }
      ]
    },
    {
      "cell_type": "code",
      "source": [
        "class Solution:\n",
        "    def maxArea(self, height: List[int]) -> int:\n",
        "        maxarea = 0\n",
        "        left = 0\n",
        "        right = len(height) - 1 \n",
        "        while left < right :\n",
        "            minh = min(height[left], height[right])\n",
        "            maxarea = max(maxarea, minh * (right -left))\n",
        "\n",
        "            if height[left] < height[right]:\n",
        "                left += 1\n",
        "            else:\n",
        "                right -= 1\n",
        "        return maxarea"
      ],
      "metadata": {
        "id": "fxjjrTm7A_E3"
      },
      "execution_count": null,
      "outputs": []
    },
    {
      "cell_type": "markdown",
      "source": [
        "# Stack"
      ],
      "metadata": {
        "id": "mglU0Ccwn1hH"
      }
    },
    {
      "cell_type": "markdown",
      "source": [
        "## Valid Parentheses"
      ],
      "metadata": {
        "id": "N6lEfXQ1n3zG"
      }
    },
    {
      "cell_type": "code",
      "source": [
        "# table  = {\n",
        "#     ')' : '(',\n",
        "#     ']' : '[',\n",
        "#     '}' : '{'\n",
        "# }\n",
        "\n",
        "dic = {}\n",
        "dic['{'] = '}'\n",
        "dic['('] = ')'\n",
        "dic['['] = ']'\n",
        "res = [] \n",
        "s = \"()\"\n",
        "for i in s:\n",
        "    if i in dic :\n",
        "        res.append(i)\n",
        "    elif not res or dic[res.pop()] != i:\n",
        "        print(False)\n",
        "len(res) == 0"
      ],
      "metadata": {
        "colab": {
          "base_uri": "https://localhost:8080/"
        },
        "id": "kZ80JDicn1zZ",
        "outputId": "a9fd7e3f-a9f1-46d3-ac78-af06afc983ef"
      },
      "execution_count": null,
      "outputs": [
        {
          "output_type": "execute_result",
          "data": {
            "text/plain": [
              "True"
            ]
          },
          "metadata": {},
          "execution_count": 13
        }
      ]
    },
    {
      "cell_type": "code",
      "source": [
        "class Solution:\n",
        "    def isValid(self, s: str) -> bool:\n",
        "        dic = {}\n",
        "        dic['{'] = '}'\n",
        "        dic['('] = ')'\n",
        "        dic['['] = ']'\n",
        "        res = [] \n",
        "        for i in s:\n",
        "            if i in dic :\n",
        "                res.append(i)\n",
        "            elif not res or dic[res.pop()] != i:\n",
        "                return False\n",
        "        return len(res) == 0"
      ],
      "metadata": {
        "id": "5NyV_KIur-Je"
      },
      "execution_count": null,
      "outputs": []
    },
    {
      "cell_type": "code",
      "source": [
        "class Solution(object):\n",
        "    def isValid(self, s):\n",
        "        \"\"\"\n",
        "        :type s: str\n",
        "        :rtype: bool\n",
        "        \"\"\"\n",
        "        stack = []\n",
        "        table  = {\n",
        "            ')' : '(',\n",
        "            ']' : '[',\n",
        "            '}' : '{'\n",
        "        }\n",
        "        for char in s:\n",
        "            if char not in table:\n",
        "                stack.append(char)\n",
        "            elif not stack or table[char] != stack.pop():\n",
        "                return False\n",
        "        return len(stack) == 0\n"
      ],
      "metadata": {
        "id": "k7KPRhH1to_K"
      },
      "execution_count": null,
      "outputs": []
    },
    {
      "cell_type": "markdown",
      "source": [
        "## 155. Min Stack"
      ],
      "metadata": {
        "id": "Y5kWBFV2Wech"
      }
    },
    {
      "cell_type": "code",
      "source": [
        "class MinStack:\n",
        "\n",
        "    def __init__(self):\n",
        "        self.stack = [] \n",
        "        self.minstack = []\n",
        "        \n",
        "\n",
        "    def push(self, val: int) -> None:\n",
        "        self.stack.append(val)\n",
        "        if self.minstack:\n",
        "            val = min(self.minstack[-1],val)\n",
        "        self.minstack.append(val)\n",
        "        \n",
        "    def pop(self) -> None:\n",
        "        self.stack.pop()\n",
        "        self.minstack.pop()\n",
        "        \n",
        "\n",
        "    def top(self) -> int:\n",
        "        return self.stack[-1]\n",
        "        \n",
        "\n",
        "    def getMin(self) -> int:\n",
        "        return self.minstack[-1]\n"
      ],
      "metadata": {
        "id": "IR_MUEU8Wgat"
      },
      "execution_count": null,
      "outputs": []
    },
    {
      "cell_type": "markdown",
      "source": [
        "## 150. Evaluate Reverse Polish Notation\n"
      ],
      "metadata": {
        "id": "7USgXhw7BjGG"
      }
    },
    {
      "cell_type": "code",
      "source": [
        "class Solution:\n",
        "    def evalRPN(self, tokens: List[str]) -> int:\n",
        "        ops = {\"+\" : add, \"-\" : sub, \"*\" : mul, \"/\" : truediv}\n",
        "        for t in tokens[:] : tokens.append(int(ops[t](tokens.pop(-2),tokens.pop(-1)) if t in ops else t))\n",
        "        return tokens[-1]\n"
      ],
      "metadata": {
        "id": "LNOnou1KBjnF"
      },
      "execution_count": null,
      "outputs": []
    },
    {
      "cell_type": "code",
      "source": [
        "class Solution:\n",
        "    def evalRPN(self, tokens: List[str]) -> int:\n",
        "        \n",
        "        ops = {\"+\" : add, \"-\" : sub, \"*\" : mul, \"/\" : truediv}\n",
        "        s = []\n",
        "\n",
        "        while tokens:\n",
        "            s.append(t if (t:=tokens.pop()) in ops else int(t))\n",
        "            while len(s) > 2 and isinstance(s[-1], int) and isinstance(s[-2], int):\n",
        "                a, b, t = s.pop(), s.pop(), s.pop()\n",
        "                s.append(int(ops[t](int(a), int(b))))\n",
        "        \n",
        "        return s[-1]\n"
      ],
      "metadata": {
        "id": "g5XXgI5oBkt9"
      },
      "execution_count": null,
      "outputs": []
    },
    {
      "cell_type": "code",
      "source": [
        "class Solution:\n",
        "    def evalRPN(self, tokens: List[str]) -> int:\n",
        "\n",
        "        ops = {\"+\" : add, \"-\" : sub, \"*\" : mul, \"/\" : truediv}\n",
        "        stack = []\n",
        "\n",
        "        for t in tokens:\n",
        "            if t in ops:\n",
        "                b, a = stack.pop(), stack.pop()\n",
        "                t = ops[t](a,b)\n",
        "            stack.append(int(t))\n",
        "            print(stack)\n",
        "\n",
        "        return stack[-1]"
      ],
      "metadata": {
        "id": "CRxlihDECHIL"
      },
      "execution_count": null,
      "outputs": []
    },
    {
      "cell_type": "markdown",
      "source": [
        "## 22. Generate Parentheses\n"
      ],
      "metadata": {
        "id": "Ux2mAS6e1cAD"
      }
    },
    {
      "cell_type": "code",
      "source": [
        "n = 3\n",
        "def dfs(left, right, s):\n",
        "    print(s, len(s), left, right )\n",
        "    if len(s) == n * 2: # 6\n",
        "        res.append(s)\n",
        "        return \n",
        "\n",
        "    if left < n:\n",
        "        dfs(left + 1, right, s + '(')\n",
        "\n",
        "    if right < left:\n",
        "        dfs(left, right + 1, s + ')')\n",
        "res = [] \n",
        "dfs(0,0,'')"
      ],
      "metadata": {
        "colab": {
          "base_uri": "https://localhost:8080/"
        },
        "id": "M39LkJe92KIG",
        "outputId": "0476378b-5979-4d04-f8f6-c15b5b7e96ad"
      },
      "execution_count": null,
      "outputs": [
        {
          "output_type": "stream",
          "name": "stdout",
          "text": [
            " 0 0 0\n",
            "( 1 1 0\n",
            "(( 2 2 0\n",
            "((( 3 3 0\n",
            "((() 4 3 1\n",
            "((()) 5 3 2\n",
            "((())) 6 3 3\n",
            "(() 3 2 1\n",
            "(()( 4 3 1\n",
            "(()() 5 3 2\n",
            "(()()) 6 3 3\n",
            "(()) 4 2 2\n",
            "(())( 5 3 2\n",
            "(())() 6 3 3\n",
            "() 2 1 1\n",
            "()( 3 2 1\n",
            "()(( 4 3 1\n",
            "()(() 5 3 2\n",
            "()(()) 6 3 3\n",
            "()() 4 2 2\n",
            "()()( 5 3 2\n",
            "()()() 6 3 3\n"
          ]
        }
      ]
    },
    {
      "cell_type": "code",
      "source": [
        "class Solution:\n",
        "    def generateParenthesis(self, n: int) -> List[str]:\n",
        "        def dfs(left, right, s):\n",
        "            if len(s) == n * 2:\n",
        "                res.append(s)\n",
        "                return \n",
        "\n",
        "            if left < n:\n",
        "                dfs(left + 1, right, s + '(')\n",
        "\n",
        "            if right < left:\n",
        "                dfs(left, right + 1, s + ')')\n",
        "\n",
        "        res = []\n",
        "        dfs(0, 0, '')\n",
        "        return res"
      ],
      "metadata": {
        "colab": {
          "base_uri": "https://localhost:8080/"
        },
        "id": "f7KXMNmi3IB7",
        "outputId": "2123b2c8-0a92-482b-e0ad-80a643515f36"
      },
      "execution_count": null,
      "outputs": [
        {
          "output_type": "execute_result",
          "data": {
            "text/plain": [
              "['((()))', '(()())', '(())()', '()(())', '()()()']"
            ]
          },
          "metadata": {},
          "execution_count": 2
        }
      ]
    },
    {
      "cell_type": "markdown",
      "source": [
        "## Daily Temperatures"
      ],
      "metadata": {
        "id": "Lmcc7CwOFnpa"
      }
    },
    {
      "cell_type": "code",
      "source": [
        "temperatures = [73,74,75,71,69,72,76,73]\n",
        "res = [0] * len(temperatures)\n",
        "stack = [] \n",
        "for i,t in enumerate(temperatures):\n",
        "    while stack and t > stack[-1][0]:\n",
        "        stackt, stackid = stack.pop()\n",
        "        res[stackid] = (i - stackid)\n",
        "    stack.append([t,i])\n",
        "    print(stack,stackt,stackid, res[stackid])\n",
        "res"
      ],
      "metadata": {
        "colab": {
          "base_uri": "https://localhost:8080/"
        },
        "id": "oFkqiQFXFrnk",
        "outputId": "c8322043-f7e2-4569-dab9-5e02036eb21a"
      },
      "execution_count": null,
      "outputs": [
        {
          "output_type": "stream",
          "name": "stdout",
          "text": [
            "[[73, 0]] 75 2 0\n",
            "[[74, 1]] 73 0 1\n",
            "[[75, 2]] 74 1 1\n",
            "[[75, 2], [71, 3]] 74 1 1\n",
            "[[75, 2], [71, 3], [69, 4]] 74 1 1\n",
            "[[75, 2], [72, 5]] 71 3 2\n",
            "[[76, 6]] 75 2 4\n",
            "[[76, 6], [73, 7]] 75 2 4\n"
          ]
        },
        {
          "output_type": "execute_result",
          "data": {
            "text/plain": [
              "[1, 1, 4, 2, 1, 1, 0, 0]"
            ]
          },
          "metadata": {},
          "execution_count": 6
        }
      ]
    },
    {
      "cell_type": "code",
      "source": [
        "class Solution:\n",
        "    def dailyTemperatures(self, temperatures: List[int]) -> List[int]:\n",
        "        res = [0] * len(temperatures)\n",
        "        stack = [] \n",
        "        for i,t in enumerate(temperatures):\n",
        "            while stack and t > stack[-1][0]:\n",
        "                stackt, stackid = stack.pop()\n",
        "                res[stackid] = (i - stackid)\n",
        "            stack.append([t,i])\n",
        "        return res "
      ],
      "metadata": {
        "id": "Pw4ArteQHo4L"
      },
      "execution_count": null,
      "outputs": []
    },
    {
      "cell_type": "markdown",
      "source": [
        "# Binary Search"
      ],
      "metadata": {
        "id": "8JDiJm5gXhZa"
      }
    },
    {
      "cell_type": "markdown",
      "source": [
        "## 704. Binary Search"
      ],
      "metadata": {
        "id": "x0CbkkusXpy-"
      }
    },
    {
      "cell_type": "code",
      "source": [
        "nums = [-1,0,3,5,9,12]\n",
        "target = 9\n",
        "for i in range(len(nums)):\n",
        "    if nums[i] == target:\n",
        "        print(i)"
      ],
      "metadata": {
        "colab": {
          "base_uri": "https://localhost:8080/"
        },
        "id": "wppTlxv9Xhps",
        "outputId": "b5696c59-b8f8-4c51-9e99-29a60b65d953"
      },
      "execution_count": null,
      "outputs": [
        {
          "output_type": "stream",
          "name": "stdout",
          "text": [
            "4\n"
          ]
        }
      ]
    },
    {
      "cell_type": "code",
      "source": [
        "class Solution:\n",
        "    def search(self, nums: List[int], target: int) -> int:\n",
        "        for i in range(len(nums)):\n",
        "            if nums[i] == target:\n",
        "                return i\n",
        "        return -1 "
      ],
      "metadata": {
        "id": "MaF8k3HHYeou"
      },
      "execution_count": null,
      "outputs": []
    },
    {
      "cell_type": "code",
      "source": [
        "class Solution:\n",
        "    def search(self, nums: List[int], target: int) -> int:\n",
        "        l, r = 0, len(nums)-1\n",
        "\n",
        "        while l <= r:\n",
        "            m = (l+r) // 2             \n",
        "            if nums[m] > target:\n",
        "                r = m -1 \n",
        "            elif nums[m] < target:\n",
        "                l = m + 1\n",
        "            else:\n",
        "                return m \n",
        "        return -1 "
      ],
      "metadata": {
        "id": "fIaelj3MYfcZ"
      },
      "execution_count": null,
      "outputs": []
    },
    {
      "cell_type": "markdown",
      "source": [
        "## 74. Search a 2D Matrix"
      ],
      "metadata": {
        "id": "ECqK8haGh57x"
      }
    },
    {
      "cell_type": "code",
      "source": [
        "matrix = [[1,3,5,7],[10,11,16,20],[23,30,34,60]]\n",
        "target = 3\n",
        "for i in matrix:\n",
        "    for j in range(len(i)):\n",
        "        if i[j] == target:\n",
        "            print(i)"
      ],
      "metadata": {
        "colab": {
          "base_uri": "https://localhost:8080/"
        },
        "id": "6t519gKziHp5",
        "outputId": "ed023950-3f77-452b-abdb-a6fe44d0a04f"
      },
      "execution_count": null,
      "outputs": [
        {
          "output_type": "stream",
          "name": "stdout",
          "text": [
            "[1, 3, 5, 7]\n"
          ]
        }
      ]
    },
    {
      "cell_type": "code",
      "source": [
        "class Solution:\n",
        "    def searchMatrix(self, matrix: List[List[int]], target: int) -> bool:\n",
        "        for i in matrix:\n",
        "            for j in range(len(i)):\n",
        "                if i[j] == target:\n",
        "                    return True\n",
        "        return False \n"
      ],
      "metadata": {
        "id": "ODug_pMGilaS"
      },
      "execution_count": null,
      "outputs": []
    },
    {
      "cell_type": "code",
      "source": [
        "class Solution:\n",
        "    def searchMatrix(self, matrix: List[List[int]], target: int) -> bool:\n",
        "        rows, cols = len(matrix), len(matrix[0])\n",
        "\n",
        "        top, bot = 0, rows - 1 \n",
        "        while top <= bot:\n",
        "            row = (top + bot) // 2\n",
        "            if target > matrix[row][-1] :\n",
        "                top = row + 1\n",
        "            elif target < matrix[row][0]:\n",
        "                bot = row - 1\n",
        "            else:\n",
        "                break \n",
        "        \n",
        "        if not (top <= bot):\n",
        "            return False\n",
        "        row = (top + bot) // 2\n",
        "        l, r = 0, cols - 1 \n",
        "        while l <= r :\n",
        "            m = (l + r) // 2\n",
        "            if target > matrix[row][m]:\n",
        "                l = m + 1\n",
        "            elif target > matrix[row][m]:\n",
        "                r = m - 1\n",
        "            else:\n",
        "                return True \n",
        "        return False"
      ],
      "metadata": {
        "id": "LmcLBrReil6S"
      },
      "execution_count": null,
      "outputs": []
    },
    {
      "cell_type": "markdown",
      "source": [
        "## 875. Koko Eating Bananas"
      ],
      "metadata": {
        "id": "wQ2vjZrZjF8N"
      }
    },
    {
      "cell_type": "code",
      "source": [
        "piles = [3,6,7,11]\n",
        "h = 8\n",
        "\n",
        "l,r = 1, max(piles)\n",
        "while l <= r: \n",
        "    m = (l+r) // 2 \n",
        "    hh = sum(((i-1) // m ) + 1 for i in piles) \n",
        "    print(l,r,m,hh)\n",
        "\n",
        "    if hh <= h:\n",
        "        r = m - 1\n",
        "    else:\n",
        "        l = m + 1 \n"
      ],
      "metadata": {
        "colab": {
          "base_uri": "https://localhost:8080/"
        },
        "id": "FLLv57ETjFm_",
        "outputId": "34578c18-f326-4c64-803b-537a4686e084"
      },
      "execution_count": null,
      "outputs": [
        {
          "output_type": "stream",
          "name": "stdout",
          "text": [
            "1 11 6 6\n",
            "1 5 3 10\n",
            "4 5 4 8\n"
          ]
        }
      ]
    },
    {
      "cell_type": "code",
      "source": [
        "import math \n",
        "l,r = 1, max(piles)\n",
        "res = r \n",
        "\n",
        "while l <= r: \n",
        "    m = (l+r) // 2 \n",
        "    hh = 0 \n",
        "    for p in piles: \n",
        "        hh += math.ceil(p/m)\n",
        "    if hh <= h:\n",
        "        res = min(res,m)\n",
        "        r = m - 1\n",
        "    else:\n",
        "        l = m + 1 \n",
        "res "
      ],
      "metadata": {
        "colab": {
          "base_uri": "https://localhost:8080/"
        },
        "id": "ExkI53LlkKFz",
        "outputId": "260b7e20-9d4a-4e39-8f4e-6f40fe68e96a"
      },
      "execution_count": null,
      "outputs": [
        {
          "output_type": "execute_result",
          "data": {
            "text/plain": [
              "4"
            ]
          },
          "metadata": {},
          "execution_count": 9
        }
      ]
    },
    {
      "cell_type": "code",
      "source": [
        "class Solution:\n",
        "    def minEatingSpeed(self, piles: List[int], h: int) -> int:\n",
        "        l,r = 1, max(piles)\n",
        "        res = r \n",
        "\n",
        "        while l <= r: \n",
        "            m = (l+r) // 2 \n",
        "            hh = 0 \n",
        "            for p in piles: \n",
        "                hh += math.ceil(p/m)\n",
        "            if hh <= h:\n",
        "                res = min(res,m)\n",
        "                r = m - 1\n",
        "            else:\n",
        "                l = m + 1 \n",
        "        return res \n"
      ],
      "metadata": {
        "id": "cJUaQlNlkms0"
      },
      "execution_count": null,
      "outputs": []
    },
    {
      "cell_type": "code",
      "source": [
        "class Solution:\n",
        "    def minEatingSpeed(self, piles: List[int], h: int) -> int:\n",
        "        return bisect_left(range(1,max(piles)), True , key=lambda t:sum(ceil(pile/t) for pile in piles)<=h )+1\n",
        "        # Tips: time list start at 1 because can't divide by zero"
      ],
      "metadata": {
        "id": "aCc2Van7kmoe"
      },
      "execution_count": null,
      "outputs": []
    },
    {
      "cell_type": "markdown",
      "source": [
        "## 153. Find Minimum in Rotated Sorted Array"
      ],
      "metadata": {
        "id": "1f5OAQb_0u5v"
      }
    },
    {
      "cell_type": "code",
      "source": [
        "class Solution:\n",
        "    def findMin(self, nums: List[int]) -> int:\n",
        "        nums.sort()\n",
        "        return nums[0]"
      ],
      "metadata": {
        "id": "0P7CXRHQ0whB"
      },
      "execution_count": null,
      "outputs": []
    },
    {
      "cell_type": "code",
      "source": [
        "class Solution:\n",
        "    def findMin(self, nums: List[int]) -> int:\n",
        "        # If the list has just one element then return that element.\n",
        "        if len(nums) == 1:\n",
        "            return nums[0]\n",
        "\n",
        "        # left pointer\n",
        "        left = 0\n",
        "        # right pointer\n",
        "        right = len(nums) - 1\n",
        "\n",
        "        # if the last element is greater than the first element then there is no rotation.\n",
        "        # e.g. 1 < 2 < 3 < 4 < 5 < 7. Already sorted array.\n",
        "        # Hence the smallest element is first element. A[0]\n",
        "        if nums[right] > nums[0]:\n",
        "            return nums[0]\n",
        "\n",
        "        # Binary search way\n",
        "        while right >= left:\n",
        "            # Find the mid element\n",
        "            mid = left + (right - left) // 2\n",
        "            # if the mid element is greater than its next element then mid+1 element is the smallest\n",
        "            # This point would be the point of change. From higher to lower value.\n",
        "            if nums[mid] > nums[mid + 1]:\n",
        "                return nums[mid + 1]\n",
        "            # if the mid element is lesser than its previous element then mid element is the smallest\n",
        "            if nums[mid - 1] > nums[mid]:\n",
        "                return nums[mid]\n",
        "\n",
        "            # if the mid elements value is greater than the 0th element this means\n",
        "            # the least value is still somewhere to the right as we are still dealing with elements greater than nums[0]\n",
        "            if nums[mid] > nums[0]:\n",
        "                left = mid + 1\n",
        "            # if nums[0] is greater than the mid value then this means the smallest value is somewhere to the left\n",
        "            else:\n",
        "                right = mid - 1"
      ],
      "metadata": {
        "id": "wY6dapEf1JC7"
      },
      "execution_count": null,
      "outputs": []
    },
    {
      "cell_type": "code",
      "source": [
        "class Solution:\n",
        "    def findMin(self, nums: List[int]) -> int:\n",
        "        res = nums[0]\n",
        "        l, r = 0, len(nums) - 1\n",
        "\n",
        "        while l < r:\n",
        "            if nums[i] < nums[r]:\n",
        "                res = min(res, nums[i])\n",
        "                break\n",
        "            \n",
        "            m = (l + r) // 2\n",
        "            res = min(res, nums[m])\n",
        "            if nums[m] >= nums[l]:\n",
        "                l = m + 1\n",
        "            else:\n",
        "                r = m - 1\n",
        "        return res "
      ],
      "metadata": {
        "id": "F_Kvmum71X98"
      },
      "execution_count": null,
      "outputs": []
    },
    {
      "cell_type": "code",
      "source": [
        "class Solution:\n",
        "    def findMin(self, nums: List[int]) -> int:\n",
        "        hi, lo = len(nums) - 1, 0\n",
        "        while hi - 1 > lo:\n",
        "            mid = (hi + lo)//2\n",
        "            if nums[lo] > nums[mid]: \n",
        "                hi = mid\n",
        "            else: # drop must be to the left\n",
        "                lo = mid\n",
        "\n",
        "        if nums[hi] > nums[lo]:\n",
        "            return nums[0]\n",
        "        return nums[hi]\n"
      ],
      "metadata": {
        "id": "9jSSM6tw1jdp"
      },
      "execution_count": null,
      "outputs": []
    },
    {
      "cell_type": "markdown",
      "source": [
        "## 33. Search in Rotated Sorted Array"
      ],
      "metadata": {
        "id": "PHUcU2GA_yYJ"
      }
    },
    {
      "cell_type": "code",
      "source": [
        "nums = [4,5,6,7,0,1,2]\n",
        "target = 0\n",
        "\n",
        "for i in (range(len(nums))):\n",
        "    if nums[i] == target:\n",
        "        print(i)\n",
        "    else:\n",
        "        print(-1)"
      ],
      "metadata": {
        "colab": {
          "base_uri": "https://localhost:8080/"
        },
        "id": "NXuyjgin_zex",
        "outputId": "835d5c61-68f2-4107-ace8-f33dfdb82f99"
      },
      "execution_count": null,
      "outputs": [
        {
          "output_type": "stream",
          "name": "stdout",
          "text": [
            "-1\n",
            "-1\n",
            "-1\n",
            "-1\n",
            "4\n",
            "-1\n",
            "-1\n"
          ]
        }
      ]
    },
    {
      "cell_type": "code",
      "source": [
        "class Solution:\n",
        "    def search(self, nums: List[int], target: int) -> int:\n",
        "        for i in (range(len(nums))):\n",
        "            if nums[i] == target:\n",
        "                return i\n",
        "        return -1"
      ],
      "metadata": {
        "id": "l3CT5tlfAPdW"
      },
      "execution_count": null,
      "outputs": []
    },
    {
      "cell_type": "code",
      "source": [
        "   class Solution:\n",
        "    def search(self, nums: List[int], target: int) -> int:\n",
        "        for i in range(len(nums)):\n",
        "            if nums[i]==target:\n",
        "                return nums.index(nums[i])\n",
        "                break\n",
        "        else:\n",
        "            return -1\n"
      ],
      "metadata": {
        "id": "G1eu5lioAQTA"
      },
      "execution_count": null,
      "outputs": []
    },
    {
      "cell_type": "code",
      "source": [
        "class Solution:\n",
        "    def search(self, nums: List[int], target: int) -> int:\n",
        "        # find the pivot point\n",
        "        left, right = 0, len(nums) - 1\n",
        "        while left < right:\n",
        "            mid = (left + right) // 2\n",
        "            if nums[mid] > nums[right]:\n",
        "                left = mid + 1\n",
        "            else:\n",
        "                right = mid\n",
        "        pivot = left\n",
        "    \n",
        "    # perform binary search on the appropriate half of the array\n",
        "        if target >= nums[pivot] and target <= nums[-1]:\n",
        "            left, right = pivot, len(nums) - 1\n",
        "        else:\n",
        "            left, right = 0, pivot - 1\n",
        "        while left <= right:\n",
        "            mid = (left + right) // 2\n",
        "            if nums[mid] == target:\n",
        "                return mid\n",
        "            elif nums[mid] < target:\n",
        "                left = mid + 1\n",
        "            else:\n",
        "                right = mid - 1\n",
        "        return -1\n"
      ],
      "metadata": {
        "id": "76zWImKLENId"
      },
      "execution_count": null,
      "outputs": []
    },
    {
      "cell_type": "markdown",
      "source": [
        "## 981. Time Based Key-Value Store\n"
      ],
      "metadata": {
        "id": "Yagbl4ikHcDB"
      }
    },
    {
      "cell_type": "code",
      "source": [
        "class TimeMap:\n",
        "\n",
        "    def __init__(self):\n",
        "        self.store = {}\n",
        "        \n",
        "    def set(self, key: str, value: str, timestamp: int) -> None:\n",
        "        if key not in self.store:\n",
        "            self.store[key] = [] \n",
        "        self.store[key].append([value,timestamp])       \n",
        "\n",
        "    def get(self, key: str, timestamp: int) -> str:\n",
        "        res = \"\"\n",
        "        values = self.store.get(key,[])\n",
        "\n",
        "        l, r = 0 , len(values) - 1\n",
        "        while l <= r :\n",
        "            m = (l + r) // 2\n",
        "            if values[m][1] <= timestamp:\n",
        "                res = values[m][0]\n",
        "                l = m + 1\n",
        "            else:\n",
        "                r = m - 1\n",
        "        return res \n",
        "\n",
        "\n",
        "# Your TimeMap object will be instantiated and called as such:\n",
        "# obj = TimeMap()\n",
        "# obj.set(key,value,timestamp)\n",
        "# param_2 = obj.get(key,timestamp)"
      ],
      "metadata": {
        "id": "aOWgg1DYHdR-"
      },
      "execution_count": null,
      "outputs": []
    },
    {
      "cell_type": "code",
      "source": [
        "class TimeMap:\n",
        "    def __init__(self):\n",
        "        self.key_time_map = {}\n",
        "\n",
        "    def set(self, key: str, value: str, timestamp: int) -> None:\n",
        "        # If the 'key' does not exist in dictionary.\n",
        "        if not key in self.key_time_map:\n",
        "            self.key_time_map[key] = {}\n",
        "            \n",
        "        # Store '(timestamp, value)' pair in 'key' bucket.\n",
        "        self.key_time_map[key][timestamp] = value\n",
        "        \n",
        "\n",
        "    def get(self, key: str, timestamp: int) -> str:\n",
        "        # If the 'key' does not exist in dictionary we will return empty string.\n",
        "        if not key in self.key_time_map:\n",
        "            return \"\"\n",
        "        \n",
        "        # Iterate on time from 'timestamp' to '1'.\n",
        "        for curr_time in reversed(range(1, timestamp + 1)):\n",
        "            # If a value for current time is stored in key's bucket we return the value.\n",
        "            if curr_time in self.key_time_map[key]:\n",
        "                return self.key_time_map[key][curr_time]\n",
        "            \n",
        "        # Otherwise no time <= timestamp was stored in key's bucket.\n",
        "        return \"\""
      ],
      "metadata": {
        "id": "nw4IpeDTJZKj"
      },
      "execution_count": null,
      "outputs": []
    },
    {
      "cell_type": "markdown",
      "source": [
        "# Sliding Window "
      ],
      "metadata": {
        "id": "NpelaMjU7NH3"
      }
    },
    {
      "cell_type": "markdown",
      "source": [
        "## 121. Best Time to Buy and Sell Stock"
      ],
      "metadata": {
        "id": "k0WpXiOT7PeW"
      }
    },
    {
      "cell_type": "code",
      "source": [
        "class Solution:\n",
        "    def maxProfit(self, prices: List[int]) -> int:\n",
        "        l,r = 0 , 1\n",
        "        ma = 0\n",
        "\n",
        "        while r < len(prices):\n",
        "            if prices[l] < prices[r]:\n",
        "                profit = prices[r] - prices[l]\n",
        "                ma = max(ma, profit)\n",
        "            else:\n",
        "                l = r\n",
        "            r += 1 \n",
        "        return ma "
      ],
      "metadata": {
        "id": "lYRE--XG7Odz"
      },
      "execution_count": null,
      "outputs": []
    },
    {
      "cell_type": "code",
      "source": [
        "class Solution:\n",
        "    def maxProfit(self, prices: List[int]) -> int:\n",
        "        max_profit = 0\n",
        "        for i in range(len(prices) - 1):\n",
        "            for j in range(i + 1, len(prices)):\n",
        "                profit = prices[j] - prices[i]\n",
        "                if profit > max_profit:\n",
        "                    max_profit = profit\n",
        "                    \n",
        "        return max_profit"
      ],
      "metadata": {
        "id": "K8nZM6vJ7RFm"
      },
      "execution_count": null,
      "outputs": []
    },
    {
      "cell_type": "code",
      "source": [
        "class Solution:\n",
        "    def maxProfit(self, prices: List[int]) -> int:\n",
        "        min_price = float('inf')\n",
        "        max_profit = 0\n",
        "        for i in range(len(prices)):\n",
        "            if prices[i] < min_price:\n",
        "                min_price = prices[i]\n",
        "            elif prices[i] - min_price > max_profit:\n",
        "                max_profit = prices[i] - min_price\n",
        "                \n",
        "        return max_profit"
      ],
      "metadata": {
        "id": "VCJBDvPx7aE0"
      },
      "execution_count": null,
      "outputs": []
    },
    {
      "cell_type": "markdown",
      "source": [
        "## 3. Longest Substring Without Repeating Characters\n"
      ],
      "metadata": {
        "id": "7mTtYJ7JN0G1"
      }
    },
    {
      "cell_type": "code",
      "source": [
        "s = \"abcabcbb\"\n",
        "charset = set()\n",
        "l = 0\n",
        "res = 0\n",
        "for r in range(len(s)):\n",
        "    while s[r] in charset:\n",
        "        charset.remove(s[l])\n",
        "        l += 1\n",
        "    charset.add(s[r])\n",
        "    res= max(res, r - l + 1)\n",
        "    # print(charset)\n",
        "res"
      ],
      "metadata": {
        "colab": {
          "base_uri": "https://localhost:8080/"
        },
        "id": "rXVfWjswN23y",
        "outputId": "e7b6202f-10b5-4f39-dacb-78e059f6fb80"
      },
      "execution_count": null,
      "outputs": [
        {
          "output_type": "stream",
          "name": "stdout",
          "text": [
            "a set()\n",
            "a {'a'}\n",
            "a {'b', 'a'}\n",
            "a {'b', 'c', 'a'}\n",
            "b {'a', 'b', 'c'}\n",
            "c {'b', 'c', 'a'}\n",
            "a {'c', 'b', 'a'}\n",
            "c {'c', 'b'}\n"
          ]
        },
        {
          "output_type": "execute_result",
          "data": {
            "text/plain": [
              "3"
            ]
          },
          "metadata": {},
          "execution_count": 12
        }
      ]
    },
    {
      "cell_type": "code",
      "source": [
        "dict = {}\n",
        "l = 0 \n",
        "r = 0 \n",
        "counter = 0\n",
        "\n",
        "while l < len(s) and r < len(s):\n",
        "    char = s[r]\n",
        "    if char in dict:\n",
        "        l = max(l, dict[char] + 1 )\n",
        "    dict[char] = r \n",
        "    counter = max(counter, r - l + 1)\n",
        "    r += 1\n",
        "counter "
      ],
      "metadata": {
        "colab": {
          "base_uri": "https://localhost:8080/"
        },
        "id": "Dw4KohDfPSZd",
        "outputId": "03b1fafc-5a56-4fef-9f6b-b04a2bb98db6"
      },
      "execution_count": null,
      "outputs": [
        {
          "output_type": "execute_result",
          "data": {
            "text/plain": [
              "3"
            ]
          },
          "metadata": {},
          "execution_count": 5
        }
      ]
    },
    {
      "cell_type": "code",
      "source": [
        "class Solution:\n",
        "    def lengthOfLongestSubstring(self, s: str) -> int:\n",
        "        charset = set()\n",
        "        l = 0\n",
        "        res = 0\n",
        "        for r in range(len(s)):\n",
        "            while s[r] in charset:\n",
        "                charset.remove(s[l])\n",
        "                l += 1\n",
        "            charset.add(s[r])\n",
        "            res= max(res, r - l + 1)\n",
        "            # print(charset)\n",
        "        return res"
      ],
      "metadata": {
        "id": "QrmtyeiTQZeZ"
      },
      "execution_count": null,
      "outputs": []
    },
    {
      "cell_type": "markdown",
      "source": [
        "## 424.Longest Repeating Character Replacement\n"
      ],
      "metadata": {
        "id": "Z4MmPi9fXa4L"
      }
    },
    {
      "cell_type": "code",
      "source": [
        "s = \"ABAB\"\n",
        "k = 2\n",
        "\n",
        "count = {} \n",
        "res = 0 \n",
        "l = 0 \n",
        "for r in range(len(s)):\n",
        "    count[s[r]] = 1 + count.get(s[r],0)\n",
        "    print(count)\n",
        "\n",
        "    while (r - l + 1) - max(count.values()) > k:\n",
        "        count[s[l]] -= 1 \n",
        "        l += 1 \n",
        "    \n",
        "    res = max(res, r - l + 1)\n",
        "res"
      ],
      "metadata": {
        "colab": {
          "base_uri": "https://localhost:8080/"
        },
        "id": "krHsMekZXax6",
        "outputId": "06b29482-52e0-4e5b-a62d-5ebacebbaffe"
      },
      "execution_count": null,
      "outputs": [
        {
          "output_type": "stream",
          "name": "stdout",
          "text": [
            "{'A': 1}\n",
            "{'A': 1, 'B': 1}\n",
            "{'A': 2, 'B': 1}\n",
            "{'A': 2, 'B': 2}\n"
          ]
        },
        {
          "output_type": "execute_result",
          "data": {
            "text/plain": [
              "4"
            ]
          },
          "metadata": {},
          "execution_count": 4
        }
      ]
    },
    {
      "cell_type": "code",
      "source": [
        "class Solution:\n",
        "    def characterReplacement(self, s: str, k: int) -> int:\n",
        "        count = {} \n",
        "        res = 0 \n",
        "        l = 0 \n",
        "        for r in range(len(s)):\n",
        "            count[s[r]] = 1 + count.get(s[r],0)\n",
        "            print(count)\n",
        "\n",
        "            while (r - l + 1) - max(count.values()) > k:\n",
        "                count[s[l]] -= 1 \n",
        "                l += 1 \n",
        "            \n",
        "            res = max(res, r - l + 1)\n",
        "        return res "
      ],
      "metadata": {
        "id": "KzbqFNQuZP7B"
      },
      "execution_count": null,
      "outputs": []
    },
    {
      "cell_type": "code",
      "source": [
        "class Solution(object):\n",
        "    def characterReplacement(self, s, k):\n",
        "        maxlen, largestCount = 0, 0\n",
        "        arr = collections.Counter()\n",
        "        for idx in range(len(s)):\n",
        "            arr[s[idx]] += 1\n",
        "            largestCount = max(largestCount, arr[s[idx]])\n",
        "            if maxlen - largestCount >= k:\n",
        "                arr[s[idx - maxlen]] -= 1\n",
        "            else:\n",
        "                maxlen += 1\n",
        "        return maxlen\n"
      ],
      "metadata": {
        "id": "BIWglmZaYlqB"
      },
      "execution_count": null,
      "outputs": []
    },
    {
      "cell_type": "markdown",
      "source": [
        "## 567. Permutation in String"
      ],
      "metadata": {
        "id": "loqeL8Py5cot"
      }
    },
    {
      "cell_type": "code",
      "source": [
        "from collections import Counter\n",
        "s1 = \"ab\"\n",
        "s2 = \"eidbaooo\"\n",
        "\n",
        "cntr, w = Counter(s1), len(s1)\n",
        "\n",
        "for i in range(len(s2)):\n",
        "    print(i, i-w, s2[i-w])\n",
        "    if s2[i] in cntr:\n",
        "        cntr[s2[i]] -= 1 \n",
        "    if i >= w and s2[i-w] in cntr:\n",
        "        cntr[s2[i-w]] += 1 \n",
        "    \n",
        "    if all([cntr[i] == 0 for i in cntr]):\n",
        "        print(True)\n"
      ],
      "metadata": {
        "colab": {
          "base_uri": "https://localhost:8080/"
        },
        "id": "YNQw8PgS5ecB",
        "outputId": "2489790a-971b-4e5a-848b-ea0db65015cf"
      },
      "execution_count": null,
      "outputs": [
        {
          "output_type": "stream",
          "name": "stdout",
          "text": [
            "0 -2 o\n",
            "1 -1 o\n",
            "2 0 e\n",
            "3 1 i\n",
            "4 2 d\n",
            "True\n",
            "5 3 b\n",
            "6 4 a\n",
            "7 5 o\n"
          ]
        }
      ]
    },
    {
      "cell_type": "code",
      "source": [
        "class Solution:\n",
        "    def checkInclusion(self, s1: str, s2: str) -> bool:\n",
        "        cntr, w = Counter(s1), len(s1)\n",
        "\n",
        "        for i in range(len(s2)):\n",
        "            if s2[i] in cntr:\n",
        "                cntr[s2[i]] -= 1 \n",
        "            if i >= w and s2[i-w] in cntr:\n",
        "                cntr[s2[i-w]] += 1 \n",
        "            \n",
        "            if all([cntr[i] == 0 for i in cntr]):\n",
        "                return True\n",
        "        return False\n"
      ],
      "metadata": {
        "id": "iRetsmNF7Btt"
      },
      "execution_count": null,
      "outputs": []
    },
    {
      "cell_type": "code",
      "source": [
        "class Solution:\n",
        "    def checkInclusion(self, s1: str, s2: str) -> bool:\n",
        "        c1, c2 = Counter(s1), Counter()\n",
        "        left, right = 0, 0\n",
        "        while right < len(s2):\n",
        "            char = s2[right]\n",
        "            right += 1\n",
        "            c2[char] += 1\n",
        "            while c2[char] > c1[char]:\n",
        "                c2[s2[left]] -= 1\n",
        "                left += 1\n",
        "            if right - left == len(s1):\n",
        "                return True\n",
        "        return False\n"
      ],
      "metadata": {
        "id": "PpUgQJXX63aN"
      },
      "execution_count": null,
      "outputs": []
    },
    {
      "cell_type": "markdown",
      "source": [
        "# Tree"
      ],
      "metadata": {
        "id": "V9U6jDFBDKRr"
      }
    },
    {
      "cell_type": "markdown",
      "source": [
        "## 226. Invert Binary Tree"
      ],
      "metadata": {
        "id": "lPJmssg8DWiL"
      }
    },
    {
      "cell_type": "code",
      "source": [
        "root = [4,2,7,1,3,6,9]\n",
        "\n",
        "# Definition for a binary tree node.\n",
        "# class TreeNode:\n",
        "#     def __init__(self, val=0, left=None, right=None):\n",
        "#         self.val = val\n",
        "#         self.left = left\n",
        "#         self.right = right\n",
        "class Solution:\n",
        "    def invertTree(self, root: Optional[TreeNode]) -> Optional[TreeNode]:\n",
        "        if not root:\n",
        "            return None\n",
        "        \n",
        "        tmp = root.left\n",
        "        root.left = root.right \n",
        "        root.right = tmp \n",
        "\n",
        "        self.invertTree(root.left)\n",
        "        self.invertTree(root.right)\n",
        "\n",
        "        return root "
      ],
      "metadata": {
        "id": "AYhVuMHUDUzQ"
      },
      "execution_count": null,
      "outputs": []
    },
    {
      "cell_type": "code",
      "source": [
        "class Solution:\n",
        "    def invertTree(self, root: Optional[TreeNode]) -> Optional[TreeNode]:\n",
        "        if not root:\n",
        "            return None\n",
        "        \n",
        "        right = self.invertTree(root.right)\n",
        "        left = self.invertTree(root.left)\n",
        "        root.left = right\n",
        "        root.right = left\n",
        "        return root"
      ],
      "metadata": {
        "id": "Rip6Q7mcD4FF"
      },
      "execution_count": null,
      "outputs": []
    },
    {
      "cell_type": "code",
      "source": [
        "class Solution:\n",
        "    def invertTree(self, root: Optional[TreeNode]) -> Optional[TreeNode]:\n",
        "        if not root:\n",
        "            return None\n",
        "        \n",
        "        queue = collections.deque([root])\n",
        "        while queue:\n",
        "            current = queue.popleft()\n",
        "            current.left, current.right = current.right, current.left\n",
        "            \n",
        "            if current.left:\n",
        "                queue.append(current.left)\n",
        "            \n",
        "            if current.right:\n",
        "                queue.append(current.right)\n",
        "        \n",
        "        return root"
      ],
      "metadata": {
        "id": "Cz-Q47wXD7qy"
      },
      "execution_count": null,
      "outputs": []
    },
    {
      "cell_type": "markdown",
      "source": [
        "## 104. Maximum Depth of Binary Tree\n"
      ],
      "metadata": {
        "id": "gUuqxeZ49kVu"
      }
    },
    {
      "cell_type": "code",
      "source": [
        "# Recursive DFS\n",
        "# root = [3,9,20,null,null,15,7]\n",
        "\n",
        "class Solution:\n",
        "    def maxDepth(self, root: Optional[TreeNode]) -> int:\n",
        "        if not root:\n",
        "            return 0\n",
        "        \n",
        "        return 1 + max(self.maxDepth(root.left), self.maxDepth(root.right))        "
      ],
      "metadata": {
        "id": "8h-bceU5-VcC"
      },
      "execution_count": null,
      "outputs": []
    },
    {
      "cell_type": "code",
      "source": [
        "# BFS \n",
        "class Solution:\n",
        "    def maxDepth(self, root: Optional[TreeNode]) -> int:\n",
        "        if not root:\n",
        "            return 0 \n",
        "        \n",
        "        level = 0\n",
        "        q = deque([root])\n",
        "        while q:\n",
        "            for i in range(len(q)):\n",
        "                node = q.popleft()\n",
        "                if node.left:\n",
        "                    q.append(node.left)\n",
        "                if node.right:\n",
        "                    q.appedn(node.right)\n",
        "            level += 1 \n",
        "        return level "
      ],
      "metadata": {
        "id": "uFdm6rlU-N1L"
      },
      "execution_count": null,
      "outputs": []
    },
    {
      "cell_type": "code",
      "source": [
        "# Iterative DFS\n",
        "class Solution:\n",
        "    def maxDepth(self, root: Optional[TreeNode]) -> int:\n",
        "        stack = [[root, 1]]\n",
        "        res = 0 \n",
        "\n",
        "        while stack:\n",
        "            node, depth = stack.pop() \n",
        "\n",
        "            if node:\n",
        "                res = max(res, depth)\n",
        "                stack.append([node.left, depth + 1])\n",
        "                stack.append([node.right, depth + 1])\n",
        "        return res "
      ],
      "metadata": {
        "id": "WsLS6uVR-kgN"
      },
      "execution_count": null,
      "outputs": []
    },
    {
      "cell_type": "markdown",
      "source": [
        "## 543. Diameter of Binary Tree"
      ],
      "metadata": {
        "id": "nuPTgLPBIzjY"
      }
    },
    {
      "cell_type": "code",
      "source": [
        "class Solution:\n",
        "    def diameterOfBinaryTree(self, root: Optional[TreeNode]) -> int:\n",
        "        res = [0]\n",
        "\n",
        "        def dfs(root):\n",
        "            if not root:\n",
        "                return -1 \n",
        "            left = dfs(root.left)\n",
        "            right = dfs(root.right)\n",
        "            res[0] = max(res[0], 2 +left + right)\n",
        "\n",
        "            return 1 + max(left,right)\n",
        "        dfs(root)\n",
        "        return res[0]"
      ],
      "metadata": {
        "id": "VlRx61efJLV0"
      },
      "execution_count": null,
      "outputs": []
    },
    {
      "cell_type": "code",
      "source": [
        "class Solution:\n",
        "    def diameterOfBinaryTree(self, root: TreeNode) -> int:\n",
        "        self.ans = 0 \n",
        "        \n",
        "        def dfs(node):\n",
        "            if not node:\n",
        "                return 0\n",
        "            left = dfs(node.left)\n",
        "            right = dfs(node.right)\n",
        "            self.ans = max(self.ans, left + right)  \n",
        "            return max(left, right) + 1  \n",
        "            \n",
        "        dfs(root)\n",
        "        return self.ans"
      ],
      "metadata": {
        "id": "PILk1moPJudo"
      },
      "execution_count": null,
      "outputs": []
    },
    {
      "cell_type": "markdown",
      "source": [
        "## 110. Balanced Binary Tree"
      ],
      "metadata": {
        "id": "ODU7z44wQoIo"
      }
    },
    {
      "cell_type": "code",
      "source": [
        "class Solution:\n",
        "    def isBalanced(self, root: Optional[TreeNode]) -> bool:\n",
        "        def dfs(root):\n",
        "            if not root: return [True,0]\n",
        "\n",
        "            left, right = dfs(root.left), dfs(root.right)\n",
        "            balanced = (left[0] and right[0] and abs(left[1] - right[1]) <= 1)\n",
        "            return [balanced, 1 + max(left[1], right[1])]\n",
        "        return dfs(root)[0]"
      ],
      "metadata": {
        "id": "bU_QSWUnQ1hs"
      },
      "execution_count": null,
      "outputs": []
    },
    {
      "cell_type": "code",
      "source": [
        "class Solution(object):\n",
        "    def isBalanced(self, root):\n",
        "        return (self.Height(root) >= 0)\n",
        "    def Height(self, root):\n",
        "        if root is None:  return 0\n",
        "        leftheight, rightheight = self.Height(root.left), self.Height(root.right)\n",
        "        if leftheight < 0 or rightheight < 0 or abs(leftheight - rightheight) > 1:  return -1\n",
        "        return max(leftheight, rightheight) + 1\n"
      ],
      "metadata": {
        "id": "gIzji4eIRdvm"
      },
      "execution_count": null,
      "outputs": []
    },
    {
      "cell_type": "code",
      "source": [
        "class Solution:\n",
        "    def isBalanced(self, root: Optional[TreeNode]) -> bool:\n",
        "        def sample(root):\n",
        "            if not root:\n",
        "                return 0\n",
        "            lh = sample(root.left)\n",
        "            if lh == -1:\n",
        "                return -1\n",
        "            rh = sample(root.right)\n",
        "            if rh == -1:\n",
        "                return -1\n",
        "            if abs(lh-rh)>1:\n",
        "                return -1\n",
        "            else: \n",
        "                return 1+max(lh,rh)\n",
        "            \n",
        "        return sample(root)!=-1\n"
      ],
      "metadata": {
        "id": "mZa3IfirRqjd"
      },
      "execution_count": null,
      "outputs": []
    },
    {
      "cell_type": "markdown",
      "source": [
        "## 100. Same Tree"
      ],
      "metadata": {
        "id": "sxbyn8ipctKs"
      }
    },
    {
      "cell_type": "code",
      "source": [
        "class Solution:\n",
        "    def isSameTree(self, p: Optional[TreeNode], q: Optional[TreeNode]) -> bool:\n",
        "        if not p and not q:\n",
        "            return True\n",
        "        if not p or not q or p.val != q.val:\n",
        "            return False \n",
        "        return (self.isSameTree(p.left, q.left) and self.isSameTree(p.right, q.right))"
      ],
      "metadata": {
        "id": "wfP1fSi3cssS"
      },
      "execution_count": null,
      "outputs": []
    },
    {
      "cell_type": "code",
      "source": [
        "from collections import deque\n",
        "class Solution:\n",
        "    def isSameTree(self, p, q):\n",
        "        \"\"\"\n",
        "        :type p: TreeNode\n",
        "        :type q: TreeNode\n",
        "        :rtype: bool\n",
        "        \"\"\"    \n",
        "        def check(p, q):\n",
        "            # if both are None\n",
        "            if not p and not q:\n",
        "                return True\n",
        "            # one of p and q is None\n",
        "            if not q or not p:\n",
        "                return False\n",
        "            if p.val != q.val:\n",
        "                return False\n",
        "            return True\n",
        "        \n",
        "        deq = deque([(p, q),])\n",
        "        while deq:\n",
        "            p, q = deq.popleft()\n",
        "            if not check(p, q):\n",
        "                return False\n",
        "            \n",
        "            if p:\n",
        "                deq.append((p.left, q.left))\n",
        "                deq.append((p.right, q.right))\n",
        "                    \n",
        "        return True"
      ],
      "metadata": {
        "id": "q3mJLbyfdHMp"
      },
      "execution_count": null,
      "outputs": []
    },
    {
      "cell_type": "markdown",
      "source": [
        "## 572. Subtree of Another Tree\n"
      ],
      "metadata": {
        "id": "cx0ToaeEm8e_"
      }
    },
    {
      "cell_type": "code",
      "source": [
        "root = [3,4,5,1,2], subRoot = [4,1,2]\n",
        "\n",
        "class Solution:\n",
        "    def isSubtree(self, root: Optional[TreeNode], subRoot: Optional[TreeNode]) -> bool:\n",
        "        if not subRoot: return True\n",
        "        if not root: return False \n",
        "\n",
        "        if self.sameTree(root, subRoot):\n",
        "            return True \n",
        "        return (self.isSubtree(root.left, subRoot) or \n",
        "                self.isSubtree(root.right, subRoot))\n",
        "    \n",
        "    def sameTree(self,s, t):\n",
        "        if not s and not t:\n",
        "            return True\n",
        "        if s and t and s.val == t.val:\n",
        "            return (self.sameTree(s.left, t.left) and \n",
        "                    self.sameTree(s.right, t.right))\n",
        "        return False\n"
      ],
      "metadata": {
        "id": "DkXEBs75m-UM"
      },
      "execution_count": null,
      "outputs": []
    },
    {
      "cell_type": "code",
      "source": [
        "class Solution:\n",
        "    def isSubtree(self, root: Optional[TreeNode], subRoot: Optional[TreeNode]) -> bool:\n",
        "\n",
        "        # Check for all subtree rooted at all nodes of tree \"root\"\n",
        "        def dfs(node):\n",
        "\n",
        "            # If this node is Empty, then no tree is rooted at this Node\n",
        "            # Thus \"tree rooted at node\" cannot be same as \"rooted at subRoot\"\n",
        "            # \"tree rooted at subRoot\" will always be non-empty (constraints)\n",
        "            if node is None:\n",
        "                return False\n",
        "\n",
        "            # If \"tree rooted at node\" is identical to \"tree at subRoot\"\n",
        "            elif is_identical(node, subRoot):\n",
        "                return True\n",
        "\n",
        "            # If \"tree rooted at node\" was not identical.\n",
        "            # Check for tree rooted at children\n",
        "            return dfs(node.left) or dfs(node.right)\n",
        "\n",
        "        def is_identical(node1, node2):\n",
        "\n",
        "            # If any one Node is Empty, both should be Empty\n",
        "            if node1 is None or node2 is None:\n",
        "                return node1 is None and node2 is None\n",
        "\n",
        "            # Both Nodes Value should be Equal\n",
        "            # And their respective left and right subtree should be identical\n",
        "            return (node1.val == node2.val and\n",
        "                    is_identical(node1.left, node2.left) and\n",
        "                    is_identical(node1.right, node2.right))\n",
        "\n",
        "        # Check for node rooted at \"root\"\n",
        "        return dfs(root)"
      ],
      "metadata": {
        "id": "SOpn2U2DnbbM"
      },
      "execution_count": null,
      "outputs": []
    },
    {
      "cell_type": "markdown",
      "source": [
        "## 235. Lowest Common Ancestor of a Binary Search Tree"
      ],
      "metadata": {
        "id": "vGmSXnc6vnYW"
      }
    },
    {
      "cell_type": "code",
      "source": [
        "class Solution:\n",
        "    def lowestCommonAncestor(self, root: 'TreeNode', p: 'TreeNode', q: 'TreeNode') -> 'TreeNode':\n",
        "        cur = root\n",
        "\n",
        "        while cur:\n",
        "            if p.val > cur.val and q.val > cur.val:\n",
        "                cur = cur.right \n",
        "            elif p.val < cur.val and q.val < cur.val: \n",
        "                cur = cur.left \n",
        "            else: \n",
        "                return cur"
      ],
      "metadata": {
        "id": "_ZqeRG8Kvnne"
      },
      "execution_count": null,
      "outputs": []
    },
    {
      "cell_type": "code",
      "source": [
        "class Solution:\n",
        "    def lowestCommonAncestor(self, root: 'TreeNode', p: 'TreeNode', q: 'TreeNode') -> 'TreeNode':\n",
        "        if not root:\n",
        "            return None\n",
        "        if root.val == p.val:\n",
        "            return p\n",
        "        elif root.val == q.val:\n",
        "            return q \n",
        "        # condition when the root is the shared parent of node p and q\n",
        "        elif root.val < max(p.val, q.val) and root.val > min(p.val, q.val):\n",
        "            return root\n",
        "        \n",
        "        return self.lowestCommonAncestor(root.left, p, q) or self.lowestCommonAncestor(root.right, p, q)"
      ],
      "metadata": {
        "id": "FZt-CkXHwXV2"
      },
      "execution_count": null,
      "outputs": []
    },
    {
      "cell_type": "code",
      "source": [
        "class Solution:\n",
        "    def lowestCommonAncestor(self, root: 'TreeNode', p: 'TreeNode', q: 'TreeNode') -> 'TreeNode':\n",
        "        # If the value of p and q is less than root, then LCA will be in the left subtree\n",
        "        if p.val < root.val and q.val < root.val:\n",
        "            return self.lowestCommonAncestor(root.left, p, q)\n",
        "        # If the value of p and q is greater than root, then LCA will be in the right subtree\n",
        "        elif p.val > root.val and q.val > root.val:\n",
        "            return self.lowestCommonAncestor(root.right, p, q)\n",
        "        # If one value is less and the other is greater, then root is the LCA\n",
        "        else:\n",
        "            return root"
      ],
      "metadata": {
        "id": "VCsv63vVwN63"
      },
      "execution_count": null,
      "outputs": []
    },
    {
      "cell_type": "markdown",
      "source": [
        "## 102. Binary Tree Level Order Traversal"
      ],
      "metadata": {
        "id": "E15pKR17Eof7"
      }
    },
    {
      "cell_type": "code",
      "source": [
        "class Solution:\n",
        "    def levelOrder(self, root: Optional[TreeNode]) -> List[List[int]]:\n",
        "        res = [] \n",
        "        q = collections.deque()\n",
        "        q.append(root)\n",
        "\n",
        "        while q:\n",
        "            qlen = len(q)\n",
        "            level  = [] \n",
        "            for i in range(qlen):\n",
        "                node = q.popleft()\n",
        "                if node:\n",
        "                    level.append(node.val)\n",
        "                    q.append(node.left)\n",
        "                    q.append(node.right)\n",
        "            if level:\n",
        "                res.append(level)\n",
        "        return res "
      ],
      "metadata": {
        "id": "_iPhCkjUEoy2"
      },
      "execution_count": null,
      "outputs": []
    },
    {
      "cell_type": "code",
      "source": [
        "class Solution:\n",
        "    def levelOrder(self, root: Optional[TreeNode]) -> List[List[int]]:\n",
        "        if not root:\n",
        "            return root       \n",
        "        binary_tree_list, queue = [], [root]\n",
        "        while len(queue) != 0:\n",
        "            children, parent_val = [], []\n",
        "            while len(queue) != 0:\n",
        "                parent = queue.pop(0)\n",
        "                parent_val.append(parent.val)\n",
        "                if parent.left:\n",
        "                    children.append(parent.left)\n",
        "                if parent.right:\n",
        "                    children.append(parent.right)\n",
        "            queue = children\n",
        "            binary_tree_list.append(parent_val)\n",
        "        return binary_tree_list             \n"
      ],
      "metadata": {
        "id": "omgCUgY4Fq_t"
      },
      "execution_count": null,
      "outputs": []
    },
    {
      "cell_type": "markdown",
      "source": [
        "## 199. Binary Tree Right Side View\n"
      ],
      "metadata": {
        "id": "SaIpwTZRc9yj"
      }
    },
    {
      "cell_type": "code",
      "source": [
        "class Solution:\n",
        "    def rightSideView(self, root: Optional[TreeNode]) -> List[int]:\n",
        "        res = []\n",
        "        q = collections.deque([root])\n",
        "        # deque([TreeNode{val: 1, left: TreeNode{val: 2, left: None, right: TreeNode{val: 5, left: None, right: None}}, right: TreeNode{val: 3, left: None, right: TreeNode{val: 4, left: None, right: None}}}])\n",
        "\n",
        "        while q:\n",
        "            rightside = None\n",
        "            qlen = len(q)\n",
        "\n",
        "            for i in range(qlen):\n",
        "                node = q.popleft()\n",
        "                if node:\n",
        "                    rightside = node\n",
        "                    q.append(node.left)\n",
        "                    q.append(node.right)\n",
        "# deque([TreeNode{val: 2, left: None, right: TreeNode{val: 5, left: None, right: None}}, TreeNode{val: 3, left: None, right: TreeNode{val: 4, left: None, right: None}}])\n",
        "# deque([TreeNode{val: 3, left: None, right: TreeNode{val: 4, left: None, right: None}}, None, TreeNode{val: 5, left: None, right: None}])\n",
        "# deque([None, TreeNode{val: 5, left: None, right: None}, None, TreeNode{val: 4, left: None, right: None}])\n",
        "# deque([None, TreeNode{val: 4, left: None, right: None}, None, None])\n",
        "# deque([None, None, None, None])\n",
        "\n",
        "            if rightside:\n",
        "# TreeNode{val: 1, left: TreeNode{val: 2, left: None, right: TreeNode{val: 5, left: None, right: None}}, right: TreeNode{val: 3, left: None, right: TreeNode{val: 4, left: None, right: None}}}\n",
        "# TreeNode{val: 3, left: None, right: TreeNode{val: 4, left: None, right: None}}\n",
        "# TreeNode{val: 4, left: None, right: None}\n",
        "# None\n",
        "                res.append(rightside.val)\n",
        "        return res "
      ],
      "metadata": {
        "id": "P7dE56h4Ff-q"
      },
      "execution_count": null,
      "outputs": []
    },
    {
      "cell_type": "code",
      "source": [
        "class Solution:\n",
        "    def rightSideView(self, root: Optional[TreeNode]) -> List[int]:\n",
        "        ans = []\n",
        "        q = deque([root])\n",
        "        while q:\n",
        "            if q[-1]:\n",
        "                ans.append(q[-1].val)\n",
        "            for i in range(len(q)):\n",
        "                node = q.popleft()\n",
        "                if node and node.left:\n",
        "                    q.append(node.left)\n",
        "                if node and node.right:\n",
        "                    q.append(node.right)\n",
        "        return ans\n"
      ],
      "metadata": {
        "id": "I38dg1LJd-Br"
      },
      "execution_count": null,
      "outputs": []
    },
    {
      "cell_type": "markdown",
      "source": [
        "## 1448. Count Good Nodes in Binary Tree"
      ],
      "metadata": {
        "id": "CNbnbAhJe-oo"
      }
    },
    {
      "cell_type": "code",
      "source": [
        "class Solution:\n",
        "    def goodNodes(self, root: TreeNode) -> int:\n",
        "        \n",
        "        def dfs(node, maxVal):\n",
        "            if not node:\n",
        "                return 0 \n",
        "\n",
        "            res = 1 if node.val >= maxVal else 0\n",
        "            maxVal = max(maxVal, node.val)\n",
        "            res += dfs(node.left, maxVal)\n",
        "            res += dfs(node.right, maxVal)\n",
        "            return res \n",
        "        return dfs(root, root.val)"
      ],
      "metadata": {
        "id": "QY9quc-de_pm"
      },
      "execution_count": null,
      "outputs": []
    },
    {
      "cell_type": "code",
      "source": [
        "class Solution:\n",
        "    def goodNodes(self, root: TreeNode) -> int:\n",
        "        stack = [(root,float('-inf'))]\n",
        "        count = 0\n",
        "        while stack:\n",
        "            node, maxNum = stack.pop()\n",
        "            if node.val>=maxNum:\n",
        "                count+=1\n",
        "            maxNum = max(maxNum,node.val)\n",
        "            if node.left:\n",
        "                stack.append((node.left,maxNum))\n",
        "            if node.right:\n",
        "                stack.append((node.right,maxNum))\n",
        "        return count\n"
      ],
      "metadata": {
        "id": "tk9X6pIWfycF"
      },
      "execution_count": null,
      "outputs": []
    },
    {
      "cell_type": "markdown",
      "source": [
        "## 98. Validate Binary Search Tree\n"
      ],
      "metadata": {
        "id": "pGrjc7H4nkKB"
      }
    },
    {
      "cell_type": "code",
      "source": [
        "class Solution:\n",
        "    def isValidBST(self, root: Optional[TreeNode]) -> bool:\n",
        "\n",
        "        def valid(node, left, right):\n",
        "            if not node:\n",
        "                return True\n",
        "            if not (node.val < right and node.val > left):\n",
        "                return False \n",
        "            \n",
        "            return (valid(node.left, left, node.val) and\n",
        "                    valid(node.right, node.val, right))\n",
        "        return valid(root, float(\"-inf\"), float(\"inf\"))"
      ],
      "metadata": {
        "id": "A-A244eGnk6a"
      },
      "execution_count": null,
      "outputs": []
    },
    {
      "cell_type": "code",
      "source": [
        "class Solution:\n",
        "    def isValidBST(self, root: Optional[TreeNode]) -> bool:\n",
        "        def valid_bst(root, min_val, max_val):\n",
        "            if root is None:\n",
        "                return True\n",
        "            if root.val <= min_val or root.val >= max_val:\n",
        "                return False\n",
        "            return valid_bst(root.left, min_val, root.val) and valid_bst(root.right, root.val, max_val)\n",
        "        return valid_bst(root, -2**31-1, 2**31)\n"
      ],
      "metadata": {
        "id": "lw40fVHjoXHE"
      },
      "execution_count": null,
      "outputs": []
    },
    {
      "cell_type": "markdown",
      "source": [
        "## 230. Kth Smallest Element in a BST\n"
      ],
      "metadata": {
        "id": "uAcxzsZvkxno"
      }
    },
    {
      "cell_type": "code",
      "source": [
        "class Solution:\n",
        "    def kthSmallest(self, root: Optional[TreeNode], k: int) -> int:\n",
        "        n = 0\n",
        "        stack = []\n",
        "        cur = root\n",
        "\n",
        "        while cur and stack:\n",
        "            while cur:\n",
        "                stack.append(cur)\n",
        "                cur = cur.left\n",
        "\n",
        "            cur = stack.pop()\n",
        "            n += 1\n",
        "            if n == k :\n",
        "                return cur.val\n",
        "            cur = cur.right"
      ],
      "metadata": {
        "id": "C5O7pg3vky8T"
      },
      "execution_count": null,
      "outputs": []
    },
    {
      "cell_type": "code",
      "source": [
        "class Solution:\n",
        "    def kthSmallest(self, root: Optional[TreeNode], k: int) -> int:\n",
        "        def inorder(r):\n",
        "            return inorder(r.left) + [r.val] + inorder(r.right) if r else []\n",
        "    \n",
        "        return inorder(root)[k - 1]"
      ],
      "metadata": {
        "id": "2zWAY0jzltTO"
      },
      "execution_count": null,
      "outputs": []
    },
    {
      "cell_type": "code",
      "source": [
        "class Solution:\n",
        "    def kthSmallest(self, root, k):\n",
        "        \"\"\"\n",
        "        :type root: TreeNode\n",
        "        :type k: int\n",
        "        :rtype: int\n",
        "        \"\"\"\n",
        "        stack = []\n",
        "        \n",
        "        while True:\n",
        "            while root:\n",
        "                stack.append(root)\n",
        "                root = root.left\n",
        "            root = stack.pop()\n",
        "            k -= 1\n",
        "            if not k:\n",
        "                return root.val\n",
        "            root = root.right"
      ],
      "metadata": {
        "id": "5wnbR6Sel1GA"
      },
      "execution_count": null,
      "outputs": []
    },
    {
      "cell_type": "markdown",
      "source": [
        "## 105. Construct Binary Tree from Preorder and Inorder Traversal\n"
      ],
      "metadata": {
        "id": "2ZWuw1okzfN-"
      }
    },
    {
      "cell_type": "code",
      "source": [
        "class Solution:\n",
        "    def buildTree(self, preorder: List[int], inorder: List[int]) -> Optional[TreeNode]:\n",
        "        if not preorder or not inorder:\n",
        "            return None\n",
        "        \n",
        "        root = TreeNode(preorder[0])\n",
        "        mid = inorder.index(preorder[0])\n",
        "        root.left = self.buildTree(preorder[1:mid + 1] , inorder[:mid])\n",
        "        root.right = self.buildTree(preorder[mid + 1:], inorder[mid + 1:])\n",
        "        return root "
      ],
      "metadata": {
        "id": "oUeGw5zPzfgU"
      },
      "execution_count": null,
      "outputs": []
    },
    {
      "cell_type": "code",
      "source": [
        "class Solution:\n",
        "    def buildTree(self, preorder: List[int], inorder: List[int]) -> TreeNode:\n",
        "\n",
        "        def array_to_tree(left, right):\n",
        "            nonlocal preorder_index\n",
        "            # if there are no elements to construct the tree\n",
        "            if left > right: return None\n",
        "\n",
        "            # select the preorder_index element as the root and increment it\n",
        "            root_value = preorder[preorder_index]\n",
        "            root = TreeNode(root_value)\n",
        "\n",
        "\n",
        "            preorder_index += 1\n",
        "\n",
        "            # build left and right subtree\n",
        "            # excluding inorder_index_map[root_value] element because it's the root\n",
        "            root.left = array_to_tree(left, inorder_index_map[root_value] - 1)\n",
        "            root.right = array_to_tree(inorder_index_map[root_value] + 1, right)\n",
        "\n",
        "            return root\n",
        "\n",
        "        preorder_index = 0\n",
        "\n",
        "        # build a hashmap to store value -> its index relations\n",
        "        inorder_index_map = {}\n",
        "        for index, value in enumerate(inorder):\n",
        "            inorder_index_map[value] = index\n",
        "\n",
        "        return array_to_tree(0, len(preorder) - 1)"
      ],
      "metadata": {
        "id": "p3iOIyzmz2ni"
      },
      "execution_count": null,
      "outputs": []
    },
    {
      "cell_type": "code",
      "source": [
        "class Solution:\n",
        "    def buildTree(self, preorder: list[int], inorder: list[int]) -> TreeNode | None:\n",
        "        in_index_map = dict(map(reversed, enumerate(inorder)))\n",
        "        \n",
        "        def build_tree(pre_start: int, in_start: int, in_end: int) -> tuple[TreeNode | None, int]:\n",
        "            if in_start >= in_end: return None, pre_start\n",
        "            \n",
        "            root_val = preorder[pre_start]\n",
        "            root_index = in_index_map[root_val]\n",
        "            \n",
        "            l_tree, pre_end = build_tree(pre_start + 1, in_start, root_index)\n",
        "            r_tree, pre_end = build_tree(pre_end, root_index + 1, in_end)\n",
        "            \n",
        "            return TreeNode(root_val, l_tree, r_tree), pre_end\n",
        "        \n",
        "        return build_tree(0, 0, len(inorder))[0]\n"
      ],
      "metadata": {
        "id": "uXIwYq-a0hVT"
      },
      "execution_count": null,
      "outputs": []
    },
    {
      "cell_type": "markdown",
      "source": [
        "# Heap / Priority Queue"
      ],
      "metadata": {
        "id": "L9noq35T8ZE6"
      }
    },
    {
      "cell_type": "markdown",
      "source": [
        "## 703. Kth Largest Element in a Stream\n"
      ],
      "metadata": {
        "id": "dTBy90Re8Z3F"
      }
    },
    {
      "cell_type": "code",
      "source": [
        "class KthLargest:\n",
        "\n",
        "    def __init__(self, k: int, nums: List[int]):\n",
        "        self.minHeap, self.k = nums, k \n",
        "        heapq.heapify(self.minHeap)\n",
        "        while len(self.minHeap) > k :\n",
        "            heapq.heappop(self.minHeap)\n",
        "\n",
        "    def add(self, val: int) -> int:\n",
        "        heapq.heappush(self.minHeap, val)\n",
        "        if len(self.minHeap) > self.k:\n",
        "            heapq.heappop(self.minHeap)\n",
        "        return self.minHeap[0]\n",
        "        "
      ],
      "metadata": {
        "id": "-4nk-oXr8a78"
      },
      "execution_count": null,
      "outputs": []
    },
    {
      "cell_type": "code",
      "source": [
        "class KthLargest:\n",
        "    def __init__(self, k: int, nums: List[int]):\n",
        "        self.k = k\n",
        "        self.heap = nums\n",
        "        heapq.heapify(self.heap)\n",
        "        \n",
        "        while len(self.heap) > k:\n",
        "            heapq.heappop(self.heap)\n",
        "\n",
        "    def add(self, val: int) -> int:\n",
        "        heapq.heappush(self.heap, val)\n",
        "        if len(self.heap) > self.k:\n",
        "            heapq.heappop(self.heap)\n",
        "        return self.heap[0]"
      ],
      "metadata": {
        "id": "SK86xMQd9KJK"
      },
      "execution_count": null,
      "outputs": []
    },
    {
      "cell_type": "markdown",
      "source": [
        "## 1046. Last Stone Weight\n"
      ],
      "metadata": {
        "id": "6K_YsGvGg_2V"
      }
    },
    {
      "cell_type": "code",
      "source": [
        "class Solution:\n",
        "    def lastStoneWeight(self, stones: List[int]) -> int:\n",
        "        stones =[-s for s in stones]\n",
        "        heapq.heapify(stones)\n",
        "\n",
        "        while len(stones) > 1:\n",
        "            first = heapq.heappop(stones)\n",
        "            second = heapq.heappop(stones)\n",
        "            if second > first:\n",
        "                heapq.heappush(stones, first - second)\n",
        "        stones.append(0)\n",
        "        return abs(stones[0])"
      ],
      "metadata": {
        "id": "nSHJx8vchAxq"
      },
      "execution_count": null,
      "outputs": []
    },
    {
      "cell_type": "code",
      "source": [
        "stones = [2,7,4,1,8,1]\n",
        "stones =[-s for s in stones]\n",
        "heapq.heapify(stones)\n",
        "\n",
        "while len(stones) > 1:\n",
        "    print(stones)\n",
        "    first = heapq.heappop(stones)\n",
        "    second = heapq.heappop(stones)\n",
        "    if second > first:\n",
        "        heapq.heappush(stones, first - second)\n",
        "stones.append(0)"
      ],
      "metadata": {
        "colab": {
          "base_uri": "https://localhost:8080/"
        },
        "id": "4unh9ktHijHY",
        "outputId": "476abca8-15bd-4871-8d75-32ada42d79f2"
      },
      "execution_count": null,
      "outputs": [
        {
          "output_type": "stream",
          "name": "stdout",
          "text": [
            "[-8, -7, -4, -1, -2, -1]\n",
            "[-4, -2, -1, -1, -1]\n",
            "[-2, -1, -1, -1]\n",
            "[-1, -1, -1]\n"
          ]
        }
      ]
    },
    {
      "cell_type": "code",
      "source": [
        "class Solution:\n",
        "    def lastStoneWeight(self, stones: List[int]) -> int:\n",
        "        stones.sort()\n",
        "        while stones:\n",
        "            s1 = stones.pop()  # the heaviest stone\n",
        "            if not stones:  # s1 is the remaining stone\n",
        "                return s1\n",
        "            s2 = stones.pop()  # the second-heaviest stone; s2 <= s1\n",
        "            if s1 > s2:\n",
        "                # we need to insert the remaining stone (s1-s2) into the list\n",
        "                pass\n",
        "            # else s1 == s2; both stones are destroyed\n",
        "        return 0  # if no more stones remain\n"
      ],
      "metadata": {
        "id": "TyX8dbvSipyt"
      },
      "execution_count": null,
      "outputs": []
    },
    {
      "cell_type": "code",
      "source": [
        "class Solution:\n",
        "    def lastStoneWeight(self, stones: List[int]) -> int:\n",
        "        stones.sort()\n",
        "        while stones:\n",
        "            s1 = stones.pop()  # the heaviest stone\n",
        "            if not stones:  # s1 is the remaining stone\n",
        "                return s1\n",
        "            s2 = stones.pop()  # the second-heaviest stone; s2 <= s1\n",
        "            if s1 > s2:\n",
        "                # the remaining stone will be s1-s2\n",
        "                # loop through stones to find the index to insert the stone\n",
        "                for i in range(len(stones)+1):\n",
        "                    if i == len(stones) or stones[i] >= s1-s2:\n",
        "                        stones.insert(i, s1-s2)\n",
        "                        break\n",
        "            # else s1 == s2; both stones are destroyed\n",
        "        return 0  # if no more stones remain\n"
      ],
      "metadata": {
        "id": "zAoWbgOqi97O"
      },
      "execution_count": null,
      "outputs": []
    },
    {
      "cell_type": "code",
      "source": [
        "class Solution:\n",
        "    def lastStoneWeight(self, stones: List[int]) -> int:\n",
        "        stones.sort()\n",
        "        while stones:\n",
        "            s1 = stones.pop()  # the heaviest stone\n",
        "            if not stones:  # s1 is the remaining stone\n",
        "                return s1\n",
        "            s2 = stones.pop()  # the second-heaviest stone; s2 <= s1\n",
        "            if s1 > s2:\n",
        "                # the remaining stone will be s1-s2\n",
        "                # binary-insert the remaining stone into stones\n",
        "                insort_left(stones, s1-s2)\n",
        "            # else s1 == s2; both stones are destroyed\n",
        "        return 0  # if no more stones remain\n"
      ],
      "metadata": {
        "id": "qlg0Grc6jCf5"
      },
      "execution_count": null,
      "outputs": []
    },
    {
      "cell_type": "code",
      "source": [
        "class Solution:\n",
        "    def lastStoneWeight(self, stones: List[int]) -> int:\n",
        "        # first, negate all weight values in-place\n",
        "        for i, s in enumerate(stones):\n",
        "            stones[i] = -s\n",
        "        heapify(stones)  # pass all negated values into the min-heap\n",
        "        while stones:\n",
        "            s1 = -heappop(stones)  # the heaviest stone\n",
        "            if not stones:  # s1 is the remaining stone\n",
        "                return s1\n",
        "            s2 = -heappop(stones)  # the second-heaviest stone; s2 <= s1\n",
        "            if s1 > s2:\n",
        "                heappush(stones, s2-s1)  # push the NEGATED value of s1-s2; i.e., s2-s1\n",
        "            # else s1 == s2; both stones are destroyed\n",
        "        return 0  # if no more stones remain\n"
      ],
      "metadata": {
        "id": "HxmxnufxjGBr"
      },
      "execution_count": null,
      "outputs": []
    },
    {
      "cell_type": "markdown",
      "source": [
        "## 973. K Closest Points to Origin\n"
      ],
      "metadata": {
        "id": "Rn8KsJ-2_DRs"
      }
    },
    {
      "cell_type": "code",
      "source": [
        "class Solution:\n",
        "    def kClosest(self, points: List[List[int]], k: int) -> List[List[int]]:\n",
        "        minheap = []\n",
        "        for x,y in points:\n",
        "            dist = (x ** 2) + (y ** 2)\n",
        "            minheap.append([dist, x, y])\n",
        "        \n",
        "        heapq.heapify(minheap)\n",
        "        res = [] \n",
        "        while k > 0:\n",
        "            dist , x, y = heapq.heappop(minheap)\n",
        "            res.append([x,y])\n",
        "            k -= 1\n",
        "        return res "
      ],
      "metadata": {
        "id": "VdWTAZOa_D6J"
      },
      "execution_count": null,
      "outputs": []
    },
    {
      "cell_type": "code",
      "source": [
        "class Solution:\n",
        "    def kClosest(self, points: List[List[int]], k: int) -> List[List[int]]:\n",
        "        return sorted(points, key = lambda x:  math.sqrt((x[0] * x[0]) + (x[1] * x[1]))) [:k]\n"
      ],
      "metadata": {
        "id": "2AXspWb8_iU1"
      },
      "execution_count": null,
      "outputs": []
    },
    {
      "cell_type": "code",
      "source": [
        "import heapq\n",
        "\n",
        "class Solution:\n",
        "    def kClosest(self, points: List[List[int]], k: int) -> List[List[int]]:\n",
        "        heap = []\n",
        "        for point in points:\n",
        "            distance = point[0] * point[0] + point[1] * point[1]\n",
        "            heapq.heappush(heap, (distance, point))\n",
        "        \n",
        "        result = []\n",
        "        for _ in range(k):\n",
        "            result.append(heapq.heappop(heap)[1])\n",
        "            \n",
        "        return result   \n"
      ],
      "metadata": {
        "id": "cl5lJfeQ_oCp"
      },
      "execution_count": null,
      "outputs": []
    },
    {
      "cell_type": "code",
      "source": [
        "class Solution:\n",
        "    def kClosest(self, points: List[List[int]], k: int) -> List[List[int]]:\n",
        "        distances = [(point[0] * point[0] + point[1] * point[1], point) for point in points]\n",
        "        distances.sort()\n",
        "        return [point for _, point in distances[:k]]"
      ],
      "metadata": {
        "id": "rvad0_Mo_uYu"
      },
      "execution_count": null,
      "outputs": []
    },
    {
      "cell_type": "markdown",
      "source": [
        "\n",
        "## 215. Kth Largest Element in an Array"
      ],
      "metadata": {
        "id": "pCczei9HFPKT"
      }
    },
    {
      "cell_type": "code",
      "source": [
        "class Solution:\n",
        "  def findKthLargest(self, nums: List[int], k: int) -> int:\n",
        "      k = len(nums) - k\n",
        "\n",
        "      def quickselect(l,r):\n",
        "          pivot, p = nums[r], l\n",
        "          for i in range(l,r):\n",
        "              if nums[i] <= pivot:\n",
        "                  nums[p], nums[i] = nums[i], nums[p]\n",
        "                  p += 1\n",
        "          nums[p], nums[r] = nums[r], nums[p]\n",
        "\n",
        "          if p > k : return quickselect(l, p - 1)\n",
        "          elif p < k : return quickselect(p + 1, r)\n",
        "          else: return nums[p]\n",
        "      return quickselect(0, len(nums) - 1)\n"
      ],
      "metadata": {
        "id": "PKaxHXAgGS8i"
      },
      "execution_count": null,
      "outputs": []
    },
    {
      "cell_type": "code",
      "source": [
        "class Solution:\n",
        "  def findKthLargest(self, nums: List[int], k: int) -> int:\n",
        "    minHeap = []\n",
        "\n",
        "    for num in nums:\n",
        "      heapq.heappush(minHeap, num)\n",
        "      if len(minHeap) > k:\n",
        "        heapq.heappop(minHeap)\n",
        "\n",
        "    return minHeap[0]\n"
      ],
      "metadata": {
        "id": "9X3r-cV0Fmn-"
      },
      "execution_count": null,
      "outputs": []
    },
    {
      "cell_type": "code",
      "source": [
        "class Solution:\n",
        "    def findKthLargest(self, nums: List[int], k: int) -> int:\n",
        "        nums.sort(reverse = True)\n",
        "        return nums[k-1]\n"
      ],
      "metadata": {
        "id": "VyShjnDBFPYN"
      },
      "execution_count": null,
      "outputs": []
    },
    {
      "cell_type": "code",
      "source": [
        "class Solution:\n",
        "    def findKthLargest(self, nums: List[int], k: int) -> int:\n",
        "        return self.quicksort(nums,len(nums)-k,0,len(nums)-1);\n",
        "    def quicksort(self,nums,k,a,b):\n",
        "        #partition\n",
        "        r = randint(a,b)\n",
        "        nums[r],nums[b] = nums[b],nums[r]\n",
        "        p = b  # set pivot to rightmost element\n",
        "        i , j = a , b-1 \n",
        "        while( i <= j ):\n",
        "            if( nums[i] < nums[p] ): i+=1\n",
        "            else:\n",
        "                if(nums[j] > nums[p] ): j-= 1\n",
        "                else:\n",
        "                    nums[i],nums[j] = nums[j],nums[i]\n",
        "                    i += 1;\n",
        "                    j-=1;\n",
        "        \n",
        "        nums[i],nums[p] = nums[p],nums[i]\n",
        "        if( i > k ): return self.quicksort(nums,k,a,i-1);\n",
        "        elif(i<k): return self.quicksort(nums,k,i+1,b);\n",
        "        else:  return nums[k]\n"
      ],
      "metadata": {
        "id": "RR--yxMiFgbY"
      },
      "execution_count": null,
      "outputs": []
    },
    {
      "cell_type": "markdown",
      "source": [],
      "metadata": {
        "id": "AcLmzsLmm9a7"
      }
    },
    {
      "cell_type": "code",
      "source": [
        "class Twitter:\n",
        "    def __init__(self):\n",
        "        self.count = 0\n",
        "        self.tweetMap = defaultdict(list)\n",
        "        self.followMap = defaultdict(set)\n",
        "\n",
        "    def postTweet(self, userId: int, tweetId: int) -> None:\n",
        "        self.tweetMap[userId].append([self.count, tweetId])\n",
        "        self.count -= 1 \n",
        "        \n",
        "    def getNewsFeed(self, userId: int) -> List[int]: \n",
        "        res = []\n",
        "        minHeap = []\n",
        "\n",
        "        self.followMap[userId].add(userId)\n",
        "        for followeeId in self.followMap[userId]:\n",
        "            if followeeId in self.tweetMap:\n",
        "                index = len(self.tweetMap[followeeId]) - 1\n",
        "                count, tweetId = self.tweetMap[followeeId][index]\n",
        "                minHeap.append([count, tweetId, followeeId, index - 1])\n",
        "        heapq.heapify(minHeap)\n",
        "        while minHeap and len(res) < 10:\n",
        "            count, tweetId, followeeId, index = heapq.heappop(minHeap)\n",
        "            res.append(tweetId)\n",
        "            if index >= 0:\n",
        "                count, tweetId = self.tweetMap[followeeId][index]\n",
        "                heapq.heappush(minHeap,[count, tweetId, followeeId, index - 1] )\n",
        "        return res\n",
        "\n",
        "    def follow(self, followerId: int, followeeId: int) -> None:\n",
        "        self.followMap[followerId].add(followeeId)\n",
        "        \n",
        "    def unfollow(self, followerId: int, followeeId: int) -> None:\n",
        "        if followeeId in self.followMap[followerId]:\n",
        "            self.followMap[followerId].remove(followeeId)\n"
      ],
      "metadata": {
        "id": "akJYIBZpnLQs"
      },
      "execution_count": null,
      "outputs": []
    },
    {
      "cell_type": "code",
      "source": [
        "class Twitter:\n",
        "  def __init__(self):\n",
        "    # Use itertools.count to generate a decreasing sequence of integers for tweets\n",
        "    self.timer = itertools.count(step=-1)\n",
        "    # Use defaultdict and deque to store tweets for each user\n",
        "    self.tweets = collections.defaultdict(deque)\n",
        "    # Use defaultdict and set to store followees for each user\n",
        "    self.followees = collections.defaultdict(set)\n",
        "\n",
        "  def postTweet(self, userId: int, tweetId: int) -> None:\n",
        "    # Append the tweet to the left of the deque for the user, along with its timestamp\n",
        "    self.tweets[userId].appendleft((next(self.timer), tweetId))\n",
        "    # If the deque for the user has more than 10 tweets, remove the oldest tweet from the right\n",
        "    if len(self.tweets[userId]) > 10:\n",
        "      self.tweets[userId].pop()\n",
        "\n",
        "  def getNewsFeed(self, userId: int) -> List[int]:\n",
        "    # Merge the tweets of the user's followees (including the user) using heapq.merge\n",
        "    tweets = list(heapq.merge(\n",
        "        *(self.tweets[followee] for followee in self.followees[userId] | {userId})))\n",
        "    # Return the tweet IDs of the 10 most recent tweets\n",
        "    return [tweetId for _, tweetId in tweets[:10]]\n",
        "\n",
        "  def follow(self, followerId: int, followeeId: int) -> None:\n",
        "    # Add the followee to the set of followees for the follower\n",
        "    self.followees[followerId].add(followeeId)\n",
        "\n",
        "  def unfollow(self, followerId: int, followeeId: int) -> None:\n",
        "    # Remove the followee from the set of followees for the follower (if the followee exists)\n",
        "    self.followees[followerId].discard(followeeId)\n"
      ],
      "metadata": {
        "id": "l9-lmZM3m9xg"
      },
      "execution_count": null,
      "outputs": []
    },
    {
      "cell_type": "markdown",
      "source": [
        "# Intervals\n"
      ],
      "metadata": {
        "id": "9UimjKqyCb62"
      }
    },
    {
      "cell_type": "markdown",
      "source": [
        "## 57. Insert Interval\n"
      ],
      "metadata": {
        "id": "TAe8mHZUCcs7"
      }
    },
    {
      "cell_type": "code",
      "source": [
        "class Solution:\n",
        "    def insert(self, intervals: List[List[int]], newInterval: List[int]) -> List[List[int]]:\n",
        "        res = []\n",
        "\n",
        "        for i in range(len(intervals)):\n",
        "            if newInterval[1] < intervals[i][0]:\n",
        "                res.append(newInterval)\n",
        "                return res + intervals[i:]\n",
        "            elif newInterval[0] > intervals[i][1]:\n",
        "                res.append(intervals[i])\n",
        "            else:\n",
        "                newInterval = [min(newInterval[0], intervals[i][0]), max(newInterval[1], intervals[i][1])]\n",
        "        res.append(newInterval)\n",
        "        return res"
      ],
      "metadata": {
        "id": "TPrUQxpHCdQ3"
      },
      "execution_count": null,
      "outputs": []
    },
    {
      "cell_type": "code",
      "source": [
        "class Solution:\n",
        "    def insert(self, intervals: List[List[int]], newInterval: List[int]) -> List[List[int]]:\n",
        "        result = []\n",
        "        #-1: never met\n",
        "        # 0: already interted to result\n",
        "        # 1: met, but not interted to result yet\n",
        "        meet = -1 \n",
        "\n",
        "        left = newInterval[0]\n",
        "        right = newInterval[1]\n",
        "        for interval in intervals:    \n",
        "            if interval[1] < left:\n",
        "                result.append(interval)\n",
        "            elif interval[0] > right:\n",
        "                if meet != 0:\n",
        "                    result.append([left, right])\n",
        "                    meet = 0\n",
        "                result.append(interval)\n",
        "            else:\n",
        "                left = min(interval[0], left)\n",
        "                right = max(interval[1], right)\n",
        "                meet = 1\n",
        "        if meet != 0:\n",
        "            result.append([left, right])\n",
        "        return result\n"
      ],
      "metadata": {
        "id": "ijv72aqADAgL"
      },
      "execution_count": null,
      "outputs": []
    },
    {
      "cell_type": "markdown",
      "source": [
        "## 56. Merge Intervals"
      ],
      "metadata": {
        "id": "kRtvYo_F2s42"
      }
    },
    {
      "cell_type": "code",
      "source": [
        "# intervals = [[1,3],[2,6],[8,10],[15,18]]\n",
        "class Solution:\n",
        "    def merge(self, intervals: List[List[int]]) -> List[List[int]]:\n",
        "        intervals.sort(key = lambda i : i[0]) # [[1, 3], [2, 6], [8, 10], [15, 18]]\n",
        "        output = [intervals[0]] # [[1, 3]]\n",
        "\n",
        "        for start, end in intervals[1:]:\n",
        "            print(end)\n",
        "            lastend = output[-1][1]\n",
        "\n",
        "            if start <= lastend:\n",
        "                output[-1][1] = max(lastend, end)\n",
        "            else:\n",
        "                output.append([start,end])\n",
        "        return output\n",
        "# 2 6 6\n",
        "# [[1, 6]]\n",
        "# 8 10 6\n",
        "# [[1, 6], [8, 10]]\n",
        "# 15 18 10\n",
        "# [[1, 6], [8, 10], [15, 18]]"
      ],
      "metadata": {
        "id": "c3j2YfFT22V6"
      },
      "execution_count": null,
      "outputs": []
    },
    {
      "cell_type": "code",
      "source": [
        "class Solution:\n",
        "    def overlap(self, a, b):\n",
        "        return a[0] <= b[1] and b[0] <= a[1]\n",
        "\n",
        "    # generate graph where there is an undirected edge between intervals u\n",
        "    # and v iff u and v overlap.\n",
        "    def buildGraph(self, intervals):\n",
        "        graph = collections.defaultdict(list)\n",
        "\n",
        "        for i, interval_i in enumerate(intervals):\n",
        "            for j in range(i+1, len(intervals)):\n",
        "                if self.overlap(interval_i, intervals[j]):\n",
        "                    graph[tuple(interval_i)].append(intervals[j])\n",
        "                    graph[tuple(intervals[j])].append(interval_i)\n",
        "\n",
        "        return graph\n",
        "\n",
        "    # merges all of the nodes in this connected component into one interval.\n",
        "    def mergeNodes(self, nodes):\n",
        "        min_start = min(node[0] for node in nodes)\n",
        "        max_end = max(node[1] for node in nodes)\n",
        "        return [min_start, max_end]\n",
        "\n",
        "    # gets the connected components of the interval overlap graph.\n",
        "    def getComponents(self, graph, intervals):\n",
        "        visited = set()\n",
        "        comp_number = 0\n",
        "        nodes_in_comp = collections.defaultdict(list)\n",
        "\n",
        "        def markComponentDFS(start):\n",
        "            stack = [start]\n",
        "            while stack:\n",
        "                node = tuple(stack.pop())\n",
        "                if node not in visited:\n",
        "                    visited.add(node)\n",
        "                    nodes_in_comp[comp_number].append(node)\n",
        "                    stack.extend(graph[node])\n",
        "\n",
        "        # mark all nodes in the same connected component with the same integer.\n",
        "        for interval in intervals:\n",
        "            if tuple(interval) not in visited:\n",
        "                markComponentDFS(interval)\n",
        "                comp_number += 1\n",
        "\n",
        "        return nodes_in_comp, comp_number\n",
        "\n",
        "\n",
        "    def merge(self, intervals: List[List[int]]) -> List[List[int]]:\n",
        "        graph = self.buildGraph(intervals)\n",
        "        nodes_in_comp, number_of_comps = self.getComponents(graph, intervals)\n",
        "\n",
        "        # all intervals in each connected component must be merged.\n",
        "        return [self.mergeNodes(nodes_in_comp[comp]) for comp in range(number_of_comps)]\n"
      ],
      "metadata": {
        "id": "oHY1pCoU3RT1"
      },
      "execution_count": null,
      "outputs": []
    },
    {
      "cell_type": "code",
      "source": [
        "class Solution:\n",
        "    def merge(self, intervals: List[List[int]]) -> List[List[int]]:\n",
        "\n",
        "        intervals.sort(key=lambda x: x[0])\n",
        "\n",
        "        merged = []\n",
        "        for interval in intervals:\n",
        "            # if the list of merged intervals is empty or if the current\n",
        "            # interval does not overlap with the previous, simply append it.\n",
        "            if not merged or merged[-1][1] < interval[0]:\n",
        "                merged.append(interval)\n",
        "            else:\n",
        "            # otherwise, there is overlap, so we merge the current and previous\n",
        "            # intervals.\n",
        "                merged[-1][1] = max(merged[-1][1], interval[1])\n",
        "\n",
        "        return merged"
      ],
      "metadata": {
        "id": "NSXxF8OQ4b9t"
      },
      "execution_count": null,
      "outputs": []
    },
    {
      "cell_type": "markdown",
      "source": [
        "## 435. Non-overlapping Intervals\n"
      ],
      "metadata": {
        "id": "cntYhCk5Gg1T"
      }
    },
    {
      "cell_type": "code",
      "source": [
        "class Solution:\n",
        "    def eraseOverlapIntervals(self, intervals: List[List[int]]) -> int:\n",
        "        intervals.sort()\n",
        "\n",
        "        res = 0\n",
        "        prevend = intervals[0][1]\n",
        "        for start, end in intervals[1:]:\n",
        "            if start >= prevend:\n",
        "                prevend = end \n",
        "            else:\n",
        "                res += 1\n",
        "                prevend = min(end, prevend)\n",
        "        return res "
      ],
      "metadata": {
        "id": "snWWIFNiGhH5"
      },
      "execution_count": null,
      "outputs": []
    },
    {
      "cell_type": "code",
      "source": [
        "class Solution:\n",
        "    def eraseOverlapIntervals(self, intervals: List[List[int]]) -> int:\n",
        "        intervals.sort(key=lambda x: (x[1]))\n",
        "\n",
        "        n = len(intervals)\n",
        "        ans = 0\n",
        "        c = intervals[0][1]\n",
        "\n",
        "        for i in range(n - 1):\n",
        "            if c > intervals[i + 1][0]:\n",
        "                ans += 1\n",
        "            else:\n",
        "                c = intervals[i + 1][1]\n",
        "        return ans\n"
      ],
      "metadata": {
        "id": "ZavbC_DKG1AC"
      },
      "execution_count": null,
      "outputs": []
    },
    {
      "cell_type": "code",
      "source": [
        "class Solution:\n",
        "    def eraseOverlapIntervals(self, intervals: List[List[int]]) -> int:\n",
        "        intervals.sort(key=lambda x: (x[1]))\n",
        "\n",
        "        ans = 0\n",
        "        prev = -inf\n",
        "        for st, end in intervals:\n",
        "            if st < prev:\n",
        "                ans += 1\n",
        "            else:\n",
        "                prev = end\n",
        "        return ans\n"
      ],
      "metadata": {
        "id": "feN0c8kfG4oA"
      },
      "execution_count": null,
      "outputs": []
    },
    {
      "cell_type": "markdown",
      "source": [
        "# Greedy"
      ],
      "metadata": {
        "id": "wG4IvVESLs8y"
      }
    },
    {
      "cell_type": "markdown",
      "source": [
        "## 53. Maximum Subarray\n"
      ],
      "metadata": {
        "id": "Mln_icujLuBG"
      }
    },
    {
      "cell_type": "code",
      "source": [
        "class Solution:\n",
        "    def maxSubArray(self, nums: List[int]) -> int:\n",
        "        maxsub = nums[0]\n",
        "        cursum = 0\n",
        "\n",
        "        for n in nums:\n",
        "            if cursum < 0 :\n",
        "                cursum = 0\n",
        "            cursum += n\n",
        "            maxsub = max(maxsub, cursum)\n",
        "        return maxsub"
      ],
      "metadata": {
        "id": "c-c8XPSoLtqI"
      },
      "execution_count": null,
      "outputs": []
    },
    {
      "cell_type": "code",
      "source": [
        "class Solution:\n",
        "    def maxSubArray(self, nums: List[int]) -> int:\n",
        "        n = len(nums)\n",
        "        maximumSum, currSumSubarray = float('-inf'), 0\n",
        "        for i in range(n):\n",
        "            currSumSubarray += nums[i]\n",
        "            maximumSum = max(maximumSum, currSumSubarray)\n",
        "            currSumSubarray = max(currSumSubarray, 0)\n",
        "        return maximumSum\n"
      ],
      "metadata": {
        "id": "rZLY8TsVMdwZ"
      },
      "execution_count": null,
      "outputs": []
    },
    {
      "cell_type": "markdown",
      "source": [
        "## 55. Jump Game\n"
      ],
      "metadata": {
        "id": "szPsEwj8WBZ0"
      }
    },
    {
      "cell_type": "code",
      "source": [
        "class Solution:\n",
        "    def canJump(self, nums: List[int]) -> bool:\n",
        "        goal = len(nums) - 1\n",
        "\n",
        "        for i in range(len(nums) -1, -1, -1):\n",
        "            if i + nums[i] >= goal:\n",
        "                goal = i\n",
        "        return True if goal == 0 else False "
      ],
      "metadata": {
        "id": "4Ob9TouhWBMn"
      },
      "execution_count": null,
      "outputs": []
    },
    {
      "cell_type": "code",
      "source": [
        "class Solution:\n",
        "    def canJump(self, nums, m = 0):\n",
        "        return all(i <= m and 1+(m:=max(m,i+n)) for i,n in enumerate(nums))\n"
      ],
      "metadata": {
        "id": "KDlWUzNDWLbK"
      },
      "execution_count": null,
      "outputs": []
    },
    {
      "cell_type": "code",
      "source": [
        "class Solution:\n",
        "    def canJump_(self, nums: List[int]) -> bool:\n",
        "        m = 0\n",
        "        for i,n in enumerate(nums):\n",
        "            if i > m : return False\n",
        "            m = max(m,i+n)\n",
        "        return True\n"
      ],
      "metadata": {
        "id": "5QMoraVoWU81"
      },
      "execution_count": null,
      "outputs": []
    },
    {
      "cell_type": "markdown",
      "source": [
        "## 45. Jump Game II\n"
      ],
      "metadata": {
        "id": "ZfF1Ld_RlK11"
      }
    },
    {
      "cell_type": "code",
      "source": [
        "class Solution:\n",
        "    def jump(self, nums: List[int]) -> int:\n",
        "        res = 0\n",
        "        l = r = 0\n",
        "\n",
        "        while r < len(nums) -1:\n",
        "            farthest = 0\n",
        "            for i in range(l, r+1):\n",
        "                farthest = max(farthest, i + nums[i])\n",
        "            l = r + 1\n",
        "            r = farthest\n",
        "            res += 1\n",
        "        return res "
      ],
      "metadata": {
        "id": "iJNlfNaHlKrW"
      },
      "execution_count": null,
      "outputs": []
    },
    {
      "cell_type": "code",
      "source": [
        "class Solution:\n",
        "    def jump(self, nums: List[int]) -> int:\n",
        "        # The starting range of the first jump is [0, 0]\n",
        "        answer, n = 0, len(nums)\n",
        "        cur_end, cur_far = 0, 0\n",
        "        \n",
        "        for i in range(n - 1):\n",
        "            # Update the farthest reachable index of this jump.\n",
        "            cur_far = max(cur_far, i + nums[i])\n",
        "\n",
        "            # If we finish the starting range of this jump,\n",
        "            # Move on to the starting range of the next jump.\n",
        "            if i == cur_end:\n",
        "                answer += 1\n",
        "                cur_end = cur_far\n",
        "                \n",
        "        return answer"
      ],
      "metadata": {
        "id": "tKJj2QGplsEc"
      },
      "execution_count": null,
      "outputs": []
    },
    {
      "cell_type": "markdown",
      "source": [
        "## 134. Gas Station"
      ],
      "metadata": {
        "id": "UcoUtJV13028"
      }
    },
    {
      "cell_type": "code",
      "source": [
        "class Solution:\n",
        "    def canCompleteCircuit(self, gas: List[int], cost: List[int]) -> int:\n",
        "        if sum(gas) < sum(cost):\n",
        "            return -1\n",
        "\n",
        "        total = 0 \n",
        "        res = 0\n",
        "\n",
        "        for i in range(len(gas)):\n",
        "            total += (gas[i] - cost[i])\n",
        "\n",
        "            if total < 0:\n",
        "                total = 0\n",
        "                res = i + 1\n",
        "        \n",
        "        return res "
      ],
      "metadata": {
        "id": "0GJU5qsc31XF"
      },
      "execution_count": null,
      "outputs": []
    },
    {
      "cell_type": "code",
      "source": [
        "class Solution:\n",
        "    def canCompleteCircuit(self, gas: list[int], cost: list[int]) -> int:\n",
        "        \n",
        "        if sum(gas) < sum(cost): return -1   #   Example: gas = [1,2,3,4,5]  cost = [3,4,5,1,2]\n",
        "                                             #\n",
        "        tank = idx = 0                       #   i  gas  cost   tank        start\n",
        "                                             #  ––– –––  ––––   –––––––––   –––––\n",
        "        for i in range(len(gas)):            #   start = 0              0     0\n",
        "                                             #   0   1    3    0+1-3 = -2     1    reset tank to 0, start to 0+1 = 1\n",
        "            tank+= gas[i]-cost[i]            #   1   2    4    0+2-4 = -2     2    reset tank to 0, start to 1+1 = 2 \n",
        "            if tank < 0: tank, idx = 0, i+1  #   2   3    5    0+3-5 = -2     3    reset tank to 0, start to 2+1 = 3\n",
        "                                             #   3   4    1    0+4-1 =  3     3    \n",
        "        return idx                           #   4   5    2    3+5-2 =  6     3\n",
        "                                             #\n",
        "                                             #  See explanation in problem description to verify that i = 3 works"
      ],
      "metadata": {
        "id": "t8u0KuE332Ao"
      },
      "execution_count": null,
      "outputs": []
    },
    {
      "cell_type": "code",
      "source": [
        "class Solution:\n",
        "    def canCompleteCircuit(self, gas: list[int], cost: list[int]) -> int:\n",
        "\n",
        "        diff = list(accumulate([g - c for g,c in zip(gas,cost)], initial = 0))\n",
        "\n",
        "        return diff.index(min(diff)) if diff[-1] >= 0 else -1"
      ],
      "metadata": {
        "id": "hdMBChEZ4NJW"
      },
      "execution_count": null,
      "outputs": []
    },
    {
      "cell_type": "markdown",
      "source": [
        "## 846. Hand of Straights\n"
      ],
      "metadata": {
        "id": "BqgaS0aQ-zDV"
      }
    },
    {
      "cell_type": "code",
      "source": [
        "class Solution:\n",
        "    def isNStraightHand(self, hand: List[int], groupSize: int) -> bool:\n",
        "        if len(hand) % groupSize:\n",
        "            return False\n",
        "        \n",
        "        count = {}\n",
        "        for n in hand:\n",
        "            count[n] = 1 + count.get(n,0)\n",
        "\n",
        "        minh = list(count.keys())\n",
        "        heapq.heapify(minh)\n",
        "\n",
        "        while minh:\n",
        "            first = minh[0]\n",
        "\n",
        "            for i in range(first, first + groupSize):\n",
        "                if i not in count:\n",
        "                    return False\n",
        "                count[i] -= 1\n",
        "                if count[i] == 0:\n",
        "                    if i != minh[0]:\n",
        "                        return False\n",
        "                    heapq.heappop(minh)\n",
        "        return True"
      ],
      "metadata": {
        "id": "8aUopEbY-zwO"
      },
      "execution_count": null,
      "outputs": []
    },
    {
      "cell_type": "code",
      "source": [
        "class Solution(object):\n",
        "    def isNStraightHand(self, hand, groupSize):\n",
        "       count_map = {}\n",
        "        for card in hand:\n",
        "            count_map[card] = count_map.get(card, 0) + 1\n",
        "        \n",
        "        hand.sort()\n",
        "        \n",
        "        for i in range(len(hand)):\n",
        "            if count_map[hand[i]] == 0:\n",
        "                continue\n",
        "            \n",
        "            for j in range(groupSize):\n",
        "                curr_card = hand[i] + j\n",
        "                \n",
        "                if count_map.get(curr_card, 0) == 0:\n",
        "                    return False\n",
        "                \n",
        "                count_map[curr_card] -= 1\n",
        "        \n",
        "        return True\n"
      ],
      "metadata": {
        "id": "uldWv7Ry_q8c"
      },
      "execution_count": null,
      "outputs": []
    },
    {
      "cell_type": "markdown",
      "source": [
        "## 1899. Merge Triplets to Form Target Triplet\n"
      ],
      "metadata": {
        "id": "67rQ1TstpUHK"
      }
    },
    {
      "cell_type": "code",
      "source": [
        "class Solution:\n",
        "    def mergeTriplets(self, triplets: List[List[int]], target: List[int]) -> bool:\n",
        "        good = set()\n",
        "\n",
        "        for t in triplets:\n",
        "            if t[0] > target[0] or t[1] > target[1] or t[2] > target[2]:\n",
        "                continue \n",
        "            \n",
        "            for i, v in enumerate(t):\n",
        "                if v == target[i]:\n",
        "                    good.add(i)\n",
        "        return len(good) == 3    "
      ],
      "metadata": {
        "id": "uj9T2hJUpUpT"
      },
      "execution_count": null,
      "outputs": []
    },
    {
      "cell_type": "code",
      "source": [
        "class Solution:\n",
        "    def mergeTriplets(self, triplets: List[List[int]], target: List[int]) -> bool:\n",
        "        # loop trough the triplets to find any triplet that matches to one of the num in the target\n",
        "        cur = [0] * 3\n",
        "\n",
        "        for triplet in triplets:\n",
        "            if cur == target:\n",
        "                return True\n",
        "            if (triplet[0] > target[0] or\n",
        "                triplet[1] > target[1] or\n",
        "                triplet[2] > target[2]):\n",
        "                continue\n",
        "            cur = [max(triplet[0], cur[0]), max(triplet[1], cur[1]), max(triplet[2], cur[2])]\n",
        "        return True if cur == target else False"
      ],
      "metadata": {
        "id": "2zckBnJoqAAT"
      },
      "execution_count": null,
      "outputs": []
    },
    {
      "cell_type": "markdown",
      "source": [],
      "metadata": {
        "id": "ejigCbe0wB4L"
      }
    },
    {
      "cell_type": "code",
      "source": [
        "class Solution:\n",
        "    def partitionLabels(self, s: str) -> List[int]:\n",
        "        lastindex = {}\n",
        "\n",
        "        for i , c in enumerate(s):\n",
        "            lastindex[c] = i\n",
        "\n",
        "        res = []\n",
        "        size, end = 0, 0 \n",
        "        for i, c in enumerate(s):\n",
        "            size += 1\n",
        "            end = max(end, lastindex[c])\n",
        "\n",
        "            if i == end:\n",
        "                res.append(size)\n",
        "                size = 0\n",
        "        return res "
      ],
      "metadata": {
        "id": "N_l1-IvmwCQM"
      },
      "execution_count": null,
      "outputs": []
    },
    {
      "cell_type": "code",
      "source": [
        "class Solution(object):\n",
        "    def partitionLabels(self, S):\n",
        "        last = {c: i for i, c in enumerate(S)}\n",
        "        j = anchor = 0\n",
        "        ans = []\n",
        "        for i, c in enumerate(S):\n",
        "            j = max(j, last[c])\n",
        "            if i == j:\n",
        "                ans.append(i - anchor + 1)\n",
        "                anchor = i + 1\n",
        "            \n",
        "        return ans"
      ],
      "metadata": {
        "id": "VCMp5WZLwUx1"
      },
      "execution_count": null,
      "outputs": []
    },
    {
      "cell_type": "markdown",
      "source": [
        "## 678. Valid Parenthesis String\n"
      ],
      "metadata": {
        "id": "kb4N485l-YoX"
      }
    },
    {
      "cell_type": "code",
      "source": [
        "class Solution:\n",
        "    def checkValidString(self, s: str) -> bool:\n",
        "        leftmin, leftmax = 0, 0\n",
        "\n",
        "        for c in s:\n",
        "            if c == \"(\":\n",
        "                leftmin, leftmax = leftmin + 1, leftmax + 1\n",
        "            elif c ==\")\":\n",
        "                leftmin, leftmax = leftmin -1 , leftmax -1\n",
        "            else:\n",
        "                leftmin, leftmax = leftmin - 1, leftmax + 1\n",
        "            if leftmax < 0:\n",
        "                return False\n",
        "            if leftmin <0:\n",
        "                leftmin = 0\n",
        "        return leftmin == 0"
      ],
      "metadata": {
        "id": "OvnMYGvb-Y6l"
      },
      "execution_count": null,
      "outputs": []
    },
    {
      "cell_type": "code",
      "source": [
        "class Solution(object):\n",
        "    def checkValidString(self, s):\n",
        "        if not s: return True\n",
        "        A = list(s)\n",
        "        self.ans = False\n",
        "\n",
        "        def solve(i):\n",
        "            if i == len(A):\n",
        "                self.ans |= valid()\n",
        "            elif A[i] == '*':\n",
        "                for c in '() ':\n",
        "                    A[i] = c\n",
        "                    solve(i+1)\n",
        "                    if self.ans: return\n",
        "                A[i] = '*'\n",
        "            else:\n",
        "                solve(i+1)\n",
        "\n",
        "        def valid():\n",
        "            bal = 0\n",
        "            for x in A:\n",
        "                if x == '(': bal += 1\n",
        "                if x == ')': bal -= 1\n",
        "                if bal < 0: break\n",
        "            return bal == 0\n",
        "\n",
        "        solve(0)\n",
        "        return self.ans"
      ],
      "metadata": {
        "id": "3k2y16c8-0VS"
      },
      "execution_count": null,
      "outputs": []
    },
    {
      "cell_type": "code",
      "source": [
        "class Solution(object):\n",
        "    def checkValidString(self, s):\n",
        "        if not s: return True\n",
        "        LEFTY, RIGHTY = '(*', ')*'\n",
        "\n",
        "        n = len(s)\n",
        "        dp = [[False] * n for _ in s]\n",
        "        for i in xrange(n):\n",
        "            if s[i] == '*':\n",
        "                dp[i][i] = True\n",
        "            if i < n-1 and s[i] in LEFTY and s[i+1] in RIGHTY:\n",
        "                dp[i][i+1] = True\n",
        "\n",
        "        for size in xrange(2, n):\n",
        "            for i in xrange(n - size):\n",
        "                if s[i] == '*' and dp[i+1][i+size]:\n",
        "                    dp[i][i+size] = True\n",
        "                elif s[i] in LEFTY:\n",
        "                    for k in xrange(i+1, i+size+1):\n",
        "                        if (s[k] in RIGHTY and\n",
        "                                (k == i+1 or dp[i+1][k-1]) and\n",
        "                                (k == i+size or dp[k+1][i+size])):\n",
        "                            dp[i][i+size] = True\n",
        "\n",
        "        return dp[0][-1]"
      ],
      "metadata": {
        "id": "Wkn1ocZc-23r"
      },
      "execution_count": null,
      "outputs": []
    },
    {
      "cell_type": "code",
      "source": [
        "class Solution(object):\n",
        "    def checkValidString(self, s):\n",
        "        lo = hi = 0\n",
        "        for c in s:\n",
        "            lo += 1 if c == '(' else -1\n",
        "            hi += 1 if c != ')' else -1\n",
        "            if hi < 0: break\n",
        "            lo = max(lo, 0)\n",
        "\n",
        "        return lo == 0"
      ],
      "metadata": {
        "id": "D4zWrYo_-5lX"
      },
      "execution_count": null,
      "outputs": []
    },
    {
      "cell_type": "markdown",
      "source": [
        "# Backtracking\n"
      ],
      "metadata": {
        "id": "oa3MmbS0JAEc"
      }
    },
    {
      "cell_type": "markdown",
      "source": [
        "## 78. Subsets\n"
      ],
      "metadata": {
        "id": "MgGs05v6Jz3g"
      }
    },
    {
      "cell_type": "code",
      "source": [
        "class Solution:\n",
        "    def subsets(self, nums: List[int]) -> List[List[int]]:\n",
        "        res = []\n",
        "        \n",
        "        subset = []\n",
        "        def dfs(i):\n",
        "            if i >= len(nums):\n",
        "                res.append(subset.copy())\n",
        "                return\n",
        "\n",
        "            subset.append(nums[i])\n",
        "            dfs(i+1)\n",
        "\n",
        "            subset.pop()\n",
        "            dfs(i + 1)\n",
        "        dfs(0)\n",
        "        return res "
      ],
      "metadata": {
        "id": "8YPrRXKyJAYc"
      },
      "execution_count": null,
      "outputs": []
    },
    {
      "cell_type": "code",
      "source": [
        "class Solution:\n",
        "    def subsets(self, nums: List[int]) -> List[List[int]]:\n",
        "        n = len(nums)\n",
        "        output = [[]]\n",
        "        \n",
        "        for num in nums:\n",
        "            output += [curr + [num] for curr in output]\n",
        "        \n",
        "        return output"
      ],
      "metadata": {
        "id": "YNSZX4DuJdB8"
      },
      "execution_count": null,
      "outputs": []
    },
    {
      "cell_type": "code",
      "source": [
        "class Solution:\n",
        "    def subsets(self, nums: List[int]) -> List[List[int]]:\n",
        "        def backtrack(first = 0, curr = []):\n",
        "            # if the combination is done\n",
        "            if len(curr) == k:  \n",
        "                output.append(curr[:])\n",
        "                return\n",
        "            for i in range(first, n):\n",
        "                # add nums[i] into the current combination\n",
        "                curr.append(nums[i])\n",
        "                # use next integers to complete the combination\n",
        "                backtrack(i + 1, curr)\n",
        "                # backtrack\n",
        "                curr.pop()\n",
        "        \n",
        "        output = []\n",
        "        n = len(nums)\n",
        "        for k in range(n + 1):\n",
        "            backtrack()\n",
        "        return output"
      ],
      "metadata": {
        "id": "e1WE-HK5Jocd"
      },
      "execution_count": null,
      "outputs": []
    },
    {
      "cell_type": "code",
      "source": [
        "class Solution:\n",
        "    def subsets(self, nums: List[int]) -> List[List[int]]:\n",
        "        n = len(nums)\n",
        "        output = []\n",
        "        \n",
        "        for i in range(2**n, 2**(n + 1)):\n",
        "            # generate bitmask, from 0..00 to 1..11\n",
        "            bitmask = bin(i)[3:]\n",
        "            \n",
        "            # append subset corresponding to that bitmask\n",
        "            output.append([nums[j] for j in range(n) if bitmask[j] == '1'])\n",
        "        \n",
        "        return output"
      ],
      "metadata": {
        "id": "YzdZgbCmJv8V"
      },
      "execution_count": null,
      "outputs": []
    },
    {
      "cell_type": "markdown",
      "source": [
        "## 39. Combination Sum\n"
      ],
      "metadata": {
        "id": "xDtly7xPwsJH"
      }
    },
    {
      "cell_type": "code",
      "source": [
        "class Solution:\n",
        "    def combinationSum(self, candidates: List[int], target: int) -> List[List[int]]:\n",
        "        res = []\n",
        "\n",
        "        def dfs(i, cur, total):\n",
        "            if total == target:\n",
        "                res.append(cur.copy())\n",
        "                return \n",
        "            if i >= len(candidates) or total > target:\n",
        "                return\n",
        "\n",
        "            cur.append(candidates[i])\n",
        "            dfs(i, cur, total + candidates[i])\n",
        "            cur.pop()\n",
        "            dfs(i + 1, cur, total)\n",
        "        dfs(0, [], 0)\n",
        "        return res "
      ],
      "metadata": {
        "id": "0GNpJGnxwsm2"
      },
      "execution_count": null,
      "outputs": []
    },
    {
      "cell_type": "code",
      "source": [
        "class Solution(object):\n",
        "    def combinationSum(self, candidates, target):\n",
        "        ret = []\n",
        "        self.dfs(candidates, target, [], ret)\n",
        "        return ret\n",
        "    \n",
        "    def dfs(self, nums, target, path, ret):\n",
        "        if target < 0:\n",
        "            return \n",
        "        if target == 0:\n",
        "            ret.append(path)\n",
        "            return \n",
        "        for i in range(len(nums)):\n",
        "            self.dfs(nums[i:], target-nums[i], path+[nums[i]], ret)\n"
      ],
      "metadata": {
        "id": "tmNLPP_kxL-B"
      },
      "execution_count": null,
      "outputs": []
    },
    {
      "cell_type": "markdown",
      "source": [
        "## 46. Permutations\n"
      ],
      "metadata": {
        "id": "Ut99z3NEGwJP"
      }
    },
    {
      "cell_type": "code",
      "source": [
        "class Solution:\n",
        "    def permute(self, nums: List[int]) -> List[List[int]]:\n",
        "        result = []\n",
        "\n",
        "        if (len(nums) == 1):\n",
        "            return [nums.copy()]\n",
        "        \n",
        "        for i in range(len(nums)):\n",
        "            n = nums.pop(0)\n",
        "            perms = self.permute(nums)\n",
        "\n",
        "            for perm in perms:\n",
        "                perm.append(n)\n",
        "            result.extend(perms)\n",
        "            nums.append(n)\n",
        "        return result"
      ],
      "metadata": {
        "id": "3rDfmxekGwmx"
      },
      "execution_count": null,
      "outputs": []
    },
    {
      "cell_type": "code",
      "source": [
        "def permute(self, nums):\n",
        "\t# helper\n",
        "\tdef recursive(nums, perm=[], res=[]):\n",
        "\t\tif not nums: # -- NOTE [1] \n",
        "\t\t\tres.append(perm[::]) #  -- NOTE [2] - append a copy of the perm at the leaf before we start popping/backtracking\n",
        "\n",
        "\t\tfor i in range(len(nums)): # [1,2,3]\n",
        "\t\t\tnewNums = nums[:i] + nums[i+1:]\n",
        "\t\t\tperm.append(nums[i])\n",
        "\t\t\trecursive(newNums, perm, res) # - recursive call will make sure I reach the leaf\n",
        "\t\t\tperm.pop() # -- NOTE [3] \n",
        "\t\treturn res\n",
        "\n",
        "return recursive(nums)\n"
      ],
      "metadata": {
        "id": "PXwx7pptHw96"
      },
      "execution_count": null,
      "outputs": []
    },
    {
      "cell_type": "code",
      "source": [
        "def recursive(nums, perm=[], res=[]):\n",
        "        \n",
        "            if not nums: \n",
        "                res.append(perm) # --- no need to copy as we are not popping/backtracking. Instead we're passing a new variable each time \n",
        "\n",
        "            for i in range(len(nums)): \n",
        "                newNums = nums[:i] + nums[i+1:]\n",
        "                # perm.append(nums[i]) # --- instead of appending to the same variable\n",
        "                newPerm = perm + [nums[i]] # --- new copy of the data/variable\n",
        "                recursive(newNums, newPerm, res) \n",
        "                # perm.pop()  # --- no need to backtrack\n",
        "            return res\n",
        "        \n",
        "        return recursive(nums)\n"
      ],
      "metadata": {
        "id": "-h8ayHR5H8-d"
      },
      "execution_count": null,
      "outputs": []
    },
    {
      "cell_type": "code",
      "source": [
        "def recursive(nums):\n",
        "\t stack = [(nums, [])]   # -- nums, path (or perms)\n",
        "\t res = []\n",
        "\t while stack:\n",
        "\t\t nums, path = stack.pop()\n",
        "\t\t if not nums:\n",
        "\t\t\t res.append(path)\n",
        "\t\t for i in range(len(nums)):   # -- NOTE [4]\n",
        "\t\t\t newNums = nums[:i] + nums[i+1:]\n",
        "\t\t\t stack.append((newNums, path+[nums[i]]))  # --  just like we used to do (path + [node.val]) in tree traversal\n",
        "\t return res\n"
      ],
      "metadata": {
        "id": "PCXJrPNOH_TK"
      },
      "execution_count": null,
      "outputs": []
    },
    {
      "cell_type": "code",
      "source": [
        "def recursive(nums):\n",
        "\tfrom collections import deque\n",
        "\tq = deque()\n",
        "\tq.append((nums, []))  # -- nums, path (or perms)\n",
        "\tres = []\n",
        "\twhile q:\n",
        "\t\tnums, path = q.popleft()\n",
        "\t\tif not nums:\n",
        "\t\t\tres.append(path)\n",
        "\t\tfor i in range(len(nums)):\n",
        "\t\t\tnewNums = nums[:i] + nums[i+1:]\n",
        "\t\t\tq.append((newNums, path+[nums[i]]))\n",
        "\treturn res\n"
      ],
      "metadata": {
        "id": "qzxOD9i1ICKN"
      },
      "execution_count": null,
      "outputs": []
    },
    {
      "cell_type": "markdown",
      "source": [
        "## 90. Subsets II\n"
      ],
      "metadata": {
        "id": "GtiHkOg6QM0N"
      }
    },
    {
      "cell_type": "code",
      "source": [
        "class Solution:\n",
        "    def subsetsWithDup(self, nums: List[int]) -> List[List[int]]:\n",
        "        res = []\n",
        "        nums.sort()\n",
        "\n",
        "        def backtrack(i, subset):\n",
        "            if i == len(nums):\n",
        "                res.append(subset[::])\n",
        "                return\n",
        "        \n",
        "            subset.append(nums[i])\n",
        "            backtrack(i + 1 , subset)\n",
        "            subset.pop()\n",
        "\n",
        "            while i + 1 < len(nums) and nums[i] == nums[i+1] :\n",
        "                i += 1\n",
        "            backtrack(i + 1, subset)\n",
        "        backtrack(0, [])\n",
        "        return res \n"
      ],
      "metadata": {
        "id": "PV2mIkE_ICE5"
      },
      "execution_count": null,
      "outputs": []
    },
    {
      "cell_type": "code",
      "source": [
        "    def subsetsWithDup(self, nums: List[int]) -> List[List[int]]:\n",
        "        powerset =[[]]\n",
        "        hmap = Counter(nums);\n",
        "        for key in hmap.keys():\n",
        "            l = len(powerset)\n",
        "            for i in range(0,len(powerset)):\n",
        "                k = 0\n",
        "                while( k < hmap[key] ):\n",
        "                    k+=1\n",
        "                    powerset.append(list(powerset[i]+k*[key]));\n",
        "        return powerset ;\n"
      ],
      "metadata": {
        "id": "An4rS3RpQtaK"
      },
      "execution_count": null,
      "outputs": []
    },
    {
      "cell_type": "markdown",
      "source": [
        "## 40. Combination Sum II\n"
      ],
      "metadata": {
        "id": "I1ncyjTqVlI7"
      }
    },
    {
      "cell_type": "code",
      "source": [
        "class Solution:\n",
        "    def combinationSum2(self, candidates: List[int], target: int) -> List[List[int]]:\n",
        "        candidates.sort()\n",
        "\n",
        "        res = []\n",
        "\n",
        "        def backtrack(cur, pos, target):\n",
        "            if target == 0:\n",
        "                res.append(cur.copy())\n",
        "            if target <= 0:\n",
        "                return\n",
        "            \n",
        "            prev = -1 \n",
        "            for i in range(pos, len(candidates)):\n",
        "                if candidates[i] == prev:\n",
        "                    continue\n",
        "                cur.append(candidates[i])\n",
        "                backtrack(cur, i + 1, target - candidates[i])\n",
        "                cur.pop()\n",
        "                prev = candidates[i]\n",
        "        backtrack([], 0, target)\n",
        "        return res "
      ],
      "metadata": {
        "id": "bEb_dk5DV_lK"
      },
      "execution_count": null,
      "outputs": []
    },
    {
      "cell_type": "code",
      "source": [
        "class Solution:\n",
        "    def combinationSum2(self, candidates: List[int], target: int) -> List[List[int]]:\n",
        "\n",
        "        def backtrack(comb, remain, curr, counter, results):\n",
        "            if remain == 0:\n",
        "                # make a deep copy of the current combination\n",
        "                #   rather than keeping the reference.\n",
        "                results.append(list(comb))\n",
        "                return\n",
        "            elif remain < 0:\n",
        "                return\n",
        "\n",
        "            for next_curr in range(curr, len(counter)):\n",
        "                candidate, freq = counter[next_curr]\n",
        "\n",
        "                if freq <= 0:\n",
        "                    continue\n",
        "\n",
        "                # add a new element to the current combination\n",
        "                comb.append(candidate)\n",
        "                counter[next_curr] = (candidate, freq-1)\n",
        "\n",
        "                # continue the exploration with the updated combination\n",
        "                backtrack(comb, remain - candidate, next_curr, counter, results)\n",
        "\n",
        "                # backtrack the changes, so that we can try another candidate\n",
        "                counter[next_curr] = (candidate, freq)\n",
        "                comb.pop()\n",
        "\n",
        "        results = []  # container to hold the final combinations\n",
        "        counter = Counter(candidates)\n",
        "        # convert the counter table to a list of (num, count) tuples\n",
        "        counter = [(c, counter[c]) for c in counter]\n",
        "\n",
        "        backtrack(comb = [], remain = target, curr = 0,\n",
        "                  counter = counter, results = results)\n",
        "\n",
        "        return results"
      ],
      "metadata": {
        "id": "gJx5D6m8Wf__"
      },
      "execution_count": null,
      "outputs": []
    },
    {
      "cell_type": "markdown",
      "source": [
        "## 79. Word Search\n"
      ],
      "metadata": {
        "id": "U6kMwXw9ytTL"
      }
    },
    {
      "cell_type": "code",
      "source": [
        "class Solution:\n",
        "    def exist(self, board: List[List[str]], word: str) -> bool:\n",
        "        rows, cols = len(board), len(board[0])\n",
        "        path = set()\n",
        "\n",
        "        def dfs(r, c, i):\n",
        "            if i == len(word):\n",
        "                return True\n",
        "            if (r < 0 or c < 0 or \n",
        "                r >= rows or c >= cols or\n",
        "                word[i] != board[r][c] or\n",
        "                (r,c) in path):\n",
        "                return False\n",
        "            \n",
        "            path.add((r,c))\n",
        "            res = (dfs(r + 1, c, i+1) or\n",
        "                   dfs(r - 1, c, i + 1) or \n",
        "                   dfs(r, c + 1, i + 1) or \n",
        "                   dfs(r, c - 1, i + 1))\n",
        "            path.remove((r,c))\n",
        "            return res \n",
        "        for r in range(rows):\n",
        "            for c in range(cols):\n",
        "                if dfs(r, c, 0): return True\n",
        "        return False"
      ],
      "metadata": {
        "id": "ZYBpk8WByvdM"
      },
      "execution_count": null,
      "outputs": []
    },
    {
      "cell_type": "code",
      "source": [
        "class Solution:\n",
        "    def exist(self, board: List[List[str]], word: str) -> bool:\n",
        "        ans = False\n",
        "        m, n = len(board[0]), len(board)\n",
        "        dir = [[-1, 0], [0, 1], [1, 0], [0, -1]]\n",
        "\n",
        "        def backtracking(c, r, cnt, visited):\n",
        "            if cnt == len(word):\n",
        "                nonlocal ans\n",
        "                ans = True\n",
        "                return\n",
        "\n",
        "            for x, y in dir:\n",
        "                new_c, new_r = c + x, r + y\n",
        "                if (new_c < 0 or new_c >= n) or (new_r < 0 or new_r >= m):\n",
        "                    continue\n",
        "                if board[new_c][new_r] == word[cnt] and [new_c, new_r] not in visited:\n",
        "                    backtracking(new_c, new_r, cnt + 1, visited + [[new_c, new_r]])\n",
        "\n",
        "        for c in range(n):\n",
        "            for r in range(m):\n",
        "                if ans == False and board[c][r] == word[0]:\n",
        "                    backtracking(c, r, 1, [[c, r]])\n",
        "        return ans\n"
      ],
      "metadata": {
        "id": "BlohU8E9yvUF"
      },
      "execution_count": null,
      "outputs": []
    },
    {
      "cell_type": "markdown",
      "source": [
        "## 131. Palindrome Partitioning\n"
      ],
      "metadata": {
        "id": "Yxvi8G0iEbhH"
      }
    },
    {
      "cell_type": "code",
      "source": [
        "class Solution:\n",
        "    def partition(self, s: str) -> List[List[str]]:\n",
        "        res = []\n",
        "        part = []\n",
        "\n",
        "        def dfs(i) :\n",
        "            if i >= len(s):\n",
        "                res.append(part.copy())\n",
        "                return\n",
        "            for j in range(i, len(s)):\n",
        "                if self.isPali(s, i, j):\n",
        "                    part.append(s[i:j+1])\n",
        "                    dfs(j + 1)\n",
        "                    part.pop()\n",
        "\n",
        "        dfs(0)\n",
        "        return res\n",
        "    \n",
        "    def isPali(self, s, l, r):\n",
        "        while l < r:\n",
        "            if s[l] != s[r]:\n",
        "                return False\n",
        "            l, r = l+1, r-1\n",
        "        return True"
      ],
      "metadata": {
        "id": "DZGgBmnFEbyG"
      },
      "execution_count": null,
      "outputs": []
    },
    {
      "cell_type": "code",
      "source": [
        "class Solution:\n",
        "    def dp(self,i,s,st):\n",
        "        if i>=len(s):\n",
        "            self.lst.append(tuple(st))\n",
        "            return \n",
        "        for j in range(i,len(s)):\n",
        "            if s[i:j+1]==''.join(reversed(s[i:j+1])):\n",
        "                st.append(s[i:j+1])\n",
        "                x=self.dp(j+1,s,st)\n",
        "                st.pop()\n",
        "        return\n",
        "    def partition(self, s: str) -> List[List[str]]:\n",
        "        self.lst=[]\n",
        "        self.dp(0,s,[])\n",
        "        return self.lst\n"
      ],
      "metadata": {
        "id": "zxRaOWwGFMBq"
      },
      "execution_count": null,
      "outputs": []
    },
    {
      "cell_type": "markdown",
      "source": [
        "## 17. Letter Combinations of a Phone Number"
      ],
      "metadata": {
        "id": "SLTgidfeSuFd"
      }
    },
    {
      "cell_type": "code",
      "source": [
        "class Solution:\n",
        "    def letterCombinations(self, digits: str) -> List[str]:\n",
        "        res = []\n",
        "        digittochar = m = {\"2\":\"abc\", '3':\"def\", '4':\"ghi\", '5':\"jkl\", '6':\"mno\", '7':\"pqrs\", '8':\"tuv\", '9':\"wxyz\"}\n",
        "\n",
        "        def backtrack(i, curstr):\n",
        "            if len(curstr) == len(digits):\n",
        "                res.append(curstr)\n",
        "                return\n",
        "            for c in digittochar[digits[i]]:\n",
        "                backtrack(i + 1, curstr + c)\n",
        "            \n",
        "        if digits:\n",
        "            backtrack(0, \"\")\n",
        "        return res \n"
      ],
      "metadata": {
        "id": "kLr_qPcgTmni"
      },
      "execution_count": null,
      "outputs": []
    },
    {
      "cell_type": "code",
      "source": [
        "\"class Solution(object):\n",
        "    def letterCombinations(self, digits):\n",
        "        if not digits:\n",
        "            return []\n",
        "        m = {\"2\":\"abc\", '3':\"def\", '4':\"ghi\", '5':\"jkl\", '6':\"mno\", '7':\"pqrs\", '8':\"tuv\", '9':\"wxyz\"}\n",
        "        ret = []\n",
        "        self.dfs(m, digits, \"\", ret)\n",
        "        return ret\n",
        "    \n",
        "    def dfs(self, m, digits, path, ret):\n",
        "        if not digits:\n",
        "            ret.append(path)\n",
        "            return \n",
        "        for c in m[digits[0]]:\n",
        "            self.dfs(m, digits[1:], path+c, ret)\n"
      ],
      "metadata": {
        "id": "wbdqWppkS_0S"
      },
      "execution_count": null,
      "outputs": []
    },
    {
      "cell_type": "code",
      "source": [
        "KEY_MAP = {\n",
        "    \"2\": [\"a\", \"b\", \"c\"],\n",
        "    \"3\": [\"d\", \"e\", \"f\"],\n",
        "    \"4\": [\"g\", \"h\", \"i\"],\n",
        "    \"5\": [\"j\", \"k\", \"l\"],\n",
        "    \"6\": [\"m\", \"n\", \"o\"],\n",
        "    \"7\": [\"p\", \"q\", \"r\", \"s\"],\n",
        "    \"8\": [\"t\", \"u\", \"v\"],\n",
        "    \"9\": [\"w\", \"x\", \"y\", \"z\"],\n",
        "}\n",
        "\n",
        "class Solution:\n",
        "    def letterCombinations(self, digits: str) -> List[str]:\n",
        "        mnemonicsFound = []\n",
        "        currentMnemonics = [\"None\" for _ in range(len(digits))]\n",
        "\n",
        "        stack = [(0, digits, currentMnemonics)]\n",
        "\n",
        "        while stack:\n",
        "            idx, digits, currentMnemonics = stack.pop()\n",
        "\n",
        "            if idx == len(digits):\n",
        "                mnemonics = \"\".join(currentMnemonics)\n",
        "                mnemonicsFound.append(mnemonics)\n",
        "\n",
        "            else:\n",
        "                digit = digits[idx]\n",
        "                letters = KEY_MAP[digit]\n",
        "\n",
        "                for letter in letters:\n",
        "                    currentMnemonics[idx] = letter\n",
        "                    stack.append((idx + 1, digits , currentMnemonics[:]))\n",
        "\n",
        "        return mnemonicsFound if digits != \"\" else []\n"
      ],
      "metadata": {
        "id": "gT3tY5wYSzVA"
      },
      "execution_count": null,
      "outputs": []
    },
    {
      "cell_type": "markdown",
      "source": [
        "# Graphs"
      ],
      "metadata": {
        "id": "DHvWwTWvCLt5"
      }
    },
    {
      "cell_type": "markdown",
      "source": [
        "## 200. Number of Islands\n"
      ],
      "metadata": {
        "id": "YGhAz3lcCNNT"
      }
    },
    {
      "cell_type": "code",
      "source": [
        "class Solution:\n",
        "    def numIslands(self, grid: List[List[str]]) -> int:\n",
        "        if not grid:\n",
        "            return 0\n",
        "        \n",
        "        rows, cols = len(grid), len(grid[0])\n",
        "        visit = set()\n",
        "        islands = 0\n",
        "\n",
        "        def bfs(r,c):\n",
        "            q = collections.deque()\n",
        "            visit.add((r,c))\n",
        "            q.append((r,c))\n",
        "            while q:\n",
        "                row, col = q.popleft()\n",
        "                directions = [[1,0], [-1,0], [0,1], [0,-1]]\n",
        "                for dr, dc in directions:\n",
        "                    r, c = row +dr, col + dc\n",
        "                    if (r in range(rows) and \n",
        "                        c in range(cols) and\n",
        "                        grid[r][c] == \"1\" and\n",
        "                        (r,c) not in visit):\n",
        "                        q.append((r,c))\n",
        "                        visit.add((r,c))\n",
        "        for r in range(rows):\n",
        "            for c in range(cols):\n",
        "                if grid[r][c] == \"1\" and (r,c) not in visit:\n",
        "                    bfs(r,c)\n",
        "                    islands += 1\n",
        "        return islands"
      ],
      "metadata": {
        "id": "2tIgxUeYCXun"
      },
      "execution_count": null,
      "outputs": []
    },
    {
      "cell_type": "code",
      "source": [
        "def numIslands(self, grid):\n",
        "    if not grid:\n",
        "        return 0\n",
        "        \n",
        "    count = 0\n",
        "    for i in range(len(grid)):\n",
        "        for j in range(len(grid[0])):\n",
        "            if grid[i][j] == '1':\n",
        "                self.dfs(grid, i, j)\n",
        "                count += 1\n",
        "    return count\n",
        "\n",
        "def dfs(self, grid, i, j):\n",
        "    if i<0 or j<0 or i>=len(grid) or j>=len(grid[0]) or grid[i][j] != '1':\n",
        "        return\n",
        "    grid[i][j] = '#'\n",
        "    self.dfs(grid, i+1, j)\n",
        "    self.dfs(grid, i-1, j)\n",
        "    self.dfs(grid, i, j+1)\n",
        "    self.dfs(grid, i, j-1)\n"
      ],
      "metadata": {
        "id": "VddncEP2DJK-"
      },
      "execution_count": null,
      "outputs": []
    },
    {
      "cell_type": "markdown",
      "source": [
        "## 695. Max Area of Island\n"
      ],
      "metadata": {
        "id": "VmgOjC2pP-cG"
      }
    },
    {
      "cell_type": "code",
      "source": [
        "class Solution:\n",
        "    def maxAreaOfIsland(self, grid: List[List[int]]) -> int:\n",
        "        rows, cols = len(grid), len(grid[0])\n",
        "        visit = set()\n",
        "\n",
        "        def dfs(r,c):\n",
        "            if (r <0 or r == rows or c <0 or c == cols or \n",
        "                grid[r][c] == 0 or (r,c) in visit):\n",
        "                return 0 \n",
        "            visit.add((r,c))\n",
        "            return ( 1 + dfs(r+1, c) + \n",
        "                        dfs(r - 1, c) + \n",
        "                        dfs(r, c + 1) + \n",
        "                        dfs(r, c - 1))\n",
        "        area = 0\n",
        "        for r in range(rows):\n",
        "            for c in range(cols):\n",
        "                area = max(area, dfs(r,c))\n",
        "        return area"
      ],
      "metadata": {
        "id": "d9pgVgbeP-61"
      },
      "execution_count": null,
      "outputs": []
    },
    {
      "cell_type": "code",
      "source": [
        "class Solution(object):\n",
        "    def maxAreaOfIsland(self, grid):\n",
        "        seen = set()\n",
        "        def area(r, c):\n",
        "            if not (0 <= r < len(grid) and 0 <= c < len(grid[0])\n",
        "                    and (r, c) not in seen and grid[r][c]):\n",
        "                return 0\n",
        "            seen.add((r, c))\n",
        "            return (1 + area(r+1, c) + area(r-1, c) +\n",
        "                    area(r, c-1) + area(r, c+1))\n",
        "\n",
        "        return max(area(r, c)\n",
        "                   for r in range(len(grid))\n",
        "                   for c in range(len(grid[0])))"
      ],
      "metadata": {
        "id": "s33Ogv8UQeqq"
      },
      "execution_count": null,
      "outputs": []
    },
    {
      "cell_type": "code",
      "source": [
        "class Solution(object):\n",
        "    def maxAreaOfIsland(self, grid):\n",
        "        seen = set()\n",
        "        ans = 0\n",
        "        for r0, row in enumerate(grid):\n",
        "            for c0, val in enumerate(row):\n",
        "                if val and (r0, c0) not in seen:\n",
        "                    shape = 0\n",
        "                    stack = [(r0, c0)]\n",
        "                    seen.add((r0, c0))\n",
        "                    while stack:\n",
        "                        r, c = stack.pop()\n",
        "                        shape += 1\n",
        "                        for nr, nc in ((r-1, c), (r+1, c), (r, c-1), (r, c+1)):\n",
        "                            if (0 <= nr < len(grid) and 0 <= nc < len(grid[0])\n",
        "                                    and grid[nr][nc] and (nr, nc) not in seen):\n",
        "                                stack.append((nr, nc))\n",
        "                                seen.add((nr, nc))\n",
        "                    ans = max(ans, shape)\n",
        "        return ans"
      ],
      "metadata": {
        "id": "TX0JQ9QyQlnk"
      },
      "execution_count": null,
      "outputs": []
    },
    {
      "cell_type": "markdown",
      "source": [
        "# 1-Dynamic Programming"
      ],
      "metadata": {
        "id": "_S1oU5_mZe4G"
      }
    },
    {
      "cell_type": "markdown",
      "source": [
        "## 70. Climbing Stairs\n"
      ],
      "metadata": {
        "id": "XyWHZD_IZiXt"
      }
    },
    {
      "cell_type": "code",
      "source": [
        "class Solution:\n",
        "    def climbStairs(self, n: int) -> int:\n",
        "        one, two = 1, 1\n",
        "\n",
        "        for i in range(n -1):\n",
        "            temp = one\n",
        "            one = one + two\n",
        "            two = temp\n",
        "        return one"
      ],
      "metadata": {
        "id": "weYtAh-GZh5n"
      },
      "execution_count": null,
      "outputs": []
    },
    {
      "cell_type": "code",
      "source": [
        "class Solution(object):\n",
        "    def climbStairs(self, n):\n",
        "        \"\"\"\n",
        "        :type n: int\n",
        "        :rtype: int\n",
        "        \"\"\"\n",
        "         def climb(n):\n",
        "             if n==1: #only one step option is availble\n",
        "                 return 1\n",
        "             if n ==2: # two options are possible : to take two 1-stpes or to only take one 2-steps\n",
        "                 return 2\n",
        "             return climb(n-1) + climb(n-2)\n",
        "         return climb(n)\n"
      ],
      "metadata": {
        "id": "ekqXBPEsZ3ps"
      },
      "execution_count": null,
      "outputs": []
    },
    {
      "cell_type": "code",
      "source": [
        "class Solution(object):\n",
        "    def climbStairs(self, n):\n",
        "        \"\"\"\n",
        "        :type n: int\n",
        "        :rtype: int\n",
        "        \"\"\"\n",
        "        memo ={}\n",
        "        memo[1] = 1\n",
        "        memo[2] = 2\n",
        "        \n",
        "        def climb(n):\n",
        "            if n in memo: # if the recurssion already done before first take a look-up in the look-up table\n",
        "                return memo[n]\n",
        "            else:   # Store the recurssion function in the look-up table and reuturn the stored look-up table function\n",
        "                memo[n] =  climb(n-1) + climb(n-2)\n",
        "                return memo[n]\n",
        "        \n",
        "        return climb(n)\n"
      ],
      "metadata": {
        "id": "ehvuICgzZ4Hg"
      },
      "execution_count": null,
      "outputs": []
    },
    {
      "cell_type": "code",
      "source": [
        "def climb(n):\n",
        "    #edge cases\n",
        "    if n==0: return 0\n",
        "    if n==1: return 1\n",
        "    if n==2: return 2\n",
        "    dp = [0]*(n+1) # considering zero steps we need n+1 places\n",
        "    dp[1]= 1\n",
        "    dp[2] = 2\n",
        "    for i in range(3,n+1):\n",
        "        dp[i] = dp[i-1] +dp[i-2]\n",
        "    print(dp)\n",
        "    return dp[n]\n"
      ],
      "metadata": {
        "id": "LV0aO3BlZ-5v"
      },
      "execution_count": null,
      "outputs": []
    },
    {
      "cell_type": "markdown",
      "source": [
        "# "
      ],
      "metadata": {
        "id": "zG4jvlYbbyYZ"
      }
    },
    {
      "cell_type": "code",
      "source": [
        "class Solution:\n",
        "    def minCostClimbingStairs(self, cost: List[int]) -> int:\n",
        "        cost.append(0)\n",
        "        \n",
        "        for i in range(len(cost) - 3, -1, -1):\n",
        "            cost[i] += min(cost[i+1], cost[i+2])\n",
        "\n",
        "        return min(cost[0], cost[1])"
      ],
      "metadata": {
        "id": "zgEFRQYpbzVT"
      },
      "execution_count": null,
      "outputs": []
    },
    {
      "cell_type": "code",
      "source": [
        " def minCostClimbingStairs(self, cost: List[int]) -> int:\n",
        "        # identify what is changing from subproblems to subproblems: \n",
        "        # n - step #n    dp(n) - min cost to get to step #n \n",
        "        def dp(n):  \n",
        "            # write down base cases\n",
        "            if n < 2: \n",
        "                return cost[n] \n",
        "            # write recursive function based on what you can change (climb one or two steps)\n",
        "            return cost[n] + min(dp(n-1), dp(n-2))\n",
        "\t\t\n",
        "\t\t# since we want to know the min cost to get to the final step, we use the code below \n",
        "        length = len(cost) \n",
        "        return min(dp(length-1), dp(length-2))\n"
      ],
      "metadata": {
        "id": "knVBrN2KcH7T"
      },
      "execution_count": null,
      "outputs": []
    },
    {
      "cell_type": "markdown",
      "source": [
        "# Gr"
      ],
      "metadata": {
        "id": "It7f6h_cIWfj"
      }
    },
    {
      "cell_type": "markdown",
      "source": [
        "## W_01"
      ],
      "metadata": {
        "id": "3TDcL0JHIZpi"
      }
    },
    {
      "cell_type": "markdown",
      "source": [
        "### Two Sum *\n"
      ],
      "metadata": {
        "id": "06wvoTWmRYoG"
      }
    },
    {
      "cell_type": "code",
      "source": [
        "class Solution:\n",
        "    def twoSum(self, nums: List[int], target: int) -> List[int]:\n",
        "        \n",
        "        for i in range(len(nums)):\n",
        "            for j in range(i+1 , len(nums)):\n",
        "                if nums[i] + nums[j] == target:\n",
        "                    return [i,j]"
      ],
      "metadata": {
        "id": "IzYHLVS3IV7Z"
      },
      "execution_count": null,
      "outputs": []
    },
    {
      "cell_type": "code",
      "source": [
        "class Solution:\n",
        "    def twoSum(self, nums: List[int], target: int) -> List[int]:\n",
        "        hashmap = {}\n",
        "        for i in range(len(nums)):\n",
        "            hashmap[nums[i]] = i\n",
        "        for i in range(len(nums)):\n",
        "            complement = target - nums[i]\n",
        "            if complement in hashmap and hashmap[complement] != i:\n",
        "                return [i, hashmap[complement]] "
      ],
      "metadata": {
        "id": "YuiJdl8YIR0r"
      },
      "execution_count": null,
      "outputs": []
    },
    {
      "cell_type": "markdown",
      "source": [
        "### Valid Parentheses "
      ],
      "metadata": {
        "id": "uc35qfy8Vcet"
      }
    },
    {
      "cell_type": "code",
      "source": [
        "class Solution:\n",
        "    def isValid(self, s: str) -> bool:\n",
        "\n",
        "        res = [] \n",
        "        brac = {}\n",
        "        brac[')'] = '('\n",
        "        brac['}'] = '}'\n",
        "        brac[']'] = ']'\n",
        "\n",
        "        for i in s:\n",
        "            if i in brac.values():\n",
        "                res.append(i)\n",
        "            elif len(res) == 0 or brac[res.pop()] != i:\n",
        "                return False \n",
        "        return len(res) == 0"
      ],
      "metadata": {
        "id": "x1mBIqO7Ve_6"
      },
      "execution_count": null,
      "outputs": []
    },
    {
      "cell_type": "code",
      "source": [
        "class Solution:\n",
        "    def isValid(self, s: str) -> bool:\n",
        "        stack = []\n",
        "        for char in s:\n",
        "            if char == '(' or char == '{' or char == '[':\n",
        "                stack.append(char)\n",
        "            else:\n",
        "                if not stack:\n",
        "                    return False\n",
        "                if char == ')' and stack[-1] == '(':\n",
        "                    stack.pop()\n",
        "                elif char == '}' and stack[-1] == '{':\n",
        "                    stack.pop()\n",
        "                elif char == ']' and stack[-1] == '[':\n",
        "                    stack.pop()\n",
        "                else:\n",
        "                    return False\n",
        "        return not stack\n"
      ],
      "metadata": {
        "id": "k454zYnuVf7U"
      },
      "execution_count": null,
      "outputs": []
    },
    {
      "cell_type": "markdown",
      "source": [
        "### Best Time to Buy and Sell Stock \n"
      ],
      "metadata": {
        "id": "hcH5HjoISWMr"
      }
    },
    {
      "cell_type": "code",
      "source": [
        "max_profit = 0\n",
        "min_price = float('inf')  # 초기 최소 가격을 무한대로 설정\n",
        "\n",
        "for price in prices:\n",
        "    min_price = min(min_price, price)  # 현재까지의 최소 가격 갱신\n",
        "    max_profit = max(max_profit, price - min_price)  # 현재까지의 최대 이익 갱신\n",
        "max_profit\n",
        "\n",
        "prices = [7,1,5,3,6,4]\n",
        "\n",
        "n = len(prices)\n",
        "if n < 2:\n",
        "    print(0)  # 주어진 가격이 2개 미만일 경우 최대 이익은 0\n",
        "else:\n",
        "    dp = [0] * n  # 동적 계획법을 위한 배열 초기화\n",
        "    min_price = prices[0]  # 초기 최소 가격 설정\n",
        "\n",
        "    for i in range(1, n):\n",
        "        min_price = min(min_price, prices[i])  # 현재까지의 최소 가격 갱신\n",
        "        dp[i] = max(dp[i-1], prices[i] - min_price)  # 현재까지의 최대 이익 갱신\n",
        "\n",
        "    print(dp[-1])  # 마지막 인덱스에 저장된 최대 이익 출력\n"
      ],
      "metadata": {
        "id": "4RuX8VJaSbMh"
      },
      "execution_count": null,
      "outputs": []
    },
    {
      "cell_type": "markdown",
      "source": [
        "### Valid Palindrome "
      ],
      "metadata": {
        "id": "EkisloRySLcA"
      }
    },
    {
      "cell_type": "code",
      "source": [
        "class Solution:\n",
        "    def isPalindrome(self, s: str) -> bool:\n",
        "        res = ''\n",
        "        for i in s:\n",
        "            if i.isalnum():  \n",
        "                res += i.lower()\n",
        "        return res == res[::-1]"
      ],
      "metadata": {
        "id": "QPtwwixVSMuG"
      },
      "execution_count": null,
      "outputs": []
    },
    {
      "cell_type": "markdown",
      "source": [
        "### Invert Binary Tree\n"
      ],
      "metadata": {
        "id": "QVtZP2HPQspk"
      }
    },
    {
      "cell_type": "code",
      "source": [
        "# Definition for a binary tree node.\n",
        "class TreeNode(object):\n",
        "    def __init__(self, val=0, left=None, right=None):\n",
        "        self.val = val\n",
        "        self.left = left\n",
        "        self.right = right\n",
        "\n",
        "class Solution(object):\n",
        "    def invertTree(self, root):\n",
        "        if root is None:\n",
        "            return None\n",
        "        # 현재 노드의 좌우 자식 노드를 상하 반전하여 바꿈\n",
        "        root.left, root.right = root.right, root.left\n",
        "        # 좌우 자식 노드도 재귀적으로 상하 반전 수행\n",
        "        self.invertTree(root.left)\n",
        "        self.invertTree(root.right)\n",
        "        return root\n",
        "\n",
        "# 트리 구조 생성\n",
        "root = TreeNode(4)\n",
        "root.left = TreeNode(2)\n",
        "root.right = TreeNode(7)\n",
        "root.left.left = TreeNode(1)\n",
        "root.left.right = TreeNode(3)\n",
        "root.right.left = TreeNode(6)\n",
        "root.right.right = TreeNode(9)\n",
        "\n",
        "# 상하 반전 수행\n",
        "solution = Solution()\n",
        "inverted_root = solution.invertTree(root)\n",
        "\n",
        "# 결과 확인\n",
        "result = []\n",
        "def inorder_traversal(node):\n",
        "    if node is None:\n",
        "        return\n",
        "    inorder_traversal(node.left)\n",
        "    result.append(node.val)\n",
        "    inorder_traversal(node.right)\n",
        "\n",
        "inorder_traversal(inverted_root)\n",
        "print(result)  # Output: [4, 7, 2, 9, 6, 3, 1] / [9, 7, 6, 4, 3, 2, 1]\n"
      ],
      "metadata": {
        "id": "p6uS6jwPQ2kU"
      },
      "execution_count": null,
      "outputs": []
    },
    {
      "cell_type": "markdown",
      "source": [
        "### Flood Fill\n"
      ],
      "metadata": {
        "id": "7XB79rdJcOag"
      }
    },
    {
      "cell_type": "code",
      "source": [
        "class Solution:\n",
        "    def floodFill(self, image, sr, sc, newColor):\n",
        "        if image[sr][sc] == newColor:\n",
        "            return image\n",
        "\n",
        "        def dfs(image, row, col, oldColor, newColor):\n",
        "            if row < 0 or row >= len(image) or col < 0 or col >= len(image[0]) or image[row][col] != oldColor:\n",
        "                return\n",
        "            image[row][col] = newColor\n",
        "            dfs(image, row+1, col, oldColor, newColor)\n",
        "            dfs(image, row-1, col, oldColor, newColor)\n",
        "            dfs(image, row, col+1, oldColor, newColor)\n",
        "            dfs(image, row, col-1, oldColor, newColor)\n",
        "\n",
        "        oldColor = image[sr][sc]\n",
        "        dfs(image, sr, sc, oldColor, newColor)\n",
        "        return image\n"
      ],
      "metadata": {
        "id": "KFbFmvEmcQ8M"
      },
      "execution_count": null,
      "outputs": []
    }
  ]
}