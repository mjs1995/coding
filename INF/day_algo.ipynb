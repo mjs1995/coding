{
  "nbformat": 4,
  "nbformat_minor": 0,
  "metadata": {
    "colab": {
      "provenance": [],
      "authorship_tag": "ABX9TyMRvp6LDiwVPCa21+eIpEF7",
      "include_colab_link": true
    },
    "kernelspec": {
      "name": "python3",
      "display_name": "Python 3"
    },
    "language_info": {
      "name": "python"
    },
    "gpuClass": "standard"
  },
  "cells": [
    {
      "cell_type": "markdown",
      "metadata": {
        "id": "view-in-github",
        "colab_type": "text"
      },
      "source": [
        "<a href=\"https://colab.research.google.com/github/mjs1995/coding/blob/main/INF/day_algo.ipynb\" target=\"_parent\"><img src=\"https://colab.research.google.com/assets/colab-badge.svg\" alt=\"Open In Colab\"/></a>"
      ]
    },
    {
      "cell_type": "markdown",
      "source": [
        "## 234. Palindrome Linked List"
      ],
      "metadata": {
        "id": "zH7Cc7C1PlXh"
      }
    },
    {
      "cell_type": "code",
      "execution_count": null,
      "metadata": {
        "id": "diXqDC8cOIMO"
      },
      "outputs": [],
      "source": [
        "class Solution:\n",
        "    def insert_stack(self, head):\n",
        "        stack_rev = []\n",
        "        while(head):\n",
        "            stack_rev.append(head.val)\n",
        "            head = head.next\n",
        "        return stack_rev\n",
        " \n",
        "    def isPalindrome(self, head: ListNode) -> bool:\n",
        "        if head == None:\n",
        "            return True\n",
        "        stack_rev = self.insert_stack(head)\n",
        "        while(head):\n",
        "            if(head.val == stack_rev.pop()):\n",
        "                head = head.next\n",
        "            else:\n",
        "                return False\n",
        "        return True\n",
        "\n",
        "# ListNode{val: 1, next: ListNode{val: 2, next: ListNode{val: 2, next: ListNode{val: 1, next: None}}}}\n",
        "# ListNode{val: 2, next: ListNode{val: 2, next: ListNode{val: 1, next: None}}}\n",
        "# ListNode{val: 2, next: ListNode{val: 1, next: None}}\n",
        "# ListNode{val: 1, next: None}"
      ]
    },
    {
      "cell_type": "markdown",
      "source": [
        "# Arrays & Hashing"
      ],
      "metadata": {
        "id": "jiI13Gfs1rFu"
      }
    },
    {
      "cell_type": "markdown",
      "source": [
        "## 217. Contains Duplicate"
      ],
      "metadata": {
        "id": "VlssCazByz5G"
      }
    },
    {
      "cell_type": "code",
      "source": [
        "nums = [1,2,3,1]\n",
        "if list(set([x for x in nums if nums.count(x) > 1 ])): \n",
        "    print(True)\n",
        "else:\n",
        "    print(False)"
      ],
      "metadata": {
        "colab": {
          "base_uri": "https://localhost:8080/"
        },
        "id": "S1spXGzGyzpe",
        "outputId": "a256fe75-4d7f-4fc5-c7ef-dbe69a001c25"
      },
      "execution_count": 10,
      "outputs": [
        {
          "output_type": "stream",
          "name": "stdout",
          "text": [
            "True\n"
          ]
        }
      ]
    },
    {
      "cell_type": "code",
      "source": [
        "from collections import Counter\n",
        "duplicates = [item for item, count in Counter(nums).items() if count > 1]\n",
        "duplicates"
      ],
      "metadata": {
        "colab": {
          "base_uri": "https://localhost:8080/"
        },
        "id": "t28jkOpzy81E",
        "outputId": "25548a6b-ed1d-49a1-eada-ca312914f40a"
      },
      "execution_count": 15,
      "outputs": [
        {
          "output_type": "execute_result",
          "data": {
            "text/plain": [
              "[1]"
            ]
          },
          "metadata": {},
          "execution_count": 15
        }
      ]
    },
    {
      "cell_type": "code",
      "source": [
        "from collections import Counter\n",
        "class Solution:\n",
        "    def containsDuplicate(self, nums: List[int]) -> bool:\n",
        "        if [item for item, count in Counter(nums).items() if count > 1]: \n",
        "            return True\n",
        "        else:\n",
        "            return False"
      ],
      "metadata": {
        "colab": {
          "base_uri": "https://localhost:8080/"
        },
        "id": "lnkcdxOu0TeY",
        "outputId": "08be58f4-b555-4453-9f13-76708b71f592"
      },
      "execution_count": 17,
      "outputs": [
        {
          "output_type": "execute_result",
          "data": {
            "text/plain": [
              "dict_items([(1, 2), (2, 1), (3, 1)])"
            ]
          },
          "metadata": {},
          "execution_count": 17
        }
      ]
    },
    {
      "cell_type": "code",
      "source": [
        "from collections import Counter\n",
        "class Solution:\n",
        "    def containsDuplicate(self, nums: List[int]) -> bool:\n",
        "        hashset = set() \n",
        "        for n in nums:\n",
        "            if n in hashset:\n",
        "                return True \n",
        "            hashset.add(n)\n",
        "        return False "
      ],
      "metadata": {
        "id": "bZ-d-Dze1b0q"
      },
      "execution_count": null,
      "outputs": []
    },
    {
      "cell_type": "markdown",
      "source": [
        "## 242. Valid Anagram\n"
      ],
      "metadata": {
        "id": "Bf5WYZSK5Wv4"
      }
    },
    {
      "cell_type": "code",
      "source": [
        "from collections import Counter \n",
        "s = \"anagram\"\n",
        "t = \"nagaram\"\n",
        "sorted(s) == sorted(t)"
      ],
      "metadata": {
        "colab": {
          "base_uri": "https://localhost:8080/"
        },
        "id": "wd9DqIeM5XKp",
        "outputId": "7688126e-2e88-4824-8ad0-e40c120e37c9"
      },
      "execution_count": 10,
      "outputs": [
        {
          "output_type": "execute_result",
          "data": {
            "text/plain": [
              "True"
            ]
          },
          "metadata": {},
          "execution_count": 10
        }
      ]
    },
    {
      "cell_type": "code",
      "source": [
        "if len(s) != len(t):\n",
        "    print(False)\n",
        "countS, countT = {}, {} \n",
        "for i in range(len(s)):\n",
        "    countS[s[i]] = 1 + countS.get(s[i], 0)\n",
        "    countT[t[i]] = 1 + countT.get(t[i], 0)\n",
        "for c in countS:\n",
        "    if countS[c] != countT.get(c,0):\n",
        "        print(false)\n",
        "countS"
      ],
      "metadata": {
        "colab": {
          "base_uri": "https://localhost:8080/"
        },
        "id": "81gZJrQ67PN9",
        "outputId": "835339d0-acdc-4ca2-ed69-6ee05e34f153"
      },
      "execution_count": 17,
      "outputs": [
        {
          "output_type": "execute_result",
          "data": {
            "text/plain": [
              "{'a': 3, 'n': 1, 'g': 1, 'r': 1, 'm': 1}"
            ]
          },
          "metadata": {},
          "execution_count": 17
        }
      ]
    },
    {
      "cell_type": "code",
      "source": [
        "class Solution:\n",
        "    def isAnagram(self, s: str, t: str) -> bool:\n",
        "        return sorted(s) == sorted(t)"
      ],
      "metadata": {
        "colab": {
          "base_uri": "https://localhost:8080/"
        },
        "id": "aY00wToV5qs9",
        "outputId": "89a632e3-c408-4264-b69a-2f5bfd87ad4a"
      },
      "execution_count": 3,
      "outputs": [
        {
          "output_type": "execute_result",
          "data": {
            "text/plain": [
              "Counter({'n': 1, 'a': 3, 'g': 1, 'r': 1, 'm': 1})"
            ]
          },
          "metadata": {},
          "execution_count": 3
        }
      ]
    },
    {
      "cell_type": "code",
      "source": [
        "class Solution:\n",
        "    def isAnagram(self, s: str, t: str) -> bool:\n",
        "        return Counter(s) == Counter(t)"
      ],
      "metadata": {
        "id": "T8YqWP1g68kD"
      },
      "execution_count": null,
      "outputs": []
    },
    {
      "cell_type": "code",
      "source": [],
      "metadata": {
        "id": "9XrIeeNG7Mpi"
      },
      "execution_count": null,
      "outputs": []
    }
  ]
}