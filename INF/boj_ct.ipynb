{
  "nbformat": 4,
  "nbformat_minor": 0,
  "metadata": {
    "colab": {
      "name": "boj_ct.ipynb",
      "provenance": [],
      "authorship_tag": "ABX9TyPnvI4aSoPCkZgEC7vX6V/T",
      "include_colab_link": true
    },
    "kernelspec": {
      "name": "python3",
      "display_name": "Python 3"
    },
    "language_info": {
      "name": "python"
    },
    "gpuClass": "standard"
  },
  "cells": [
    {
      "cell_type": "markdown",
      "metadata": {
        "id": "view-in-github",
        "colab_type": "text"
      },
      "source": [
        "<a href=\"https://colab.research.google.com/github/mjs1995/coding/blob/main/INF/boj_ct.ipynb\" target=\"_parent\"><img src=\"https://colab.research.google.com/assets/colab-badge.svg\" alt=\"Open In Colab\"/></a>"
      ]
    },
    {
      "cell_type": "markdown",
      "source": [
        "## 1935_후위 표기식2"
      ],
      "metadata": {
        "id": "zpZn7dnwkBrb"
      }
    },
    {
      "cell_type": "code",
      "execution_count": 2,
      "metadata": {
        "colab": {
          "base_uri": "https://localhost:8080/"
        },
        "id": "Qa7JoDUCkAGM",
        "outputId": "76486df7-d7c1-4678-eaf8-19d8b17f5cee"
      },
      "outputs": [
        {
          "name": "stdout",
          "output_type": "stream",
          "text": [
            "5\n",
            "ABC*+DE/-\n",
            "1\n",
            "2\n",
            "3\n",
            "4\n",
            "5\n"
          ]
        }
      ],
      "source": [
        "# 5\n",
        "# ABC*+DE/-\n",
        "# 1\n",
        "# 2\n",
        "# 3\n",
        "# 4\n",
        "# 5\n",
        "\n",
        "N = int(input())\n",
        "li = input()\n",
        "alpha = [0] * N\n",
        "for i in range(N):\n",
        "    alpha[i] = int(input())"
      ]
    },
    {
      "cell_type": "code",
      "source": [
        "stack = []\n",
        "for i in li:\n",
        "    if 'A' <= i <= 'Z':\n",
        "        stack.append(alpha[ord(i) - ord('A')])\n",
        "    else:\n",
        "        # print(stack)\n",
        "        # print(i)\n",
        "        str2 = stack.pop()\n",
        "        # print('@',str2)\n",
        "        str1 = stack.pop()\n",
        "        # print(str1)\n",
        "        if i == '+':\n",
        "            stack.append(str1 + str2)\n",
        "        elif i == '-':\n",
        "            stack.append(str1 - str2)\n",
        "        elif i == '*':\n",
        "            stack.append(str1 * str2)\n",
        "        elif i == '/':\n",
        "            stack.append(str1 / str2)\n",
        "    # print(stack)\n",
        "print('%.2f' % stack[0])"
      ],
      "metadata": {
        "colab": {
          "base_uri": "https://localhost:8080/"
        },
        "id": "kd8uGwrBkefM",
        "outputId": "5a433945-2c3f-4d0d-b19f-e89b234fed90"
      },
      "execution_count": 18,
      "outputs": [
        {
          "output_type": "stream",
          "name": "stdout",
          "text": [
            "[1]\n",
            "[1, 2]\n",
            "[1, 2, 3]\n",
            "[1, 6]\n",
            "[7]\n",
            "[7, 4]\n",
            "[7, 4, 5]\n",
            "[7, 0.8]\n",
            "[6.2]\n",
            "6.20\n"
          ]
        }
      ]
    },
    {
      "cell_type": "code",
      "source": [
        "N = int(input())\n",
        "li = input()\n",
        "alpha = [0] * N\n",
        "for i in range(N):\n",
        "    alpha[i] = int(input())\n",
        "    \n",
        "stack = []\n",
        "for i in li:\n",
        "    if 'A' <= i <= 'Z':\n",
        "        stack.append(alpha[ord(i) - ord('A')])\n",
        "    else:\n",
        "        # print(stack)\n",
        "        # print(i)\n",
        "        str2 = stack.pop()\n",
        "        # print('@',str2)\n",
        "        str1 = stack.pop()\n",
        "        # print(str1)\n",
        "        if i == '+':\n",
        "            stack.append(str1 + str2)\n",
        "        elif i == '-':\n",
        "            stack.append(str1 - str2)\n",
        "        elif i == '*':\n",
        "            stack.append(str1 * str2)\n",
        "        elif i == '/':\n",
        "            stack.append(str1 / str2)\n",
        "    # print(stack)\n",
        "print('%.2f' % stack[0])"
      ],
      "metadata": {
        "colab": {
          "base_uri": "https://localhost:8080/"
        },
        "id": "sovXxrMqkuYR",
        "outputId": "0bc7e70e-0f21-41c8-bc5b-a293e980ec7e"
      },
      "execution_count": 6,
      "outputs": [
        {
          "output_type": "execute_result",
          "data": {
            "text/plain": [
              "[1, 2, 3, 4, 5]"
            ]
          },
          "metadata": {},
          "execution_count": 6
        }
      ]
    }
  ]
}