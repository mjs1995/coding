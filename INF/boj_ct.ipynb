{
  "nbformat": 4,
  "nbformat_minor": 0,
  "metadata": {
    "colab": {
      "name": "boj_ct.ipynb",
      "provenance": [],
      "authorship_tag": "ABX9TyMw44CoTOgAlAVdmmCkKquB",
      "include_colab_link": true
    },
    "kernelspec": {
      "name": "python3",
      "display_name": "Python 3"
    },
    "language_info": {
      "name": "python"
    },
    "gpuClass": "standard"
  },
  "cells": [
    {
      "cell_type": "markdown",
      "metadata": {
        "id": "view-in-github",
        "colab_type": "text"
      },
      "source": [
        "<a href=\"https://colab.research.google.com/github/mjs1995/coding/blob/main/INF/boj_ct.ipynb\" target=\"_parent\"><img src=\"https://colab.research.google.com/assets/colab-badge.svg\" alt=\"Open In Colab\"/></a>"
      ]
    },
    {
      "cell_type": "markdown",
      "source": [
        "# Data Structre (자료구조)\n"
      ],
      "metadata": {
        "id": "jPhJxxzQmljR"
      }
    },
    {
      "cell_type": "markdown",
      "source": [
        "## 1935_후위 표기식2"
      ],
      "metadata": {
        "id": "zpZn7dnwkBrb"
      }
    },
    {
      "cell_type": "code",
      "execution_count": null,
      "metadata": {
        "colab": {
          "base_uri": "https://localhost:8080/"
        },
        "id": "Qa7JoDUCkAGM",
        "outputId": "76486df7-d7c1-4678-eaf8-19d8b17f5cee"
      },
      "outputs": [
        {
          "name": "stdout",
          "output_type": "stream",
          "text": [
            "5\n",
            "ABC*+DE/-\n",
            "1\n",
            "2\n",
            "3\n",
            "4\n",
            "5\n"
          ]
        }
      ],
      "source": [
        "# 5\n",
        "# ABC*+DE/-\n",
        "# 1\n",
        "# 2\n",
        "# 3\n",
        "# 4\n",
        "# 5\n",
        "\n",
        "N = int(input())\n",
        "li = input()\n",
        "alpha = [0] * N\n",
        "for i in range(N):\n",
        "    alpha[i] = int(input())"
      ]
    },
    {
      "cell_type": "code",
      "source": [
        "stack = []\n",
        "for i in li:\n",
        "    if 'A' <= i <= 'Z':\n",
        "        stack.append(alpha[ord(i) - ord('A')])\n",
        "    else:\n",
        "        # print(stack)\n",
        "        # print(i)\n",
        "        str2 = stack.pop()\n",
        "        # print('@',str2)\n",
        "        str1 = stack.pop()\n",
        "        # print(str1)\n",
        "        if i == '+':\n",
        "            stack.append(str1 + str2)\n",
        "        elif i == '-':\n",
        "            stack.append(str1 - str2)\n",
        "        elif i == '*':\n",
        "            stack.append(str1 * str2)\n",
        "        elif i == '/':\n",
        "            stack.append(str1 / str2)\n",
        "    # print(stack)\n",
        "print('%.2f' % stack[0])"
      ],
      "metadata": {
        "colab": {
          "base_uri": "https://localhost:8080/"
        },
        "id": "kd8uGwrBkefM",
        "outputId": "5a433945-2c3f-4d0d-b19f-e89b234fed90"
      },
      "execution_count": null,
      "outputs": [
        {
          "output_type": "stream",
          "name": "stdout",
          "text": [
            "[1]\n",
            "[1, 2]\n",
            "[1, 2, 3]\n",
            "[1, 6]\n",
            "[7]\n",
            "[7, 4]\n",
            "[7, 4, 5]\n",
            "[7, 0.8]\n",
            "[6.2]\n",
            "6.20\n"
          ]
        }
      ]
    },
    {
      "cell_type": "code",
      "source": [
        "N = int(input())\n",
        "li = input()\n",
        "alpha = [0] * N\n",
        "for i in range(N):\n",
        "    alpha[i] = int(input())\n",
        "    \n",
        "stack = []\n",
        "for i in li:\n",
        "    if 'A' <= i <= 'Z':\n",
        "        stack.append(alpha[ord(i) - ord('A')])\n",
        "    else:\n",
        "        # print(stack)\n",
        "        # print(i)\n",
        "        str2 = stack.pop()\n",
        "        # print('@',str2)\n",
        "        str1 = stack.pop()\n",
        "        # print(str1)\n",
        "        if i == '+':\n",
        "            stack.append(str1 + str2)\n",
        "        elif i == '-':\n",
        "            stack.append(str1 - str2)\n",
        "        elif i == '*':\n",
        "            stack.append(str1 * str2)\n",
        "        elif i == '/':\n",
        "            stack.append(str1 / str2)\n",
        "    # print(stack)\n",
        "print('%.2f' % stack[0])"
      ],
      "metadata": {
        "colab": {
          "base_uri": "https://localhost:8080/"
        },
        "id": "sovXxrMqkuYR",
        "outputId": "0bc7e70e-0f21-41c8-bc5b-a293e980ec7e"
      },
      "execution_count": null,
      "outputs": [
        {
          "output_type": "execute_result",
          "data": {
            "text/plain": [
              "[1, 2, 3, 4, 5]"
            ]
          },
          "metadata": {},
          "execution_count": 6
        }
      ]
    },
    {
      "cell_type": "markdown",
      "source": [
        "## 10799_쇠막대기"
      ],
      "metadata": {
        "id": "YQFJa7okiP7W"
      }
    },
    {
      "cell_type": "code",
      "source": [
        "li = list(input())"
      ],
      "metadata": {
        "colab": {
          "base_uri": "https://localhost:8080/"
        },
        "id": "uMQ61ohuiTad",
        "outputId": "20dfa774-0f09-4362-9ac2-dbbb073dedce"
      },
      "execution_count": null,
      "outputs": [
        {
          "name": "stdout",
          "output_type": "stream",
          "text": [
            "()(((()())(())()))(())\n"
          ]
        }
      ]
    },
    {
      "cell_type": "code",
      "source": [
        "answer = 0\n",
        "st = []\n",
        "\n",
        "for i in range(len(li)):\n",
        "    if li[i] == '(':\n",
        "        st.append('(')\n",
        "    else:\n",
        "        if li[i-1] == '(':\n",
        "            st.pop()\n",
        "            answer += len(st)\n",
        "            # print(st)\n",
        "        else:\n",
        "            st.pop()\n",
        "            # print(st)\n",
        "            answer += 1\n",
        "print(answer)"
      ],
      "metadata": {
        "colab": {
          "base_uri": "https://localhost:8080/"
        },
        "id": "JmDq3LSsidCX",
        "outputId": "4c34fbb1-7730-4806-edc0-b0c8485e02b4"
      },
      "execution_count": null,
      "outputs": [
        {
          "output_type": "stream",
          "name": "stdout",
          "text": [
            "[]\n",
            "['(', '(', '(']\n",
            "['(', '(', '(']\n",
            "['(', '(']\n",
            "['(', '(', '(']\n",
            "['(', '(']\n",
            "['(', '(']\n",
            "['(']\n",
            "[]\n",
            "['(']\n",
            "[]\n",
            "17\n"
          ]
        }
      ]
    },
    {
      "cell_type": "markdown",
      "source": [
        "## 2346_풍선 터뜨리기"
      ],
      "metadata": {
        "id": "pZpd0YlGkFeM"
      }
    },
    {
      "cell_type": "code",
      "source": [
        "from collections import deque\n",
        "N = int(input())\n",
        "s = list(map(int,input().split()))"
      ],
      "metadata": {
        "colab": {
          "base_uri": "https://localhost:8080/"
        },
        "id": "rafTtKfgjD4I",
        "outputId": "c4a257c4-1cc9-47a1-f88c-c7b5ac2c84fc"
      },
      "execution_count": null,
      "outputs": [
        {
          "name": "stdout",
          "output_type": "stream",
          "text": [
            "5\n",
            "3 2 1 -3 -1\n"
          ]
        }
      ]
    },
    {
      "cell_type": "code",
      "source": [
        "dq = deque()\n",
        "for i, k in enumerate(s,1):\n",
        "    dq.append([i,k])\n",
        "dq"
      ],
      "metadata": {
        "colab": {
          "base_uri": "https://localhost:8080/"
        },
        "id": "QVBFJtkDjDxQ",
        "outputId": "472f89c3-bb9f-4516-b530-89bb87ca1493"
      },
      "execution_count": null,
      "outputs": [
        {
          "output_type": "execute_result",
          "data": {
            "text/plain": [
              "deque([[1, 3], [2, 2], [3, 1], [4, -3], [5, -1]])"
            ]
          },
          "metadata": {},
          "execution_count": 27
        }
      ]
    },
    {
      "cell_type": "code",
      "source": [
        "answer  = []\n",
        "while dq:\n",
        "    idx, move = dq.popleft()\n",
        "    answer.append(idx)\n",
        "    if len(dq) == 1:\n",
        "        answer.append(dq.pop()[0])\n",
        "    else:\n",
        "        if move > 0:\n",
        "            for _ in range(move - 1):\n",
        "                dq.append(dq.popleft())\n",
        "        else:\n",
        "            for _ in range(abs(move)):\n",
        "                dq.appendleft(dq.pop())\n",
        "print(answer)"
      ],
      "metadata": {
        "colab": {
          "base_uri": "https://localhost:8080/"
        },
        "id": "pa4VAi9hk0BS",
        "outputId": "6e6b2599-ab46-418c-c357-50a7d2f102fa"
      },
      "execution_count": null,
      "outputs": [
        {
          "output_type": "stream",
          "name": "stdout",
          "text": [
            "[1, 4, 5, 3, 2]\n"
          ]
        }
      ]
    },
    {
      "cell_type": "code",
      "source": [
        " from collections import deque\n",
        "N = int(input())\n",
        "s = list(map(int,input().split()))\n",
        "dq = deque()\n",
        "for i, k in enumerate(s,1):\n",
        "    dq.append([i,k])\n",
        "answer  = []\n",
        "while dq:\n",
        "    idx, move = dq.popleft()\n",
        "    answer.append(idx)\n",
        "    if len(dq) == 1:\n",
        "        answer.append(dq.pop()[0])\n",
        "    else:\n",
        "        if move > 0:\n",
        "            for _ in range(move - 1):\n",
        "                dq.append(dq.popleft())\n",
        "        else:\n",
        "            for _ in range(abs(move)):\n",
        "                dq.appendleft(dq.pop())\n",
        "print(*answer)"
      ],
      "metadata": {
        "colab": {
          "base_uri": "https://localhost:8080/"
        },
        "id": "wjrot-UNllp-",
        "outputId": "dfd5f6eb-0061-4663-daeb-65eef9b62bc5"
      },
      "execution_count": null,
      "outputs": [
        {
          "output_type": "execute_result",
          "data": {
            "text/plain": [
              "[1, 3]"
            ]
          },
          "metadata": {},
          "execution_count": 14
        }
      ]
    },
    {
      "cell_type": "markdown",
      "source": [
        "# 1620"
      ],
      "metadata": {
        "id": "GfrKlgeklUud"
      }
    },
    {
      "cell_type": "code",
      "source": [
        "n, m =map(int, input().split())\n",
        "dict={}\n",
        "for i in range(1, n+1):\n",
        "    a = input().rstrip()\n",
        "    dict[i] = a\n",
        "    dict[a] = i\n",
        "\n",
        "for _ in range(m):\n",
        "    quest = input().rstrip()\n",
        "    if quest.isdigit():\n",
        "        print(dict[int(quest)])\n",
        "    else:\n",
        "        print(dict[quest])"
      ],
      "metadata": {
        "colab": {
          "base_uri": "https://localhost:8080/"
        },
        "id": "MM5QupoPlVct",
        "outputId": "b2c5efd1-4122-40dd-952f-db0d95685cf9"
      },
      "execution_count": null,
      "outputs": [
        {
          "name": "stdout",
          "output_type": "stream",
          "text": [
            "26 5\n"
          ]
        }
      ]
    },
    {
      "cell_type": "markdown",
      "source": [
        "## 14225"
      ],
      "metadata": {
        "id": "_GbXBBlRoAwO"
      }
    },
    {
      "cell_type": "code",
      "source": [
        ""
      ],
      "metadata": {
        "id": "K-eEJWEGsgFU"
      },
      "execution_count": null,
      "outputs": []
    }
  ]
}